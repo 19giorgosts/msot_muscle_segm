{
 "cells": [
  {
   "cell_type": "code",
   "execution_count": 18,
   "metadata": {
    "colab": {
     "base_uri": "https://localhost:8080/",
     "height": 164
    },
    "colab_type": "code",
    "id": "ebGKPEW_M_VC",
    "outputId": "79b84ce7-87e0-4c11-ed4d-f1b90d25c0d0"
   },
   "outputs": [
    {
     "name": "stdout",
     "output_type": "stream",
     "text": [
      "/home/giorgostsekas92/msot_muscle_segmentation/MSOT_data\n"
     ]
    }
   ],
   "source": [
    "#from google.colab import drive\n",
    "#drive.mount('/content/gdrive')\n",
    "import warnings\n",
    "warnings.filterwarnings(\"ignore\")\n",
    "\n",
    "target_height = 400\n",
    "target_width = 400\n",
    "\n",
    "## ROI LOAD\n",
    "import scipy.io\n",
    "import os\n",
    "import numpy as np\n",
    "import matplotlib.pyplot as plt\n",
    "import pandas as pd\n",
    "import h5py\n",
    "import time\n",
    "import keras\n",
    "from keras.preprocessing import image# for RGB images\n",
    "import os\n",
    "from tqdm import tqdm\n",
    "from numpy import ndarray as nd\n",
    "from sklearn.model_selection import train_test_split\n",
    "from keras.utils import multi_gpu_model\n",
    "import cv2# cv2.imread() for grayscale images\n",
    "%matplotlib inline\n",
    "import matplotlib.pyplot as plt\n",
    "from mpl_toolkits import axes_grid1\n",
    "path='/home/giorgostsekas92/msot_muscle_segmentation/MSOT_data/'\n",
    "%cd MSOT_data/\n",
    "data='msot_data_baseline'\n",
    "Nimages = len(os.listdir(path+data)) # total images in path"
   ]
  },
  {
   "cell_type": "code",
   "execution_count": 2,
   "metadata": {},
   "outputs": [],
   "source": [
    "def full_data_load():\n",
    "    # load the filenames of all images\n",
    "    img_filenames = np.array(sorted(os.listdir(data)))#sort to alphabetical order\n",
    "    assert len(img_filenames)==Nimages\n",
    "    wells = [f.split('.mat')[0] for f in img_filenames]\n",
    "    wells = np.sort(np.unique(wells))\n",
    "    #channels = np.arange(1,29) ## full channel approach\n",
    "    channels = np.array([6,11,16,24,28])\n",
    "    #%%load the images\n",
    "    X = np.zeros(shape=(Nimages,target_height,target_width,5),dtype='float32')\n",
    "    Y = np.zeros(shape=(Nimages,target_height,target_width,1),dtype='float32')\n",
    "\n",
    "    i=0\n",
    "    for w in  wells:\n",
    "        print('loading image ',i)\n",
    "        j=0\n",
    "        for c in channels:\n",
    "            #print(c)\n",
    "            key = w\n",
    "            img_file = None\n",
    "            for f in img_filenames:\n",
    "                if key in f:\n",
    "                    img_file=f\n",
    "                    break;\n",
    "            #load the image\n",
    "            img = scipy.io.loadmat(data+'/'+img_file)['Recons'][:,:,c-1]\n",
    "            #normalize to 0-1\n",
    "            img=img/img.max()\n",
    "            X[i,:,:,j]=img\n",
    "            j=j+1\n",
    "        img = scipy.io.loadmat(data+'/'+w)['roimask']\n",
    "        #normalize to 0-1\n",
    "        img=img/img.max()\n",
    "        #create binary image from [0,1] to {0,1}, using 0.5 as threshold\n",
    "        img[img<0.5]=0\n",
    "        img[img>=0.5]=1\n",
    "        Y[i,:,:,0]=img\n",
    "        i=i+1\n",
    "    #double-check that the masks are binary\n",
    "    assert np.array_equal(np.unique(Y), [0,1])\n",
    "\n",
    "    #%% split into train, validation and test sets\n",
    "\n",
    "    ix = np.arange(len(wells))\n",
    "\n",
    "    ix_tr, ix_val_ts = train_test_split(ix,train_size=60, random_state=0)\n",
    "    ix_val, ix_ts = train_test_split(ix_val_ts,train_size=20, random_state=0)\n",
    "\n",
    "    #sanity check, no overlap between train, validation and test sets\n",
    "    assert len(np.intersect1d(ix_tr,ix_val))==0\n",
    "    assert len(np.intersect1d(ix_tr,ix_ts))==0\n",
    "    assert len(np.intersect1d(ix_val,ix_ts))==0\n",
    "    print(ix_tr.shape,ix_val.shape,ix_ts.shape)\n",
    "    \n",
    "    X_tr = X[ix_tr,:]\n",
    "    Y_tr = Y[ix_tr,:]\n",
    "    print(X_tr.shape,Y_tr.shape)\n",
    "    X_val = X[ix_val,:]\n",
    "    Y_val = Y[ix_val,:]\n",
    "    print(X_val.shape,Y_val.shape)\n",
    "    X_ts = X[ix_ts,:]\n",
    "    Y_ts = Y[ix_ts,:]\n",
    "    print(X_ts.shape,Y_ts.shape)\n",
    "    fnames_tr = wells[ix_tr].tolist()\n",
    "    fnames_val = wells[ix_val].tolist()\n",
    "    fnames_ts = wells[ix_ts].tolist()\n",
    "\n",
    "    fname_split = ['train']*len(fnames_tr)+['validation']*len(fnames_val)+['test']*len(fnames_ts)\n",
    "    df=pd.DataFrame({'well':fnames_tr+fnames_val+fnames_ts,\n",
    "                  'split':fname_split})\n",
    "\n",
    "    #save to disk\n",
    "    df.to_csv('./training_validation_test_splits.csv',index=False)\n",
    "\n",
    "    np.save('./X_tr.npy',X_tr)\n",
    "    np.save('./X_val.npy',X_val)\n",
    "    np.save('./X_ts.npy',X_ts)\n",
    "    np.save('./Υ_tr.npy',Y_tr)\n",
    "    np.save('./Y_val.npy',Y_val)\n",
    "    np.save('./Y_ts.npy',Y_ts)"
   ]
  },
  {
   "cell_type": "code",
   "execution_count": 21,
   "metadata": {
    "colab": {},
    "colab_type": "code",
    "id": "shxmxc5nYhnW"
   },
   "outputs": [],
   "source": [
    "def add_colorbar(im, aspect=20, pad_fraction=0.5, **kwargs):\n",
    "    \"\"\"\n",
    "    Add a vertical color bar to an image plot.\n",
    "    https://stackoverflow.com/questions/18195758/set-matplotlib-colorbar-size-to-match-graph\n",
    "    \"\"\"\n",
    "    divider = axes_grid1.make_axes_locatable(im.axes)\n",
    "    width = axes_grid1.axes_size.AxesY(im.axes, aspect=1./aspect)\n",
    "    pad = axes_grid1.axes_size.Fraction(pad_fraction, width)\n",
    "    current_ax = plt.gca()\n",
    "    cax = divider.append_axes(\"right\", size=width, pad=pad)\n",
    "    plt.sca(current_ax)\n",
    "    return im.axes.figure.colorbar(im, cax=cax, **kwargs)\n",
    "\n",
    "\n",
    "def data_load(sg):\n",
    "    # load the filenames of all images\n",
    "    img_filenames = np.array(sorted(os.listdir(data)))#sort to alphabetical order\n",
    "    assert len(img_filenames)==Nimages\n",
    "    wells = [f.split('.mat')[0] for f in img_filenames]\n",
    "    wells = np.sort(np.unique(wells))\n",
    "    channels = np.arange(1,29) # full channel approach\n",
    "    #channels = np.array([6,11,16,24,28]) #top5 channel approach \n",
    "    #%%load the images\n",
    "    X = np.zeros(shape=(Nimages,target_height,target_width,28),dtype='float32')\n",
    "    Y = np.zeros(shape=(Nimages,target_height,target_width,1),dtype='float32')\n",
    "\n",
    "    i=0\n",
    "    for w in  wells:\n",
    "        print('loading image ',i)\n",
    "        j=0\n",
    "        for c in channels:\n",
    "            key = w\n",
    "            img_file = None\n",
    "            for f in img_filenames:\n",
    "                if key in f:\n",
    "                    img_file=f\n",
    "                    break;\n",
    "            #cv2 is better for grayscale images, use \n",
    "            #load the image\n",
    "            img = scipy.io.loadmat(data+'/'+img_file)['Recons'][:,:,c-1]\n",
    "            #print(img.shape)\n",
    "            #resize\n",
    "            #img=cv2.resize(img,(target_width,target_height))\n",
    "            #normalize to 0-1\n",
    "            img=img/img.max()\n",
    "            X[i,:,:,c-1]=img\n",
    "            #j=j+1 #top5 channel approach \n",
    "        #print('loading mask')\n",
    "        img = scipy.io.loadmat(data+'/'+w)['roimask']\n",
    "        #resize\n",
    "        #img=cv2.resize(img,(target_width,target_height))\n",
    "        #normalize to 0-1\n",
    "        img=img/img.max()\n",
    "        #create binary image from [0,1] to {0,1}, using 0.5 as threshold\n",
    "        img[img<0.5]=0\n",
    "        img[img>=0.5]=1\n",
    "        Y[i,:,:,0]=img\n",
    "        i=i+1\n",
    "        #print()#add a blank line for readability\n",
    "\n",
    "    #double-check that the masks are binary\n",
    "    assert np.array_equal(np.unique(Y), [0,1])\n",
    "\n",
    "\n",
    "    #%% split into train, validation and test sets\n",
    "\n",
    "    ix = np.arange(len(wells))\n",
    "\n",
    "    ix_tr, ix_val_ts = train_test_split(ix,train_size=80, random_state=0)\n",
    "    ix_val, ix_ts = train_test_split(ix_val_ts,train_size=10, random_state=0)\n",
    "\n",
    "    #sanity check, no overlap between train, validation and test sets\n",
    "    assert len(np.intersect1d(ix_tr,ix_val))==0\n",
    "    assert len(np.intersect1d(ix_tr,ix_ts))==0\n",
    "    assert len(np.intersect1d(ix_val,ix_ts))==0\n",
    "    print(ix_tr.shape,ix_val.shape,ix_ts.shape)\n",
    "    X_val = X[ix_val,:]\n",
    "    Y_val = Y[ix_val,:]\n",
    "\n",
    "    X_ts = X[ix_ts,:]\n",
    "    Y_ts = Y[ix_ts,:]\n",
    "    \n",
    "    ## HERE we initially start with 10% of images only ! suggestive-annotation mode\n",
    "    if len(sg)==0:\n",
    "        ix_annot, ix_unannot = train_test_split(ix_tr,train_size=0.25, random_state=0) # here splitting the set into annotated and unannotated training images (to be annotated subsequently)\n",
    "    if len(sg)!=0:\n",
    "        #initialization using .csv column 'idx'\n",
    "        df_temp=pd.read_csv('./training_validation_test_splits.csv')\n",
    "        ix_annot=df_temp[df_temp['split']=='train']['idx']\n",
    "        df_temp1=pd.read_csv('./training_pool.csv')\n",
    "        ix_unannot=np.array(df_temp1[df_temp1['split']=='train']['idx'])     \n",
    "        \n",
    "        for j in sg:\n",
    "            ix_annot=np.append(ix_annot,j)\n",
    "            #print(ix_annot)\n",
    "            ix_unannot = np.delete(ix_unannot, np.where(ix_unannot == j))\n",
    "            #print(ix_unannot)\n",
    "    print(len(ix_annot))\n",
    "    print(len(ix_unannot))\n",
    "\n",
    "    X_tr=X[ix_annot,:]\n",
    "    Y_tr=Y[ix_annot,:]\n",
    "\n",
    "    X_pool=X[ix_unannot,:]\n",
    "    Y_pool=Y[ix_unannot,:]\n",
    "\n",
    "    fnames_tr = wells[ix_annot].tolist()\n",
    "    fnames_pool = wells[ix_unannot].tolist()\n",
    "    fnames_val = wells[ix_val].tolist()\n",
    "    fnames_ts = wells[ix_ts].tolist()\n",
    "\n",
    "    fname_split = ['train']*len(fnames_tr)+['validation']*len(fnames_val)+['test']*len(fnames_ts)\n",
    "    df=pd.DataFrame({'well':fnames_tr+fnames_val+fnames_ts,\n",
    "                  'split':fname_split,\n",
    "                  'idx': np.append(np.append(ix_annot,ix_val),ix_ts)})\n",
    "\n",
    "    df1=pd.DataFrame({'well':fnames_pool,'split':'train','idx':ix_unannot})\n",
    "\n",
    "\n",
    "    #save to disk\n",
    "    df.to_csv('./training_validation_test_splits.csv',index=False)\n",
    "    df1.to_csv('./training_pool.csv',index=False)\n",
    "\n",
    "    np.save('./X_tr.npy',X_tr)\n",
    "    np.save('./X_pool.npy',X_pool)\n",
    "    np.save('./X_val.npy',X_val)\n",
    "    np.save('./X_ts.npy',X_ts)\n",
    "\n",
    "    np.save('./Y_tr.npy',Y_tr)\n",
    "    np.save('./Y_pool.npy',Y_pool)\n",
    "    np.save('./Y_val.npy',Y_val)\n",
    "    np.save('./Y_ts.npy',Y_ts)"
   ]
  },
  {
   "cell_type": "code",
   "execution_count": 22,
   "metadata": {
    "colab": {},
    "colab_type": "code",
    "id": "SkS0Py55kL1P"
   },
   "outputs": [],
   "source": [
    "#%% set-up the UNET model\n",
    "import numpy as np\n",
    "from keras.models import Model\n",
    "from keras.layers import Input\n",
    "from keras.layers import Activation\n",
    "from keras.layers import BatchNormalization\n",
    "from keras.layers import Dense\n",
    "from keras.layers import Dropout\n",
    "from keras.layers import AveragePooling2D,GlobalAveragePooling2D\n",
    "from keras.layers.convolutional import Conv2D, MaxPooling2D, UpSampling2D, AveragePooling2D, Conv2DTranspose\n",
    "from keras.layers.merge import concatenate\n",
    "\n",
    "def UNET(input):\n",
    "\n",
    "    #model parameters\n",
    "    bnorm_axis = -1\n",
    "    #filter sizes of the original model\n",
    "    nfilters = np.array([64, 128, 256, 512, 1024])\n",
    "\n",
    "    #downsize the UNET for this example.\n",
    "    #the smaller network is faster to train\n",
    "    #and produces excellent results on the dataset at hand\n",
    "    nfilters = (nfilters/8).astype('int')\n",
    "\n",
    "    #input\n",
    "    input_tensor = Input(shape=input.shape[1:], name='input_tensor')\n",
    "\n",
    "    ####################################\n",
    "    # encoder (contracting path)\n",
    "    ####################################\n",
    "    #encoder block 0\n",
    "    e0 = Conv2D(filters=nfilters[0], kernel_size=(3,3), padding='same')(input_tensor)\n",
    "    e0 = BatchNormalization(axis=bnorm_axis)(e0)\n",
    "    e0 = Activation('relu')(e0)\n",
    "    e0 = Conv2D(filters=nfilters[0], kernel_size=(3,3), padding='same')(e0)\n",
    "    e0 = BatchNormalization(axis=bnorm_axis)(e0)\n",
    "    e0 = Activation('relu')(e0)\n",
    "\n",
    "    #encoder block 1\n",
    "    e1 = MaxPooling2D((2, 2))(e0)\n",
    "    e1 = Conv2D(filters=nfilters[1], kernel_size=(3,3), padding='same')(e1)\n",
    "    e1 = BatchNormalization(axis=bnorm_axis)(e1)\n",
    "    e1 = Activation('relu')(e1)\n",
    "    e1 = Conv2D(filters=nfilters[1], kernel_size=(3,3), padding='same')(e1)\n",
    "    e1 = BatchNormalization(axis=bnorm_axis)(e1)\n",
    "    e1 = Activation('relu')(e1)\n",
    "\n",
    "    #encoder block 2\n",
    "    e2 = MaxPooling2D((2, 2))(e1)\n",
    "    e2 = Conv2D(filters=nfilters[2], kernel_size=(3,3), padding='same')(e2)\n",
    "    e2 = BatchNormalization(axis=bnorm_axis)(e2)\n",
    "    e2 = Activation('relu')(e2)\n",
    "    e2 = Conv2D(filters=nfilters[2], kernel_size=(3,3), padding='same')(e2)\n",
    "    e2 = BatchNormalization(axis=bnorm_axis)(e2)\n",
    "    e2 = Activation('relu')(e2)\n",
    "\n",
    "    #encoder block 3\n",
    "    e3 = MaxPooling2D((2, 2))(e2)\n",
    "    e3 = Conv2D(filters=nfilters[3], kernel_size=(3,3), padding='same')(e3)\n",
    "    e3 = BatchNormalization(axis=bnorm_axis)(e3)\n",
    "    e3 = Activation('relu')(e3)\n",
    "    e3 = Conv2D(filters=nfilters[3], kernel_size=(3,3), padding='same')(e3)\n",
    "    e3 = BatchNormalization(axis=bnorm_axis)(e3)\n",
    "    e3 = Activation('relu')(e3)\n",
    "\n",
    "    #encoder block 4\n",
    "    e4 = MaxPooling2D((2, 2))(e3)\n",
    "    e4 = Conv2D(filters=nfilters[4], kernel_size=(3,3), padding='same')(e4)\n",
    "    e4 = BatchNormalization(axis=bnorm_axis)(e4)\n",
    "    e4 = Activation('relu')(e4)\n",
    "    e4 = Conv2D(filters=nfilters[4], kernel_size=(3,3), padding='same')(e4)\n",
    "    e4 = BatchNormalization(axis=bnorm_axis)(e4)\n",
    "    e4 = Activation('relu')(e4)\n",
    "    #e4 = MaxPooling2D((2, 2))(e4)\n",
    "    ####################################\n",
    "    # decoder (expansive path)\n",
    "    ####################################\n",
    "\n",
    "    #decoder block 3\n",
    "    d3=UpSampling2D((2, 2),)(e4)\n",
    "    d3=concatenate([e3,d3], axis=-1)#skip connection\n",
    "    d3=Conv2DTranspose(nfilters[3], (3, 3), padding='same')(d3)\n",
    "    d3=BatchNormalization(axis=bnorm_axis)(d3)\n",
    "    d3=Activation('relu')(d3)\n",
    "    d3=Conv2DTranspose(nfilters[3], (3, 3), padding='same')(d3)\n",
    "    d3=BatchNormalization(axis=bnorm_axis)(d3)\n",
    "    d3=Activation('relu')(d3)\n",
    "\n",
    "    #decoder block 2\n",
    "    d2=UpSampling2D((2, 2),)(d3)\n",
    "    d2=concatenate([e2,d2], axis=-1)#skip connection\n",
    "    d2=Conv2DTranspose(nfilters[2], (3, 3), padding='same')(d2)\n",
    "    d2=BatchNormalization(axis=bnorm_axis)(d2)\n",
    "    d2=Activation('relu')(d2)\n",
    "    d2=Conv2DTranspose(nfilters[2], (3, 3), padding='same')(d2)\n",
    "    d2=BatchNormalization(axis=bnorm_axis)(d2)\n",
    "    d2=Activation('relu')(d2)\n",
    "\n",
    "    #decoder block 1\n",
    "    d1=UpSampling2D((2, 2),)(d2)\n",
    "    d1=concatenate([e1,d1], axis=-1)#skip connection\n",
    "    d1=Conv2DTranspose(nfilters[1], (3, 3), padding='same')(d1)\n",
    "    d1=BatchNormalization(axis=bnorm_axis)(d1)\n",
    "    d1=Activation('relu')(d1)\n",
    "    d1=Conv2DTranspose(nfilters[1], (3, 3), padding='same')(d1)\n",
    "    d1=BatchNormalization(axis=bnorm_axis)(d1)\n",
    "    d1=Activation('relu')(d1)\n",
    "\n",
    "    #decoder block 0\n",
    "    d0=UpSampling2D((2, 2),)(d1)\n",
    "    d0=concatenate([e0,d0], axis=-1)#skip connection\n",
    "    d0=Conv2DTranspose(nfilters[0], (3, 3), padding='same')(d0)\n",
    "    d0=BatchNormalization(axis=bnorm_axis)(d0)\n",
    "    d0=Activation('relu')(d0)\n",
    "    d0=Conv2DTranspose(nfilters[0], (3, 3), padding='same')(d0)\n",
    "    d0=BatchNormalization(axis=bnorm_axis)(d0)\n",
    "    d0=Activation('relu')(d0)\n",
    "\n",
    "    #output\n",
    "    out_class = Dense(1)(d0)\n",
    "    out_class = Activation('sigmoid',name='output')(out_class)\n",
    "\n",
    "    #create and compile the model\n",
    "    model=Model(inputs=input_tensor,outputs=out_class)\n",
    "    model.compile(loss={'output':'binary_crossentropy'},\n",
    "                  metrics={'output':'accuracy'},\n",
    "                  optimizer='adam')\n",
    "    #model.summary()\n",
    "    #plot_model(model, to_file='unet_model.png', show_shapes=True, show_layer_names=True)\n",
    "    return model"
   ]
  },
  {
   "cell_type": "code",
   "execution_count": 23,
   "metadata": {
    "colab": {},
    "colab_type": "code",
    "id": "266nYtTmFdsM"
   },
   "outputs": [],
   "source": [
    "#UNET with dropout layers (p=0.5)\n",
    "def UNET_mc(input):\n",
    "\n",
    "    #model parameters\n",
    "    bnorm_axis = -1\n",
    "    #filter sizes of the original model\n",
    "    nfilters = np.array([64, 128, 256, 512, 1024])\n",
    "\n",
    "    #downsize the UNET for this example.\n",
    "    #the smaller network is faster to train\n",
    "    #and produces excellent results on the dataset at hand\n",
    "    nfilters = (nfilters/8).astype('int')\n",
    "\n",
    "    #input\n",
    "    input_tensor = Input(shape=input.shape[1:], name='input_tensor')\n",
    "\n",
    "    ####################################\n",
    "    # encoder (contracting path)\n",
    "    ####################################\n",
    "    #encoder block 0\n",
    "    e0 = Conv2D(filters=nfilters[0], kernel_size=(3,3), padding='same')(input_tensor)\n",
    "    e0 = BatchNormalization(axis=bnorm_axis)(e0)\n",
    "    e0 = Activation('relu')(e0)\n",
    "    e0 = Conv2D(filters=nfilters[0], kernel_size=(3,3), padding='same')(e0)\n",
    "    e0 = BatchNormalization(axis=bnorm_axis)(e0)\n",
    "    e0 = Activation('relu')(e0)\n",
    "\n",
    "    #encoder block 1\n",
    "    e1 = MaxPooling2D((2, 2))(e0)\n",
    "    e1 = Conv2D(filters=nfilters[1], kernel_size=(3,3), padding='same')(e1)\n",
    "    e1 = BatchNormalization(axis=bnorm_axis)(e1)\n",
    "    e1 = Activation('relu')(e1)\n",
    "    e1 = Conv2D(filters=nfilters[1], kernel_size=(3,3), padding='same')(e1)\n",
    "    e1 = BatchNormalization(axis=bnorm_axis)(e1)\n",
    "    e1 = Activation('relu')(e1)\n",
    "\n",
    "    #encoder block 2\n",
    "    e2 = MaxPooling2D((2, 2))(e1)\n",
    "    e2 = Conv2D(filters=nfilters[2], kernel_size=(3,3), padding='same')(e2)\n",
    "    e2 = BatchNormalization(axis=bnorm_axis)(e2)\n",
    "    e2 = Activation('relu')(e2)\n",
    "    e2 = Conv2D(filters=nfilters[2], kernel_size=(3,3), padding='same')(e2)\n",
    "    e2 = BatchNormalization(axis=bnorm_axis)(e2)\n",
    "    e2 = Activation('relu')(e2)\n",
    "    e2 = Dropout(0.5)(e2,training=True)\n",
    "\n",
    "    #encoder block 3\n",
    "    e3 = MaxPooling2D((2, 2))(e2)\n",
    "    e3 = Conv2D(filters=nfilters[3], kernel_size=(3,3), padding='same')(e3)\n",
    "    e3 = BatchNormalization(axis=bnorm_axis)(e3)\n",
    "    e3 = Activation('relu')(e3)\n",
    "    e3 = Conv2D(filters=nfilters[3], kernel_size=(3,3), padding='same')(e3)\n",
    "    e3 = BatchNormalization(axis=bnorm_axis)(e3)\n",
    "    e3 = Activation('relu')(e3)\n",
    "    e3 = Dropout(0.5)(e3,training=True)\n",
    "\n",
    "    #encoder block 4\n",
    "    e4 = MaxPooling2D((2, 2))(e3)\n",
    "    e4 = Conv2D(filters=nfilters[4], kernel_size=(3,3), padding='same')(e4)\n",
    "    e4 = BatchNormalization(axis=bnorm_axis)(e4)\n",
    "    e4 = Activation('relu')(e4)\n",
    "    e4 = Conv2D(filters=nfilters[4], kernel_size=(3,3), padding='same')(e4)\n",
    "    e4 = BatchNormalization(axis=bnorm_axis)(e4)\n",
    "    e4 = Activation('relu')(e4)\n",
    "    #e4 = MaxPooling2D((2, 2))(e4)\n",
    "    e4 = Dropout(0.5)(e4,training=True)\n",
    "    ####################################\n",
    "    # decoder (expansive path)\n",
    "    ####################################\n",
    "\n",
    "    #decoder block 3\n",
    "    d3=UpSampling2D((2, 2),)(e4)\n",
    "    d3=concatenate([e3,d3], axis=-1)#skip connection\n",
    "    d3=Conv2DTranspose(nfilters[3], (3, 3), padding='same')(d3)\n",
    "    d3=BatchNormalization(axis=bnorm_axis)(d3)\n",
    "    d3=Activation('relu')(d3)\n",
    "    d3=Conv2DTranspose(nfilters[3], (3, 3), padding='same')(d3)\n",
    "    d3=BatchNormalization(axis=bnorm_axis)(d3)\n",
    "    d3=Activation('relu')(d3)\n",
    "    d3 = Dropout(0.5)(d3,training=True)\n",
    "\n",
    "    #decoder block 2\n",
    "    d2=UpSampling2D((2, 2),)(d3)\n",
    "    d2=concatenate([e2,d2], axis=-1)#skip connection\n",
    "    d2=Conv2DTranspose(nfilters[2], (3, 3), padding='same')(d2)\n",
    "    d2=BatchNormalization(axis=bnorm_axis)(d2)\n",
    "    d2=Activation('relu')(d2)\n",
    "    d2=Conv2DTranspose(nfilters[2], (3, 3), padding='same')(d2)\n",
    "    d2=BatchNormalization(axis=bnorm_axis)(d2)\n",
    "    d2=Activation('relu')(d2)\n",
    "    d2 = Dropout(0.5)(d2,training=True)\n",
    "\n",
    "    #decoder block 1\n",
    "    d1=UpSampling2D((2, 2),)(d2)\n",
    "    d1=concatenate([e1,d1], axis=-1)#skip connection\n",
    "    d1=Conv2DTranspose(nfilters[1], (3, 3), padding='same')(d1)\n",
    "    d1=BatchNormalization(axis=bnorm_axis)(d1)\n",
    "    d1=Activation('relu')(d1)\n",
    "    d1=Conv2DTranspose(nfilters[1], (3, 3), padding='same')(d1)\n",
    "    d1=BatchNormalization(axis=bnorm_axis)(d1)\n",
    "    d1=Activation('relu')(d1)\n",
    "    d1 = Dropout(0.5)(d1,training=True)\n",
    "\n",
    "    #decoder block 0\n",
    "    d0=UpSampling2D((2, 2),)(d1)\n",
    "    d0=concatenate([e0,d0], axis=-1)#skip connection\n",
    "    d0=Conv2DTranspose(nfilters[0], (3, 3), padding='same')(d0)\n",
    "    d0=BatchNormalization(axis=bnorm_axis)(d0)\n",
    "    d0=Activation('relu')(d0)\n",
    "    d0=Conv2DTranspose(nfilters[0], (3, 3), padding='same')(d0)\n",
    "    d0=BatchNormalization(axis=bnorm_axis)(d0)\n",
    "    d0=Activation('relu')(d0)\n",
    "\n",
    "    #output\n",
    "    out_class = Dense(1)(d0)\n",
    "    out_class = Activation('sigmoid',name='output')(out_class)\n",
    "\n",
    "    #create and compile the model\n",
    "    model=Model(inputs=input_tensor,outputs=out_class)\n",
    "    model.compile(loss={'output':'binary_crossentropy'},\n",
    "                  metrics={'output':'accuracy'},\n",
    "                  optimizer='adam')\n",
    "    #plot_model(model, to_file='unet_model.png', show_shapes=True, show_layer_names=True)\n",
    "    return model"
   ]
  },
  {
   "cell_type": "code",
   "execution_count": 24,
   "metadata": {
    "colab": {},
    "colab_type": "code",
    "id": "pGoFHSPxcWZx"
   },
   "outputs": [],
   "source": [
    "#create vgg-style cnn for segmentation quality estimation\n",
    "\n",
    "\n",
    "def DiceNet(input1):\n",
    "    \n",
    "    #model parameters\n",
    "    bnorm_axis = -1\n",
    "    #filter sizes of the original model\n",
    "    nfilters = np.array([32, 64, 128, 256])\n",
    "\n",
    "    #inputs\n",
    "    input_tensor = Input(shape=input1.shape[1:], name='input')\n",
    "    \n",
    "        #Conv block #1\n",
    "    x = Conv2D(filters=nfilters[0], kernel_size=(3,3), padding='same')(input_tensor)\n",
    "    x = BatchNormalization(axis=bnorm_axis)(x)\n",
    "    x = Activation('relu')(x)\n",
    "    x = Conv2D(filters=nfilters[0], kernel_size=(3,3), padding='same')(x)\n",
    "    x = BatchNormalization(axis=bnorm_axis)(x)\n",
    "    x = Activation('relu')(x)\n",
    "\n",
    "    #max-pooling #1 \n",
    "    x = MaxPooling2D((2, 2))(x)\n",
    "\n",
    "    #Conv block #2\n",
    "    x = Conv2D(filters=nfilters[1], kernel_size=(3,3), padding='same')(x)\n",
    "    x = BatchNormalization(axis=bnorm_axis)(x)\n",
    "    x = Activation('relu')(x)\n",
    "    x = Conv2D(filters=nfilters[1], kernel_size=(3,3), padding='same')(x)\n",
    "    x = BatchNormalization(axis=bnorm_axis)(x)\n",
    "    x = Activation('relu')(x)\n",
    "\n",
    "    #max-pooling #2\n",
    "    x = MaxPooling2D((2, 2))(x)\n",
    "\n",
    "    #Conv block #3\n",
    "    x = Conv2D(filters=nfilters[2], kernel_size=(3,3), padding='same')(x)\n",
    "    x = BatchNormalization(axis=bnorm_axis)(x)\n",
    "    x = Activation('relu')(x)\n",
    "    x = Conv2D(filters=nfilters[2], kernel_size=(3,3), padding='same')(x)\n",
    "    x = BatchNormalization(axis=bnorm_axis)(x)\n",
    "    x = Activation('relu')(x)\n",
    "\n",
    "    #max-pooling #3\n",
    "    x = MaxPooling2D((2, 2))(x)\n",
    "\n",
    "    #Conv block #4\n",
    "    x = Conv2D(filters=nfilters[3], kernel_size=(3,3), padding='same')(x)\n",
    "    x = BatchNormalization(axis=bnorm_axis)(x)\n",
    "    x = Activation('relu')(x)\n",
    "    x = Conv2D(filters=nfilters[3], kernel_size=(3,3), padding='same')(x)\n",
    "    x = BatchNormalization(axis=bnorm_axis)(x)\n",
    "    x = Activation('relu')(x)\n",
    "\n",
    "    #global average pooling\n",
    "    x = GlobalAveragePooling2D()(x)\n",
    "\n",
    "    #output\n",
    "    x = Dense(1)(x)\n",
    "    output = Activation('sigmoid',name='output')(x)\n",
    "    #create and compile the model\n",
    "    model=Model(inputs=input_tensor,outputs=output)\n",
    "    model.summary()\n",
    "    model.compile(loss={'output':'mse'}, optimizer='adam')\n",
    "\n",
    "    return model"
   ]
  },
  {
   "cell_type": "code",
   "execution_count": 25,
   "metadata": {
    "colab": {},
    "colab_type": "code",
    "id": "coq0gNz0kWG8"
   },
   "outputs": [],
   "source": [
    "def uncertainty_calc(X,model,bz,sample_times):\n",
    "    #MC Dropout implementation\n",
    "    \n",
    "    for batch_id in tqdm(range(X.shape[0] // bz)):\n",
    "        # initialize our predictions\n",
    "        Y_hat = np.zeros(shape=(sample_times,X.shape[0],target_height,target_width,1),dtype='float32')\n",
    "        #print(Y_ts_hat.shape) \n",
    "        \n",
    "        start = time.time() # MC dropout is starting !!\n",
    "        \n",
    "        for sample_id in range(sample_times):\n",
    "            # predict stochastic dropout model T times\n",
    "            Y_hat[sample_id] = model.predict(X, bz)\n",
    "        # average over all passes\n",
    "        prediction = Y_hat.mean(axis=0)       \n",
    "        uncertainty_mc= -(prediction*np.log2(prediction) + (1-prediction)*np.log2(1-prediction)) ## entropy = -(p*np.log2(p) + (1-p)*np.log(1-p))\n",
    "        end = time.time()        \n",
    "        chkpnt=(end-start) # this is how long it lasts for all images of the test set, for MC Dropout-based Uncertainty Estimation\n",
    "        \n",
    "        #%% convert predictedυγιείς mask to binary\n",
    "        threshold=0.5\n",
    "        prediction[prediction<threshold]=0\n",
    "        prediction[prediction>=threshold]=1\n",
    "        print(\"\\n Time needed for MC Dropout-based Uncertainty Estimation  \",chkpnt)\n",
    "\n",
    "    return prediction,uncertainty_mc\n",
    "\n",
    "def dice2D(a,b):\n",
    "    intersection = np.sum(a[b==1])\n",
    "    dice = (2*intersection)/(np.sum(a)+np.sum(b))\n",
    "    if (np.sum(a)+np.sum(b))==0: #black/empty masks\n",
    "        dice=1.0\n",
    "    return(dice)"
   ]
  },
  {
   "cell_type": "code",
   "execution_count": 35,
   "metadata": {
    "colab": {},
    "colab_type": "code",
    "id": "7XJfVb2OkZrx"
   },
   "outputs": [],
   "source": [
    "# -*- coding: utf-8 -*-\n",
    "\n",
    "#if used on a non-GUI server ######\n",
    "import matplotlib\n",
    "matplotlib.use('Agg')\n",
    "###################################\n",
    "\n",
    "import numpy as np\n",
    "#import pandas as pd\n",
    "import matplotlib.pyplot as plt\n",
    "#import h5py\n",
    "import sys\n",
    "#from model import *\n",
    "#from keras.utils.vis_utils import plot_model\n",
    "\n",
    "from keras.callbacks import EarlyStopping\n",
    "from keras.callbacks import ModelCheckpoint\n",
    "from keras.callbacks import CSVLogger\n",
    "import time\n",
    "import skimage.transform\n",
    "\n",
    "def rotateT(X,angle):\n",
    "    #rotate image tensor, TF order, single channel\n",
    "    X_rot = np.zeros_like(X)\n",
    "    #repeat for every channel\n",
    "    for ch in np.arange(X.shape[-1]):\n",
    "        #print('channel',ch)\n",
    "        #repeat for every image\n",
    "        for i in np.arange(X.shape[0]):\n",
    "            #print('image',i)\n",
    "            X_rot[i,:,:,ch] = skimage.transform.rotate(X[i,:,:,ch],angle=angle,resize=False,preserve_range=True,mode='edge')\n",
    "    return(X_rot)\n",
    "\n",
    "def shiftT(X,dx,dy):\n",
    "    #rotate image tensor, TF order, single channel\n",
    "    X_shift = np.zeros_like(X)\n",
    "    #repeat for every image\n",
    "    tform = skimage.transform.SimilarityTransform(translation=(dx, dy))\n",
    "    for i in np.arange(X.shape[0]):\n",
    "        #print('image',i)\n",
    "        X_shift[i,:,:,:] = skimage.transform.warp(X[i,:,:,:],tform,mode='edge')\n",
    "    return(X_shift)\n",
    "\n",
    "#%%\n",
    "def aug_generator(X_raw=None,Y_raw=None,\n",
    "                  batch_size=4,\n",
    "                  flip_axes=['x','y'],\n",
    "                  rotation_angles=[5,15]):\n",
    "                  #noise_gaussian_mean=0,\n",
    "                  #noise_gaussian_var=1e-2):\n",
    "                  #noise_snp_amount=0.05):\n",
    "    \n",
    "    batch_size=batch_size#recommended batch size    \n",
    "    Ndatapoints = len(X_raw)\n",
    "    #Naugmentations=4 #original + flip, rotation, noise_gaussian, noise_snp\n",
    "    \n",
    "    while(True):\n",
    "        #print('start!')\n",
    "        ix_randomized = np.random.choice(Ndatapoints,size=Ndatapoints,replace=False)\n",
    "        ix_batches = np.array_split(ix_randomized,int(Ndatapoints/batch_size))\n",
    "        for b in range(len(ix_batches)):\n",
    "            #print('step',b,'of',len(ix_batches))\n",
    "            ix_batch = ix_batches[b]\n",
    "            current_batch_size=len(ix_batch)\n",
    "            #print('size of current batch',current_batch_size)\n",
    "            #print(ix_batch)\n",
    "            X_batch = X_raw[ix_batch,:,:,:].copy()#.copy() to leave original unchanged\n",
    "            Y_batch = Y_raw[ix_batch,:,:,:].copy()#.copy() to leave original unchanged\n",
    "            \n",
    "            #now do augmentation on images and masks\n",
    "            #iterate over each image in the batch\n",
    "            for img in range(current_batch_size):\n",
    "                #print('current_image',img,': ',ix_batch[img])\n",
    "                do_aug=np.random.choice([True, False],size=1)[0]#50-50 chance\n",
    "                if do_aug == True:\n",
    "                    #print('flipping',img)\n",
    "                    flip_axis_selected = np.random.choice(flip_axes,1,replace=False)[0]\n",
    "                    if flip_axis_selected == 'x':\n",
    "                        flip_axis_selected = 1\n",
    "                    else: # 'y'\n",
    "                        flip_axis_selected = 0\n",
    "                    #flip an axis\n",
    "                    X_batch[img,:,:,:] = np.flip(X_batch[img,:,:,:],axis=flip_axis_selected)\n",
    "                    Y_batch[img,:,:,:] = np.flip(Y_batch[img,:,:,:],axis=flip_axis_selected)\n",
    "                    #print('Flip on axis',flip_axis_selected)\n",
    "                \n",
    "                do_aug=np.random.choice([True, False],size=1)[0]#50-50 chance\n",
    "                if do_aug == True:\n",
    "                    #print('rotating',img)\n",
    "                    rotation_angle_selected = np.random.uniform(low=rotation_angles[0],high=rotation_angles[1],size=1)[0]\n",
    "                    #rotate the image\n",
    "                    X_batch[img,:,:,:] = rotateT(np.expand_dims(X_batch[img,:,:,:],axis=0),angle=rotation_angle_selected)\n",
    "                    Y_batch[img,:,:,:] = rotateT(np.expand_dims(Y_batch[img,:,:,:],axis=0),angle=rotation_angle_selected)\n",
    "                    #print('Rotate angle',rotation_angle_selected)\n",
    "            yield(X_batch,Y_batch)\n",
    "            #print('step end after',b,'of',len(ix_batches))\n",
    "            \n",
    "            \n",
    "def train(mc=False):\n",
    "    \n",
    "    from keras import backend as K\n",
    "    K.clear_session()\n",
    "    model={}\n",
    "    #load the data from already split files\n",
    "    X_tr = np.load('./X_tr.npy')\n",
    "    Y_tr = np.load('./Υ_tr.npy')\n",
    "    print('START TRAINING......:')\n",
    "    print('Training with '+str(X_tr.shape[0])+' images')\n",
    "    X_val = np.load('./X_val.npy')\n",
    "    Y_val = np.load('./Y_val.npy')\n",
    "    print('Validating with '+str(X_val.shape[0])+' images')\n",
    "    #%% train the model\n",
    "    filepath = 'unet_div8_495K_'\n",
    "\n",
    "    #save the model when val_loss improves during training\n",
    "    #hFile = h5py.File('./trained_models/'+filepath+'_'+mode+'.hdf5')\n",
    "    checkpoint = ModelCheckpoint('./trained_models/'+filepath+str(X_tr.shape[0])+'.hdf5', monitor='val_loss', verbose=1, save_best_only=True, mode='auto')\n",
    "    \n",
    "    #save training progress in a .csv\n",
    "    csvlog = CSVLogger('./trained_models/'+filepath+str(X_tr.shape[0])+'_train_log.csv',append=True)\n",
    "    #stop training if no improvement has been seen on val_loss for a while\n",
    "    early_stopping = EarlyStopping(monitor='val_loss', min_delta=0, patience=12)\n",
    "    batch_size=3\n",
    "    \n",
    "    #initialize the generator\n",
    "    gen_train = aug_generator(X_tr,Y_tr,batch_size=batch_size,flip_axes=[1,2])\n",
    "    #split the array and see how many splits there are to determine #steps\n",
    "    steps_per_epoch_tr = len(np.array_split(np.zeros(len(X_tr)),int(len(X_tr)/batch_size)))\n",
    "    \n",
    "    ## Step 1: Training UNET\n",
    "    \n",
    "    # Setup the model\n",
    "    if (mc==False): \n",
    "        print(\"Training simple Unet\")\n",
    "        \n",
    "        model=UNET(X_tr)\n",
    "    else:\n",
    "        print(\"Training Unet-mcdropout\")\n",
    "        print(X_tr.shape)\n",
    "        model=UNET_mc(X_tr)\n",
    "        \n",
    "    #actually do the training\n",
    "    model.fit_generator(gen_train,\n",
    "                          steps_per_epoch=steps_per_epoch_tr,#the generator internally goes over the entire dataset in one iteration\n",
    "                          validation_data=(X_val,Y_val),\n",
    "                          epochs=80,\n",
    "                          verbose=2,\n",
    "                          initial_epoch=0,\n",
    "                          callbacks=[checkpoint, csvlog, early_stopping])\n",
    "    \n",
    "    if mc==True:\n",
    "        predictions,uncertainty_mc=uncertainty_calc(X_tr,model,1,sample_times=20)\n",
    "        val_predictions,val_uncertainty_mc=uncertainty_calc(X_val,model,1,sample_times=20)\n",
    "        \n",
    "        ## Step 2: Training DiceNet\n",
    "        \n",
    "        merged=np.concatenate((X_tr,predictions,uncertainty_mc),axis=-1)\n",
    "        val_merged=np.concatenate((X_val,val_predictions,val_uncertainty_mc),axis=-1)\n",
    "\n",
    "        model_dice=DiceNet(merged)\n",
    "        #save the model when val_loss improves during training\n",
    "        #f = h5py.File('./trained_models/'+filepath+'_'+mode+'DiceNet.hdf5')\n",
    "        checkpoint = ModelCheckpoint('./trained_models/'+filepath+str(X_tr.shape[0])+'_DiceNet.hdf5', monitor='val_loss', verbose=1, save_best_only=True, mode='auto')\n",
    "        #f.close()\n",
    "        #save training progress in a .csv\n",
    "        csvlog = CSVLogger('./trained_models/'+filepath+str(X_tr.shape[0])+'_DiceNet_train_log.csv',append=True)\n",
    "        #%% calculate dice\n",
    "        dice = []\n",
    "        dice_val=[]\n",
    "        N=len(X_tr)\n",
    "        for i in range(N):\n",
    "            dice.append(dice2D(Y_tr[i,:,:,0],predictions[i,:,:,0]))\n",
    "        #gen_train_diceNet = aug_generator(merged,np.median(dice),batch_size=batch_size,flip_axes=[1,2])\n",
    "        d=np.array(dice)\n",
    "        d = d.reshape(-1, 1)\n",
    "        print(d.shape)\n",
    "        N=len(X_val)\n",
    "        for i in range(N):\n",
    "            dice_val.append(dice2D(Y_val[i,:,:,0],val_predictions[i,:,:,0]))\n",
    "        #gen_train_diceNet = aug_generator(merged,np.median(dice),batch_size=batch_size,flip_axes=[1,2])\n",
    "        #d_val=np.array(dice_val)\n",
    "        #d_val = d_val.reshape(-1, 1)\n",
    "        model_dice.fit(merged,d,\n",
    "                          #steps_per_epoch=steps_per_epoch_tr,#the generator internally goes over the entire dataset in one iteration\n",
    "                          validation_data=(val_merged,dice_val),\n",
    "                          epochs=60,\n",
    "                          verbose=2,\n",
    "                          initial_epoch=0,\n",
    "                          callbacks=[checkpoint, csvlog, early_stopping])\n",
    "        del model_dice\n",
    "        hFile = h5py.File('./trained_models/'+filepath+str(X_tr.shape[0])+'.hdf5','r')\n",
    "        hFile.close()\n",
    "        print(hFile.__bool__())\n",
    "        hFile = h5py.File('./trained_models/'+filepath+str(X_tr.shape[0])+'_DiceNet.hdf5','r')\n",
    "        hFile.close()\n",
    "        print(hFile.__bool__())\n",
    "        #print(X_tr.shape,predictions.shape,uncertainty_mc.shape)\n",
    "    del model\n",
    "    #print(hFile.__bool__())"
   ]
  },
  {
   "cell_type": "code",
   "execution_count": 36,
   "metadata": {
    "colab": {},
    "colab_type": "code",
    "id": "L7KqWpTcFjSb"
   },
   "outputs": [],
   "source": [
    "import numpy as np\n",
    "import pandas as pd\n",
    "import matplotlib.pyplot as plt\n",
    "from keras.models import load_model\n",
    "\n",
    "  \n",
    "def eval(mode):  ## evaluation function for simple UNet\n",
    "    if mode=='pool':\n",
    "        X = np.load('./X_pool.npy')\n",
    "        Y = np.load('./Y_pool.npy')#.astype('float32')#to match keras predicted mask\n",
    "    elif mode=='test':\n",
    "        X = np.load('./X_ts.npy')\n",
    "        Y = np.load('./Y_ts.npy')\n",
    "    X_tr = np.load('./X_tr.npy') # just to set the correct name based on the size\n",
    "    print('START EVALUATION......:')\n",
    "    N=len(X)\n",
    "\n",
    "    df = pd.read_csv('./training_validation_test_splits.csv')\n",
    "    well_ts = df[df['split']=='test']['well'].tolist()\n",
    "    #Y_ts is a binary mask\n",
    "    #np.unique(Y_ts)\n",
    "    #array([ 0.,  1.], dtype=float32)\n",
    "\n",
    "    #%% get predicted masks for test set\n",
    "    model = load_model('./trained_models/unet_div8_495K_'+str(X_tr.shape[0])+'.hdf5')\n",
    "    print(\"Loading model: \"+'./trained_models/unet_div8_495K_'+str(X_tr.shape[0])+'.hdf5')\n",
    "    \n",
    "    start = time.time()\n",
    "    Y_hat = model.predict(X,batch_size=1)\n",
    "    #print(Y_ts_hat.shape)\n",
    "    #max_softmax=softmaxEquation(p_hat)\n",
    "    end = time.time()\n",
    "    chkpnt=(end-start) # this is how long it lasts for all images of the test set, for Maximum Softmax Probability-based Uncertainty Estimation\n",
    "    print(\"\\n Time needed for Maximum Softmax Probability-based Uncertainty Estimation  \",chkpnt)\n",
    "\n",
    "    #%% convert predicted mask to binary\n",
    "    threshold=0.5\n",
    "    Y_hat[Y_hat<threshold]=0\n",
    "    Y_hat[Y_hat>=threshold]=1\n",
    "     \n",
    "    #%% calculate dice\n",
    "    dice = []\n",
    "    for i in range(N):\n",
    "        dice.append(dice2D(Y[i,:,:,0],Y_hat[i,:,:,0]))\n",
    "    #dice = np.array(dice)\n",
    "    return Y_hat,dice\n",
    "\n",
    "def eval_mc(mode,sample_times=5): # evaluation function for MC Dropout UNet\n",
    "    print('START EVALUATION......:')\n",
    "    if mode=='pool':\n",
    "        X = np.load('./X_pool.npy')\n",
    "    elif mode=='test':\n",
    "        X = np.load('./X_ts.npy')\n",
    "        \n",
    "    X_tr = np.load('./X_tr.npy')  # just to set the correct name based on the size\n",
    "\n",
    "    print(X.shape)\n",
    "    Ntest=len(X)\n",
    "    df = pd.read_csv('./training_validation_test_splits.csv')\n",
    "    well_ts = df[df['split']=='test']['well'].tolist()\n",
    "  \n",
    "    #%% get predicted masks for test set\n",
    "    print(\"Loading model: \"+'./trained_models/unet_div8_495K_'+str(X_tr.shape[0])+'.hdf5')\n",
    "    f = h5py.File('./trained_models/unet_div8_495K_'+str(X_tr.shape[0])+'.hdf5')\n",
    "    f.close()\n",
    "    model = load_model('./trained_models/unet_div8_495K_'+str(X_tr.shape[0])+'.hdf5')\n",
    "    #print(f.__bool__())\n",
    "    \n",
    "    pred,uncertainty_mc=uncertainty_calc(X,model,1,sample_times)\n",
    "    return pred,uncertainty_mc\n",
    "\n",
    "def eval_DiceNet(mode):  # evaluation function for the DiceNet network\n",
    "    if mode=='pool':\n",
    "        X = np.load('./X_pool.npy')\n",
    "    elif mode=='test':\n",
    "        X = np.load('./X_ts.npy')\n",
    "        \n",
    "    X_tr = np.load('./X_tr.npy')  # just to set the correct name based on the size\n",
    "\n",
    "    #%% get predicted masks for test set\n",
    "    print(\"Loading model: \"+'./trained_models/unet_div8_495K_'+str(X_tr.shape[0])+'_DiceNet.hdf5')\n",
    "    #f = h5py.File('./trained_models/unet_div8_495K_'+str(X_tr.shape[0])+'_DiceNet.hdf5')\n",
    "    #f.close()\n",
    "    model = load_model('./trained_models/unet_div8_495K_'+str(X_tr.shape[0])+'_DiceNet.hdf5')\n",
    "    #print(f.__bool__())\n",
    "    p,uncertainty_mc = eval_mc(mode)\n",
    "    merged=np.concatenate((X,p,uncertainty_mc),axis=-1)\n",
    "    qest=model.predict(merged)\n",
    "    return qest"
   ]
  },
  {
   "cell_type": "code",
   "execution_count": 37,
   "metadata": {
    "colab": {},
    "colab_type": "code",
    "id": "8jaRw7z5Fvbx"
   },
   "outputs": [],
   "source": [
    "import random as r\n",
    "def sample_prediction(dc,sample_size,random=False):\n",
    "    dc=np.asarray(dc, dtype=np.float32)\n",
    "    dc = dc.ravel()\n",
    "    df = pd.read_csv('./training_pool.csv')\n",
    "    sug_annot=[]\n",
    "    if random==True: # receives random samples and feeds them to the RANDOM - annotation procedure \n",
    "        #while len(sug_annot)<6:\n",
    "        #idx=r.randint(0,df.shape[0])\n",
    "        #if ((df['idx']==idx).any())==True:\n",
    "        #    indices=df['idx'].iloc[idx]\n",
    "        #    sug_annot.append(indices)\n",
    "        idx = np.argpartition(dc, sample_size)\n",
    "        idx=r.sample(list(idx),sample_size)\n",
    "        indices=df['idx'].loc[idx]\n",
    "        for i in range (len(indices)):\n",
    "                     sug_annot.append(indices.iloc[i])\n",
    "    else:     # predicts worse n (n=sample_size) samples in the X_pool set, then appends their indices in a list for future annotation\n",
    "        idx = np.argpartition(dc, -sample_size)[-sample_size:]\n",
    "        indices=df['idx'].loc[idx]\n",
    "        for i in range (indices.shape[0]):\n",
    "             sug_annot.append(indices.iloc[i])\n",
    "    return sug_annot\n",
    "\n",
    "def dice_pred(p,Y_ts):\n",
    "    d=[]\n",
    "    for i in range(Y_ts.shape[0]):\n",
    "    #plt.imshow(Y_ts[0,:,:,0])\n",
    "    #plt.show()\n",
    "    #plt.imshow(p[0,:,:,0])\n",
    "    #plt.show()\n",
    "    #plt.imshow(unc[0,:,:,0])\n",
    "    #plt.show()\n",
    "        d.append((dice2D(p[i,:,:,0],Y_ts[i,:,:,0])))\n",
    "    return d"
   ]
  },
  {
   "cell_type": "code",
   "execution_count": 38,
   "metadata": {
    "colab": {},
    "colab_type": "code",
    "id": "XQPBhReRmEju"
   },
   "outputs": [],
   "source": [
    "def unc_plot(X_ts,Y_ts,p,uncertainty_mc,perc):\n",
    "    num = 5\n",
    "    for i in range(num):\n",
    "        #sample = np.random.randint(0,len(X_ts[i,:,:,0]))\n",
    "        #image = X_predict[sample]\n",
    "        #gt    = Y_predict[sample]\n",
    "\n",
    "        #gt    = np.squeeze(gt)\n",
    "\n",
    "        #n = np.random.randint(0,num)\n",
    "        fig, ax = plt.subplots(2,2,figsize=(12,6))\n",
    "\n",
    "        fig.suptitle('Dice: {:.2f}'.format((dice2D(p[i,:,:,0],Y_ts[i,:,:,0]))), y=1.0, fontsize=14)\n",
    "\n",
    "        cax0 = ax[0,0].imshow(X_ts[i,:,:,0])\n",
    "        plt.colorbar(cax0, ax=ax[0,0])\n",
    "        ax[0,0].set_title('weight mask 1')\n",
    "\n",
    "        #cax1 = ax[0,1].imshow(segm[i,:,:,0])\n",
    "        #plt.colorbar(cax1, ax=ax[0,1])\n",
    "        #ax[0,1].set_title('Max Probability')\n",
    "        #ax[0,1].set_ylabel('Prediction')\n",
    "\n",
    "        cax2 = ax[0,1].imshow(p[i,:,:,0])\n",
    "        plt.colorbar(cax2, ax=ax[0,1])\n",
    "        ax[0,1].set_title('MC-Dropout')\n",
    "        ax[0,1].set_ylabel('Prediction')\n",
    "\n",
    "        cax3 = ax[1,0].imshow(Y_ts[i,:,:,0])\n",
    "        plt.colorbar(cax3, ax=ax[1,0])\n",
    "        ax[1,0].set_title('Ground truth')\n",
    "\n",
    "        #cax4 = ax[1,1].imshow(max_softmax[i,:,:,0])\n",
    "        #plt.colorbar(cax4, ax=ax[1,1])\n",
    "        #ax[1,1].set_xlabel('Max Probability')\n",
    "        #ax[1,1].set_ylabel('Uncertainty')\n",
    "\n",
    "        cax5 = ax[1,1].imshow(uncertainty_mc[i,:,:,0])\n",
    "        plt.colorbar(cax5,ax=ax[1,1])\n",
    "        #ax[1,1].set_title('MC-Dropout')\n",
    "        ax[1,1].set_ylabel('Uncertainty')\n",
    "\n",
    "        #for a in ax.flatten(): a.axis('off')\n",
    "        #for a in ax.flatten(): a.xaxis.set_ticks_position('none')    \n",
    "\n",
    "        fig.savefig('prediction_uncertainty_{:03d}_{:03d}.png'.format(i,perc), dpi=300)\n",
    "\n",
    "        plt.show()\n",
    "        plt.close()\n",
    "        plt.clf()"
   ]
  },
  {
   "cell_type": "code",
   "execution_count": 39,
   "metadata": {},
   "outputs": [],
   "source": [
    "def generate_plot(X1,X2,Nmodels):\n",
    "    import numpy as np\n",
    "    import matplotlib.pyplot as plt\n",
    "    %matplotlib inline\n",
    "\n",
    "    connected = True\n",
    "    #connected = False\n",
    "\n",
    "    #%%\n",
    "    #matrix containing the data\n",
    "    #rows: test set datapoints\n",
    "    #columns: models\n",
    "    #each elements corresponds to the score (e.g. accuracy) of a model on a dataset\n",
    "    #X = np.zeros((Ndatapoints,Nmodels),dtype='float')#initialize to zeros\n",
    "\n",
    "    np.random.seed(1)#set random seed for repeatability\n",
    "\n",
    "    #%% generate a plot of boxplots whose medians are connected by a line\n",
    "    figure_size = 4\n",
    "    fig, ax = plt.subplots(figsize=(figure_size*Nmodels,figure_size))\n",
    "    box_data1 = X1\n",
    "    box_data2 = X2\n",
    "    md1 = np.median(box_data1,axis=0) #median\n",
    "    xticks = np.arange(Nmodels)+1\n",
    "    md2 = np.median(box_data2,axis=0) #median\n",
    "    \n",
    "    #ax.boxplot plots each column as a separate boxplot\n",
    "    bplots1 = ax.boxplot(box_data1)\n",
    "    #bplots2 = ax.boxplot(box_data2)\n",
    "    if connected == True:\n",
    "      #make the boxplots transparent\n",
    "        for key in bplots1.keys():\n",
    "            for b in bplots1[key]:\n",
    "                b.set_alpha(0.2)\n",
    "        #add a line that connects the medians of all boxplots\n",
    "        ax.plot(xticks,md1,marker='o',c='black',lw=5,markersize=15,label='median')\n",
    "        xlab = '%'\n",
    "    else:\n",
    "        xlab = 'Model '\n",
    "\n",
    "    ax.set_ylabel('Score (test set)',{'fontsize':16})\n",
    "    ax.set_xlabel('Model',{'fontsize':16})\n",
    "    ax.set_title('Model Performance ',{'fontsize':16})\n",
    "    ax.set_ylim(0,1)\n",
    "\n",
    "    #generate the xtick labels\n",
    "    xtick_labels = []\n",
    "    for m in xticks:\n",
    "        xtick_labels.append(xlab+str(10*m))\n",
    "    ax.set_xticklabels(xtick_labels,rotation = 30, ha='center',fontsize=10)\n",
    "\n",
    "    #save the figure to disk\n",
    "    if connected == True:\n",
    "        plt.savefig('model_boxplots_connected.png',dpi=200,bbox_inches='tight')\n",
    "    else:\n",
    "        plt.savefig('model_boxplots.png',dpi=200,bbox_inches='tight')\n",
    "\n",
    "    #%% REDO the same plot without the boxplots\n",
    "    # only plot a line for the medians, along with error-bars for interquantile range\n",
    "\n",
    "    figure_size = 4\n",
    "    fig, ax = plt.subplots(figsize=(figure_size*Nmodels,figure_size))\n",
    "    #xticks = np.arange(Nmodels)+1\n",
    "    #md = np.median(box_data,axis=0)\n",
    "    \n",
    "    yerr1 = np.zeros((2,Nmodels))\n",
    "    yerr2 = np.zeros((2,Nmodels))\n",
    "    \n",
    "    for m in range(Nmodels):\n",
    "      #plt.errorbar needs the difference between the percentile and the median\n",
    "      #lower errorbar: 25th percentile\n",
    "        yerr1[0,m]=md1[m]-np.percentile(X1[:,m],25)#lower errorbar\n",
    "        yerr2[0,m]=md2[m]-np.percentile(X2[:,m],25)#lower errorbar\n",
    "      #upper errorbar: 75th percentile\n",
    "        yerr1[1,m]=np.percentile(X1[:,m],75)-md1[m]\n",
    "        yerr2[1,m]=np.percentile(X2[:,m],75)-md2[m]\n",
    "\n",
    "\n",
    "    #plot the errorbars\n",
    "    ax.errorbar(xticks,md1,yerr1,capsize=10,fmt='none',c='black')\n",
    "    ax.errorbar(xticks,md2,yerr2,capsize=10,fmt='none',c='red')\n",
    "    #fmt='none' to only plot the errorbars\n",
    "\n",
    "    #plot the (optional) connecting line\n",
    "    if connected == True:\n",
    "        ax.plot(xticks,md1,marker='o',c='black',lw=2,markersize=5,label='Random query')\n",
    "        ax.plot(xticks,md2,marker='o',c='red',lw=2,markersize=5,label='Suggestive annotation query')\n",
    "        xlab = '% '\n",
    "    else:\n",
    "        ax.scatter(xticks,md,marker='o',c='black',s=200)\n",
    "        xlab = 'Model '\n",
    "    plt.axhline(y=0.82, label=\"Full data performance\",color='green', linestyle='--')\n",
    "    plt.legend()\n",
    "\n",
    "    ax.set_ylabel('Score (test set)',{'fontsize':16})\n",
    "    ax.set_xlabel('% of Used data',{'fontsize':16})\n",
    "    ax.set_title('Model Performance ',{'fontsize':16})\n",
    "    ax.set_ylim(0,1)\n",
    "\n",
    "    ax.set_xticks(xticks)\n",
    "    #generate the xtick labels\n",
    "    xtick_labels = []\n",
    "    for m in xticks:\n",
    "        xtick_labels.append(str(10*m)+xlab)\n",
    "    ax.set_xticklabels(xtick_labels,rotation = 30, ha='center',fontsize=10)\n",
    "\n",
    "    if connected == True:\n",
    "        plt.savefig('model_errorbars_connected.png',dpi=200,bbox_inches='tight')\n",
    "    else:\n",
    "        plt.savefig('model_errorbars.png',dpi=200,bbox_inches='tight')"
   ]
  },
  {
   "cell_type": "code",
   "execution_count": 40,
   "metadata": {},
   "outputs": [],
   "source": [
    "def full_data():\n",
    "    ## Full data mode to establish a baseline score\n",
    "    full_data_load()\n",
    "    train(mc=True)\n",
    "    p,unc=eval_mc('test')\n",
    "    X_ts = np.load('./X_ts.npy')\n",
    "    Y_ts = np.load('./Y_ts.npy')\n",
    "    perc=100\n",
    "    unc_plot(X_ts,Y_ts,p,unc,perc)"
   ]
  },
  {
   "cell_type": "code",
   "execution_count": 41,
   "metadata": {
    "colab": {},
    "colab_type": "code",
    "id": "eG2KeIS4N01b"
   },
   "outputs": [],
   "source": [
    "def run_random(Nmodels,Ndata,Ndatapoints): ## RANDOM ANNOTATION PROCEDURE\n",
    "    #Nmodels = 5 #number of models trained\n",
    "    #Ndata= 5 #number of modes(percentages%)\n",
    "    #Ndatapoints = 10 #number of datapoints in the test set\n",
    "    dice={}\n",
    "    import json\n",
    "    for mode in range(1,Ndata+1):\n",
    "        print(\"Running mode \"+str(mode))\n",
    "        X = np.zeros((Ndatapoints*Nmodels,Ndata),dtype='float') #initialize to zeros\n",
    "        l=[]\n",
    "        for i in range (Nmodels):\n",
    "            if mode==1: sug_annot=[]## running mode 10%\n",
    "            if i==0: data_load(sug_annot) # data loading\n",
    "            X_ts = np.load('./X_ts.npy')\n",
    "            Y_ts = np.load('./Y_ts.npy')\n",
    "            train(mc=True) # training procedure ( whole network )dicehat=annot_procedure(sug_annot) #training and evaluation of whole pipeline for a particular % of train split\n",
    "            p,unc=eval_mc(mode='test') #evaluation on test set for model performance\n",
    "            dc_rand=dice_pred(p,Y_ts)\n",
    "            unc_plot(X_ts,Y_ts,p,unc,mode*25)\n",
    "            dicehat=eval_DiceNet(mode='pool') # evaluation on pool set to get the estimated dice scores\n",
    "            for i in dc_rand:\n",
    "                l.append(i)\n",
    "                dice[mode]=l\n",
    "        sug_annot = sample_prediction(dicehat,sample_size=20,random=True) # random annotation\n",
    "        with open('dice_msot_rand.json', 'w') as fp:\n",
    "            json.dump(dice, fp)"
   ]
  },
  {
   "cell_type": "code",
   "execution_count": 42,
   "metadata": {},
   "outputs": [],
   "source": [
    "def run_sug(Nmodels,Ndata,Ndatapoints):## SUGGESTIVE ANNOTATION \n",
    "    #Nmodels = 5 #number of models trained\n",
    "    #Ndata= 5 #number of modes(percentages%)\n",
    "    #Ndatapoints = 10 #number of datapoints in the test set\n",
    "    dice={}\n",
    "    import json\n",
    "    for mode in range(1,Ndata+1):\n",
    "        print(\"Running mode \"+str(mode))\n",
    "        X = np.zeros((Ndatapoints*Nmodels,Ndata),dtype='float') #initialize to zeros\n",
    "        l=[]\n",
    "        for i in range (Nmodels):\n",
    "            if mode==1: sug_annot=[]## running mode 10%\n",
    "            if i==0: data_load(sug_annot) # data loading\n",
    "            X_ts = np.load('./X_ts.npy')\n",
    "            Y_ts = np.load('./Y_ts.npy')\n",
    "            train(mc=True) # training procedure ( whole network )dicehat=annot_procedure(sug_annot) #training and evaluation of whole pipeline for a particular % of train split\n",
    "            p,unc=eval_mc(mode='test') #evaluation on test set for model performance\n",
    "            dc_rand=dice_pred(p,Y_ts)\n",
    "            unc_plot(X_ts,Y_ts,p,unc,mode*25)\n",
    "            dicehat=eval_DiceNet(mode='pool') # evaluation on pool set to get the estimated dice scores\n",
    "            for i in dc_rand:\n",
    "                l.append(i)\n",
    "                dice[mode]=l\n",
    "        sug_annot = sample_prediction(dicehat,sample_size=20) # random annotation\n",
    "        with open('dice_msot_sg.json', 'w') as fp:\n",
    "            json.dump(dice, fp)"
   ]
  },
  {
   "cell_type": "code",
   "execution_count": null,
   "metadata": {
    "scrolled": true
   },
   "outputs": [
    {
     "name": "stdout",
     "output_type": "stream",
     "text": [
      "Running mode 1\n",
      "loading image  0\n",
      "loading image  1\n",
      "loading image  2\n",
      "loading image  3\n",
      "loading image  4\n",
      "loading image  5\n",
      "loading image  6\n",
      "loading image  7\n",
      "loading image  8\n",
      "loading image  9\n",
      "loading image  10\n",
      "loading image  11\n",
      "loading image  12\n",
      "loading image  13\n",
      "loading image  14\n",
      "loading image  15\n",
      "loading image  16\n",
      "loading image  17\n",
      "loading image  18\n",
      "loading image  19\n",
      "loading image  20\n",
      "loading image  21\n",
      "loading image  22\n",
      "loading image  23\n",
      "loading image  24\n",
      "loading image  25\n",
      "loading image  26\n",
      "loading image  27\n",
      "loading image  28\n",
      "loading image  29\n",
      "loading image  30\n",
      "loading image  31\n",
      "loading image  32\n",
      "loading image  33\n",
      "loading image  34\n",
      "loading image  35\n",
      "loading image  36\n",
      "loading image  37\n",
      "loading image  38\n",
      "loading image  39\n",
      "loading image  40\n",
      "loading image  41\n",
      "loading image  42\n",
      "loading image  43\n",
      "loading image  44\n",
      "loading image  45\n",
      "loading image  46\n",
      "loading image  47\n",
      "loading image  48\n",
      "loading image  49\n",
      "loading image  50\n",
      "loading image  51\n",
      "loading image  52\n",
      "loading image  53\n",
      "loading image  54\n",
      "loading image  55\n",
      "loading image  56\n",
      "loading image  57\n",
      "loading image  58\n",
      "loading image  59\n",
      "loading image  60\n",
      "loading image  61\n",
      "loading image  62\n",
      "loading image  63\n",
      "loading image  64\n",
      "loading image  65\n",
      "loading image  66\n",
      "loading image  67\n",
      "loading image  68\n",
      "loading image  69\n",
      "loading image  70\n",
      "loading image  71\n",
      "loading image  72\n",
      "loading image  73\n",
      "loading image  74\n",
      "loading image  75\n",
      "loading image  76\n",
      "loading image  77\n",
      "loading image  78\n",
      "loading image  79\n",
      "loading image  80\n",
      "loading image  81\n",
      "loading image  82\n",
      "loading image  83\n",
      "loading image  84\n",
      "loading image  85\n",
      "loading image  86\n",
      "loading image  87\n",
      "loading image  88\n",
      "loading image  89\n",
      "loading image  90\n",
      "loading image  91\n",
      "loading image  92\n",
      "loading image  93\n",
      "loading image  94\n",
      "loading image  95\n",
      "loading image  96\n",
      "loading image  97\n",
      "loading image  98\n",
      "loading image  99\n",
      "(80,) (10,) (10,)\n",
      "20\n",
      "60\n",
      "START TRAINING......:\n",
      "Training with 20 images\n",
      "Validating with 10 images\n",
      "Training Unet-mcdropout\n",
      "(20, 400, 400, 28)\n",
      "Epoch 1/80\n",
      " - 5s - loss: 0.4815 - accuracy: 0.8639 - val_loss: 0.6753 - val_accuracy: 0.8848\n",
      "\n",
      "Epoch 00001: val_loss improved from inf to 0.67533, saving model to ./trained_models/unet_div8_495K_20.hdf5\n",
      "Epoch 2/80\n",
      " - 1s - loss: 0.4350 - accuracy: 0.8770 - val_loss: 0.6510 - val_accuracy: 0.8848\n",
      "\n",
      "Epoch 00002: val_loss improved from 0.67533 to 0.65098, saving model to ./trained_models/unet_div8_495K_20.hdf5\n",
      "Epoch 3/80\n",
      " - 1s - loss: 0.4062 - accuracy: 0.8814 - val_loss: 0.6221 - val_accuracy: 0.8848\n",
      "\n",
      "Epoch 00003: val_loss improved from 0.65098 to 0.62212, saving model to ./trained_models/unet_div8_495K_20.hdf5\n",
      "Epoch 4/80\n",
      " - 2s - loss: 0.3792 - accuracy: 0.8707 - val_loss: 0.5902 - val_accuracy: 0.8848\n",
      "\n",
      "Epoch 00004: val_loss improved from 0.62212 to 0.59020, saving model to ./trained_models/unet_div8_495K_20.hdf5\n",
      "Epoch 5/80\n",
      " - 3s - loss: 0.3562 - accuracy: 0.8661 - val_loss: 0.5510 - val_accuracy: 0.8848\n",
      "\n",
      "Epoch 00005: val_loss improved from 0.59020 to 0.55098, saving model to ./trained_models/unet_div8_495K_20.hdf5\n",
      "Epoch 6/80\n",
      " - 2s - loss: 0.3413 - accuracy: 0.8626 - val_loss: 0.5053 - val_accuracy: 0.8848\n",
      "\n",
      "Epoch 00006: val_loss improved from 0.55098 to 0.50534, saving model to ./trained_models/unet_div8_495K_20.hdf5\n",
      "Epoch 7/80\n",
      " - 3s - loss: 0.3268 - accuracy: 0.8766 - val_loss: 0.4714 - val_accuracy: 0.8848\n",
      "\n",
      "Epoch 00007: val_loss improved from 0.50534 to 0.47141, saving model to ./trained_models/unet_div8_495K_20.hdf5\n",
      "Epoch 8/80\n",
      " - 3s - loss: 0.3164 - accuracy: 0.8834 - val_loss: 0.4461 - val_accuracy: 0.8842\n",
      "\n",
      "Epoch 00008: val_loss improved from 0.47141 to 0.44605, saving model to ./trained_models/unet_div8_495K_20.hdf5\n",
      "Epoch 9/80\n",
      " - 3s - loss: 0.3105 - accuracy: 0.8835 - val_loss: 0.4276 - val_accuracy: 0.8848\n",
      "\n",
      "Epoch 00009: val_loss improved from 0.44605 to 0.42756, saving model to ./trained_models/unet_div8_495K_20.hdf5\n",
      "Epoch 10/80\n",
      " - 3s - loss: 0.2965 - accuracy: 0.8902 - val_loss: 0.4089 - val_accuracy: 0.8860\n",
      "\n",
      "Epoch 00010: val_loss improved from 0.42756 to 0.40891, saving model to ./trained_models/unet_div8_495K_20.hdf5\n",
      "Epoch 11/80\n",
      " - 3s - loss: 0.2911 - accuracy: 0.8924 - val_loss: 0.3986 - val_accuracy: 0.8809\n",
      "\n",
      "Epoch 00011: val_loss improved from 0.40891 to 0.39857, saving model to ./trained_models/unet_div8_495K_20.hdf5\n",
      "Epoch 12/80\n",
      " - 3s - loss: 0.2886 - accuracy: 0.8921 - val_loss: 0.3909 - val_accuracy: 0.8771\n",
      "\n",
      "Epoch 00012: val_loss improved from 0.39857 to 0.39089, saving model to ./trained_models/unet_div8_495K_20.hdf5\n",
      "Epoch 13/80\n",
      " - 3s - loss: 0.2786 - accuracy: 0.9024 - val_loss: 0.3776 - val_accuracy: 0.8814\n",
      "\n",
      "Epoch 00013: val_loss improved from 0.39089 to 0.37762, saving model to ./trained_models/unet_div8_495K_20.hdf5\n",
      "Epoch 14/80\n",
      " - 3s - loss: 0.2733 - accuracy: 0.8974 - val_loss: 0.3653 - val_accuracy: 0.8848\n",
      "\n",
      "Epoch 00014: val_loss improved from 0.37762 to 0.36532, saving model to ./trained_models/unet_div8_495K_20.hdf5\n",
      "Epoch 15/80\n",
      " - 3s - loss: 0.2613 - accuracy: 0.8989 - val_loss: 0.3582 - val_accuracy: 0.8860\n",
      "\n",
      "Epoch 00015: val_loss improved from 0.36532 to 0.35816, saving model to ./trained_models/unet_div8_495K_20.hdf5\n",
      "Epoch 16/80\n",
      " - 3s - loss: 0.2512 - accuracy: 0.9063 - val_loss: 0.3591 - val_accuracy: 0.8831\n",
      "\n",
      "Epoch 00016: val_loss did not improve from 0.35816\n",
      "Epoch 17/80\n",
      " - 3s - loss: 0.2467 - accuracy: 0.9124 - val_loss: 0.3731 - val_accuracy: 0.8760\n",
      "\n",
      "Epoch 00017: val_loss did not improve from 0.35816\n",
      "Epoch 18/80\n",
      " - 3s - loss: 0.2484 - accuracy: 0.9096 - val_loss: 0.3831 - val_accuracy: 0.8550\n",
      "\n",
      "Epoch 00018: val_loss did not improve from 0.35816\n",
      "Epoch 19/80\n",
      " - 3s - loss: 0.2418 - accuracy: 0.9038 - val_loss: 0.3917 - val_accuracy: 0.8616\n",
      "\n",
      "Epoch 00019: val_loss did not improve from 0.35816\n",
      "Epoch 20/80\n",
      " - 3s - loss: 0.2478 - accuracy: 0.9013 - val_loss: 0.4055 - val_accuracy: 0.8135\n",
      "\n",
      "Epoch 00020: val_loss did not improve from 0.35816\n",
      "Epoch 21/80\n",
      " - 2s - loss: 0.2308 - accuracy: 0.9126 - val_loss: 0.3686 - val_accuracy: 0.8366\n",
      "\n",
      "Epoch 00021: val_loss did not improve from 0.35816\n",
      "Epoch 22/80\n",
      " - 3s - loss: 0.2314 - accuracy: 0.9145 - val_loss: 0.3810 - val_accuracy: 0.7898\n",
      "\n",
      "Epoch 00022: val_loss did not improve from 0.35816\n",
      "Epoch 23/80\n",
      " - 3s - loss: 0.2370 - accuracy: 0.9059 - val_loss: 0.3924 - val_accuracy: 0.7512\n",
      "\n",
      "Epoch 00023: val_loss did not improve from 0.35816\n",
      "Epoch 24/80\n",
      " - 3s - loss: 0.2283 - accuracy: 0.9096 - val_loss: 0.3980 - val_accuracy: 0.7745\n",
      "\n",
      "Epoch 00024: val_loss did not improve from 0.35816\n",
      "Epoch 25/80\n",
      " - 3s - loss: 0.2245 - accuracy: 0.9126 - val_loss: 0.4155 - val_accuracy: 0.7849\n",
      "\n",
      "Epoch 00025: val_loss did not improve from 0.35816\n",
      "Epoch 26/80\n",
      " - 3s - loss: 0.2169 - accuracy: 0.9159 - val_loss: 0.5077 - val_accuracy: 0.6300\n",
      "\n",
      "Epoch 00026: val_loss did not improve from 0.35816\n",
      "Epoch 27/80\n",
      " - 3s - loss: 0.2099 - accuracy: 0.9207 - val_loss: 0.5604 - val_accuracy: 0.5114\n"
     ]
    },
    {
     "name": "stderr",
     "output_type": "stream",
     "text": [
      "\n",
      "  0%|          | 0/20 [00:00<?, ?it/s]\u001b[A"
     ]
    },
    {
     "name": "stdout",
     "output_type": "stream",
     "text": [
      "\n",
      "Epoch 00027: val_loss did not improve from 0.35816\n"
     ]
    },
    {
     "name": "stderr",
     "output_type": "stream",
     "text": [
      "\n",
      "  5%|▌         | 1/20 [00:12<03:48, 12.03s/it]\u001b[A"
     ]
    },
    {
     "name": "stdout",
     "output_type": "stream",
     "text": [
      "\n",
      " Time needed for MC Dropout-based Uncertainty Estimation   12.020816564559937\n"
     ]
    },
    {
     "name": "stderr",
     "output_type": "stream",
     "text": [
      "\n",
      " 10%|█         | 2/20 [00:23<03:33, 11.85s/it]\u001b[A"
     ]
    },
    {
     "name": "stdout",
     "output_type": "stream",
     "text": [
      "\n",
      " Time needed for MC Dropout-based Uncertainty Estimation   11.423222303390503\n"
     ]
    },
    {
     "name": "stderr",
     "output_type": "stream",
     "text": [
      "\n",
      " 15%|█▌        | 3/20 [00:33<03:13, 11.36s/it]\u001b[A"
     ]
    },
    {
     "name": "stdout",
     "output_type": "stream",
     "text": [
      "\n",
      " Time needed for MC Dropout-based Uncertainty Estimation   10.199319839477539\n"
     ]
    },
    {
     "name": "stderr",
     "output_type": "stream",
     "text": [
      "\n",
      " 20%|██        | 4/20 [00:43<02:56, 11.02s/it]\u001b[A"
     ]
    },
    {
     "name": "stdout",
     "output_type": "stream",
     "text": [
      "\n",
      " Time needed for MC Dropout-based Uncertainty Estimation   10.1991548538208\n"
     ]
    },
    {
     "name": "stderr",
     "output_type": "stream",
     "text": [
      "\n",
      " 25%|██▌       | 5/20 [00:55<02:47, 11.16s/it]\u001b[A"
     ]
    },
    {
     "name": "stdout",
     "output_type": "stream",
     "text": [
      "\n",
      " Time needed for MC Dropout-based Uncertainty Estimation   11.467144966125488\n"
     ]
    },
    {
     "name": "stderr",
     "output_type": "stream",
     "text": [
      "\n",
      " 30%|███       | 6/20 [01:05<02:32, 10.91s/it]\u001b[A"
     ]
    },
    {
     "name": "stdout",
     "output_type": "stream",
     "text": [
      "\n",
      " Time needed for MC Dropout-based Uncertainty Estimation   10.30568265914917\n"
     ]
    },
    {
     "name": "stderr",
     "output_type": "stream",
     "text": [
      "\n",
      " 35%|███▌      | 7/20 [01:15<02:18, 10.67s/it]\u001b[A"
     ]
    },
    {
     "name": "stdout",
     "output_type": "stream",
     "text": [
      "\n",
      " Time needed for MC Dropout-based Uncertainty Estimation   10.091662168502808\n"
     ]
    },
    {
     "name": "stderr",
     "output_type": "stream",
     "text": [
      "\n",
      " 40%|████      | 8/20 [01:27<02:10, 10.89s/it]\u001b[A"
     ]
    },
    {
     "name": "stdout",
     "output_type": "stream",
     "text": [
      "\n",
      " Time needed for MC Dropout-based Uncertainty Estimation   11.38268780708313\n"
     ]
    },
    {
     "name": "stderr",
     "output_type": "stream",
     "text": [
      "\n",
      " 45%|████▌     | 9/20 [01:37<01:57, 10.66s/it]\u001b[A"
     ]
    },
    {
     "name": "stdout",
     "output_type": "stream",
     "text": [
      "\n",
      " Time needed for MC Dropout-based Uncertainty Estimation   10.112565755844116\n"
     ]
    },
    {
     "name": "stderr",
     "output_type": "stream",
     "text": [
      "\n",
      " 50%|█████     | 10/20 [01:47<01:44, 10.49s/it]\u001b[A"
     ]
    },
    {
     "name": "stdout",
     "output_type": "stream",
     "text": [
      "\n",
      " Time needed for MC Dropout-based Uncertainty Estimation   10.081462383270264\n"
     ]
    },
    {
     "name": "stderr",
     "output_type": "stream",
     "text": [
      "\n",
      " 55%|█████▌    | 11/20 [01:58<01:36, 10.76s/it]\u001b[A"
     ]
    },
    {
     "name": "stdout",
     "output_type": "stream",
     "text": [
      "\n",
      " Time needed for MC Dropout-based Uncertainty Estimation   11.367653608322144\n"
     ]
    },
    {
     "name": "stderr",
     "output_type": "stream",
     "text": [
      "\n",
      " 60%|██████    | 12/20 [02:08<01:24, 10.56s/it]\u001b[A"
     ]
    },
    {
     "name": "stdout",
     "output_type": "stream",
     "text": [
      "\n",
      " Time needed for MC Dropout-based Uncertainty Estimation   10.075361013412476\n"
     ]
    },
    {
     "name": "stderr",
     "output_type": "stream",
     "text": [
      "\n",
      " 65%|██████▌   | 13/20 [02:18<01:12, 10.40s/it]\u001b[A"
     ]
    },
    {
     "name": "stdout",
     "output_type": "stream",
     "text": [
      "\n",
      " Time needed for MC Dropout-based Uncertainty Estimation   10.00801420211792\n"
     ]
    },
    {
     "name": "stderr",
     "output_type": "stream",
     "text": [
      "\n",
      " 70%|███████   | 14/20 [02:30<01:04, 10.70s/it]\u001b[A"
     ]
    },
    {
     "name": "stdout",
     "output_type": "stream",
     "text": [
      "\n",
      " Time needed for MC Dropout-based Uncertainty Estimation   11.36951756477356\n"
     ]
    },
    {
     "name": "stderr",
     "output_type": "stream",
     "text": [
      "\n",
      " 75%|███████▌  | 15/20 [02:40<00:52, 10.51s/it]\u001b[A"
     ]
    },
    {
     "name": "stdout",
     "output_type": "stream",
     "text": [
      "\n",
      " Time needed for MC Dropout-based Uncertainty Estimation   10.060334205627441\n"
     ]
    },
    {
     "name": "stderr",
     "output_type": "stream",
     "text": [
      "\n",
      " 80%|████████  | 16/20 [02:50<00:41, 10.40s/it]\u001b[A"
     ]
    },
    {
     "name": "stdout",
     "output_type": "stream",
     "text": [
      "\n",
      " Time needed for MC Dropout-based Uncertainty Estimation   10.110824346542358\n"
     ]
    },
    {
     "name": "stderr",
     "output_type": "stream",
     "text": [
      "\n",
      " 85%|████████▌ | 17/20 [03:01<00:32, 10.70s/it]\u001b[A"
     ]
    },
    {
     "name": "stdout",
     "output_type": "stream",
     "text": [
      "\n",
      " Time needed for MC Dropout-based Uncertainty Estimation   11.374170541763306\n"
     ]
    },
    {
     "name": "stderr",
     "output_type": "stream",
     "text": [
      "\n",
      " 90%|█████████ | 18/20 [03:12<00:21, 10.53s/it]\u001b[A"
     ]
    },
    {
     "name": "stdout",
     "output_type": "stream",
     "text": [
      "\n",
      " Time needed for MC Dropout-based Uncertainty Estimation   10.119048118591309\n"
     ]
    },
    {
     "name": "stderr",
     "output_type": "stream",
     "text": [
      "\n",
      " 95%|█████████▌| 19/20 [03:22<00:10, 10.39s/it]\u001b[A"
     ]
    },
    {
     "name": "stdout",
     "output_type": "stream",
     "text": [
      "\n",
      " Time needed for MC Dropout-based Uncertainty Estimation   10.057624578475952\n"
     ]
    },
    {
     "name": "stderr",
     "output_type": "stream",
     "text": [
      "\n",
      "100%|██████████| 20/20 [03:33<00:00, 10.70s/it]\u001b[A\n",
      "  0%|          | 0/10 [00:00<?, ?it/s]\u001b[A"
     ]
    },
    {
     "name": "stdout",
     "output_type": "stream",
     "text": [
      "\n",
      " Time needed for MC Dropout-based Uncertainty Estimation   11.403980493545532\n"
     ]
    },
    {
     "name": "stderr",
     "output_type": "stream",
     "text": [
      "\n",
      " 10%|█         | 1/10 [00:05<00:45,  5.07s/it]\u001b[A"
     ]
    },
    {
     "name": "stdout",
     "output_type": "stream",
     "text": [
      "\n",
      " Time needed for MC Dropout-based Uncertainty Estimation   5.06132698059082\n"
     ]
    },
    {
     "name": "stderr",
     "output_type": "stream",
     "text": [
      "\n",
      " 20%|██        | 2/10 [00:10<00:40,  5.07s/it]\u001b[A"
     ]
    },
    {
     "name": "stdout",
     "output_type": "stream",
     "text": [
      "\n",
      " Time needed for MC Dropout-based Uncertainty Estimation   5.064068078994751\n"
     ]
    },
    {
     "name": "stderr",
     "output_type": "stream",
     "text": [
      "\n",
      " 30%|███       | 3/10 [00:15<00:36,  5.17s/it]\u001b[A"
     ]
    },
    {
     "name": "stdout",
     "output_type": "stream",
     "text": [
      "\n",
      " Time needed for MC Dropout-based Uncertainty Estimation   5.411119699478149\n"
     ]
    },
    {
     "name": "stderr",
     "output_type": "stream",
     "text": [
      "\n",
      " 40%|████      | 4/10 [00:20<00:31,  5.25s/it]\u001b[A"
     ]
    },
    {
     "name": "stdout",
     "output_type": "stream",
     "text": [
      "\n",
      " Time needed for MC Dropout-based Uncertainty Estimation   5.413868188858032\n"
     ]
    },
    {
     "name": "stderr",
     "output_type": "stream",
     "text": [
      "\n",
      " 50%|█████     | 5/10 [00:26<00:25,  5.18s/it]\u001b[A"
     ]
    },
    {
     "name": "stdout",
     "output_type": "stream",
     "text": [
      "\n",
      " Time needed for MC Dropout-based Uncertainty Estimation   5.002380132675171\n"
     ]
    },
    {
     "name": "stderr",
     "output_type": "stream",
     "text": [
      "\n",
      " 60%|██████    | 6/10 [00:31<00:20,  5.24s/it]\u001b[A"
     ]
    },
    {
     "name": "stdout",
     "output_type": "stream",
     "text": [
      "\n",
      " Time needed for MC Dropout-based Uncertainty Estimation   5.386807203292847\n"
     ]
    },
    {
     "name": "stderr",
     "output_type": "stream",
     "text": [
      "\n",
      " 70%|███████   | 7/10 [00:36<00:15,  5.29s/it]\u001b[A"
     ]
    },
    {
     "name": "stdout",
     "output_type": "stream",
     "text": [
      "\n",
      " Time needed for MC Dropout-based Uncertainty Estimation   5.385554075241089\n"
     ]
    },
    {
     "name": "stderr",
     "output_type": "stream",
     "text": [
      "\n",
      " 80%|████████  | 8/10 [00:41<00:10,  5.20s/it]\u001b[A"
     ]
    },
    {
     "name": "stdout",
     "output_type": "stream",
     "text": [
      "\n",
      " Time needed for MC Dropout-based Uncertainty Estimation   4.985432147979736\n"
     ]
    },
    {
     "name": "stderr",
     "output_type": "stream",
     "text": [
      "\n",
      " 90%|█████████ | 9/10 [00:47<00:05,  5.27s/it]\u001b[A"
     ]
    },
    {
     "name": "stdout",
     "output_type": "stream",
     "text": [
      "\n",
      " Time needed for MC Dropout-based Uncertainty Estimation   5.423647403717041\n"
     ]
    },
    {
     "name": "stderr",
     "output_type": "stream",
     "text": [
      "\n",
      "100%|██████████| 10/10 [00:52<00:00,  5.31s/it]\u001b[A"
     ]
    },
    {
     "name": "stdout",
     "output_type": "stream",
     "text": [
      "\n",
      " Time needed for MC Dropout-based Uncertainty Estimation   5.373359203338623\n",
      "Model: \"model_2\"\n",
      "_________________________________________________________________\n",
      "Layer (type)                 Output Shape              Param #   \n",
      "=================================================================\n",
      "input (InputLayer)           (None, 400, 400, 30)      0         \n",
      "_________________________________________________________________\n",
      "conv2d_11 (Conv2D)           (None, 400, 400, 32)      8672      \n",
      "_________________________________________________________________\n",
      "batch_normalization_19 (Batc (None, 400, 400, 32)      128       \n",
      "_________________________________________________________________\n",
      "activation_19 (Activation)   (None, 400, 400, 32)      0         \n",
      "_________________________________________________________________\n",
      "conv2d_12 (Conv2D)           (None, 400, 400, 32)      9248      \n",
      "_________________________________________________________________\n",
      "batch_normalization_20 (Batc (None, 400, 400, 32)      128       \n",
      "_________________________________________________________________\n",
      "activation_20 (Activation)   (None, 400, 400, 32)      0         \n",
      "_________________________________________________________________\n",
      "max_pooling2d_5 (MaxPooling2 (None, 200, 200, 32)      0         \n",
      "_________________________________________________________________\n",
      "conv2d_13 (Conv2D)           (None, 200, 200, 64)      18496     \n",
      "_________________________________________________________________\n",
      "batch_normalization_21 (Batc (None, 200, 200, 64)      256       \n",
      "_________________________________________________________________\n",
      "activation_21 (Activation)   (None, 200, 200, 64)      0         \n",
      "_________________________________________________________________\n",
      "conv2d_14 (Conv2D)           (None, 200, 200, 64)      36928     \n",
      "_________________________________________________________________\n",
      "batch_normalization_22 (Batc (None, 200, 200, 64)      256       \n",
      "_________________________________________________________________\n",
      "activation_22 (Activation)   (None, 200, 200, 64)      0         \n",
      "_________________________________________________________________\n",
      "max_pooling2d_6 (MaxPooling2 (None, 100, 100, 64)      0         \n",
      "_________________________________________________________________\n",
      "conv2d_15 (Conv2D)           (None, 100, 100, 128)     73856     \n",
      "_________________________________________________________________\n",
      "batch_normalization_23 (Batc (None, 100, 100, 128)     512       \n",
      "_________________________________________________________________\n",
      "activation_23 (Activation)   (None, 100, 100, 128)     0         \n",
      "_________________________________________________________________\n",
      "conv2d_16 (Conv2D)           (None, 100, 100, 128)     147584    \n",
      "_________________________________________________________________\n",
      "batch_normalization_24 (Batc (None, 100, 100, 128)     512       \n",
      "_________________________________________________________________\n",
      "activation_24 (Activation)   (None, 100, 100, 128)     0         \n",
      "_________________________________________________________________\n",
      "max_pooling2d_7 (MaxPooling2 (None, 50, 50, 128)       0         \n",
      "_________________________________________________________________\n",
      "conv2d_17 (Conv2D)           (None, 50, 50, 256)       295168    \n",
      "_________________________________________________________________\n",
      "batch_normalization_25 (Batc (None, 50, 50, 256)       1024      \n",
      "_________________________________________________________________\n",
      "activation_25 (Activation)   (None, 50, 50, 256)       0         \n",
      "_________________________________________________________________\n",
      "conv2d_18 (Conv2D)           (None, 50, 50, 256)       590080    \n",
      "_________________________________________________________________\n",
      "batch_normalization_26 (Batc (None, 50, 50, 256)       1024      \n",
      "_________________________________________________________________\n",
      "activation_26 (Activation)   (None, 50, 50, 256)       0         \n",
      "_________________________________________________________________\n",
      "global_average_pooling2d_1 ( (None, 256)               0         \n",
      "_________________________________________________________________\n",
      "dense_2 (Dense)              (None, 1)                 257       \n",
      "_________________________________________________________________\n",
      "output (Activation)          (None, 1)                 0         \n",
      "=================================================================\n",
      "Total params: 1,184,129\n",
      "Trainable params: 1,182,209\n",
      "Non-trainable params: 1,920\n",
      "_________________________________________________________________\n",
      "(20, 1)\n",
      "Train on 20 samples, validate on 10 samples\n",
      "Epoch 1/60\n",
      " - 2s - loss: 0.1032 - val_loss: 0.0698\n",
      "\n",
      "Epoch 00001: val_loss improved from inf to 0.06982, saving model to ./trained_models/unet_div8_495K_20_DiceNet.hdf5\n",
      "Epoch 2/60\n",
      " - 1s - loss: 0.0610 - val_loss: 0.0712\n",
      "\n",
      "Epoch 00002: val_loss did not improve from 0.06982\n",
      "Epoch 3/60\n",
      " - 1s - loss: 0.0332 - val_loss: 0.0827\n",
      "\n",
      "Epoch 00003: val_loss did not improve from 0.06982\n",
      "Epoch 4/60\n",
      " - 1s - loss: 0.0096 - val_loss: 0.0990\n",
      "\n",
      "Epoch 00004: val_loss did not improve from 0.06982\n",
      "Epoch 5/60\n",
      " - 1s - loss: 0.0087 - val_loss: 0.1199\n",
      "\n",
      "Epoch 00005: val_loss did not improve from 0.06982\n",
      "Epoch 6/60\n",
      " - 1s - loss: 0.0086 - val_loss: 0.1437\n",
      "\n",
      "Epoch 00006: val_loss did not improve from 0.06982\n",
      "Epoch 7/60\n",
      " - 1s - loss: 0.0084 - val_loss: 0.1678\n",
      "\n",
      "Epoch 00007: val_loss did not improve from 0.06982\n",
      "Epoch 8/60\n",
      " - 1s - loss: 0.0080 - val_loss: 0.1906\n",
      "\n",
      "Epoch 00008: val_loss did not improve from 0.06982\n",
      "Epoch 9/60\n",
      " - 1s - loss: 0.0077 - val_loss: 0.2102\n",
      "\n",
      "Epoch 00009: val_loss did not improve from 0.06982\n",
      "Epoch 10/60\n",
      " - 1s - loss: 0.0074 - val_loss: 0.2253\n",
      "\n",
      "Epoch 00010: val_loss did not improve from 0.06982\n",
      "Epoch 11/60\n",
      " - 1s - loss: 0.0071 - val_loss: 0.2343\n",
      "\n",
      "Epoch 00011: val_loss did not improve from 0.06982\n",
      "Epoch 12/60\n",
      " - 1s - loss: 0.0068 - val_loss: 0.2357\n",
      "\n",
      "Epoch 00012: val_loss did not improve from 0.06982\n",
      "Epoch 13/60\n",
      " - 1s - loss: 0.0066 - val_loss: 0.2287\n",
      "\n",
      "Epoch 00013: val_loss did not improve from 0.06982\n",
      "False\n",
      "False\n",
      "START EVALUATION......:\n",
      "(10, 400, 400, 28)\n",
      "Loading model: ./trained_models/unet_div8_495K_20.hdf5\n"
     ]
    },
    {
     "name": "stderr",
     "output_type": "stream",
     "text": [
      "\n",
      "  0%|          | 0/10 [00:00<?, ?it/s]\u001b[A\n",
      " 10%|█         | 1/10 [00:02<00:21,  2.43s/it]\u001b[A"
     ]
    },
    {
     "name": "stdout",
     "output_type": "stream",
     "text": [
      "\n",
      " Time needed for MC Dropout-based Uncertainty Estimation   2.423677444458008\n"
     ]
    },
    {
     "name": "stderr",
     "output_type": "stream",
     "text": [
      "\n",
      " 20%|██        | 2/10 [00:03<00:17,  2.13s/it]\u001b[A"
     ]
    },
    {
     "name": "stdout",
     "output_type": "stream",
     "text": [
      "\n",
      " Time needed for MC Dropout-based Uncertainty Estimation   1.4121167659759521\n"
     ]
    },
    {
     "name": "stderr",
     "output_type": "stream",
     "text": [
      "\n",
      " 30%|███       | 3/10 [00:05<00:13,  1.91s/it]\u001b[A"
     ]
    },
    {
     "name": "stdout",
     "output_type": "stream",
     "text": [
      "\n",
      " Time needed for MC Dropout-based Uncertainty Estimation   1.3850839138031006\n"
     ]
    },
    {
     "name": "stderr",
     "output_type": "stream",
     "text": [
      "\n",
      " 40%|████      | 4/10 [00:06<00:10,  1.73s/it]\u001b[A"
     ]
    },
    {
     "name": "stdout",
     "output_type": "stream",
     "text": [
      "\n",
      " Time needed for MC Dropout-based Uncertainty Estimation   1.2954137325286865\n"
     ]
    },
    {
     "name": "stderr",
     "output_type": "stream",
     "text": [
      "\n",
      " 50%|█████     | 5/10 [00:07<00:07,  1.60s/it]\u001b[A"
     ]
    },
    {
     "name": "stdout",
     "output_type": "stream",
     "text": [
      "\n",
      " Time needed for MC Dropout-based Uncertainty Estimation   1.294245958328247\n"
     ]
    },
    {
     "name": "stderr",
     "output_type": "stream",
     "text": [
      "\n",
      " 60%|██████    | 6/10 [00:09<00:06,  1.51s/it]\u001b[A"
     ]
    },
    {
     "name": "stdout",
     "output_type": "stream",
     "text": [
      "\n",
      " Time needed for MC Dropout-based Uncertainty Estimation   1.2764668464660645\n"
     ]
    },
    {
     "name": "stderr",
     "output_type": "stream",
     "text": [
      "\n",
      " 70%|███████   | 7/10 [00:10<00:04,  1.43s/it]\u001b[A"
     ]
    },
    {
     "name": "stdout",
     "output_type": "stream",
     "text": [
      "\n",
      " Time needed for MC Dropout-based Uncertainty Estimation   1.2544808387756348\n"
     ]
    },
    {
     "name": "stderr",
     "output_type": "stream",
     "text": [
      "\n",
      " 80%|████████  | 8/10 [00:11<00:02,  1.40s/it]\u001b[A"
     ]
    },
    {
     "name": "stdout",
     "output_type": "stream",
     "text": [
      "\n",
      " Time needed for MC Dropout-based Uncertainty Estimation   1.3109793663024902\n"
     ]
    },
    {
     "name": "stderr",
     "output_type": "stream",
     "text": [
      "\n",
      " 90%|█████████ | 9/10 [00:13<00:01,  1.37s/it]\u001b[A"
     ]
    },
    {
     "name": "stdout",
     "output_type": "stream",
     "text": [
      "\n",
      " Time needed for MC Dropout-based Uncertainty Estimation   1.2885806560516357\n"
     ]
    },
    {
     "name": "stderr",
     "output_type": "stream",
     "text": [
      "\n",
      "100%|██████████| 10/10 [00:14<00:00,  1.34s/it]\u001b[A"
     ]
    },
    {
     "name": "stdout",
     "output_type": "stream",
     "text": [
      "\n",
      " Time needed for MC Dropout-based Uncertainty Estimation   1.2692058086395264\n",
      "Loading model: ./trained_models/unet_div8_495K_20_DiceNet.hdf5\n",
      "START EVALUATION......:\n",
      "(60, 400, 400, 28)\n",
      "Loading model: ./trained_models/unet_div8_495K_20.hdf5\n"
     ]
    },
    {
     "name": "stderr",
     "output_type": "stream",
     "text": [
      "\n",
      "  0%|          | 0/60 [00:00<?, ?it/s]\u001b[A\n",
      "  2%|▏         | 1/60 [00:09<09:36,  9.77s/it]\u001b[A"
     ]
    },
    {
     "name": "stdout",
     "output_type": "stream",
     "text": [
      "\n",
      " Time needed for MC Dropout-based Uncertainty Estimation   9.74695110321045\n"
     ]
    },
    {
     "name": "stderr",
     "output_type": "stream",
     "text": [
      "\n",
      "  3%|▎         | 2/60 [00:17<08:58,  9.29s/it]\u001b[A"
     ]
    },
    {
     "name": "stdout",
     "output_type": "stream",
     "text": [
      "\n",
      " Time needed for MC Dropout-based Uncertainty Estimation   8.122405290603638\n"
     ]
    },
    {
     "name": "stderr",
     "output_type": "stream",
     "text": [
      "\n",
      "  5%|▌         | 3/60 [00:26<08:31,  8.97s/it]\u001b[A"
     ]
    },
    {
     "name": "stdout",
     "output_type": "stream",
     "text": [
      "\n",
      " Time needed for MC Dropout-based Uncertainty Estimation   8.198391199111938\n"
     ]
    },
    {
     "name": "stderr",
     "output_type": "stream",
     "text": [
      "\n",
      "  7%|▋         | 4/60 [00:34<08:10,  8.76s/it]\u001b[A"
     ]
    },
    {
     "name": "stdout",
     "output_type": "stream",
     "text": [
      "\n",
      " Time needed for MC Dropout-based Uncertainty Estimation   8.242769718170166\n"
     ]
    },
    {
     "name": "stderr",
     "output_type": "stream",
     "text": [
      "\n",
      "  8%|▊         | 5/60 [00:42<07:51,  8.57s/it]\u001b[A"
     ]
    },
    {
     "name": "stdout",
     "output_type": "stream",
     "text": [
      "\n",
      " Time needed for MC Dropout-based Uncertainty Estimation   8.075021028518677\n"
     ]
    },
    {
     "name": "stderr",
     "output_type": "stream",
     "text": [
      "\n",
      " 10%|█         | 6/60 [00:50<07:36,  8.45s/it]\u001b[A"
     ]
    },
    {
     "name": "stdout",
     "output_type": "stream",
     "text": [
      "\n",
      " Time needed for MC Dropout-based Uncertainty Estimation   8.134942054748535\n"
     ]
    },
    {
     "name": "stderr",
     "output_type": "stream",
     "text": [
      "\n",
      " 12%|█▏        | 7/60 [00:58<07:23,  8.38s/it]\u001b[A"
     ]
    },
    {
     "name": "stdout",
     "output_type": "stream",
     "text": [
      "\n",
      " Time needed for MC Dropout-based Uncertainty Estimation   8.183812379837036\n"
     ]
    },
    {
     "name": "stderr",
     "output_type": "stream",
     "text": [
      "\n",
      " 13%|█▎        | 8/60 [01:07<07:13,  8.33s/it]\u001b[A"
     ]
    },
    {
     "name": "stdout",
     "output_type": "stream",
     "text": [
      "\n",
      " Time needed for MC Dropout-based Uncertainty Estimation   8.194471836090088\n"
     ]
    },
    {
     "name": "stderr",
     "output_type": "stream",
     "text": [
      "\n",
      " 15%|█▌        | 9/60 [01:15<07:02,  8.28s/it]\u001b[A"
     ]
    },
    {
     "name": "stdout",
     "output_type": "stream",
     "text": [
      "\n",
      " Time needed for MC Dropout-based Uncertainty Estimation   8.117634534835815\n"
     ]
    },
    {
     "name": "stderr",
     "output_type": "stream",
     "text": [
      "\n",
      " 17%|█▋        | 10/60 [01:23<06:51,  8.23s/it]\u001b[A"
     ]
    },
    {
     "name": "stdout",
     "output_type": "stream",
     "text": [
      "\n",
      " Time needed for MC Dropout-based Uncertainty Estimation   8.092122793197632\n"
     ]
    },
    {
     "name": "stderr",
     "output_type": "stream",
     "text": [
      "\n",
      " 18%|█▊        | 11/60 [01:31<06:42,  8.22s/it]\u001b[A"
     ]
    },
    {
     "name": "stdout",
     "output_type": "stream",
     "text": [
      "\n",
      " Time needed for MC Dropout-based Uncertainty Estimation   8.167865514755249\n"
     ]
    },
    {
     "name": "stderr",
     "output_type": "stream",
     "text": [
      "\n",
      " 20%|██        | 12/60 [01:39<06:33,  8.21s/it]\u001b[A"
     ]
    },
    {
     "name": "stdout",
     "output_type": "stream",
     "text": [
      "\n",
      " Time needed for MC Dropout-based Uncertainty Estimation   8.142007112503052\n"
     ]
    },
    {
     "name": "stderr",
     "output_type": "stream",
     "text": [
      "\n",
      " 22%|██▏       | 13/60 [01:47<06:24,  8.19s/it]\u001b[A"
     ]
    },
    {
     "name": "stdout",
     "output_type": "stream",
     "text": [
      "\n",
      " Time needed for MC Dropout-based Uncertainty Estimation   8.119593858718872\n"
     ]
    },
    {
     "name": "stderr",
     "output_type": "stream",
     "text": [
      "\n",
      " 23%|██▎       | 14/60 [01:56<06:16,  8.19s/it]\u001b[A"
     ]
    },
    {
     "name": "stdout",
     "output_type": "stream",
     "text": [
      "\n",
      " Time needed for MC Dropout-based Uncertainty Estimation   8.157556533813477\n"
     ]
    },
    {
     "name": "stderr",
     "output_type": "stream",
     "text": [
      "\n",
      " 25%|██▌       | 15/60 [02:04<06:08,  8.20s/it]\u001b[A"
     ]
    },
    {
     "name": "stdout",
     "output_type": "stream",
     "text": [
      "\n",
      " Time needed for MC Dropout-based Uncertainty Estimation   8.18059492111206\n"
     ]
    },
    {
     "name": "stderr",
     "output_type": "stream",
     "text": [
      "\n",
      " 27%|██▋       | 16/60 [02:12<06:00,  8.18s/it]\u001b[A"
     ]
    },
    {
     "name": "stdout",
     "output_type": "stream",
     "text": [
      "\n",
      " Time needed for MC Dropout-based Uncertainty Estimation   8.122876644134521\n"
     ]
    },
    {
     "name": "stderr",
     "output_type": "stream",
     "text": [
      "\n",
      " 28%|██▊       | 17/60 [02:20<05:51,  8.18s/it]\u001b[A"
     ]
    },
    {
     "name": "stdout",
     "output_type": "stream",
     "text": [
      "\n",
      " Time needed for MC Dropout-based Uncertainty Estimation   8.142491340637207\n"
     ]
    },
    {
     "name": "stderr",
     "output_type": "stream",
     "text": [
      "\n",
      " 30%|███       | 18/60 [02:28<05:43,  8.17s/it]\u001b[A"
     ]
    },
    {
     "name": "stdout",
     "output_type": "stream",
     "text": [
      "\n",
      " Time needed for MC Dropout-based Uncertainty Estimation   8.12120532989502\n"
     ]
    },
    {
     "name": "stderr",
     "output_type": "stream",
     "text": [
      "\n",
      " 32%|███▏      | 19/60 [02:37<05:35,  8.18s/it]\u001b[A"
     ]
    },
    {
     "name": "stdout",
     "output_type": "stream",
     "text": [
      "\n",
      " Time needed for MC Dropout-based Uncertainty Estimation   8.167744636535645\n"
     ]
    },
    {
     "name": "stderr",
     "output_type": "stream",
     "text": [
      "\n",
      " 33%|███▎      | 20/60 [02:45<05:27,  8.20s/it]\u001b[A"
     ]
    },
    {
     "name": "stdout",
     "output_type": "stream",
     "text": [
      "\n",
      " Time needed for MC Dropout-based Uncertainty Estimation   8.200995683670044\n"
     ]
    },
    {
     "name": "stderr",
     "output_type": "stream",
     "text": [
      "\n",
      " 35%|███▌      | 21/60 [02:53<05:19,  8.19s/it]\u001b[A"
     ]
    },
    {
     "name": "stdout",
     "output_type": "stream",
     "text": [
      "\n",
      " Time needed for MC Dropout-based Uncertainty Estimation   8.153467655181885\n"
     ]
    },
    {
     "name": "stderr",
     "output_type": "stream",
     "text": [
      "\n",
      " 37%|███▋      | 22/60 [03:01<05:10,  8.17s/it]\u001b[A"
     ]
    },
    {
     "name": "stdout",
     "output_type": "stream",
     "text": [
      "\n",
      " Time needed for MC Dropout-based Uncertainty Estimation   8.093415260314941\n"
     ]
    },
    {
     "name": "stderr",
     "output_type": "stream",
     "text": [
      "\n",
      " 38%|███▊      | 23/60 [03:09<05:02,  8.17s/it]\u001b[A"
     ]
    },
    {
     "name": "stdout",
     "output_type": "stream",
     "text": [
      "\n",
      " Time needed for MC Dropout-based Uncertainty Estimation   8.120985507965088\n"
     ]
    },
    {
     "name": "stderr",
     "output_type": "stream",
     "text": [
      "\n",
      " 40%|████      | 24/60 [03:17<04:54,  8.17s/it]\u001b[A"
     ]
    },
    {
     "name": "stdout",
     "output_type": "stream",
     "text": [
      "\n",
      " Time needed for MC Dropout-based Uncertainty Estimation   8.143685340881348\n"
     ]
    },
    {
     "name": "stderr",
     "output_type": "stream",
     "text": [
      "\n",
      " 42%|████▏     | 25/60 [03:26<04:46,  8.17s/it]\u001b[A"
     ]
    },
    {
     "name": "stdout",
     "output_type": "stream",
     "text": [
      "\n",
      " Time needed for MC Dropout-based Uncertainty Estimation   8.150253295898438\n"
     ]
    },
    {
     "name": "stderr",
     "output_type": "stream",
     "text": [
      "\n",
      " 43%|████▎     | 26/60 [03:34<04:38,  8.18s/it]\u001b[A"
     ]
    },
    {
     "name": "stdout",
     "output_type": "stream",
     "text": [
      "\n",
      " Time needed for MC Dropout-based Uncertainty Estimation   8.16974401473999\n"
     ]
    },
    {
     "name": "stderr",
     "output_type": "stream",
     "text": [
      "\n",
      " 45%|████▌     | 27/60 [03:42<04:29,  8.18s/it]\u001b[A"
     ]
    },
    {
     "name": "stdout",
     "output_type": "stream",
     "text": [
      "\n",
      " Time needed for MC Dropout-based Uncertainty Estimation   8.131784200668335\n"
     ]
    },
    {
     "name": "stderr",
     "output_type": "stream",
     "text": [
      "\n",
      " 47%|████▋     | 28/60 [03:50<04:21,  8.17s/it]\u001b[A"
     ]
    },
    {
     "name": "stdout",
     "output_type": "stream",
     "text": [
      "\n",
      " Time needed for MC Dropout-based Uncertainty Estimation   8.105327129364014\n"
     ]
    },
    {
     "name": "stderr",
     "output_type": "stream",
     "text": [
      "\n",
      " 48%|████▊     | 29/60 [03:58<04:13,  8.19s/it]\u001b[A"
     ]
    },
    {
     "name": "stdout",
     "output_type": "stream",
     "text": [
      "\n",
      " Time needed for MC Dropout-based Uncertainty Estimation   8.224761247634888\n"
     ]
    },
    {
     "name": "stderr",
     "output_type": "stream",
     "text": [
      "\n",
      " 50%|█████     | 30/60 [04:07<04:05,  8.20s/it]\u001b[A"
     ]
    },
    {
     "name": "stdout",
     "output_type": "stream",
     "text": [
      "\n",
      " Time needed for MC Dropout-based Uncertainty Estimation   8.172367572784424\n"
     ]
    },
    {
     "name": "stderr",
     "output_type": "stream",
     "text": [
      "\n",
      " 52%|█████▏    | 31/60 [04:15<03:57,  8.20s/it]\u001b[A"
     ]
    },
    {
     "name": "stdout",
     "output_type": "stream",
     "text": [
      "\n",
      " Time needed for MC Dropout-based Uncertainty Estimation   8.164593935012817\n"
     ]
    },
    {
     "name": "stderr",
     "output_type": "stream",
     "text": [
      "\n",
      " 53%|█████▎    | 32/60 [04:23<03:48,  8.16s/it]\u001b[A"
     ]
    },
    {
     "name": "stdout",
     "output_type": "stream",
     "text": [
      "\n",
      " Time needed for MC Dropout-based Uncertainty Estimation   8.039530038833618\n"
     ]
    },
    {
     "name": "stderr",
     "output_type": "stream",
     "text": [
      "\n",
      " 55%|█████▌    | 33/60 [04:31<03:40,  8.17s/it]\u001b[A"
     ]
    },
    {
     "name": "stdout",
     "output_type": "stream",
     "text": [
      "\n",
      " Time needed for MC Dropout-based Uncertainty Estimation   8.154410600662231\n"
     ]
    },
    {
     "name": "stderr",
     "output_type": "stream",
     "text": [
      "\n",
      " 57%|█████▋    | 34/60 [04:39<03:32,  8.16s/it]\u001b[A"
     ]
    },
    {
     "name": "stdout",
     "output_type": "stream",
     "text": [
      "\n",
      " Time needed for MC Dropout-based Uncertainty Estimation   8.118601322174072\n"
     ]
    },
    {
     "name": "stderr",
     "output_type": "stream",
     "text": [
      "\n",
      " 58%|█████▊    | 35/60 [04:47<03:23,  8.15s/it]\u001b[A"
     ]
    },
    {
     "name": "stdout",
     "output_type": "stream",
     "text": [
      "\n",
      " Time needed for MC Dropout-based Uncertainty Estimation   8.091225624084473\n"
     ]
    },
    {
     "name": "stderr",
     "output_type": "stream",
     "text": [
      "\n",
      " 60%|██████    | 36/60 [04:55<03:15,  8.15s/it]\u001b[A"
     ]
    },
    {
     "name": "stdout",
     "output_type": "stream",
     "text": [
      "\n",
      " Time needed for MC Dropout-based Uncertainty Estimation   8.106557607650757\n"
     ]
    },
    {
     "name": "stderr",
     "output_type": "stream",
     "text": [
      "\n",
      " 62%|██████▏   | 37/60 [05:04<03:07,  8.15s/it]\u001b[A"
     ]
    },
    {
     "name": "stdout",
     "output_type": "stream",
     "text": [
      "\n",
      " Time needed for MC Dropout-based Uncertainty Estimation   8.132463932037354\n"
     ]
    },
    {
     "name": "stderr",
     "output_type": "stream",
     "text": [
      "\n",
      " 63%|██████▎   | 38/60 [05:12<02:58,  8.12s/it]\u001b[A"
     ]
    },
    {
     "name": "stdout",
     "output_type": "stream",
     "text": [
      "\n",
      " Time needed for MC Dropout-based Uncertainty Estimation   8.019367456436157\n"
     ]
    },
    {
     "name": "stderr",
     "output_type": "stream",
     "text": [
      "\n",
      " 65%|██████▌   | 39/60 [05:20<02:50,  8.12s/it]\u001b[A"
     ]
    },
    {
     "name": "stdout",
     "output_type": "stream",
     "text": [
      "\n",
      " Time needed for MC Dropout-based Uncertainty Estimation   8.085867166519165\n"
     ]
    },
    {
     "name": "stderr",
     "output_type": "stream",
     "text": [
      "\n",
      " 67%|██████▋   | 40/60 [05:28<02:42,  8.10s/it]\u001b[A"
     ]
    },
    {
     "name": "stdout",
     "output_type": "stream",
     "text": [
      "\n",
      " Time needed for MC Dropout-based Uncertainty Estimation   8.033501625061035\n"
     ]
    },
    {
     "name": "stderr",
     "output_type": "stream",
     "text": [
      "\n",
      " 68%|██████▊   | 41/60 [05:36<02:34,  8.11s/it]\u001b[A"
     ]
    },
    {
     "name": "stdout",
     "output_type": "stream",
     "text": [
      "\n",
      " Time needed for MC Dropout-based Uncertainty Estimation   8.081102132797241\n"
     ]
    },
    {
     "name": "stderr",
     "output_type": "stream",
     "text": [
      "\n",
      " 70%|███████   | 42/60 [05:44<02:26,  8.12s/it]\u001b[A"
     ]
    },
    {
     "name": "stdout",
     "output_type": "stream",
     "text": [
      "\n",
      " Time needed for MC Dropout-based Uncertainty Estimation   8.113211870193481\n"
     ]
    },
    {
     "name": "stderr",
     "output_type": "stream",
     "text": [
      "\n",
      " 72%|███████▏  | 43/60 [05:52<02:18,  8.13s/it]\u001b[A"
     ]
    },
    {
     "name": "stdout",
     "output_type": "stream",
     "text": [
      "\n",
      " Time needed for MC Dropout-based Uncertainty Estimation   8.111350059509277\n"
     ]
    },
    {
     "name": "stderr",
     "output_type": "stream",
     "text": [
      "\n",
      " 73%|███████▎  | 44/60 [06:00<02:09,  8.11s/it]\u001b[A"
     ]
    },
    {
     "name": "stdout",
     "output_type": "stream",
     "text": [
      "\n",
      " Time needed for MC Dropout-based Uncertainty Estimation   8.027774810791016\n"
     ]
    },
    {
     "name": "stderr",
     "output_type": "stream",
     "text": [
      "\n",
      " 75%|███████▌  | 45/60 [06:08<02:01,  8.08s/it]\u001b[A"
     ]
    },
    {
     "name": "stdout",
     "output_type": "stream",
     "text": [
      "\n",
      " Time needed for MC Dropout-based Uncertainty Estimation   7.98857045173645\n"
     ]
    },
    {
     "name": "stderr",
     "output_type": "stream",
     "text": [
      "\n",
      " 77%|███████▋  | 46/60 [06:16<01:53,  8.09s/it]\u001b[A"
     ]
    },
    {
     "name": "stdout",
     "output_type": "stream",
     "text": [
      "\n",
      " Time needed for MC Dropout-based Uncertainty Estimation   8.065121412277222\n"
     ]
    },
    {
     "name": "stderr",
     "output_type": "stream",
     "text": [
      "\n",
      " 78%|███████▊  | 47/60 [06:24<01:44,  8.06s/it]\u001b[A"
     ]
    },
    {
     "name": "stdout",
     "output_type": "stream",
     "text": [
      "\n",
      " Time needed for MC Dropout-based Uncertainty Estimation   7.975759029388428\n"
     ]
    },
    {
     "name": "stderr",
     "output_type": "stream",
     "text": [
      "\n",
      " 80%|████████  | 48/60 [06:33<01:36,  8.08s/it]\u001b[A"
     ]
    },
    {
     "name": "stdout",
     "output_type": "stream",
     "text": [
      "\n",
      " Time needed for MC Dropout-based Uncertainty Estimation   8.086443662643433\n"
     ]
    },
    {
     "name": "stderr",
     "output_type": "stream",
     "text": [
      "\n",
      " 82%|████████▏ | 49/60 [06:41<01:28,  8.05s/it]\u001b[A"
     ]
    },
    {
     "name": "stdout",
     "output_type": "stream",
     "text": [
      "\n",
      " Time needed for MC Dropout-based Uncertainty Estimation   7.963439464569092\n"
     ]
    },
    {
     "name": "stderr",
     "output_type": "stream",
     "text": [
      "\n",
      " 83%|████████▎ | 50/60 [06:49<01:20,  8.05s/it]\u001b[A"
     ]
    },
    {
     "name": "stdout",
     "output_type": "stream",
     "text": [
      "\n",
      " Time needed for MC Dropout-based Uncertainty Estimation   8.014028310775757\n"
     ]
    },
    {
     "name": "stderr",
     "output_type": "stream",
     "text": [
      "\n",
      " 85%|████████▌ | 51/60 [06:57<01:12,  8.05s/it]\u001b[A"
     ]
    },
    {
     "name": "stdout",
     "output_type": "stream",
     "text": [
      "\n",
      " Time needed for MC Dropout-based Uncertainty Estimation   8.009392976760864\n"
     ]
    },
    {
     "name": "stderr",
     "output_type": "stream",
     "text": [
      "\n",
      " 87%|████████▋ | 52/60 [07:05<01:04,  8.05s/it]\u001b[A"
     ]
    },
    {
     "name": "stdout",
     "output_type": "stream",
     "text": [
      "\n",
      " Time needed for MC Dropout-based Uncertainty Estimation   8.031383037567139\n"
     ]
    },
    {
     "name": "stderr",
     "output_type": "stream",
     "text": [
      "\n",
      " 88%|████████▊ | 53/60 [07:13<00:56,  8.05s/it]\u001b[A"
     ]
    },
    {
     "name": "stdout",
     "output_type": "stream",
     "text": [
      "\n",
      " Time needed for MC Dropout-based Uncertainty Estimation   8.012040615081787\n"
     ]
    },
    {
     "name": "stderr",
     "output_type": "stream",
     "text": [
      "\n",
      " 90%|█████████ | 54/60 [07:21<00:48,  8.06s/it]\u001b[A"
     ]
    },
    {
     "name": "stdout",
     "output_type": "stream",
     "text": [
      "\n",
      " Time needed for MC Dropout-based Uncertainty Estimation   8.03509259223938\n"
     ]
    },
    {
     "name": "stderr",
     "output_type": "stream",
     "text": [
      "\n",
      " 92%|█████████▏| 55/60 [07:29<00:40,  8.06s/it]\u001b[A"
     ]
    },
    {
     "name": "stdout",
     "output_type": "stream",
     "text": [
      "\n",
      " Time needed for MC Dropout-based Uncertainty Estimation   8.027323961257935\n"
     ]
    },
    {
     "name": "stderr",
     "output_type": "stream",
     "text": [
      "\n",
      " 93%|█████████▎| 56/60 [07:37<00:32,  8.05s/it]\u001b[A"
     ]
    },
    {
     "name": "stdout",
     "output_type": "stream",
     "text": [
      "\n",
      " Time needed for MC Dropout-based Uncertainty Estimation   7.989038467407227\n"
     ]
    },
    {
     "name": "stderr",
     "output_type": "stream",
     "text": [
      "\n",
      " 95%|█████████▌| 57/60 [07:45<00:24,  8.05s/it]\u001b[A"
     ]
    },
    {
     "name": "stdout",
     "output_type": "stream",
     "text": [
      "\n",
      " Time needed for MC Dropout-based Uncertainty Estimation   8.01573395729065\n"
     ]
    },
    {
     "name": "stderr",
     "output_type": "stream",
     "text": [
      "\n",
      " 97%|█████████▋| 58/60 [07:53<00:16,  8.07s/it]\u001b[A"
     ]
    },
    {
     "name": "stdout",
     "output_type": "stream",
     "text": [
      "\n",
      " Time needed for MC Dropout-based Uncertainty Estimation   8.103296995162964\n"
     ]
    },
    {
     "name": "stderr",
     "output_type": "stream",
     "text": [
      "\n",
      " 98%|█████████▊| 59/60 [08:01<00:08,  8.06s/it]\u001b[A"
     ]
    },
    {
     "name": "stdout",
     "output_type": "stream",
     "text": [
      "\n",
      " Time needed for MC Dropout-based Uncertainty Estimation   8.008498430252075\n"
     ]
    },
    {
     "name": "stderr",
     "output_type": "stream",
     "text": [
      "\n",
      "100%|██████████| 60/60 [08:09<00:00,  8.09s/it]\u001b[A"
     ]
    },
    {
     "name": "stdout",
     "output_type": "stream",
     "text": [
      "\n",
      " Time needed for MC Dropout-based Uncertainty Estimation   8.128451347351074\n",
      "START TRAINING......:\n",
      "Training with 20 images\n",
      "Validating with 10 images\n",
      "Training Unet-mcdropout\n",
      "(20, 400, 400, 28)\n",
      "Epoch 1/80\n",
      " - 5s - loss: 0.8631 - accuracy: 0.1641 - val_loss: 0.6919 - val_accuracy: 0.7857\n",
      "\n",
      "Epoch 00001: val_loss improved from inf to 0.69194, saving model to ./trained_models/unet_div8_495K_20.hdf5\n",
      "Epoch 2/80\n",
      " - 1s - loss: 0.7730 - accuracy: 0.1326 - val_loss: 0.6552 - val_accuracy: 0.7977\n",
      "\n",
      "Epoch 00002: val_loss improved from 0.69194 to 0.65524, saving model to ./trained_models/unet_div8_495K_20.hdf5\n",
      "Epoch 3/80\n",
      " - 1s - loss: 0.7293 - accuracy: 0.1313 - val_loss: 0.5128 - val_accuracy: 0.8128\n",
      "\n",
      "Epoch 00003: val_loss improved from 0.65524 to 0.51277, saving model to ./trained_models/unet_div8_495K_20.hdf5\n",
      "Epoch 4/80\n",
      " - 2s - loss: 0.7107 - accuracy: 0.2769 - val_loss: 0.6736 - val_accuracy: 0.8336\n",
      "\n",
      "Epoch 00004: val_loss did not improve from 0.51277\n",
      "Epoch 5/80\n",
      " - 3s - loss: 0.6859 - accuracy: 0.7854 - val_loss: 0.6796 - val_accuracy: 0.8848\n",
      "\n",
      "Epoch 00005: val_loss did not improve from 0.51277\n",
      "Epoch 6/80\n",
      " - 3s - loss: 0.6752 - accuracy: 0.8463 - val_loss: 0.6759 - val_accuracy: 0.8848\n",
      "\n",
      "Epoch 00006: val_loss did not improve from 0.51277\n",
      "Epoch 7/80\n",
      " - 2s - loss: 0.6689 - accuracy: 0.8540 - val_loss: 0.6736 - val_accuracy: 0.8845\n",
      "\n",
      "Epoch 00007: val_loss did not improve from 0.51277\n",
      "Epoch 8/80\n",
      " - 3s - loss: 0.6618 - accuracy: 0.8804 - val_loss: 0.6712 - val_accuracy: 0.8737\n",
      "\n",
      "Epoch 00008: val_loss did not improve from 0.51277\n",
      "Epoch 9/80\n",
      " - 3s - loss: 0.6546 - accuracy: 0.8870 - val_loss: 0.6670 - val_accuracy: 0.8568\n",
      "\n",
      "Epoch 00009: val_loss did not improve from 0.51277\n",
      "Epoch 10/80\n",
      " - 3s - loss: 0.6448 - accuracy: 0.8905 - val_loss: 0.6651 - val_accuracy: 0.8514\n",
      "\n",
      "Epoch 00010: val_loss did not improve from 0.51277\n",
      "Epoch 11/80\n",
      " - 3s - loss: 0.6346 - accuracy: 0.8903 - val_loss: 0.6653 - val_accuracy: 0.8658\n",
      "\n",
      "Epoch 00011: val_loss did not improve from 0.51277\n",
      "Epoch 12/80\n",
      " - 3s - loss: 0.6267 - accuracy: 0.8926 - val_loss: 0.6620 - val_accuracy: 0.8764\n",
      "\n",
      "Epoch 00012: val_loss did not improve from 0.51277\n",
      "Epoch 13/80\n",
      " - 3s - loss: 0.6155 - accuracy: 0.8932 - val_loss: 0.6587 - val_accuracy: 0.8738\n",
      "\n",
      "Epoch 00013: val_loss did not improve from 0.51277\n",
      "Epoch 14/80\n",
      " - 2s - loss: 0.6125 - accuracy: 0.8911 - val_loss: 0.6555 - val_accuracy: 0.8783\n",
      "\n",
      "Epoch 00014: val_loss did not improve from 0.51277\n",
      "Epoch 15/80\n",
      " - 3s - loss: 0.6073 - accuracy: 0.8903 - val_loss: 0.6500 - val_accuracy: 0.8848\n"
     ]
    },
    {
     "name": "stderr",
     "output_type": "stream",
     "text": [
      "\n",
      "  0%|          | 0/20 [00:00<?, ?it/s]\u001b[A"
     ]
    },
    {
     "name": "stdout",
     "output_type": "stream",
     "text": [
      "\n",
      "Epoch 00015: val_loss did not improve from 0.51277\n"
     ]
    },
    {
     "name": "stderr",
     "output_type": "stream",
     "text": [
      "\n",
      "  5%|▌         | 1/20 [00:10<03:20, 10.55s/it]\u001b[A"
     ]
    },
    {
     "name": "stdout",
     "output_type": "stream",
     "text": [
      "\n",
      " Time needed for MC Dropout-based Uncertainty Estimation   10.547021389007568\n"
     ]
    },
    {
     "name": "stderr",
     "output_type": "stream",
     "text": [
      "\n",
      " 10%|█         | 2/20 [00:20<03:06, 10.36s/it]\u001b[A"
     ]
    },
    {
     "name": "stdout",
     "output_type": "stream",
     "text": [
      "\n",
      " Time needed for MC Dropout-based Uncertainty Estimation   9.8742516040802\n"
     ]
    },
    {
     "name": "stderr",
     "output_type": "stream",
     "text": [
      "\n",
      " 15%|█▌        | 3/20 [00:30<02:53, 10.23s/it]\u001b[A"
     ]
    },
    {
     "name": "stdout",
     "output_type": "stream",
     "text": [
      "\n",
      " Time needed for MC Dropout-based Uncertainty Estimation   9.918510913848877\n"
     ]
    },
    {
     "name": "stderr",
     "output_type": "stream",
     "text": [
      "\n",
      " 20%|██        | 4/20 [00:39<02:38,  9.92s/it]\u001b[A"
     ]
    },
    {
     "name": "stdout",
     "output_type": "stream",
     "text": [
      "\n",
      " Time needed for MC Dropout-based Uncertainty Estimation   9.176005125045776\n"
     ]
    },
    {
     "name": "stderr",
     "output_type": "stream",
     "text": [
      "\n",
      " 25%|██▌       | 5/20 [00:49<02:28,  9.93s/it]\u001b[A"
     ]
    },
    {
     "name": "stdout",
     "output_type": "stream",
     "text": [
      "\n",
      " Time needed for MC Dropout-based Uncertainty Estimation   9.944954633712769\n"
     ]
    },
    {
     "name": "stderr",
     "output_type": "stream",
     "text": [
      "\n",
      " 30%|███       | 6/20 [00:59<02:19,  9.94s/it]\u001b[A"
     ]
    },
    {
     "name": "stdout",
     "output_type": "stream",
     "text": [
      "\n",
      " Time needed for MC Dropout-based Uncertainty Estimation   9.938846588134766\n"
     ]
    },
    {
     "name": "stderr",
     "output_type": "stream",
     "text": [
      "\n",
      " 35%|███▌      | 7/20 [01:08<02:06,  9.71s/it]\u001b[A"
     ]
    },
    {
     "name": "stdout",
     "output_type": "stream",
     "text": [
      "\n",
      " Time needed for MC Dropout-based Uncertainty Estimation   9.142829656600952\n"
     ]
    },
    {
     "name": "stderr",
     "output_type": "stream",
     "text": [
      "\n",
      " 40%|████      | 8/20 [01:18<01:57,  9.77s/it]\u001b[A"
     ]
    },
    {
     "name": "stdout",
     "output_type": "stream",
     "text": [
      "\n",
      " Time needed for MC Dropout-based Uncertainty Estimation   9.916007995605469\n"
     ]
    },
    {
     "name": "stderr",
     "output_type": "stream",
     "text": [
      "\n",
      " 45%|████▌     | 9/20 [01:28<01:48,  9.83s/it]\u001b[A"
     ]
    },
    {
     "name": "stdout",
     "output_type": "stream",
     "text": [
      "\n",
      " Time needed for MC Dropout-based Uncertainty Estimation   9.95284390449524\n"
     ]
    },
    {
     "name": "stderr",
     "output_type": "stream",
     "text": [
      "\n",
      " 50%|█████     | 10/20 [01:37<01:36,  9.64s/it]\u001b[A"
     ]
    },
    {
     "name": "stdout",
     "output_type": "stream",
     "text": [
      "\n",
      " Time needed for MC Dropout-based Uncertainty Estimation   9.168006658554077\n"
     ]
    },
    {
     "name": "stderr",
     "output_type": "stream",
     "text": [
      "\n",
      " 55%|█████▌    | 11/20 [01:47<01:27,  9.77s/it]\u001b[A"
     ]
    },
    {
     "name": "stdout",
     "output_type": "stream",
     "text": [
      "\n",
      " Time needed for MC Dropout-based Uncertainty Estimation   10.071346521377563\n"
     ]
    },
    {
     "name": "stderr",
     "output_type": "stream",
     "text": [
      "\n",
      " 60%|██████    | 12/20 [01:57<01:18,  9.86s/it]\u001b[A"
     ]
    },
    {
     "name": "stdout",
     "output_type": "stream",
     "text": [
      "\n",
      " Time needed for MC Dropout-based Uncertainty Estimation   10.044327020645142\n"
     ]
    },
    {
     "name": "stderr",
     "output_type": "stream",
     "text": [
      "\n",
      " 65%|██████▌   | 13/20 [02:07<01:07,  9.67s/it]\u001b[A"
     ]
    },
    {
     "name": "stdout",
     "output_type": "stream",
     "text": [
      "\n",
      " Time needed for MC Dropout-based Uncertainty Estimation   9.222910404205322\n"
     ]
    },
    {
     "name": "stderr",
     "output_type": "stream",
     "text": [
      "\n",
      " 70%|███████   | 14/20 [02:17<00:58,  9.78s/it]\u001b[A"
     ]
    },
    {
     "name": "stdout",
     "output_type": "stream",
     "text": [
      "\n",
      " Time needed for MC Dropout-based Uncertainty Estimation   10.012033224105835\n"
     ]
    },
    {
     "name": "stderr",
     "output_type": "stream",
     "text": [
      "\n",
      " 75%|███████▌  | 15/20 [02:27<00:49,  9.86s/it]\u001b[A"
     ]
    },
    {
     "name": "stdout",
     "output_type": "stream",
     "text": [
      "\n",
      " Time needed for MC Dropout-based Uncertainty Estimation   10.027123212814331\n"
     ]
    },
    {
     "name": "stderr",
     "output_type": "stream",
     "text": [
      "\n",
      " 80%|████████  | 16/20 [02:36<00:38,  9.68s/it]\u001b[A"
     ]
    },
    {
     "name": "stdout",
     "output_type": "stream",
     "text": [
      "\n",
      " Time needed for MC Dropout-based Uncertainty Estimation   9.250624895095825\n"
     ]
    },
    {
     "name": "stderr",
     "output_type": "stream",
     "text": [
      "\n",
      " 85%|████████▌ | 17/20 [02:46<00:29,  9.77s/it]\u001b[A"
     ]
    },
    {
     "name": "stdout",
     "output_type": "stream",
     "text": [
      "\n",
      " Time needed for MC Dropout-based Uncertainty Estimation   9.968299150466919\n"
     ]
    },
    {
     "name": "stderr",
     "output_type": "stream",
     "text": [
      "\n",
      " 90%|█████████ | 18/20 [02:56<00:19,  9.85s/it]\u001b[A"
     ]
    },
    {
     "name": "stdout",
     "output_type": "stream",
     "text": [
      "\n",
      " Time needed for MC Dropout-based Uncertainty Estimation   9.999248743057251\n"
     ]
    },
    {
     "name": "stderr",
     "output_type": "stream",
     "text": [
      "\n",
      " 95%|█████████▌| 19/20 [03:05<00:09,  9.66s/it]\u001b[A"
     ]
    },
    {
     "name": "stdout",
     "output_type": "stream",
     "text": [
      "\n",
      " Time needed for MC Dropout-based Uncertainty Estimation   9.21054220199585\n"
     ]
    },
    {
     "name": "stderr",
     "output_type": "stream",
     "text": [
      "\n",
      "100%|██████████| 20/20 [03:15<00:00,  9.75s/it]\u001b[A\n",
      "  0%|          | 0/10 [00:00<?, ?it/s]\u001b[A"
     ]
    },
    {
     "name": "stdout",
     "output_type": "stream",
     "text": [
      "\n",
      " Time needed for MC Dropout-based Uncertainty Estimation   9.933939933776855\n"
     ]
    },
    {
     "name": "stderr",
     "output_type": "stream",
     "text": [
      "\n",
      " 10%|█         | 1/10 [00:04<00:44,  4.97s/it]\u001b[A"
     ]
    },
    {
     "name": "stdout",
     "output_type": "stream",
     "text": [
      "\n",
      " Time needed for MC Dropout-based Uncertainty Estimation   4.96948766708374\n"
     ]
    },
    {
     "name": "stderr",
     "output_type": "stream",
     "text": [
      "\n",
      " 20%|██        | 2/10 [00:09<00:39,  4.98s/it]\u001b[A"
     ]
    },
    {
     "name": "stdout",
     "output_type": "stream",
     "text": [
      "\n",
      " Time needed for MC Dropout-based Uncertainty Estimation   5.00227427482605\n"
     ]
    },
    {
     "name": "stderr",
     "output_type": "stream",
     "text": [
      "\n",
      " 30%|███       | 3/10 [00:15<00:35,  5.10s/it]\u001b[A"
     ]
    },
    {
     "name": "stdout",
     "output_type": "stream",
     "text": [
      "\n",
      " Time needed for MC Dropout-based Uncertainty Estimation   5.34635853767395\n"
     ]
    },
    {
     "name": "stderr",
     "output_type": "stream",
     "text": [
      "\n",
      " 40%|████      | 4/10 [00:20<00:31,  5.17s/it]\u001b[A"
     ]
    },
    {
     "name": "stdout",
     "output_type": "stream",
     "text": [
      "\n",
      " Time needed for MC Dropout-based Uncertainty Estimation   5.339137077331543\n"
     ]
    },
    {
     "name": "stderr",
     "output_type": "stream",
     "text": [
      "\n",
      " 50%|█████     | 5/10 [00:25<00:25,  5.10s/it]\u001b[A"
     ]
    },
    {
     "name": "stdout",
     "output_type": "stream",
     "text": [
      "\n",
      " Time needed for MC Dropout-based Uncertainty Estimation   4.9362287521362305\n"
     ]
    },
    {
     "name": "stderr",
     "output_type": "stream",
     "text": [
      "\n",
      " 60%|██████    | 6/10 [00:30<00:20,  5.17s/it]\u001b[A"
     ]
    },
    {
     "name": "stdout",
     "output_type": "stream",
     "text": [
      "\n",
      " Time needed for MC Dropout-based Uncertainty Estimation   5.3120503425598145\n"
     ]
    },
    {
     "name": "stderr",
     "output_type": "stream",
     "text": [
      "\n",
      " 70%|███████   | 7/10 [00:36<00:15,  5.22s/it]\u001b[A"
     ]
    },
    {
     "name": "stdout",
     "output_type": "stream",
     "text": [
      "\n",
      " Time needed for MC Dropout-based Uncertainty Estimation   5.316887855529785\n"
     ]
    },
    {
     "name": "stderr",
     "output_type": "stream",
     "text": [
      "\n",
      " 80%|████████  | 8/10 [00:41<00:10,  5.15s/it]\u001b[A"
     ]
    },
    {
     "name": "stdout",
     "output_type": "stream",
     "text": [
      "\n",
      " Time needed for MC Dropout-based Uncertainty Estimation   4.985083103179932\n"
     ]
    },
    {
     "name": "stderr",
     "output_type": "stream",
     "text": [
      "\n",
      " 90%|█████████ | 9/10 [00:46<00:05,  5.19s/it]\u001b[A"
     ]
    },
    {
     "name": "stdout",
     "output_type": "stream",
     "text": [
      "\n",
      " Time needed for MC Dropout-based Uncertainty Estimation   5.279220819473267\n"
     ]
    },
    {
     "name": "stderr",
     "output_type": "stream",
     "text": [
      "\n",
      "100%|██████████| 10/10 [00:51<00:00,  5.24s/it]\u001b[A"
     ]
    },
    {
     "name": "stdout",
     "output_type": "stream",
     "text": [
      "\n",
      " Time needed for MC Dropout-based Uncertainty Estimation   5.327392816543579\n",
      "Model: \"model_2\"\n",
      "_________________________________________________________________\n",
      "Layer (type)                 Output Shape              Param #   \n",
      "=================================================================\n",
      "input (InputLayer)           (None, 400, 400, 30)      0         \n",
      "_________________________________________________________________\n",
      "conv2d_11 (Conv2D)           (None, 400, 400, 32)      8672      \n",
      "_________________________________________________________________\n",
      "batch_normalization_19 (Batc (None, 400, 400, 32)      128       \n",
      "_________________________________________________________________\n",
      "activation_19 (Activation)   (None, 400, 400, 32)      0         \n",
      "_________________________________________________________________\n",
      "conv2d_12 (Conv2D)           (None, 400, 400, 32)      9248      \n",
      "_________________________________________________________________\n",
      "batch_normalization_20 (Batc (None, 400, 400, 32)      128       \n",
      "_________________________________________________________________\n",
      "activation_20 (Activation)   (None, 400, 400, 32)      0         \n",
      "_________________________________________________________________\n",
      "max_pooling2d_5 (MaxPooling2 (None, 200, 200, 32)      0         \n",
      "_________________________________________________________________\n",
      "conv2d_13 (Conv2D)           (None, 200, 200, 64)      18496     \n",
      "_________________________________________________________________\n",
      "batch_normalization_21 (Batc (None, 200, 200, 64)      256       \n",
      "_________________________________________________________________\n",
      "activation_21 (Activation)   (None, 200, 200, 64)      0         \n",
      "_________________________________________________________________\n",
      "conv2d_14 (Conv2D)           (None, 200, 200, 64)      36928     \n",
      "_________________________________________________________________\n",
      "batch_normalization_22 (Batc (None, 200, 200, 64)      256       \n",
      "_________________________________________________________________\n",
      "activation_22 (Activation)   (None, 200, 200, 64)      0         \n",
      "_________________________________________________________________\n",
      "max_pooling2d_6 (MaxPooling2 (None, 100, 100, 64)      0         \n",
      "_________________________________________________________________\n",
      "conv2d_15 (Conv2D)           (None, 100, 100, 128)     73856     \n",
      "_________________________________________________________________\n",
      "batch_normalization_23 (Batc (None, 100, 100, 128)     512       \n",
      "_________________________________________________________________\n",
      "activation_23 (Activation)   (None, 100, 100, 128)     0         \n",
      "_________________________________________________________________\n",
      "conv2d_16 (Conv2D)           (None, 100, 100, 128)     147584    \n",
      "_________________________________________________________________\n",
      "batch_normalization_24 (Batc (None, 100, 100, 128)     512       \n",
      "_________________________________________________________________\n",
      "activation_24 (Activation)   (None, 100, 100, 128)     0         \n",
      "_________________________________________________________________\n",
      "max_pooling2d_7 (MaxPooling2 (None, 50, 50, 128)       0         \n",
      "_________________________________________________________________\n",
      "conv2d_17 (Conv2D)           (None, 50, 50, 256)       295168    \n",
      "_________________________________________________________________\n",
      "batch_normalization_25 (Batc (None, 50, 50, 256)       1024      \n",
      "_________________________________________________________________\n",
      "activation_25 (Activation)   (None, 50, 50, 256)       0         \n",
      "_________________________________________________________________\n",
      "conv2d_18 (Conv2D)           (None, 50, 50, 256)       590080    \n",
      "_________________________________________________________________\n",
      "batch_normalization_26 (Batc (None, 50, 50, 256)       1024      \n",
      "_________________________________________________________________\n",
      "activation_26 (Activation)   (None, 50, 50, 256)       0         \n",
      "_________________________________________________________________\n",
      "global_average_pooling2d_1 ( (None, 256)               0         \n",
      "_________________________________________________________________\n",
      "dense_2 (Dense)              (None, 1)                 257       \n",
      "_________________________________________________________________\n",
      "output (Activation)          (None, 1)                 0         \n",
      "=================================================================\n",
      "Total params: 1,184,129\n",
      "Trainable params: 1,182,209\n",
      "Non-trainable params: 1,920\n",
      "_________________________________________________________________\n",
      "(20, 1)\n",
      "Train on 20 samples, validate on 10 samples\n",
      "Epoch 1/60\n",
      " - 2s - loss: 0.4849 - val_loss: 0.2588\n",
      "\n",
      "Epoch 00001: val_loss improved from inf to 0.25884, saving model to ./trained_models/unet_div8_495K_20_DiceNet.hdf5\n",
      "Epoch 2/60\n",
      " - 1s - loss: 0.3085 - val_loss: 0.2525\n",
      "\n",
      "Epoch 00002: val_loss improved from 0.25884 to 0.25253, saving model to ./trained_models/unet_div8_495K_20_DiceNet.hdf5\n",
      "Epoch 3/60\n",
      " - 1s - loss: 0.1321 - val_loss: 0.2466\n",
      "\n",
      "Epoch 00003: val_loss improved from 0.25253 to 0.24661, saving model to ./trained_models/unet_div8_495K_20_DiceNet.hdf5\n",
      "Epoch 4/60\n",
      " - 1s - loss: 0.0502 - val_loss: 0.2345\n",
      "\n",
      "Epoch 00004: val_loss improved from 0.24661 to 0.23448, saving model to ./trained_models/unet_div8_495K_20_DiceNet.hdf5\n",
      "Epoch 5/60\n",
      " - 1s - loss: 0.0263 - val_loss: 0.2166\n",
      "\n",
      "Epoch 00005: val_loss improved from 0.23448 to 0.21660, saving model to ./trained_models/unet_div8_495K_20_DiceNet.hdf5\n",
      "Epoch 6/60\n",
      " - 1s - loss: 0.0164 - val_loss: 0.1950\n",
      "\n",
      "Epoch 00006: val_loss improved from 0.21660 to 0.19496, saving model to ./trained_models/unet_div8_495K_20_DiceNet.hdf5\n",
      "Epoch 7/60\n",
      " - 1s - loss: 0.0112 - val_loss: 0.1717\n",
      "\n",
      "Epoch 00007: val_loss improved from 0.19496 to 0.17168, saving model to ./trained_models/unet_div8_495K_20_DiceNet.hdf5\n",
      "Epoch 8/60\n",
      " - 1s - loss: 0.0082 - val_loss: 0.1498\n",
      "\n",
      "Epoch 00008: val_loss improved from 0.17168 to 0.14981, saving model to ./trained_models/unet_div8_495K_20_DiceNet.hdf5\n",
      "Epoch 9/60\n",
      " - 1s - loss: 0.0063 - val_loss: 0.1325\n",
      "\n",
      "Epoch 00009: val_loss improved from 0.14981 to 0.13250, saving model to ./trained_models/unet_div8_495K_20_DiceNet.hdf5\n",
      "Epoch 10/60\n",
      " - 1s - loss: 0.0051 - val_loss: 0.1214\n",
      "\n",
      "Epoch 00010: val_loss improved from 0.13250 to 0.12136, saving model to ./trained_models/unet_div8_495K_20_DiceNet.hdf5\n",
      "Epoch 11/60\n",
      " - 1s - loss: 0.0043 - val_loss: 0.1187\n",
      "\n",
      "Epoch 00011: val_loss improved from 0.12136 to 0.11873, saving model to ./trained_models/unet_div8_495K_20_DiceNet.hdf5\n",
      "Epoch 12/60\n",
      " - 1s - loss: 0.0037 - val_loss: 0.1266\n",
      "\n",
      "Epoch 00012: val_loss did not improve from 0.11873\n",
      "Epoch 13/60\n",
      " - 1s - loss: 0.0031 - val_loss: 0.1451\n",
      "\n",
      "Epoch 00013: val_loss did not improve from 0.11873\n",
      "Epoch 14/60\n",
      " - 1s - loss: 0.0027 - val_loss: 0.1652\n",
      "\n",
      "Epoch 00014: val_loss did not improve from 0.11873\n",
      "Epoch 15/60\n",
      " - 1s - loss: 0.0023 - val_loss: 0.1664\n",
      "\n",
      "Epoch 00015: val_loss did not improve from 0.11873\n",
      "Epoch 16/60\n",
      " - 1s - loss: 0.0020 - val_loss: 0.1471\n",
      "\n",
      "Epoch 00016: val_loss did not improve from 0.11873\n",
      "Epoch 17/60\n",
      " - 1s - loss: 0.0017 - val_loss: 0.1220\n",
      "\n",
      "Epoch 00017: val_loss did not improve from 0.11873\n",
      "Epoch 18/60\n",
      " - 1s - loss: 0.0016 - val_loss: 0.0988\n",
      "\n",
      "Epoch 00018: val_loss improved from 0.11873 to 0.09882, saving model to ./trained_models/unet_div8_495K_20_DiceNet.hdf5\n",
      "Epoch 19/60\n",
      " - 1s - loss: 0.0014 - val_loss: 0.0796\n",
      "\n",
      "Epoch 00019: val_loss improved from 0.09882 to 0.07960, saving model to ./trained_models/unet_div8_495K_20_DiceNet.hdf5\n",
      "Epoch 20/60\n",
      " - 1s - loss: 0.0013 - val_loss: 0.0643\n",
      "\n",
      "Epoch 00020: val_loss improved from 0.07960 to 0.06432, saving model to ./trained_models/unet_div8_495K_20_DiceNet.hdf5\n",
      "Epoch 21/60\n",
      " - 1s - loss: 0.0012 - val_loss: 0.0526\n",
      "\n",
      "Epoch 00021: val_loss improved from 0.06432 to 0.05264, saving model to ./trained_models/unet_div8_495K_20_DiceNet.hdf5\n",
      "Epoch 22/60\n",
      " - 1s - loss: 0.0011 - val_loss: 0.0439\n",
      "\n",
      "Epoch 00022: val_loss improved from 0.05264 to 0.04390, saving model to ./trained_models/unet_div8_495K_20_DiceNet.hdf5\n",
      "Epoch 23/60\n",
      " - 1s - loss: 0.0010 - val_loss: 0.0374\n",
      "\n",
      "Epoch 00023: val_loss improved from 0.04390 to 0.03735, saving model to ./trained_models/unet_div8_495K_20_DiceNet.hdf5\n",
      "Epoch 24/60\n",
      " - 1s - loss: 9.2681e-04 - val_loss: 0.0324\n",
      "\n",
      "Epoch 00024: val_loss improved from 0.03735 to 0.03237, saving model to ./trained_models/unet_div8_495K_20_DiceNet.hdf5\n",
      "Epoch 25/60\n"
     ]
    },
    {
     "name": "stdout",
     "output_type": "stream",
     "text": [
      " - 1s - loss: 8.6237e-04 - val_loss: 0.0285\n",
      "\n",
      "Epoch 00025: val_loss improved from 0.03237 to 0.02850, saving model to ./trained_models/unet_div8_495K_20_DiceNet.hdf5\n",
      "Epoch 26/60\n",
      " - 1s - loss: 8.0684e-04 - val_loss: 0.0254\n",
      "\n",
      "Epoch 00026: val_loss improved from 0.02850 to 0.02543, saving model to ./trained_models/unet_div8_495K_20_DiceNet.hdf5\n",
      "Epoch 27/60\n",
      " - 1s - loss: 7.5961e-04 - val_loss: 0.0229\n",
      "\n",
      "Epoch 00027: val_loss improved from 0.02543 to 0.02293, saving model to ./trained_models/unet_div8_495K_20_DiceNet.hdf5\n",
      "Epoch 28/60\n",
      " - 1s - loss: 7.1959e-04 - val_loss: 0.0208\n",
      "\n",
      "Epoch 00028: val_loss improved from 0.02293 to 0.02085, saving model to ./trained_models/unet_div8_495K_20_DiceNet.hdf5\n",
      "Epoch 29/60\n",
      " - 1s - loss: 6.8543e-04 - val_loss: 0.0191\n",
      "\n",
      "Epoch 00029: val_loss improved from 0.02085 to 0.01906, saving model to ./trained_models/unet_div8_495K_20_DiceNet.hdf5\n",
      "Epoch 30/60\n",
      " - 1s - loss: 6.5583e-04 - val_loss: 0.0175\n",
      "\n",
      "Epoch 00030: val_loss improved from 0.01906 to 0.01750, saving model to ./trained_models/unet_div8_495K_20_DiceNet.hdf5\n",
      "Epoch 31/60\n",
      " - 1s - loss: 6.2971e-04 - val_loss: 0.0161\n",
      "\n",
      "Epoch 00031: val_loss improved from 0.01750 to 0.01612, saving model to ./trained_models/unet_div8_495K_20_DiceNet.hdf5\n",
      "Epoch 32/60\n",
      " - 1s - loss: 6.0635e-04 - val_loss: 0.0149\n",
      "\n",
      "Epoch 00032: val_loss improved from 0.01612 to 0.01487, saving model to ./trained_models/unet_div8_495K_20_DiceNet.hdf5\n",
      "Epoch 33/60\n",
      " - 1s - loss: 5.8530e-04 - val_loss: 0.0137\n",
      "\n",
      "Epoch 00033: val_loss improved from 0.01487 to 0.01373, saving model to ./trained_models/unet_div8_495K_20_DiceNet.hdf5\n",
      "Epoch 34/60\n",
      " - 1s - loss: 5.6625e-04 - val_loss: 0.0127\n",
      "\n",
      "Epoch 00034: val_loss improved from 0.01373 to 0.01271, saving model to ./trained_models/unet_div8_495K_20_DiceNet.hdf5\n",
      "Epoch 35/60\n",
      " - 1s - loss: 5.4896e-04 - val_loss: 0.0118\n",
      "\n",
      "Epoch 00035: val_loss improved from 0.01271 to 0.01180, saving model to ./trained_models/unet_div8_495K_20_DiceNet.hdf5\n",
      "Epoch 36/60\n",
      " - 1s - loss: 5.3325e-04 - val_loss: 0.0110\n",
      "\n",
      "Epoch 00036: val_loss improved from 0.01180 to 0.01100, saving model to ./trained_models/unet_div8_495K_20_DiceNet.hdf5\n",
      "Epoch 37/60\n",
      " - 1s - loss: 5.1891e-04 - val_loss: 0.0103\n",
      "\n",
      "Epoch 00037: val_loss improved from 0.01100 to 0.01030, saving model to ./trained_models/unet_div8_495K_20_DiceNet.hdf5\n",
      "Epoch 38/60\n",
      " - 1s - loss: 5.0581e-04 - val_loss: 0.0097\n",
      "\n",
      "Epoch 00038: val_loss improved from 0.01030 to 0.00968, saving model to ./trained_models/unet_div8_495K_20_DiceNet.hdf5\n",
      "Epoch 39/60\n",
      " - 1s - loss: 4.9382e-04 - val_loss: 0.0091\n",
      "\n",
      "Epoch 00039: val_loss improved from 0.00968 to 0.00915, saving model to ./trained_models/unet_div8_495K_20_DiceNet.hdf5\n",
      "Epoch 40/60\n",
      " - 1s - loss: 4.8282e-04 - val_loss: 0.0087\n",
      "\n",
      "Epoch 00040: val_loss improved from 0.00915 to 0.00868, saving model to ./trained_models/unet_div8_495K_20_DiceNet.hdf5\n",
      "Epoch 41/60\n",
      " - 1s - loss: 4.7272e-04 - val_loss: 0.0083\n",
      "\n",
      "Epoch 00041: val_loss improved from 0.00868 to 0.00826, saving model to ./trained_models/unet_div8_495K_20_DiceNet.hdf5\n",
      "Epoch 42/60\n",
      " - 1s - loss: 4.6344e-04 - val_loss: 0.0079\n",
      "\n",
      "Epoch 00042: val_loss improved from 0.00826 to 0.00788, saving model to ./trained_models/unet_div8_495K_20_DiceNet.hdf5\n",
      "Epoch 43/60\n",
      " - 1s - loss: 4.5492e-04 - val_loss: 0.0075\n",
      "\n",
      "Epoch 00043: val_loss improved from 0.00788 to 0.00754, saving model to ./trained_models/unet_div8_495K_20_DiceNet.hdf5\n",
      "Epoch 44/60\n",
      " - 1s - loss: 4.4708e-04 - val_loss: 0.0072\n",
      "\n",
      "Epoch 00044: val_loss improved from 0.00754 to 0.00724, saving model to ./trained_models/unet_div8_495K_20_DiceNet.hdf5\n",
      "Epoch 45/60\n",
      " - 1s - loss: 4.3985e-04 - val_loss: 0.0070\n",
      "\n",
      "Epoch 00045: val_loss improved from 0.00724 to 0.00695, saving model to ./trained_models/unet_div8_495K_20_DiceNet.hdf5\n",
      "Epoch 46/60\n",
      " - 1s - loss: 4.3316e-04 - val_loss: 0.0067\n",
      "\n",
      "Epoch 00046: val_loss improved from 0.00695 to 0.00670, saving model to ./trained_models/unet_div8_495K_20_DiceNet.hdf5\n",
      "Epoch 47/60\n",
      " - 1s - loss: 4.2693e-04 - val_loss: 0.0065\n",
      "\n",
      "Epoch 00047: val_loss improved from 0.00670 to 0.00646, saving model to ./trained_models/unet_div8_495K_20_DiceNet.hdf5\n",
      "Epoch 48/60\n",
      " - 1s - loss: 4.2108e-04 - val_loss: 0.0062\n",
      "\n",
      "Epoch 00048: val_loss improved from 0.00646 to 0.00625, saving model to ./trained_models/unet_div8_495K_20_DiceNet.hdf5\n",
      "Epoch 49/60\n",
      " - 1s - loss: 4.1554e-04 - val_loss: 0.0061\n",
      "\n",
      "Epoch 00049: val_loss improved from 0.00625 to 0.00605, saving model to ./trained_models/unet_div8_495K_20_DiceNet.hdf5\n",
      "Epoch 50/60\n",
      " - 1s - loss: 4.1025e-04 - val_loss: 0.0059\n",
      "\n",
      "Epoch 00050: val_loss improved from 0.00605 to 0.00587, saving model to ./trained_models/unet_div8_495K_20_DiceNet.hdf5\n",
      "Epoch 51/60\n",
      " - 1s - loss: 4.0518e-04 - val_loss: 0.0057\n",
      "\n",
      "Epoch 00051: val_loss improved from 0.00587 to 0.00570, saving model to ./trained_models/unet_div8_495K_20_DiceNet.hdf5\n",
      "Epoch 52/60\n",
      " - 1s - loss: 4.0029e-04 - val_loss: 0.0056\n",
      "\n",
      "Epoch 00052: val_loss improved from 0.00570 to 0.00555, saving model to ./trained_models/unet_div8_495K_20_DiceNet.hdf5\n",
      "Epoch 53/60\n",
      " - 1s - loss: 3.9558e-04 - val_loss: 0.0054\n",
      "\n",
      "Epoch 00053: val_loss improved from 0.00555 to 0.00541, saving model to ./trained_models/unet_div8_495K_20_DiceNet.hdf5\n",
      "Epoch 54/60\n",
      " - 1s - loss: 3.9104e-04 - val_loss: 0.0053\n",
      "\n",
      "Epoch 00054: val_loss improved from 0.00541 to 0.00529, saving model to ./trained_models/unet_div8_495K_20_DiceNet.hdf5\n",
      "Epoch 55/60\n",
      " - 1s - loss: 3.8668e-04 - val_loss: 0.0052\n",
      "\n",
      "Epoch 00055: val_loss improved from 0.00529 to 0.00517, saving model to ./trained_models/unet_div8_495K_20_DiceNet.hdf5\n",
      "Epoch 56/60\n",
      " - 1s - loss: 3.8249e-04 - val_loss: 0.0051\n",
      "\n",
      "Epoch 00056: val_loss improved from 0.00517 to 0.00506, saving model to ./trained_models/unet_div8_495K_20_DiceNet.hdf5\n",
      "Epoch 57/60\n",
      " - 1s - loss: 3.7849e-04 - val_loss: 0.0050\n",
      "\n",
      "Epoch 00057: val_loss improved from 0.00506 to 0.00497, saving model to ./trained_models/unet_div8_495K_20_DiceNet.hdf5\n",
      "Epoch 58/60\n",
      " - 1s - loss: 3.7466e-04 - val_loss: 0.0049\n",
      "\n",
      "Epoch 00058: val_loss improved from 0.00497 to 0.00488, saving model to ./trained_models/unet_div8_495K_20_DiceNet.hdf5\n",
      "Epoch 59/60\n",
      " - 1s - loss: 3.7100e-04 - val_loss: 0.0048\n",
      "\n",
      "Epoch 00059: val_loss improved from 0.00488 to 0.00480, saving model to ./trained_models/unet_div8_495K_20_DiceNet.hdf5\n",
      "Epoch 60/60\n",
      " - 1s - loss: 3.6750e-04 - val_loss: 0.0047\n",
      "\n",
      "Epoch 00060: val_loss improved from 0.00480 to 0.00472, saving model to ./trained_models/unet_div8_495K_20_DiceNet.hdf5\n",
      "False\n",
      "False\n",
      "START EVALUATION......:\n",
      "(10, 400, 400, 28)\n",
      "Loading model: ./trained_models/unet_div8_495K_20.hdf5\n"
     ]
    },
    {
     "name": "stderr",
     "output_type": "stream",
     "text": [
      "\n",
      "  0%|          | 0/10 [00:00<?, ?it/s]\u001b[A\n",
      " 10%|█         | 1/10 [00:02<00:21,  2.44s/it]\u001b[A"
     ]
    },
    {
     "name": "stdout",
     "output_type": "stream",
     "text": [
      "\n",
      " Time needed for MC Dropout-based Uncertainty Estimation   2.4343748092651367\n"
     ]
    },
    {
     "name": "stderr",
     "output_type": "stream",
     "text": [
      "\n",
      " 20%|██        | 2/10 [00:03<00:16,  2.10s/it]\u001b[A"
     ]
    },
    {
     "name": "stdout",
     "output_type": "stream",
     "text": [
      "\n",
      " Time needed for MC Dropout-based Uncertainty Estimation   1.3131835460662842\n"
     ]
    },
    {
     "name": "stderr",
     "output_type": "stream",
     "text": [
      "\n",
      " 30%|███       | 3/10 [00:05<00:13,  1.90s/it]\u001b[A"
     ]
    },
    {
     "name": "stdout",
     "output_type": "stream",
     "text": [
      "\n",
      " Time needed for MC Dropout-based Uncertainty Estimation   1.405651569366455\n"
     ]
    },
    {
     "name": "stderr",
     "output_type": "stream",
     "text": [
      "\n",
      " 40%|████      | 4/10 [00:06<00:10,  1.71s/it]\u001b[A"
     ]
    },
    {
     "name": "stdout",
     "output_type": "stream",
     "text": [
      "\n",
      " Time needed for MC Dropout-based Uncertainty Estimation   1.2723546028137207\n"
     ]
    },
    {
     "name": "stderr",
     "output_type": "stream",
     "text": [
      "\n",
      " 50%|█████     | 5/10 [00:07<00:08,  1.62s/it]\u001b[A"
     ]
    },
    {
     "name": "stdout",
     "output_type": "stream",
     "text": [
      "\n",
      " Time needed for MC Dropout-based Uncertainty Estimation   1.385303258895874\n"
     ]
    },
    {
     "name": "stderr",
     "output_type": "stream",
     "text": [
      "\n",
      " 60%|██████    | 6/10 [00:09<00:06,  1.52s/it]\u001b[A"
     ]
    },
    {
     "name": "stdout",
     "output_type": "stream",
     "text": [
      "\n",
      " Time needed for MC Dropout-based Uncertainty Estimation   1.2832567691802979\n"
     ]
    },
    {
     "name": "stderr",
     "output_type": "stream",
     "text": [
      "\n",
      " 70%|███████   | 7/10 [00:10<00:04,  1.48s/it]\u001b[A"
     ]
    },
    {
     "name": "stdout",
     "output_type": "stream",
     "text": [
      "\n",
      " Time needed for MC Dropout-based Uncertainty Estimation   1.3793144226074219\n"
     ]
    },
    {
     "name": "stderr",
     "output_type": "stream",
     "text": [
      "\n",
      " 80%|████████  | 8/10 [00:11<00:02,  1.42s/it]\u001b[A"
     ]
    },
    {
     "name": "stdout",
     "output_type": "stream",
     "text": [
      "\n",
      " Time needed for MC Dropout-based Uncertainty Estimation   1.2690680027008057\n"
     ]
    },
    {
     "name": "stderr",
     "output_type": "stream",
     "text": [
      "\n",
      " 90%|█████████ | 9/10 [00:13<00:01,  1.41s/it]\u001b[A"
     ]
    },
    {
     "name": "stdout",
     "output_type": "stream",
     "text": [
      "\n",
      " Time needed for MC Dropout-based Uncertainty Estimation   1.3673186302185059\n"
     ]
    },
    {
     "name": "stderr",
     "output_type": "stream",
     "text": [
      "\n",
      "100%|██████████| 10/10 [00:14<00:00,  1.38s/it]\u001b[A"
     ]
    },
    {
     "name": "stdout",
     "output_type": "stream",
     "text": [
      "\n",
      " Time needed for MC Dropout-based Uncertainty Estimation   1.294614315032959\n",
      "Loading model: ./trained_models/unet_div8_495K_20_DiceNet.hdf5\n",
      "START EVALUATION......:\n",
      "(60, 400, 400, 28)\n",
      "Loading model: ./trained_models/unet_div8_495K_20.hdf5\n"
     ]
    },
    {
     "name": "stderr",
     "output_type": "stream",
     "text": [
      "\n",
      "  0%|          | 0/60 [00:00<?, ?it/s]\u001b[A\n",
      "  2%|▏         | 1/60 [00:09<09:27,  9.62s/it]\u001b[A"
     ]
    },
    {
     "name": "stdout",
     "output_type": "stream",
     "text": [
      "\n",
      " Time needed for MC Dropout-based Uncertainty Estimation   9.59467887878418\n"
     ]
    },
    {
     "name": "stderr",
     "output_type": "stream",
     "text": [
      "\n",
      "  3%|▎         | 2/60 [00:18<09:01,  9.34s/it]\u001b[A"
     ]
    },
    {
     "name": "stdout",
     "output_type": "stream",
     "text": [
      "\n",
      " Time needed for MC Dropout-based Uncertainty Estimation   8.668532133102417\n"
     ]
    },
    {
     "name": "stderr",
     "output_type": "stream",
     "text": [
      "\n",
      "  5%|▌         | 3/60 [00:26<08:39,  9.12s/it]\u001b[A"
     ]
    },
    {
     "name": "stdout",
     "output_type": "stream",
     "text": [
      "\n",
      " Time needed for MC Dropout-based Uncertainty Estimation   8.554996252059937\n"
     ]
    },
    {
     "name": "stderr",
     "output_type": "stream",
     "text": [
      "\n",
      "  7%|▋         | 4/60 [00:34<08:11,  8.79s/it]\u001b[A"
     ]
    },
    {
     "name": "stdout",
     "output_type": "stream",
     "text": [
      "\n",
      " Time needed for MC Dropout-based Uncertainty Estimation   7.982150077819824\n"
     ]
    },
    {
     "name": "stderr",
     "output_type": "stream",
     "text": [
      "\n",
      "  8%|▊         | 5/60 [00:43<08:01,  8.76s/it]\u001b[A"
     ]
    },
    {
     "name": "stdout",
     "output_type": "stream",
     "text": [
      "\n",
      " Time needed for MC Dropout-based Uncertainty Estimation   8.655990600585938\n"
     ]
    },
    {
     "name": "stderr",
     "output_type": "stream",
     "text": [
      "\n",
      " 10%|█         | 6/60 [00:52<07:48,  8.68s/it]\u001b[A"
     ]
    },
    {
     "name": "stdout",
     "output_type": "stream",
     "text": [
      "\n",
      " Time needed for MC Dropout-based Uncertainty Estimation   8.454207181930542\n"
     ]
    },
    {
     "name": "stderr",
     "output_type": "stream",
     "text": [
      "\n",
      " 12%|█▏        | 7/60 [01:00<07:29,  8.49s/it]\u001b[A"
     ]
    },
    {
     "name": "stdout",
     "output_type": "stream",
     "text": [
      "\n",
      " Time needed for MC Dropout-based Uncertainty Estimation   8.017171621322632\n"
     ]
    },
    {
     "name": "stderr",
     "output_type": "stream",
     "text": [
      "\n",
      " 13%|█▎        | 8/60 [01:08<07:25,  8.56s/it]\u001b[A"
     ]
    },
    {
     "name": "stdout",
     "output_type": "stream",
     "text": [
      "\n",
      " Time needed for MC Dropout-based Uncertainty Estimation   8.695545673370361\n"
     ]
    },
    {
     "name": "stderr",
     "output_type": "stream",
     "text": [
      "\n",
      " 15%|█▌        | 9/60 [01:17<07:17,  8.57s/it]\u001b[A"
     ]
    },
    {
     "name": "stdout",
     "output_type": "stream",
     "text": [
      "\n",
      " Time needed for MC Dropout-based Uncertainty Estimation   8.56779432296753\n"
     ]
    },
    {
     "name": "stderr",
     "output_type": "stream",
     "text": [
      "\n",
      " 17%|█▋        | 10/60 [01:25<07:00,  8.42s/it]\u001b[A"
     ]
    },
    {
     "name": "stdout",
     "output_type": "stream",
     "text": [
      "\n",
      " Time needed for MC Dropout-based Uncertainty Estimation   8.024055480957031\n"
     ]
    },
    {
     "name": "stderr",
     "output_type": "stream",
     "text": [
      "\n",
      " 18%|█▊        | 11/60 [01:34<06:55,  8.49s/it]\u001b[A"
     ]
    },
    {
     "name": "stdout",
     "output_type": "stream",
     "text": [
      "\n",
      " Time needed for MC Dropout-based Uncertainty Estimation   8.616343259811401\n"
     ]
    },
    {
     "name": "stderr",
     "output_type": "stream",
     "text": [
      "\n",
      " 20%|██        | 12/60 [01:42<06:47,  8.49s/it]\u001b[A"
     ]
    },
    {
     "name": "stdout",
     "output_type": "stream",
     "text": [
      "\n",
      " Time needed for MC Dropout-based Uncertainty Estimation   8.47244644165039\n"
     ]
    },
    {
     "name": "stderr",
     "output_type": "stream",
     "text": [
      "\n",
      " 22%|██▏       | 13/60 [01:50<06:31,  8.33s/it]\u001b[A"
     ]
    },
    {
     "name": "stdout",
     "output_type": "stream",
     "text": [
      "\n",
      " Time needed for MC Dropout-based Uncertainty Estimation   7.921207904815674\n"
     ]
    },
    {
     "name": "stderr",
     "output_type": "stream",
     "text": [
      "\n",
      " 23%|██▎       | 14/60 [01:59<06:27,  8.43s/it]\u001b[A"
     ]
    },
    {
     "name": "stdout",
     "output_type": "stream",
     "text": [
      "\n",
      " Time needed for MC Dropout-based Uncertainty Estimation   8.62533712387085\n"
     ]
    },
    {
     "name": "stderr",
     "output_type": "stream",
     "text": [
      "\n",
      " 25%|██▌       | 15/60 [02:07<06:21,  8.47s/it]\u001b[A"
     ]
    },
    {
     "name": "stdout",
     "output_type": "stream",
     "text": [
      "\n",
      " Time needed for MC Dropout-based Uncertainty Estimation   8.523068189620972\n"
     ]
    },
    {
     "name": "stderr",
     "output_type": "stream",
     "text": [
      "\n",
      " 27%|██▋       | 16/60 [02:15<06:07,  8.36s/it]\u001b[A"
     ]
    },
    {
     "name": "stdout",
     "output_type": "stream",
     "text": [
      "\n",
      " Time needed for MC Dropout-based Uncertainty Estimation   8.073745250701904\n"
     ]
    },
    {
     "name": "stderr",
     "output_type": "stream",
     "text": [
      "\n",
      " 28%|██▊       | 17/60 [02:24<06:04,  8.47s/it]\u001b[A"
     ]
    },
    {
     "name": "stdout",
     "output_type": "stream",
     "text": [
      "\n",
      " Time needed for MC Dropout-based Uncertainty Estimation   8.697354793548584\n"
     ]
    },
    {
     "name": "stderr",
     "output_type": "stream",
     "text": [
      "\n",
      " 30%|███       | 18/60 [02:33<05:55,  8.47s/it]\u001b[A"
     ]
    },
    {
     "name": "stdout",
     "output_type": "stream",
     "text": [
      "\n",
      " Time needed for MC Dropout-based Uncertainty Estimation   8.443582773208618\n"
     ]
    },
    {
     "name": "stderr",
     "output_type": "stream",
     "text": [
      "\n",
      " 32%|███▏      | 19/60 [02:41<05:42,  8.34s/it]\u001b[A"
     ]
    },
    {
     "name": "stdout",
     "output_type": "stream",
     "text": [
      "\n",
      " Time needed for MC Dropout-based Uncertainty Estimation   8.014917373657227\n"
     ]
    },
    {
     "name": "stderr",
     "output_type": "stream",
     "text": [
      "\n",
      " 33%|███▎      | 20/60 [02:49<05:38,  8.45s/it]\u001b[A"
     ]
    },
    {
     "name": "stdout",
     "output_type": "stream",
     "text": [
      "\n",
      " Time needed for MC Dropout-based Uncertainty Estimation   8.667085409164429\n"
     ]
    },
    {
     "name": "stderr",
     "output_type": "stream",
     "text": [
      "\n",
      " 35%|███▌      | 21/60 [02:58<05:30,  8.49s/it]\u001b[A"
     ]
    },
    {
     "name": "stdout",
     "output_type": "stream",
     "text": [
      "\n",
      " Time needed for MC Dropout-based Uncertainty Estimation   8.53230595588684\n"
     ]
    },
    {
     "name": "stderr",
     "output_type": "stream",
     "text": [
      "\n",
      " 37%|███▋      | 22/60 [03:06<05:17,  8.34s/it]\u001b[A"
     ]
    },
    {
     "name": "stdout",
     "output_type": "stream",
     "text": [
      "\n",
      " Time needed for MC Dropout-based Uncertainty Estimation   7.977669715881348\n"
     ]
    },
    {
     "name": "stderr",
     "output_type": "stream",
     "text": [
      "\n",
      " 38%|███▊      | 23/60 [03:15<05:12,  8.45s/it]\u001b[A"
     ]
    },
    {
     "name": "stdout",
     "output_type": "stream",
     "text": [
      "\n",
      " Time needed for MC Dropout-based Uncertainty Estimation   8.67009425163269\n"
     ]
    },
    {
     "name": "stderr",
     "output_type": "stream",
     "text": [
      "\n",
      " 40%|████      | 24/60 [03:23<05:05,  8.49s/it]\u001b[A"
     ]
    },
    {
     "name": "stdout",
     "output_type": "stream",
     "text": [
      "\n",
      " Time needed for MC Dropout-based Uncertainty Estimation   8.553617715835571\n"
     ]
    },
    {
     "name": "stderr",
     "output_type": "stream",
     "text": [
      "\n",
      " 42%|████▏     | 25/60 [03:31<04:53,  8.38s/it]\u001b[A"
     ]
    },
    {
     "name": "stdout",
     "output_type": "stream",
     "text": [
      "\n",
      " Time needed for MC Dropout-based Uncertainty Estimation   8.083545684814453\n"
     ]
    },
    {
     "name": "stderr",
     "output_type": "stream",
     "text": [
      "\n",
      " 43%|████▎     | 26/60 [03:40<04:48,  8.49s/it]\u001b[A"
     ]
    },
    {
     "name": "stdout",
     "output_type": "stream",
     "text": [
      "\n",
      " Time needed for MC Dropout-based Uncertainty Estimation   8.73113489151001\n"
     ]
    },
    {
     "name": "stderr",
     "output_type": "stream",
     "text": [
      "\n",
      " 45%|████▌     | 27/60 [03:49<04:41,  8.52s/it]\u001b[A"
     ]
    },
    {
     "name": "stdout",
     "output_type": "stream",
     "text": [
      "\n",
      " Time needed for MC Dropout-based Uncertainty Estimation   8.561483383178711\n"
     ]
    },
    {
     "name": "stderr",
     "output_type": "stream",
     "text": [
      "\n",
      " 47%|████▋     | 28/60 [03:57<04:28,  8.40s/it]\u001b[A"
     ]
    },
    {
     "name": "stdout",
     "output_type": "stream",
     "text": [
      "\n",
      " Time needed for MC Dropout-based Uncertainty Estimation   8.07472848892212\n"
     ]
    },
    {
     "name": "stderr",
     "output_type": "stream",
     "text": [
      "\n",
      " 48%|████▊     | 29/60 [04:06<04:23,  8.51s/it]\u001b[A"
     ]
    },
    {
     "name": "stdout",
     "output_type": "stream",
     "text": [
      "\n",
      " Time needed for MC Dropout-based Uncertainty Estimation   8.722596645355225\n"
     ]
    },
    {
     "name": "stderr",
     "output_type": "stream",
     "text": [
      "\n",
      " 50%|█████     | 30/60 [04:14<04:15,  8.52s/it]\u001b[A"
     ]
    },
    {
     "name": "stdout",
     "output_type": "stream",
     "text": [
      "\n",
      " Time needed for MC Dropout-based Uncertainty Estimation   8.507052421569824\n"
     ]
    },
    {
     "name": "stderr",
     "output_type": "stream",
     "text": [
      "\n",
      " 52%|█████▏    | 31/60 [04:22<04:03,  8.39s/it]\u001b[A"
     ]
    },
    {
     "name": "stdout",
     "output_type": "stream",
     "text": [
      "\n",
      " Time needed for MC Dropout-based Uncertainty Estimation   8.060158014297485\n"
     ]
    },
    {
     "name": "stderr",
     "output_type": "stream",
     "text": [
      "\n",
      " 53%|█████▎    | 32/60 [04:31<03:57,  8.47s/it]\u001b[A"
     ]
    },
    {
     "name": "stdout",
     "output_type": "stream",
     "text": [
      "\n",
      " Time needed for MC Dropout-based Uncertainty Estimation   8.639847755432129\n"
     ]
    },
    {
     "name": "stderr",
     "output_type": "stream",
     "text": [
      "\n",
      " 55%|█████▌    | 33/60 [04:40<03:49,  8.51s/it]\u001b[A"
     ]
    },
    {
     "name": "stdout",
     "output_type": "stream",
     "text": [
      "\n",
      " Time needed for MC Dropout-based Uncertainty Estimation   8.562261819839478\n"
     ]
    },
    {
     "name": "stderr",
     "output_type": "stream",
     "text": [
      "\n",
      " 57%|█████▋    | 34/60 [04:48<03:37,  8.37s/it]\u001b[A"
     ]
    },
    {
     "name": "stdout",
     "output_type": "stream",
     "text": [
      "\n",
      " Time needed for MC Dropout-based Uncertainty Estimation   8.011392593383789\n"
     ]
    },
    {
     "name": "stderr",
     "output_type": "stream",
     "text": [
      "\n",
      " 58%|█████▊    | 35/60 [04:56<03:32,  8.48s/it]\u001b[A"
     ]
    },
    {
     "name": "stdout",
     "output_type": "stream",
     "text": [
      "\n",
      " Time needed for MC Dropout-based Uncertainty Estimation   8.717287302017212\n"
     ]
    },
    {
     "name": "stderr",
     "output_type": "stream",
     "text": [
      "\n",
      " 60%|██████    | 36/60 [05:05<03:23,  8.49s/it]\u001b[A"
     ]
    },
    {
     "name": "stdout",
     "output_type": "stream",
     "text": [
      "\n",
      " Time needed for MC Dropout-based Uncertainty Estimation   8.48053503036499\n"
     ]
    },
    {
     "name": "stderr",
     "output_type": "stream",
     "text": [
      "\n",
      " 62%|██████▏   | 37/60 [05:13<03:12,  8.35s/it]\u001b[A"
     ]
    },
    {
     "name": "stdout",
     "output_type": "stream",
     "text": [
      "\n",
      " Time needed for MC Dropout-based Uncertainty Estimation   7.981384515762329\n"
     ]
    },
    {
     "name": "stderr",
     "output_type": "stream",
     "text": [
      "\n",
      " 63%|██████▎   | 38/60 [05:21<03:05,  8.43s/it]\u001b[A"
     ]
    },
    {
     "name": "stdout",
     "output_type": "stream",
     "text": [
      "\n",
      " Time needed for MC Dropout-based Uncertainty Estimation   8.600420713424683\n"
     ]
    },
    {
     "name": "stderr",
     "output_type": "stream",
     "text": [
      "\n",
      " 65%|██████▌   | 39/60 [05:30<02:56,  8.41s/it]\u001b[A"
     ]
    },
    {
     "name": "stdout",
     "output_type": "stream",
     "text": [
      "\n",
      " Time needed for MC Dropout-based Uncertainty Estimation   8.324774742126465\n"
     ]
    },
    {
     "name": "stderr",
     "output_type": "stream",
     "text": [
      "\n",
      " 67%|██████▋   | 40/60 [05:38<02:44,  8.24s/it]\u001b[A"
     ]
    },
    {
     "name": "stdout",
     "output_type": "stream",
     "text": [
      "\n",
      " Time needed for MC Dropout-based Uncertainty Estimation   7.811500310897827\n"
     ]
    },
    {
     "name": "stderr",
     "output_type": "stream",
     "text": [
      "\n",
      " 68%|██████▊   | 41/60 [05:46<02:38,  8.34s/it]\u001b[A"
     ]
    },
    {
     "name": "stdout",
     "output_type": "stream",
     "text": [
      "\n",
      " Time needed for MC Dropout-based Uncertainty Estimation   8.554957866668701\n"
     ]
    },
    {
     "name": "stderr",
     "output_type": "stream",
     "text": [
      "\n",
      " 70%|███████   | 42/60 [05:55<02:30,  8.37s/it]\u001b[A"
     ]
    },
    {
     "name": "stdout",
     "output_type": "stream",
     "text": [
      "\n",
      " Time needed for MC Dropout-based Uncertainty Estimation   8.384345769882202\n"
     ]
    },
    {
     "name": "stderr",
     "output_type": "stream",
     "text": [
      "\n",
      " 72%|███████▏  | 43/60 [06:03<02:20,  8.26s/it]\u001b[A"
     ]
    },
    {
     "name": "stdout",
     "output_type": "stream",
     "text": [
      "\n",
      " Time needed for MC Dropout-based Uncertainty Estimation   7.969507932662964\n"
     ]
    },
    {
     "name": "stderr",
     "output_type": "stream",
     "text": [
      "\n",
      " 73%|███████▎  | 44/60 [06:11<02:14,  8.38s/it]\u001b[A"
     ]
    },
    {
     "name": "stdout",
     "output_type": "stream",
     "text": [
      "\n",
      " Time needed for MC Dropout-based Uncertainty Estimation   8.630233764648438\n"
     ]
    },
    {
     "name": "stderr",
     "output_type": "stream",
     "text": [
      "\n",
      " 75%|███████▌  | 45/60 [06:20<02:06,  8.43s/it]\u001b[A"
     ]
    },
    {
     "name": "stdout",
     "output_type": "stream",
     "text": [
      "\n",
      " Time needed for MC Dropout-based Uncertainty Estimation   8.50195598602295\n"
     ]
    },
    {
     "name": "stderr",
     "output_type": "stream",
     "text": [
      "\n",
      " 77%|███████▋  | 46/60 [06:28<01:56,  8.31s/it]\u001b[A"
     ]
    },
    {
     "name": "stdout",
     "output_type": "stream",
     "text": [
      "\n",
      " Time needed for MC Dropout-based Uncertainty Estimation   8.010107517242432\n"
     ]
    },
    {
     "name": "stderr",
     "output_type": "stream",
     "text": [
      "\n",
      " 78%|███████▊  | 47/60 [06:37<01:49,  8.42s/it]\u001b[A"
     ]
    },
    {
     "name": "stdout",
     "output_type": "stream",
     "text": [
      "\n",
      " Time needed for MC Dropout-based Uncertainty Estimation   8.658454656600952\n"
     ]
    },
    {
     "name": "stderr",
     "output_type": "stream",
     "text": [
      "\n",
      " 80%|████████  | 48/60 [06:45<01:41,  8.43s/it]\u001b[A"
     ]
    },
    {
     "name": "stdout",
     "output_type": "stream",
     "text": [
      "\n",
      " Time needed for MC Dropout-based Uncertainty Estimation   8.423038244247437\n"
     ]
    },
    {
     "name": "stderr",
     "output_type": "stream",
     "text": [
      "\n",
      " 82%|████████▏ | 49/60 [06:53<01:31,  8.32s/it]\u001b[A"
     ]
    },
    {
     "name": "stdout",
     "output_type": "stream",
     "text": [
      "\n",
      " Time needed for MC Dropout-based Uncertainty Estimation   8.014644145965576\n"
     ]
    },
    {
     "name": "stderr",
     "output_type": "stream",
     "text": [
      "\n",
      " 83%|████████▎ | 50/60 [07:02<01:24,  8.44s/it]\u001b[A"
     ]
    },
    {
     "name": "stdout",
     "output_type": "stream",
     "text": [
      "\n",
      " Time needed for MC Dropout-based Uncertainty Estimation   8.696117401123047\n"
     ]
    },
    {
     "name": "stderr",
     "output_type": "stream",
     "text": [
      "\n",
      " 85%|████████▌ | 51/60 [07:10<01:16,  8.47s/it]\u001b[A"
     ]
    },
    {
     "name": "stdout",
     "output_type": "stream",
     "text": [
      "\n",
      " Time needed for MC Dropout-based Uncertainty Estimation   8.494917869567871\n"
     ]
    },
    {
     "name": "stderr",
     "output_type": "stream",
     "text": [
      "\n",
      " 87%|████████▋ | 52/60 [07:18<01:06,  8.34s/it]\u001b[A"
     ]
    },
    {
     "name": "stdout",
     "output_type": "stream",
     "text": [
      "\n",
      " Time needed for MC Dropout-based Uncertainty Estimation   8.010971784591675\n"
     ]
    },
    {
     "name": "stderr",
     "output_type": "stream",
     "text": [
      "\n",
      " 88%|████████▊ | 53/60 [07:27<00:59,  8.44s/it]\u001b[A"
     ]
    },
    {
     "name": "stdout",
     "output_type": "stream",
     "text": [
      "\n",
      " Time needed for MC Dropout-based Uncertainty Estimation   8.649991989135742\n"
     ]
    },
    {
     "name": "stderr",
     "output_type": "stream",
     "text": [
      "\n",
      " 90%|█████████ | 54/60 [07:36<00:50,  8.44s/it]\u001b[A"
     ]
    },
    {
     "name": "stdout",
     "output_type": "stream",
     "text": [
      "\n",
      " Time needed for MC Dropout-based Uncertainty Estimation   8.414112091064453\n"
     ]
    },
    {
     "name": "stderr",
     "output_type": "stream",
     "text": [
      "\n",
      " 92%|█████████▏| 55/60 [07:44<00:41,  8.31s/it]\u001b[A"
     ]
    },
    {
     "name": "stdout",
     "output_type": "stream",
     "text": [
      "\n",
      " Time needed for MC Dropout-based Uncertainty Estimation   7.956672668457031\n"
     ]
    },
    {
     "name": "stderr",
     "output_type": "stream",
     "text": [
      "\n",
      " 93%|█████████▎| 56/60 [07:52<00:33,  8.42s/it]\u001b[A"
     ]
    },
    {
     "name": "stdout",
     "output_type": "stream",
     "text": [
      "\n",
      " Time needed for MC Dropout-based Uncertainty Estimation   8.64303970336914\n"
     ]
    },
    {
     "name": "stderr",
     "output_type": "stream",
     "text": [
      "\n",
      " 95%|█████████▌| 57/60 [08:01<00:25,  8.46s/it]\u001b[A"
     ]
    },
    {
     "name": "stdout",
     "output_type": "stream",
     "text": [
      "\n",
      " Time needed for MC Dropout-based Uncertainty Estimation   8.515912532806396\n"
     ]
    },
    {
     "name": "stderr",
     "output_type": "stream",
     "text": [
      "\n",
      " 97%|█████████▋| 58/60 [08:09<00:16,  8.33s/it]\u001b[A"
     ]
    },
    {
     "name": "stdout",
     "output_type": "stream",
     "text": [
      "\n",
      " Time needed for MC Dropout-based Uncertainty Estimation   8.010758399963379\n"
     ]
    },
    {
     "name": "stderr",
     "output_type": "stream",
     "text": [
      "\n",
      " 98%|█████████▊| 59/60 [08:18<00:08,  8.46s/it]\u001b[A"
     ]
    },
    {
     "name": "stdout",
     "output_type": "stream",
     "text": [
      "\n",
      " Time needed for MC Dropout-based Uncertainty Estimation   8.713238954544067\n"
     ]
    },
    {
     "name": "stderr",
     "output_type": "stream",
     "text": [
      "\n",
      "100%|██████████| 60/60 [08:26<00:00,  8.47s/it]\u001b[A"
     ]
    },
    {
     "name": "stdout",
     "output_type": "stream",
     "text": [
      "\n",
      " Time needed for MC Dropout-based Uncertainty Estimation   8.481927394866943\n",
      "START TRAINING......:\n",
      "Training with 20 images\n",
      "Validating with 10 images\n",
      "Training Unet-mcdropout\n",
      "(20, 400, 400, 28)\n",
      "Epoch 1/80\n",
      " - 5s - loss: 0.5387 - accuracy: 0.7751 - val_loss: 0.6784 - val_accuracy: 0.8848\n",
      "\n",
      "Epoch 00001: val_loss improved from inf to 0.67840, saving model to ./trained_models/unet_div8_495K_20.hdf5\n",
      "Epoch 2/80\n",
      " - 1s - loss: 0.4911 - accuracy: 0.8425 - val_loss: 0.6543 - val_accuracy: 0.8848\n",
      "\n",
      "Epoch 00002: val_loss improved from 0.67840 to 0.65433, saving model to ./trained_models/unet_div8_495K_20.hdf5\n",
      "Epoch 3/80\n",
      " - 1s - loss: 0.4539 - accuracy: 0.8815 - val_loss: 0.6270 - val_accuracy: 0.8848\n",
      "\n",
      "Epoch 00003: val_loss improved from 0.65433 to 0.62703, saving model to ./trained_models/unet_div8_495K_20.hdf5\n",
      "Epoch 4/80\n",
      " - 3s - loss: 0.4259 - accuracy: 0.8915 - val_loss: 0.6107 - val_accuracy: 0.8848\n",
      "\n",
      "Epoch 00004: val_loss improved from 0.62703 to 0.61071, saving model to ./trained_models/unet_div8_495K_20.hdf5\n",
      "Epoch 5/80\n",
      " - 3s - loss: 0.4106 - accuracy: 0.8936 - val_loss: 0.5409 - val_accuracy: 0.8848\n",
      "\n",
      "Epoch 00005: val_loss improved from 0.61071 to 0.54086, saving model to ./trained_models/unet_div8_495K_20.hdf5\n",
      "Epoch 6/80\n",
      " - 2s - loss: 0.3972 - accuracy: 0.8951 - val_loss: 0.4977 - val_accuracy: 0.8848\n",
      "\n",
      "Epoch 00006: val_loss improved from 0.54086 to 0.49772, saving model to ./trained_models/unet_div8_495K_20.hdf5\n",
      "Epoch 7/80\n",
      " - 3s - loss: 0.3845 - accuracy: 0.8950 - val_loss: 0.4652 - val_accuracy: 0.8848\n",
      "\n",
      "Epoch 00007: val_loss improved from 0.49772 to 0.46519, saving model to ./trained_models/unet_div8_495K_20.hdf5\n",
      "Epoch 8/80\n",
      " - 3s - loss: 0.3706 - accuracy: 0.8950 - val_loss: 0.4436 - val_accuracy: 0.8848\n",
      "\n",
      "Epoch 00008: val_loss improved from 0.46519 to 0.44358, saving model to ./trained_models/unet_div8_495K_20.hdf5\n",
      "Epoch 9/80\n",
      " - 3s - loss: 0.3584 - accuracy: 0.8950 - val_loss: 0.4317 - val_accuracy: 0.8848\n",
      "\n",
      "Epoch 00009: val_loss improved from 0.44358 to 0.43173, saving model to ./trained_models/unet_div8_495K_20.hdf5\n",
      "Epoch 10/80\n",
      " - 3s - loss: 0.3606 - accuracy: 0.8952 - val_loss: 0.4228 - val_accuracy: 0.8848\n",
      "\n",
      "Epoch 00010: val_loss improved from 0.43173 to 0.42276, saving model to ./trained_models/unet_div8_495K_20.hdf5\n",
      "Epoch 11/80\n",
      " - 2s - loss: 0.3466 - accuracy: 0.8954 - val_loss: 0.4469 - val_accuracy: 0.8848\n",
      "\n",
      "Epoch 00011: val_loss did not improve from 0.42276\n",
      "Epoch 12/80\n",
      " - 3s - loss: 0.3425 - accuracy: 0.8950 - val_loss: 0.4304 - val_accuracy: 0.8848\n",
      "\n",
      "Epoch 00012: val_loss did not improve from 0.42276\n",
      "Epoch 13/80\n",
      " - 2s - loss: 0.3303 - accuracy: 0.8954 - val_loss: 0.4472 - val_accuracy: 0.8848\n",
      "\n",
      "Epoch 00013: val_loss did not improve from 0.42276\n",
      "Epoch 14/80\n",
      " - 4s - loss: 0.3247 - accuracy: 0.8946 - val_loss: 0.4000 - val_accuracy: 0.8848\n",
      "\n",
      "Epoch 00014: val_loss improved from 0.42276 to 0.40000, saving model to ./trained_models/unet_div8_495K_20.hdf5\n",
      "Epoch 15/80\n",
      " - 2s - loss: 0.3110 - accuracy: 0.8954 - val_loss: 0.4017 - val_accuracy: 0.8848\n",
      "\n",
      "Epoch 00015: val_loss did not improve from 0.40000\n",
      "Epoch 16/80\n",
      " - 4s - loss: 0.3060 - accuracy: 0.8948 - val_loss: 0.4006 - val_accuracy: 0.8848\n",
      "\n",
      "Epoch 00016: val_loss did not improve from 0.40000\n",
      "Epoch 17/80\n",
      " - 3s - loss: 0.3024 - accuracy: 0.8952 - val_loss: 0.3828 - val_accuracy: 0.8848\n",
      "\n",
      "Epoch 00017: val_loss improved from 0.40000 to 0.38275, saving model to ./trained_models/unet_div8_495K_20.hdf5\n",
      "Epoch 18/80\n",
      " - 3s - loss: 0.2938 - accuracy: 0.8952 - val_loss: 0.4617 - val_accuracy: 0.8848\n",
      "\n",
      "Epoch 00018: val_loss did not improve from 0.38275\n",
      "Epoch 19/80\n",
      " - 3s - loss: 0.2908 - accuracy: 0.8952 - val_loss: 0.4781 - val_accuracy: 0.8848\n",
      "\n",
      "Epoch 00019: val_loss did not improve from 0.38275\n",
      "Epoch 20/80\n",
      " - 2s - loss: 0.2806 - accuracy: 0.8954 - val_loss: 0.4077 - val_accuracy: 0.8848\n",
      "\n",
      "Epoch 00020: val_loss did not improve from 0.38275\n",
      "Epoch 21/80\n",
      " - 2s - loss: 0.2728 - accuracy: 0.8954 - val_loss: 0.3944 - val_accuracy: 0.8848\n",
      "\n",
      "Epoch 00021: val_loss did not improve from 0.38275\n",
      "Epoch 22/80\n",
      " - 3s - loss: 0.2705 - accuracy: 0.8952 - val_loss: 0.3918 - val_accuracy: 0.8848\n",
      "\n",
      "Epoch 00022: val_loss did not improve from 0.38275\n",
      "Epoch 23/80\n",
      " - 3s - loss: 0.2626 - accuracy: 0.8953 - val_loss: 0.3920 - val_accuracy: 0.8848\n",
      "\n",
      "Epoch 00023: val_loss did not improve from 0.38275\n",
      "Epoch 24/80\n",
      " - 3s - loss: 0.2580 - accuracy: 0.8951 - val_loss: 0.3969 - val_accuracy: 0.8848\n",
      "\n",
      "Epoch 00024: val_loss did not improve from 0.38275\n",
      "Epoch 25/80\n",
      " - 3s - loss: 0.2552 - accuracy: 0.8953 - val_loss: 0.3799 - val_accuracy: 0.8848\n",
      "\n",
      "Epoch 00025: val_loss improved from 0.38275 to 0.37986, saving model to ./trained_models/unet_div8_495K_20.hdf5\n",
      "Epoch 26/80\n",
      " - 2s - loss: 0.2488 - accuracy: 0.8954 - val_loss: 0.3881 - val_accuracy: 0.8848\n",
      "\n",
      "Epoch 00026: val_loss did not improve from 0.37986\n",
      "Epoch 27/80\n",
      " - 3s - loss: 0.2547 - accuracy: 0.8952 - val_loss: 0.4107 - val_accuracy: 0.8848\n",
      "\n",
      "Epoch 00027: val_loss did not improve from 0.37986\n",
      "Epoch 28/80\n",
      " - 2s - loss: 0.2396 - accuracy: 0.8955 - val_loss: 0.3649 - val_accuracy: 0.8848\n",
      "\n",
      "Epoch 00028: val_loss improved from 0.37986 to 0.36486, saving model to ./trained_models/unet_div8_495K_20.hdf5\n",
      "Epoch 29/80\n",
      " - 2s - loss: 0.2430 - accuracy: 0.8955 - val_loss: 0.4207 - val_accuracy: 0.8848\n",
      "\n",
      "Epoch 00029: val_loss did not improve from 0.36486\n",
      "Epoch 30/80\n",
      " - 3s - loss: 0.2400 - accuracy: 0.8952 - val_loss: 0.3414 - val_accuracy: 0.8848\n",
      "\n",
      "Epoch 00030: val_loss improved from 0.36486 to 0.34137, saving model to ./trained_models/unet_div8_495K_20.hdf5\n",
      "Epoch 31/80\n",
      " - 2s - loss: 0.2277 - accuracy: 0.8957 - val_loss: 0.3575 - val_accuracy: 0.8848\n",
      "\n",
      "Epoch 00031: val_loss did not improve from 0.34137\n",
      "Epoch 32/80\n",
      " - 3s - loss: 0.2266 - accuracy: 0.8953 - val_loss: 0.3840 - val_accuracy: 0.8848\n",
      "\n",
      "Epoch 00032: val_loss did not improve from 0.34137\n",
      "Epoch 33/80\n",
      " - 3s - loss: 0.2223 - accuracy: 0.8950 - val_loss: 0.3891 - val_accuracy: 0.8848\n",
      "\n",
      "Epoch 00033: val_loss did not improve from 0.34137\n",
      "Epoch 34/80\n",
      " - 3s - loss: 0.2190 - accuracy: 0.8950 - val_loss: 0.3634 - val_accuracy: 0.8848\n",
      "\n",
      "Epoch 00034: val_loss did not improve from 0.34137\n",
      "Epoch 35/80\n",
      " - 3s - loss: 0.2131 - accuracy: 0.8952 - val_loss: 0.3342 - val_accuracy: 0.8848\n",
      "\n",
      "Epoch 00035: val_loss improved from 0.34137 to 0.33417, saving model to ./trained_models/unet_div8_495K_20.hdf5\n",
      "Epoch 36/80\n",
      " - 2s - loss: 0.2068 - accuracy: 0.8955 - val_loss: 0.3559 - val_accuracy: 0.8848\n",
      "\n",
      "Epoch 00036: val_loss did not improve from 0.33417\n",
      "Epoch 37/80\n",
      " - 3s - loss: 0.2041 - accuracy: 0.8953 - val_loss: 0.3762 - val_accuracy: 0.8848\n",
      "\n",
      "Epoch 00037: val_loss did not improve from 0.33417\n",
      "Epoch 38/80\n",
      " - 2s - loss: 0.2040 - accuracy: 0.8953 - val_loss: 0.3690 - val_accuracy: 0.8848\n",
      "\n",
      "Epoch 00038: val_loss did not improve from 0.33417\n",
      "Epoch 39/80\n",
      " - 3s - loss: 0.2021 - accuracy: 0.8949 - val_loss: 0.3778 - val_accuracy: 0.8848\n",
      "\n",
      "Epoch 00039: val_loss did not improve from 0.33417\n",
      "Epoch 40/80\n",
      " - 3s - loss: 0.1959 - accuracy: 0.8953 - val_loss: 0.3805 - val_accuracy: 0.8848\n",
      "\n",
      "Epoch 00040: val_loss did not improve from 0.33417\n",
      "Epoch 41/80\n",
      " - 3s - loss: 0.2040 - accuracy: 0.8949 - val_loss: 0.3522 - val_accuracy: 0.8848\n",
      "\n",
      "Epoch 00041: val_loss did not improve from 0.33417\n",
      "Epoch 42/80\n",
      " - 4s - loss: 0.1921 - accuracy: 0.8947 - val_loss: 0.3694 - val_accuracy: 0.8848\n",
      "\n",
      "Epoch 00042: val_loss did not improve from 0.33417\n",
      "Epoch 43/80\n",
      " - 3s - loss: 0.1973 - accuracy: 0.8952 - val_loss: 0.4232 - val_accuracy: 0.8848\n",
      "\n",
      "Epoch 00043: val_loss did not improve from 0.33417\n",
      "Epoch 44/80\n",
      " - 3s - loss: 0.1986 - accuracy: 0.8948 - val_loss: 0.4244 - val_accuracy: 0.8848\n",
      "\n",
      "Epoch 00044: val_loss did not improve from 0.33417\n",
      "Epoch 45/80\n",
      " - 2s - loss: 0.1889 - accuracy: 0.8954 - val_loss: 0.3886 - val_accuracy: 0.8848\n",
      "\n",
      "Epoch 00045: val_loss did not improve from 0.33417\n",
      "Epoch 46/80\n",
      " - 4s - loss: 0.1892 - accuracy: 0.8949 - val_loss: 0.3877 - val_accuracy: 0.8848\n",
      "\n",
      "Epoch 00046: val_loss did not improve from 0.33417\n",
      "Epoch 47/80\n",
      " - 4s - loss: 0.1896 - accuracy: 0.8950 - val_loss: 0.3661 - val_accuracy: 0.8848\n"
     ]
    },
    {
     "name": "stderr",
     "output_type": "stream",
     "text": [
      "\n",
      "  0%|          | 0/20 [00:00<?, ?it/s]\u001b[A"
     ]
    },
    {
     "name": "stdout",
     "output_type": "stream",
     "text": [
      "\n",
      "Epoch 00047: val_loss did not improve from 0.33417\n"
     ]
    },
    {
     "name": "stderr",
     "output_type": "stream",
     "text": [
      "\n",
      "  5%|▌         | 1/20 [00:10<03:20, 10.53s/it]\u001b[A"
     ]
    },
    {
     "name": "stdout",
     "output_type": "stream",
     "text": [
      "\n",
      " Time needed for MC Dropout-based Uncertainty Estimation   10.519005537033081\n"
     ]
    },
    {
     "name": "stderr",
     "output_type": "stream",
     "text": [
      "\n",
      " 10%|█         | 2/20 [00:21<03:12, 10.70s/it]\u001b[A"
     ]
    },
    {
     "name": "stdout",
     "output_type": "stream",
     "text": [
      "\n",
      " Time needed for MC Dropout-based Uncertainty Estimation   11.074779987335205\n"
     ]
    },
    {
     "name": "stderr",
     "output_type": "stream",
     "text": [
      "\n",
      " 15%|█▌        | 3/20 [00:32<03:02, 10.71s/it]\u001b[A"
     ]
    },
    {
     "name": "stdout",
     "output_type": "stream",
     "text": [
      "\n",
      " Time needed for MC Dropout-based Uncertainty Estimation   10.725923299789429\n"
     ]
    },
    {
     "name": "stderr",
     "output_type": "stream",
     "text": [
      "\n",
      " 20%|██        | 4/20 [00:43<02:51, 10.70s/it]\u001b[A"
     ]
    },
    {
     "name": "stdout",
     "output_type": "stream",
     "text": [
      "\n",
      " Time needed for MC Dropout-based Uncertainty Estimation   10.642107963562012\n"
     ]
    },
    {
     "name": "stderr",
     "output_type": "stream",
     "text": [
      "\n",
      " 25%|██▌       | 5/20 [00:54<02:42, 10.86s/it]\u001b[A"
     ]
    },
    {
     "name": "stdout",
     "output_type": "stream",
     "text": [
      "\n",
      " Time needed for MC Dropout-based Uncertainty Estimation   11.234251260757446\n"
     ]
    },
    {
     "name": "stderr",
     "output_type": "stream",
     "text": [
      "\n",
      " 30%|███       | 6/20 [01:04<02:31, 10.81s/it]\u001b[A"
     ]
    },
    {
     "name": "stdout",
     "output_type": "stream",
     "text": [
      "\n",
      " Time needed for MC Dropout-based Uncertainty Estimation   10.671467542648315\n"
     ]
    },
    {
     "name": "stderr",
     "output_type": "stream",
     "text": [
      "\n",
      " 35%|███▌      | 7/20 [01:15<02:20, 10.77s/it]\u001b[A"
     ]
    },
    {
     "name": "stdout",
     "output_type": "stream",
     "text": [
      "\n",
      " Time needed for MC Dropout-based Uncertainty Estimation   10.659945249557495\n"
     ]
    },
    {
     "name": "stderr",
     "output_type": "stream",
     "text": [
      "\n",
      " 40%|████      | 8/20 [01:26<02:11, 10.93s/it]\u001b[A"
     ]
    },
    {
     "name": "stdout",
     "output_type": "stream",
     "text": [
      "\n",
      " Time needed for MC Dropout-based Uncertainty Estimation   11.285638570785522\n"
     ]
    },
    {
     "name": "stderr",
     "output_type": "stream",
     "text": [
      "\n",
      " 45%|████▌     | 9/20 [01:37<01:59, 10.87s/it]\u001b[A"
     ]
    },
    {
     "name": "stdout",
     "output_type": "stream",
     "text": [
      "\n",
      " Time needed for MC Dropout-based Uncertainty Estimation   10.696846008300781\n"
     ]
    },
    {
     "name": "stderr",
     "output_type": "stream",
     "text": [
      "\n",
      " 50%|█████     | 10/20 [01:48<01:48, 10.81s/it]\u001b[A"
     ]
    },
    {
     "name": "stdout",
     "output_type": "stream",
     "text": [
      "\n",
      " Time needed for MC Dropout-based Uncertainty Estimation   10.665170669555664\n"
     ]
    },
    {
     "name": "stderr",
     "output_type": "stream",
     "text": [
      "\n",
      " 55%|█████▌    | 11/20 [01:59<01:38, 10.94s/it]\u001b[A"
     ]
    },
    {
     "name": "stdout",
     "output_type": "stream",
     "text": [
      "\n",
      " Time needed for MC Dropout-based Uncertainty Estimation   11.207401037216187\n"
     ]
    },
    {
     "name": "stderr",
     "output_type": "stream",
     "text": [
      "\n",
      " 60%|██████    | 12/20 [02:10<01:27, 10.89s/it]\u001b[A"
     ]
    },
    {
     "name": "stdout",
     "output_type": "stream",
     "text": [
      "\n",
      " Time needed for MC Dropout-based Uncertainty Estimation   10.759825944900513\n"
     ]
    },
    {
     "name": "stderr",
     "output_type": "stream",
     "text": [
      "\n",
      " 65%|██████▌   | 13/20 [02:21<01:16, 10.86s/it]\u001b[A"
     ]
    },
    {
     "name": "stdout",
     "output_type": "stream",
     "text": [
      "\n",
      " Time needed for MC Dropout-based Uncertainty Estimation   10.786568880081177\n"
     ]
    },
    {
     "name": "stderr",
     "output_type": "stream",
     "text": [
      "\n",
      " 70%|███████   | 14/20 [02:32<01:05, 10.97s/it]\u001b[A"
     ]
    },
    {
     "name": "stdout",
     "output_type": "stream",
     "text": [
      "\n",
      " Time needed for MC Dropout-based Uncertainty Estimation   11.191449403762817\n"
     ]
    },
    {
     "name": "stderr",
     "output_type": "stream",
     "text": [
      "\n",
      " 75%|███████▌  | 15/20 [02:43<00:54, 10.90s/it]\u001b[A"
     ]
    },
    {
     "name": "stdout",
     "output_type": "stream",
     "text": [
      "\n",
      " Time needed for MC Dropout-based Uncertainty Estimation   10.72523808479309\n"
     ]
    },
    {
     "name": "stderr",
     "output_type": "stream",
     "text": [
      "\n",
      " 80%|████████  | 16/20 [02:53<00:43, 10.87s/it]\u001b[A"
     ]
    },
    {
     "name": "stdout",
     "output_type": "stream",
     "text": [
      "\n",
      " Time needed for MC Dropout-based Uncertainty Estimation   10.79128646850586\n"
     ]
    },
    {
     "name": "stderr",
     "output_type": "stream",
     "text": [
      "\n",
      " 85%|████████▌ | 17/20 [03:05<00:33, 11.00s/it]\u001b[A"
     ]
    },
    {
     "name": "stdout",
     "output_type": "stream",
     "text": [
      "\n",
      " Time needed for MC Dropout-based Uncertainty Estimation   11.279573678970337\n"
     ]
    },
    {
     "name": "stderr",
     "output_type": "stream",
     "text": [
      "\n",
      " 90%|█████████ | 18/20 [03:15<00:21, 10.90s/it]\u001b[A"
     ]
    },
    {
     "name": "stdout",
     "output_type": "stream",
     "text": [
      "\n",
      " Time needed for MC Dropout-based Uncertainty Estimation   10.659330129623413\n"
     ]
    },
    {
     "name": "stderr",
     "output_type": "stream",
     "text": [
      "\n",
      " 95%|█████████▌| 19/20 [03:26<00:10, 10.84s/it]\u001b[A"
     ]
    },
    {
     "name": "stdout",
     "output_type": "stream",
     "text": [
      "\n",
      " Time needed for MC Dropout-based Uncertainty Estimation   10.688770532608032\n"
     ]
    },
    {
     "name": "stderr",
     "output_type": "stream",
     "text": [
      "\n",
      "100%|██████████| 20/20 [03:37<00:00, 10.98s/it]\u001b[A\n",
      "  0%|          | 0/10 [00:00<?, ?it/s]\u001b[A"
     ]
    },
    {
     "name": "stdout",
     "output_type": "stream",
     "text": [
      "\n",
      " Time needed for MC Dropout-based Uncertainty Estimation   11.274837017059326\n"
     ]
    },
    {
     "name": "stderr",
     "output_type": "stream",
     "text": [
      "\n",
      " 10%|█         | 1/10 [00:05<00:48,  5.41s/it]\u001b[A"
     ]
    },
    {
     "name": "stdout",
     "output_type": "stream",
     "text": [
      "\n",
      " Time needed for MC Dropout-based Uncertainty Estimation   5.409172534942627\n"
     ]
    },
    {
     "name": "stderr",
     "output_type": "stream",
     "text": [
      "\n",
      " 20%|██        | 2/10 [00:10<00:43,  5.41s/it]\u001b[A"
     ]
    },
    {
     "name": "stdout",
     "output_type": "stream",
     "text": [
      "\n",
      " Time needed for MC Dropout-based Uncertainty Estimation   5.4052886962890625\n"
     ]
    },
    {
     "name": "stderr",
     "output_type": "stream",
     "text": [
      "\n",
      " 30%|███       | 3/10 [00:15<00:37,  5.29s/it]\u001b[A"
     ]
    },
    {
     "name": "stdout",
     "output_type": "stream",
     "text": [
      "\n",
      " Time needed for MC Dropout-based Uncertainty Estimation   4.983211278915405\n"
     ]
    },
    {
     "name": "stderr",
     "output_type": "stream",
     "text": [
      "\n",
      " 40%|████      | 4/10 [00:20<00:31,  5.21s/it]\u001b[A"
     ]
    },
    {
     "name": "stdout",
     "output_type": "stream",
     "text": [
      "\n",
      " Time needed for MC Dropout-based Uncertainty Estimation   5.012549638748169\n"
     ]
    },
    {
     "name": "stderr",
     "output_type": "stream",
     "text": [
      "\n",
      " 50%|█████     | 5/10 [00:26<00:26,  5.27s/it]\u001b[A"
     ]
    },
    {
     "name": "stdout",
     "output_type": "stream",
     "text": [
      "\n",
      " Time needed for MC Dropout-based Uncertainty Estimation   5.390980243682861\n"
     ]
    },
    {
     "name": "stderr",
     "output_type": "stream",
     "text": [
      "\n",
      " 60%|██████    | 6/10 [00:31<00:20,  5.18s/it]\u001b[A"
     ]
    },
    {
     "name": "stdout",
     "output_type": "stream",
     "text": [
      "\n",
      " Time needed for MC Dropout-based Uncertainty Estimation   4.983908414840698\n"
     ]
    },
    {
     "name": "stderr",
     "output_type": "stream",
     "text": [
      "\n",
      " 70%|███████   | 7/10 [00:36<00:15,  5.14s/it]\u001b[A"
     ]
    },
    {
     "name": "stdout",
     "output_type": "stream",
     "text": [
      "\n",
      " Time needed for MC Dropout-based Uncertainty Estimation   5.037709474563599\n"
     ]
    },
    {
     "name": "stderr",
     "output_type": "stream",
     "text": [
      "\n",
      " 80%|████████  | 8/10 [00:41<00:10,  5.22s/it]\u001b[A"
     ]
    },
    {
     "name": "stdout",
     "output_type": "stream",
     "text": [
      "\n",
      " Time needed for MC Dropout-based Uncertainty Estimation   5.396307468414307\n"
     ]
    },
    {
     "name": "stderr",
     "output_type": "stream",
     "text": [
      "\n",
      " 90%|█████████ | 9/10 [00:46<00:05,  5.15s/it]\u001b[A"
     ]
    },
    {
     "name": "stdout",
     "output_type": "stream",
     "text": [
      "\n",
      " Time needed for MC Dropout-based Uncertainty Estimation   4.956872463226318\n"
     ]
    },
    {
     "name": "stderr",
     "output_type": "stream",
     "text": [
      "\n",
      "100%|██████████| 10/10 [00:51<00:00,  5.11s/it]\u001b[A"
     ]
    },
    {
     "name": "stdout",
     "output_type": "stream",
     "text": [
      "\n",
      " Time needed for MC Dropout-based Uncertainty Estimation   5.027631521224976\n",
      "Model: \"model_2\"\n",
      "_________________________________________________________________\n",
      "Layer (type)                 Output Shape              Param #   \n",
      "=================================================================\n",
      "input (InputLayer)           (None, 400, 400, 30)      0         \n",
      "_________________________________________________________________\n",
      "conv2d_11 (Conv2D)           (None, 400, 400, 32)      8672      \n",
      "_________________________________________________________________\n",
      "batch_normalization_19 (Batc (None, 400, 400, 32)      128       \n",
      "_________________________________________________________________\n",
      "activation_19 (Activation)   (None, 400, 400, 32)      0         \n",
      "_________________________________________________________________\n",
      "conv2d_12 (Conv2D)           (None, 400, 400, 32)      9248      \n",
      "_________________________________________________________________\n",
      "batch_normalization_20 (Batc (None, 400, 400, 32)      128       \n",
      "_________________________________________________________________\n",
      "activation_20 (Activation)   (None, 400, 400, 32)      0         \n",
      "_________________________________________________________________\n",
      "max_pooling2d_5 (MaxPooling2 (None, 200, 200, 32)      0         \n",
      "_________________________________________________________________\n",
      "conv2d_13 (Conv2D)           (None, 200, 200, 64)      18496     \n",
      "_________________________________________________________________\n",
      "batch_normalization_21 (Batc (None, 200, 200, 64)      256       \n",
      "_________________________________________________________________\n",
      "activation_21 (Activation)   (None, 200, 200, 64)      0         \n",
      "_________________________________________________________________\n",
      "conv2d_14 (Conv2D)           (None, 200, 200, 64)      36928     \n",
      "_________________________________________________________________\n",
      "batch_normalization_22 (Batc (None, 200, 200, 64)      256       \n",
      "_________________________________________________________________\n",
      "activation_22 (Activation)   (None, 200, 200, 64)      0         \n",
      "_________________________________________________________________\n",
      "max_pooling2d_6 (MaxPooling2 (None, 100, 100, 64)      0         \n",
      "_________________________________________________________________\n",
      "conv2d_15 (Conv2D)           (None, 100, 100, 128)     73856     \n",
      "_________________________________________________________________\n",
      "batch_normalization_23 (Batc (None, 100, 100, 128)     512       \n",
      "_________________________________________________________________\n",
      "activation_23 (Activation)   (None, 100, 100, 128)     0         \n",
      "_________________________________________________________________\n",
      "conv2d_16 (Conv2D)           (None, 100, 100, 128)     147584    \n",
      "_________________________________________________________________\n",
      "batch_normalization_24 (Batc (None, 100, 100, 128)     512       \n",
      "_________________________________________________________________\n",
      "activation_24 (Activation)   (None, 100, 100, 128)     0         \n",
      "_________________________________________________________________\n",
      "max_pooling2d_7 (MaxPooling2 (None, 50, 50, 128)       0         \n",
      "_________________________________________________________________\n",
      "conv2d_17 (Conv2D)           (None, 50, 50, 256)       295168    \n",
      "_________________________________________________________________\n",
      "batch_normalization_25 (Batc (None, 50, 50, 256)       1024      \n",
      "_________________________________________________________________\n",
      "activation_25 (Activation)   (None, 50, 50, 256)       0         \n",
      "_________________________________________________________________\n",
      "conv2d_18 (Conv2D)           (None, 50, 50, 256)       590080    \n",
      "_________________________________________________________________\n",
      "batch_normalization_26 (Batc (None, 50, 50, 256)       1024      \n",
      "_________________________________________________________________\n",
      "activation_26 (Activation)   (None, 50, 50, 256)       0         \n",
      "_________________________________________________________________\n",
      "global_average_pooling2d_1 ( (None, 256)               0         \n",
      "_________________________________________________________________\n",
      "dense_2 (Dense)              (None, 1)                 257       \n",
      "_________________________________________________________________\n",
      "output (Activation)          (None, 1)                 0         \n",
      "=================================================================\n",
      "Total params: 1,184,129\n",
      "Trainable params: 1,182,209\n",
      "Non-trainable params: 1,920\n",
      "_________________________________________________________________\n",
      "(20, 1)\n",
      "Train on 20 samples, validate on 10 samples\n",
      "Epoch 1/60\n",
      " - 3s - loss: 0.1766 - val_loss: 0.2467\n",
      "\n",
      "Epoch 00001: val_loss improved from inf to 0.24674, saving model to ./trained_models/unet_div8_495K_20_DiceNet.hdf5\n",
      "Epoch 2/60\n",
      " - 1s - loss: 0.0651 - val_loss: 0.2447\n",
      "\n",
      "Epoch 00002: val_loss improved from 0.24674 to 0.24474, saving model to ./trained_models/unet_div8_495K_20_DiceNet.hdf5\n",
      "Epoch 3/60\n",
      " - 1s - loss: 0.0146 - val_loss: 0.2421\n",
      "\n",
      "Epoch 00003: val_loss improved from 0.24474 to 0.24212, saving model to ./trained_models/unet_div8_495K_20_DiceNet.hdf5\n",
      "Epoch 4/60\n",
      " - 1s - loss: 0.0059 - val_loss: 0.2370\n",
      "\n",
      "Epoch 00004: val_loss improved from 0.24212 to 0.23701, saving model to ./trained_models/unet_div8_495K_20_DiceNet.hdf5\n",
      "Epoch 5/60\n",
      " - 1s - loss: 0.0034 - val_loss: 0.2269\n",
      "\n",
      "Epoch 00005: val_loss improved from 0.23701 to 0.22689, saving model to ./trained_models/unet_div8_495K_20_DiceNet.hdf5\n",
      "Epoch 6/60\n",
      " - 1s - loss: 0.0024 - val_loss: 0.2107\n",
      "\n",
      "Epoch 00006: val_loss improved from 0.22689 to 0.21067, saving model to ./trained_models/unet_div8_495K_20_DiceNet.hdf5\n",
      "Epoch 7/60\n",
      " - 1s - loss: 0.0018 - val_loss: 0.1899\n",
      "\n",
      "Epoch 00007: val_loss improved from 0.21067 to 0.18989, saving model to ./trained_models/unet_div8_495K_20_DiceNet.hdf5\n",
      "Epoch 8/60\n",
      " - 1s - loss: 0.0015 - val_loss: 0.1663\n",
      "\n",
      "Epoch 00008: val_loss improved from 0.18989 to 0.16630, saving model to ./trained_models/unet_div8_495K_20_DiceNet.hdf5\n",
      "Epoch 9/60\n",
      " - 1s - loss: 0.0012 - val_loss: 0.1419\n",
      "\n",
      "Epoch 00009: val_loss improved from 0.16630 to 0.14186, saving model to ./trained_models/unet_div8_495K_20_DiceNet.hdf5\n",
      "Epoch 10/60\n",
      " - 1s - loss: 0.0010 - val_loss: 0.1182\n",
      "\n",
      "Epoch 00010: val_loss improved from 0.14186 to 0.11825, saving model to ./trained_models/unet_div8_495K_20_DiceNet.hdf5\n",
      "Epoch 11/60\n",
      " - 1s - loss: 8.9079e-04 - val_loss: 0.0966\n",
      "\n",
      "Epoch 00011: val_loss improved from 0.11825 to 0.09658, saving model to ./trained_models/unet_div8_495K_20_DiceNet.hdf5\n",
      "Epoch 12/60\n",
      " - 1s - loss: 7.7985e-04 - val_loss: 0.0776\n",
      "\n",
      "Epoch 00012: val_loss improved from 0.09658 to 0.07756, saving model to ./trained_models/unet_div8_495K_20_DiceNet.hdf5\n",
      "Epoch 13/60\n",
      " - 1s - loss: 6.9019e-04 - val_loss: 0.0614\n",
      "\n",
      "Epoch 00013: val_loss improved from 0.07756 to 0.06144, saving model to ./trained_models/unet_div8_495K_20_DiceNet.hdf5\n",
      "Epoch 14/60\n",
      " - 1s - loss: 6.1670e-04 - val_loss: 0.0480\n",
      "\n",
      "Epoch 00014: val_loss improved from 0.06144 to 0.04802, saving model to ./trained_models/unet_div8_495K_20_DiceNet.hdf5\n",
      "Epoch 15/60\n",
      " - 1s - loss: 5.5568e-04 - val_loss: 0.0369\n",
      "\n",
      "Epoch 00015: val_loss improved from 0.04802 to 0.03693, saving model to ./trained_models/unet_div8_495K_20_DiceNet.hdf5\n",
      "Epoch 16/60\n",
      " - 1s - loss: 5.0455e-04 - val_loss: 0.0280\n",
      "\n",
      "Epoch 00016: val_loss improved from 0.03693 to 0.02803, saving model to ./trained_models/unet_div8_495K_20_DiceNet.hdf5\n",
      "Epoch 17/60\n",
      " - 1s - loss: 4.6118e-04 - val_loss: 0.0211\n",
      "\n",
      "Epoch 00017: val_loss improved from 0.02803 to 0.02114, saving model to ./trained_models/unet_div8_495K_20_DiceNet.hdf5\n",
      "Epoch 18/60\n",
      " - 1s - loss: 4.2391e-04 - val_loss: 0.0160\n",
      "\n",
      "Epoch 00018: val_loss improved from 0.02114 to 0.01598, saving model to ./trained_models/unet_div8_495K_20_DiceNet.hdf5\n",
      "Epoch 19/60\n",
      " - 1s - loss: 3.9148e-04 - val_loss: 0.0122\n",
      "\n",
      "Epoch 00019: val_loss improved from 0.01598 to 0.01220, saving model to ./trained_models/unet_div8_495K_20_DiceNet.hdf5\n",
      "Epoch 20/60\n",
      " - 1s - loss: 3.6309e-04 - val_loss: 0.0095\n",
      "\n",
      "Epoch 00020: val_loss improved from 0.01220 to 0.00947, saving model to ./trained_models/unet_div8_495K_20_DiceNet.hdf5\n",
      "Epoch 21/60\n",
      " - 1s - loss: 3.3803e-04 - val_loss: 0.0075\n",
      "\n",
      "Epoch 00021: val_loss improved from 0.00947 to 0.00748, saving model to ./trained_models/unet_div8_495K_20_DiceNet.hdf5\n",
      "Epoch 22/60\n"
     ]
    },
    {
     "name": "stdout",
     "output_type": "stream",
     "text": [
      " - 1s - loss: 3.1587e-04 - val_loss: 0.0060\n",
      "\n",
      "Epoch 00022: val_loss improved from 0.00748 to 0.00601, saving model to ./trained_models/unet_div8_495K_20_DiceNet.hdf5\n",
      "Epoch 23/60\n",
      " - 1s - loss: 2.9619e-04 - val_loss: 0.0049\n",
      "\n",
      "Epoch 00023: val_loss improved from 0.00601 to 0.00490, saving model to ./trained_models/unet_div8_495K_20_DiceNet.hdf5\n",
      "Epoch 24/60\n",
      " - 1s - loss: 2.7866e-04 - val_loss: 0.0040\n",
      "\n",
      "Epoch 00024: val_loss improved from 0.00490 to 0.00404, saving model to ./trained_models/unet_div8_495K_20_DiceNet.hdf5\n",
      "Epoch 25/60\n",
      " - 1s - loss: 2.6305e-04 - val_loss: 0.0033\n",
      "\n",
      "Epoch 00025: val_loss improved from 0.00404 to 0.00334, saving model to ./trained_models/unet_div8_495K_20_DiceNet.hdf5\n",
      "Epoch 26/60\n",
      " - 1s - loss: 2.4913e-04 - val_loss: 0.0028\n",
      "\n",
      "Epoch 00026: val_loss improved from 0.00334 to 0.00275, saving model to ./trained_models/unet_div8_495K_20_DiceNet.hdf5\n",
      "Epoch 27/60\n",
      " - 1s - loss: 2.3674e-04 - val_loss: 0.0022\n",
      "\n",
      "Epoch 00027: val_loss improved from 0.00275 to 0.00224, saving model to ./trained_models/unet_div8_495K_20_DiceNet.hdf5\n",
      "Epoch 28/60\n",
      " - 1s - loss: 2.2561e-04 - val_loss: 0.0018\n",
      "\n",
      "Epoch 00028: val_loss improved from 0.00224 to 0.00180, saving model to ./trained_models/unet_div8_495K_20_DiceNet.hdf5\n",
      "Epoch 29/60\n",
      " - 1s - loss: 2.1553e-04 - val_loss: 0.0015\n",
      "\n",
      "Epoch 00029: val_loss improved from 0.00180 to 0.00145, saving model to ./trained_models/unet_div8_495K_20_DiceNet.hdf5\n",
      "Epoch 30/60\n",
      " - 1s - loss: 2.0632e-04 - val_loss: 0.0012\n",
      "\n",
      "Epoch 00030: val_loss improved from 0.00145 to 0.00118, saving model to ./trained_models/unet_div8_495K_20_DiceNet.hdf5\n",
      "Epoch 31/60\n",
      " - 1s - loss: 1.9789e-04 - val_loss: 9.6963e-04\n",
      "\n",
      "Epoch 00031: val_loss improved from 0.00118 to 0.00097, saving model to ./trained_models/unet_div8_495K_20_DiceNet.hdf5\n",
      "Epoch 32/60\n",
      " - 1s - loss: 1.9018e-04 - val_loss: 8.0681e-04\n",
      "\n",
      "Epoch 00032: val_loss improved from 0.00097 to 0.00081, saving model to ./trained_models/unet_div8_495K_20_DiceNet.hdf5\n",
      "Epoch 33/60\n",
      " - 1s - loss: 1.8317e-04 - val_loss: 6.8095e-04\n",
      "\n",
      "Epoch 00033: val_loss improved from 0.00081 to 0.00068, saving model to ./trained_models/unet_div8_495K_20_DiceNet.hdf5\n",
      "Epoch 34/60\n",
      " - 1s - loss: 1.7679e-04 - val_loss: 5.8257e-04\n",
      "\n",
      "Epoch 00034: val_loss improved from 0.00068 to 0.00058, saving model to ./trained_models/unet_div8_495K_20_DiceNet.hdf5\n",
      "Epoch 35/60\n",
      " - 1s - loss: 1.7101e-04 - val_loss: 5.0453e-04\n",
      "\n",
      "Epoch 00035: val_loss improved from 0.00058 to 0.00050, saving model to ./trained_models/unet_div8_495K_20_DiceNet.hdf5\n",
      "Epoch 36/60\n",
      " - 1s - loss: 1.6573e-04 - val_loss: 4.4175e-04\n",
      "\n",
      "Epoch 00036: val_loss improved from 0.00050 to 0.00044, saving model to ./trained_models/unet_div8_495K_20_DiceNet.hdf5\n",
      "Epoch 37/60\n",
      " - 1s - loss: 1.6091e-04 - val_loss: 3.9059e-04\n",
      "\n",
      "Epoch 00037: val_loss improved from 0.00044 to 0.00039, saving model to ./trained_models/unet_div8_495K_20_DiceNet.hdf5\n",
      "Epoch 38/60\n",
      " - 1s - loss: 1.5646e-04 - val_loss: 3.4842e-04\n",
      "\n",
      "Epoch 00038: val_loss improved from 0.00039 to 0.00035, saving model to ./trained_models/unet_div8_495K_20_DiceNet.hdf5\n",
      "Epoch 39/60\n",
      " - 1s - loss: 1.5235e-04 - val_loss: 3.1329e-04\n",
      "\n",
      "Epoch 00039: val_loss improved from 0.00035 to 0.00031, saving model to ./trained_models/unet_div8_495K_20_DiceNet.hdf5\n",
      "Epoch 40/60\n",
      " - 1s - loss: 1.4850e-04 - val_loss: 2.8384e-04\n",
      "\n",
      "Epoch 00040: val_loss improved from 0.00031 to 0.00028, saving model to ./trained_models/unet_div8_495K_20_DiceNet.hdf5\n",
      "Epoch 41/60\n",
      " - 1s - loss: 1.4488e-04 - val_loss: 2.5903e-04\n",
      "\n",
      "Epoch 00041: val_loss improved from 0.00028 to 0.00026, saving model to ./trained_models/unet_div8_495K_20_DiceNet.hdf5\n",
      "Epoch 42/60\n",
      " - 1s - loss: 1.4146e-04 - val_loss: 2.3804e-04\n",
      "\n",
      "Epoch 00042: val_loss improved from 0.00026 to 0.00024, saving model to ./trained_models/unet_div8_495K_20_DiceNet.hdf5\n",
      "Epoch 43/60\n",
      " - 1s - loss: 1.3820e-04 - val_loss: 2.2027e-04\n",
      "\n",
      "Epoch 00043: val_loss improved from 0.00024 to 0.00022, saving model to ./trained_models/unet_div8_495K_20_DiceNet.hdf5\n",
      "Epoch 44/60\n",
      " - 1s - loss: 1.3510e-04 - val_loss: 2.0520e-04\n",
      "\n",
      "Epoch 00044: val_loss improved from 0.00022 to 0.00021, saving model to ./trained_models/unet_div8_495K_20_DiceNet.hdf5\n",
      "Epoch 45/60\n",
      " - 1s - loss: 1.3213e-04 - val_loss: 1.9241e-04\n",
      "\n",
      "Epoch 00045: val_loss improved from 0.00021 to 0.00019, saving model to ./trained_models/unet_div8_495K_20_DiceNet.hdf5\n",
      "Epoch 46/60\n",
      " - 1s - loss: 1.2928e-04 - val_loss: 1.8154e-04\n",
      "\n",
      "Epoch 00046: val_loss improved from 0.00019 to 0.00018, saving model to ./trained_models/unet_div8_495K_20_DiceNet.hdf5\n",
      "Epoch 47/60\n",
      " - 1s - loss: 1.2657e-04 - val_loss: 1.7224e-04\n",
      "\n",
      "Epoch 00047: val_loss improved from 0.00018 to 0.00017, saving model to ./trained_models/unet_div8_495K_20_DiceNet.hdf5\n",
      "Epoch 48/60\n",
      " - 1s - loss: 1.2397e-04 - val_loss: 1.6425e-04\n",
      "\n",
      "Epoch 00048: val_loss improved from 0.00017 to 0.00016, saving model to ./trained_models/unet_div8_495K_20_DiceNet.hdf5\n",
      "Epoch 49/60\n",
      " - 1s - loss: 1.2149e-04 - val_loss: 1.5737e-04\n",
      "\n",
      "Epoch 00049: val_loss improved from 0.00016 to 0.00016, saving model to ./trained_models/unet_div8_495K_20_DiceNet.hdf5\n",
      "Epoch 50/60\n",
      " - 1s - loss: 1.1913e-04 - val_loss: 1.5147e-04\n",
      "\n",
      "Epoch 00050: val_loss improved from 0.00016 to 0.00015, saving model to ./trained_models/unet_div8_495K_20_DiceNet.hdf5\n",
      "Epoch 51/60\n",
      " - 1s - loss: 1.1688e-04 - val_loss: 1.4642e-04\n",
      "\n",
      "Epoch 00051: val_loss improved from 0.00015 to 0.00015, saving model to ./trained_models/unet_div8_495K_20_DiceNet.hdf5\n",
      "Epoch 52/60\n",
      " - 1s - loss: 1.1475e-04 - val_loss: 1.4212e-04\n",
      "\n",
      "Epoch 00052: val_loss improved from 0.00015 to 0.00014, saving model to ./trained_models/unet_div8_495K_20_DiceNet.hdf5\n",
      "Epoch 53/60\n",
      " - 1s - loss: 1.1271e-04 - val_loss: 1.3845e-04\n",
      "\n",
      "Epoch 00053: val_loss improved from 0.00014 to 0.00014, saving model to ./trained_models/unet_div8_495K_20_DiceNet.hdf5\n",
      "Epoch 54/60\n",
      " - 1s - loss: 1.1076e-04 - val_loss: 1.3534e-04\n",
      "\n",
      "Epoch 00054: val_loss improved from 0.00014 to 0.00014, saving model to ./trained_models/unet_div8_495K_20_DiceNet.hdf5\n",
      "Epoch 55/60\n",
      " - 1s - loss: 1.0887e-04 - val_loss: 1.3273e-04\n",
      "\n",
      "Epoch 00055: val_loss improved from 0.00014 to 0.00013, saving model to ./trained_models/unet_div8_495K_20_DiceNet.hdf5\n",
      "Epoch 56/60\n",
      " - 1s - loss: 1.0705e-04 - val_loss: 1.3054e-04\n",
      "\n",
      "Epoch 00056: val_loss improved from 0.00013 to 0.00013, saving model to ./trained_models/unet_div8_495K_20_DiceNet.hdf5\n",
      "Epoch 57/60\n",
      " - 1s - loss: 1.0528e-04 - val_loss: 1.2872e-04\n",
      "\n",
      "Epoch 00057: val_loss improved from 0.00013 to 0.00013, saving model to ./trained_models/unet_div8_495K_20_DiceNet.hdf5\n",
      "Epoch 58/60\n",
      " - 1s - loss: 1.0356e-04 - val_loss: 1.2722e-04\n",
      "\n",
      "Epoch 00058: val_loss improved from 0.00013 to 0.00013, saving model to ./trained_models/unet_div8_495K_20_DiceNet.hdf5\n",
      "Epoch 59/60\n",
      " - 1s - loss: 1.0187e-04 - val_loss: 1.2602e-04\n",
      "\n",
      "Epoch 00059: val_loss improved from 0.00013 to 0.00013, saving model to ./trained_models/unet_div8_495K_20_DiceNet.hdf5\n",
      "Epoch 60/60\n",
      " - 1s - loss: 1.0022e-04 - val_loss: 1.2508e-04\n",
      "\n",
      "Epoch 00060: val_loss improved from 0.00013 to 0.00013, saving model to ./trained_models/unet_div8_495K_20_DiceNet.hdf5\n",
      "False\n",
      "False\n",
      "START EVALUATION......:\n",
      "(10, 400, 400, 28)\n",
      "Loading model: ./trained_models/unet_div8_495K_20.hdf5\n"
     ]
    },
    {
     "name": "stderr",
     "output_type": "stream",
     "text": [
      "\n",
      "  0%|          | 0/10 [00:00<?, ?it/s]\u001b[A\n",
      " 10%|█         | 1/10 [00:02<00:21,  2.42s/it]\u001b[A"
     ]
    },
    {
     "name": "stdout",
     "output_type": "stream",
     "text": [
      "\n",
      " Time needed for MC Dropout-based Uncertainty Estimation   2.414421558380127\n"
     ]
    },
    {
     "name": "stderr",
     "output_type": "stream",
     "text": [
      "\n",
      " 20%|██        | 2/10 [00:03<00:16,  2.12s/it]\u001b[A"
     ]
    },
    {
     "name": "stdout",
     "output_type": "stream",
     "text": [
      "\n",
      " Time needed for MC Dropout-based Uncertainty Estimation   1.4211094379425049\n"
     ]
    },
    {
     "name": "stderr",
     "output_type": "stream",
     "text": [
      "\n",
      " 30%|███       | 3/10 [00:05<00:13,  1.88s/it]\u001b[A"
     ]
    },
    {
     "name": "stdout",
     "output_type": "stream",
     "text": [
      "\n",
      " Time needed for MC Dropout-based Uncertainty Estimation   1.3090367317199707\n"
     ]
    },
    {
     "name": "stderr",
     "output_type": "stream",
     "text": [
      "\n",
      " 40%|████      | 4/10 [00:06<00:10,  1.75s/it]\u001b[A"
     ]
    },
    {
     "name": "stdout",
     "output_type": "stream",
     "text": [
      "\n",
      " Time needed for MC Dropout-based Uncertainty Estimation   1.423516035079956\n"
     ]
    },
    {
     "name": "stderr",
     "output_type": "stream",
     "text": [
      "\n",
      " 50%|█████     | 5/10 [00:07<00:08,  1.61s/it]\u001b[A"
     ]
    },
    {
     "name": "stdout",
     "output_type": "stream",
     "text": [
      "\n",
      " Time needed for MC Dropout-based Uncertainty Estimation   1.2963926792144775\n"
     ]
    },
    {
     "name": "stderr",
     "output_type": "stream",
     "text": [
      "\n",
      " 60%|██████    | 6/10 [00:09<00:06,  1.56s/it]\u001b[A"
     ]
    },
    {
     "name": "stdout",
     "output_type": "stream",
     "text": [
      "\n",
      " Time needed for MC Dropout-based Uncertainty Estimation   1.4141383171081543\n"
     ]
    },
    {
     "name": "stderr",
     "output_type": "stream",
     "text": [
      "\n",
      " 70%|███████   | 7/10 [00:10<00:04,  1.49s/it]\u001b[A"
     ]
    },
    {
     "name": "stdout",
     "output_type": "stream",
     "text": [
      "\n",
      " Time needed for MC Dropout-based Uncertainty Estimation   1.3131952285766602\n"
     ]
    },
    {
     "name": "stderr",
     "output_type": "stream",
     "text": [
      "\n",
      " 80%|████████  | 8/10 [00:12<00:02,  1.47s/it]\u001b[A"
     ]
    },
    {
     "name": "stdout",
     "output_type": "stream",
     "text": [
      "\n",
      " Time needed for MC Dropout-based Uncertainty Estimation   1.423844575881958\n"
     ]
    },
    {
     "name": "stderr",
     "output_type": "stream",
     "text": [
      "\n",
      " 90%|█████████ | 9/10 [00:13<00:01,  1.43s/it]\u001b[A"
     ]
    },
    {
     "name": "stdout",
     "output_type": "stream",
     "text": [
      "\n",
      " Time needed for MC Dropout-based Uncertainty Estimation   1.3112657070159912\n"
     ]
    },
    {
     "name": "stderr",
     "output_type": "stream",
     "text": [
      "\n",
      "100%|██████████| 10/10 [00:14<00:00,  1.43s/it]\u001b[A"
     ]
    },
    {
     "name": "stdout",
     "output_type": "stream",
     "text": [
      "\n",
      " Time needed for MC Dropout-based Uncertainty Estimation   1.4207775592803955\n",
      "Loading model: ./trained_models/unet_div8_495K_20_DiceNet.hdf5\n",
      "START EVALUATION......:\n",
      "(60, 400, 400, 28)\n",
      "Loading model: ./trained_models/unet_div8_495K_20.hdf5\n"
     ]
    },
    {
     "name": "stderr",
     "output_type": "stream",
     "text": [
      "\n",
      "  0%|          | 0/60 [00:00<?, ?it/s]\u001b[A\n",
      "  2%|▏         | 1/60 [00:10<10:16, 10.45s/it]\u001b[A"
     ]
    },
    {
     "name": "stdout",
     "output_type": "stream",
     "text": [
      "\n",
      " Time needed for MC Dropout-based Uncertainty Estimation   10.429028272628784\n"
     ]
    },
    {
     "name": "stderr",
     "output_type": "stream",
     "text": [
      "\n",
      "  3%|▎         | 2/60 [00:19<09:37,  9.95s/it]\u001b[A"
     ]
    },
    {
     "name": "stdout",
     "output_type": "stream",
     "text": [
      "\n",
      " Time needed for MC Dropout-based Uncertainty Estimation   8.753355979919434\n"
     ]
    },
    {
     "name": "stderr",
     "output_type": "stream",
     "text": [
      "\n",
      "  5%|▌         | 3/60 [00:27<08:57,  9.43s/it]\u001b[A"
     ]
    },
    {
     "name": "stdout",
     "output_type": "stream",
     "text": [
      "\n",
      " Time needed for MC Dropout-based Uncertainty Estimation   8.165527582168579\n"
     ]
    },
    {
     "name": "stderr",
     "output_type": "stream",
     "text": [
      "\n",
      "  7%|▋         | 4/60 [00:36<08:36,  9.22s/it]\u001b[A"
     ]
    },
    {
     "name": "stdout",
     "output_type": "stream",
     "text": [
      "\n",
      " Time needed for MC Dropout-based Uncertainty Estimation   8.715615034103394\n"
     ]
    },
    {
     "name": "stderr",
     "output_type": "stream",
     "text": [
      "\n",
      "  8%|▊         | 5/60 [00:45<08:20,  9.10s/it]\u001b[A"
     ]
    },
    {
     "name": "stdout",
     "output_type": "stream",
     "text": [
      "\n",
      " Time needed for MC Dropout-based Uncertainty Estimation   8.791168451309204\n"
     ]
    },
    {
     "name": "stderr",
     "output_type": "stream",
     "text": [
      "\n",
      " 10%|█         | 6/60 [00:53<07:56,  8.82s/it]\u001b[A"
     ]
    },
    {
     "name": "stdout",
     "output_type": "stream",
     "text": [
      "\n",
      " Time needed for MC Dropout-based Uncertainty Estimation   8.139962434768677\n"
     ]
    },
    {
     "name": "stderr",
     "output_type": "stream",
     "text": [
      "\n",
      " 12%|█▏        | 7/60 [01:01<07:47,  8.81s/it]\u001b[A"
     ]
    },
    {
     "name": "stdout",
     "output_type": "stream",
     "text": [
      "\n",
      " Time needed for MC Dropout-based Uncertainty Estimation   8.763587951660156\n"
     ]
    },
    {
     "name": "stderr",
     "output_type": "stream",
     "text": [
      "\n",
      " 13%|█▎        | 8/60 [01:10<07:36,  8.78s/it]\u001b[A"
     ]
    },
    {
     "name": "stdout",
     "output_type": "stream",
     "text": [
      "\n",
      " Time needed for MC Dropout-based Uncertainty Estimation   8.660858869552612\n"
     ]
    },
    {
     "name": "stderr",
     "output_type": "stream",
     "text": [
      "\n",
      " 15%|█▌        | 9/60 [01:18<07:17,  8.58s/it]\u001b[A"
     ]
    },
    {
     "name": "stdout",
     "output_type": "stream",
     "text": [
      "\n",
      " Time needed for MC Dropout-based Uncertainty Estimation   8.070526599884033\n"
     ]
    },
    {
     "name": "stderr",
     "output_type": "stream",
     "text": [
      "\n",
      " 17%|█▋        | 10/60 [01:27<07:11,  8.64s/it]\u001b[A"
     ]
    },
    {
     "name": "stdout",
     "output_type": "stream",
     "text": [
      "\n",
      " Time needed for MC Dropout-based Uncertainty Estimation   8.749125719070435\n"
     ]
    },
    {
     "name": "stderr",
     "output_type": "stream",
     "text": [
      "\n",
      " 18%|█▊        | 11/60 [01:36<07:04,  8.67s/it]\u001b[A"
     ]
    },
    {
     "name": "stdout",
     "output_type": "stream",
     "text": [
      "\n",
      " Time needed for MC Dropout-based Uncertainty Estimation   8.721478462219238\n"
     ]
    },
    {
     "name": "stderr",
     "output_type": "stream",
     "text": [
      "\n",
      " 20%|██        | 12/60 [01:44<06:48,  8.51s/it]\u001b[A"
     ]
    },
    {
     "name": "stdout",
     "output_type": "stream",
     "text": [
      "\n",
      " Time needed for MC Dropout-based Uncertainty Estimation   8.101274013519287\n"
     ]
    },
    {
     "name": "stderr",
     "output_type": "stream",
     "text": [
      "\n",
      " 22%|██▏       | 13/60 [01:53<06:44,  8.62s/it]\u001b[A"
     ]
    },
    {
     "name": "stdout",
     "output_type": "stream",
     "text": [
      "\n",
      " Time needed for MC Dropout-based Uncertainty Estimation   8.82883596420288\n"
     ]
    },
    {
     "name": "stderr",
     "output_type": "stream",
     "text": [
      "\n",
      " 23%|██▎       | 14/60 [02:02<06:39,  8.68s/it]\u001b[A"
     ]
    },
    {
     "name": "stdout",
     "output_type": "stream",
     "text": [
      "\n",
      " Time needed for MC Dropout-based Uncertainty Estimation   8.800109386444092\n"
     ]
    },
    {
     "name": "stderr",
     "output_type": "stream",
     "text": [
      "\n",
      " 25%|██▌       | 15/60 [02:10<06:23,  8.53s/it]\u001b[A"
     ]
    },
    {
     "name": "stdout",
     "output_type": "stream",
     "text": [
      "\n",
      " Time needed for MC Dropout-based Uncertainty Estimation   8.145105600357056\n"
     ]
    },
    {
     "name": "stderr",
     "output_type": "stream",
     "text": [
      "\n",
      " 27%|██▋       | 16/60 [02:19<06:19,  8.62s/it]\u001b[A"
     ]
    },
    {
     "name": "stdout",
     "output_type": "stream",
     "text": [
      "\n",
      " Time needed for MC Dropout-based Uncertainty Estimation   8.800995588302612\n"
     ]
    },
    {
     "name": "stderr",
     "output_type": "stream",
     "text": [
      "\n",
      " 28%|██▊       | 17/60 [02:27<06:12,  8.67s/it]\u001b[A"
     ]
    },
    {
     "name": "stdout",
     "output_type": "stream",
     "text": [
      "\n",
      " Time needed for MC Dropout-based Uncertainty Estimation   8.750874996185303\n"
     ]
    },
    {
     "name": "stderr",
     "output_type": "stream",
     "text": [
      "\n",
      " 30%|███       | 18/60 [02:36<05:57,  8.52s/it]\u001b[A"
     ]
    },
    {
     "name": "stdout",
     "output_type": "stream",
     "text": [
      "\n",
      " Time needed for MC Dropout-based Uncertainty Estimation   8.146227359771729\n"
     ]
    },
    {
     "name": "stderr",
     "output_type": "stream",
     "text": [
      "\n",
      " 32%|███▏      | 19/60 [02:44<05:52,  8.59s/it]\u001b[A"
     ]
    },
    {
     "name": "stdout",
     "output_type": "stream",
     "text": [
      "\n",
      " Time needed for MC Dropout-based Uncertainty Estimation   8.720993518829346\n"
     ]
    },
    {
     "name": "stderr",
     "output_type": "stream",
     "text": [
      "\n",
      " 33%|███▎      | 20/60 [02:53<05:46,  8.66s/it]\u001b[A"
     ]
    },
    {
     "name": "stdout",
     "output_type": "stream",
     "text": [
      "\n",
      " Time needed for MC Dropout-based Uncertainty Estimation   8.80152940750122\n"
     ]
    },
    {
     "name": "stderr",
     "output_type": "stream",
     "text": [
      "\n",
      " 35%|███▌      | 21/60 [03:01<05:32,  8.52s/it]\u001b[A"
     ]
    },
    {
     "name": "stdout",
     "output_type": "stream",
     "text": [
      "\n",
      " Time needed for MC Dropout-based Uncertainty Estimation   8.141876935958862\n"
     ]
    },
    {
     "name": "stderr",
     "output_type": "stream",
     "text": [
      "\n",
      " 37%|███▋      | 22/60 [03:10<05:26,  8.59s/it]\u001b[A"
     ]
    },
    {
     "name": "stdout",
     "output_type": "stream",
     "text": [
      "\n",
      " Time needed for MC Dropout-based Uncertainty Estimation   8.730837345123291\n"
     ]
    },
    {
     "name": "stderr",
     "output_type": "stream",
     "text": [
      "\n",
      " 38%|███▊      | 23/60 [03:19<05:20,  8.66s/it]\u001b[A"
     ]
    },
    {
     "name": "stdout",
     "output_type": "stream",
     "text": [
      "\n",
      " Time needed for MC Dropout-based Uncertainty Estimation   8.776029825210571\n"
     ]
    },
    {
     "name": "stderr",
     "output_type": "stream",
     "text": [
      "\n",
      " 40%|████      | 24/60 [03:27<05:06,  8.51s/it]\u001b[A"
     ]
    },
    {
     "name": "stdout",
     "output_type": "stream",
     "text": [
      "\n",
      " Time needed for MC Dropout-based Uncertainty Estimation   8.129605293273926\n"
     ]
    },
    {
     "name": "stderr",
     "output_type": "stream",
     "text": [
      "\n",
      " 42%|████▏     | 25/60 [03:36<05:00,  8.60s/it]\u001b[A"
     ]
    },
    {
     "name": "stdout",
     "output_type": "stream",
     "text": [
      "\n",
      " Time needed for MC Dropout-based Uncertainty Estimation   8.76885199546814\n"
     ]
    },
    {
     "name": "stderr",
     "output_type": "stream",
     "text": [
      "\n",
      " 43%|████▎     | 26/60 [03:45<04:55,  8.68s/it]\u001b[A"
     ]
    },
    {
     "name": "stdout",
     "output_type": "stream",
     "text": [
      "\n",
      " Time needed for MC Dropout-based Uncertainty Estimation   8.847453594207764\n"
     ]
    },
    {
     "name": "stderr",
     "output_type": "stream",
     "text": [
      "\n",
      " 45%|████▌     | 27/60 [03:53<04:41,  8.53s/it]\u001b[A"
     ]
    },
    {
     "name": "stdout",
     "output_type": "stream",
     "text": [
      "\n",
      " Time needed for MC Dropout-based Uncertainty Estimation   8.161714315414429\n"
     ]
    },
    {
     "name": "stderr",
     "output_type": "stream",
     "text": [
      "\n",
      " 47%|████▋     | 28/60 [04:02<04:35,  8.60s/it]\u001b[A"
     ]
    },
    {
     "name": "stdout",
     "output_type": "stream",
     "text": [
      "\n",
      " Time needed for MC Dropout-based Uncertainty Estimation   8.73780345916748\n"
     ]
    },
    {
     "name": "stderr",
     "output_type": "stream",
     "text": [
      "\n",
      " 48%|████▊     | 29/60 [04:10<04:28,  8.65s/it]\u001b[A"
     ]
    },
    {
     "name": "stdout",
     "output_type": "stream",
     "text": [
      "\n",
      " Time needed for MC Dropout-based Uncertainty Estimation   8.708580255508423\n"
     ]
    },
    {
     "name": "stderr",
     "output_type": "stream",
     "text": [
      "\n",
      " 50%|█████     | 30/60 [04:19<04:15,  8.51s/it]\u001b[A"
     ]
    },
    {
     "name": "stdout",
     "output_type": "stream",
     "text": [
      "\n",
      " Time needed for MC Dropout-based Uncertainty Estimation   8.161672353744507\n"
     ]
    },
    {
     "name": "stderr",
     "output_type": "stream",
     "text": [
      "\n",
      " 52%|█████▏    | 31/60 [04:27<04:07,  8.55s/it]\u001b[A"
     ]
    },
    {
     "name": "stdout",
     "output_type": "stream",
     "text": [
      "\n",
      " Time needed for MC Dropout-based Uncertainty Estimation   8.597877264022827\n"
     ]
    },
    {
     "name": "stderr",
     "output_type": "stream",
     "text": [
      "\n",
      " 53%|█████▎    | 32/60 [04:36<04:00,  8.60s/it]\u001b[A"
     ]
    },
    {
     "name": "stdout",
     "output_type": "stream",
     "text": [
      "\n",
      " Time needed for MC Dropout-based Uncertainty Estimation   8.709177017211914\n"
     ]
    },
    {
     "name": "stderr",
     "output_type": "stream",
     "text": [
      "\n",
      " 55%|█████▌    | 33/60 [04:44<03:48,  8.48s/it]\u001b[A"
     ]
    },
    {
     "name": "stdout",
     "output_type": "stream",
     "text": [
      "\n",
      " Time needed for MC Dropout-based Uncertainty Estimation   8.15107536315918\n"
     ]
    },
    {
     "name": "stderr",
     "output_type": "stream",
     "text": [
      "\n",
      " 57%|█████▋    | 34/60 [04:53<03:42,  8.55s/it]\u001b[A"
     ]
    },
    {
     "name": "stdout",
     "output_type": "stream",
     "text": [
      "\n",
      " Time needed for MC Dropout-based Uncertainty Estimation   8.689544677734375\n"
     ]
    },
    {
     "name": "stderr",
     "output_type": "stream",
     "text": [
      "\n",
      " 58%|█████▊    | 35/60 [05:02<03:35,  8.63s/it]\u001b[A"
     ]
    },
    {
     "name": "stdout",
     "output_type": "stream",
     "text": [
      "\n",
      " Time needed for MC Dropout-based Uncertainty Estimation   8.796047449111938\n"
     ]
    },
    {
     "name": "stderr",
     "output_type": "stream",
     "text": [
      "\n",
      " 60%|██████    | 36/60 [05:10<03:24,  8.52s/it]\u001b[A"
     ]
    },
    {
     "name": "stdout",
     "output_type": "stream",
     "text": [
      "\n",
      " Time needed for MC Dropout-based Uncertainty Estimation   8.211727857589722\n"
     ]
    },
    {
     "name": "stderr",
     "output_type": "stream",
     "text": [
      "\n",
      " 62%|██████▏   | 37/60 [05:19<03:17,  8.58s/it]\u001b[A"
     ]
    },
    {
     "name": "stdout",
     "output_type": "stream",
     "text": [
      "\n",
      " Time needed for MC Dropout-based Uncertainty Estimation   8.703101396560669\n"
     ]
    },
    {
     "name": "stderr",
     "output_type": "stream",
     "text": [
      "\n",
      " 63%|██████▎   | 38/60 [05:28<03:10,  8.68s/it]\u001b[A"
     ]
    },
    {
     "name": "stdout",
     "output_type": "stream",
     "text": [
      "\n",
      " Time needed for MC Dropout-based Uncertainty Estimation   8.88008427619934\n"
     ]
    },
    {
     "name": "stderr",
     "output_type": "stream",
     "text": [
      "\n",
      " 65%|██████▌   | 39/60 [05:36<02:59,  8.56s/it]\u001b[A"
     ]
    },
    {
     "name": "stdout",
     "output_type": "stream",
     "text": [
      "\n",
      " Time needed for MC Dropout-based Uncertainty Estimation   8.230462312698364\n"
     ]
    },
    {
     "name": "stderr",
     "output_type": "stream",
     "text": [
      "\n",
      " 67%|██████▋   | 40/60 [05:45<02:52,  8.62s/it]\u001b[A"
     ]
    },
    {
     "name": "stdout",
     "output_type": "stream",
     "text": [
      "\n",
      " Time needed for MC Dropout-based Uncertainty Estimation   8.726441621780396\n"
     ]
    },
    {
     "name": "stderr",
     "output_type": "stream",
     "text": [
      "\n",
      " 68%|██████▊   | 41/60 [05:54<02:45,  8.70s/it]\u001b[A"
     ]
    },
    {
     "name": "stdout",
     "output_type": "stream",
     "text": [
      "\n",
      " Time needed for MC Dropout-based Uncertainty Estimation   8.855334997177124\n"
     ]
    },
    {
     "name": "stderr",
     "output_type": "stream",
     "text": [
      "\n",
      " 70%|███████   | 42/60 [06:02<02:34,  8.58s/it]\u001b[A"
     ]
    },
    {
     "name": "stdout",
     "output_type": "stream",
     "text": [
      "\n",
      " Time needed for MC Dropout-based Uncertainty Estimation   8.286852836608887\n"
     ]
    },
    {
     "name": "stderr",
     "output_type": "stream",
     "text": [
      "\n",
      " 72%|███████▏  | 43/60 [06:11<02:26,  8.61s/it]\u001b[A"
     ]
    },
    {
     "name": "stdout",
     "output_type": "stream",
     "text": [
      "\n",
      " Time needed for MC Dropout-based Uncertainty Estimation   8.651814222335815\n"
     ]
    },
    {
     "name": "stderr",
     "output_type": "stream",
     "text": [
      "\n",
      " 73%|███████▎  | 44/60 [06:19<02:18,  8.67s/it]\u001b[A"
     ]
    },
    {
     "name": "stdout",
     "output_type": "stream",
     "text": [
      "\n",
      " Time needed for MC Dropout-based Uncertainty Estimation   8.777214050292969\n"
     ]
    },
    {
     "name": "stderr",
     "output_type": "stream",
     "text": [
      "\n",
      " 75%|███████▌  | 45/60 [06:28<02:07,  8.53s/it]\u001b[A"
     ]
    },
    {
     "name": "stdout",
     "output_type": "stream",
     "text": [
      "\n",
      " Time needed for MC Dropout-based Uncertainty Estimation   8.168158531188965\n"
     ]
    },
    {
     "name": "stderr",
     "output_type": "stream",
     "text": [
      "\n",
      " 77%|███████▋  | 46/60 [06:36<02:00,  8.62s/it]\u001b[A"
     ]
    },
    {
     "name": "stdout",
     "output_type": "stream",
     "text": [
      "\n",
      " Time needed for MC Dropout-based Uncertainty Estimation   8.799521446228027\n"
     ]
    },
    {
     "name": "stderr",
     "output_type": "stream",
     "text": [
      "\n",
      " 78%|███████▊  | 47/60 [06:45<01:52,  8.68s/it]\u001b[A"
     ]
    },
    {
     "name": "stdout",
     "output_type": "stream",
     "text": [
      "\n",
      " Time needed for MC Dropout-based Uncertainty Estimation   8.778446912765503\n"
     ]
    },
    {
     "name": "stderr",
     "output_type": "stream",
     "text": [
      "\n",
      " 80%|████████  | 48/60 [06:53<01:42,  8.54s/it]\u001b[A"
     ]
    },
    {
     "name": "stdout",
     "output_type": "stream",
     "text": [
      "\n",
      " Time needed for MC Dropout-based Uncertainty Estimation   8.178752899169922\n"
     ]
    },
    {
     "name": "stderr",
     "output_type": "stream",
     "text": [
      "\n",
      " 82%|████████▏ | 49/60 [07:02<01:34,  8.58s/it]\u001b[A"
     ]
    },
    {
     "name": "stdout",
     "output_type": "stream",
     "text": [
      "\n",
      " Time needed for MC Dropout-based Uncertainty Estimation   8.655775785446167\n"
     ]
    },
    {
     "name": "stderr",
     "output_type": "stream",
     "text": [
      "\n",
      " 83%|████████▎ | 50/60 [07:11<01:26,  8.66s/it]\u001b[A"
     ]
    },
    {
     "name": "stdout",
     "output_type": "stream",
     "text": [
      "\n",
      " Time needed for MC Dropout-based Uncertainty Estimation   8.799647092819214\n"
     ]
    },
    {
     "name": "stderr",
     "output_type": "stream",
     "text": [
      "\n",
      " 85%|████████▌ | 51/60 [07:19<01:16,  8.52s/it]\u001b[A"
     ]
    },
    {
     "name": "stdout",
     "output_type": "stream",
     "text": [
      "\n",
      " Time needed for MC Dropout-based Uncertainty Estimation   8.171250820159912\n"
     ]
    },
    {
     "name": "stderr",
     "output_type": "stream",
     "text": [
      "\n",
      " 87%|████████▋ | 52/60 [07:28<01:08,  8.59s/it]\u001b[A"
     ]
    },
    {
     "name": "stdout",
     "output_type": "stream",
     "text": [
      "\n",
      " Time needed for MC Dropout-based Uncertainty Estimation   8.713530778884888\n"
     ]
    },
    {
     "name": "stderr",
     "output_type": "stream",
     "text": [
      "\n",
      " 88%|████████▊ | 53/60 [07:37<01:00,  8.67s/it]\u001b[A"
     ]
    },
    {
     "name": "stdout",
     "output_type": "stream",
     "text": [
      "\n",
      " Time needed for MC Dropout-based Uncertainty Estimation   8.824566125869751\n"
     ]
    },
    {
     "name": "stderr",
     "output_type": "stream",
     "text": [
      "\n",
      " 90%|█████████ | 54/60 [07:45<00:51,  8.53s/it]\u001b[A"
     ]
    },
    {
     "name": "stdout",
     "output_type": "stream",
     "text": [
      "\n",
      " Time needed for MC Dropout-based Uncertainty Estimation   8.16903805732727\n"
     ]
    },
    {
     "name": "stderr",
     "output_type": "stream",
     "text": [
      "\n",
      " 92%|█████████▏| 55/60 [07:54<00:42,  8.56s/it]\u001b[A"
     ]
    },
    {
     "name": "stdout",
     "output_type": "stream",
     "text": [
      "\n",
      " Time needed for MC Dropout-based Uncertainty Estimation   8.592079877853394\n"
     ]
    },
    {
     "name": "stderr",
     "output_type": "stream",
     "text": [
      "\n",
      " 93%|█████████▎| 56/60 [08:02<00:34,  8.64s/it]\u001b[A"
     ]
    },
    {
     "name": "stdout",
     "output_type": "stream",
     "text": [
      "\n",
      " Time needed for MC Dropout-based Uncertainty Estimation   8.80861783027649\n"
     ]
    },
    {
     "name": "stderr",
     "output_type": "stream",
     "text": [
      "\n",
      " 95%|█████████▌| 57/60 [08:11<00:25,  8.50s/it]\u001b[A"
     ]
    },
    {
     "name": "stdout",
     "output_type": "stream",
     "text": [
      "\n",
      " Time needed for MC Dropout-based Uncertainty Estimation   8.152727127075195\n"
     ]
    },
    {
     "name": "stderr",
     "output_type": "stream",
     "text": [
      "\n",
      " 97%|█████████▋| 58/60 [08:19<00:17,  8.54s/it]\u001b[A"
     ]
    },
    {
     "name": "stdout",
     "output_type": "stream",
     "text": [
      "\n",
      " Time needed for MC Dropout-based Uncertainty Estimation   8.60725736618042\n"
     ]
    },
    {
     "name": "stderr",
     "output_type": "stream",
     "text": [
      "\n",
      " 98%|█████████▊| 59/60 [08:28<00:08,  8.62s/it]\u001b[A"
     ]
    },
    {
     "name": "stdout",
     "output_type": "stream",
     "text": [
      "\n",
      " Time needed for MC Dropout-based Uncertainty Estimation   8.778165817260742\n"
     ]
    },
    {
     "name": "stderr",
     "output_type": "stream",
     "text": [
      "\n",
      "100%|██████████| 60/60 [08:36<00:00,  8.48s/it]\u001b[A"
     ]
    },
    {
     "name": "stdout",
     "output_type": "stream",
     "text": [
      "\n",
      " Time needed for MC Dropout-based Uncertainty Estimation   8.12762975692749\n",
      "START TRAINING......:\n",
      "Training with 20 images\n",
      "Validating with 10 images\n",
      "Training Unet-mcdropout\n",
      "(20, 400, 400, 28)\n",
      "Epoch 1/80\n",
      " - 5s - loss: 0.7340 - accuracy: 0.4826 - val_loss: 0.6887 - val_accuracy: 0.7558\n",
      "\n",
      "Epoch 00001: val_loss improved from inf to 0.68871, saving model to ./trained_models/unet_div8_495K_20.hdf5\n",
      "Epoch 2/80\n",
      " - 1s - loss: 0.6507 - accuracy: 0.7317 - val_loss: 0.6790 - val_accuracy: 0.8137\n",
      "\n",
      "Epoch 00002: val_loss improved from 0.68871 to 0.67905, saving model to ./trained_models/unet_div8_495K_20.hdf5\n",
      "Epoch 3/80\n",
      " - 2s - loss: 0.5877 - accuracy: 0.7940 - val_loss: 0.6608 - val_accuracy: 0.8514\n",
      "\n",
      "Epoch 00003: val_loss improved from 0.67905 to 0.66085, saving model to ./trained_models/unet_div8_495K_20.hdf5\n",
      "Epoch 4/80\n",
      " - 3s - loss: 0.5394 - accuracy: 0.8244 - val_loss: 0.6329 - val_accuracy: 0.8374\n",
      "\n",
      "Epoch 00004: val_loss improved from 0.66085 to 0.63288, saving model to ./trained_models/unet_div8_495K_20.hdf5\n",
      "Epoch 5/80\n",
      " - 3s - loss: 0.4980 - accuracy: 0.8532 - val_loss: 0.6057 - val_accuracy: 0.8239\n",
      "\n",
      "Epoch 00005: val_loss improved from 0.63288 to 0.60566, saving model to ./trained_models/unet_div8_495K_20.hdf5\n",
      "Epoch 6/80\n",
      " - 4s - loss: 0.4721 - accuracy: 0.8680 - val_loss: 0.5634 - val_accuracy: 0.8257\n",
      "\n",
      "Epoch 00006: val_loss improved from 0.60566 to 0.56340, saving model to ./trained_models/unet_div8_495K_20.hdf5\n",
      "Epoch 7/80\n",
      " - 3s - loss: 0.4518 - accuracy: 0.8771 - val_loss: 0.5251 - val_accuracy: 0.8531\n",
      "\n",
      "Epoch 00007: val_loss improved from 0.56340 to 0.52508, saving model to ./trained_models/unet_div8_495K_20.hdf5\n",
      "Epoch 8/80\n",
      " - 3s - loss: 0.4351 - accuracy: 0.8826 - val_loss: 0.4901 - val_accuracy: 0.8673\n",
      "\n",
      "Epoch 00008: val_loss improved from 0.52508 to 0.49013, saving model to ./trained_models/unet_div8_495K_20.hdf5\n",
      "Epoch 9/80\n",
      " - 3s - loss: 0.4114 - accuracy: 0.8904 - val_loss: 0.4979 - val_accuracy: 0.8713\n",
      "\n",
      "Epoch 00009: val_loss did not improve from 0.49013\n",
      "Epoch 10/80\n",
      " - 3s - loss: 0.4028 - accuracy: 0.8887 - val_loss: 0.4771 - val_accuracy: 0.8707\n",
      "\n",
      "Epoch 00010: val_loss improved from 0.49013 to 0.47714, saving model to ./trained_models/unet_div8_495K_20.hdf5\n",
      "Epoch 11/80\n",
      " - 3s - loss: 0.3927 - accuracy: 0.8841 - val_loss: 0.4565 - val_accuracy: 0.8663\n",
      "\n",
      "Epoch 00011: val_loss improved from 0.47714 to 0.45655, saving model to ./trained_models/unet_div8_495K_20.hdf5\n",
      "Epoch 12/80\n",
      " - 3s - loss: 0.3729 - accuracy: 0.8942 - val_loss: 0.4738 - val_accuracy: 0.8493\n",
      "\n",
      "Epoch 00012: val_loss did not improve from 0.45655\n",
      "Epoch 13/80\n",
      " - 3s - loss: 0.3670 - accuracy: 0.8935 - val_loss: 0.4566 - val_accuracy: 0.8638\n",
      "\n",
      "Epoch 00013: val_loss did not improve from 0.45655\n",
      "Epoch 14/80\n",
      " - 2s - loss: 0.3541 - accuracy: 0.8933 - val_loss: 0.4704 - val_accuracy: 0.8456\n",
      "\n",
      "Epoch 00014: val_loss did not improve from 0.45655\n",
      "Epoch 15/80\n",
      " - 2s - loss: 0.3551 - accuracy: 0.8925 - val_loss: 0.4667 - val_accuracy: 0.8655\n",
      "\n",
      "Epoch 00015: val_loss did not improve from 0.45655\n",
      "Epoch 16/80\n",
      " - 2s - loss: 0.3467 - accuracy: 0.8918 - val_loss: 0.4892 - val_accuracy: 0.8618\n",
      "\n",
      "Epoch 00016: val_loss did not improve from 0.45655\n",
      "Epoch 17/80\n",
      " - 3s - loss: 0.3343 - accuracy: 0.8966 - val_loss: 0.5052 - val_accuracy: 0.8645\n",
      "\n",
      "Epoch 00017: val_loss did not improve from 0.45655\n",
      "Epoch 18/80\n",
      " - 3s - loss: 0.3351 - accuracy: 0.8976 - val_loss: 0.4503 - val_accuracy: 0.8770\n",
      "\n",
      "Epoch 00018: val_loss improved from 0.45655 to 0.45029, saving model to ./trained_models/unet_div8_495K_20.hdf5\n",
      "Epoch 19/80\n",
      " - 3s - loss: 0.3242 - accuracy: 0.9006 - val_loss: 0.4749 - val_accuracy: 0.8752\n",
      "\n",
      "Epoch 00019: val_loss did not improve from 0.45029\n",
      "Epoch 20/80\n",
      " - 3s - loss: 0.3143 - accuracy: 0.9013 - val_loss: 0.5071 - val_accuracy: 0.8128\n",
      "\n",
      "Epoch 00020: val_loss did not improve from 0.45029\n",
      "Epoch 21/80\n",
      " - 2s - loss: 0.3126 - accuracy: 0.8966 - val_loss: 0.4461 - val_accuracy: 0.8474\n",
      "\n",
      "Epoch 00021: val_loss improved from 0.45029 to 0.44612, saving model to ./trained_models/unet_div8_495K_20.hdf5\n",
      "Epoch 22/80\n",
      " - 3s - loss: 0.2986 - accuracy: 0.8979 - val_loss: 0.5746 - val_accuracy: 0.6652\n",
      "\n",
      "Epoch 00022: val_loss did not improve from 0.44612\n",
      "Epoch 23/80\n",
      " - 3s - loss: 0.2924 - accuracy: 0.8980 - val_loss: 0.6340 - val_accuracy: 0.5911\n",
      "\n",
      "Epoch 00023: val_loss did not improve from 0.44612\n",
      "Epoch 24/80\n",
      " - 2s - loss: 0.2928 - accuracy: 0.9046 - val_loss: 0.6135 - val_accuracy: 0.6049\n",
      "\n",
      "Epoch 00024: val_loss did not improve from 0.44612\n",
      "Epoch 25/80\n",
      " - 3s - loss: 0.2850 - accuracy: 0.9048 - val_loss: 0.5968 - val_accuracy: 0.5975\n",
      "\n",
      "Epoch 00025: val_loss did not improve from 0.44612\n",
      "Epoch 26/80\n",
      " - 3s - loss: 0.2827 - accuracy: 0.9020 - val_loss: 0.6599 - val_accuracy: 0.5301\n",
      "\n",
      "Epoch 00026: val_loss did not improve from 0.44612\n",
      "Epoch 27/80\n",
      " - 2s - loss: 0.2744 - accuracy: 0.9051 - val_loss: 0.6199 - val_accuracy: 0.5169\n",
      "\n",
      "Epoch 00027: val_loss did not improve from 0.44612\n",
      "Epoch 28/80\n",
      " - 3s - loss: 0.2735 - accuracy: 0.8998 - val_loss: 0.7134 - val_accuracy: 0.4299\n",
      "\n",
      "Epoch 00028: val_loss did not improve from 0.44612\n",
      "Epoch 29/80\n",
      " - 3s - loss: 0.2721 - accuracy: 0.9077 - val_loss: 0.6832 - val_accuracy: 0.4426\n",
      "\n",
      "Epoch 00029: val_loss did not improve from 0.44612\n",
      "Epoch 30/80\n",
      " - 2s - loss: 0.2725 - accuracy: 0.8977 - val_loss: 0.4585 - val_accuracy: 0.7497\n",
      "\n",
      "Epoch 00030: val_loss did not improve from 0.44612\n",
      "Epoch 31/80\n",
      " - 2s - loss: 0.2715 - accuracy: 0.9008 - val_loss: 0.3417 - val_accuracy: 0.8739\n",
      "\n",
      "Epoch 00031: val_loss improved from 0.44612 to 0.34165, saving model to ./trained_models/unet_div8_495K_20.hdf5\n",
      "Epoch 32/80\n",
      " - 3s - loss: 0.2604 - accuracy: 0.9057 - val_loss: 0.4697 - val_accuracy: 0.7436\n",
      "\n",
      "Epoch 00032: val_loss did not improve from 0.34165\n",
      "Epoch 33/80\n",
      " - 3s - loss: 0.2553 - accuracy: 0.9141 - val_loss: 0.5698 - val_accuracy: 0.5628\n",
      "\n",
      "Epoch 00033: val_loss did not improve from 0.34165\n",
      "Epoch 34/80\n",
      " - 3s - loss: 0.2517 - accuracy: 0.9146 - val_loss: 0.4743 - val_accuracy: 0.6859\n",
      "\n",
      "Epoch 00034: val_loss did not improve from 0.34165\n",
      "Epoch 35/80\n",
      " - 3s - loss: 0.2482 - accuracy: 0.9056 - val_loss: 0.8075 - val_accuracy: 0.4097\n",
      "\n",
      "Epoch 00035: val_loss did not improve from 0.34165\n",
      "Epoch 36/80\n",
      " - 2s - loss: 0.2472 - accuracy: 0.9124 - val_loss: 0.3489 - val_accuracy: 0.8501\n",
      "\n",
      "Epoch 00036: val_loss did not improve from 0.34165\n",
      "Epoch 37/80\n",
      " - 2s - loss: 0.2405 - accuracy: 0.9201 - val_loss: 0.3174 - val_accuracy: 0.8958\n",
      "\n",
      "Epoch 00037: val_loss improved from 0.34165 to 0.31744, saving model to ./trained_models/unet_div8_495K_20.hdf5\n",
      "Epoch 38/80\n",
      " - 2s - loss: 0.2454 - accuracy: 0.9164 - val_loss: 0.5216 - val_accuracy: 0.6854\n",
      "\n",
      "Epoch 00038: val_loss did not improve from 0.31744\n",
      "Epoch 39/80\n",
      " - 3s - loss: 0.2454 - accuracy: 0.9116 - val_loss: 0.4035 - val_accuracy: 0.7732\n",
      "\n",
      "Epoch 00039: val_loss did not improve from 0.31744\n",
      "Epoch 40/80\n",
      " - 2s - loss: 0.2446 - accuracy: 0.9096 - val_loss: 0.3052 - val_accuracy: 0.8663\n",
      "\n",
      "Epoch 00040: val_loss improved from 0.31744 to 0.30519, saving model to ./trained_models/unet_div8_495K_20.hdf5\n",
      "Epoch 41/80\n",
      " - 3s - loss: 0.2407 - accuracy: 0.9133 - val_loss: 0.3763 - val_accuracy: 0.8156\n",
      "\n",
      "Epoch 00041: val_loss did not improve from 0.30519\n",
      "Epoch 42/80\n",
      " - 3s - loss: 0.2271 - accuracy: 0.9225 - val_loss: 0.3358 - val_accuracy: 0.8617\n",
      "\n",
      "Epoch 00042: val_loss did not improve from 0.30519\n",
      "Epoch 43/80\n",
      " - 3s - loss: 0.2263 - accuracy: 0.9222 - val_loss: 0.4050 - val_accuracy: 0.8129\n",
      "\n",
      "Epoch 00043: val_loss did not improve from 0.30519\n",
      "Epoch 44/80\n",
      " - 3s - loss: 0.2334 - accuracy: 0.9081 - val_loss: 0.4364 - val_accuracy: 0.7788\n",
      "\n",
      "Epoch 00044: val_loss did not improve from 0.30519\n",
      "Epoch 45/80\n",
      " - 2s - loss: 0.2251 - accuracy: 0.9176 - val_loss: 0.2959 - val_accuracy: 0.8739\n",
      "\n",
      "Epoch 00045: val_loss improved from 0.30519 to 0.29588, saving model to ./trained_models/unet_div8_495K_20.hdf5\n",
      "Epoch 46/80\n",
      " - 3s - loss: 0.2120 - accuracy: 0.9258 - val_loss: 0.3331 - val_accuracy: 0.8413\n",
      "\n",
      "Epoch 00046: val_loss did not improve from 0.29588\n",
      "Epoch 47/80\n",
      " - 2s - loss: 0.2182 - accuracy: 0.9267 - val_loss: 0.2868 - val_accuracy: 0.8882\n",
      "\n",
      "Epoch 00047: val_loss improved from 0.29588 to 0.28678, saving model to ./trained_models/unet_div8_495K_20.hdf5\n",
      "Epoch 48/80\n",
      " - 3s - loss: 0.2159 - accuracy: 0.9242 - val_loss: 0.3301 - val_accuracy: 0.8590\n",
      "\n",
      "Epoch 00048: val_loss did not improve from 0.28678\n",
      "Epoch 49/80\n"
     ]
    },
    {
     "name": "stdout",
     "output_type": "stream",
     "text": [
      " - 3s - loss: 0.2269 - accuracy: 0.9136 - val_loss: 0.2834 - val_accuracy: 0.8974\n",
      "\n",
      "Epoch 00049: val_loss improved from 0.28678 to 0.28343, saving model to ./trained_models/unet_div8_495K_20.hdf5\n",
      "Epoch 50/80\n",
      " - 2s - loss: 0.2114 - accuracy: 0.9211 - val_loss: 0.3845 - val_accuracy: 0.8078\n",
      "\n",
      "Epoch 00050: val_loss did not improve from 0.28343\n",
      "Epoch 51/80\n",
      " - 3s - loss: 0.2133 - accuracy: 0.9208 - val_loss: 0.4644 - val_accuracy: 0.7666\n",
      "\n",
      "Epoch 00051: val_loss did not improve from 0.28343\n",
      "Epoch 52/80\n",
      " - 3s - loss: 0.2206 - accuracy: 0.9172 - val_loss: 0.4149 - val_accuracy: 0.7964\n",
      "\n",
      "Epoch 00052: val_loss did not improve from 0.28343\n",
      "Epoch 53/80\n",
      " - 3s - loss: 0.2147 - accuracy: 0.9203 - val_loss: 0.4395 - val_accuracy: 0.7830\n",
      "\n",
      "Epoch 00053: val_loss did not improve from 0.28343\n",
      "Epoch 54/80\n",
      " - 4s - loss: 0.2122 - accuracy: 0.9211 - val_loss: 0.6478 - val_accuracy: 0.6879\n",
      "\n",
      "Epoch 00054: val_loss did not improve from 0.28343\n",
      "Epoch 55/80\n",
      " - 3s - loss: 0.2073 - accuracy: 0.9250 - val_loss: 0.7101 - val_accuracy: 0.6646\n",
      "\n",
      "Epoch 00055: val_loss did not improve from 0.28343\n",
      "Epoch 56/80\n",
      " - 4s - loss: 0.2068 - accuracy: 0.9197 - val_loss: 0.5855 - val_accuracy: 0.7294\n",
      "\n",
      "Epoch 00056: val_loss did not improve from 0.28343\n",
      "Epoch 57/80\n",
      " - 2s - loss: 0.1956 - accuracy: 0.9311 - val_loss: 0.3467 - val_accuracy: 0.8476\n",
      "\n",
      "Epoch 00057: val_loss did not improve from 0.28343\n",
      "Epoch 58/80\n",
      " - 3s - loss: 0.1979 - accuracy: 0.9246 - val_loss: 0.3175 - val_accuracy: 0.8566\n",
      "\n",
      "Epoch 00058: val_loss did not improve from 0.28343\n",
      "Epoch 59/80\n",
      " - 2s - loss: 0.1858 - accuracy: 0.9321 - val_loss: 0.2669 - val_accuracy: 0.8884\n",
      "\n",
      "Epoch 00059: val_loss improved from 0.28343 to 0.26691, saving model to ./trained_models/unet_div8_495K_20.hdf5\n",
      "Epoch 60/80\n",
      " - 3s - loss: 0.1915 - accuracy: 0.9297 - val_loss: 0.5013 - val_accuracy: 0.7727\n",
      "\n",
      "Epoch 00060: val_loss did not improve from 0.26691\n",
      "Epoch 61/80\n",
      " - 2s - loss: 0.1770 - accuracy: 0.9385 - val_loss: 0.3651 - val_accuracy: 0.8198\n",
      "\n",
      "Epoch 00061: val_loss did not improve from 0.26691\n",
      "Epoch 62/80\n",
      " - 3s - loss: 0.1916 - accuracy: 0.9245 - val_loss: 0.3125 - val_accuracy: 0.8493\n",
      "\n",
      "Epoch 00062: val_loss did not improve from 0.26691\n",
      "Epoch 63/80\n",
      " - 3s - loss: 0.1856 - accuracy: 0.9317 - val_loss: 0.2927 - val_accuracy: 0.8705\n",
      "\n",
      "Epoch 00063: val_loss did not improve from 0.26691\n",
      "Epoch 64/80\n",
      " - 3s - loss: 0.1831 - accuracy: 0.9317 - val_loss: 0.2833 - val_accuracy: 0.8798\n",
      "\n",
      "Epoch 00064: val_loss did not improve from 0.26691\n",
      "Epoch 65/80\n",
      " - 2s - loss: 0.1730 - accuracy: 0.9379 - val_loss: 0.2959 - val_accuracy: 0.8940\n",
      "\n",
      "Epoch 00065: val_loss did not improve from 0.26691\n",
      "Epoch 66/80\n",
      " - 3s - loss: 0.1675 - accuracy: 0.9398 - val_loss: 0.2698 - val_accuracy: 0.8949\n",
      "\n",
      "Epoch 00066: val_loss did not improve from 0.26691\n",
      "Epoch 67/80\n",
      " - 2s - loss: 0.1871 - accuracy: 0.9282 - val_loss: 0.4211 - val_accuracy: 0.7783\n",
      "\n",
      "Epoch 00067: val_loss did not improve from 0.26691\n",
      "Epoch 68/80\n",
      " - 3s - loss: 0.1878 - accuracy: 0.9261 - val_loss: 0.2741 - val_accuracy: 0.8660\n",
      "\n",
      "Epoch 00068: val_loss did not improve from 0.26691\n",
      "Epoch 69/80\n",
      " - 2s - loss: 0.1811 - accuracy: 0.9323 - val_loss: 0.2482 - val_accuracy: 0.9115\n",
      "\n",
      "Epoch 00069: val_loss improved from 0.26691 to 0.24818, saving model to ./trained_models/unet_div8_495K_20.hdf5\n",
      "Epoch 70/80\n",
      " - 3s - loss: 0.1765 - accuracy: 0.9336 - val_loss: 0.3262 - val_accuracy: 0.8934\n",
      "\n",
      "Epoch 00070: val_loss did not improve from 0.24818\n",
      "Epoch 71/80\n",
      " - 4s - loss: 0.1884 - accuracy: 0.9257 - val_loss: 0.2257 - val_accuracy: 0.9097\n",
      "\n",
      "Epoch 00071: val_loss improved from 0.24818 to 0.22566, saving model to ./trained_models/unet_div8_495K_20.hdf5\n",
      "Epoch 72/80\n",
      " - 3s - loss: 0.1788 - accuracy: 0.9299 - val_loss: 0.2701 - val_accuracy: 0.8729\n",
      "\n",
      "Epoch 00072: val_loss did not improve from 0.22566\n",
      "Epoch 73/80\n",
      " - 2s - loss: 0.1764 - accuracy: 0.9316 - val_loss: 0.2693 - val_accuracy: 0.8688\n",
      "\n",
      "Epoch 00073: val_loss did not improve from 0.22566\n",
      "Epoch 74/80\n",
      " - 3s - loss: 0.1636 - accuracy: 0.9391 - val_loss: 0.2508 - val_accuracy: 0.8862\n",
      "\n",
      "Epoch 00074: val_loss did not improve from 0.22566\n",
      "Epoch 75/80\n",
      " - 3s - loss: 0.1741 - accuracy: 0.9318 - val_loss: 0.2747 - val_accuracy: 0.8973\n",
      "\n",
      "Epoch 00075: val_loss did not improve from 0.22566\n",
      "Epoch 76/80\n",
      " - 3s - loss: 0.1783 - accuracy: 0.9251 - val_loss: 0.2946 - val_accuracy: 0.8956\n",
      "\n",
      "Epoch 00076: val_loss did not improve from 0.22566\n",
      "Epoch 77/80\n",
      " - 4s - loss: 0.1626 - accuracy: 0.9381 - val_loss: 0.2905 - val_accuracy: 0.8954\n",
      "\n",
      "Epoch 00077: val_loss did not improve from 0.22566\n",
      "Epoch 78/80\n",
      " - 3s - loss: 0.1594 - accuracy: 0.9410 - val_loss: 0.2743 - val_accuracy: 0.8950\n",
      "\n",
      "Epoch 00078: val_loss did not improve from 0.22566\n",
      "Epoch 79/80\n",
      " - 2s - loss: 0.1634 - accuracy: 0.9376 - val_loss: 0.2736 - val_accuracy: 0.8862\n",
      "\n",
      "Epoch 00079: val_loss did not improve from 0.22566\n",
      "Epoch 80/80\n",
      " - 4s - loss: 0.1575 - accuracy: 0.9410 - val_loss: 0.2723 - val_accuracy: 0.8899\n"
     ]
    },
    {
     "name": "stderr",
     "output_type": "stream",
     "text": [
      "\n",
      "  0%|          | 0/20 [00:00<?, ?it/s]\u001b[A"
     ]
    },
    {
     "name": "stdout",
     "output_type": "stream",
     "text": [
      "\n",
      "Epoch 00080: val_loss did not improve from 0.22566\n"
     ]
    },
    {
     "name": "stderr",
     "output_type": "stream",
     "text": [
      "\n",
      "  5%|▌         | 1/20 [00:11<03:30, 11.06s/it]\u001b[A"
     ]
    },
    {
     "name": "stdout",
     "output_type": "stream",
     "text": [
      "\n",
      " Time needed for MC Dropout-based Uncertainty Estimation   11.053981065750122\n"
     ]
    },
    {
     "name": "stderr",
     "output_type": "stream",
     "text": [
      "\n",
      " 10%|█         | 2/20 [00:20<03:12, 10.71s/it]\u001b[A"
     ]
    },
    {
     "name": "stdout",
     "output_type": "stream",
     "text": [
      "\n",
      " Time needed for MC Dropout-based Uncertainty Estimation   9.880480289459229\n"
     ]
    },
    {
     "name": "stderr",
     "output_type": "stream",
     "text": [
      "\n",
      " 15%|█▌        | 3/20 [00:30<02:58, 10.48s/it]\u001b[A"
     ]
    },
    {
     "name": "stdout",
     "output_type": "stream",
     "text": [
      "\n",
      " Time needed for MC Dropout-based Uncertainty Estimation   9.925875663757324\n"
     ]
    },
    {
     "name": "stderr",
     "output_type": "stream",
     "text": [
      "\n",
      " 20%|██        | 4/20 [00:40<02:45, 10.32s/it]\u001b[A"
     ]
    },
    {
     "name": "stdout",
     "output_type": "stream",
     "text": [
      "\n",
      " Time needed for MC Dropout-based Uncertainty Estimation   9.92820143699646\n"
     ]
    },
    {
     "name": "stderr",
     "output_type": "stream",
     "text": [
      "\n",
      " 25%|██▌       | 5/20 [00:50<02:33, 10.22s/it]\u001b[A"
     ]
    },
    {
     "name": "stdout",
     "output_type": "stream",
     "text": [
      "\n",
      " Time needed for MC Dropout-based Uncertainty Estimation   9.974663019180298\n"
     ]
    },
    {
     "name": "stderr",
     "output_type": "stream",
     "text": [
      "\n",
      " 30%|███       | 6/20 [01:00<02:22, 10.17s/it]\u001b[A"
     ]
    },
    {
     "name": "stdout",
     "output_type": "stream",
     "text": [
      "\n",
      " Time needed for MC Dropout-based Uncertainty Estimation   10.01292109489441\n"
     ]
    },
    {
     "name": "stderr",
     "output_type": "stream",
     "text": [
      "\n",
      " 35%|███▌      | 7/20 [01:10<02:11, 10.09s/it]\u001b[A"
     ]
    },
    {
     "name": "stdout",
     "output_type": "stream",
     "text": [
      "\n",
      " Time needed for MC Dropout-based Uncertainty Estimation   9.904606342315674\n"
     ]
    },
    {
     "name": "stderr",
     "output_type": "stream",
     "text": [
      "\n",
      " 40%|████      | 8/20 [01:20<02:01, 10.10s/it]\u001b[A"
     ]
    },
    {
     "name": "stdout",
     "output_type": "stream",
     "text": [
      "\n",
      " Time needed for MC Dropout-based Uncertainty Estimation   10.087442398071289\n"
     ]
    },
    {
     "name": "stderr",
     "output_type": "stream",
     "text": [
      "\n",
      " 45%|████▌     | 9/20 [01:31<01:51, 10.10s/it]\u001b[A"
     ]
    },
    {
     "name": "stdout",
     "output_type": "stream",
     "text": [
      "\n",
      " Time needed for MC Dropout-based Uncertainty Estimation   10.086296319961548\n"
     ]
    },
    {
     "name": "stderr",
     "output_type": "stream",
     "text": [
      "\n",
      " 50%|█████     | 10/20 [01:41<01:40, 10.08s/it]\u001b[A"
     ]
    },
    {
     "name": "stdout",
     "output_type": "stream",
     "text": [
      "\n",
      " Time needed for MC Dropout-based Uncertainty Estimation   10.007415056228638\n"
     ]
    },
    {
     "name": "stderr",
     "output_type": "stream",
     "text": [
      "\n",
      " 55%|█████▌    | 11/20 [01:51<01:30, 10.07s/it]\u001b[A"
     ]
    },
    {
     "name": "stdout",
     "output_type": "stream",
     "text": [
      "\n",
      " Time needed for MC Dropout-based Uncertainty Estimation   10.028024196624756\n"
     ]
    },
    {
     "name": "stderr",
     "output_type": "stream",
     "text": [
      "\n",
      " 60%|██████    | 12/20 [02:01<01:20, 10.05s/it]\u001b[A"
     ]
    },
    {
     "name": "stdout",
     "output_type": "stream",
     "text": [
      "\n",
      " Time needed for MC Dropout-based Uncertainty Estimation   9.998373985290527\n"
     ]
    },
    {
     "name": "stderr",
     "output_type": "stream",
     "text": [
      "\n",
      " 65%|██████▌   | 13/20 [02:11<01:10, 10.05s/it]\u001b[A"
     ]
    },
    {
     "name": "stdout",
     "output_type": "stream",
     "text": [
      "\n",
      " Time needed for MC Dropout-based Uncertainty Estimation   10.024393558502197\n"
     ]
    },
    {
     "name": "stderr",
     "output_type": "stream",
     "text": [
      "\n",
      " 70%|███████   | 14/20 [02:21<01:00, 10.04s/it]\u001b[A"
     ]
    },
    {
     "name": "stdout",
     "output_type": "stream",
     "text": [
      "\n",
      " Time needed for MC Dropout-based Uncertainty Estimation   9.979089260101318\n"
     ]
    },
    {
     "name": "stderr",
     "output_type": "stream",
     "text": [
      "\n",
      " 75%|███████▌  | 15/20 [02:31<00:50, 10.03s/it]\u001b[A"
     ]
    },
    {
     "name": "stdout",
     "output_type": "stream",
     "text": [
      "\n",
      " Time needed for MC Dropout-based Uncertainty Estimation   10.007296800613403\n"
     ]
    },
    {
     "name": "stderr",
     "output_type": "stream",
     "text": [
      "\n",
      " 80%|████████  | 16/20 [02:41<00:40, 10.03s/it]\u001b[A"
     ]
    },
    {
     "name": "stdout",
     "output_type": "stream",
     "text": [
      "\n",
      " Time needed for MC Dropout-based Uncertainty Estimation   10.000243186950684\n"
     ]
    },
    {
     "name": "stderr",
     "output_type": "stream",
     "text": [
      "\n",
      " 85%|████████▌ | 17/20 [02:51<00:30, 10.02s/it]\u001b[A"
     ]
    },
    {
     "name": "stdout",
     "output_type": "stream",
     "text": [
      "\n",
      " Time needed for MC Dropout-based Uncertainty Estimation   9.987820148468018\n"
     ]
    },
    {
     "name": "stderr",
     "output_type": "stream",
     "text": [
      "\n",
      " 90%|█████████ | 18/20 [03:01<00:20, 10.00s/it]\u001b[A"
     ]
    },
    {
     "name": "stdout",
     "output_type": "stream",
     "text": [
      "\n",
      " Time needed for MC Dropout-based Uncertainty Estimation   9.940394639968872\n"
     ]
    },
    {
     "name": "stderr",
     "output_type": "stream",
     "text": [
      "\n",
      " 95%|█████████▌| 19/20 [03:11<00:09,  9.98s/it]\u001b[A"
     ]
    },
    {
     "name": "stdout",
     "output_type": "stream",
     "text": [
      "\n",
      " Time needed for MC Dropout-based Uncertainty Estimation   9.888221263885498\n"
     ]
    },
    {
     "name": "stderr",
     "output_type": "stream",
     "text": [
      "\n",
      "100%|██████████| 20/20 [03:21<00:00,  9.97s/it]\u001b[A\n",
      "  0%|          | 0/10 [00:00<?, ?it/s]\u001b[A"
     ]
    },
    {
     "name": "stdout",
     "output_type": "stream",
     "text": [
      "\n",
      " Time needed for MC Dropout-based Uncertainty Estimation   9.939603328704834\n"
     ]
    },
    {
     "name": "stderr",
     "output_type": "stream",
     "text": [
      "\n",
      " 10%|█         | 1/10 [00:04<00:44,  4.96s/it]\u001b[A"
     ]
    },
    {
     "name": "stdout",
     "output_type": "stream",
     "text": [
      "\n",
      " Time needed for MC Dropout-based Uncertainty Estimation   4.955434083938599\n"
     ]
    },
    {
     "name": "stderr",
     "output_type": "stream",
     "text": [
      "\n",
      " 20%|██        | 2/10 [00:09<00:39,  4.97s/it]\u001b[A"
     ]
    },
    {
     "name": "stdout",
     "output_type": "stream",
     "text": [
      "\n",
      " Time needed for MC Dropout-based Uncertainty Estimation   4.980277061462402\n"
     ]
    },
    {
     "name": "stderr",
     "output_type": "stream",
     "text": [
      "\n",
      " 30%|███       | 3/10 [00:14<00:34,  4.97s/it]\u001b[A"
     ]
    },
    {
     "name": "stdout",
     "output_type": "stream",
     "text": [
      "\n",
      " Time needed for MC Dropout-based Uncertainty Estimation   4.953161954879761\n"
     ]
    },
    {
     "name": "stderr",
     "output_type": "stream",
     "text": [
      "\n",
      " 40%|████      | 4/10 [00:19<00:29,  4.98s/it]\u001b[A"
     ]
    },
    {
     "name": "stdout",
     "output_type": "stream",
     "text": [
      "\n",
      " Time needed for MC Dropout-based Uncertainty Estimation   4.988066911697388\n"
     ]
    },
    {
     "name": "stderr",
     "output_type": "stream",
     "text": [
      "\n",
      " 50%|█████     | 5/10 [00:24<00:24,  4.97s/it]\u001b[A"
     ]
    },
    {
     "name": "stdout",
     "output_type": "stream",
     "text": [
      "\n",
      " Time needed for MC Dropout-based Uncertainty Estimation   4.930271148681641\n"
     ]
    },
    {
     "name": "stderr",
     "output_type": "stream",
     "text": [
      "\n",
      " 60%|██████    | 6/10 [00:29<00:19,  4.98s/it]\u001b[A"
     ]
    },
    {
     "name": "stdout",
     "output_type": "stream",
     "text": [
      "\n",
      " Time needed for MC Dropout-based Uncertainty Estimation   5.0119194984436035\n"
     ]
    },
    {
     "name": "stderr",
     "output_type": "stream",
     "text": [
      "\n",
      " 70%|███████   | 7/10 [00:34<00:14,  4.99s/it]\u001b[A"
     ]
    },
    {
     "name": "stdout",
     "output_type": "stream",
     "text": [
      "\n",
      " Time needed for MC Dropout-based Uncertainty Estimation   4.97831392288208\n"
     ]
    },
    {
     "name": "stderr",
     "output_type": "stream",
     "text": [
      "\n",
      " 80%|████████  | 8/10 [00:39<00:09,  4.98s/it]\u001b[A"
     ]
    },
    {
     "name": "stdout",
     "output_type": "stream",
     "text": [
      "\n",
      " Time needed for MC Dropout-based Uncertainty Estimation   4.960379600524902\n"
     ]
    },
    {
     "name": "stderr",
     "output_type": "stream",
     "text": [
      "\n",
      " 90%|█████████ | 9/10 [00:44<00:05,  5.00s/it]\u001b[A"
     ]
    },
    {
     "name": "stdout",
     "output_type": "stream",
     "text": [
      "\n",
      " Time needed for MC Dropout-based Uncertainty Estimation   5.038108587265015\n"
     ]
    },
    {
     "name": "stderr",
     "output_type": "stream",
     "text": [
      "\n",
      "100%|██████████| 10/10 [00:49<00:00,  5.01s/it]\u001b[A"
     ]
    },
    {
     "name": "stdout",
     "output_type": "stream",
     "text": [
      "\n",
      " Time needed for MC Dropout-based Uncertainty Estimation   5.012481689453125\n",
      "Model: \"model_2\"\n",
      "_________________________________________________________________\n",
      "Layer (type)                 Output Shape              Param #   \n",
      "=================================================================\n",
      "input (InputLayer)           (None, 400, 400, 30)      0         \n",
      "_________________________________________________________________\n",
      "conv2d_11 (Conv2D)           (None, 400, 400, 32)      8672      \n",
      "_________________________________________________________________\n",
      "batch_normalization_19 (Batc (None, 400, 400, 32)      128       \n",
      "_________________________________________________________________\n",
      "activation_19 (Activation)   (None, 400, 400, 32)      0         \n",
      "_________________________________________________________________\n",
      "conv2d_12 (Conv2D)           (None, 400, 400, 32)      9248      \n",
      "_________________________________________________________________\n",
      "batch_normalization_20 (Batc (None, 400, 400, 32)      128       \n",
      "_________________________________________________________________\n",
      "activation_20 (Activation)   (None, 400, 400, 32)      0         \n",
      "_________________________________________________________________\n",
      "max_pooling2d_5 (MaxPooling2 (None, 200, 200, 32)      0         \n",
      "_________________________________________________________________\n",
      "conv2d_13 (Conv2D)           (None, 200, 200, 64)      18496     \n",
      "_________________________________________________________________\n",
      "batch_normalization_21 (Batc (None, 200, 200, 64)      256       \n",
      "_________________________________________________________________\n",
      "activation_21 (Activation)   (None, 200, 200, 64)      0         \n",
      "_________________________________________________________________\n",
      "conv2d_14 (Conv2D)           (None, 200, 200, 64)      36928     \n",
      "_________________________________________________________________\n",
      "batch_normalization_22 (Batc (None, 200, 200, 64)      256       \n",
      "_________________________________________________________________\n",
      "activation_22 (Activation)   (None, 200, 200, 64)      0         \n",
      "_________________________________________________________________\n",
      "max_pooling2d_6 (MaxPooling2 (None, 100, 100, 64)      0         \n",
      "_________________________________________________________________\n",
      "conv2d_15 (Conv2D)           (None, 100, 100, 128)     73856     \n",
      "_________________________________________________________________\n",
      "batch_normalization_23 (Batc (None, 100, 100, 128)     512       \n",
      "_________________________________________________________________\n",
      "activation_23 (Activation)   (None, 100, 100, 128)     0         \n",
      "_________________________________________________________________\n",
      "conv2d_16 (Conv2D)           (None, 100, 100, 128)     147584    \n",
      "_________________________________________________________________\n",
      "batch_normalization_24 (Batc (None, 100, 100, 128)     512       \n",
      "_________________________________________________________________\n",
      "activation_24 (Activation)   (None, 100, 100, 128)     0         \n",
      "_________________________________________________________________\n",
      "max_pooling2d_7 (MaxPooling2 (None, 50, 50, 128)       0         \n",
      "_________________________________________________________________\n",
      "conv2d_17 (Conv2D)           (None, 50, 50, 256)       295168    \n",
      "_________________________________________________________________\n",
      "batch_normalization_25 (Batc (None, 50, 50, 256)       1024      \n",
      "_________________________________________________________________\n",
      "activation_25 (Activation)   (None, 50, 50, 256)       0         \n",
      "_________________________________________________________________\n",
      "conv2d_18 (Conv2D)           (None, 50, 50, 256)       590080    \n",
      "_________________________________________________________________\n",
      "batch_normalization_26 (Batc (None, 50, 50, 256)       1024      \n",
      "_________________________________________________________________\n",
      "activation_26 (Activation)   (None, 50, 50, 256)       0         \n",
      "_________________________________________________________________\n",
      "global_average_pooling2d_1 ( (None, 256)               0         \n",
      "_________________________________________________________________\n",
      "dense_2 (Dense)              (None, 1)                 257       \n",
      "_________________________________________________________________\n",
      "output (Activation)          (None, 1)                 0         \n",
      "=================================================================\n",
      "Total params: 1,184,129\n",
      "Trainable params: 1,182,209\n",
      "Non-trainable params: 1,920\n",
      "_________________________________________________________________\n",
      "(20, 1)\n",
      "Train on 20 samples, validate on 10 samples\n",
      "Epoch 1/60\n",
      " - 2s - loss: 0.1065 - val_loss: 0.0700\n",
      "\n",
      "Epoch 00001: val_loss improved from inf to 0.07005, saving model to ./trained_models/unet_div8_495K_20_DiceNet.hdf5\n",
      "Epoch 2/60\n",
      " - 1s - loss: 0.0314 - val_loss: 0.0714\n",
      "\n",
      "Epoch 00002: val_loss did not improve from 0.07005\n",
      "Epoch 3/60\n",
      " - 1s - loss: 0.0386 - val_loss: 0.0816\n",
      "\n",
      "Epoch 00003: val_loss did not improve from 0.07005\n",
      "Epoch 4/60\n",
      " - 1s - loss: 0.0251 - val_loss: 0.0971\n",
      "\n",
      "Epoch 00004: val_loss did not improve from 0.07005\n",
      "Epoch 5/60\n",
      " - 1s - loss: 0.0253 - val_loss: 0.1142\n",
      "\n",
      "Epoch 00005: val_loss did not improve from 0.07005\n",
      "Epoch 6/60\n",
      " - 1s - loss: 0.0204 - val_loss: 0.1268\n",
      "\n",
      "Epoch 00006: val_loss did not improve from 0.07005\n",
      "Epoch 7/60\n",
      " - 1s - loss: 0.0170 - val_loss: 0.1328\n",
      "\n",
      "Epoch 00007: val_loss did not improve from 0.07005\n",
      "Epoch 8/60\n",
      " - 1s - loss: 0.0159 - val_loss: 0.1358\n",
      "\n",
      "Epoch 00008: val_loss did not improve from 0.07005\n",
      "Epoch 9/60\n",
      " - 1s - loss: 0.0137 - val_loss: 0.1360\n",
      "\n",
      "Epoch 00009: val_loss did not improve from 0.07005\n",
      "Epoch 10/60\n",
      " - 1s - loss: 0.0132 - val_loss: 0.1311\n",
      "\n",
      "Epoch 00010: val_loss did not improve from 0.07005\n",
      "Epoch 11/60\n",
      " - 1s - loss: 0.0118 - val_loss: 0.1220\n",
      "\n",
      "Epoch 00011: val_loss did not improve from 0.07005\n",
      "Epoch 12/60\n",
      " - 1s - loss: 0.0112 - val_loss: 0.1118\n",
      "\n",
      "Epoch 00012: val_loss did not improve from 0.07005\n",
      "Epoch 13/60\n",
      " - 1s - loss: 0.0107 - val_loss: 0.1016\n",
      "\n",
      "Epoch 00013: val_loss did not improve from 0.07005\n",
      "False\n",
      "False\n",
      "START EVALUATION......:\n",
      "(10, 400, 400, 28)\n",
      "Loading model: ./trained_models/unet_div8_495K_20.hdf5\n"
     ]
    },
    {
     "name": "stderr",
     "output_type": "stream",
     "text": [
      "\n",
      "  0%|          | 0/10 [00:00<?, ?it/s]\u001b[A\n",
      " 10%|█         | 1/10 [00:02<00:21,  2.43s/it]\u001b[A"
     ]
    },
    {
     "name": "stdout",
     "output_type": "stream",
     "text": [
      "\n",
      " Time needed for MC Dropout-based Uncertainty Estimation   2.4230241775512695\n"
     ]
    },
    {
     "name": "stderr",
     "output_type": "stream",
     "text": [
      "\n",
      " 20%|██        | 2/10 [00:03<00:16,  2.09s/it]\u001b[A"
     ]
    },
    {
     "name": "stdout",
     "output_type": "stream",
     "text": [
      "\n",
      " Time needed for MC Dropout-based Uncertainty Estimation   1.2977893352508545\n"
     ]
    },
    {
     "name": "stderr",
     "output_type": "stream",
     "text": [
      "\n",
      " 30%|███       | 3/10 [00:05<00:13,  1.89s/it]\u001b[A"
     ]
    },
    {
     "name": "stdout",
     "output_type": "stream",
     "text": [
      "\n",
      " Time needed for MC Dropout-based Uncertainty Estimation   1.4056146144866943\n"
     ]
    },
    {
     "name": "stderr",
     "output_type": "stream",
     "text": [
      "\n",
      " 40%|████      | 4/10 [00:06<00:10,  1.71s/it]\u001b[A"
     ]
    },
    {
     "name": "stdout",
     "output_type": "stream",
     "text": [
      "\n",
      " Time needed for MC Dropout-based Uncertainty Estimation   1.276672601699829\n"
     ]
    },
    {
     "name": "stderr",
     "output_type": "stream",
     "text": [
      "\n",
      " 50%|█████     | 5/10 [00:07<00:08,  1.61s/it]\u001b[A"
     ]
    },
    {
     "name": "stdout",
     "output_type": "stream",
     "text": [
      "\n",
      " Time needed for MC Dropout-based Uncertainty Estimation   1.3826210498809814\n"
     ]
    },
    {
     "name": "stderr",
     "output_type": "stream",
     "text": [
      "\n",
      " 60%|██████    | 6/10 [00:09<00:06,  1.52s/it]\u001b[A"
     ]
    },
    {
     "name": "stdout",
     "output_type": "stream",
     "text": [
      "\n",
      " Time needed for MC Dropout-based Uncertainty Estimation   1.2984354496002197\n"
     ]
    },
    {
     "name": "stderr",
     "output_type": "stream",
     "text": [
      "\n",
      " 70%|███████   | 7/10 [00:10<00:04,  1.49s/it]\u001b[A"
     ]
    },
    {
     "name": "stdout",
     "output_type": "stream",
     "text": [
      "\n",
      " Time needed for MC Dropout-based Uncertainty Estimation   1.3901128768920898\n"
     ]
    },
    {
     "name": "stderr",
     "output_type": "stream",
     "text": [
      "\n",
      " 80%|████████  | 8/10 [00:11<00:02,  1.43s/it]\u001b[A"
     ]
    },
    {
     "name": "stdout",
     "output_type": "stream",
     "text": [
      "\n",
      " Time needed for MC Dropout-based Uncertainty Estimation   1.2891020774841309\n"
     ]
    },
    {
     "name": "stderr",
     "output_type": "stream",
     "text": [
      "\n",
      " 90%|█████████ | 9/10 [00:13<00:01,  1.42s/it]\u001b[A"
     ]
    },
    {
     "name": "stdout",
     "output_type": "stream",
     "text": [
      "\n",
      " Time needed for MC Dropout-based Uncertainty Estimation   1.4002244472503662\n"
     ]
    },
    {
     "name": "stderr",
     "output_type": "stream",
     "text": [
      "\n",
      "100%|██████████| 10/10 [00:14<00:00,  1.39s/it]\u001b[A"
     ]
    },
    {
     "name": "stdout",
     "output_type": "stream",
     "text": [
      "\n",
      " Time needed for MC Dropout-based Uncertainty Estimation   1.2932000160217285\n",
      "Loading model: ./trained_models/unet_div8_495K_20_DiceNet.hdf5\n",
      "START EVALUATION......:\n",
      "(60, 400, 400, 28)\n",
      "Loading model: ./trained_models/unet_div8_495K_20.hdf5\n"
     ]
    },
    {
     "name": "stderr",
     "output_type": "stream",
     "text": [
      "\n",
      "  0%|          | 0/60 [00:00<?, ?it/s]\u001b[A\n",
      "  2%|▏         | 1/60 [00:09<09:34,  9.74s/it]\u001b[A"
     ]
    },
    {
     "name": "stdout",
     "output_type": "stream",
     "text": [
      "\n",
      " Time needed for MC Dropout-based Uncertainty Estimation   9.71083927154541\n"
     ]
    },
    {
     "name": "stderr",
     "output_type": "stream",
     "text": [
      "\n",
      "  3%|▎         | 2/60 [00:18<09:07,  9.43s/it]\u001b[A"
     ]
    },
    {
     "name": "stdout",
     "output_type": "stream",
     "text": [
      "\n",
      " Time needed for MC Dropout-based Uncertainty Estimation   8.692386388778687\n"
     ]
    },
    {
     "name": "stderr",
     "output_type": "stream",
     "text": [
      "\n",
      "  5%|▌         | 3/60 [00:27<08:45,  9.22s/it]\u001b[A"
     ]
    },
    {
     "name": "stdout",
     "output_type": "stream",
     "text": [
      "\n",
      " Time needed for MC Dropout-based Uncertainty Estimation   8.692960500717163\n"
     ]
    },
    {
     "name": "stderr",
     "output_type": "stream",
     "text": [
      "\n",
      "  7%|▋         | 4/60 [00:35<08:17,  8.88s/it]\u001b[A"
     ]
    },
    {
     "name": "stdout",
     "output_type": "stream",
     "text": [
      "\n",
      " Time needed for MC Dropout-based Uncertainty Estimation   8.064846515655518\n"
     ]
    },
    {
     "name": "stderr",
     "output_type": "stream",
     "text": [
      "\n",
      "  8%|▊         | 5/60 [00:43<08:05,  8.83s/it]\u001b[A"
     ]
    },
    {
     "name": "stdout",
     "output_type": "stream",
     "text": [
      "\n",
      " Time needed for MC Dropout-based Uncertainty Estimation   8.66556453704834\n"
     ]
    },
    {
     "name": "stderr",
     "output_type": "stream",
     "text": [
      "\n",
      " 10%|█         | 6/60 [00:52<07:52,  8.75s/it]\u001b[A"
     ]
    },
    {
     "name": "stdout",
     "output_type": "stream",
     "text": [
      "\n",
      " Time needed for MC Dropout-based Uncertainty Estimation   8.53698444366455\n"
     ]
    },
    {
     "name": "stderr",
     "output_type": "stream",
     "text": [
      "\n",
      " 12%|█▏        | 7/60 [01:00<07:33,  8.55s/it]\u001b[A"
     ]
    },
    {
     "name": "stdout",
     "output_type": "stream",
     "text": [
      "\n",
      " Time needed for MC Dropout-based Uncertainty Estimation   8.061529636383057\n"
     ]
    },
    {
     "name": "stderr",
     "output_type": "stream",
     "text": [
      "\n",
      " 13%|█▎        | 8/60 [01:09<07:27,  8.61s/it]\u001b[A"
     ]
    },
    {
     "name": "stdout",
     "output_type": "stream",
     "text": [
      "\n",
      " Time needed for MC Dropout-based Uncertainty Estimation   8.719171047210693\n"
     ]
    },
    {
     "name": "stderr",
     "output_type": "stream",
     "text": [
      "\n",
      " 15%|█▌        | 9/60 [01:17<07:17,  8.58s/it]\u001b[A"
     ]
    },
    {
     "name": "stdout",
     "output_type": "stream",
     "text": [
      "\n",
      " Time needed for MC Dropout-based Uncertainty Estimation   8.465131998062134\n"
     ]
    },
    {
     "name": "stderr",
     "output_type": "stream",
     "text": [
      "\n",
      " 17%|█▋        | 10/60 [01:25<07:01,  8.43s/it]\u001b[A"
     ]
    },
    {
     "name": "stdout",
     "output_type": "stream",
     "text": [
      "\n",
      " Time needed for MC Dropout-based Uncertainty Estimation   8.045784950256348\n"
     ]
    },
    {
     "name": "stderr",
     "output_type": "stream",
     "text": [
      "\n",
      " 18%|█▊        | 11/60 [01:34<06:57,  8.52s/it]\u001b[A"
     ]
    },
    {
     "name": "stdout",
     "output_type": "stream",
     "text": [
      "\n",
      " Time needed for MC Dropout-based Uncertainty Estimation   8.685894250869751\n"
     ]
    },
    {
     "name": "stderr",
     "output_type": "stream",
     "text": [
      "\n",
      " 20%|██        | 12/60 [01:43<06:49,  8.53s/it]\u001b[A"
     ]
    },
    {
     "name": "stdout",
     "output_type": "stream",
     "text": [
      "\n",
      " Time needed for MC Dropout-based Uncertainty Estimation   8.525233745574951\n"
     ]
    },
    {
     "name": "stderr",
     "output_type": "stream",
     "text": [
      "\n",
      " 22%|██▏       | 13/60 [01:51<06:34,  8.39s/it]\u001b[A"
     ]
    },
    {
     "name": "stdout",
     "output_type": "stream",
     "text": [
      "\n",
      " Time needed for MC Dropout-based Uncertainty Estimation   8.046466588973999\n"
     ]
    },
    {
     "name": "stderr",
     "output_type": "stream",
     "text": [
      "\n",
      " 23%|██▎       | 14/60 [01:59<06:29,  8.47s/it]\u001b[A"
     ]
    },
    {
     "name": "stdout",
     "output_type": "stream",
     "text": [
      "\n",
      " Time needed for MC Dropout-based Uncertainty Estimation   8.618407011032104\n"
     ]
    },
    {
     "name": "stderr",
     "output_type": "stream",
     "text": [
      "\n",
      " 25%|██▌       | 15/60 [02:08<06:21,  8.48s/it]\u001b[A"
     ]
    },
    {
     "name": "stdout",
     "output_type": "stream",
     "text": [
      "\n",
      " Time needed for MC Dropout-based Uncertainty Estimation   8.452407598495483\n"
     ]
    },
    {
     "name": "stderr",
     "output_type": "stream",
     "text": [
      "\n",
      " 27%|██▋       | 16/60 [02:16<06:07,  8.34s/it]\u001b[A"
     ]
    },
    {
     "name": "stdout",
     "output_type": "stream",
     "text": [
      "\n",
      " Time needed for MC Dropout-based Uncertainty Estimation   7.999062776565552\n"
     ]
    },
    {
     "name": "stderr",
     "output_type": "stream",
     "text": [
      "\n",
      " 28%|██▊       | 17/60 [02:25<06:03,  8.45s/it]\u001b[A"
     ]
    },
    {
     "name": "stdout",
     "output_type": "stream",
     "text": [
      "\n",
      " Time needed for MC Dropout-based Uncertainty Estimation   8.675489664077759\n"
     ]
    },
    {
     "name": "stderr",
     "output_type": "stream",
     "text": [
      "\n",
      " 30%|███       | 18/60 [02:33<05:55,  8.47s/it]\u001b[A"
     ]
    },
    {
     "name": "stdout",
     "output_type": "stream",
     "text": [
      "\n",
      " Time needed for MC Dropout-based Uncertainty Estimation   8.467132568359375\n"
     ]
    },
    {
     "name": "stderr",
     "output_type": "stream",
     "text": [
      "\n",
      " 32%|███▏      | 19/60 [02:41<05:42,  8.36s/it]\u001b[A"
     ]
    },
    {
     "name": "stdout",
     "output_type": "stream",
     "text": [
      "\n",
      " Time needed for MC Dropout-based Uncertainty Estimation   8.09034776687622\n"
     ]
    },
    {
     "name": "stderr",
     "output_type": "stream",
     "text": [
      "\n",
      " 33%|███▎      | 20/60 [02:50<05:39,  8.48s/it]\u001b[A"
     ]
    },
    {
     "name": "stdout",
     "output_type": "stream",
     "text": [
      "\n",
      " Time needed for MC Dropout-based Uncertainty Estimation   8.720417737960815\n"
     ]
    },
    {
     "name": "stderr",
     "output_type": "stream",
     "text": [
      "\n",
      " 35%|███▌      | 21/60 [02:59<05:31,  8.50s/it]\u001b[A"
     ]
    },
    {
     "name": "stdout",
     "output_type": "stream",
     "text": [
      "\n",
      " Time needed for MC Dropout-based Uncertainty Estimation   8.518285751342773\n"
     ]
    },
    {
     "name": "stderr",
     "output_type": "stream",
     "text": [
      "\n",
      " 37%|███▋      | 22/60 [03:07<05:18,  8.39s/it]\u001b[A"
     ]
    },
    {
     "name": "stdout",
     "output_type": "stream",
     "text": [
      "\n",
      " Time needed for MC Dropout-based Uncertainty Estimation   8.090897798538208\n"
     ]
    },
    {
     "name": "stderr",
     "output_type": "stream",
     "text": [
      "\n",
      " 38%|███▊      | 23/60 [03:15<05:13,  8.49s/it]\u001b[A"
     ]
    },
    {
     "name": "stdout",
     "output_type": "stream",
     "text": [
      "\n",
      " Time needed for MC Dropout-based Uncertainty Estimation   8.677451848983765\n"
     ]
    },
    {
     "name": "stderr",
     "output_type": "stream",
     "text": [
      "\n",
      " 40%|████      | 24/60 [03:24<05:06,  8.52s/it]\u001b[A"
     ]
    },
    {
     "name": "stdout",
     "output_type": "stream",
     "text": [
      "\n",
      " Time needed for MC Dropout-based Uncertainty Estimation   8.56378698348999\n"
     ]
    },
    {
     "name": "stderr",
     "output_type": "stream",
     "text": [
      "\n",
      " 42%|████▏     | 25/60 [03:32<04:54,  8.41s/it]\u001b[A"
     ]
    },
    {
     "name": "stdout",
     "output_type": "stream",
     "text": [
      "\n",
      " Time needed for MC Dropout-based Uncertainty Estimation   8.131054162979126\n"
     ]
    },
    {
     "name": "stderr",
     "output_type": "stream",
     "text": [
      "\n",
      " 43%|████▎     | 26/60 [03:41<04:49,  8.51s/it]\u001b[A"
     ]
    },
    {
     "name": "stdout",
     "output_type": "stream",
     "text": [
      "\n",
      " Time needed for MC Dropout-based Uncertainty Estimation   8.691059112548828\n"
     ]
    },
    {
     "name": "stderr",
     "output_type": "stream",
     "text": [
      "\n",
      " 45%|████▌     | 27/60 [03:50<04:41,  8.54s/it]\u001b[A"
     ]
    },
    {
     "name": "stdout",
     "output_type": "stream",
     "text": [
      "\n",
      " Time needed for MC Dropout-based Uncertainty Estimation   8.588232278823853\n"
     ]
    },
    {
     "name": "stderr",
     "output_type": "stream",
     "text": [
      "\n",
      " 47%|████▋     | 28/60 [03:58<04:29,  8.43s/it]\u001b[A"
     ]
    },
    {
     "name": "stdout",
     "output_type": "stream",
     "text": [
      "\n",
      " Time needed for MC Dropout-based Uncertainty Estimation   8.12361192703247\n"
     ]
    },
    {
     "name": "stderr",
     "output_type": "stream",
     "text": [
      "\n",
      " 48%|████▊     | 29/60 [04:06<04:22,  8.48s/it]\u001b[A"
     ]
    },
    {
     "name": "stdout",
     "output_type": "stream",
     "text": [
      "\n",
      " Time needed for MC Dropout-based Uncertainty Estimation   8.571380376815796\n"
     ]
    },
    {
     "name": "stderr",
     "output_type": "stream",
     "text": [
      "\n",
      " 50%|█████     | 30/60 [04:15<04:15,  8.52s/it]\u001b[A"
     ]
    },
    {
     "name": "stdout",
     "output_type": "stream",
     "text": [
      "\n",
      " Time needed for MC Dropout-based Uncertainty Estimation   8.580636501312256\n"
     ]
    },
    {
     "name": "stderr",
     "output_type": "stream",
     "text": [
      "\n",
      " 52%|█████▏    | 31/60 [04:23<04:03,  8.41s/it]\u001b[A"
     ]
    },
    {
     "name": "stdout",
     "output_type": "stream",
     "text": [
      "\n",
      " Time needed for MC Dropout-based Uncertainty Estimation   8.125509023666382\n"
     ]
    },
    {
     "name": "stderr",
     "output_type": "stream",
     "text": [
      "\n",
      " 53%|█████▎    | 32/60 [04:32<03:57,  8.48s/it]\u001b[A"
     ]
    },
    {
     "name": "stdout",
     "output_type": "stream",
     "text": [
      "\n",
      " Time needed for MC Dropout-based Uncertainty Estimation   8.599924325942993\n"
     ]
    },
    {
     "name": "stderr",
     "output_type": "stream",
     "text": [
      "\n",
      " 55%|█████▌    | 33/60 [04:40<03:48,  8.47s/it]\u001b[A"
     ]
    },
    {
     "name": "stdout",
     "output_type": "stream",
     "text": [
      "\n",
      " Time needed for MC Dropout-based Uncertainty Estimation   8.432851314544678\n"
     ]
    },
    {
     "name": "stderr",
     "output_type": "stream",
     "text": [
      "\n",
      " 57%|█████▋    | 34/60 [04:48<03:37,  8.36s/it]\u001b[A"
     ]
    },
    {
     "name": "stdout",
     "output_type": "stream",
     "text": [
      "\n",
      " Time needed for MC Dropout-based Uncertainty Estimation   8.048199653625488\n"
     ]
    },
    {
     "name": "stderr",
     "output_type": "stream",
     "text": [
      "\n",
      " 58%|█████▊    | 35/60 [04:57<03:31,  8.47s/it]\u001b[A"
     ]
    },
    {
     "name": "stdout",
     "output_type": "stream",
     "text": [
      "\n",
      " Time needed for MC Dropout-based Uncertainty Estimation   8.684731006622314\n"
     ]
    },
    {
     "name": "stderr",
     "output_type": "stream",
     "text": [
      "\n",
      " 60%|██████    | 36/60 [05:06<03:24,  8.51s/it]\u001b[A"
     ]
    },
    {
     "name": "stdout",
     "output_type": "stream",
     "text": [
      "\n",
      " Time needed for MC Dropout-based Uncertainty Estimation   8.579816818237305\n"
     ]
    },
    {
     "name": "stderr",
     "output_type": "stream",
     "text": [
      "\n",
      " 62%|██████▏   | 37/60 [05:14<03:12,  8.37s/it]\u001b[A"
     ]
    },
    {
     "name": "stdout",
     "output_type": "stream",
     "text": [
      "\n",
      " Time needed for MC Dropout-based Uncertainty Estimation   8.02236008644104\n"
     ]
    },
    {
     "name": "stderr",
     "output_type": "stream",
     "text": [
      "\n",
      " 63%|██████▎   | 38/60 [05:22<03:05,  8.45s/it]\u001b[A"
     ]
    },
    {
     "name": "stdout",
     "output_type": "stream",
     "text": [
      "\n",
      " Time needed for MC Dropout-based Uncertainty Estimation   8.583571195602417\n"
     ]
    },
    {
     "name": "stderr",
     "output_type": "stream",
     "text": [
      "\n",
      " 65%|██████▌   | 39/60 [05:31<02:57,  8.46s/it]\u001b[A"
     ]
    },
    {
     "name": "stdout",
     "output_type": "stream",
     "text": [
      "\n",
      " Time needed for MC Dropout-based Uncertainty Estimation   8.466006517410278\n"
     ]
    },
    {
     "name": "stderr",
     "output_type": "stream",
     "text": [
      "\n",
      " 67%|██████▋   | 40/60 [05:39<02:46,  8.33s/it]\u001b[A"
     ]
    },
    {
     "name": "stdout",
     "output_type": "stream",
     "text": [
      "\n",
      " Time needed for MC Dropout-based Uncertainty Estimation   7.995469093322754\n"
     ]
    },
    {
     "name": "stderr",
     "output_type": "stream",
     "text": [
      "\n",
      " 68%|██████▊   | 41/60 [05:47<02:40,  8.43s/it]\u001b[A"
     ]
    },
    {
     "name": "stdout",
     "output_type": "stream",
     "text": [
      "\n",
      " Time needed for MC Dropout-based Uncertainty Estimation   8.621913433074951\n"
     ]
    },
    {
     "name": "stderr",
     "output_type": "stream",
     "text": [
      "\n",
      " 70%|███████   | 42/60 [05:56<02:32,  8.46s/it]\u001b[A"
     ]
    },
    {
     "name": "stdout",
     "output_type": "stream",
     "text": [
      "\n",
      " Time needed for MC Dropout-based Uncertainty Estimation   8.504037857055664\n"
     ]
    },
    {
     "name": "stderr",
     "output_type": "stream",
     "text": [
      "\n",
      " 72%|███████▏  | 43/60 [06:04<02:21,  8.34s/it]\u001b[A"
     ]
    },
    {
     "name": "stdout",
     "output_type": "stream",
     "text": [
      "\n",
      " Time needed for MC Dropout-based Uncertainty Estimation   8.021443843841553\n"
     ]
    },
    {
     "name": "stderr",
     "output_type": "stream",
     "text": [
      "\n",
      " 73%|███████▎  | 44/60 [06:13<02:14,  8.43s/it]\u001b[A"
     ]
    },
    {
     "name": "stdout",
     "output_type": "stream",
     "text": [
      "\n",
      " Time needed for MC Dropout-based Uncertainty Estimation   8.608053207397461\n"
     ]
    },
    {
     "name": "stderr",
     "output_type": "stream",
     "text": [
      "\n",
      " 75%|███████▌  | 45/60 [06:21<02:07,  8.48s/it]\u001b[A"
     ]
    },
    {
     "name": "stdout",
     "output_type": "stream",
     "text": [
      "\n",
      " Time needed for MC Dropout-based Uncertainty Estimation   8.553153038024902\n"
     ]
    },
    {
     "name": "stderr",
     "output_type": "stream",
     "text": [
      "\n",
      " 77%|███████▋  | 46/60 [06:29<01:57,  8.36s/it]\u001b[A"
     ]
    },
    {
     "name": "stdout",
     "output_type": "stream",
     "text": [
      "\n",
      " Time needed for MC Dropout-based Uncertainty Estimation   8.059200525283813\n"
     ]
    },
    {
     "name": "stderr",
     "output_type": "stream",
     "text": [
      "\n",
      " 78%|███████▊  | 47/60 [06:38<01:49,  8.43s/it]\u001b[A"
     ]
    },
    {
     "name": "stdout",
     "output_type": "stream",
     "text": [
      "\n",
      " Time needed for MC Dropout-based Uncertainty Estimation   8.552757501602173\n"
     ]
    },
    {
     "name": "stderr",
     "output_type": "stream",
     "text": [
      "\n",
      " 80%|████████  | 48/60 [06:47<01:41,  8.48s/it]\u001b[A"
     ]
    },
    {
     "name": "stdout",
     "output_type": "stream",
     "text": [
      "\n",
      " Time needed for MC Dropout-based Uncertainty Estimation   8.579975128173828\n"
     ]
    },
    {
     "name": "stderr",
     "output_type": "stream",
     "text": [
      "\n",
      " 82%|████████▏ | 49/60 [06:55<01:32,  8.37s/it]\u001b[A"
     ]
    },
    {
     "name": "stdout",
     "output_type": "stream",
     "text": [
      "\n",
      " Time needed for MC Dropout-based Uncertainty Estimation   8.082767963409424\n"
     ]
    },
    {
     "name": "stderr",
     "output_type": "stream",
     "text": [
      "\n",
      " 83%|████████▎ | 50/60 [07:03<01:24,  8.45s/it]\u001b[A"
     ]
    },
    {
     "name": "stdout",
     "output_type": "stream",
     "text": [
      "\n",
      " Time needed for MC Dropout-based Uncertainty Estimation   8.605392932891846\n"
     ]
    },
    {
     "name": "stderr",
     "output_type": "stream",
     "text": [
      "\n",
      " 85%|████████▌ | 51/60 [07:12<01:16,  8.51s/it]\u001b[A"
     ]
    },
    {
     "name": "stdout",
     "output_type": "stream",
     "text": [
      "\n",
      " Time needed for MC Dropout-based Uncertainty Estimation   8.597716331481934\n"
     ]
    },
    {
     "name": "stderr",
     "output_type": "stream",
     "text": [
      "\n",
      " 87%|████████▋ | 52/60 [07:20<01:07,  8.40s/it]\u001b[A"
     ]
    },
    {
     "name": "stdout",
     "output_type": "stream",
     "text": [
      "\n",
      " Time needed for MC Dropout-based Uncertainty Estimation   8.114737510681152\n"
     ]
    },
    {
     "name": "stderr",
     "output_type": "stream",
     "text": [
      "\n",
      " 88%|████████▊ | 53/60 [07:29<00:59,  8.49s/it]\u001b[A"
     ]
    },
    {
     "name": "stdout",
     "output_type": "stream",
     "text": [
      "\n",
      " Time needed for MC Dropout-based Uncertainty Estimation   8.668272495269775\n"
     ]
    },
    {
     "name": "stderr",
     "output_type": "stream",
     "text": [
      "\n",
      " 90%|█████████ | 54/60 [07:38<00:51,  8.55s/it]\u001b[A"
     ]
    },
    {
     "name": "stdout",
     "output_type": "stream",
     "text": [
      "\n",
      " Time needed for MC Dropout-based Uncertainty Estimation   8.656467914581299\n"
     ]
    },
    {
     "name": "stderr",
     "output_type": "stream",
     "text": [
      "\n",
      " 92%|█████████▏| 55/60 [07:46<00:42,  8.44s/it]\u001b[A"
     ]
    },
    {
     "name": "stdout",
     "output_type": "stream",
     "text": [
      "\n",
      " Time needed for MC Dropout-based Uncertainty Estimation   8.160147190093994\n"
     ]
    },
    {
     "name": "stderr",
     "output_type": "stream",
     "text": [
      "\n",
      " 93%|█████████▎| 56/60 [07:54<00:34,  8.53s/it]\u001b[A"
     ]
    },
    {
     "name": "stdout",
     "output_type": "stream",
     "text": [
      "\n",
      " Time needed for MC Dropout-based Uncertainty Estimation   8.685967445373535\n"
     ]
    },
    {
     "name": "stderr",
     "output_type": "stream",
     "text": [
      "\n",
      " 95%|█████████▌| 57/60 [08:03<00:25,  8.58s/it]\u001b[A"
     ]
    },
    {
     "name": "stdout",
     "output_type": "stream",
     "text": [
      "\n",
      " Time needed for MC Dropout-based Uncertainty Estimation   8.660808324813843\n"
     ]
    },
    {
     "name": "stderr",
     "output_type": "stream",
     "text": [
      "\n",
      " 97%|█████████▋| 58/60 [08:11<00:16,  8.46s/it]\u001b[A"
     ]
    },
    {
     "name": "stdout",
     "output_type": "stream",
     "text": [
      "\n",
      " Time needed for MC Dropout-based Uncertainty Estimation   8.15498661994934\n"
     ]
    },
    {
     "name": "stderr",
     "output_type": "stream",
     "text": [
      "\n",
      " 98%|█████████▊| 59/60 [08:20<00:08,  8.54s/it]\u001b[A"
     ]
    },
    {
     "name": "stdout",
     "output_type": "stream",
     "text": [
      "\n",
      " Time needed for MC Dropout-based Uncertainty Estimation   8.689427614212036\n"
     ]
    },
    {
     "name": "stderr",
     "output_type": "stream",
     "text": [
      "\n",
      "100%|██████████| 60/60 [08:29<00:00,  8.58s/it]\u001b[A"
     ]
    },
    {
     "name": "stdout",
     "output_type": "stream",
     "text": [
      "\n",
      " Time needed for MC Dropout-based Uncertainty Estimation   8.627790451049805\n",
      "START TRAINING......:\n",
      "Training with 20 images\n",
      "Validating with 10 images\n",
      "Training Unet-mcdropout\n",
      "(20, 400, 400, 28)\n",
      "Epoch 1/80\n",
      " - 5s - loss: 0.9861 - accuracy: 0.1824 - val_loss: 0.7288 - val_accuracy: 0.7854\n",
      "\n",
      "Epoch 00001: val_loss improved from inf to 0.72877, saving model to ./trained_models/unet_div8_495K_20.hdf5\n",
      "Epoch 2/80\n",
      " - 1s - loss: 0.8515 - accuracy: 0.1179 - val_loss: 0.8209 - val_accuracy: 0.8183\n",
      "\n",
      "Epoch 00002: val_loss did not improve from 0.72877\n",
      "Epoch 3/80\n",
      " - 1s - loss: 0.7828 - accuracy: 0.1272 - val_loss: 0.9762 - val_accuracy: 0.3035\n",
      "\n",
      "Epoch 00003: val_loss did not improve from 0.72877\n",
      "Epoch 4/80\n",
      " - 2s - loss: 0.7354 - accuracy: 0.1446 - val_loss: 0.8894 - val_accuracy: 0.4735\n",
      "\n",
      "Epoch 00004: val_loss did not improve from 0.72877\n",
      "Epoch 5/80\n",
      " - 3s - loss: 0.7077 - accuracy: 0.3750 - val_loss: 0.7027 - val_accuracy: 0.6899\n",
      "\n",
      "Epoch 00005: val_loss improved from 0.72877 to 0.70274, saving model to ./trained_models/unet_div8_495K_20.hdf5\n",
      "Epoch 6/80\n",
      " - 2s - loss: 0.6939 - accuracy: 0.6379 - val_loss: 0.6491 - val_accuracy: 0.7752\n",
      "\n",
      "Epoch 00006: val_loss improved from 0.70274 to 0.64915, saving model to ./trained_models/unet_div8_495K_20.hdf5\n",
      "Epoch 7/80\n",
      " - 3s - loss: 0.6788 - accuracy: 0.8302 - val_loss: 0.6557 - val_accuracy: 0.8068\n",
      "\n",
      "Epoch 00007: val_loss did not improve from 0.64915\n",
      "Epoch 8/80\n",
      " - 3s - loss: 0.6716 - accuracy: 0.8751 - val_loss: 0.6640 - val_accuracy: 0.8394\n",
      "\n",
      "Epoch 00008: val_loss did not improve from 0.64915\n",
      "Epoch 9/80\n",
      " - 3s - loss: 0.6644 - accuracy: 0.8918 - val_loss: 0.6640 - val_accuracy: 0.8656\n",
      "\n",
      "Epoch 00009: val_loss did not improve from 0.64915\n",
      "Epoch 10/80\n",
      " - 3s - loss: 0.6564 - accuracy: 0.8942 - val_loss: 0.6603 - val_accuracy: 0.8780\n",
      "\n",
      "Epoch 00010: val_loss did not improve from 0.64915\n",
      "Epoch 11/80\n",
      " - 2s - loss: 0.6459 - accuracy: 0.8951 - val_loss: 0.6606 - val_accuracy: 0.8828\n",
      "\n",
      "Epoch 00011: val_loss did not improve from 0.64915\n",
      "Epoch 12/80\n",
      " - 3s - loss: 0.6394 - accuracy: 0.8951 - val_loss: 0.6569 - val_accuracy: 0.8846\n",
      "\n",
      "Epoch 00012: val_loss did not improve from 0.64915\n",
      "Epoch 13/80\n",
      " - 3s - loss: 0.6355 - accuracy: 0.8946 - val_loss: 0.6532 - val_accuracy: 0.8848\n",
      "\n",
      "Epoch 00013: val_loss did not improve from 0.64915\n",
      "Epoch 14/80\n",
      " - 3s - loss: 0.6245 - accuracy: 0.8950 - val_loss: 0.6461 - val_accuracy: 0.8837\n",
      "\n",
      "Epoch 00014: val_loss improved from 0.64915 to 0.64605, saving model to ./trained_models/unet_div8_495K_20.hdf5\n",
      "Epoch 15/80\n",
      " - 3s - loss: 0.6188 - accuracy: 0.8945 - val_loss: 0.6405 - val_accuracy: 0.8836\n",
      "\n",
      "Epoch 00015: val_loss improved from 0.64605 to 0.64051, saving model to ./trained_models/unet_div8_495K_20.hdf5\n",
      "Epoch 16/80\n",
      " - 3s - loss: 0.6086 - accuracy: 0.8952 - val_loss: 0.6347 - val_accuracy: 0.8838\n",
      "\n",
      "Epoch 00016: val_loss improved from 0.64051 to 0.63472, saving model to ./trained_models/unet_div8_495K_20.hdf5\n",
      "Epoch 17/80\n",
      " - 2s - loss: 0.6003 - accuracy: 0.8952 - val_loss: 0.6289 - val_accuracy: 0.8842\n",
      "\n",
      "Epoch 00017: val_loss improved from 0.63472 to 0.62889, saving model to ./trained_models/unet_div8_495K_20.hdf5\n",
      "Epoch 18/80\n",
      " - 3s - loss: 0.5933 - accuracy: 0.8951 - val_loss: 0.6226 - val_accuracy: 0.8844\n",
      "\n",
      "Epoch 00018: val_loss improved from 0.62889 to 0.62256, saving model to ./trained_models/unet_div8_495K_20.hdf5\n",
      "Epoch 19/80\n",
      " - 3s - loss: 0.5857 - accuracy: 0.8950 - val_loss: 0.6173 - val_accuracy: 0.8847\n",
      "\n",
      "Epoch 00019: val_loss improved from 0.62256 to 0.61726, saving model to ./trained_models/unet_div8_495K_20.hdf5\n",
      "Epoch 20/80\n",
      " - 2s - loss: 0.5793 - accuracy: 0.8955 - val_loss: 0.6117 - val_accuracy: 0.8848\n",
      "\n",
      "Epoch 00020: val_loss improved from 0.61726 to 0.61173, saving model to ./trained_models/unet_div8_495K_20.hdf5\n",
      "Epoch 21/80\n",
      " - 3s - loss: 0.5729 - accuracy: 0.8952 - val_loss: 0.6049 - val_accuracy: 0.8848\n",
      "\n",
      "Epoch 00021: val_loss improved from 0.61173 to 0.60493, saving model to ./trained_models/unet_div8_495K_20.hdf5\n",
      "Epoch 22/80\n",
      " - 3s - loss: 0.5672 - accuracy: 0.8953 - val_loss: 0.5987 - val_accuracy: 0.8848\n",
      "\n",
      "Epoch 00022: val_loss improved from 0.60493 to 0.59870, saving model to ./trained_models/unet_div8_495K_20.hdf5\n",
      "Epoch 23/80\n",
      " - 3s - loss: 0.5597 - accuracy: 0.8949 - val_loss: 0.5943 - val_accuracy: 0.8848\n",
      "\n",
      "Epoch 00023: val_loss improved from 0.59870 to 0.59435, saving model to ./trained_models/unet_div8_495K_20.hdf5\n",
      "Epoch 24/80\n",
      " - 3s - loss: 0.5541 - accuracy: 0.8952 - val_loss: 0.5879 - val_accuracy: 0.8848\n",
      "\n",
      "Epoch 00024: val_loss improved from 0.59435 to 0.58792, saving model to ./trained_models/unet_div8_495K_20.hdf5\n",
      "Epoch 25/80\n",
      " - 3s - loss: 0.5477 - accuracy: 0.8950 - val_loss: 0.5808 - val_accuracy: 0.8848\n",
      "\n",
      "Epoch 00025: val_loss improved from 0.58792 to 0.58081, saving model to ./trained_models/unet_div8_495K_20.hdf5\n",
      "Epoch 26/80\n",
      " - 2s - loss: 0.5414 - accuracy: 0.8955 - val_loss: 0.5736 - val_accuracy: 0.8848\n",
      "\n",
      "Epoch 00026: val_loss improved from 0.58081 to 0.57359, saving model to ./trained_models/unet_div8_495K_20.hdf5\n",
      "Epoch 27/80\n",
      " - 2s - loss: 0.5348 - accuracy: 0.8956 - val_loss: 0.5665 - val_accuracy: 0.8848\n",
      "\n",
      "Epoch 00027: val_loss improved from 0.57359 to 0.56651, saving model to ./trained_models/unet_div8_495K_20.hdf5\n",
      "Epoch 28/80\n",
      " - 3s - loss: 0.5289 - accuracy: 0.8949 - val_loss: 0.5601 - val_accuracy: 0.8848\n",
      "\n",
      "Epoch 00028: val_loss improved from 0.56651 to 0.56011, saving model to ./trained_models/unet_div8_495K_20.hdf5\n",
      "Epoch 29/80\n",
      " - 3s - loss: 0.5224 - accuracy: 0.8951 - val_loss: 0.5535 - val_accuracy: 0.8848\n",
      "\n",
      "Epoch 00029: val_loss improved from 0.56011 to 0.55354, saving model to ./trained_models/unet_div8_495K_20.hdf5\n",
      "Epoch 30/80\n",
      " - 3s - loss: 0.5147 - accuracy: 0.8950 - val_loss: 0.5457 - val_accuracy: 0.8848\n",
      "\n",
      "Epoch 00030: val_loss improved from 0.55354 to 0.54566, saving model to ./trained_models/unet_div8_495K_20.hdf5\n",
      "Epoch 31/80\n",
      " - 3s - loss: 0.5113 - accuracy: 0.8950 - val_loss: 0.5380 - val_accuracy: 0.8848\n",
      "\n",
      "Epoch 00031: val_loss improved from 0.54566 to 0.53804, saving model to ./trained_models/unet_div8_495K_20.hdf5\n",
      "Epoch 32/80\n",
      " - 3s - loss: 0.5050 - accuracy: 0.8953 - val_loss: 0.5319 - val_accuracy: 0.8848\n",
      "\n",
      "Epoch 00032: val_loss improved from 0.53804 to 0.53192, saving model to ./trained_models/unet_div8_495K_20.hdf5\n",
      "Epoch 33/80\n",
      " - 2s - loss: 0.4984 - accuracy: 0.8954 - val_loss: 0.5257 - val_accuracy: 0.8848\n",
      "\n",
      "Epoch 00033: val_loss improved from 0.53192 to 0.52570, saving model to ./trained_models/unet_div8_495K_20.hdf5\n",
      "Epoch 34/80\n",
      " - 3s - loss: 0.4925 - accuracy: 0.8951 - val_loss: 0.5201 - val_accuracy: 0.8848\n",
      "\n",
      "Epoch 00034: val_loss improved from 0.52570 to 0.52009, saving model to ./trained_models/unet_div8_495K_20.hdf5\n",
      "Epoch 35/80\n",
      " - 3s - loss: 0.4853 - accuracy: 0.8953 - val_loss: 0.5143 - val_accuracy: 0.8848\n",
      "\n",
      "Epoch 00035: val_loss improved from 0.52009 to 0.51427, saving model to ./trained_models/unet_div8_495K_20.hdf5\n",
      "Epoch 36/80\n",
      " - 2s - loss: 0.4790 - accuracy: 0.8954 - val_loss: 0.5050 - val_accuracy: 0.8848\n",
      "\n",
      "Epoch 00036: val_loss improved from 0.51427 to 0.50505, saving model to ./trained_models/unet_div8_495K_20.hdf5\n",
      "Epoch 37/80\n",
      " - 2s - loss: 0.4708 - accuracy: 0.8953 - val_loss: 0.4995 - val_accuracy: 0.8848\n",
      "\n",
      "Epoch 00037: val_loss improved from 0.50505 to 0.49951, saving model to ./trained_models/unet_div8_495K_20.hdf5\n",
      "Epoch 38/80\n",
      " - 3s - loss: 0.4645 - accuracy: 0.8950 - val_loss: 0.4897 - val_accuracy: 0.8848\n",
      "\n",
      "Epoch 00038: val_loss improved from 0.49951 to 0.48967, saving model to ./trained_models/unet_div8_495K_20.hdf5\n",
      "Epoch 39/80\n",
      " - 3s - loss: 0.4600 - accuracy: 0.8952 - val_loss: 0.4798 - val_accuracy: 0.8848\n",
      "\n",
      "Epoch 00039: val_loss improved from 0.48967 to 0.47980, saving model to ./trained_models/unet_div8_495K_20.hdf5\n",
      "Epoch 40/80\n",
      " - 2s - loss: 0.4531 - accuracy: 0.8956 - val_loss: 0.4677 - val_accuracy: 0.8848\n",
      "\n",
      "Epoch 00040: val_loss improved from 0.47980 to 0.46770, saving model to ./trained_models/unet_div8_495K_20.hdf5\n",
      "Epoch 41/80\n",
      " - 3s - loss: 0.4460 - accuracy: 0.8953 - val_loss: 0.4650 - val_accuracy: 0.8848\n",
      "\n",
      "Epoch 00041: val_loss improved from 0.46770 to 0.46497, saving model to ./trained_models/unet_div8_495K_20.hdf5\n",
      "Epoch 42/80\n",
      " - 2s - loss: 0.4389 - accuracy: 0.8955 - val_loss: 0.4569 - val_accuracy: 0.8848\n",
      "\n",
      "Epoch 00042: val_loss improved from 0.46497 to 0.45686, saving model to ./trained_models/unet_div8_495K_20.hdf5\n"
     ]
    },
    {
     "name": "stdout",
     "output_type": "stream",
     "text": [
      "Epoch 43/80\n",
      " - 3s - loss: 0.4293 - accuracy: 0.8951 - val_loss: 0.4500 - val_accuracy: 0.8848\n",
      "\n",
      "Epoch 00043: val_loss improved from 0.45686 to 0.44999, saving model to ./trained_models/unet_div8_495K_20.hdf5\n",
      "Epoch 44/80\n",
      " - 2s - loss: 0.4266 - accuracy: 0.8954 - val_loss: 0.4453 - val_accuracy: 0.8848\n",
      "\n",
      "Epoch 00044: val_loss improved from 0.44999 to 0.44527, saving model to ./trained_models/unet_div8_495K_20.hdf5\n",
      "Epoch 45/80\n",
      " - 4s - loss: 0.4229 - accuracy: 0.8948 - val_loss: 0.4419 - val_accuracy: 0.8848\n",
      "\n",
      "Epoch 00045: val_loss improved from 0.44527 to 0.44187, saving model to ./trained_models/unet_div8_495K_20.hdf5\n",
      "Epoch 46/80\n",
      " - 3s - loss: 0.4136 - accuracy: 0.8952 - val_loss: 0.4470 - val_accuracy: 0.8848\n",
      "\n",
      "Epoch 00046: val_loss did not improve from 0.44187\n",
      "Epoch 47/80\n",
      " - 3s - loss: 0.4076 - accuracy: 0.8950 - val_loss: 0.4565 - val_accuracy: 0.8848\n",
      "\n",
      "Epoch 00047: val_loss did not improve from 0.44187\n",
      "Epoch 48/80\n",
      " - 2s - loss: 0.4008 - accuracy: 0.8959 - val_loss: 0.4618 - val_accuracy: 0.8848\n",
      "\n",
      "Epoch 00048: val_loss did not improve from 0.44187\n",
      "Epoch 49/80\n",
      " - 2s - loss: 0.3922 - accuracy: 0.8958 - val_loss: 0.4353 - val_accuracy: 0.8848\n",
      "\n",
      "Epoch 00049: val_loss improved from 0.44187 to 0.43534, saving model to ./trained_models/unet_div8_495K_20.hdf5\n",
      "Epoch 50/80\n",
      " - 3s - loss: 0.3922 - accuracy: 0.8951 - val_loss: 0.4325 - val_accuracy: 0.8848\n",
      "\n",
      "Epoch 00050: val_loss improved from 0.43534 to 0.43254, saving model to ./trained_models/unet_div8_495K_20.hdf5\n",
      "Epoch 51/80\n",
      " - 2s - loss: 0.3819 - accuracy: 0.8955 - val_loss: 0.4480 - val_accuracy: 0.8848\n",
      "\n",
      "Epoch 00051: val_loss did not improve from 0.43254\n",
      "Epoch 52/80\n",
      " - 3s - loss: 0.3775 - accuracy: 0.8949 - val_loss: 0.4420 - val_accuracy: 0.8848\n",
      "\n",
      "Epoch 00052: val_loss did not improve from 0.43254\n",
      "Epoch 53/80\n",
      " - 3s - loss: 0.3688 - accuracy: 0.8952 - val_loss: 0.4177 - val_accuracy: 0.8848\n",
      "\n",
      "Epoch 00053: val_loss improved from 0.43254 to 0.41770, saving model to ./trained_models/unet_div8_495K_20.hdf5\n",
      "Epoch 54/80\n",
      " - 3s - loss: 0.3667 - accuracy: 0.8950 - val_loss: 0.4090 - val_accuracy: 0.8848\n",
      "\n",
      "Epoch 00054: val_loss improved from 0.41770 to 0.40904, saving model to ./trained_models/unet_div8_495K_20.hdf5\n",
      "Epoch 55/80\n",
      " - 3s - loss: 0.3592 - accuracy: 0.8950 - val_loss: 0.3950 - val_accuracy: 0.8848\n",
      "\n",
      "Epoch 00055: val_loss improved from 0.40904 to 0.39498, saving model to ./trained_models/unet_div8_495K_20.hdf5\n",
      "Epoch 56/80\n",
      " - 3s - loss: 0.3606 - accuracy: 0.8951 - val_loss: 0.3877 - val_accuracy: 0.8848\n",
      "\n",
      "Epoch 00056: val_loss improved from 0.39498 to 0.38771, saving model to ./trained_models/unet_div8_495K_20.hdf5\n",
      "Epoch 57/80\n",
      " - 3s - loss: 0.3524 - accuracy: 0.8952 - val_loss: 0.3774 - val_accuracy: 0.8848\n",
      "\n",
      "Epoch 00057: val_loss improved from 0.38771 to 0.37741, saving model to ./trained_models/unet_div8_495K_20.hdf5\n",
      "Epoch 58/80\n",
      " - 2s - loss: 0.3475 - accuracy: 0.8956 - val_loss: 0.3977 - val_accuracy: 0.8848\n",
      "\n",
      "Epoch 00058: val_loss did not improve from 0.37741\n",
      "Epoch 59/80\n",
      " - 2s - loss: 0.3440 - accuracy: 0.8955 - val_loss: 0.4295 - val_accuracy: 0.8848\n",
      "\n",
      "Epoch 00059: val_loss did not improve from 0.37741\n",
      "Epoch 60/80\n",
      " - 3s - loss: 0.3430 - accuracy: 0.8950 - val_loss: 0.4578 - val_accuracy: 0.8848\n",
      "\n",
      "Epoch 00060: val_loss did not improve from 0.37741\n",
      "Epoch 61/80\n",
      " - 3s - loss: 0.3334 - accuracy: 0.8953 - val_loss: 0.4454 - val_accuracy: 0.8848\n",
      "\n",
      "Epoch 00061: val_loss did not improve from 0.37741\n",
      "Epoch 62/80\n",
      " - 2s - loss: 0.3293 - accuracy: 0.8955 - val_loss: 0.4269 - val_accuracy: 0.8848\n",
      "\n",
      "Epoch 00062: val_loss did not improve from 0.37741\n",
      "Epoch 63/80\n",
      " - 3s - loss: 0.3266 - accuracy: 0.8952 - val_loss: 0.4225 - val_accuracy: 0.8848\n",
      "\n",
      "Epoch 00063: val_loss did not improve from 0.37741\n",
      "Epoch 64/80\n",
      " - 2s - loss: 0.3192 - accuracy: 0.8956 - val_loss: 0.3993 - val_accuracy: 0.8848\n",
      "\n",
      "Epoch 00064: val_loss did not improve from 0.37741\n",
      "Epoch 65/80\n",
      " - 3s - loss: 0.3160 - accuracy: 0.8953 - val_loss: 0.4191 - val_accuracy: 0.8848\n",
      "\n",
      "Epoch 00065: val_loss did not improve from 0.37741\n",
      "Epoch 66/80\n",
      " - 3s - loss: 0.3065 - accuracy: 0.8953 - val_loss: 0.4229 - val_accuracy: 0.8849\n",
      "\n",
      "Epoch 00066: val_loss did not improve from 0.37741\n",
      "Epoch 67/80\n",
      " - 3s - loss: 0.3109 - accuracy: 0.8953 - val_loss: 0.4158 - val_accuracy: 0.8849\n",
      "\n",
      "Epoch 00067: val_loss did not improve from 0.37741\n",
      "Epoch 68/80\n",
      " - 3s - loss: 0.3080 - accuracy: 0.8950 - val_loss: 0.4051 - val_accuracy: 0.8849\n",
      "\n",
      "Epoch 00068: val_loss did not improve from 0.37741\n",
      "Epoch 69/80\n",
      " - 3s - loss: 0.2997 - accuracy: 0.8951 - val_loss: 0.3767 - val_accuracy: 0.8849\n",
      "\n",
      "Epoch 00069: val_loss improved from 0.37741 to 0.37672, saving model to ./trained_models/unet_div8_495K_20.hdf5\n",
      "Epoch 70/80\n",
      " - 3s - loss: 0.2931 - accuracy: 0.8953 - val_loss: 0.3943 - val_accuracy: 0.8849\n",
      "\n",
      "Epoch 00070: val_loss did not improve from 0.37672\n",
      "Epoch 71/80\n",
      " - 3s - loss: 0.2901 - accuracy: 0.8950 - val_loss: 0.4009 - val_accuracy: 0.8849\n",
      "\n",
      "Epoch 00071: val_loss did not improve from 0.37672\n",
      "Epoch 72/80\n",
      " - 4s - loss: 0.2855 - accuracy: 0.8949 - val_loss: 0.3753 - val_accuracy: 0.8849\n",
      "\n",
      "Epoch 00072: val_loss improved from 0.37672 to 0.37531, saving model to ./trained_models/unet_div8_495K_20.hdf5\n",
      "Epoch 73/80\n",
      " - 3s - loss: 0.2842 - accuracy: 0.8951 - val_loss: 0.4142 - val_accuracy: 0.8851\n",
      "\n",
      "Epoch 00073: val_loss did not improve from 0.37531\n",
      "Epoch 74/80\n",
      " - 3s - loss: 0.2804 - accuracy: 0.8953 - val_loss: 0.3809 - val_accuracy: 0.8850\n",
      "\n",
      "Epoch 00074: val_loss did not improve from 0.37531\n",
      "Epoch 75/80\n",
      " - 3s - loss: 0.2731 - accuracy: 0.8953 - val_loss: 0.3394 - val_accuracy: 0.8852\n",
      "\n",
      "Epoch 00075: val_loss improved from 0.37531 to 0.33936, saving model to ./trained_models/unet_div8_495K_20.hdf5\n",
      "Epoch 76/80\n",
      " - 3s - loss: 0.2709 - accuracy: 0.8952 - val_loss: 0.3282 - val_accuracy: 0.8890\n",
      "\n",
      "Epoch 00076: val_loss improved from 0.33936 to 0.32822, saving model to ./trained_models/unet_div8_495K_20.hdf5\n",
      "Epoch 77/80\n",
      " - 3s - loss: 0.2735 - accuracy: 0.8968 - val_loss: 0.2813 - val_accuracy: 0.8883\n",
      "\n",
      "Epoch 00077: val_loss improved from 0.32822 to 0.28130, saving model to ./trained_models/unet_div8_495K_20.hdf5\n",
      "Epoch 78/80\n",
      " - 3s - loss: 0.2739 - accuracy: 0.9002 - val_loss: 0.2659 - val_accuracy: 0.8907\n",
      "\n",
      "Epoch 00078: val_loss improved from 0.28130 to 0.26592, saving model to ./trained_models/unet_div8_495K_20.hdf5\n",
      "Epoch 79/80\n",
      " - 3s - loss: 0.2683 - accuracy: 0.9055 - val_loss: 0.2702 - val_accuracy: 0.9097\n",
      "\n",
      "Epoch 00079: val_loss did not improve from 0.26592\n",
      "Epoch 80/80\n",
      " - 3s - loss: 0.2577 - accuracy: 0.9170 - val_loss: 0.3280 - val_accuracy: 0.8679\n"
     ]
    },
    {
     "name": "stderr",
     "output_type": "stream",
     "text": [
      "\n",
      "  0%|          | 0/20 [00:00<?, ?it/s]\u001b[A"
     ]
    },
    {
     "name": "stdout",
     "output_type": "stream",
     "text": [
      "\n",
      "Epoch 00080: val_loss did not improve from 0.26592\n"
     ]
    },
    {
     "name": "stderr",
     "output_type": "stream",
     "text": [
      "\n",
      "  5%|▌         | 1/20 [00:10<03:22, 10.66s/it]\u001b[A"
     ]
    },
    {
     "name": "stdout",
     "output_type": "stream",
     "text": [
      "\n",
      " Time needed for MC Dropout-based Uncertainty Estimation   10.653060913085938\n"
     ]
    },
    {
     "name": "stderr",
     "output_type": "stream",
     "text": [
      "\n",
      " 10%|█         | 2/20 [00:21<03:11, 10.62s/it]\u001b[A"
     ]
    },
    {
     "name": "stdout",
     "output_type": "stream",
     "text": [
      "\n",
      " Time needed for MC Dropout-based Uncertainty Estimation   10.499929904937744\n"
     ]
    },
    {
     "name": "stderr",
     "output_type": "stream",
     "text": [
      "\n",
      " 15%|█▌        | 3/20 [00:31<03:01, 10.68s/it]\u001b[A"
     ]
    },
    {
     "name": "stdout",
     "output_type": "stream",
     "text": [
      "\n",
      " Time needed for MC Dropout-based Uncertainty Estimation   10.793014526367188\n"
     ]
    },
    {
     "name": "stderr",
     "output_type": "stream",
     "text": [
      "\n",
      " 20%|██        | 4/20 [00:42<02:51, 10.71s/it]\u001b[A"
     ]
    },
    {
     "name": "stdout",
     "output_type": "stream",
     "text": [
      "\n",
      " Time needed for MC Dropout-based Uncertainty Estimation   10.773630619049072\n"
     ]
    },
    {
     "name": "stderr",
     "output_type": "stream",
     "text": [
      "\n",
      " 25%|██▌       | 5/20 [00:53<02:39, 10.66s/it]\u001b[A"
     ]
    },
    {
     "name": "stdout",
     "output_type": "stream",
     "text": [
      "\n",
      " Time needed for MC Dropout-based Uncertainty Estimation   10.528141975402832\n"
     ]
    },
    {
     "name": "stderr",
     "output_type": "stream",
     "text": [
      "\n",
      " 30%|███       | 6/20 [01:04<02:29, 10.71s/it]\u001b[A"
     ]
    },
    {
     "name": "stdout",
     "output_type": "stream",
     "text": [
      "\n",
      " Time needed for MC Dropout-based Uncertainty Estimation   10.788416624069214\n"
     ]
    },
    {
     "name": "stderr",
     "output_type": "stream",
     "text": [
      "\n",
      " 35%|███▌      | 7/20 [01:14<02:19, 10.72s/it]\u001b[A"
     ]
    },
    {
     "name": "stdout",
     "output_type": "stream",
     "text": [
      "\n",
      " Time needed for MC Dropout-based Uncertainty Estimation   10.745502233505249\n"
     ]
    },
    {
     "name": "stderr",
     "output_type": "stream",
     "text": [
      "\n",
      " 40%|████      | 8/20 [01:25<02:07, 10.64s/it]\u001b[A"
     ]
    },
    {
     "name": "stdout",
     "output_type": "stream",
     "text": [
      "\n",
      " Time needed for MC Dropout-based Uncertainty Estimation   10.440984725952148\n"
     ]
    },
    {
     "name": "stderr",
     "output_type": "stream",
     "text": [
      "\n",
      " 45%|████▌     | 9/20 [01:36<01:57, 10.68s/it]\u001b[A"
     ]
    },
    {
     "name": "stdout",
     "output_type": "stream",
     "text": [
      "\n",
      " Time needed for MC Dropout-based Uncertainty Estimation   10.756531476974487\n"
     ]
    },
    {
     "name": "stderr",
     "output_type": "stream",
     "text": [
      "\n",
      " 50%|█████     | 10/20 [01:46<01:47, 10.71s/it]\u001b[A"
     ]
    },
    {
     "name": "stdout",
     "output_type": "stream",
     "text": [
      "\n",
      " Time needed for MC Dropout-based Uncertainty Estimation   10.749470949172974\n"
     ]
    },
    {
     "name": "stderr",
     "output_type": "stream",
     "text": [
      "\n",
      " 55%|█████▌    | 11/20 [01:57<01:35, 10.65s/it]\u001b[A"
     ]
    },
    {
     "name": "stdout",
     "output_type": "stream",
     "text": [
      "\n",
      " Time needed for MC Dropout-based Uncertainty Estimation   10.506130933761597\n"
     ]
    },
    {
     "name": "stderr",
     "output_type": "stream",
     "text": [
      "\n",
      " 60%|██████    | 12/20 [02:08<01:25, 10.72s/it]\u001b[A"
     ]
    },
    {
     "name": "stdout",
     "output_type": "stream",
     "text": [
      "\n",
      " Time needed for MC Dropout-based Uncertainty Estimation   10.85614824295044\n"
     ]
    },
    {
     "name": "stderr",
     "output_type": "stream",
     "text": [
      "\n",
      " 65%|██████▌   | 13/20 [02:19<01:14, 10.71s/it]\u001b[A"
     ]
    },
    {
     "name": "stdout",
     "output_type": "stream",
     "text": [
      "\n",
      " Time needed for MC Dropout-based Uncertainty Estimation   10.677576780319214\n"
     ]
    },
    {
     "name": "stderr",
     "output_type": "stream",
     "text": [
      "\n",
      " 70%|███████   | 14/20 [02:29<01:03, 10.62s/it]\u001b[A"
     ]
    },
    {
     "name": "stdout",
     "output_type": "stream",
     "text": [
      "\n",
      " Time needed for MC Dropout-based Uncertainty Estimation   10.39787745475769\n"
     ]
    },
    {
     "name": "stderr",
     "output_type": "stream",
     "text": [
      "\n",
      " 75%|███████▌  | 15/20 [02:40<00:53, 10.67s/it]\u001b[A"
     ]
    },
    {
     "name": "stdout",
     "output_type": "stream",
     "text": [
      "\n",
      " Time needed for MC Dropout-based Uncertainty Estimation   10.747770547866821\n"
     ]
    },
    {
     "name": "stderr",
     "output_type": "stream",
     "text": [
      "\n",
      " 80%|████████  | 16/20 [02:50<00:42, 10.69s/it]\u001b[A"
     ]
    },
    {
     "name": "stdout",
     "output_type": "stream",
     "text": [
      "\n",
      " Time needed for MC Dropout-based Uncertainty Estimation   10.72947072982788\n"
     ]
    },
    {
     "name": "stderr",
     "output_type": "stream",
     "text": [
      "\n",
      " 85%|████████▌ | 17/20 [03:01<00:31, 10.61s/it]\u001b[A"
     ]
    },
    {
     "name": "stdout",
     "output_type": "stream",
     "text": [
      "\n",
      " Time needed for MC Dropout-based Uncertainty Estimation   10.407996416091919\n"
     ]
    },
    {
     "name": "stderr",
     "output_type": "stream",
     "text": [
      "\n",
      " 90%|█████████ | 18/20 [03:12<00:21, 10.63s/it]\u001b[A"
     ]
    },
    {
     "name": "stdout",
     "output_type": "stream",
     "text": [
      "\n",
      " Time needed for MC Dropout-based Uncertainty Estimation   10.63858938217163\n"
     ]
    },
    {
     "name": "stderr",
     "output_type": "stream",
     "text": [
      "\n",
      " 95%|█████████▌| 19/20 [03:22<00:10, 10.67s/it]\u001b[A"
     ]
    },
    {
     "name": "stdout",
     "output_type": "stream",
     "text": [
      "\n",
      " Time needed for MC Dropout-based Uncertainty Estimation   10.765002965927124\n"
     ]
    },
    {
     "name": "stderr",
     "output_type": "stream",
     "text": [
      "\n",
      "100%|██████████| 20/20 [03:33<00:00, 10.63s/it]\u001b[A\n",
      "  0%|          | 0/10 [00:00<?, ?it/s]\u001b[A"
     ]
    },
    {
     "name": "stdout",
     "output_type": "stream",
     "text": [
      "\n",
      " Time needed for MC Dropout-based Uncertainty Estimation   10.51071810722351\n"
     ]
    },
    {
     "name": "stderr",
     "output_type": "stream",
     "text": [
      "\n",
      " 10%|█         | 1/10 [00:05<00:48,  5.40s/it]\u001b[A"
     ]
    },
    {
     "name": "stdout",
     "output_type": "stream",
     "text": [
      "\n",
      " Time needed for MC Dropout-based Uncertainty Estimation   5.396023511886597\n"
     ]
    },
    {
     "name": "stderr",
     "output_type": "stream",
     "text": [
      "\n",
      " 20%|██        | 2/10 [00:10<00:43,  5.40s/it]\u001b[A"
     ]
    },
    {
     "name": "stdout",
     "output_type": "stream",
     "text": [
      "\n",
      " Time needed for MC Dropout-based Uncertainty Estimation   5.398636102676392\n"
     ]
    },
    {
     "name": "stderr",
     "output_type": "stream",
     "text": [
      "\n",
      " 30%|███       | 3/10 [00:16<00:37,  5.38s/it]\u001b[A"
     ]
    },
    {
     "name": "stdout",
     "output_type": "stream",
     "text": [
      "\n",
      " Time needed for MC Dropout-based Uncertainty Estimation   5.323729753494263\n"
     ]
    },
    {
     "name": "stderr",
     "output_type": "stream",
     "text": [
      "\n",
      " 40%|████      | 4/10 [00:21<00:32,  5.40s/it]\u001b[A"
     ]
    },
    {
     "name": "stdout",
     "output_type": "stream",
     "text": [
      "\n",
      " Time needed for MC Dropout-based Uncertainty Estimation   5.443495988845825\n"
     ]
    },
    {
     "name": "stderr",
     "output_type": "stream",
     "text": [
      "\n",
      " 50%|█████     | 5/10 [00:27<00:27,  5.42s/it]\u001b[A"
     ]
    },
    {
     "name": "stdout",
     "output_type": "stream",
     "text": [
      "\n",
      " Time needed for MC Dropout-based Uncertainty Estimation   5.4550628662109375\n"
     ]
    },
    {
     "name": "stderr",
     "output_type": "stream",
     "text": [
      "\n",
      " 60%|██████    | 6/10 [00:32<00:21,  5.42s/it]\u001b[A"
     ]
    },
    {
     "name": "stdout",
     "output_type": "stream",
     "text": [
      "\n",
      " Time needed for MC Dropout-based Uncertainty Estimation   5.385140419006348\n"
     ]
    },
    {
     "name": "stderr",
     "output_type": "stream",
     "text": [
      "\n",
      " 70%|███████   | 7/10 [00:37<00:16,  5.42s/it]\u001b[A"
     ]
    },
    {
     "name": "stdout",
     "output_type": "stream",
     "text": [
      "\n",
      " Time needed for MC Dropout-based Uncertainty Estimation   5.413773536682129\n"
     ]
    },
    {
     "name": "stderr",
     "output_type": "stream",
     "text": [
      "\n",
      " 80%|████████  | 8/10 [00:43<00:10,  5.42s/it]\u001b[A"
     ]
    },
    {
     "name": "stdout",
     "output_type": "stream",
     "text": [
      "\n",
      " Time needed for MC Dropout-based Uncertainty Estimation   5.4089930057525635\n"
     ]
    },
    {
     "name": "stderr",
     "output_type": "stream",
     "text": [
      "\n",
      " 90%|█████████ | 9/10 [00:48<00:05,  5.39s/it]\u001b[A"
     ]
    },
    {
     "name": "stdout",
     "output_type": "stream",
     "text": [
      "\n",
      " Time needed for MC Dropout-based Uncertainty Estimation   5.324650764465332\n"
     ]
    },
    {
     "name": "stderr",
     "output_type": "stream",
     "text": [
      "\n",
      "100%|██████████| 10/10 [00:54<00:00,  5.40s/it]\u001b[A"
     ]
    },
    {
     "name": "stdout",
     "output_type": "stream",
     "text": [
      "\n",
      " Time needed for MC Dropout-based Uncertainty Estimation   5.397434711456299\n",
      "Model: \"model_2\"\n",
      "_________________________________________________________________\n",
      "Layer (type)                 Output Shape              Param #   \n",
      "=================================================================\n",
      "input (InputLayer)           (None, 400, 400, 30)      0         \n",
      "_________________________________________________________________\n",
      "conv2d_11 (Conv2D)           (None, 400, 400, 32)      8672      \n",
      "_________________________________________________________________\n",
      "batch_normalization_19 (Batc (None, 400, 400, 32)      128       \n",
      "_________________________________________________________________\n",
      "activation_19 (Activation)   (None, 400, 400, 32)      0         \n",
      "_________________________________________________________________\n",
      "conv2d_12 (Conv2D)           (None, 400, 400, 32)      9248      \n",
      "_________________________________________________________________\n",
      "batch_normalization_20 (Batc (None, 400, 400, 32)      128       \n",
      "_________________________________________________________________\n",
      "activation_20 (Activation)   (None, 400, 400, 32)      0         \n",
      "_________________________________________________________________\n",
      "max_pooling2d_5 (MaxPooling2 (None, 200, 200, 32)      0         \n",
      "_________________________________________________________________\n",
      "conv2d_13 (Conv2D)           (None, 200, 200, 64)      18496     \n",
      "_________________________________________________________________\n",
      "batch_normalization_21 (Batc (None, 200, 200, 64)      256       \n",
      "_________________________________________________________________\n",
      "activation_21 (Activation)   (None, 200, 200, 64)      0         \n",
      "_________________________________________________________________\n",
      "conv2d_14 (Conv2D)           (None, 200, 200, 64)      36928     \n",
      "_________________________________________________________________\n",
      "batch_normalization_22 (Batc (None, 200, 200, 64)      256       \n",
      "_________________________________________________________________\n",
      "activation_22 (Activation)   (None, 200, 200, 64)      0         \n",
      "_________________________________________________________________\n",
      "max_pooling2d_6 (MaxPooling2 (None, 100, 100, 64)      0         \n",
      "_________________________________________________________________\n",
      "conv2d_15 (Conv2D)           (None, 100, 100, 128)     73856     \n",
      "_________________________________________________________________\n",
      "batch_normalization_23 (Batc (None, 100, 100, 128)     512       \n",
      "_________________________________________________________________\n",
      "activation_23 (Activation)   (None, 100, 100, 128)     0         \n",
      "_________________________________________________________________\n",
      "conv2d_16 (Conv2D)           (None, 100, 100, 128)     147584    \n",
      "_________________________________________________________________\n",
      "batch_normalization_24 (Batc (None, 100, 100, 128)     512       \n",
      "_________________________________________________________________\n",
      "activation_24 (Activation)   (None, 100, 100, 128)     0         \n",
      "_________________________________________________________________\n",
      "max_pooling2d_7 (MaxPooling2 (None, 50, 50, 128)       0         \n",
      "_________________________________________________________________\n",
      "conv2d_17 (Conv2D)           (None, 50, 50, 256)       295168    \n",
      "_________________________________________________________________\n",
      "batch_normalization_25 (Batc (None, 50, 50, 256)       1024      \n",
      "_________________________________________________________________\n",
      "activation_25 (Activation)   (None, 50, 50, 256)       0         \n",
      "_________________________________________________________________\n",
      "conv2d_18 (Conv2D)           (None, 50, 50, 256)       590080    \n",
      "_________________________________________________________________\n",
      "batch_normalization_26 (Batc (None, 50, 50, 256)       1024      \n",
      "_________________________________________________________________\n",
      "activation_26 (Activation)   (None, 50, 50, 256)       0         \n",
      "_________________________________________________________________\n",
      "global_average_pooling2d_1 ( (None, 256)               0         \n",
      "_________________________________________________________________\n",
      "dense_2 (Dense)              (None, 1)                 257       \n",
      "_________________________________________________________________\n",
      "output (Activation)          (None, 1)                 0         \n",
      "=================================================================\n",
      "Total params: 1,184,129\n",
      "Trainable params: 1,182,209\n",
      "Non-trainable params: 1,920\n",
      "_________________________________________________________________\n",
      "(20, 1)\n",
      "Train on 20 samples, validate on 10 samples\n",
      "Epoch 1/60\n",
      " - 3s - loss: 0.0181 - val_loss: 0.0482\n",
      "\n",
      "Epoch 00001: val_loss improved from inf to 0.04821, saving model to ./trained_models/unet_div8_495K_20_DiceNet.hdf5\n",
      "Epoch 2/60\n",
      " - 1s - loss: 0.0333 - val_loss: 0.0503\n",
      "\n",
      "Epoch 00002: val_loss did not improve from 0.04821\n",
      "Epoch 3/60\n",
      " - 1s - loss: 0.0478 - val_loss: 0.0484\n",
      "\n",
      "Epoch 00003: val_loss did not improve from 0.04821\n",
      "Epoch 4/60\n",
      " - 1s - loss: 0.0106 - val_loss: 0.0475\n",
      "\n",
      "Epoch 00004: val_loss improved from 0.04821 to 0.04754, saving model to ./trained_models/unet_div8_495K_20_DiceNet.hdf5\n",
      "Epoch 5/60\n",
      " - 1s - loss: 0.0074 - val_loss: 0.0474\n",
      "\n",
      "Epoch 00005: val_loss improved from 0.04754 to 0.04737, saving model to ./trained_models/unet_div8_495K_20_DiceNet.hdf5\n",
      "Epoch 6/60\n",
      " - 1s - loss: 0.0046 - val_loss: 0.0473\n",
      "\n",
      "Epoch 00006: val_loss improved from 0.04737 to 0.04732, saving model to ./trained_models/unet_div8_495K_20_DiceNet.hdf5\n",
      "Epoch 7/60\n",
      " - 1s - loss: 0.0040 - val_loss: 0.0476\n",
      "\n",
      "Epoch 00007: val_loss did not improve from 0.04732\n",
      "Epoch 8/60\n",
      " - 1s - loss: 0.0028 - val_loss: 0.0485\n",
      "\n",
      "Epoch 00008: val_loss did not improve from 0.04732\n",
      "Epoch 9/60\n",
      " - 1s - loss: 0.0016 - val_loss: 0.0499\n",
      "\n",
      "Epoch 00009: val_loss did not improve from 0.04732\n",
      "Epoch 10/60\n",
      " - 1s - loss: 0.0014 - val_loss: 0.0511\n",
      "\n",
      "Epoch 00010: val_loss did not improve from 0.04732\n",
      "Epoch 11/60\n",
      " - 1s - loss: 0.0014 - val_loss: 0.0518\n",
      "\n",
      "Epoch 00011: val_loss did not improve from 0.04732\n",
      "Epoch 12/60\n",
      " - 1s - loss: 0.0012 - val_loss: 0.0519\n",
      "\n",
      "Epoch 00012: val_loss did not improve from 0.04732\n",
      "Epoch 13/60\n",
      " - 1s - loss: 9.1946e-04 - val_loss: 0.0519\n",
      "\n",
      "Epoch 00013: val_loss did not improve from 0.04732\n",
      "Epoch 14/60\n",
      " - 1s - loss: 7.8889e-04 - val_loss: 0.0519\n",
      "\n",
      "Epoch 00014: val_loss did not improve from 0.04732\n",
      "Epoch 15/60\n",
      " - 1s - loss: 7.2365e-04 - val_loss: 0.0521\n",
      "\n",
      "Epoch 00015: val_loss did not improve from 0.04732\n",
      "Epoch 16/60\n",
      " - 1s - loss: 6.3187e-04 - val_loss: 0.0523\n",
      "\n",
      "Epoch 00016: val_loss did not improve from 0.04732\n",
      "Epoch 17/60\n",
      " - 1s - loss: 5.6522e-04 - val_loss: 0.0522\n",
      "\n",
      "Epoch 00017: val_loss did not improve from 0.04732\n",
      "Epoch 18/60\n",
      " - 1s - loss: 5.3656e-04 - val_loss: 0.0520\n",
      "\n",
      "Epoch 00018: val_loss did not improve from 0.04732\n",
      "False\n",
      "False\n",
      "START EVALUATION......:\n",
      "(10, 400, 400, 28)\n",
      "Loading model: ./trained_models/unet_div8_495K_20.hdf5\n"
     ]
    },
    {
     "name": "stderr",
     "output_type": "stream",
     "text": [
      "\n",
      "  0%|          | 0/10 [00:00<?, ?it/s]\u001b[A\n",
      " 10%|█         | 1/10 [00:02<00:21,  2.35s/it]\u001b[A"
     ]
    },
    {
     "name": "stdout",
     "output_type": "stream",
     "text": [
      "\n",
      " Time needed for MC Dropout-based Uncertainty Estimation   2.3483259677886963\n"
     ]
    },
    {
     "name": "stderr",
     "output_type": "stream",
     "text": [
      "\n",
      " 20%|██        | 2/10 [00:03<00:16,  2.04s/it]\u001b[A"
     ]
    },
    {
     "name": "stdout",
     "output_type": "stream",
     "text": [
      "\n",
      " Time needed for MC Dropout-based Uncertainty Estimation   1.2843782901763916\n"
     ]
    },
    {
     "name": "stderr",
     "output_type": "stream",
     "text": [
      "\n",
      " 30%|███       | 3/10 [00:04<00:12,  1.82s/it]\u001b[A"
     ]
    },
    {
     "name": "stdout",
     "output_type": "stream",
     "text": [
      "\n",
      " Time needed for MC Dropout-based Uncertainty Estimation   1.3008501529693604\n"
     ]
    },
    {
     "name": "stderr",
     "output_type": "stream",
     "text": [
      "\n",
      " 40%|████      | 4/10 [00:06<00:09,  1.66s/it]\u001b[A"
     ]
    },
    {
     "name": "stdout",
     "output_type": "stream",
     "text": [
      "\n",
      " Time needed for MC Dropout-based Uncertainty Estimation   1.2972419261932373\n"
     ]
    },
    {
     "name": "stderr",
     "output_type": "stream",
     "text": [
      "\n",
      " 50%|█████     | 5/10 [00:07<00:07,  1.56s/it]\u001b[A"
     ]
    },
    {
     "name": "stdout",
     "output_type": "stream",
     "text": [
      "\n",
      " Time needed for MC Dropout-based Uncertainty Estimation   1.2956910133361816\n"
     ]
    },
    {
     "name": "stderr",
     "output_type": "stream",
     "text": [
      "\n",
      " 60%|██████    | 6/10 [00:08<00:05,  1.48s/it]\u001b[A"
     ]
    },
    {
     "name": "stdout",
     "output_type": "stream",
     "text": [
      "\n",
      " Time needed for MC Dropout-based Uncertainty Estimation   1.3040809631347656\n"
     ]
    },
    {
     "name": "stderr",
     "output_type": "stream",
     "text": [
      "\n",
      " 70%|███████   | 7/10 [00:10<00:04,  1.43s/it]\u001b[A"
     ]
    },
    {
     "name": "stdout",
     "output_type": "stream",
     "text": [
      "\n",
      " Time needed for MC Dropout-based Uncertainty Estimation   1.2980828285217285\n"
     ]
    },
    {
     "name": "stderr",
     "output_type": "stream",
     "text": [
      "\n",
      " 80%|████████  | 8/10 [00:11<00:02,  1.39s/it]\u001b[A"
     ]
    },
    {
     "name": "stdout",
     "output_type": "stream",
     "text": [
      "\n",
      " Time needed for MC Dropout-based Uncertainty Estimation   1.2966086864471436\n"
     ]
    },
    {
     "name": "stderr",
     "output_type": "stream",
     "text": [
      "\n",
      " 90%|█████████ | 9/10 [00:12<00:01,  1.37s/it]\u001b[A"
     ]
    },
    {
     "name": "stdout",
     "output_type": "stream",
     "text": [
      "\n",
      " Time needed for MC Dropout-based Uncertainty Estimation   1.2956769466400146\n"
     ]
    },
    {
     "name": "stderr",
     "output_type": "stream",
     "text": [
      "\n",
      "100%|██████████| 10/10 [00:14<00:00,  1.34s/it]\u001b[A"
     ]
    },
    {
     "name": "stdout",
     "output_type": "stream",
     "text": [
      "\n",
      " Time needed for MC Dropout-based Uncertainty Estimation   1.2657029628753662\n",
      "Loading model: ./trained_models/unet_div8_495K_20_DiceNet.hdf5\n",
      "START EVALUATION......:\n",
      "(60, 400, 400, 28)\n",
      "Loading model: ./trained_models/unet_div8_495K_20.hdf5\n"
     ]
    },
    {
     "name": "stderr",
     "output_type": "stream",
     "text": [
      "\n",
      "  0%|          | 0/60 [00:00<?, ?it/s]\u001b[A\n",
      "  2%|▏         | 1/60 [00:10<10:11, 10.36s/it]\u001b[A"
     ]
    },
    {
     "name": "stdout",
     "output_type": "stream",
     "text": [
      "\n",
      " Time needed for MC Dropout-based Uncertainty Estimation   10.334240436553955\n"
     ]
    },
    {
     "name": "stderr",
     "output_type": "stream",
     "text": [
      "\n",
      "  3%|▎         | 2/60 [00:18<09:23,  9.71s/it]\u001b[A"
     ]
    },
    {
     "name": "stdout",
     "output_type": "stream",
     "text": [
      "\n",
      " Time needed for MC Dropout-based Uncertainty Estimation   8.151710987091064\n"
     ]
    },
    {
     "name": "stderr",
     "output_type": "stream",
     "text": [
      "\n",
      "  5%|▌         | 3/60 [00:27<08:56,  9.41s/it]\u001b[A"
     ]
    },
    {
     "name": "stdout",
     "output_type": "stream",
     "text": [
      "\n",
      " Time needed for MC Dropout-based Uncertainty Estimation   8.670703172683716\n"
     ]
    },
    {
     "name": "stderr",
     "output_type": "stream",
     "text": [
      "\n",
      "  7%|▋         | 4/60 [00:35<08:26,  9.04s/it]\u001b[A"
     ]
    },
    {
     "name": "stdout",
     "output_type": "stream",
     "text": [
      "\n",
      " Time needed for MC Dropout-based Uncertainty Estimation   8.163788557052612\n"
     ]
    },
    {
     "name": "stderr",
     "output_type": "stream",
     "text": [
      "\n",
      "  8%|▊         | 5/60 [00:43<08:09,  8.90s/it]\u001b[A"
     ]
    },
    {
     "name": "stdout",
     "output_type": "stream",
     "text": [
      "\n",
      " Time needed for MC Dropout-based Uncertainty Estimation   8.519309282302856\n"
     ]
    },
    {
     "name": "stderr",
     "output_type": "stream",
     "text": [
      "\n",
      " 10%|█         | 6/60 [00:52<07:47,  8.66s/it]\u001b[A"
     ]
    },
    {
     "name": "stdout",
     "output_type": "stream",
     "text": [
      "\n",
      " Time needed for MC Dropout-based Uncertainty Estimation   8.073577880859375\n"
     ]
    },
    {
     "name": "stderr",
     "output_type": "stream",
     "text": [
      "\n",
      " 12%|█▏        | 7/60 [01:00<07:40,  8.69s/it]\u001b[A"
     ]
    },
    {
     "name": "stdout",
     "output_type": "stream",
     "text": [
      "\n",
      " Time needed for MC Dropout-based Uncertainty Estimation   8.73390507698059\n"
     ]
    },
    {
     "name": "stderr",
     "output_type": "stream",
     "text": [
      "\n",
      " 13%|█▎        | 8/60 [01:09<07:23,  8.53s/it]\u001b[A"
     ]
    },
    {
     "name": "stdout",
     "output_type": "stream",
     "text": [
      "\n",
      " Time needed for MC Dropout-based Uncertainty Estimation   8.119474172592163\n"
     ]
    },
    {
     "name": "stderr",
     "output_type": "stream",
     "text": [
      "\n",
      " 15%|█▌        | 9/60 [01:17<07:17,  8.58s/it]\u001b[A"
     ]
    },
    {
     "name": "stdout",
     "output_type": "stream",
     "text": [
      "\n",
      " Time needed for MC Dropout-based Uncertainty Estimation   8.662591695785522\n"
     ]
    },
    {
     "name": "stderr",
     "output_type": "stream",
     "text": [
      "\n",
      " 17%|█▋        | 10/60 [01:25<07:03,  8.46s/it]\u001b[A"
     ]
    },
    {
     "name": "stdout",
     "output_type": "stream",
     "text": [
      "\n",
      " Time needed for MC Dropout-based Uncertainty Estimation   8.154278039932251\n"
     ]
    },
    {
     "name": "stderr",
     "output_type": "stream",
     "text": [
      "\n",
      " 18%|█▊        | 11/60 [01:34<06:58,  8.55s/it]\u001b[A"
     ]
    },
    {
     "name": "stdout",
     "output_type": "stream",
     "text": [
      "\n",
      " Time needed for MC Dropout-based Uncertainty Estimation   8.708831310272217\n"
     ]
    },
    {
     "name": "stderr",
     "output_type": "stream",
     "text": [
      "\n",
      " 20%|██        | 12/60 [01:42<06:44,  8.43s/it]\u001b[A"
     ]
    },
    {
     "name": "stdout",
     "output_type": "stream",
     "text": [
      "\n",
      " Time needed for MC Dropout-based Uncertainty Estimation   8.140767812728882\n"
     ]
    },
    {
     "name": "stderr",
     "output_type": "stream",
     "text": [
      "\n",
      " 22%|██▏       | 13/60 [01:51<06:40,  8.52s/it]\u001b[A"
     ]
    },
    {
     "name": "stdout",
     "output_type": "stream",
     "text": [
      "\n",
      " Time needed for MC Dropout-based Uncertainty Estimation   8.685876846313477\n"
     ]
    },
    {
     "name": "stderr",
     "output_type": "stream",
     "text": [
      "\n",
      " 23%|██▎       | 14/60 [01:59<06:26,  8.41s/it]\u001b[A"
     ]
    },
    {
     "name": "stdout",
     "output_type": "stream",
     "text": [
      "\n",
      " Time needed for MC Dropout-based Uncertainty Estimation   8.111006498336792\n"
     ]
    },
    {
     "name": "stderr",
     "output_type": "stream",
     "text": [
      "\n",
      " 25%|██▌       | 15/60 [02:08<06:23,  8.52s/it]\u001b[A"
     ]
    },
    {
     "name": "stdout",
     "output_type": "stream",
     "text": [
      "\n",
      " Time needed for MC Dropout-based Uncertainty Estimation   8.740954160690308\n"
     ]
    },
    {
     "name": "stderr",
     "output_type": "stream",
     "text": [
      "\n",
      " 27%|██▋       | 16/60 [02:16<06:09,  8.39s/it]\u001b[A"
     ]
    },
    {
     "name": "stdout",
     "output_type": "stream",
     "text": [
      "\n",
      " Time needed for MC Dropout-based Uncertainty Estimation   8.04870891571045\n"
     ]
    },
    {
     "name": "stderr",
     "output_type": "stream",
     "text": [
      "\n",
      " 28%|██▊       | 17/60 [02:25<06:05,  8.51s/it]\u001b[A"
     ]
    },
    {
     "name": "stdout",
     "output_type": "stream",
     "text": [
      "\n",
      " Time needed for MC Dropout-based Uncertainty Estimation   8.764118909835815\n"
     ]
    },
    {
     "name": "stderr",
     "output_type": "stream",
     "text": [
      "\n",
      " 30%|███       | 18/60 [02:33<05:52,  8.39s/it]\u001b[A"
     ]
    },
    {
     "name": "stdout",
     "output_type": "stream",
     "text": [
      "\n",
      " Time needed for MC Dropout-based Uncertainty Estimation   8.08586859703064\n"
     ]
    },
    {
     "name": "stderr",
     "output_type": "stream",
     "text": [
      "\n",
      " 32%|███▏      | 19/60 [02:42<05:49,  8.51s/it]\u001b[A"
     ]
    },
    {
     "name": "stdout",
     "output_type": "stream",
     "text": [
      "\n",
      " Time needed for MC Dropout-based Uncertainty Estimation   8.759547233581543\n"
     ]
    },
    {
     "name": "stderr",
     "output_type": "stream",
     "text": [
      "\n",
      " 33%|███▎      | 20/60 [02:50<05:35,  8.38s/it]\u001b[A"
     ]
    },
    {
     "name": "stdout",
     "output_type": "stream",
     "text": [
      "\n",
      " Time needed for MC Dropout-based Uncertainty Estimation   8.025912761688232\n"
     ]
    },
    {
     "name": "stderr",
     "output_type": "stream",
     "text": [
      "\n",
      " 35%|███▌      | 21/60 [02:59<05:30,  8.48s/it]\u001b[A"
     ]
    },
    {
     "name": "stdout",
     "output_type": "stream",
     "text": [
      "\n",
      " Time needed for MC Dropout-based Uncertainty Estimation   8.695314884185791\n"
     ]
    },
    {
     "name": "stderr",
     "output_type": "stream",
     "text": [
      "\n",
      " 37%|███▋      | 22/60 [03:07<05:18,  8.38s/it]\u001b[A"
     ]
    },
    {
     "name": "stdout",
     "output_type": "stream",
     "text": [
      "\n",
      " Time needed for MC Dropout-based Uncertainty Estimation   8.092028141021729\n"
     ]
    },
    {
     "name": "stderr",
     "output_type": "stream",
     "text": [
      "\n",
      " 38%|███▊      | 23/60 [03:15<05:12,  8.45s/it]\u001b[A"
     ]
    },
    {
     "name": "stdout",
     "output_type": "stream",
     "text": [
      "\n",
      " Time needed for MC Dropout-based Uncertainty Estimation   8.603951692581177\n"
     ]
    },
    {
     "name": "stderr",
     "output_type": "stream",
     "text": [
      "\n",
      " 40%|████      | 24/60 [03:24<05:01,  8.39s/it]\u001b[A"
     ]
    },
    {
     "name": "stdout",
     "output_type": "stream",
     "text": [
      "\n",
      " Time needed for MC Dropout-based Uncertainty Estimation   8.194735765457153\n"
     ]
    },
    {
     "name": "stderr",
     "output_type": "stream",
     "text": [
      "\n",
      " 42%|████▏     | 25/60 [03:32<04:55,  8.45s/it]\u001b[A"
     ]
    },
    {
     "name": "stdout",
     "output_type": "stream",
     "text": [
      "\n",
      " Time needed for MC Dropout-based Uncertainty Estimation   8.571971654891968\n"
     ]
    },
    {
     "name": "stderr",
     "output_type": "stream",
     "text": [
      "\n",
      " 43%|████▎     | 26/60 [03:40<04:44,  8.36s/it]\u001b[A"
     ]
    },
    {
     "name": "stdout",
     "output_type": "stream",
     "text": [
      "\n",
      " Time needed for MC Dropout-based Uncertainty Estimation   8.104278087615967\n"
     ]
    },
    {
     "name": "stderr",
     "output_type": "stream",
     "text": [
      "\n",
      " 45%|████▌     | 27/60 [03:49<04:40,  8.49s/it]\u001b[A"
     ]
    },
    {
     "name": "stdout",
     "output_type": "stream",
     "text": [
      "\n",
      " Time needed for MC Dropout-based Uncertainty Estimation   8.750760555267334\n"
     ]
    },
    {
     "name": "stderr",
     "output_type": "stream",
     "text": [
      "\n",
      " 47%|████▋     | 28/60 [03:57<04:28,  8.39s/it]\u001b[A"
     ]
    },
    {
     "name": "stdout",
     "output_type": "stream",
     "text": [
      "\n",
      " Time needed for MC Dropout-based Uncertainty Estimation   8.13771104812622\n"
     ]
    },
    {
     "name": "stderr",
     "output_type": "stream",
     "text": [
      "\n",
      " 48%|████▊     | 29/60 [04:06<04:22,  8.46s/it]\u001b[A"
     ]
    },
    {
     "name": "stdout",
     "output_type": "stream",
     "text": [
      "\n",
      " Time needed for MC Dropout-based Uncertainty Estimation   8.594962358474731\n"
     ]
    },
    {
     "name": "stderr",
     "output_type": "stream",
     "text": [
      "\n",
      " 50%|█████     | 30/60 [04:14<04:10,  8.35s/it]\u001b[A"
     ]
    },
    {
     "name": "stdout",
     "output_type": "stream",
     "text": [
      "\n",
      " Time needed for MC Dropout-based Uncertainty Estimation   8.063769340515137\n"
     ]
    },
    {
     "name": "stderr",
     "output_type": "stream",
     "text": [
      "\n",
      " 52%|█████▏    | 31/60 [04:23<04:04,  8.45s/it]\u001b[A"
     ]
    },
    {
     "name": "stdout",
     "output_type": "stream",
     "text": [
      "\n",
      " Time needed for MC Dropout-based Uncertainty Estimation   8.635765790939331\n"
     ]
    },
    {
     "name": "stderr",
     "output_type": "stream",
     "text": [
      "\n",
      " 53%|█████▎    | 32/60 [04:31<03:53,  8.34s/it]\u001b[A"
     ]
    },
    {
     "name": "stdout",
     "output_type": "stream",
     "text": [
      "\n",
      " Time needed for MC Dropout-based Uncertainty Estimation   8.04645586013794\n"
     ]
    },
    {
     "name": "stderr",
     "output_type": "stream",
     "text": [
      "\n",
      " 55%|█████▌    | 33/60 [04:39<03:48,  8.46s/it]\u001b[A"
     ]
    },
    {
     "name": "stdout",
     "output_type": "stream",
     "text": [
      "\n",
      " Time needed for MC Dropout-based Uncertainty Estimation   8.719119787216187\n"
     ]
    },
    {
     "name": "stderr",
     "output_type": "stream",
     "text": [
      "\n",
      " 57%|█████▋    | 34/60 [04:48<03:37,  8.37s/it]\u001b[A"
     ]
    },
    {
     "name": "stdout",
     "output_type": "stream",
     "text": [
      "\n",
      " Time needed for MC Dropout-based Uncertainty Estimation   8.107702493667603\n"
     ]
    },
    {
     "name": "stderr",
     "output_type": "stream",
     "text": [
      "\n",
      " 58%|█████▊    | 35/60 [04:56<03:31,  8.47s/it]\u001b[A"
     ]
    },
    {
     "name": "stdout",
     "output_type": "stream",
     "text": [
      "\n",
      " Time needed for MC Dropout-based Uncertainty Estimation   8.695669412612915\n"
     ]
    },
    {
     "name": "stderr",
     "output_type": "stream",
     "text": [
      "\n",
      " 60%|██████    | 36/60 [05:04<03:20,  8.36s/it]\u001b[A"
     ]
    },
    {
     "name": "stdout",
     "output_type": "stream",
     "text": [
      "\n",
      " Time needed for MC Dropout-based Uncertainty Estimation   8.063720941543579\n"
     ]
    },
    {
     "name": "stderr",
     "output_type": "stream",
     "text": [
      "\n",
      " 62%|██████▏   | 37/60 [05:13<03:14,  8.47s/it]\u001b[A"
     ]
    },
    {
     "name": "stdout",
     "output_type": "stream",
     "text": [
      "\n",
      " Time needed for MC Dropout-based Uncertainty Estimation   8.678674459457397\n"
     ]
    },
    {
     "name": "stderr",
     "output_type": "stream",
     "text": [
      "\n",
      " 63%|██████▎   | 38/60 [05:21<03:03,  8.36s/it]\u001b[A"
     ]
    },
    {
     "name": "stdout",
     "output_type": "stream",
     "text": [
      "\n",
      " Time needed for MC Dropout-based Uncertainty Estimation   8.06907033920288\n"
     ]
    },
    {
     "name": "stderr",
     "output_type": "stream",
     "text": [
      "\n",
      " 65%|██████▌   | 39/60 [05:30<02:57,  8.46s/it]\u001b[A"
     ]
    },
    {
     "name": "stdout",
     "output_type": "stream",
     "text": [
      "\n",
      " Time needed for MC Dropout-based Uncertainty Estimation   8.650673389434814\n"
     ]
    },
    {
     "name": "stderr",
     "output_type": "stream",
     "text": [
      "\n",
      " 67%|██████▋   | 40/60 [05:38<02:46,  8.34s/it]\u001b[A"
     ]
    },
    {
     "name": "stdout",
     "output_type": "stream",
     "text": [
      "\n",
      " Time needed for MC Dropout-based Uncertainty Estimation   8.031726598739624\n"
     ]
    },
    {
     "name": "stderr",
     "output_type": "stream",
     "text": [
      "\n",
      " 68%|██████▊   | 41/60 [05:47<02:40,  8.43s/it]\u001b[A"
     ]
    },
    {
     "name": "stdout",
     "output_type": "stream",
     "text": [
      "\n",
      " Time needed for MC Dropout-based Uncertainty Estimation   8.621997594833374\n"
     ]
    },
    {
     "name": "stderr",
     "output_type": "stream",
     "text": [
      "\n",
      " 70%|███████   | 42/60 [05:55<02:29,  8.30s/it]\u001b[A"
     ]
    },
    {
     "name": "stdout",
     "output_type": "stream",
     "text": [
      "\n",
      " Time needed for MC Dropout-based Uncertainty Estimation   7.9548118114471436\n"
     ]
    },
    {
     "name": "stderr",
     "output_type": "stream",
     "text": [
      "\n",
      " 72%|███████▏  | 43/60 [06:03<02:22,  8.38s/it]\u001b[A"
     ]
    },
    {
     "name": "stdout",
     "output_type": "stream",
     "text": [
      "\n",
      " Time needed for MC Dropout-based Uncertainty Estimation   8.531371355056763\n"
     ]
    },
    {
     "name": "stderr",
     "output_type": "stream",
     "text": [
      "\n",
      " 73%|███████▎  | 44/60 [06:11<02:12,  8.29s/it]\u001b[A"
     ]
    },
    {
     "name": "stdout",
     "output_type": "stream",
     "text": [
      "\n",
      " Time needed for MC Dropout-based Uncertainty Estimation   8.040026187896729\n"
     ]
    },
    {
     "name": "stderr",
     "output_type": "stream",
     "text": [
      "\n",
      " 75%|███████▌  | 45/60 [06:20<02:06,  8.41s/it]\u001b[A"
     ]
    },
    {
     "name": "stdout",
     "output_type": "stream",
     "text": [
      "\n",
      " Time needed for MC Dropout-based Uncertainty Estimation   8.676953077316284\n"
     ]
    },
    {
     "name": "stderr",
     "output_type": "stream",
     "text": [
      "\n",
      " 77%|███████▋  | 46/60 [06:28<01:56,  8.32s/it]\u001b[A"
     ]
    },
    {
     "name": "stdout",
     "output_type": "stream",
     "text": [
      "\n",
      " Time needed for MC Dropout-based Uncertainty Estimation   8.070817232131958\n"
     ]
    },
    {
     "name": "stderr",
     "output_type": "stream",
     "text": [
      "\n",
      " 78%|███████▊  | 47/60 [06:37<01:49,  8.44s/it]\u001b[A"
     ]
    },
    {
     "name": "stdout",
     "output_type": "stream",
     "text": [
      "\n",
      " Time needed for MC Dropout-based Uncertainty Estimation   8.672499179840088\n"
     ]
    },
    {
     "name": "stderr",
     "output_type": "stream",
     "text": [
      "\n",
      " 80%|████████  | 48/60 [06:45<01:40,  8.36s/it]\u001b[A"
     ]
    },
    {
     "name": "stdout",
     "output_type": "stream",
     "text": [
      "\n",
      " Time needed for MC Dropout-based Uncertainty Estimation   8.156179666519165\n"
     ]
    },
    {
     "name": "stderr",
     "output_type": "stream",
     "text": [
      "\n",
      " 82%|████████▏ | 49/60 [06:54<01:33,  8.46s/it]\u001b[A"
     ]
    },
    {
     "name": "stdout",
     "output_type": "stream",
     "text": [
      "\n",
      " Time needed for MC Dropout-based Uncertainty Estimation   8.65848708152771\n"
     ]
    },
    {
     "name": "stderr",
     "output_type": "stream",
     "text": [
      "\n",
      " 83%|████████▎ | 50/60 [07:02<01:23,  8.39s/it]\u001b[A"
     ]
    },
    {
     "name": "stdout",
     "output_type": "stream",
     "text": [
      "\n",
      " Time needed for MC Dropout-based Uncertainty Estimation   8.18880844116211\n"
     ]
    },
    {
     "name": "stderr",
     "output_type": "stream",
     "text": [
      "\n",
      " 85%|████████▌ | 51/60 [07:11<01:16,  8.51s/it]\u001b[A"
     ]
    },
    {
     "name": "stdout",
     "output_type": "stream",
     "text": [
      "\n",
      " Time needed for MC Dropout-based Uncertainty Estimation   8.751876592636108\n"
     ]
    },
    {
     "name": "stderr",
     "output_type": "stream",
     "text": [
      "\n",
      " 87%|████████▋ | 52/60 [07:19<01:07,  8.41s/it]\u001b[A"
     ]
    },
    {
     "name": "stdout",
     "output_type": "stream",
     "text": [
      "\n",
      " Time needed for MC Dropout-based Uncertainty Estimation   8.146263360977173\n"
     ]
    },
    {
     "name": "stderr",
     "output_type": "stream",
     "text": [
      "\n",
      " 88%|████████▊ | 53/60 [07:28<00:59,  8.48s/it]\u001b[A"
     ]
    },
    {
     "name": "stdout",
     "output_type": "stream",
     "text": [
      "\n",
      " Time needed for MC Dropout-based Uncertainty Estimation   8.613864421844482\n"
     ]
    },
    {
     "name": "stderr",
     "output_type": "stream",
     "text": [
      "\n",
      " 90%|█████████ | 54/60 [07:36<00:50,  8.39s/it]\u001b[A"
     ]
    },
    {
     "name": "stdout",
     "output_type": "stream",
     "text": [
      "\n",
      " Time needed for MC Dropout-based Uncertainty Estimation   8.14137578010559\n"
     ]
    },
    {
     "name": "stderr",
     "output_type": "stream",
     "text": [
      "\n",
      " 92%|█████████▏| 55/60 [07:44<00:42,  8.48s/it]\u001b[A"
     ]
    },
    {
     "name": "stdout",
     "output_type": "stream",
     "text": [
      "\n",
      " Time needed for MC Dropout-based Uncertainty Estimation   8.654932975769043\n"
     ]
    },
    {
     "name": "stderr",
     "output_type": "stream",
     "text": [
      "\n",
      " 93%|█████████▎| 56/60 [07:53<00:33,  8.38s/it]\u001b[A"
     ]
    },
    {
     "name": "stdout",
     "output_type": "stream",
     "text": [
      "\n",
      " Time needed for MC Dropout-based Uncertainty Estimation   8.115337133407593\n"
     ]
    },
    {
     "name": "stderr",
     "output_type": "stream",
     "text": [
      "\n",
      " 95%|█████████▌| 57/60 [08:01<00:25,  8.47s/it]\u001b[A"
     ]
    },
    {
     "name": "stdout",
     "output_type": "stream",
     "text": [
      "\n",
      " Time needed for MC Dropout-based Uncertainty Estimation   8.637475967407227\n"
     ]
    },
    {
     "name": "stderr",
     "output_type": "stream",
     "text": [
      "\n",
      " 97%|█████████▋| 58/60 [08:09<00:16,  8.40s/it]\u001b[A"
     ]
    },
    {
     "name": "stdout",
     "output_type": "stream",
     "text": [
      "\n",
      " Time needed for MC Dropout-based Uncertainty Estimation   8.204655647277832\n"
     ]
    },
    {
     "name": "stderr",
     "output_type": "stream",
     "text": [
      "\n",
      " 98%|█████████▊| 59/60 [08:18<00:08,  8.50s/it]\u001b[A"
     ]
    },
    {
     "name": "stdout",
     "output_type": "stream",
     "text": [
      "\n",
      " Time needed for MC Dropout-based Uncertainty Estimation   8.704188346862793\n"
     ]
    },
    {
     "name": "stderr",
     "output_type": "stream",
     "text": [
      "\n",
      "100%|██████████| 60/60 [08:26<00:00,  8.38s/it]\u001b[A"
     ]
    },
    {
     "name": "stdout",
     "output_type": "stream",
     "text": [
      "\n",
      " Time needed for MC Dropout-based Uncertainty Estimation   8.069316387176514\n",
      "Running mode 2\n",
      "loading image  0\n",
      "loading image  1\n",
      "loading image  2\n",
      "loading image  3\n",
      "loading image  4\n",
      "loading image  5\n",
      "loading image  6\n",
      "loading image  7\n",
      "loading image  8\n",
      "loading image  9\n",
      "loading image  10\n",
      "loading image  11\n",
      "loading image  12\n",
      "loading image  13\n",
      "loading image  14\n",
      "loading image  15\n",
      "loading image  16\n",
      "loading image  17\n",
      "loading image  18\n",
      "loading image  19\n",
      "loading image  20\n",
      "loading image  21\n",
      "loading image  22\n",
      "loading image  23\n",
      "loading image  24\n",
      "loading image  25\n",
      "loading image  26\n",
      "loading image  27\n",
      "loading image  28\n",
      "loading image  29\n",
      "loading image  30\n",
      "loading image  31\n",
      "loading image  32\n",
      "loading image  33\n",
      "loading image  34\n",
      "loading image  35\n",
      "loading image  36\n",
      "loading image  37\n",
      "loading image  38\n",
      "loading image  39\n",
      "loading image  40\n",
      "loading image  41\n",
      "loading image  42\n",
      "loading image  43\n",
      "loading image  44\n",
      "loading image  45\n",
      "loading image  46\n",
      "loading image  47\n",
      "loading image  48\n",
      "loading image  49\n",
      "loading image  50\n",
      "loading image  51\n",
      "loading image  52\n",
      "loading image  53\n",
      "loading image  54\n",
      "loading image  55\n",
      "loading image  56\n",
      "loading image  57\n",
      "loading image  58\n",
      "loading image  59\n",
      "loading image  60\n",
      "loading image  61\n",
      "loading image  62\n",
      "loading image  63\n",
      "loading image  64\n",
      "loading image  65\n",
      "loading image  66\n",
      "loading image  67\n",
      "loading image  68\n",
      "loading image  69\n",
      "loading image  70\n",
      "loading image  71\n",
      "loading image  72\n",
      "loading image  73\n",
      "loading image  74\n",
      "loading image  75\n",
      "loading image  76\n",
      "loading image  77\n",
      "loading image  78\n",
      "loading image  79\n",
      "loading image  80\n",
      "loading image  81\n",
      "loading image  82\n",
      "loading image  83\n",
      "loading image  84\n",
      "loading image  85\n",
      "loading image  86\n",
      "loading image  87\n",
      "loading image  88\n",
      "loading image  89\n",
      "loading image  90\n",
      "loading image  91\n",
      "loading image  92\n",
      "loading image  93\n",
      "loading image  94\n",
      "loading image  95\n",
      "loading image  96\n",
      "loading image  97\n",
      "loading image  98\n",
      "loading image  99\n",
      "(80,) (10,) (10,)\n",
      "40\n",
      "40\n",
      "START TRAINING......:\n",
      "Training with 40 images\n",
      "Validating with 10 images\n",
      "Training Unet-mcdropout\n",
      "(40, 400, 400, 28)\n",
      "Epoch 1/80\n",
      " - 6s - loss: 0.5537 - accuracy: 0.7518 - val_loss: 0.6527 - val_accuracy: 0.8843\n",
      "\n",
      "Epoch 00001: val_loss improved from inf to 0.65275, saving model to ./trained_models/unet_div8_495K_40.hdf5\n",
      "Epoch 2/80\n",
      " - 2s - loss: 0.4548 - accuracy: 0.8303 - val_loss: 0.5061 - val_accuracy: 0.8828\n",
      "\n",
      "Epoch 00002: val_loss improved from 0.65275 to 0.50612, saving model to ./trained_models/unet_div8_495K_40.hdf5\n",
      "Epoch 3/80\n",
      " - 5s - loss: 0.3982 - accuracy: 0.8534 - val_loss: 0.4541 - val_accuracy: 0.8846\n",
      "\n",
      "Epoch 00003: val_loss improved from 0.50612 to 0.45411, saving model to ./trained_models/unet_div8_495K_40.hdf5\n",
      "Epoch 4/80\n",
      " - 5s - loss: 0.3604 - accuracy: 0.8764 - val_loss: 0.4678 - val_accuracy: 0.7987\n",
      "\n",
      "Epoch 00004: val_loss did not improve from 0.45411\n",
      "Epoch 5/80\n",
      " - 6s - loss: 0.3358 - accuracy: 0.8887 - val_loss: 0.4609 - val_accuracy: 0.8194\n",
      "\n",
      "Epoch 00005: val_loss did not improve from 0.45411\n",
      "Epoch 6/80\n",
      " - 6s - loss: 0.3179 - accuracy: 0.8922 - val_loss: 0.6517 - val_accuracy: 0.4634\n",
      "\n",
      "Epoch 00006: val_loss did not improve from 0.45411\n",
      "Epoch 7/80\n",
      " - 5s - loss: 0.3123 - accuracy: 0.8914 - val_loss: 0.6149 - val_accuracy: 0.5000\n",
      "\n",
      "Epoch 00007: val_loss did not improve from 0.45411\n",
      "Epoch 8/80\n",
      " - 6s - loss: 0.2927 - accuracy: 0.8944 - val_loss: 0.6015 - val_accuracy: 0.5032\n",
      "\n",
      "Epoch 00008: val_loss did not improve from 0.45411\n",
      "Epoch 9/80\n",
      " - 5s - loss: 0.2918 - accuracy: 0.8906 - val_loss: 0.5780 - val_accuracy: 0.5280\n",
      "\n",
      "Epoch 00009: val_loss did not improve from 0.45411\n",
      "Epoch 10/80\n",
      " - 5s - loss: 0.2802 - accuracy: 0.8930 - val_loss: 0.5510 - val_accuracy: 0.5968\n",
      "\n",
      "Epoch 00010: val_loss did not improve from 0.45411\n",
      "Epoch 11/80\n",
      " - 6s - loss: 0.2718 - accuracy: 0.8924 - val_loss: 0.5886 - val_accuracy: 0.5329\n",
      "\n",
      "Epoch 00011: val_loss did not improve from 0.45411\n",
      "Epoch 12/80\n",
      " - 7s - loss: 0.2600 - accuracy: 0.8973 - val_loss: 0.5268 - val_accuracy: 0.6316\n",
      "\n",
      "Epoch 00012: val_loss did not improve from 0.45411\n",
      "Epoch 13/80\n",
      " - 5s - loss: 0.2533 - accuracy: 0.8984 - val_loss: 0.6241 - val_accuracy: 0.4807\n",
      "\n",
      "Epoch 00013: val_loss did not improve from 0.45411\n",
      "Epoch 14/80\n",
      " - 6s - loss: 0.2478 - accuracy: 0.8993 - val_loss: 0.5524 - val_accuracy: 0.5925\n",
      "\n",
      "Epoch 00014: val_loss did not improve from 0.45411\n",
      "Epoch 15/80\n",
      " - 6s - loss: 0.2409 - accuracy: 0.9019 - val_loss: 0.5400 - val_accuracy: 0.5951\n"
     ]
    },
    {
     "name": "stderr",
     "output_type": "stream",
     "text": [
      "\n",
      "  0%|          | 0/40 [00:00<?, ?it/s]\u001b[A"
     ]
    },
    {
     "name": "stdout",
     "output_type": "stream",
     "text": [
      "\n",
      "Epoch 00015: val_loss did not improve from 0.45411\n"
     ]
    },
    {
     "name": "stderr",
     "output_type": "stream",
     "text": [
      "\n",
      "  2%|▎         | 1/40 [00:19<12:25, 19.10s/it]\u001b[A"
     ]
    },
    {
     "name": "stdout",
     "output_type": "stream",
     "text": [
      "\n",
      " Time needed for MC Dropout-based Uncertainty Estimation   19.08668088912964\n"
     ]
    },
    {
     "name": "stderr",
     "output_type": "stream",
     "text": [
      "\n",
      "  5%|▌         | 2/40 [00:39<12:16, 19.39s/it]\u001b[A"
     ]
    },
    {
     "name": "stdout",
     "output_type": "stream",
     "text": [
      "\n",
      " Time needed for MC Dropout-based Uncertainty Estimation   20.01007866859436\n"
     ]
    },
    {
     "name": "stderr",
     "output_type": "stream",
     "text": [
      "\n",
      "  8%|▊         | 3/40 [00:59<12:03, 19.57s/it]\u001b[A"
     ]
    },
    {
     "name": "stdout",
     "output_type": "stream",
     "text": [
      "\n",
      " Time needed for MC Dropout-based Uncertainty Estimation   19.948686361312866\n"
     ]
    },
    {
     "name": "stderr",
     "output_type": "stream",
     "text": [
      "\n",
      " 10%|█         | 4/40 [01:19<11:51, 19.78s/it]\u001b[A"
     ]
    },
    {
     "name": "stdout",
     "output_type": "stream",
     "text": [
      "\n",
      " Time needed for MC Dropout-based Uncertainty Estimation   20.233541250228882\n"
     ]
    },
    {
     "name": "stderr",
     "output_type": "stream",
     "text": [
      "\n",
      " 12%|█▎        | 5/40 [01:39<11:36, 19.89s/it]\u001b[A"
     ]
    },
    {
     "name": "stdout",
     "output_type": "stream",
     "text": [
      "\n",
      " Time needed for MC Dropout-based Uncertainty Estimation   20.132640600204468\n"
     ]
    },
    {
     "name": "stderr",
     "output_type": "stream",
     "text": [
      "\n",
      " 15%|█▌        | 6/40 [01:59<11:18, 19.97s/it]\u001b[A"
     ]
    },
    {
     "name": "stdout",
     "output_type": "stream",
     "text": [
      "\n",
      " Time needed for MC Dropout-based Uncertainty Estimation   20.105253219604492\n"
     ]
    },
    {
     "name": "stderr",
     "output_type": "stream",
     "text": [
      "\n",
      " 18%|█▊        | 7/40 [02:19<10:58, 19.96s/it]\u001b[A"
     ]
    },
    {
     "name": "stdout",
     "output_type": "stream",
     "text": [
      "\n",
      " Time needed for MC Dropout-based Uncertainty Estimation   19.91543483734131\n"
     ]
    },
    {
     "name": "stderr",
     "output_type": "stream",
     "text": [
      "\n",
      " 20%|██        | 8/40 [02:39<10:40, 20.00s/it]\u001b[A"
     ]
    },
    {
     "name": "stdout",
     "output_type": "stream",
     "text": [
      "\n",
      " Time needed for MC Dropout-based Uncertainty Estimation   20.05700445175171\n"
     ]
    },
    {
     "name": "stderr",
     "output_type": "stream",
     "text": [
      "\n",
      " 22%|██▎       | 9/40 [02:59<10:20, 20.02s/it]\u001b[A"
     ]
    },
    {
     "name": "stdout",
     "output_type": "stream",
     "text": [
      "\n",
      " Time needed for MC Dropout-based Uncertainty Estimation   20.02940559387207\n"
     ]
    },
    {
     "name": "stderr",
     "output_type": "stream",
     "text": [
      "\n",
      " 25%|██▌       | 10/40 [03:19<10:00, 20.02s/it]\u001b[A"
     ]
    },
    {
     "name": "stdout",
     "output_type": "stream",
     "text": [
      "\n",
      " Time needed for MC Dropout-based Uncertainty Estimation   19.96863317489624\n"
     ]
    },
    {
     "name": "stderr",
     "output_type": "stream",
     "text": [
      "\n",
      " 28%|██▊       | 11/40 [03:39<09:41, 20.04s/it]\u001b[A"
     ]
    },
    {
     "name": "stdout",
     "output_type": "stream",
     "text": [
      "\n",
      " Time needed for MC Dropout-based Uncertainty Estimation   20.06643295288086\n"
     ]
    },
    {
     "name": "stderr",
     "output_type": "stream",
     "text": [
      "\n",
      " 30%|███       | 12/40 [04:00<09:22, 20.08s/it]\u001b[A"
     ]
    },
    {
     "name": "stdout",
     "output_type": "stream",
     "text": [
      "\n",
      " Time needed for MC Dropout-based Uncertainty Estimation   20.13096261024475\n"
     ]
    },
    {
     "name": "stderr",
     "output_type": "stream",
     "text": [
      "\n",
      " 32%|███▎      | 13/40 [04:20<09:03, 20.12s/it]\u001b[A"
     ]
    },
    {
     "name": "stdout",
     "output_type": "stream",
     "text": [
      "\n",
      " Time needed for MC Dropout-based Uncertainty Estimation   20.192654609680176\n"
     ]
    },
    {
     "name": "stderr",
     "output_type": "stream",
     "text": [
      "\n",
      " 35%|███▌      | 14/40 [04:40<08:43, 20.12s/it]\u001b[A"
     ]
    },
    {
     "name": "stdout",
     "output_type": "stream",
     "text": [
      "\n",
      " Time needed for MC Dropout-based Uncertainty Estimation   20.07679009437561\n"
     ]
    },
    {
     "name": "stderr",
     "output_type": "stream",
     "text": [
      "\n",
      " 38%|███▊      | 15/40 [05:00<08:22, 20.10s/it]\u001b[A"
     ]
    },
    {
     "name": "stdout",
     "output_type": "stream",
     "text": [
      "\n",
      " Time needed for MC Dropout-based Uncertainty Estimation   20.001600980758667\n"
     ]
    },
    {
     "name": "stderr",
     "output_type": "stream",
     "text": [
      "\n",
      " 40%|████      | 16/40 [05:20<08:01, 20.07s/it]\u001b[A"
     ]
    },
    {
     "name": "stdout",
     "output_type": "stream",
     "text": [
      "\n",
      " Time needed for MC Dropout-based Uncertainty Estimation   19.984652757644653\n"
     ]
    },
    {
     "name": "stderr",
     "output_type": "stream",
     "text": [
      "\n",
      " 42%|████▎     | 17/40 [05:40<07:41, 20.07s/it]\u001b[A"
     ]
    },
    {
     "name": "stdout",
     "output_type": "stream",
     "text": [
      "\n",
      " Time needed for MC Dropout-based Uncertainty Estimation   20.025869607925415\n"
     ]
    },
    {
     "name": "stderr",
     "output_type": "stream",
     "text": [
      "\n",
      " 45%|████▌     | 18/40 [06:00<07:20, 20.02s/it]\u001b[A"
     ]
    },
    {
     "name": "stdout",
     "output_type": "stream",
     "text": [
      "\n",
      " Time needed for MC Dropout-based Uncertainty Estimation   19.85783576965332\n"
     ]
    },
    {
     "name": "stderr",
     "output_type": "stream",
     "text": [
      "\n",
      " 48%|████▊     | 19/40 [06:20<07:00, 20.02s/it]\u001b[A"
     ]
    },
    {
     "name": "stdout",
     "output_type": "stream",
     "text": [
      "\n",
      " Time needed for MC Dropout-based Uncertainty Estimation   20.004095792770386\n"
     ]
    },
    {
     "name": "stderr",
     "output_type": "stream",
     "text": [
      "\n",
      " 50%|█████     | 20/40 [06:40<06:41, 20.06s/it]\u001b[A"
     ]
    },
    {
     "name": "stdout",
     "output_type": "stream",
     "text": [
      "\n",
      " Time needed for MC Dropout-based Uncertainty Estimation   20.111778497695923\n"
     ]
    },
    {
     "name": "stderr",
     "output_type": "stream",
     "text": [
      "\n",
      " 52%|█████▎    | 21/40 [07:00<06:20, 20.04s/it]\u001b[A"
     ]
    },
    {
     "name": "stdout",
     "output_type": "stream",
     "text": [
      "\n",
      " Time needed for MC Dropout-based Uncertainty Estimation   19.96124267578125\n"
     ]
    },
    {
     "name": "stderr",
     "output_type": "stream",
     "text": [
      "\n",
      " 55%|█████▌    | 22/40 [07:20<06:00, 20.04s/it]\u001b[A"
     ]
    },
    {
     "name": "stdout",
     "output_type": "stream",
     "text": [
      "\n",
      " Time needed for MC Dropout-based Uncertainty Estimation   20.006243467330933\n"
     ]
    },
    {
     "name": "stderr",
     "output_type": "stream",
     "text": [
      "\n",
      " 57%|█████▊    | 23/40 [07:40<05:40, 20.04s/it]\u001b[A"
     ]
    },
    {
     "name": "stdout",
     "output_type": "stream",
     "text": [
      "\n",
      " Time needed for MC Dropout-based Uncertainty Estimation   20.006258726119995\n"
     ]
    },
    {
     "name": "stderr",
     "output_type": "stream",
     "text": [
      "\n",
      " 60%|██████    | 24/40 [08:00<05:20, 20.04s/it]\u001b[A"
     ]
    },
    {
     "name": "stdout",
     "output_type": "stream",
     "text": [
      "\n",
      " Time needed for MC Dropout-based Uncertainty Estimation   20.008232593536377\n"
     ]
    },
    {
     "name": "stderr",
     "output_type": "stream",
     "text": [
      "\n",
      " 62%|██████▎   | 25/40 [08:20<05:01, 20.08s/it]\u001b[A"
     ]
    },
    {
     "name": "stdout",
     "output_type": "stream",
     "text": [
      "\n",
      " Time needed for MC Dropout-based Uncertainty Estimation   20.141385078430176\n"
     ]
    },
    {
     "name": "stderr",
     "output_type": "stream",
     "text": [
      "\n",
      " 65%|██████▌   | 26/40 [08:41<04:41, 20.09s/it]\u001b[A"
     ]
    },
    {
     "name": "stdout",
     "output_type": "stream",
     "text": [
      "\n",
      " Time needed for MC Dropout-based Uncertainty Estimation   20.06304907798767\n"
     ]
    },
    {
     "name": "stderr",
     "output_type": "stream",
     "text": [
      "\n",
      " 68%|██████▊   | 27/40 [09:01<04:21, 20.11s/it]\u001b[A"
     ]
    },
    {
     "name": "stdout",
     "output_type": "stream",
     "text": [
      "\n",
      " Time needed for MC Dropout-based Uncertainty Estimation   20.12656021118164\n"
     ]
    },
    {
     "name": "stderr",
     "output_type": "stream",
     "text": [
      "\n",
      " 70%|███████   | 28/40 [09:21<04:01, 20.10s/it]\u001b[A"
     ]
    },
    {
     "name": "stdout",
     "output_type": "stream",
     "text": [
      "\n",
      " Time needed for MC Dropout-based Uncertainty Estimation   20.039175271987915\n"
     ]
    },
    {
     "name": "stderr",
     "output_type": "stream",
     "text": [
      "\n",
      " 72%|███████▎  | 29/40 [09:41<03:40, 20.06s/it]\u001b[A"
     ]
    },
    {
     "name": "stdout",
     "output_type": "stream",
     "text": [
      "\n",
      " Time needed for MC Dropout-based Uncertainty Estimation   19.943085193634033\n"
     ]
    },
    {
     "name": "stderr",
     "output_type": "stream",
     "text": [
      "\n",
      " 75%|███████▌  | 30/40 [10:01<03:20, 20.02s/it]\u001b[A"
     ]
    },
    {
     "name": "stdout",
     "output_type": "stream",
     "text": [
      "\n",
      " Time needed for MC Dropout-based Uncertainty Estimation   19.86552596092224\n"
     ]
    },
    {
     "name": "stderr",
     "output_type": "stream",
     "text": [
      "\n",
      " 78%|███████▊  | 31/40 [10:21<03:00, 20.01s/it]\u001b[A"
     ]
    },
    {
     "name": "stdout",
     "output_type": "stream",
     "text": [
      "\n",
      " Time needed for MC Dropout-based Uncertainty Estimation   19.967902660369873\n"
     ]
    },
    {
     "name": "stderr",
     "output_type": "stream",
     "text": [
      "\n",
      " 80%|████████  | 32/40 [10:41<02:40, 20.05s/it]\u001b[A"
     ]
    },
    {
     "name": "stdout",
     "output_type": "stream",
     "text": [
      "\n",
      " Time needed for MC Dropout-based Uncertainty Estimation   20.089569091796875\n"
     ]
    },
    {
     "name": "stderr",
     "output_type": "stream",
     "text": [
      "\n",
      " 82%|████████▎ | 33/40 [11:01<02:20, 20.03s/it]\u001b[A"
     ]
    },
    {
     "name": "stdout",
     "output_type": "stream",
     "text": [
      "\n",
      " Time needed for MC Dropout-based Uncertainty Estimation   19.951459407806396\n"
     ]
    },
    {
     "name": "stderr",
     "output_type": "stream",
     "text": [
      "\n",
      " 85%|████████▌ | 34/40 [11:21<02:00, 20.07s/it]\u001b[A"
     ]
    },
    {
     "name": "stdout",
     "output_type": "stream",
     "text": [
      "\n",
      " Time needed for MC Dropout-based Uncertainty Estimation   20.13432788848877\n"
     ]
    },
    {
     "name": "stderr",
     "output_type": "stream",
     "text": [
      "\n",
      " 88%|████████▊ | 35/40 [11:41<01:40, 20.10s/it]\u001b[A"
     ]
    },
    {
     "name": "stdout",
     "output_type": "stream",
     "text": [
      "\n",
      " Time needed for MC Dropout-based Uncertainty Estimation   20.118256330490112\n"
     ]
    },
    {
     "name": "stderr",
     "output_type": "stream",
     "text": [
      "\n",
      " 90%|█████████ | 36/40 [12:01<01:20, 20.06s/it]\u001b[A"
     ]
    },
    {
     "name": "stdout",
     "output_type": "stream",
     "text": [
      "\n",
      " Time needed for MC Dropout-based Uncertainty Estimation   19.951958894729614\n"
     ]
    },
    {
     "name": "stderr",
     "output_type": "stream",
     "text": [
      "\n",
      " 92%|█████████▎| 37/40 [12:21<01:00, 20.07s/it]\u001b[A"
     ]
    },
    {
     "name": "stdout",
     "output_type": "stream",
     "text": [
      "\n",
      " Time needed for MC Dropout-based Uncertainty Estimation   20.04420304298401\n"
     ]
    },
    {
     "name": "stderr",
     "output_type": "stream",
     "text": [
      "\n",
      " 95%|█████████▌| 38/40 [12:41<00:40, 20.10s/it]\u001b[A"
     ]
    },
    {
     "name": "stdout",
     "output_type": "stream",
     "text": [
      "\n",
      " Time needed for MC Dropout-based Uncertainty Estimation   20.124914169311523\n"
     ]
    },
    {
     "name": "stderr",
     "output_type": "stream",
     "text": [
      "\n",
      " 98%|█████████▊| 39/40 [13:01<00:20, 20.10s/it]\u001b[A"
     ]
    },
    {
     "name": "stdout",
     "output_type": "stream",
     "text": [
      "\n",
      " Time needed for MC Dropout-based Uncertainty Estimation   20.0684175491333\n"
     ]
    },
    {
     "name": "stderr",
     "output_type": "stream",
     "text": [
      "\n",
      "100%|██████████| 40/40 [13:21<00:00, 20.06s/it]\u001b[A\n",
      "  0%|          | 0/10 [00:00<?, ?it/s]\u001b[A"
     ]
    },
    {
     "name": "stdout",
     "output_type": "stream",
     "text": [
      "\n",
      " Time needed for MC Dropout-based Uncertainty Estimation   19.932941198349\n"
     ]
    },
    {
     "name": "stderr",
     "output_type": "stream",
     "text": [
      "\n",
      " 10%|█         | 1/10 [00:05<00:45,  5.00s/it]\u001b[A"
     ]
    },
    {
     "name": "stdout",
     "output_type": "stream",
     "text": [
      "\n",
      " Time needed for MC Dropout-based Uncertainty Estimation   5.000988483428955\n"
     ]
    },
    {
     "name": "stderr",
     "output_type": "stream",
     "text": [
      "\n",
      " 20%|██        | 2/10 [00:10<00:41,  5.13s/it]\u001b[A"
     ]
    },
    {
     "name": "stdout",
     "output_type": "stream",
     "text": [
      "\n",
      " Time needed for MC Dropout-based Uncertainty Estimation   5.409234046936035\n"
     ]
    },
    {
     "name": "stderr",
     "output_type": "stream",
     "text": [
      "\n",
      " 30%|███       | 3/10 [00:15<00:36,  5.22s/it]\u001b[A"
     ]
    },
    {
     "name": "stdout",
     "output_type": "stream",
     "text": [
      "\n",
      " Time needed for MC Dropout-based Uncertainty Estimation   5.416435480117798\n"
     ]
    },
    {
     "name": "stderr",
     "output_type": "stream",
     "text": [
      "\n",
      " 40%|████      | 4/10 [00:21<00:31,  5.28s/it]\u001b[A"
     ]
    },
    {
     "name": "stdout",
     "output_type": "stream",
     "text": [
      "\n",
      " Time needed for MC Dropout-based Uncertainty Estimation   5.403278589248657\n"
     ]
    },
    {
     "name": "stderr",
     "output_type": "stream",
     "text": [
      "\n",
      " 50%|█████     | 5/10 [00:26<00:26,  5.32s/it]\u001b[A"
     ]
    },
    {
     "name": "stdout",
     "output_type": "stream",
     "text": [
      "\n",
      " Time needed for MC Dropout-based Uncertainty Estimation   5.407262086868286\n"
     ]
    },
    {
     "name": "stderr",
     "output_type": "stream",
     "text": [
      "\n",
      " 60%|██████    | 6/10 [00:32<00:21,  5.35s/it]\u001b[A"
     ]
    },
    {
     "name": "stdout",
     "output_type": "stream",
     "text": [
      "\n",
      " Time needed for MC Dropout-based Uncertainty Estimation   5.403594255447388\n"
     ]
    },
    {
     "name": "stderr",
     "output_type": "stream",
     "text": [
      "\n",
      " 70%|███████   | 7/10 [00:37<00:16,  5.37s/it]\u001b[A"
     ]
    },
    {
     "name": "stdout",
     "output_type": "stream",
     "text": [
      "\n",
      " Time needed for MC Dropout-based Uncertainty Estimation   5.420034646987915\n"
     ]
    },
    {
     "name": "stderr",
     "output_type": "stream",
     "text": [
      "\n",
      " 80%|████████  | 8/10 [00:42<00:10,  5.39s/it]\u001b[A"
     ]
    },
    {
     "name": "stdout",
     "output_type": "stream",
     "text": [
      "\n",
      " Time needed for MC Dropout-based Uncertainty Estimation   5.410836935043335\n"
     ]
    },
    {
     "name": "stderr",
     "output_type": "stream",
     "text": [
      "\n",
      " 90%|█████████ | 9/10 [00:48<00:05,  5.40s/it]\u001b[A"
     ]
    },
    {
     "name": "stdout",
     "output_type": "stream",
     "text": [
      "\n",
      " Time needed for MC Dropout-based Uncertainty Estimation   5.402850866317749\n"
     ]
    },
    {
     "name": "stderr",
     "output_type": "stream",
     "text": [
      "\n",
      "100%|██████████| 10/10 [00:53<00:00,  5.40s/it]\u001b[A"
     ]
    },
    {
     "name": "stdout",
     "output_type": "stream",
     "text": [
      "\n",
      " Time needed for MC Dropout-based Uncertainty Estimation   5.4064040184021\n",
      "Model: \"model_2\"\n",
      "_________________________________________________________________\n",
      "Layer (type)                 Output Shape              Param #   \n",
      "=================================================================\n",
      "input (InputLayer)           (None, 400, 400, 30)      0         \n",
      "_________________________________________________________________\n",
      "conv2d_11 (Conv2D)           (None, 400, 400, 32)      8672      \n",
      "_________________________________________________________________\n",
      "batch_normalization_19 (Batc (None, 400, 400, 32)      128       \n",
      "_________________________________________________________________\n",
      "activation_19 (Activation)   (None, 400, 400, 32)      0         \n",
      "_________________________________________________________________\n",
      "conv2d_12 (Conv2D)           (None, 400, 400, 32)      9248      \n",
      "_________________________________________________________________\n",
      "batch_normalization_20 (Batc (None, 400, 400, 32)      128       \n",
      "_________________________________________________________________\n",
      "activation_20 (Activation)   (None, 400, 400, 32)      0         \n",
      "_________________________________________________________________\n",
      "max_pooling2d_5 (MaxPooling2 (None, 200, 200, 32)      0         \n",
      "_________________________________________________________________\n",
      "conv2d_13 (Conv2D)           (None, 200, 200, 64)      18496     \n",
      "_________________________________________________________________\n",
      "batch_normalization_21 (Batc (None, 200, 200, 64)      256       \n",
      "_________________________________________________________________\n",
      "activation_21 (Activation)   (None, 200, 200, 64)      0         \n",
      "_________________________________________________________________\n",
      "conv2d_14 (Conv2D)           (None, 200, 200, 64)      36928     \n",
      "_________________________________________________________________\n",
      "batch_normalization_22 (Batc (None, 200, 200, 64)      256       \n",
      "_________________________________________________________________\n",
      "activation_22 (Activation)   (None, 200, 200, 64)      0         \n",
      "_________________________________________________________________\n",
      "max_pooling2d_6 (MaxPooling2 (None, 100, 100, 64)      0         \n",
      "_________________________________________________________________\n",
      "conv2d_15 (Conv2D)           (None, 100, 100, 128)     73856     \n",
      "_________________________________________________________________\n",
      "batch_normalization_23 (Batc (None, 100, 100, 128)     512       \n",
      "_________________________________________________________________\n",
      "activation_23 (Activation)   (None, 100, 100, 128)     0         \n",
      "_________________________________________________________________\n",
      "conv2d_16 (Conv2D)           (None, 100, 100, 128)     147584    \n",
      "_________________________________________________________________\n",
      "batch_normalization_24 (Batc (None, 100, 100, 128)     512       \n",
      "_________________________________________________________________\n",
      "activation_24 (Activation)   (None, 100, 100, 128)     0         \n",
      "_________________________________________________________________\n",
      "max_pooling2d_7 (MaxPooling2 (None, 50, 50, 128)       0         \n",
      "_________________________________________________________________\n",
      "conv2d_17 (Conv2D)           (None, 50, 50, 256)       295168    \n",
      "_________________________________________________________________\n",
      "batch_normalization_25 (Batc (None, 50, 50, 256)       1024      \n",
      "_________________________________________________________________\n",
      "activation_25 (Activation)   (None, 50, 50, 256)       0         \n",
      "_________________________________________________________________\n",
      "conv2d_18 (Conv2D)           (None, 50, 50, 256)       590080    \n",
      "_________________________________________________________________\n",
      "batch_normalization_26 (Batc (None, 50, 50, 256)       1024      \n",
      "_________________________________________________________________\n",
      "activation_26 (Activation)   (None, 50, 50, 256)       0         \n",
      "_________________________________________________________________\n",
      "global_average_pooling2d_1 ( (None, 256)               0         \n",
      "_________________________________________________________________\n",
      "dense_2 (Dense)              (None, 1)                 257       \n",
      "_________________________________________________________________\n",
      "output (Activation)          (None, 1)                 0         \n",
      "=================================================================\n",
      "Total params: 1,184,129\n",
      "Trainable params: 1,182,209\n",
      "Non-trainable params: 1,920\n",
      "_________________________________________________________________\n",
      "(40, 1)\n",
      "Train on 40 samples, validate on 10 samples\n",
      "Epoch 1/60\n",
      " - 5s - loss: 0.0229 - val_loss: 0.0324\n",
      "\n",
      "Epoch 00001: val_loss improved from inf to 0.03238, saving model to ./trained_models/unet_div8_495K_40_DiceNet.hdf5\n",
      "Epoch 2/60\n",
      " - 2s - loss: 0.0982 - val_loss: 0.0294\n",
      "\n",
      "Epoch 00002: val_loss improved from 0.03238 to 0.02942, saving model to ./trained_models/unet_div8_495K_40_DiceNet.hdf5\n",
      "Epoch 3/60\n",
      " - 2s - loss: 0.0159 - val_loss: 0.0321\n",
      "\n",
      "Epoch 00003: val_loss did not improve from 0.02942\n",
      "Epoch 4/60\n",
      " - 2s - loss: 0.0148 - val_loss: 0.0325\n",
      "\n",
      "Epoch 00004: val_loss did not improve from 0.02942\n",
      "Epoch 5/60\n",
      " - 2s - loss: 0.0139 - val_loss: 0.0309\n",
      "\n",
      "Epoch 00005: val_loss did not improve from 0.02942\n",
      "Epoch 6/60\n",
      " - 2s - loss: 0.0124 - val_loss: 0.0282\n",
      "\n",
      "Epoch 00006: val_loss improved from 0.02942 to 0.02816, saving model to ./trained_models/unet_div8_495K_40_DiceNet.hdf5\n",
      "Epoch 7/60\n",
      " - 2s - loss: 0.0116 - val_loss: 0.0215\n",
      "\n",
      "Epoch 00007: val_loss improved from 0.02816 to 0.02154, saving model to ./trained_models/unet_div8_495K_40_DiceNet.hdf5\n",
      "Epoch 8/60\n",
      " - 2s - loss: 0.0134 - val_loss: 0.0161\n",
      "\n",
      "Epoch 00008: val_loss improved from 0.02154 to 0.01610, saving model to ./trained_models/unet_div8_495K_40_DiceNet.hdf5\n",
      "Epoch 9/60\n",
      " - 2s - loss: 0.0142 - val_loss: 0.0134\n",
      "\n",
      "Epoch 00009: val_loss improved from 0.01610 to 0.01340, saving model to ./trained_models/unet_div8_495K_40_DiceNet.hdf5\n",
      "Epoch 10/60\n",
      " - 2s - loss: 0.0143 - val_loss: 0.0120\n",
      "\n",
      "Epoch 00010: val_loss improved from 0.01340 to 0.01199, saving model to ./trained_models/unet_div8_495K_40_DiceNet.hdf5\n",
      "Epoch 11/60\n",
      " - 2s - loss: 0.0128 - val_loss: 0.0118\n",
      "\n",
      "Epoch 00011: val_loss improved from 0.01199 to 0.01177, saving model to ./trained_models/unet_div8_495K_40_DiceNet.hdf5\n",
      "Epoch 12/60\n",
      " - 2s - loss: 0.0124 - val_loss: 0.0125\n",
      "\n",
      "Epoch 00012: val_loss did not improve from 0.01177\n",
      "Epoch 13/60\n",
      " - 2s - loss: 0.0106 - val_loss: 0.0132\n",
      "\n",
      "Epoch 00013: val_loss did not improve from 0.01177\n",
      "Epoch 14/60\n",
      " - 2s - loss: 0.0109 - val_loss: 0.0153\n",
      "\n",
      "Epoch 00014: val_loss did not improve from 0.01177\n",
      "Epoch 15/60\n",
      " - 2s - loss: 0.0131 - val_loss: 0.0181\n",
      "\n",
      "Epoch 00015: val_loss did not improve from 0.01177\n",
      "Epoch 16/60\n",
      " - 2s - loss: 0.0105 - val_loss: 0.0228\n",
      "\n",
      "Epoch 00016: val_loss did not improve from 0.01177\n",
      "Epoch 17/60\n",
      " - 2s - loss: 0.0091 - val_loss: 0.0270\n",
      "\n",
      "Epoch 00017: val_loss did not improve from 0.01177\n",
      "Epoch 18/60\n",
      " - 2s - loss: 0.0086 - val_loss: 0.0277\n",
      "\n",
      "Epoch 00018: val_loss did not improve from 0.01177\n",
      "Epoch 19/60\n",
      " - 2s - loss: 0.0089 - val_loss: 0.0247\n",
      "\n",
      "Epoch 00019: val_loss did not improve from 0.01177\n",
      "Epoch 20/60\n",
      " - 2s - loss: 0.0076 - val_loss: 0.0206\n",
      "\n",
      "Epoch 00020: val_loss did not improve from 0.01177\n",
      "Epoch 21/60\n",
      " - 2s - loss: 0.0086 - val_loss: 0.0166\n",
      "\n",
      "Epoch 00021: val_loss did not improve from 0.01177\n",
      "Epoch 22/60\n",
      " - 2s - loss: 0.0074 - val_loss: 0.0149\n",
      "\n",
      "Epoch 00022: val_loss did not improve from 0.01177\n",
      "Epoch 23/60\n",
      " - 2s - loss: 0.0068 - val_loss: 0.0158\n",
      "\n",
      "Epoch 00023: val_loss did not improve from 0.01177\n",
      "False\n",
      "False\n",
      "START EVALUATION......:\n",
      "(10, 400, 400, 28)\n",
      "Loading model: ./trained_models/unet_div8_495K_40.hdf5\n"
     ]
    },
    {
     "name": "stderr",
     "output_type": "stream",
     "text": [
      "\n",
      "  0%|          | 0/10 [00:00<?, ?it/s]\u001b[A\n",
      " 10%|█         | 1/10 [00:02<00:21,  2.33s/it]\u001b[A"
     ]
    },
    {
     "name": "stdout",
     "output_type": "stream",
     "text": [
      "\n",
      " Time needed for MC Dropout-based Uncertainty Estimation   2.3301472663879395\n"
     ]
    },
    {
     "name": "stderr",
     "output_type": "stream",
     "text": [
      "\n",
      " 20%|██        | 2/10 [00:03<00:16,  2.04s/it]\u001b[A"
     ]
    },
    {
     "name": "stdout",
     "output_type": "stream",
     "text": [
      "\n",
      " Time needed for MC Dropout-based Uncertainty Estimation   1.331052303314209\n"
     ]
    },
    {
     "name": "stderr",
     "output_type": "stream",
     "text": [
      "\n",
      " 30%|███       | 3/10 [00:04<00:12,  1.82s/it]\u001b[A"
     ]
    },
    {
     "name": "stdout",
     "output_type": "stream",
     "text": [
      "\n",
      " Time needed for MC Dropout-based Uncertainty Estimation   1.3081004619598389\n"
     ]
    },
    {
     "name": "stderr",
     "output_type": "stream",
     "text": [
      "\n",
      " 40%|████      | 4/10 [00:06<00:10,  1.67s/it]\u001b[A"
     ]
    },
    {
     "name": "stdout",
     "output_type": "stream",
     "text": [
      "\n",
      " Time needed for MC Dropout-based Uncertainty Estimation   1.3066294193267822\n"
     ]
    },
    {
     "name": "stderr",
     "output_type": "stream",
     "text": [
      "\n",
      " 50%|█████     | 5/10 [00:07<00:07,  1.55s/it]\u001b[A"
     ]
    },
    {
     "name": "stdout",
     "output_type": "stream",
     "text": [
      "\n",
      " Time needed for MC Dropout-based Uncertainty Estimation   1.2773921489715576\n"
     ]
    },
    {
     "name": "stderr",
     "output_type": "stream",
     "text": [
      "\n",
      " 60%|██████    | 6/10 [00:08<00:05,  1.48s/it]\u001b[A"
     ]
    },
    {
     "name": "stdout",
     "output_type": "stream",
     "text": [
      "\n",
      " Time needed for MC Dropout-based Uncertainty Estimation   1.298640489578247\n"
     ]
    },
    {
     "name": "stderr",
     "output_type": "stream",
     "text": [
      "\n",
      " 70%|███████   | 7/10 [00:10<00:04,  1.43s/it]\u001b[A"
     ]
    },
    {
     "name": "stdout",
     "output_type": "stream",
     "text": [
      "\n",
      " Time needed for MC Dropout-based Uncertainty Estimation   1.2995541095733643\n"
     ]
    },
    {
     "name": "stderr",
     "output_type": "stream",
     "text": [
      "\n",
      " 80%|████████  | 8/10 [00:11<00:02,  1.40s/it]\u001b[A"
     ]
    },
    {
     "name": "stdout",
     "output_type": "stream",
     "text": [
      "\n",
      " Time needed for MC Dropout-based Uncertainty Estimation   1.3121898174285889\n"
     ]
    },
    {
     "name": "stderr",
     "output_type": "stream",
     "text": [
      "\n",
      " 90%|█████████ | 9/10 [00:12<00:01,  1.37s/it]\u001b[A"
     ]
    },
    {
     "name": "stdout",
     "output_type": "stream",
     "text": [
      "\n",
      " Time needed for MC Dropout-based Uncertainty Estimation   1.2862987518310547\n"
     ]
    },
    {
     "name": "stderr",
     "output_type": "stream",
     "text": [
      "\n",
      "100%|██████████| 10/10 [00:14<00:00,  1.34s/it]\u001b[A"
     ]
    },
    {
     "name": "stdout",
     "output_type": "stream",
     "text": [
      "\n",
      " Time needed for MC Dropout-based Uncertainty Estimation   1.2855002880096436\n",
      "Loading model: ./trained_models/unet_div8_495K_40_DiceNet.hdf5\n",
      "START EVALUATION......:\n",
      "(40, 400, 400, 28)\n",
      "Loading model: ./trained_models/unet_div8_495K_40.hdf5\n"
     ]
    },
    {
     "name": "stderr",
     "output_type": "stream",
     "text": [
      "\n",
      "  0%|          | 0/40 [00:00<?, ?it/s]\u001b[A\n",
      "  2%|▎         | 1/40 [00:06<04:28,  6.88s/it]\u001b[A"
     ]
    },
    {
     "name": "stdout",
     "output_type": "stream",
     "text": [
      "\n",
      " Time needed for MC Dropout-based Uncertainty Estimation   6.864096403121948\n"
     ]
    },
    {
     "name": "stderr",
     "output_type": "stream",
     "text": [
      "\n",
      "  5%|▌         | 2/40 [00:12<04:05,  6.46s/it]\u001b[A"
     ]
    },
    {
     "name": "stdout",
     "output_type": "stream",
     "text": [
      "\n",
      " Time needed for MC Dropout-based Uncertainty Estimation   5.459479570388794\n"
     ]
    },
    {
     "name": "stderr",
     "output_type": "stream",
     "text": [
      "\n",
      "  8%|▊         | 3/40 [00:18<03:51,  6.25s/it]\u001b[A"
     ]
    },
    {
     "name": "stdout",
     "output_type": "stream",
     "text": [
      "\n",
      " Time needed for MC Dropout-based Uncertainty Estimation   5.725627899169922\n"
     ]
    },
    {
     "name": "stderr",
     "output_type": "stream",
     "text": [
      "\n",
      " 10%|█         | 4/40 [00:23<03:39,  6.09s/it]\u001b[A"
     ]
    },
    {
     "name": "stdout",
     "output_type": "stream",
     "text": [
      "\n",
      " Time needed for MC Dropout-based Uncertainty Estimation   5.68328595161438\n"
     ]
    },
    {
     "name": "stderr",
     "output_type": "stream",
     "text": [
      "\n",
      " 12%|█▎        | 5/40 [00:29<03:26,  5.90s/it]\u001b[A"
     ]
    },
    {
     "name": "stdout",
     "output_type": "stream",
     "text": [
      "\n",
      " Time needed for MC Dropout-based Uncertainty Estimation   5.4445226192474365\n"
     ]
    },
    {
     "name": "stderr",
     "output_type": "stream",
     "text": [
      "\n",
      " 15%|█▌        | 6/40 [00:34<03:18,  5.84s/it]\u001b[A"
     ]
    },
    {
     "name": "stdout",
     "output_type": "stream",
     "text": [
      "\n",
      " Time needed for MC Dropout-based Uncertainty Estimation   5.681966543197632\n"
     ]
    },
    {
     "name": "stderr",
     "output_type": "stream",
     "text": [
      "\n",
      " 18%|█▊        | 7/40 [00:40<03:11,  5.81s/it]\u001b[A"
     ]
    },
    {
     "name": "stdout",
     "output_type": "stream",
     "text": [
      "\n",
      " Time needed for MC Dropout-based Uncertainty Estimation   5.717844009399414\n"
     ]
    },
    {
     "name": "stderr",
     "output_type": "stream",
     "text": [
      "\n",
      " 20%|██        | 8/40 [00:46<03:02,  5.71s/it]\u001b[A"
     ]
    },
    {
     "name": "stdout",
     "output_type": "stream",
     "text": [
      "\n",
      " Time needed for MC Dropout-based Uncertainty Estimation   5.443716287612915\n"
     ]
    },
    {
     "name": "stderr",
     "output_type": "stream",
     "text": [
      "\n",
      " 22%|██▎       | 9/40 [00:51<02:56,  5.71s/it]\u001b[A"
     ]
    },
    {
     "name": "stdout",
     "output_type": "stream",
     "text": [
      "\n",
      " Time needed for MC Dropout-based Uncertainty Estimation   5.693349361419678\n"
     ]
    },
    {
     "name": "stderr",
     "output_type": "stream",
     "text": [
      "\n",
      " 25%|██▌       | 10/40 [00:57<02:50,  5.68s/it]\u001b[A"
     ]
    },
    {
     "name": "stdout",
     "output_type": "stream",
     "text": [
      "\n",
      " Time needed for MC Dropout-based Uncertainty Estimation   5.599287271499634\n"
     ]
    },
    {
     "name": "stderr",
     "output_type": "stream",
     "text": [
      "\n",
      " 28%|██▊       | 11/40 [01:02<02:42,  5.59s/it]\u001b[A"
     ]
    },
    {
     "name": "stdout",
     "output_type": "stream",
     "text": [
      "\n",
      " Time needed for MC Dropout-based Uncertainty Estimation   5.3658623695373535\n"
     ]
    },
    {
     "name": "stderr",
     "output_type": "stream",
     "text": [
      "\n",
      " 30%|███       | 12/40 [01:08<02:37,  5.61s/it]\u001b[A"
     ]
    },
    {
     "name": "stdout",
     "output_type": "stream",
     "text": [
      "\n",
      " Time needed for MC Dropout-based Uncertainty Estimation   5.615954399108887\n"
     ]
    },
    {
     "name": "stderr",
     "output_type": "stream",
     "text": [
      "\n",
      " 32%|███▎      | 13/40 [01:14<02:31,  5.62s/it]\u001b[A"
     ]
    },
    {
     "name": "stdout",
     "output_type": "stream",
     "text": [
      "\n",
      " Time needed for MC Dropout-based Uncertainty Estimation   5.625166177749634\n"
     ]
    },
    {
     "name": "stderr",
     "output_type": "stream",
     "text": [
      "\n",
      " 35%|███▌      | 14/40 [01:19<02:23,  5.54s/it]\u001b[A"
     ]
    },
    {
     "name": "stdout",
     "output_type": "stream",
     "text": [
      "\n",
      " Time needed for MC Dropout-based Uncertainty Estimation   5.318612813949585\n"
     ]
    },
    {
     "name": "stderr",
     "output_type": "stream",
     "text": [
      "\n",
      " 38%|███▊      | 15/40 [01:25<02:19,  5.56s/it]\u001b[A"
     ]
    },
    {
     "name": "stdout",
     "output_type": "stream",
     "text": [
      "\n",
      " Time needed for MC Dropout-based Uncertainty Estimation   5.597069978713989\n"
     ]
    },
    {
     "name": "stderr",
     "output_type": "stream",
     "text": [
      "\n",
      " 40%|████      | 16/40 [01:30<02:14,  5.58s/it]\u001b[A"
     ]
    },
    {
     "name": "stdout",
     "output_type": "stream",
     "text": [
      "\n",
      " Time needed for MC Dropout-based Uncertainty Estimation   5.614413261413574\n"
     ]
    },
    {
     "name": "stderr",
     "output_type": "stream",
     "text": [
      "\n",
      " 42%|████▎     | 17/40 [01:36<02:07,  5.53s/it]\u001b[A"
     ]
    },
    {
     "name": "stdout",
     "output_type": "stream",
     "text": [
      "\n",
      " Time needed for MC Dropout-based Uncertainty Estimation   5.371729850769043\n"
     ]
    },
    {
     "name": "stderr",
     "output_type": "stream",
     "text": [
      "\n",
      " 45%|████▌     | 18/40 [01:41<02:03,  5.60s/it]\u001b[A"
     ]
    },
    {
     "name": "stdout",
     "output_type": "stream",
     "text": [
      "\n",
      " Time needed for MC Dropout-based Uncertainty Estimation   5.740890264511108\n"
     ]
    },
    {
     "name": "stderr",
     "output_type": "stream",
     "text": [
      "\n",
      " 48%|████▊     | 19/40 [01:47<01:57,  5.62s/it]\u001b[A"
     ]
    },
    {
     "name": "stdout",
     "output_type": "stream",
     "text": [
      "\n",
      " Time needed for MC Dropout-based Uncertainty Estimation   5.64434289932251\n"
     ]
    },
    {
     "name": "stderr",
     "output_type": "stream",
     "text": [
      "\n",
      " 50%|█████     | 20/40 [01:52<01:50,  5.54s/it]\u001b[A"
     ]
    },
    {
     "name": "stdout",
     "output_type": "stream",
     "text": [
      "\n",
      " Time needed for MC Dropout-based Uncertainty Estimation   5.330760478973389\n"
     ]
    },
    {
     "name": "stderr",
     "output_type": "stream",
     "text": [
      "\n",
      " 52%|█████▎    | 21/40 [01:58<01:45,  5.55s/it]\u001b[A"
     ]
    },
    {
     "name": "stdout",
     "output_type": "stream",
     "text": [
      "\n",
      " Time needed for MC Dropout-based Uncertainty Estimation   5.560696363449097\n"
     ]
    },
    {
     "name": "stderr",
     "output_type": "stream",
     "text": [
      "\n",
      " 55%|█████▌    | 22/40 [02:04<01:40,  5.57s/it]\u001b[A"
     ]
    },
    {
     "name": "stdout",
     "output_type": "stream",
     "text": [
      "\n",
      " Time needed for MC Dropout-based Uncertainty Estimation   5.579423189163208\n"
     ]
    },
    {
     "name": "stderr",
     "output_type": "stream",
     "text": [
      "\n",
      " 57%|█████▊    | 23/40 [02:09<01:33,  5.50s/it]\u001b[A"
     ]
    },
    {
     "name": "stdout",
     "output_type": "stream",
     "text": [
      "\n",
      " Time needed for MC Dropout-based Uncertainty Estimation   5.330036878585815\n"
     ]
    },
    {
     "name": "stderr",
     "output_type": "stream",
     "text": [
      "\n",
      " 60%|██████    | 24/40 [02:15<01:28,  5.51s/it]\u001b[A"
     ]
    },
    {
     "name": "stdout",
     "output_type": "stream",
     "text": [
      "\n",
      " Time needed for MC Dropout-based Uncertainty Estimation   5.510840654373169\n"
     ]
    },
    {
     "name": "stderr",
     "output_type": "stream",
     "text": [
      "\n",
      " 62%|██████▎   | 25/40 [02:20<01:23,  5.55s/it]\u001b[A"
     ]
    },
    {
     "name": "stdout",
     "output_type": "stream",
     "text": [
      "\n",
      " Time needed for MC Dropout-based Uncertainty Estimation   5.6305928230285645\n"
     ]
    },
    {
     "name": "stderr",
     "output_type": "stream",
     "text": [
      "\n",
      " 65%|██████▌   | 26/40 [02:26<01:17,  5.50s/it]\u001b[A"
     ]
    },
    {
     "name": "stdout",
     "output_type": "stream",
     "text": [
      "\n",
      " Time needed for MC Dropout-based Uncertainty Estimation   5.364197015762329\n"
     ]
    },
    {
     "name": "stderr",
     "output_type": "stream",
     "text": [
      "\n",
      " 68%|██████▊   | 27/40 [02:31<01:12,  5.55s/it]\u001b[A"
     ]
    },
    {
     "name": "stdout",
     "output_type": "stream",
     "text": [
      "\n",
      " Time needed for MC Dropout-based Uncertainty Estimation   5.648216724395752\n"
     ]
    },
    {
     "name": "stderr",
     "output_type": "stream",
     "text": [
      "\n",
      " 70%|███████   | 28/40 [02:37<01:06,  5.58s/it]\u001b[A"
     ]
    },
    {
     "name": "stdout",
     "output_type": "stream",
     "text": [
      "\n",
      " Time needed for MC Dropout-based Uncertainty Estimation   5.608229398727417\n"
     ]
    },
    {
     "name": "stderr",
     "output_type": "stream",
     "text": [
      "\n",
      " 72%|███████▎  | 29/40 [02:42<01:00,  5.53s/it]\u001b[A"
     ]
    },
    {
     "name": "stdout",
     "output_type": "stream",
     "text": [
      "\n",
      " Time needed for MC Dropout-based Uncertainty Estimation   5.387846231460571\n"
     ]
    },
    {
     "name": "stderr",
     "output_type": "stream",
     "text": [
      "\n",
      " 75%|███████▌  | 30/40 [02:48<00:55,  5.58s/it]\u001b[A"
     ]
    },
    {
     "name": "stdout",
     "output_type": "stream",
     "text": [
      "\n",
      " Time needed for MC Dropout-based Uncertainty Estimation   5.690465211868286\n"
     ]
    },
    {
     "name": "stderr",
     "output_type": "stream",
     "text": [
      "\n",
      " 78%|███████▊  | 31/40 [02:54<00:50,  5.61s/it]\u001b[A"
     ]
    },
    {
     "name": "stdout",
     "output_type": "stream",
     "text": [
      "\n",
      " Time needed for MC Dropout-based Uncertainty Estimation   5.657329320907593\n"
     ]
    },
    {
     "name": "stderr",
     "output_type": "stream",
     "text": [
      "\n",
      " 80%|████████  | 32/40 [02:59<00:44,  5.55s/it]\u001b[A"
     ]
    },
    {
     "name": "stdout",
     "output_type": "stream",
     "text": [
      "\n",
      " Time needed for MC Dropout-based Uncertainty Estimation   5.387609481811523\n"
     ]
    },
    {
     "name": "stderr",
     "output_type": "stream",
     "text": [
      "\n",
      " 82%|████████▎ | 33/40 [03:05<00:39,  5.59s/it]\u001b[A"
     ]
    },
    {
     "name": "stdout",
     "output_type": "stream",
     "text": [
      "\n",
      " Time needed for MC Dropout-based Uncertainty Estimation   5.655658721923828\n"
     ]
    },
    {
     "name": "stderr",
     "output_type": "stream",
     "text": [
      "\n",
      " 85%|████████▌ | 34/40 [03:10<00:33,  5.61s/it]\u001b[A"
     ]
    },
    {
     "name": "stdout",
     "output_type": "stream",
     "text": [
      "\n",
      " Time needed for MC Dropout-based Uncertainty Estimation   5.640899419784546\n"
     ]
    },
    {
     "name": "stderr",
     "output_type": "stream",
     "text": [
      "\n",
      " 88%|████████▊ | 35/40 [03:16<00:27,  5.56s/it]\u001b[A"
     ]
    },
    {
     "name": "stdout",
     "output_type": "stream",
     "text": [
      "\n",
      " Time needed for MC Dropout-based Uncertainty Estimation   5.400692939758301\n"
     ]
    },
    {
     "name": "stderr",
     "output_type": "stream",
     "text": [
      "\n",
      " 90%|█████████ | 36/40 [03:22<00:22,  5.60s/it]\u001b[A"
     ]
    },
    {
     "name": "stdout",
     "output_type": "stream",
     "text": [
      "\n",
      " Time needed for MC Dropout-based Uncertainty Estimation   5.671003818511963\n"
     ]
    },
    {
     "name": "stderr",
     "output_type": "stream",
     "text": [
      "\n",
      " 92%|█████████▎| 37/40 [03:27<00:16,  5.63s/it]\u001b[A"
     ]
    },
    {
     "name": "stdout",
     "output_type": "stream",
     "text": [
      "\n",
      " Time needed for MC Dropout-based Uncertainty Estimation   5.672903299331665\n"
     ]
    },
    {
     "name": "stderr",
     "output_type": "stream",
     "text": [
      "\n",
      " 95%|█████████▌| 38/40 [03:33<00:11,  5.53s/it]\u001b[A"
     ]
    },
    {
     "name": "stdout",
     "output_type": "stream",
     "text": [
      "\n",
      " Time needed for MC Dropout-based Uncertainty Estimation   5.268067359924316\n"
     ]
    },
    {
     "name": "stderr",
     "output_type": "stream",
     "text": [
      "\n",
      " 98%|█████████▊| 39/40 [03:38<00:05,  5.56s/it]\u001b[A"
     ]
    },
    {
     "name": "stdout",
     "output_type": "stream",
     "text": [
      "\n",
      " Time needed for MC Dropout-based Uncertainty Estimation   5.616230249404907\n"
     ]
    },
    {
     "name": "stderr",
     "output_type": "stream",
     "text": [
      "\n",
      "100%|██████████| 40/40 [03:44<00:00,  5.56s/it]\u001b[A"
     ]
    },
    {
     "name": "stdout",
     "output_type": "stream",
     "text": [
      "\n",
      " Time needed for MC Dropout-based Uncertainty Estimation   5.527574777603149\n",
      "START TRAINING......:\n",
      "Training with 40 images\n",
      "Validating with 10 images\n",
      "Training Unet-mcdropout\n",
      "(40, 400, 400, 28)\n",
      "Epoch 1/80\n",
      " - 6s - loss: 0.7392 - accuracy: 0.3252 - val_loss: 0.6892 - val_accuracy: 0.7957\n",
      "\n",
      "Epoch 00001: val_loss improved from inf to 0.68920, saving model to ./trained_models/unet_div8_495K_40.hdf5\n",
      "Epoch 2/80\n",
      " - 2s - loss: 0.6808 - accuracy: 0.6361 - val_loss: 0.6470 - val_accuracy: 0.8768\n",
      "\n",
      "Epoch 00002: val_loss improved from 0.68920 to 0.64705, saving model to ./trained_models/unet_div8_495K_40.hdf5\n",
      "Epoch 3/80\n",
      " - 5s - loss: 0.6302 - accuracy: 0.7529 - val_loss: 0.6706 - val_accuracy: 0.8786\n",
      "\n",
      "Epoch 00003: val_loss did not improve from 0.64705\n",
      "Epoch 4/80\n",
      " - 6s - loss: 0.5845 - accuracy: 0.8728 - val_loss: 0.6522 - val_accuracy: 0.8848\n",
      "\n",
      "Epoch 00004: val_loss did not improve from 0.64705\n",
      "Epoch 5/80\n",
      " - 5s - loss: 0.5510 - accuracy: 0.8930 - val_loss: 0.6213 - val_accuracy: 0.8848\n",
      "\n",
      "Epoch 00005: val_loss improved from 0.64705 to 0.62130, saving model to ./trained_models/unet_div8_495K_40.hdf5\n",
      "Epoch 6/80\n",
      " - 5s - loss: 0.5262 - accuracy: 0.8957 - val_loss: 0.5752 - val_accuracy: 0.8848\n",
      "\n",
      "Epoch 00006: val_loss improved from 0.62130 to 0.57522, saving model to ./trained_models/unet_div8_495K_40.hdf5\n",
      "Epoch 7/80\n",
      " - 5s - loss: 0.5082 - accuracy: 0.8953 - val_loss: 0.5622 - val_accuracy: 0.8832\n",
      "\n",
      "Epoch 00007: val_loss improved from 0.57522 to 0.56221, saving model to ./trained_models/unet_div8_495K_40.hdf5\n",
      "Epoch 8/80\n",
      " - 5s - loss: 0.4871 - accuracy: 0.8968 - val_loss: 0.5037 - val_accuracy: 0.8835\n",
      "\n",
      "Epoch 00008: val_loss improved from 0.56221 to 0.50374, saving model to ./trained_models/unet_div8_495K_40.hdf5\n",
      "Epoch 9/80\n",
      " - 4s - loss: 0.4680 - accuracy: 0.8968 - val_loss: 0.4912 - val_accuracy: 0.8819\n",
      "\n",
      "Epoch 00009: val_loss improved from 0.50374 to 0.49121, saving model to ./trained_models/unet_div8_495K_40.hdf5\n",
      "Epoch 10/80\n",
      " - 5s - loss: 0.4486 - accuracy: 0.8970 - val_loss: 0.4579 - val_accuracy: 0.8848\n",
      "\n",
      "Epoch 00010: val_loss improved from 0.49121 to 0.45785, saving model to ./trained_models/unet_div8_495K_40.hdf5\n",
      "Epoch 11/80\n",
      " - 4s - loss: 0.4305 - accuracy: 0.8971 - val_loss: 0.4496 - val_accuracy: 0.8848\n",
      "\n",
      "Epoch 00011: val_loss improved from 0.45785 to 0.44958, saving model to ./trained_models/unet_div8_495K_40.hdf5\n",
      "Epoch 12/80\n",
      " - 6s - loss: 0.4101 - accuracy: 0.8971 - val_loss: 0.4671 - val_accuracy: 0.8847\n",
      "\n",
      "Epoch 00012: val_loss did not improve from 0.44958\n",
      "Epoch 13/80\n",
      " - 4s - loss: 0.3942 - accuracy: 0.8975 - val_loss: 0.4367 - val_accuracy: 0.8848\n",
      "\n",
      "Epoch 00013: val_loss improved from 0.44958 to 0.43665, saving model to ./trained_models/unet_div8_495K_40.hdf5\n",
      "Epoch 14/80\n",
      " - 4s - loss: 0.3748 - accuracy: 0.8973 - val_loss: 0.4614 - val_accuracy: 0.8848\n",
      "\n",
      "Epoch 00014: val_loss did not improve from 0.43665\n",
      "Epoch 15/80\n",
      " - 4s - loss: 0.3638 - accuracy: 0.8979 - val_loss: 0.4011 - val_accuracy: 0.8848\n",
      "\n",
      "Epoch 00015: val_loss improved from 0.43665 to 0.40106, saving model to ./trained_models/unet_div8_495K_40.hdf5\n",
      "Epoch 16/80\n",
      " - 6s - loss: 0.3516 - accuracy: 0.8972 - val_loss: 0.3892 - val_accuracy: 0.8849\n",
      "\n",
      "Epoch 00016: val_loss improved from 0.40106 to 0.38925, saving model to ./trained_models/unet_div8_495K_40.hdf5\n",
      "Epoch 17/80\n",
      " - 5s - loss: 0.3329 - accuracy: 0.8977 - val_loss: 0.4777 - val_accuracy: 0.8855\n",
      "\n",
      "Epoch 00017: val_loss did not improve from 0.38925\n",
      "Epoch 18/80\n",
      " - 6s - loss: 0.3208 - accuracy: 0.8972 - val_loss: 0.3827 - val_accuracy: 0.8848\n",
      "\n",
      "Epoch 00018: val_loss improved from 0.38925 to 0.38268, saving model to ./trained_models/unet_div8_495K_40.hdf5\n",
      "Epoch 19/80\n",
      " - 6s - loss: 0.3152 - accuracy: 0.8976 - val_loss: 0.3654 - val_accuracy: 0.8851\n",
      "\n",
      "Epoch 00019: val_loss improved from 0.38268 to 0.36543, saving model to ./trained_models/unet_div8_495K_40.hdf5\n",
      "Epoch 20/80\n",
      " - 6s - loss: 0.3014 - accuracy: 0.8973 - val_loss: 0.3273 - val_accuracy: 0.8851\n",
      "\n",
      "Epoch 00020: val_loss improved from 0.36543 to 0.32730, saving model to ./trained_models/unet_div8_495K_40.hdf5\n",
      "Epoch 21/80\n",
      " - 5s - loss: 0.2906 - accuracy: 0.8979 - val_loss: 0.3182 - val_accuracy: 0.8849\n",
      "\n",
      "Epoch 00021: val_loss improved from 0.32730 to 0.31821, saving model to ./trained_models/unet_div8_495K_40.hdf5\n",
      "Epoch 22/80\n",
      " - 5s - loss: 0.2839 - accuracy: 0.8972 - val_loss: 0.3285 - val_accuracy: 0.8981\n",
      "\n",
      "Epoch 00022: val_loss did not improve from 0.31821\n",
      "Epoch 23/80\n",
      " - 5s - loss: 0.2739 - accuracy: 0.8979 - val_loss: 0.2990 - val_accuracy: 0.8915\n",
      "\n",
      "Epoch 00023: val_loss improved from 0.31821 to 0.29901, saving model to ./trained_models/unet_div8_495K_40.hdf5\n",
      "Epoch 24/80\n",
      " - 5s - loss: 0.2652 - accuracy: 0.8978 - val_loss: 0.2871 - val_accuracy: 0.8861\n",
      "\n",
      "Epoch 00024: val_loss improved from 0.29901 to 0.28707, saving model to ./trained_models/unet_div8_495K_40.hdf5\n",
      "Epoch 25/80\n",
      " - 5s - loss: 0.2586 - accuracy: 0.8978 - val_loss: 0.2709 - val_accuracy: 0.8851\n",
      "\n",
      "Epoch 00025: val_loss improved from 0.28707 to 0.27092, saving model to ./trained_models/unet_div8_495K_40.hdf5\n",
      "Epoch 26/80\n",
      " - 6s - loss: 0.2486 - accuracy: 0.8977 - val_loss: 0.2705 - val_accuracy: 0.8849\n",
      "\n",
      "Epoch 00026: val_loss improved from 0.27092 to 0.27049, saving model to ./trained_models/unet_div8_495K_40.hdf5\n",
      "Epoch 27/80\n",
      " - 4s - loss: 0.2414 - accuracy: 0.8984 - val_loss: 0.2625 - val_accuracy: 0.8870\n",
      "\n",
      "Epoch 00027: val_loss improved from 0.27049 to 0.26251, saving model to ./trained_models/unet_div8_495K_40.hdf5\n",
      "Epoch 28/80\n",
      " - 5s - loss: 0.2399 - accuracy: 0.8981 - val_loss: 0.2730 - val_accuracy: 0.8924\n",
      "\n",
      "Epoch 00028: val_loss did not improve from 0.26251\n",
      "Epoch 29/80\n",
      " - 5s - loss: 0.2358 - accuracy: 0.8993 - val_loss: 0.2474 - val_accuracy: 0.8936\n",
      "\n",
      "Epoch 00029: val_loss improved from 0.26251 to 0.24738, saving model to ./trained_models/unet_div8_495K_40.hdf5\n",
      "Epoch 30/80\n",
      " - 5s - loss: 0.2290 - accuracy: 0.9019 - val_loss: 0.2474 - val_accuracy: 0.9045\n",
      "\n",
      "Epoch 00030: val_loss improved from 0.24738 to 0.24737, saving model to ./trained_models/unet_div8_495K_40.hdf5\n",
      "Epoch 31/80\n",
      " - 5s - loss: 0.2257 - accuracy: 0.9001 - val_loss: 0.2508 - val_accuracy: 0.8971\n",
      "\n",
      "Epoch 00031: val_loss did not improve from 0.24737\n",
      "Epoch 32/80\n",
      " - 6s - loss: 0.2236 - accuracy: 0.9022 - val_loss: 0.2342 - val_accuracy: 0.9011\n",
      "\n",
      "Epoch 00032: val_loss improved from 0.24737 to 0.23420, saving model to ./trained_models/unet_div8_495K_40.hdf5\n",
      "Epoch 33/80\n",
      " - 6s - loss: 0.2213 - accuracy: 0.9012 - val_loss: 0.2255 - val_accuracy: 0.9086\n",
      "\n",
      "Epoch 00033: val_loss improved from 0.23420 to 0.22549, saving model to ./trained_models/unet_div8_495K_40.hdf5\n",
      "Epoch 34/80\n",
      " - 6s - loss: 0.2149 - accuracy: 0.9017 - val_loss: 0.2443 - val_accuracy: 0.8946\n",
      "\n",
      "Epoch 00034: val_loss did not improve from 0.22549\n",
      "Epoch 35/80\n",
      " - 7s - loss: 0.2111 - accuracy: 0.9069 - val_loss: 0.2230 - val_accuracy: 0.9091\n",
      "\n",
      "Epoch 00035: val_loss improved from 0.22549 to 0.22302, saving model to ./trained_models/unet_div8_495K_40.hdf5\n",
      "Epoch 36/80\n",
      " - 6s - loss: 0.2137 - accuracy: 0.9048 - val_loss: 0.3188 - val_accuracy: 0.8086\n",
      "\n",
      "Epoch 00036: val_loss did not improve from 0.22302\n",
      "Epoch 37/80\n",
      " - 6s - loss: 0.2141 - accuracy: 0.9033 - val_loss: 0.2982 - val_accuracy: 0.8562\n",
      "\n",
      "Epoch 00037: val_loss did not improve from 0.22302\n",
      "Epoch 38/80\n",
      " - 4s - loss: 0.2053 - accuracy: 0.9070 - val_loss: 0.2242 - val_accuracy: 0.9096\n",
      "\n",
      "Epoch 00038: val_loss did not improve from 0.22302\n",
      "Epoch 39/80\n",
      " - 6s - loss: 0.2013 - accuracy: 0.9114 - val_loss: 0.2332 - val_accuracy: 0.8889\n",
      "\n",
      "Epoch 00039: val_loss did not improve from 0.22302\n",
      "Epoch 40/80\n",
      " - 6s - loss: 0.1994 - accuracy: 0.9111 - val_loss: 0.2331 - val_accuracy: 0.8878\n",
      "\n",
      "Epoch 00040: val_loss did not improve from 0.22302\n",
      "Epoch 41/80\n",
      " - 6s - loss: 0.2066 - accuracy: 0.9091 - val_loss: 0.2563 - val_accuracy: 0.8922\n",
      "\n",
      "Epoch 00041: val_loss did not improve from 0.22302\n",
      "Epoch 42/80\n",
      " - 6s - loss: 0.2054 - accuracy: 0.9072 - val_loss: 0.2661 - val_accuracy: 0.8981\n",
      "\n",
      "Epoch 00042: val_loss did not improve from 0.22302\n",
      "Epoch 43/80\n",
      " - 5s - loss: 0.2005 - accuracy: 0.9090 - val_loss: 0.2582 - val_accuracy: 0.8702\n",
      "\n",
      "Epoch 00043: val_loss did not improve from 0.22302\n",
      "Epoch 44/80\n",
      " - 6s - loss: 0.1973 - accuracy: 0.9109 - val_loss: 0.2231 - val_accuracy: 0.8965\n",
      "\n",
      "Epoch 00044: val_loss did not improve from 0.22302\n",
      "Epoch 45/80\n"
     ]
    },
    {
     "name": "stdout",
     "output_type": "stream",
     "text": [
      " - 6s - loss: 0.2050 - accuracy: 0.9078 - val_loss: 0.2719 - val_accuracy: 0.8496\n",
      "\n",
      "Epoch 00045: val_loss did not improve from 0.22302\n",
      "Epoch 46/80\n",
      " - 6s - loss: 0.2011 - accuracy: 0.9124 - val_loss: 0.2077 - val_accuracy: 0.9079\n",
      "\n",
      "Epoch 00046: val_loss improved from 0.22302 to 0.20766, saving model to ./trained_models/unet_div8_495K_40.hdf5\n",
      "Epoch 47/80\n",
      " - 4s - loss: 0.1883 - accuracy: 0.9149 - val_loss: 0.2242 - val_accuracy: 0.8921\n",
      "\n",
      "Epoch 00047: val_loss did not improve from 0.20766\n",
      "Epoch 48/80\n",
      " - 6s - loss: 0.1859 - accuracy: 0.9154 - val_loss: 0.3570 - val_accuracy: 0.8327\n",
      "\n",
      "Epoch 00048: val_loss did not improve from 0.20766\n",
      "Epoch 49/80\n",
      " - 6s - loss: 0.1869 - accuracy: 0.9119 - val_loss: 0.2257 - val_accuracy: 0.8919\n",
      "\n",
      "Epoch 00049: val_loss did not improve from 0.20766\n",
      "Epoch 50/80\n",
      " - 4s - loss: 0.1828 - accuracy: 0.9166 - val_loss: 0.2347 - val_accuracy: 0.8826\n",
      "\n",
      "Epoch 00050: val_loss did not improve from 0.20766\n",
      "Epoch 51/80\n",
      " - 6s - loss: 0.1841 - accuracy: 0.9135 - val_loss: 0.2350 - val_accuracy: 0.8763\n",
      "\n",
      "Epoch 00051: val_loss did not improve from 0.20766\n",
      "Epoch 52/80\n",
      " - 6s - loss: 0.1836 - accuracy: 0.9146 - val_loss: 0.2732 - val_accuracy: 0.8789\n",
      "\n",
      "Epoch 00052: val_loss did not improve from 0.20766\n",
      "Epoch 53/80\n",
      " - 7s - loss: 0.1848 - accuracy: 0.9135 - val_loss: 0.2142 - val_accuracy: 0.8955\n",
      "\n",
      "Epoch 00053: val_loss did not improve from 0.20766\n",
      "Epoch 54/80\n",
      " - 6s - loss: 0.1870 - accuracy: 0.9130 - val_loss: 0.2463 - val_accuracy: 0.8935\n",
      "\n",
      "Epoch 00054: val_loss did not improve from 0.20766\n",
      "Epoch 55/80\n",
      " - 5s - loss: 0.1727 - accuracy: 0.9199 - val_loss: 0.2361 - val_accuracy: 0.8890\n",
      "\n",
      "Epoch 00055: val_loss did not improve from 0.20766\n",
      "Epoch 56/80\n",
      " - 6s - loss: 0.1705 - accuracy: 0.9227 - val_loss: 0.2530 - val_accuracy: 0.8954\n",
      "\n",
      "Epoch 00056: val_loss did not improve from 0.20766\n",
      "Epoch 57/80\n",
      " - 5s - loss: 0.1814 - accuracy: 0.9161 - val_loss: 0.2234 - val_accuracy: 0.9066\n",
      "\n",
      "Epoch 00057: val_loss did not improve from 0.20766\n",
      "Epoch 58/80\n",
      " - 5s - loss: 0.1799 - accuracy: 0.9183 - val_loss: 0.2792 - val_accuracy: 0.8747\n"
     ]
    },
    {
     "name": "stderr",
     "output_type": "stream",
     "text": [
      "\n",
      "  0%|          | 0/40 [00:00<?, ?it/s]\u001b[A"
     ]
    },
    {
     "name": "stdout",
     "output_type": "stream",
     "text": [
      "\n",
      "Epoch 00058: val_loss did not improve from 0.20766\n"
     ]
    },
    {
     "name": "stderr",
     "output_type": "stream",
     "text": [
      "\n",
      "  2%|▎         | 1/40 [00:20<13:24, 20.62s/it]\u001b[A"
     ]
    },
    {
     "name": "stdout",
     "output_type": "stream",
     "text": [
      "\n",
      " Time needed for MC Dropout-based Uncertainty Estimation   20.607360363006592\n"
     ]
    },
    {
     "name": "stderr",
     "output_type": "stream",
     "text": [
      "\n",
      "  5%|▌         | 2/40 [00:41<13:03, 20.61s/it]\u001b[A"
     ]
    },
    {
     "name": "stdout",
     "output_type": "stream",
     "text": [
      "\n",
      " Time needed for MC Dropout-based Uncertainty Estimation   20.535658597946167\n"
     ]
    },
    {
     "name": "stderr",
     "output_type": "stream",
     "text": [
      "\n",
      "  8%|▊         | 3/40 [01:02<12:54, 20.93s/it]\u001b[A"
     ]
    },
    {
     "name": "stdout",
     "output_type": "stream",
     "text": [
      "\n",
      " Time needed for MC Dropout-based Uncertainty Estimation   21.660271883010864\n"
     ]
    },
    {
     "name": "stderr",
     "output_type": "stream",
     "text": [
      "\n",
      " 10%|█         | 4/40 [01:24<12:41, 21.15s/it]\u001b[A"
     ]
    },
    {
     "name": "stdout",
     "output_type": "stream",
     "text": [
      "\n",
      " Time needed for MC Dropout-based Uncertainty Estimation   21.63641667366028\n"
     ]
    },
    {
     "name": "stderr",
     "output_type": "stream",
     "text": [
      "\n",
      " 12%|█▎        | 5/40 [01:45<12:15, 21.03s/it]\u001b[A"
     ]
    },
    {
     "name": "stdout",
     "output_type": "stream",
     "text": [
      "\n",
      " Time needed for MC Dropout-based Uncertainty Estimation   20.690156936645508\n"
     ]
    },
    {
     "name": "stderr",
     "output_type": "stream",
     "text": [
      "\n",
      " 15%|█▌        | 6/40 [02:07<12:04, 21.32s/it]\u001b[A"
     ]
    },
    {
     "name": "stdout",
     "output_type": "stream",
     "text": [
      "\n",
      " Time needed for MC Dropout-based Uncertainty Estimation   21.978315114974976\n"
     ]
    },
    {
     "name": "stderr",
     "output_type": "stream",
     "text": [
      "\n",
      " 18%|█▊        | 7/40 [02:28<11:45, 21.39s/it]\u001b[A"
     ]
    },
    {
     "name": "stdout",
     "output_type": "stream",
     "text": [
      "\n",
      " Time needed for MC Dropout-based Uncertainty Estimation   21.503314971923828\n"
     ]
    },
    {
     "name": "stderr",
     "output_type": "stream",
     "text": [
      "\n",
      " 20%|██        | 8/40 [02:49<11:17, 21.16s/it]\u001b[A"
     ]
    },
    {
     "name": "stdout",
     "output_type": "stream",
     "text": [
      "\n",
      " Time needed for MC Dropout-based Uncertainty Estimation   20.60973358154297\n"
     ]
    },
    {
     "name": "stderr",
     "output_type": "stream",
     "text": [
      "\n",
      " 22%|██▎       | 9/40 [03:11<11:01, 21.34s/it]\u001b[A"
     ]
    },
    {
     "name": "stdout",
     "output_type": "stream",
     "text": [
      "\n",
      " Time needed for MC Dropout-based Uncertainty Estimation   21.716787099838257\n"
     ]
    },
    {
     "name": "stderr",
     "output_type": "stream",
     "text": [
      "\n",
      " 25%|██▌       | 10/40 [03:32<10:43, 21.46s/it]\u001b[A"
     ]
    },
    {
     "name": "stdout",
     "output_type": "stream",
     "text": [
      "\n",
      " Time needed for MC Dropout-based Uncertainty Estimation   21.71406579017639\n"
     ]
    },
    {
     "name": "stderr",
     "output_type": "stream",
     "text": [
      "\n",
      " 28%|██▊       | 11/40 [03:53<10:14, 21.18s/it]\u001b[A"
     ]
    },
    {
     "name": "stdout",
     "output_type": "stream",
     "text": [
      "\n",
      " Time needed for MC Dropout-based Uncertainty Estimation   20.49440312385559\n"
     ]
    },
    {
     "name": "stderr",
     "output_type": "stream",
     "text": [
      "\n",
      " 30%|███       | 12/40 [04:15<09:56, 21.31s/it]\u001b[A"
     ]
    },
    {
     "name": "stdout",
     "output_type": "stream",
     "text": [
      "\n",
      " Time needed for MC Dropout-based Uncertainty Estimation   21.586281061172485\n"
     ]
    },
    {
     "name": "stderr",
     "output_type": "stream",
     "text": [
      "\n",
      " 32%|███▎      | 13/40 [04:36<09:37, 21.40s/it]\u001b[A"
     ]
    },
    {
     "name": "stdout",
     "output_type": "stream",
     "text": [
      "\n",
      " Time needed for MC Dropout-based Uncertainty Estimation   21.566434144973755\n"
     ]
    },
    {
     "name": "stderr",
     "output_type": "stream",
     "text": [
      "\n",
      " 35%|███▌      | 14/40 [04:57<09:08, 21.11s/it]\u001b[A"
     ]
    },
    {
     "name": "stdout",
     "output_type": "stream",
     "text": [
      "\n",
      " Time needed for MC Dropout-based Uncertainty Estimation   20.405099391937256\n"
     ]
    },
    {
     "name": "stderr",
     "output_type": "stream",
     "text": [
      "\n",
      " 38%|███▊      | 15/40 [05:18<08:52, 21.28s/it]\u001b[A"
     ]
    },
    {
     "name": "stdout",
     "output_type": "stream",
     "text": [
      "\n",
      " Time needed for MC Dropout-based Uncertainty Estimation   21.645620822906494\n"
     ]
    },
    {
     "name": "stderr",
     "output_type": "stream",
     "text": [
      "\n",
      " 40%|████      | 16/40 [05:40<08:32, 21.35s/it]\u001b[A"
     ]
    },
    {
     "name": "stdout",
     "output_type": "stream",
     "text": [
      "\n",
      " Time needed for MC Dropout-based Uncertainty Estimation   21.48150944709778\n"
     ]
    },
    {
     "name": "stderr",
     "output_type": "stream",
     "text": [
      "\n",
      " 42%|████▎     | 17/40 [06:01<08:06, 21.14s/it]\u001b[A"
     ]
    },
    {
     "name": "stdout",
     "output_type": "stream",
     "text": [
      "\n",
      " Time needed for MC Dropout-based Uncertainty Estimation   20.602015495300293\n"
     ]
    },
    {
     "name": "stderr",
     "output_type": "stream",
     "text": [
      "\n",
      " 45%|████▌     | 18/40 [06:22<07:48, 21.30s/it]\u001b[A"
     ]
    },
    {
     "name": "stdout",
     "output_type": "stream",
     "text": [
      "\n",
      " Time needed for MC Dropout-based Uncertainty Estimation   21.66120457649231\n"
     ]
    },
    {
     "name": "stderr",
     "output_type": "stream",
     "text": [
      "\n",
      " 48%|████▊     | 19/40 [06:44<07:29, 21.41s/it]\u001b[A"
     ]
    },
    {
     "name": "stdout",
     "output_type": "stream",
     "text": [
      "\n",
      " Time needed for MC Dropout-based Uncertainty Estimation   21.62223744392395\n"
     ]
    },
    {
     "name": "stderr",
     "output_type": "stream",
     "text": [
      "\n",
      " 50%|█████     | 20/40 [07:05<07:04, 21.21s/it]\u001b[A"
     ]
    },
    {
     "name": "stdout",
     "output_type": "stream",
     "text": [
      "\n",
      " Time needed for MC Dropout-based Uncertainty Estimation   20.70791006088257\n"
     ]
    },
    {
     "name": "stderr",
     "output_type": "stream",
     "text": [
      "\n",
      " 52%|█████▎    | 21/40 [07:26<06:45, 21.36s/it]\u001b[A"
     ]
    },
    {
     "name": "stdout",
     "output_type": "stream",
     "text": [
      "\n",
      " Time needed for MC Dropout-based Uncertainty Estimation   21.678404569625854\n"
     ]
    },
    {
     "name": "stderr",
     "output_type": "stream",
     "text": [
      "\n",
      " 55%|█████▌    | 22/40 [07:48<06:25, 21.39s/it]\u001b[A"
     ]
    },
    {
     "name": "stdout",
     "output_type": "stream",
     "text": [
      "\n",
      " Time needed for MC Dropout-based Uncertainty Estimation   21.427298307418823\n"
     ]
    },
    {
     "name": "stderr",
     "output_type": "stream",
     "text": [
      "\n",
      " 57%|█████▊    | 23/40 [08:08<05:59, 21.12s/it]\u001b[A"
     ]
    },
    {
     "name": "stdout",
     "output_type": "stream",
     "text": [
      "\n",
      " Time needed for MC Dropout-based Uncertainty Estimation   20.453070878982544\n"
     ]
    },
    {
     "name": "stderr",
     "output_type": "stream",
     "text": [
      "\n",
      " 60%|██████    | 24/40 [08:30<05:40, 21.26s/it]\u001b[A"
     ]
    },
    {
     "name": "stdout",
     "output_type": "stream",
     "text": [
      "\n",
      " Time needed for MC Dropout-based Uncertainty Estimation   21.562307119369507\n"
     ]
    },
    {
     "name": "stderr",
     "output_type": "stream",
     "text": [
      "\n",
      " 62%|██████▎   | 25/40 [08:51<05:20, 21.36s/it]\u001b[A"
     ]
    },
    {
     "name": "stdout",
     "output_type": "stream",
     "text": [
      "\n",
      " Time needed for MC Dropout-based Uncertainty Estimation   21.541674375534058\n"
     ]
    },
    {
     "name": "stderr",
     "output_type": "stream",
     "text": [
      "\n",
      " 65%|██████▌   | 26/40 [09:12<04:55, 21.13s/it]\u001b[A"
     ]
    },
    {
     "name": "stdout",
     "output_type": "stream",
     "text": [
      "\n",
      " Time needed for MC Dropout-based Uncertainty Estimation   20.552978515625\n"
     ]
    },
    {
     "name": "stderr",
     "output_type": "stream",
     "text": [
      "\n",
      " 68%|██████▊   | 27/40 [09:33<04:35, 21.22s/it]\u001b[A"
     ]
    },
    {
     "name": "stdout",
     "output_type": "stream",
     "text": [
      "\n",
      " Time needed for MC Dropout-based Uncertainty Estimation   21.406112670898438\n"
     ]
    },
    {
     "name": "stderr",
     "output_type": "stream",
     "text": [
      "\n",
      " 70%|███████   | 28/40 [09:55<04:14, 21.24s/it]\u001b[A"
     ]
    },
    {
     "name": "stdout",
     "output_type": "stream",
     "text": [
      "\n",
      " Time needed for MC Dropout-based Uncertainty Estimation   21.243114709854126\n"
     ]
    },
    {
     "name": "stderr",
     "output_type": "stream",
     "text": [
      "\n",
      " 72%|███████▎  | 29/40 [10:15<03:50, 20.99s/it]\u001b[A"
     ]
    },
    {
     "name": "stdout",
     "output_type": "stream",
     "text": [
      "\n",
      " Time needed for MC Dropout-based Uncertainty Estimation   20.39519715309143\n"
     ]
    },
    {
     "name": "stderr",
     "output_type": "stream",
     "text": [
      "\n",
      " 75%|███████▌  | 30/40 [10:37<03:31, 21.15s/it]\u001b[A"
     ]
    },
    {
     "name": "stdout",
     "output_type": "stream",
     "text": [
      "\n",
      " Time needed for MC Dropout-based Uncertainty Estimation   21.4693922996521\n"
     ]
    },
    {
     "name": "stderr",
     "output_type": "stream",
     "text": [
      "\n",
      " 78%|███████▊  | 31/40 [10:58<03:10, 21.21s/it]\u001b[A"
     ]
    },
    {
     "name": "stdout",
     "output_type": "stream",
     "text": [
      "\n",
      " Time needed for MC Dropout-based Uncertainty Estimation   21.338725090026855\n"
     ]
    },
    {
     "name": "stderr",
     "output_type": "stream",
     "text": [
      "\n",
      " 80%|████████  | 32/40 [11:19<02:48, 21.03s/it]\u001b[A"
     ]
    },
    {
     "name": "stdout",
     "output_type": "stream",
     "text": [
      "\n",
      " Time needed for MC Dropout-based Uncertainty Estimation   20.575644969940186\n"
     ]
    },
    {
     "name": "stderr",
     "output_type": "stream",
     "text": [
      "\n",
      " 82%|████████▎ | 33/40 [11:40<02:28, 21.16s/it]\u001b[A"
     ]
    },
    {
     "name": "stdout",
     "output_type": "stream",
     "text": [
      "\n",
      " Time needed for MC Dropout-based Uncertainty Estimation   21.415343761444092\n"
     ]
    },
    {
     "name": "stderr",
     "output_type": "stream",
     "text": [
      "\n",
      " 85%|████████▌ | 34/40 [12:02<02:07, 21.25s/it]\u001b[A"
     ]
    },
    {
     "name": "stdout",
     "output_type": "stream",
     "text": [
      "\n",
      " Time needed for MC Dropout-based Uncertainty Estimation   21.428730726242065\n"
     ]
    },
    {
     "name": "stderr",
     "output_type": "stream",
     "text": [
      "\n",
      " 88%|████████▊ | 35/40 [12:22<01:45, 21.10s/it]\u001b[A"
     ]
    },
    {
     "name": "stdout",
     "output_type": "stream",
     "text": [
      "\n",
      " Time needed for MC Dropout-based Uncertainty Estimation   20.708711624145508\n"
     ]
    },
    {
     "name": "stderr",
     "output_type": "stream",
     "text": [
      "\n",
      " 90%|█████████ | 36/40 [12:44<01:24, 21.20s/it]\u001b[A"
     ]
    },
    {
     "name": "stdout",
     "output_type": "stream",
     "text": [
      "\n",
      " Time needed for MC Dropout-based Uncertainty Estimation   21.401716470718384\n"
     ]
    },
    {
     "name": "stderr",
     "output_type": "stream",
     "text": [
      "\n",
      " 92%|█████████▎| 37/40 [13:05<01:03, 21.28s/it]\u001b[A"
     ]
    },
    {
     "name": "stdout",
     "output_type": "stream",
     "text": [
      "\n",
      " Time needed for MC Dropout-based Uncertainty Estimation   21.444634675979614\n"
     ]
    },
    {
     "name": "stderr",
     "output_type": "stream",
     "text": [
      "\n",
      " 95%|█████████▌| 38/40 [13:26<00:42, 21.04s/it]\u001b[A"
     ]
    },
    {
     "name": "stdout",
     "output_type": "stream",
     "text": [
      "\n",
      " Time needed for MC Dropout-based Uncertainty Estimation   20.44351077079773\n"
     ]
    },
    {
     "name": "stderr",
     "output_type": "stream",
     "text": [
      "\n",
      " 98%|█████████▊| 39/40 [13:47<00:21, 21.20s/it]\u001b[A"
     ]
    },
    {
     "name": "stdout",
     "output_type": "stream",
     "text": [
      "\n",
      " Time needed for MC Dropout-based Uncertainty Estimation   21.532466411590576\n"
     ]
    },
    {
     "name": "stderr",
     "output_type": "stream",
     "text": [
      "\n",
      "100%|██████████| 40/40 [14:09<00:00, 21.26s/it]\u001b[A\n",
      "  0%|          | 0/10 [00:00<?, ?it/s]\u001b[A"
     ]
    },
    {
     "name": "stdout",
     "output_type": "stream",
     "text": [
      "\n",
      " Time needed for MC Dropout-based Uncertainty Estimation   21.360304594039917\n"
     ]
    },
    {
     "name": "stderr",
     "output_type": "stream",
     "text": [
      "\n",
      " 10%|█         | 1/10 [00:05<00:45,  5.02s/it]\u001b[A"
     ]
    },
    {
     "name": "stdout",
     "output_type": "stream",
     "text": [
      "\n",
      " Time needed for MC Dropout-based Uncertainty Estimation   5.018344402313232\n"
     ]
    },
    {
     "name": "stderr",
     "output_type": "stream",
     "text": [
      "\n",
      " 20%|██        | 2/10 [00:10<00:40,  5.02s/it]\u001b[A"
     ]
    },
    {
     "name": "stdout",
     "output_type": "stream",
     "text": [
      "\n",
      " Time needed for MC Dropout-based Uncertainty Estimation   5.018468618392944\n"
     ]
    },
    {
     "name": "stderr",
     "output_type": "stream",
     "text": [
      "\n",
      " 30%|███       | 3/10 [00:15<00:35,  5.13s/it]\u001b[A"
     ]
    },
    {
     "name": "stdout",
     "output_type": "stream",
     "text": [
      "\n",
      " Time needed for MC Dropout-based Uncertainty Estimation   5.384508371353149\n"
     ]
    },
    {
     "name": "stderr",
     "output_type": "stream",
     "text": [
      "\n",
      " 40%|████      | 4/10 [00:20<00:31,  5.20s/it]\u001b[A"
     ]
    },
    {
     "name": "stdout",
     "output_type": "stream",
     "text": [
      "\n",
      " Time needed for MC Dropout-based Uncertainty Estimation   5.352137088775635\n"
     ]
    },
    {
     "name": "stderr",
     "output_type": "stream",
     "text": [
      "\n",
      " 50%|█████     | 5/10 [00:25<00:25,  5.15s/it]\u001b[A"
     ]
    },
    {
     "name": "stdout",
     "output_type": "stream",
     "text": [
      "\n",
      " Time needed for MC Dropout-based Uncertainty Estimation   5.018832683563232\n"
     ]
    },
    {
     "name": "stderr",
     "output_type": "stream",
     "text": [
      "\n",
      " 60%|██████    | 6/10 [00:31<00:20,  5.22s/it]\u001b[A"
     ]
    },
    {
     "name": "stdout",
     "output_type": "stream",
     "text": [
      "\n",
      " Time needed for MC Dropout-based Uncertainty Estimation   5.373308897018433\n"
     ]
    },
    {
     "name": "stderr",
     "output_type": "stream",
     "text": [
      "\n",
      " 70%|███████   | 7/10 [00:36<00:15,  5.27s/it]\u001b[A"
     ]
    },
    {
     "name": "stdout",
     "output_type": "stream",
     "text": [
      "\n",
      " Time needed for MC Dropout-based Uncertainty Estimation   5.36891770362854\n"
     ]
    },
    {
     "name": "stderr",
     "output_type": "stream",
     "text": [
      "\n",
      " 80%|████████  | 8/10 [00:41<00:10,  5.20s/it]\u001b[A"
     ]
    },
    {
     "name": "stdout",
     "output_type": "stream",
     "text": [
      "\n",
      " Time needed for MC Dropout-based Uncertainty Estimation   5.037813425064087\n"
     ]
    },
    {
     "name": "stderr",
     "output_type": "stream",
     "text": [
      "\n",
      " 90%|█████████ | 9/10 [00:47<00:05,  5.25s/it]\u001b[A"
     ]
    },
    {
     "name": "stdout",
     "output_type": "stream",
     "text": [
      "\n",
      " Time needed for MC Dropout-based Uncertainty Estimation   5.364923000335693\n"
     ]
    },
    {
     "name": "stderr",
     "output_type": "stream",
     "text": [
      "\n",
      "100%|██████████| 10/10 [00:52<00:00,  5.30s/it]\u001b[A"
     ]
    },
    {
     "name": "stdout",
     "output_type": "stream",
     "text": [
      "\n",
      " Time needed for MC Dropout-based Uncertainty Estimation   5.394906759262085\n",
      "Model: \"model_2\"\n",
      "_________________________________________________________________\n",
      "Layer (type)                 Output Shape              Param #   \n",
      "=================================================================\n",
      "input (InputLayer)           (None, 400, 400, 30)      0         \n",
      "_________________________________________________________________\n",
      "conv2d_11 (Conv2D)           (None, 400, 400, 32)      8672      \n",
      "_________________________________________________________________\n",
      "batch_normalization_19 (Batc (None, 400, 400, 32)      128       \n",
      "_________________________________________________________________\n",
      "activation_19 (Activation)   (None, 400, 400, 32)      0         \n",
      "_________________________________________________________________\n",
      "conv2d_12 (Conv2D)           (None, 400, 400, 32)      9248      \n",
      "_________________________________________________________________\n",
      "batch_normalization_20 (Batc (None, 400, 400, 32)      128       \n",
      "_________________________________________________________________\n",
      "activation_20 (Activation)   (None, 400, 400, 32)      0         \n",
      "_________________________________________________________________\n",
      "max_pooling2d_5 (MaxPooling2 (None, 200, 200, 32)      0         \n",
      "_________________________________________________________________\n",
      "conv2d_13 (Conv2D)           (None, 200, 200, 64)      18496     \n",
      "_________________________________________________________________\n",
      "batch_normalization_21 (Batc (None, 200, 200, 64)      256       \n",
      "_________________________________________________________________\n",
      "activation_21 (Activation)   (None, 200, 200, 64)      0         \n",
      "_________________________________________________________________\n",
      "conv2d_14 (Conv2D)           (None, 200, 200, 64)      36928     \n",
      "_________________________________________________________________\n",
      "batch_normalization_22 (Batc (None, 200, 200, 64)      256       \n",
      "_________________________________________________________________\n",
      "activation_22 (Activation)   (None, 200, 200, 64)      0         \n",
      "_________________________________________________________________\n",
      "max_pooling2d_6 (MaxPooling2 (None, 100, 100, 64)      0         \n",
      "_________________________________________________________________\n",
      "conv2d_15 (Conv2D)           (None, 100, 100, 128)     73856     \n",
      "_________________________________________________________________\n",
      "batch_normalization_23 (Batc (None, 100, 100, 128)     512       \n",
      "_________________________________________________________________\n",
      "activation_23 (Activation)   (None, 100, 100, 128)     0         \n",
      "_________________________________________________________________\n",
      "conv2d_16 (Conv2D)           (None, 100, 100, 128)     147584    \n",
      "_________________________________________________________________\n",
      "batch_normalization_24 (Batc (None, 100, 100, 128)     512       \n",
      "_________________________________________________________________\n",
      "activation_24 (Activation)   (None, 100, 100, 128)     0         \n",
      "_________________________________________________________________\n",
      "max_pooling2d_7 (MaxPooling2 (None, 50, 50, 128)       0         \n",
      "_________________________________________________________________\n",
      "conv2d_17 (Conv2D)           (None, 50, 50, 256)       295168    \n",
      "_________________________________________________________________\n",
      "batch_normalization_25 (Batc (None, 50, 50, 256)       1024      \n",
      "_________________________________________________________________\n",
      "activation_25 (Activation)   (None, 50, 50, 256)       0         \n",
      "_________________________________________________________________\n",
      "conv2d_18 (Conv2D)           (None, 50, 50, 256)       590080    \n",
      "_________________________________________________________________\n",
      "batch_normalization_26 (Batc (None, 50, 50, 256)       1024      \n",
      "_________________________________________________________________\n",
      "activation_26 (Activation)   (None, 50, 50, 256)       0         \n",
      "_________________________________________________________________\n",
      "global_average_pooling2d_1 ( (None, 256)               0         \n",
      "_________________________________________________________________\n",
      "dense_2 (Dense)              (None, 1)                 257       \n",
      "_________________________________________________________________\n",
      "output (Activation)          (None, 1)                 0         \n",
      "=================================================================\n",
      "Total params: 1,184,129\n",
      "Trainable params: 1,182,209\n",
      "Non-trainable params: 1,920\n",
      "_________________________________________________________________\n",
      "(40, 1)\n",
      "Train on 40 samples, validate on 10 samples\n",
      "Epoch 1/60\n",
      " - 3s - loss: 0.0502 - val_loss: 0.0310\n",
      "\n",
      "Epoch 00001: val_loss improved from inf to 0.03096, saving model to ./trained_models/unet_div8_495K_40_DiceNet.hdf5\n",
      "Epoch 2/60\n",
      " - 2s - loss: 0.0472 - val_loss: 0.0315\n",
      "\n",
      "Epoch 00002: val_loss did not improve from 0.03096\n",
      "Epoch 3/60\n",
      " - 2s - loss: 0.0240 - val_loss: 0.0321\n",
      "\n",
      "Epoch 00003: val_loss did not improve from 0.03096\n",
      "Epoch 4/60\n",
      " - 2s - loss: 0.0230 - val_loss: 0.0328\n",
      "\n",
      "Epoch 00004: val_loss did not improve from 0.03096\n",
      "Epoch 5/60\n",
      " - 2s - loss: 0.0224 - val_loss: 0.0343\n",
      "\n",
      "Epoch 00005: val_loss did not improve from 0.03096\n",
      "Epoch 6/60\n",
      " - 2s - loss: 0.0224 - val_loss: 0.0377\n",
      "\n",
      "Epoch 00006: val_loss did not improve from 0.03096\n",
      "Epoch 7/60\n",
      " - 2s - loss: 0.0188 - val_loss: 0.0504\n",
      "\n",
      "Epoch 00007: val_loss did not improve from 0.03096\n",
      "Epoch 8/60\n",
      " - 2s - loss: 0.0196 - val_loss: 0.0706\n",
      "\n",
      "Epoch 00008: val_loss did not improve from 0.03096\n",
      "Epoch 9/60\n",
      " - 2s - loss: 0.0157 - val_loss: 0.0914\n",
      "\n",
      "Epoch 00009: val_loss did not improve from 0.03096\n",
      "Epoch 10/60\n",
      " - 2s - loss: 0.0166 - val_loss: 0.1223\n",
      "\n",
      "Epoch 00010: val_loss did not improve from 0.03096\n",
      "Epoch 11/60\n",
      " - 2s - loss: 0.0171 - val_loss: 0.1537\n",
      "\n",
      "Epoch 00011: val_loss did not improve from 0.03096\n",
      "Epoch 12/60\n",
      " - 2s - loss: 0.0128 - val_loss: 0.1717\n",
      "\n",
      "Epoch 00012: val_loss did not improve from 0.03096\n",
      "Epoch 13/60\n",
      " - 2s - loss: 0.0142 - val_loss: 0.1848\n",
      "\n",
      "Epoch 00013: val_loss did not improve from 0.03096\n",
      "False\n",
      "False\n",
      "START EVALUATION......:\n",
      "(10, 400, 400, 28)\n",
      "Loading model: ./trained_models/unet_div8_495K_40.hdf5\n"
     ]
    },
    {
     "name": "stderr",
     "output_type": "stream",
     "text": [
      "\n",
      "  0%|          | 0/10 [00:00<?, ?it/s]\u001b[A\n",
      " 10%|█         | 1/10 [00:02<00:21,  2.35s/it]\u001b[A"
     ]
    },
    {
     "name": "stdout",
     "output_type": "stream",
     "text": [
      "\n",
      " Time needed for MC Dropout-based Uncertainty Estimation   2.3419761657714844\n"
     ]
    },
    {
     "name": "stderr",
     "output_type": "stream",
     "text": [
      "\n",
      " 20%|██        | 2/10 [00:03<00:16,  2.06s/it]\u001b[A"
     ]
    },
    {
     "name": "stdout",
     "output_type": "stream",
     "text": [
      "\n",
      " Time needed for MC Dropout-based Uncertainty Estimation   1.381026268005371\n"
     ]
    },
    {
     "name": "stderr",
     "output_type": "stream",
     "text": [
      "\n",
      " 30%|███       | 3/10 [00:05<00:12,  1.85s/it]\u001b[A"
     ]
    },
    {
     "name": "stdout",
     "output_type": "stream",
     "text": [
      "\n",
      " Time needed for MC Dropout-based Uncertainty Estimation   1.3428184986114502\n"
     ]
    },
    {
     "name": "stderr",
     "output_type": "stream",
     "text": [
      "\n",
      " 40%|████      | 4/10 [00:06<00:10,  1.71s/it]\u001b[A"
     ]
    },
    {
     "name": "stdout",
     "output_type": "stream",
     "text": [
      "\n",
      " Time needed for MC Dropout-based Uncertainty Estimation   1.3707246780395508\n"
     ]
    },
    {
     "name": "stderr",
     "output_type": "stream",
     "text": [
      "\n",
      " 50%|█████     | 5/10 [00:07<00:08,  1.61s/it]\u001b[A"
     ]
    },
    {
     "name": "stdout",
     "output_type": "stream",
     "text": [
      "\n",
      " Time needed for MC Dropout-based Uncertainty Estimation   1.382096767425537\n"
     ]
    },
    {
     "name": "stderr",
     "output_type": "stream",
     "text": [
      "\n",
      " 60%|██████    | 6/10 [00:09<00:06,  1.54s/it]\u001b[A"
     ]
    },
    {
     "name": "stdout",
     "output_type": "stream",
     "text": [
      "\n",
      " Time needed for MC Dropout-based Uncertainty Estimation   1.3685388565063477\n"
     ]
    },
    {
     "name": "stderr",
     "output_type": "stream",
     "text": [
      "\n",
      " 70%|███████   | 7/10 [00:10<00:04,  1.49s/it]\u001b[A"
     ]
    },
    {
     "name": "stdout",
     "output_type": "stream",
     "text": [
      "\n",
      " Time needed for MC Dropout-based Uncertainty Estimation   1.376661777496338\n"
     ]
    },
    {
     "name": "stderr",
     "output_type": "stream",
     "text": [
      "\n",
      " 80%|████████  | 8/10 [00:11<00:02,  1.46s/it]\u001b[A"
     ]
    },
    {
     "name": "stdout",
     "output_type": "stream",
     "text": [
      "\n",
      " Time needed for MC Dropout-based Uncertainty Estimation   1.3597421646118164\n"
     ]
    },
    {
     "name": "stderr",
     "output_type": "stream",
     "text": [
      "\n",
      " 90%|█████████ | 9/10 [00:13<00:01,  1.43s/it]\u001b[A"
     ]
    },
    {
     "name": "stdout",
     "output_type": "stream",
     "text": [
      "\n",
      " Time needed for MC Dropout-based Uncertainty Estimation   1.3733680248260498\n"
     ]
    },
    {
     "name": "stderr",
     "output_type": "stream",
     "text": [
      "\n",
      "100%|██████████| 10/10 [00:14<00:00,  1.41s/it]\u001b[A"
     ]
    },
    {
     "name": "stdout",
     "output_type": "stream",
     "text": [
      "\n",
      " Time needed for MC Dropout-based Uncertainty Estimation   1.337083339691162\n",
      "Loading model: ./trained_models/unet_div8_495K_40_DiceNet.hdf5\n",
      "START EVALUATION......:\n",
      "(40, 400, 400, 28)\n",
      "Loading model: ./trained_models/unet_div8_495K_40.hdf5\n"
     ]
    },
    {
     "name": "stderr",
     "output_type": "stream",
     "text": [
      "\n",
      "  0%|          | 0/40 [00:00<?, ?it/s]\u001b[A\n",
      "  2%|▎         | 1/40 [00:07<04:51,  7.47s/it]\u001b[A"
     ]
    },
    {
     "name": "stdout",
     "output_type": "stream",
     "text": [
      "\n",
      " Time needed for MC Dropout-based Uncertainty Estimation   7.449607610702515\n"
     ]
    },
    {
     "name": "stderr",
     "output_type": "stream",
     "text": [
      "\n",
      "  5%|▌         | 2/40 [00:13<04:25,  6.99s/it]\u001b[A"
     ]
    },
    {
     "name": "stdout",
     "output_type": "stream",
     "text": [
      "\n",
      " Time needed for MC Dropout-based Uncertainty Estimation   5.846837043762207\n"
     ]
    },
    {
     "name": "stderr",
     "output_type": "stream",
     "text": [
      "\n",
      "  8%|▊         | 3/40 [00:19<04:04,  6.62s/it]\u001b[A"
     ]
    },
    {
     "name": "stdout",
     "output_type": "stream",
     "text": [
      "\n",
      " Time needed for MC Dropout-based Uncertainty Estimation   5.726107358932495\n"
     ]
    },
    {
     "name": "stderr",
     "output_type": "stream",
     "text": [
      "\n",
      " 10%|█         | 4/40 [00:24<03:48,  6.35s/it]\u001b[A"
     ]
    },
    {
     "name": "stdout",
     "output_type": "stream",
     "text": [
      "\n",
      " Time needed for MC Dropout-based Uncertainty Estimation   5.722538948059082\n"
     ]
    },
    {
     "name": "stderr",
     "output_type": "stream",
     "text": [
      "\n",
      " 12%|█▎        | 5/40 [00:30<03:36,  6.18s/it]\u001b[A"
     ]
    },
    {
     "name": "stdout",
     "output_type": "stream",
     "text": [
      "\n",
      " Time needed for MC Dropout-based Uncertainty Estimation   5.735630035400391\n"
     ]
    },
    {
     "name": "stderr",
     "output_type": "stream",
     "text": [
      "\n",
      " 15%|█▌        | 6/40 [00:36<03:26,  6.06s/it]\u001b[A"
     ]
    },
    {
     "name": "stdout",
     "output_type": "stream",
     "text": [
      "\n",
      " Time needed for MC Dropout-based Uncertainty Estimation   5.765543699264526\n"
     ]
    },
    {
     "name": "stderr",
     "output_type": "stream",
     "text": [
      "\n",
      " 18%|█▊        | 7/40 [00:42<03:15,  5.94s/it]\u001b[A"
     ]
    },
    {
     "name": "stdout",
     "output_type": "stream",
     "text": [
      "\n",
      " Time needed for MC Dropout-based Uncertainty Estimation   5.631602764129639\n"
     ]
    },
    {
     "name": "stderr",
     "output_type": "stream",
     "text": [
      "\n",
      " 20%|██        | 8/40 [00:47<03:09,  5.92s/it]\u001b[A"
     ]
    },
    {
     "name": "stdout",
     "output_type": "stream",
     "text": [
      "\n",
      " Time needed for MC Dropout-based Uncertainty Estimation   5.840634107589722\n"
     ]
    },
    {
     "name": "stderr",
     "output_type": "stream",
     "text": [
      "\n",
      " 22%|██▎       | 9/40 [00:53<03:02,  5.88s/it]\u001b[A"
     ]
    },
    {
     "name": "stdout",
     "output_type": "stream",
     "text": [
      "\n",
      " Time needed for MC Dropout-based Uncertainty Estimation   5.779632568359375\n"
     ]
    },
    {
     "name": "stderr",
     "output_type": "stream",
     "text": [
      "\n",
      " 25%|██▌       | 10/40 [00:59<02:55,  5.84s/it]\u001b[A"
     ]
    },
    {
     "name": "stdout",
     "output_type": "stream",
     "text": [
      "\n",
      " Time needed for MC Dropout-based Uncertainty Estimation   5.727492094039917\n"
     ]
    },
    {
     "name": "stderr",
     "output_type": "stream",
     "text": [
      "\n",
      " 28%|██▊       | 11/40 [01:05<02:49,  5.85s/it]\u001b[A"
     ]
    },
    {
     "name": "stdout",
     "output_type": "stream",
     "text": [
      "\n",
      " Time needed for MC Dropout-based Uncertainty Estimation   5.848226547241211\n"
     ]
    },
    {
     "name": "stderr",
     "output_type": "stream",
     "text": [
      "\n",
      " 30%|███       | 12/40 [01:11<02:42,  5.80s/it]\u001b[A"
     ]
    },
    {
     "name": "stdout",
     "output_type": "stream",
     "text": [
      "\n",
      " Time needed for MC Dropout-based Uncertainty Estimation   5.672422170639038\n"
     ]
    },
    {
     "name": "stderr",
     "output_type": "stream",
     "text": [
      "\n",
      " 32%|███▎      | 13/40 [01:16<02:36,  5.78s/it]\u001b[A"
     ]
    },
    {
     "name": "stdout",
     "output_type": "stream",
     "text": [
      "\n",
      " Time needed for MC Dropout-based Uncertainty Estimation   5.6937150955200195\n"
     ]
    },
    {
     "name": "stderr",
     "output_type": "stream",
     "text": [
      "\n",
      " 35%|███▌      | 14/40 [01:22<02:31,  5.81s/it]\u001b[A"
     ]
    },
    {
     "name": "stdout",
     "output_type": "stream",
     "text": [
      "\n",
      " Time needed for MC Dropout-based Uncertainty Estimation   5.856450796127319\n"
     ]
    },
    {
     "name": "stderr",
     "output_type": "stream",
     "text": [
      "\n",
      " 38%|███▊      | 15/40 [01:28<02:24,  5.79s/it]\u001b[A"
     ]
    },
    {
     "name": "stdout",
     "output_type": "stream",
     "text": [
      "\n",
      " Time needed for MC Dropout-based Uncertainty Estimation   5.7166078090667725\n"
     ]
    },
    {
     "name": "stderr",
     "output_type": "stream",
     "text": [
      "\n",
      " 40%|████      | 16/40 [01:34<02:18,  5.77s/it]\u001b[A"
     ]
    },
    {
     "name": "stdout",
     "output_type": "stream",
     "text": [
      "\n",
      " Time needed for MC Dropout-based Uncertainty Estimation   5.719882488250732\n"
     ]
    },
    {
     "name": "stderr",
     "output_type": "stream",
     "text": [
      "\n",
      " 42%|████▎     | 17/40 [01:39<02:13,  5.81s/it]\u001b[A"
     ]
    },
    {
     "name": "stdout",
     "output_type": "stream",
     "text": [
      "\n",
      " Time needed for MC Dropout-based Uncertainty Estimation   5.86316704750061\n"
     ]
    },
    {
     "name": "stderr",
     "output_type": "stream",
     "text": [
      "\n",
      " 45%|████▌     | 18/40 [01:45<02:07,  5.78s/it]\u001b[A"
     ]
    },
    {
     "name": "stdout",
     "output_type": "stream",
     "text": [
      "\n",
      " Time needed for MC Dropout-based Uncertainty Estimation   5.704855680465698\n"
     ]
    },
    {
     "name": "stderr",
     "output_type": "stream",
     "text": [
      "\n",
      " 48%|████▊     | 19/40 [01:51<02:00,  5.76s/it]\u001b[A"
     ]
    },
    {
     "name": "stdout",
     "output_type": "stream",
     "text": [
      "\n",
      " Time needed for MC Dropout-based Uncertainty Estimation   5.676468133926392\n"
     ]
    },
    {
     "name": "stderr",
     "output_type": "stream",
     "text": [
      "\n",
      " 50%|█████     | 20/40 [01:57<01:56,  5.82s/it]\u001b[A"
     ]
    },
    {
     "name": "stdout",
     "output_type": "stream",
     "text": [
      "\n",
      " Time needed for MC Dropout-based Uncertainty Estimation   5.927510023117065\n"
     ]
    },
    {
     "name": "stderr",
     "output_type": "stream",
     "text": [
      "\n",
      " 52%|█████▎    | 21/40 [02:03<01:50,  5.80s/it]\u001b[A"
     ]
    },
    {
     "name": "stdout",
     "output_type": "stream",
     "text": [
      "\n",
      " Time needed for MC Dropout-based Uncertainty Estimation   5.75253963470459\n"
     ]
    },
    {
     "name": "stderr",
     "output_type": "stream",
     "text": [
      "\n",
      " 55%|█████▌    | 22/40 [02:08<01:44,  5.78s/it]\u001b[A"
     ]
    },
    {
     "name": "stdout",
     "output_type": "stream",
     "text": [
      "\n",
      " Time needed for MC Dropout-based Uncertainty Estimation   5.71412467956543\n"
     ]
    },
    {
     "name": "stderr",
     "output_type": "stream",
     "text": [
      "\n",
      " 57%|█████▊    | 23/40 [02:14<01:38,  5.81s/it]\u001b[A"
     ]
    },
    {
     "name": "stdout",
     "output_type": "stream",
     "text": [
      "\n",
      " Time needed for MC Dropout-based Uncertainty Estimation   5.860607385635376\n"
     ]
    },
    {
     "name": "stderr",
     "output_type": "stream",
     "text": [
      "\n",
      " 60%|██████    | 24/40 [02:20<01:32,  5.78s/it]\u001b[A"
     ]
    },
    {
     "name": "stdout",
     "output_type": "stream",
     "text": [
      "\n",
      " Time needed for MC Dropout-based Uncertainty Estimation   5.68912148475647\n"
     ]
    },
    {
     "name": "stderr",
     "output_type": "stream",
     "text": [
      "\n",
      " 62%|██████▎   | 25/40 [02:26<01:26,  5.77s/it]\u001b[A"
     ]
    },
    {
     "name": "stdout",
     "output_type": "stream",
     "text": [
      "\n",
      " Time needed for MC Dropout-based Uncertainty Estimation   5.701937198638916\n"
     ]
    },
    {
     "name": "stderr",
     "output_type": "stream",
     "text": [
      "\n",
      " 65%|██████▌   | 26/40 [02:32<01:21,  5.79s/it]\u001b[A"
     ]
    },
    {
     "name": "stdout",
     "output_type": "stream",
     "text": [
      "\n",
      " Time needed for MC Dropout-based Uncertainty Estimation   5.82912540435791\n"
     ]
    },
    {
     "name": "stderr",
     "output_type": "stream",
     "text": [
      "\n",
      " 68%|██████▊   | 27/40 [02:37<01:15,  5.78s/it]\u001b[A"
     ]
    },
    {
     "name": "stdout",
     "output_type": "stream",
     "text": [
      "\n",
      " Time needed for MC Dropout-based Uncertainty Estimation   5.727007627487183\n"
     ]
    },
    {
     "name": "stderr",
     "output_type": "stream",
     "text": [
      "\n",
      " 70%|███████   | 28/40 [02:43<01:09,  5.78s/it]\u001b[A"
     ]
    },
    {
     "name": "stdout",
     "output_type": "stream",
     "text": [
      "\n",
      " Time needed for MC Dropout-based Uncertainty Estimation   5.758254528045654\n"
     ]
    },
    {
     "name": "stderr",
     "output_type": "stream",
     "text": [
      "\n",
      " 72%|███████▎  | 29/40 [02:49<01:03,  5.81s/it]\u001b[A"
     ]
    },
    {
     "name": "stdout",
     "output_type": "stream",
     "text": [
      "\n",
      " Time needed for MC Dropout-based Uncertainty Estimation   5.849155426025391\n"
     ]
    },
    {
     "name": "stderr",
     "output_type": "stream",
     "text": [
      "\n",
      " 75%|███████▌  | 30/40 [02:55<00:58,  5.80s/it]\u001b[A"
     ]
    },
    {
     "name": "stdout",
     "output_type": "stream",
     "text": [
      "\n",
      " Time needed for MC Dropout-based Uncertainty Estimation   5.759225130081177\n"
     ]
    },
    {
     "name": "stderr",
     "output_type": "stream",
     "text": [
      "\n",
      " 78%|███████▊  | 31/40 [03:00<00:52,  5.78s/it]\u001b[A"
     ]
    },
    {
     "name": "stdout",
     "output_type": "stream",
     "text": [
      "\n",
      " Time needed for MC Dropout-based Uncertainty Estimation   5.707927942276001\n"
     ]
    },
    {
     "name": "stderr",
     "output_type": "stream",
     "text": [
      "\n",
      " 80%|████████  | 32/40 [03:06<00:46,  5.81s/it]\u001b[A"
     ]
    },
    {
     "name": "stdout",
     "output_type": "stream",
     "text": [
      "\n",
      " Time needed for MC Dropout-based Uncertainty Estimation   5.853668212890625\n"
     ]
    },
    {
     "name": "stderr",
     "output_type": "stream",
     "text": [
      "\n",
      " 82%|████████▎ | 33/40 [03:12<00:40,  5.78s/it]\u001b[A"
     ]
    },
    {
     "name": "stdout",
     "output_type": "stream",
     "text": [
      "\n",
      " Time needed for MC Dropout-based Uncertainty Estimation   5.6993303298950195\n"
     ]
    },
    {
     "name": "stderr",
     "output_type": "stream",
     "text": [
      "\n",
      " 85%|████████▌ | 34/40 [03:18<00:34,  5.79s/it]\u001b[A"
     ]
    },
    {
     "name": "stdout",
     "output_type": "stream",
     "text": [
      "\n",
      " Time needed for MC Dropout-based Uncertainty Estimation   5.7835283279418945\n"
     ]
    },
    {
     "name": "stderr",
     "output_type": "stream",
     "text": [
      "\n",
      " 88%|████████▊ | 35/40 [03:24<00:29,  5.83s/it]\u001b[A"
     ]
    },
    {
     "name": "stdout",
     "output_type": "stream",
     "text": [
      "\n",
      " Time needed for MC Dropout-based Uncertainty Estimation   5.884723901748657\n"
     ]
    },
    {
     "name": "stderr",
     "output_type": "stream",
     "text": [
      "\n",
      " 90%|█████████ | 36/40 [03:30<00:23,  5.81s/it]\u001b[A"
     ]
    },
    {
     "name": "stdout",
     "output_type": "stream",
     "text": [
      "\n",
      " Time needed for MC Dropout-based Uncertainty Estimation   5.746443033218384\n"
     ]
    },
    {
     "name": "stderr",
     "output_type": "stream",
     "text": [
      "\n",
      " 92%|█████████▎| 37/40 [03:35<00:17,  5.80s/it]\u001b[A"
     ]
    },
    {
     "name": "stdout",
     "output_type": "stream",
     "text": [
      "\n",
      " Time needed for MC Dropout-based Uncertainty Estimation   5.754861354827881\n"
     ]
    },
    {
     "name": "stderr",
     "output_type": "stream",
     "text": [
      "\n",
      " 95%|█████████▌| 38/40 [03:41<00:11,  5.82s/it]\u001b[A"
     ]
    },
    {
     "name": "stdout",
     "output_type": "stream",
     "text": [
      "\n",
      " Time needed for MC Dropout-based Uncertainty Estimation   5.828836679458618\n"
     ]
    },
    {
     "name": "stderr",
     "output_type": "stream",
     "text": [
      "\n",
      " 98%|█████████▊| 39/40 [03:47<00:05,  5.81s/it]\u001b[A"
     ]
    },
    {
     "name": "stdout",
     "output_type": "stream",
     "text": [
      "\n",
      " Time needed for MC Dropout-based Uncertainty Estimation   5.762577056884766\n"
     ]
    },
    {
     "name": "stderr",
     "output_type": "stream",
     "text": [
      "\n",
      "100%|██████████| 40/40 [03:53<00:00,  5.81s/it]\u001b[A"
     ]
    },
    {
     "name": "stdout",
     "output_type": "stream",
     "text": [
      "\n",
      " Time needed for MC Dropout-based Uncertainty Estimation   5.7976579666137695\n",
      "START TRAINING......:\n",
      "Training with 40 images\n",
      "Validating with 10 images\n",
      "Training Unet-mcdropout\n",
      "(40, 400, 400, 28)\n",
      "Epoch 1/80\n",
      " - 6s - loss: 0.6546 - accuracy: 0.6259 - val_loss: 0.6858 - val_accuracy: 0.8259\n",
      "\n",
      "Epoch 00001: val_loss improved from inf to 0.68576, saving model to ./trained_models/unet_div8_495K_40.hdf5\n",
      "Epoch 2/80\n",
      " - 2s - loss: 0.5351 - accuracy: 0.8512 - val_loss: 1.0537 - val_accuracy: 0.2866\n",
      "\n",
      "Epoch 00002: val_loss did not improve from 0.68576\n",
      "Epoch 3/80\n",
      " - 6s - loss: 0.4833 - accuracy: 0.8803 - val_loss: 0.7430 - val_accuracy: 0.7722\n",
      "\n",
      "Epoch 00003: val_loss did not improve from 0.68576\n",
      "Epoch 4/80\n",
      " - 5s - loss: 0.4509 - accuracy: 0.8906 - val_loss: 0.8000 - val_accuracy: 0.5802\n",
      "\n",
      "Epoch 00004: val_loss did not improve from 0.68576\n",
      "Epoch 5/80\n",
      " - 5s - loss: 0.4242 - accuracy: 0.8910 - val_loss: 0.6066 - val_accuracy: 0.8507\n",
      "\n",
      "Epoch 00005: val_loss improved from 0.68576 to 0.60662, saving model to ./trained_models/unet_div8_495K_40.hdf5\n",
      "Epoch 6/80\n",
      " - 5s - loss: 0.4086 - accuracy: 0.8891 - val_loss: 0.6430 - val_accuracy: 0.7926\n",
      "\n",
      "Epoch 00006: val_loss did not improve from 0.60662\n",
      "Epoch 7/80\n",
      " - 5s - loss: 0.3929 - accuracy: 0.8921 - val_loss: 0.5862 - val_accuracy: 0.8598\n",
      "\n",
      "Epoch 00007: val_loss improved from 0.60662 to 0.58622, saving model to ./trained_models/unet_div8_495K_40.hdf5\n",
      "Epoch 8/80\n",
      " - 5s - loss: 0.3735 - accuracy: 0.8920 - val_loss: 0.6680 - val_accuracy: 0.6611\n",
      "\n",
      "Epoch 00008: val_loss did not improve from 0.58622\n",
      "Epoch 9/80\n",
      " - 5s - loss: 0.3565 - accuracy: 0.8934 - val_loss: 0.5720 - val_accuracy: 0.8707\n",
      "\n",
      "Epoch 00009: val_loss improved from 0.58622 to 0.57198, saving model to ./trained_models/unet_div8_495K_40.hdf5\n",
      "Epoch 10/80\n",
      " - 5s - loss: 0.3478 - accuracy: 0.8943 - val_loss: 0.5408 - val_accuracy: 0.8763\n",
      "\n",
      "Epoch 00010: val_loss improved from 0.57198 to 0.54079, saving model to ./trained_models/unet_div8_495K_40.hdf5\n",
      "Epoch 11/80\n",
      " - 5s - loss: 0.3342 - accuracy: 0.8958 - val_loss: 0.5632 - val_accuracy: 0.8706\n",
      "\n",
      "Epoch 00011: val_loss did not improve from 0.54079\n",
      "Epoch 12/80\n",
      " - 6s - loss: 0.3267 - accuracy: 0.8962 - val_loss: 0.3779 - val_accuracy: 0.8848\n",
      "\n",
      "Epoch 00012: val_loss improved from 0.54079 to 0.37788, saving model to ./trained_models/unet_div8_495K_40.hdf5\n",
      "Epoch 13/80\n",
      " - 5s - loss: 0.3169 - accuracy: 0.8966 - val_loss: 0.5978 - val_accuracy: 0.7645\n",
      "\n",
      "Epoch 00013: val_loss did not improve from 0.37788\n",
      "Epoch 14/80\n",
      " - 6s - loss: 0.3145 - accuracy: 0.8970 - val_loss: 0.5214 - val_accuracy: 0.8363\n",
      "\n",
      "Epoch 00014: val_loss did not improve from 0.37788\n",
      "Epoch 15/80\n",
      " - 6s - loss: 0.2972 - accuracy: 0.8973 - val_loss: 0.3635 - val_accuracy: 0.8848\n",
      "\n",
      "Epoch 00015: val_loss improved from 0.37788 to 0.36351, saving model to ./trained_models/unet_div8_495K_40.hdf5\n",
      "Epoch 16/80\n",
      " - 5s - loss: 0.2920 - accuracy: 0.8975 - val_loss: 0.3521 - val_accuracy: 0.8845\n",
      "\n",
      "Epoch 00016: val_loss improved from 0.36351 to 0.35214, saving model to ./trained_models/unet_div8_495K_40.hdf5\n",
      "Epoch 17/80\n",
      " - 5s - loss: 0.2841 - accuracy: 0.8976 - val_loss: 0.4044 - val_accuracy: 0.8800\n",
      "\n",
      "Epoch 00017: val_loss did not improve from 0.35214\n",
      "Epoch 18/80\n",
      " - 6s - loss: 0.2824 - accuracy: 0.8975 - val_loss: 0.3126 - val_accuracy: 0.8847\n",
      "\n",
      "Epoch 00018: val_loss improved from 0.35214 to 0.31261, saving model to ./trained_models/unet_div8_495K_40.hdf5\n",
      "Epoch 19/80\n",
      " - 5s - loss: 0.2743 - accuracy: 0.8976 - val_loss: 0.2968 - val_accuracy: 0.8847\n",
      "\n",
      "Epoch 00019: val_loss improved from 0.31261 to 0.29679, saving model to ./trained_models/unet_div8_495K_40.hdf5\n",
      "Epoch 20/80\n",
      " - 5s - loss: 0.2663 - accuracy: 0.8975 - val_loss: 0.3694 - val_accuracy: 0.8819\n",
      "\n",
      "Epoch 00020: val_loss did not improve from 0.29679\n",
      "Epoch 21/80\n",
      " - 6s - loss: 0.2580 - accuracy: 0.8976 - val_loss: 0.3678 - val_accuracy: 0.8846\n",
      "\n",
      "Epoch 00021: val_loss did not improve from 0.29679\n",
      "Epoch 22/80\n",
      " - 7s - loss: 0.2661 - accuracy: 0.8976 - val_loss: 0.3255 - val_accuracy: 0.8849\n",
      "\n",
      "Epoch 00022: val_loss did not improve from 0.29679\n",
      "Epoch 23/80\n",
      " - 5s - loss: 0.2557 - accuracy: 0.8980 - val_loss: 0.2886 - val_accuracy: 0.8847\n",
      "\n",
      "Epoch 00023: val_loss improved from 0.29679 to 0.28864, saving model to ./trained_models/unet_div8_495K_40.hdf5\n",
      "Epoch 24/80\n",
      " - 6s - loss: 0.2460 - accuracy: 0.8976 - val_loss: 0.3319 - val_accuracy: 0.8847\n",
      "\n",
      "Epoch 00024: val_loss did not improve from 0.28864\n",
      "Epoch 25/80\n",
      " - 5s - loss: 0.2439 - accuracy: 0.8979 - val_loss: 0.3558 - val_accuracy: 0.8847\n",
      "\n",
      "Epoch 00025: val_loss did not improve from 0.28864\n",
      "Epoch 26/80\n",
      " - 7s - loss: 0.2505 - accuracy: 0.8973 - val_loss: 0.2876 - val_accuracy: 0.8848\n",
      "\n",
      "Epoch 00026: val_loss improved from 0.28864 to 0.28758, saving model to ./trained_models/unet_div8_495K_40.hdf5\n",
      "Epoch 27/80\n",
      " - 5s - loss: 0.2374 - accuracy: 0.8979 - val_loss: 0.2611 - val_accuracy: 0.8844\n",
      "\n",
      "Epoch 00027: val_loss improved from 0.28758 to 0.26115, saving model to ./trained_models/unet_div8_495K_40.hdf5\n",
      "Epoch 28/80\n",
      " - 5s - loss: 0.2360 - accuracy: 0.8979 - val_loss: 0.2551 - val_accuracy: 0.8846\n",
      "\n",
      "Epoch 00028: val_loss improved from 0.26115 to 0.25512, saving model to ./trained_models/unet_div8_495K_40.hdf5\n",
      "Epoch 29/80\n",
      " - 6s - loss: 0.2335 - accuracy: 0.8977 - val_loss: 0.3513 - val_accuracy: 0.8848\n",
      "\n",
      "Epoch 00029: val_loss did not improve from 0.25512\n",
      "Epoch 30/80\n",
      " - 6s - loss: 0.2261 - accuracy: 0.8977 - val_loss: 0.2534 - val_accuracy: 0.8848\n",
      "\n",
      "Epoch 00030: val_loss improved from 0.25512 to 0.25339, saving model to ./trained_models/unet_div8_495K_40.hdf5\n",
      "Epoch 31/80\n",
      " - 7s - loss: 0.2223 - accuracy: 0.9014 - val_loss: 0.2539 - val_accuracy: 0.8848\n",
      "\n",
      "Epoch 00031: val_loss did not improve from 0.25339\n",
      "Epoch 32/80\n",
      " - 6s - loss: 0.2195 - accuracy: 0.8993 - val_loss: 0.2666 - val_accuracy: 0.8848\n",
      "\n",
      "Epoch 00032: val_loss did not improve from 0.25339\n",
      "Epoch 33/80\n",
      " - 5s - loss: 0.2218 - accuracy: 0.8991 - val_loss: 0.2891 - val_accuracy: 0.8848\n",
      "\n",
      "Epoch 00033: val_loss did not improve from 0.25339\n",
      "Epoch 34/80\n",
      " - 5s - loss: 0.2216 - accuracy: 0.9007 - val_loss: 0.2346 - val_accuracy: 0.8859\n",
      "\n",
      "Epoch 00034: val_loss improved from 0.25339 to 0.23464, saving model to ./trained_models/unet_div8_495K_40.hdf5\n",
      "Epoch 35/80\n",
      " - 5s - loss: 0.2114 - accuracy: 0.9033 - val_loss: 0.2559 - val_accuracy: 0.8839\n",
      "\n",
      "Epoch 00035: val_loss did not improve from 0.23464\n",
      "Epoch 36/80\n",
      " - 6s - loss: 0.2142 - accuracy: 0.9007 - val_loss: 0.2810 - val_accuracy: 0.8846\n",
      "\n",
      "Epoch 00036: val_loss did not improve from 0.23464\n",
      "Epoch 37/80\n",
      " - 7s - loss: 0.2036 - accuracy: 0.9103 - val_loss: 0.3214 - val_accuracy: 0.8847\n",
      "\n",
      "Epoch 00037: val_loss did not improve from 0.23464\n",
      "Epoch 38/80\n",
      " - 5s - loss: 0.2124 - accuracy: 0.9030 - val_loss: 0.2234 - val_accuracy: 0.8846\n",
      "\n",
      "Epoch 00038: val_loss improved from 0.23464 to 0.22345, saving model to ./trained_models/unet_div8_495K_40.hdf5\n",
      "Epoch 39/80\n",
      " - 6s - loss: 0.2041 - accuracy: 0.9099 - val_loss: 0.2304 - val_accuracy: 0.8848\n",
      "\n",
      "Epoch 00039: val_loss did not improve from 0.22345\n",
      "Epoch 40/80\n",
      " - 6s - loss: 0.2120 - accuracy: 0.9058 - val_loss: 0.2514 - val_accuracy: 0.8849\n",
      "\n",
      "Epoch 00040: val_loss did not improve from 0.22345\n",
      "Epoch 41/80\n",
      " - 6s - loss: 0.2175 - accuracy: 0.9003 - val_loss: 0.3144 - val_accuracy: 0.8831\n",
      "\n",
      "Epoch 00041: val_loss did not improve from 0.22345\n",
      "Epoch 42/80\n",
      " - 6s - loss: 0.2050 - accuracy: 0.9088 - val_loss: 0.2749 - val_accuracy: 0.8696\n",
      "\n",
      "Epoch 00042: val_loss did not improve from 0.22345\n",
      "Epoch 43/80\n",
      " - 5s - loss: 0.2036 - accuracy: 0.9107 - val_loss: 0.2804 - val_accuracy: 0.8283\n",
      "\n",
      "Epoch 00043: val_loss did not improve from 0.22345\n",
      "Epoch 44/80\n",
      " - 6s - loss: 0.1983 - accuracy: 0.9099 - val_loss: 0.2185 - val_accuracy: 0.8943\n",
      "\n",
      "Epoch 00044: val_loss improved from 0.22345 to 0.21853, saving model to ./trained_models/unet_div8_495K_40.hdf5\n",
      "Epoch 45/80\n",
      " - 6s - loss: 0.1984 - accuracy: 0.9087 - val_loss: 0.2342 - val_accuracy: 0.8980\n",
      "\n",
      "Epoch 00045: val_loss did not improve from 0.21853\n",
      "Epoch 46/80\n",
      " - 5s - loss: 0.1887 - accuracy: 0.9124 - val_loss: 0.2356 - val_accuracy: 0.8897\n",
      "\n",
      "Epoch 00046: val_loss did not improve from 0.21853\n",
      "Epoch 47/80\n",
      " - 6s - loss: 0.1904 - accuracy: 0.9155 - val_loss: 0.2325 - val_accuracy: 0.8958\n",
      "\n",
      "Epoch 00047: val_loss did not improve from 0.21853\n",
      "Epoch 48/80\n",
      " - 5s - loss: 0.1879 - accuracy: 0.9138 - val_loss: 0.2363 - val_accuracy: 0.8880\n"
     ]
    },
    {
     "name": "stdout",
     "output_type": "stream",
     "text": [
      "\n",
      "Epoch 00048: val_loss did not improve from 0.21853\n",
      "Epoch 49/80\n",
      " - 7s - loss: 0.1832 - accuracy: 0.9171 - val_loss: 0.2289 - val_accuracy: 0.8917\n",
      "\n",
      "Epoch 00049: val_loss did not improve from 0.21853\n",
      "Epoch 50/80\n",
      " - 5s - loss: 0.1804 - accuracy: 0.9192 - val_loss: 0.2214 - val_accuracy: 0.9080\n",
      "\n",
      "Epoch 00050: val_loss did not improve from 0.21853\n",
      "Epoch 51/80\n",
      " - 5s - loss: 0.1930 - accuracy: 0.9078 - val_loss: 0.2346 - val_accuracy: 0.8820\n",
      "\n",
      "Epoch 00051: val_loss did not improve from 0.21853\n",
      "Epoch 52/80\n",
      " - 6s - loss: 0.1928 - accuracy: 0.9102 - val_loss: 0.2239 - val_accuracy: 0.9058\n",
      "\n",
      "Epoch 00052: val_loss did not improve from 0.21853\n",
      "Epoch 53/80\n",
      " - 5s - loss: 0.1924 - accuracy: 0.9124 - val_loss: 0.3867 - val_accuracy: 0.8877\n",
      "\n",
      "Epoch 00053: val_loss did not improve from 0.21853\n",
      "Epoch 54/80\n",
      " - 5s - loss: 0.1745 - accuracy: 0.9211 - val_loss: 0.2491 - val_accuracy: 0.8560\n",
      "\n",
      "Epoch 00054: val_loss did not improve from 0.21853\n",
      "Epoch 55/80\n",
      " - 5s - loss: 0.1799 - accuracy: 0.9192 - val_loss: 0.2515 - val_accuracy: 0.8987\n",
      "\n",
      "Epoch 00055: val_loss did not improve from 0.21853\n",
      "Epoch 56/80\n",
      " - 5s - loss: 0.1823 - accuracy: 0.9142 - val_loss: 0.2206 - val_accuracy: 0.8946\n"
     ]
    },
    {
     "name": "stderr",
     "output_type": "stream",
     "text": [
      "\n",
      "  0%|          | 0/40 [00:00<?, ?it/s]\u001b[A"
     ]
    },
    {
     "name": "stdout",
     "output_type": "stream",
     "text": [
      "\n",
      "Epoch 00056: val_loss did not improve from 0.21853\n"
     ]
    },
    {
     "name": "stderr",
     "output_type": "stream",
     "text": [
      "\n",
      "  2%|▎         | 1/40 [00:22<14:44, 22.68s/it]\u001b[A"
     ]
    },
    {
     "name": "stdout",
     "output_type": "stream",
     "text": [
      "\n",
      " Time needed for MC Dropout-based Uncertainty Estimation   22.662843942642212\n"
     ]
    },
    {
     "name": "stderr",
     "output_type": "stream",
     "text": [
      "\n",
      "  5%|▌         | 2/40 [00:44<14:14, 22.50s/it]\u001b[A"
     ]
    },
    {
     "name": "stdout",
     "output_type": "stream",
     "text": [
      "\n",
      " Time needed for MC Dropout-based Uncertainty Estimation   22.039605379104614\n"
     ]
    },
    {
     "name": "stderr",
     "output_type": "stream",
     "text": [
      "\n",
      "  8%|▊         | 3/40 [01:06<13:41, 22.19s/it]\u001b[A"
     ]
    },
    {
     "name": "stdout",
     "output_type": "stream",
     "text": [
      "\n",
      " Time needed for MC Dropout-based Uncertainty Estimation   21.43867564201355\n"
     ]
    },
    {
     "name": "stderr",
     "output_type": "stream",
     "text": [
      "\n",
      " 10%|█         | 4/40 [01:27<13:11, 21.99s/it]\u001b[A"
     ]
    },
    {
     "name": "stdout",
     "output_type": "stream",
     "text": [
      "\n",
      " Time needed for MC Dropout-based Uncertainty Estimation   21.503479480743408\n"
     ]
    },
    {
     "name": "stderr",
     "output_type": "stream",
     "text": [
      "\n",
      " 12%|█▎        | 5/40 [01:49<12:50, 22.03s/it]\u001b[A"
     ]
    },
    {
     "name": "stdout",
     "output_type": "stream",
     "text": [
      "\n",
      " Time needed for MC Dropout-based Uncertainty Estimation   22.071367740631104\n"
     ]
    },
    {
     "name": "stderr",
     "output_type": "stream",
     "text": [
      "\n",
      " 15%|█▌        | 6/40 [02:11<12:24, 21.91s/it]\u001b[A"
     ]
    },
    {
     "name": "stdout",
     "output_type": "stream",
     "text": [
      "\n",
      " Time needed for MC Dropout-based Uncertainty Estimation   21.591264724731445\n"
     ]
    },
    {
     "name": "stderr",
     "output_type": "stream",
     "text": [
      "\n",
      " 18%|█▊        | 7/40 [02:33<11:59, 21.80s/it]\u001b[A"
     ]
    },
    {
     "name": "stdout",
     "output_type": "stream",
     "text": [
      "\n",
      " Time needed for MC Dropout-based Uncertainty Estimation   21.531212091445923\n"
     ]
    },
    {
     "name": "stderr",
     "output_type": "stream",
     "text": [
      "\n",
      " 20%|██        | 8/40 [02:55<11:41, 21.91s/it]\u001b[A"
     ]
    },
    {
     "name": "stdout",
     "output_type": "stream",
     "text": [
      "\n",
      " Time needed for MC Dropout-based Uncertainty Estimation   22.110084533691406\n"
     ]
    },
    {
     "name": "stderr",
     "output_type": "stream",
     "text": [
      "\n",
      " 22%|██▎       | 9/40 [03:16<11:16, 21.82s/it]\u001b[A"
     ]
    },
    {
     "name": "stdout",
     "output_type": "stream",
     "text": [
      "\n",
      " Time needed for MC Dropout-based Uncertainty Estimation   21.591598987579346\n"
     ]
    },
    {
     "name": "stderr",
     "output_type": "stream",
     "text": [
      "\n",
      " 25%|██▌       | 10/40 [03:38<10:52, 21.74s/it]\u001b[A"
     ]
    },
    {
     "name": "stdout",
     "output_type": "stream",
     "text": [
      "\n",
      " Time needed for MC Dropout-based Uncertainty Estimation   21.529610872268677\n"
     ]
    },
    {
     "name": "stderr",
     "output_type": "stream",
     "text": [
      "\n",
      " 28%|██▊       | 11/40 [04:00<10:33, 21.84s/it]\u001b[A"
     ]
    },
    {
     "name": "stdout",
     "output_type": "stream",
     "text": [
      "\n",
      " Time needed for MC Dropout-based Uncertainty Estimation   22.026493310928345\n"
     ]
    },
    {
     "name": "stderr",
     "output_type": "stream",
     "text": [
      "\n",
      " 30%|███       | 12/40 [04:21<10:07, 21.71s/it]\u001b[A"
     ]
    },
    {
     "name": "stdout",
     "output_type": "stream",
     "text": [
      "\n",
      " Time needed for MC Dropout-based Uncertainty Estimation   21.369155645370483\n"
     ]
    },
    {
     "name": "stderr",
     "output_type": "stream",
     "text": [
      "\n",
      " 32%|███▎      | 13/40 [04:43<09:45, 21.67s/it]\u001b[A"
     ]
    },
    {
     "name": "stdout",
     "output_type": "stream",
     "text": [
      "\n",
      " Time needed for MC Dropout-based Uncertainty Estimation   21.547572135925293\n"
     ]
    },
    {
     "name": "stderr",
     "output_type": "stream",
     "text": [
      "\n",
      " 35%|███▌      | 14/40 [05:05<09:25, 21.74s/it]\u001b[A"
     ]
    },
    {
     "name": "stdout",
     "output_type": "stream",
     "text": [
      "\n",
      " Time needed for MC Dropout-based Uncertainty Estimation   21.881977319717407\n"
     ]
    },
    {
     "name": "stderr",
     "output_type": "stream",
     "text": [
      "\n",
      " 38%|███▊      | 15/40 [05:26<09:00, 21.64s/it]\u001b[A"
     ]
    },
    {
     "name": "stdout",
     "output_type": "stream",
     "text": [
      "\n",
      " Time needed for MC Dropout-based Uncertainty Estimation   21.35900330543518\n"
     ]
    },
    {
     "name": "stderr",
     "output_type": "stream",
     "text": [
      "\n",
      " 40%|████      | 16/40 [05:48<08:37, 21.56s/it]\u001b[A"
     ]
    },
    {
     "name": "stdout",
     "output_type": "stream",
     "text": [
      "\n",
      " Time needed for MC Dropout-based Uncertainty Estimation   21.350996017456055\n"
     ]
    },
    {
     "name": "stderr",
     "output_type": "stream",
     "text": [
      "\n",
      " 42%|████▎     | 17/40 [06:10<08:19, 21.72s/it]\u001b[A"
     ]
    },
    {
     "name": "stdout",
     "output_type": "stream",
     "text": [
      "\n",
      " Time needed for MC Dropout-based Uncertainty Estimation   22.050992965698242\n"
     ]
    },
    {
     "name": "stderr",
     "output_type": "stream",
     "text": [
      "\n",
      " 45%|████▌     | 18/40 [06:31<07:55, 21.62s/it]\u001b[A"
     ]
    },
    {
     "name": "stdout",
     "output_type": "stream",
     "text": [
      "\n",
      " Time needed for MC Dropout-based Uncertainty Estimation   21.36421251296997\n"
     ]
    },
    {
     "name": "stderr",
     "output_type": "stream",
     "text": [
      "\n",
      " 48%|████▊     | 19/40 [06:53<07:33, 21.60s/it]\u001b[A"
     ]
    },
    {
     "name": "stdout",
     "output_type": "stream",
     "text": [
      "\n",
      " Time needed for MC Dropout-based Uncertainty Estimation   21.513712406158447\n"
     ]
    },
    {
     "name": "stderr",
     "output_type": "stream",
     "text": [
      "\n",
      " 50%|█████     | 20/40 [07:15<07:15, 21.79s/it]\u001b[A"
     ]
    },
    {
     "name": "stdout",
     "output_type": "stream",
     "text": [
      "\n",
      " Time needed for MC Dropout-based Uncertainty Estimation   22.209548711776733\n"
     ]
    },
    {
     "name": "stderr",
     "output_type": "stream",
     "text": [
      "\n",
      " 52%|█████▎    | 21/40 [07:36<06:51, 21.66s/it]\u001b[A"
     ]
    },
    {
     "name": "stdout",
     "output_type": "stream",
     "text": [
      "\n",
      " Time needed for MC Dropout-based Uncertainty Estimation   21.321304321289062\n"
     ]
    },
    {
     "name": "stderr",
     "output_type": "stream",
     "text": [
      "\n",
      " 55%|█████▌    | 22/40 [07:58<06:28, 21.57s/it]\u001b[A"
     ]
    },
    {
     "name": "stdout",
     "output_type": "stream",
     "text": [
      "\n",
      " Time needed for MC Dropout-based Uncertainty Estimation   21.309726238250732\n"
     ]
    },
    {
     "name": "stderr",
     "output_type": "stream",
     "text": [
      "\n",
      " 57%|█████▊    | 23/40 [08:20<06:08, 21.70s/it]\u001b[A"
     ]
    },
    {
     "name": "stdout",
     "output_type": "stream",
     "text": [
      "\n",
      " Time needed for MC Dropout-based Uncertainty Estimation   21.96670889854431\n"
     ]
    },
    {
     "name": "stderr",
     "output_type": "stream",
     "text": [
      "\n",
      " 60%|██████    | 24/40 [08:41<05:44, 21.54s/it]\u001b[A"
     ]
    },
    {
     "name": "stdout",
     "output_type": "stream",
     "text": [
      "\n",
      " Time needed for MC Dropout-based Uncertainty Estimation   21.138224124908447\n"
     ]
    },
    {
     "name": "stderr",
     "output_type": "stream",
     "text": [
      "\n",
      " 62%|██████▎   | 25/40 [09:02<05:21, 21.46s/it]\u001b[A"
     ]
    },
    {
     "name": "stdout",
     "output_type": "stream",
     "text": [
      "\n",
      " Time needed for MC Dropout-based Uncertainty Estimation   21.242079257965088\n"
     ]
    },
    {
     "name": "stderr",
     "output_type": "stream",
     "text": [
      "\n",
      " 65%|██████▌   | 26/40 [09:24<05:02, 21.59s/it]\u001b[A"
     ]
    },
    {
     "name": "stdout",
     "output_type": "stream",
     "text": [
      "\n",
      " Time needed for MC Dropout-based Uncertainty Estimation   21.86140489578247\n"
     ]
    },
    {
     "name": "stderr",
     "output_type": "stream",
     "text": [
      "\n",
      " 68%|██████▊   | 27/40 [09:45<04:40, 21.56s/it]\u001b[A"
     ]
    },
    {
     "name": "stdout",
     "output_type": "stream",
     "text": [
      "\n",
      " Time needed for MC Dropout-based Uncertainty Estimation   21.44061541557312\n"
     ]
    },
    {
     "name": "stderr",
     "output_type": "stream",
     "text": [
      "\n",
      " 70%|███████   | 28/40 [10:07<04:18, 21.52s/it]\u001b[A"
     ]
    },
    {
     "name": "stdout",
     "output_type": "stream",
     "text": [
      "\n",
      " Time needed for MC Dropout-based Uncertainty Estimation   21.395886421203613\n"
     ]
    },
    {
     "name": "stderr",
     "output_type": "stream",
     "text": [
      "\n",
      " 72%|███████▎  | 29/40 [10:29<03:58, 21.71s/it]\u001b[A"
     ]
    },
    {
     "name": "stdout",
     "output_type": "stream",
     "text": [
      "\n",
      " Time needed for MC Dropout-based Uncertainty Estimation   22.134057760238647\n"
     ]
    },
    {
     "name": "stderr",
     "output_type": "stream",
     "text": [
      "\n",
      " 75%|███████▌  | 30/40 [10:51<03:36, 21.67s/it]\u001b[A"
     ]
    },
    {
     "name": "stdout",
     "output_type": "stream",
     "text": [
      "\n",
      " Time needed for MC Dropout-based Uncertainty Estimation   21.52155566215515\n"
     ]
    },
    {
     "name": "stderr",
     "output_type": "stream",
     "text": [
      "\n",
      " 78%|███████▊  | 31/40 [11:12<03:14, 21.65s/it]\u001b[A"
     ]
    },
    {
     "name": "stdout",
     "output_type": "stream",
     "text": [
      "\n",
      " Time needed for MC Dropout-based Uncertainty Estimation   21.582449197769165\n"
     ]
    },
    {
     "name": "stderr",
     "output_type": "stream",
     "text": [
      "\n",
      " 80%|████████  | 32/40 [11:34<02:54, 21.76s/it]\u001b[A"
     ]
    },
    {
     "name": "stdout",
     "output_type": "stream",
     "text": [
      "\n",
      " Time needed for MC Dropout-based Uncertainty Estimation   21.988389253616333\n"
     ]
    },
    {
     "name": "stderr",
     "output_type": "stream",
     "text": [
      "\n",
      " 82%|████████▎ | 33/40 [11:56<02:31, 21.69s/it]\u001b[A"
     ]
    },
    {
     "name": "stdout",
     "output_type": "stream",
     "text": [
      "\n",
      " Time needed for MC Dropout-based Uncertainty Estimation   21.47626495361328\n"
     ]
    },
    {
     "name": "stderr",
     "output_type": "stream",
     "text": [
      "\n",
      " 85%|████████▌ | 34/40 [12:17<02:10, 21.69s/it]\u001b[A"
     ]
    },
    {
     "name": "stdout",
     "output_type": "stream",
     "text": [
      "\n",
      " Time needed for MC Dropout-based Uncertainty Estimation   21.67266297340393\n"
     ]
    },
    {
     "name": "stderr",
     "output_type": "stream",
     "text": [
      "\n",
      " 88%|████████▊ | 35/40 [12:40<01:49, 21.81s/it]\u001b[A"
     ]
    },
    {
     "name": "stdout",
     "output_type": "stream",
     "text": [
      "\n",
      " Time needed for MC Dropout-based Uncertainty Estimation   22.064011573791504\n"
     ]
    },
    {
     "name": "stderr",
     "output_type": "stream",
     "text": [
      "\n",
      " 90%|█████████ | 36/40 [13:01<01:26, 21.63s/it]\u001b[A"
     ]
    },
    {
     "name": "stdout",
     "output_type": "stream",
     "text": [
      "\n",
      " Time needed for MC Dropout-based Uncertainty Estimation   21.15087389945984\n"
     ]
    },
    {
     "name": "stderr",
     "output_type": "stream",
     "text": [
      "\n",
      " 92%|█████████▎| 37/40 [13:22<01:04, 21.59s/it]\u001b[A"
     ]
    },
    {
     "name": "stdout",
     "output_type": "stream",
     "text": [
      "\n",
      " Time needed for MC Dropout-based Uncertainty Estimation   21.482184886932373\n"
     ]
    },
    {
     "name": "stderr",
     "output_type": "stream",
     "text": [
      "\n",
      " 95%|█████████▌| 38/40 [13:44<00:43, 21.69s/it]\u001b[A"
     ]
    },
    {
     "name": "stdout",
     "output_type": "stream",
     "text": [
      "\n",
      " Time needed for MC Dropout-based Uncertainty Estimation   21.888907194137573\n"
     ]
    },
    {
     "name": "stderr",
     "output_type": "stream",
     "text": [
      "\n",
      " 98%|█████████▊| 39/40 [14:06<00:21, 21.63s/it]\u001b[A"
     ]
    },
    {
     "name": "stdout",
     "output_type": "stream",
     "text": [
      "\n",
      " Time needed for MC Dropout-based Uncertainty Estimation   21.438660621643066\n"
     ]
    },
    {
     "name": "stderr",
     "output_type": "stream",
     "text": [
      "\n",
      "100%|██████████| 40/40 [14:27<00:00, 21.60s/it]\u001b[A\n",
      "  0%|          | 0/10 [00:00<?, ?it/s]\u001b[A"
     ]
    },
    {
     "name": "stdout",
     "output_type": "stream",
     "text": [
      "\n",
      " Time needed for MC Dropout-based Uncertainty Estimation   21.49011254310608\n"
     ]
    },
    {
     "name": "stderr",
     "output_type": "stream",
     "text": [
      "\n",
      " 10%|█         | 1/10 [00:05<00:45,  5.06s/it]\u001b[A"
     ]
    },
    {
     "name": "stdout",
     "output_type": "stream",
     "text": [
      "\n",
      " Time needed for MC Dropout-based Uncertainty Estimation   5.052602767944336\n"
     ]
    },
    {
     "name": "stderr",
     "output_type": "stream",
     "text": [
      "\n",
      " 20%|██        | 2/10 [00:10<00:40,  5.06s/it]\u001b[A"
     ]
    },
    {
     "name": "stdout",
     "output_type": "stream",
     "text": [
      "\n",
      " Time needed for MC Dropout-based Uncertainty Estimation   5.052868127822876\n"
     ]
    },
    {
     "name": "stderr",
     "output_type": "stream",
     "text": [
      "\n",
      " 30%|███       | 3/10 [00:15<00:36,  5.17s/it]\u001b[A"
     ]
    },
    {
     "name": "stdout",
     "output_type": "stream",
     "text": [
      "\n",
      " Time needed for MC Dropout-based Uncertainty Estimation   5.405210018157959\n"
     ]
    },
    {
     "name": "stderr",
     "output_type": "stream",
     "text": [
      "\n",
      " 40%|████      | 4/10 [00:20<00:31,  5.25s/it]\u001b[A"
     ]
    },
    {
     "name": "stdout",
     "output_type": "stream",
     "text": [
      "\n",
      " Time needed for MC Dropout-based Uncertainty Estimation   5.425981283187866\n"
     ]
    },
    {
     "name": "stderr",
     "output_type": "stream",
     "text": [
      "\n",
      " 50%|█████     | 5/10 [00:26<00:25,  5.18s/it]\u001b[A"
     ]
    },
    {
     "name": "stdout",
     "output_type": "stream",
     "text": [
      "\n",
      " Time needed for MC Dropout-based Uncertainty Estimation   5.024932146072388\n"
     ]
    },
    {
     "name": "stderr",
     "output_type": "stream",
     "text": [
      "\n",
      " 60%|██████    | 6/10 [00:31<00:20,  5.25s/it]\u001b[A"
     ]
    },
    {
     "name": "stdout",
     "output_type": "stream",
     "text": [
      "\n",
      " Time needed for MC Dropout-based Uncertainty Estimation   5.387952566146851\n"
     ]
    },
    {
     "name": "stderr",
     "output_type": "stream",
     "text": [
      "\n",
      " 70%|███████   | 7/10 [00:36<00:15,  5.28s/it]\u001b[A"
     ]
    },
    {
     "name": "stdout",
     "output_type": "stream",
     "text": [
      "\n",
      " Time needed for MC Dropout-based Uncertainty Estimation   5.346532821655273\n"
     ]
    },
    {
     "name": "stderr",
     "output_type": "stream",
     "text": [
      "\n",
      " 80%|████████  | 8/10 [00:41<00:10,  5.21s/it]\u001b[A"
     ]
    },
    {
     "name": "stdout",
     "output_type": "stream",
     "text": [
      "\n",
      " Time needed for MC Dropout-based Uncertainty Estimation   5.027575492858887\n"
     ]
    },
    {
     "name": "stderr",
     "output_type": "stream",
     "text": [
      "\n",
      " 90%|█████████ | 9/10 [00:47<00:05,  5.27s/it]\u001b[A"
     ]
    },
    {
     "name": "stdout",
     "output_type": "stream",
     "text": [
      "\n",
      " Time needed for MC Dropout-based Uncertainty Estimation   5.405363321304321\n"
     ]
    },
    {
     "name": "stderr",
     "output_type": "stream",
     "text": [
      "\n",
      "100%|██████████| 10/10 [00:52<00:00,  5.31s/it]\u001b[A"
     ]
    },
    {
     "name": "stdout",
     "output_type": "stream",
     "text": [
      "\n",
      " Time needed for MC Dropout-based Uncertainty Estimation   5.406873464584351\n",
      "Model: \"model_2\"\n",
      "_________________________________________________________________\n",
      "Layer (type)                 Output Shape              Param #   \n",
      "=================================================================\n",
      "input (InputLayer)           (None, 400, 400, 30)      0         \n",
      "_________________________________________________________________\n",
      "conv2d_11 (Conv2D)           (None, 400, 400, 32)      8672      \n",
      "_________________________________________________________________\n",
      "batch_normalization_19 (Batc (None, 400, 400, 32)      128       \n",
      "_________________________________________________________________\n",
      "activation_19 (Activation)   (None, 400, 400, 32)      0         \n",
      "_________________________________________________________________\n",
      "conv2d_12 (Conv2D)           (None, 400, 400, 32)      9248      \n",
      "_________________________________________________________________\n",
      "batch_normalization_20 (Batc (None, 400, 400, 32)      128       \n",
      "_________________________________________________________________\n",
      "activation_20 (Activation)   (None, 400, 400, 32)      0         \n",
      "_________________________________________________________________\n",
      "max_pooling2d_5 (MaxPooling2 (None, 200, 200, 32)      0         \n",
      "_________________________________________________________________\n",
      "conv2d_13 (Conv2D)           (None, 200, 200, 64)      18496     \n",
      "_________________________________________________________________\n",
      "batch_normalization_21 (Batc (None, 200, 200, 64)      256       \n",
      "_________________________________________________________________\n",
      "activation_21 (Activation)   (None, 200, 200, 64)      0         \n",
      "_________________________________________________________________\n",
      "conv2d_14 (Conv2D)           (None, 200, 200, 64)      36928     \n",
      "_________________________________________________________________\n",
      "batch_normalization_22 (Batc (None, 200, 200, 64)      256       \n",
      "_________________________________________________________________\n",
      "activation_22 (Activation)   (None, 200, 200, 64)      0         \n",
      "_________________________________________________________________\n",
      "max_pooling2d_6 (MaxPooling2 (None, 100, 100, 64)      0         \n",
      "_________________________________________________________________\n",
      "conv2d_15 (Conv2D)           (None, 100, 100, 128)     73856     \n",
      "_________________________________________________________________\n",
      "batch_normalization_23 (Batc (None, 100, 100, 128)     512       \n",
      "_________________________________________________________________\n",
      "activation_23 (Activation)   (None, 100, 100, 128)     0         \n",
      "_________________________________________________________________\n",
      "conv2d_16 (Conv2D)           (None, 100, 100, 128)     147584    \n",
      "_________________________________________________________________\n",
      "batch_normalization_24 (Batc (None, 100, 100, 128)     512       \n",
      "_________________________________________________________________\n",
      "activation_24 (Activation)   (None, 100, 100, 128)     0         \n",
      "_________________________________________________________________\n",
      "max_pooling2d_7 (MaxPooling2 (None, 50, 50, 128)       0         \n",
      "_________________________________________________________________\n",
      "conv2d_17 (Conv2D)           (None, 50, 50, 256)       295168    \n",
      "_________________________________________________________________\n",
      "batch_normalization_25 (Batc (None, 50, 50, 256)       1024      \n",
      "_________________________________________________________________\n",
      "activation_25 (Activation)   (None, 50, 50, 256)       0         \n",
      "_________________________________________________________________\n",
      "conv2d_18 (Conv2D)           (None, 50, 50, 256)       590080    \n",
      "_________________________________________________________________\n",
      "batch_normalization_26 (Batc (None, 50, 50, 256)       1024      \n",
      "_________________________________________________________________\n",
      "activation_26 (Activation)   (None, 50, 50, 256)       0         \n",
      "_________________________________________________________________\n",
      "global_average_pooling2d_1 ( (None, 256)               0         \n",
      "_________________________________________________________________\n",
      "dense_2 (Dense)              (None, 1)                 257       \n",
      "_________________________________________________________________\n",
      "output (Activation)          (None, 1)                 0         \n",
      "=================================================================\n",
      "Total params: 1,184,129\n",
      "Trainable params: 1,182,209\n",
      "Non-trainable params: 1,920\n",
      "_________________________________________________________________\n",
      "(40, 1)\n",
      "Train on 40 samples, validate on 10 samples\n",
      "Epoch 1/60\n",
      " - 3s - loss: 0.0378 - val_loss: 0.0436\n",
      "\n",
      "Epoch 00001: val_loss improved from inf to 0.04362, saving model to ./trained_models/unet_div8_495K_40_DiceNet.hdf5\n",
      "Epoch 2/60\n",
      " - 2s - loss: 0.0378 - val_loss: 0.0435\n",
      "\n",
      "Epoch 00002: val_loss improved from 0.04362 to 0.04352, saving model to ./trained_models/unet_div8_495K_40_DiceNet.hdf5\n",
      "Epoch 3/60\n",
      " - 2s - loss: 0.0377 - val_loss: 0.0434\n",
      "\n",
      "Epoch 00003: val_loss improved from 0.04352 to 0.04341, saving model to ./trained_models/unet_div8_495K_40_DiceNet.hdf5\n",
      "Epoch 4/60\n",
      " - 2s - loss: 0.0376 - val_loss: 0.0433\n",
      "\n",
      "Epoch 00004: val_loss improved from 0.04341 to 0.04331, saving model to ./trained_models/unet_div8_495K_40_DiceNet.hdf5\n",
      "Epoch 5/60\n",
      " - 2s - loss: 0.0375 - val_loss: 0.0432\n",
      "\n",
      "Epoch 00005: val_loss improved from 0.04331 to 0.04320, saving model to ./trained_models/unet_div8_495K_40_DiceNet.hdf5\n",
      "Epoch 6/60\n",
      " - 2s - loss: 0.0375 - val_loss: 0.0431\n",
      "\n",
      "Epoch 00006: val_loss improved from 0.04320 to 0.04309, saving model to ./trained_models/unet_div8_495K_40_DiceNet.hdf5\n",
      "Epoch 7/60\n",
      " - 2s - loss: 0.0374 - val_loss: 0.0430\n",
      "\n",
      "Epoch 00007: val_loss improved from 0.04309 to 0.04300, saving model to ./trained_models/unet_div8_495K_40_DiceNet.hdf5\n",
      "Epoch 8/60\n",
      " - 2s - loss: 0.0373 - val_loss: 0.0429\n",
      "\n",
      "Epoch 00008: val_loss improved from 0.04300 to 0.04291, saving model to ./trained_models/unet_div8_495K_40_DiceNet.hdf5\n",
      "Epoch 9/60\n",
      " - 2s - loss: 0.0373 - val_loss: 0.0428\n",
      "\n",
      "Epoch 00009: val_loss improved from 0.04291 to 0.04283, saving model to ./trained_models/unet_div8_495K_40_DiceNet.hdf5\n",
      "Epoch 10/60\n",
      " - 2s - loss: 0.0372 - val_loss: 0.0427\n",
      "\n",
      "Epoch 00010: val_loss improved from 0.04283 to 0.04274, saving model to ./trained_models/unet_div8_495K_40_DiceNet.hdf5\n",
      "Epoch 11/60\n",
      " - 2s - loss: 0.0371 - val_loss: 0.0426\n",
      "\n",
      "Epoch 00011: val_loss improved from 0.04274 to 0.04264, saving model to ./trained_models/unet_div8_495K_40_DiceNet.hdf5\n",
      "Epoch 12/60\n",
      " - 2s - loss: 0.0371 - val_loss: 0.0426\n",
      "\n",
      "Epoch 00012: val_loss improved from 0.04264 to 0.04255, saving model to ./trained_models/unet_div8_495K_40_DiceNet.hdf5\n",
      "Epoch 13/60\n",
      " - 2s - loss: 0.0370 - val_loss: 0.0425\n",
      "\n",
      "Epoch 00013: val_loss improved from 0.04255 to 0.04246, saving model to ./trained_models/unet_div8_495K_40_DiceNet.hdf5\n",
      "Epoch 14/60\n",
      " - 2s - loss: 0.0370 - val_loss: 0.0424\n",
      "\n",
      "Epoch 00014: val_loss improved from 0.04246 to 0.04238, saving model to ./trained_models/unet_div8_495K_40_DiceNet.hdf5\n",
      "Epoch 15/60\n",
      " - 2s - loss: 0.0369 - val_loss: 0.0423\n",
      "\n",
      "Epoch 00015: val_loss improved from 0.04238 to 0.04230, saving model to ./trained_models/unet_div8_495K_40_DiceNet.hdf5\n",
      "Epoch 16/60\n",
      " - 2s - loss: 0.0368 - val_loss: 0.0422\n",
      "\n",
      "Epoch 00016: val_loss improved from 0.04230 to 0.04222, saving model to ./trained_models/unet_div8_495K_40_DiceNet.hdf5\n",
      "Epoch 17/60\n",
      " - 2s - loss: 0.0368 - val_loss: 0.0421\n",
      "\n",
      "Epoch 00017: val_loss improved from 0.04222 to 0.04213, saving model to ./trained_models/unet_div8_495K_40_DiceNet.hdf5\n",
      "Epoch 18/60\n",
      " - 2s - loss: 0.0367 - val_loss: 0.0421\n",
      "\n",
      "Epoch 00018: val_loss improved from 0.04213 to 0.04205, saving model to ./trained_models/unet_div8_495K_40_DiceNet.hdf5\n",
      "Epoch 19/60\n",
      " - 2s - loss: 0.0367 - val_loss: 0.0420\n",
      "\n",
      "Epoch 00019: val_loss improved from 0.04205 to 0.04197, saving model to ./trained_models/unet_div8_495K_40_DiceNet.hdf5\n",
      "Epoch 20/60\n",
      " - 2s - loss: 0.0366 - val_loss: 0.0419\n",
      "\n",
      "Epoch 00020: val_loss improved from 0.04197 to 0.04189, saving model to ./trained_models/unet_div8_495K_40_DiceNet.hdf5\n",
      "Epoch 21/60\n",
      " - 2s - loss: 0.0366 - val_loss: 0.0418\n",
      "\n",
      "Epoch 00021: val_loss improved from 0.04189 to 0.04181, saving model to ./trained_models/unet_div8_495K_40_DiceNet.hdf5\n",
      "Epoch 22/60\n"
     ]
    },
    {
     "name": "stdout",
     "output_type": "stream",
     "text": [
      " - 2s - loss: 0.0365 - val_loss: 0.0417\n",
      "\n",
      "Epoch 00022: val_loss improved from 0.04181 to 0.04174, saving model to ./trained_models/unet_div8_495K_40_DiceNet.hdf5\n",
      "Epoch 23/60\n",
      " - 2s - loss: 0.0365 - val_loss: 0.0417\n",
      "\n",
      "Epoch 00023: val_loss improved from 0.04174 to 0.04166, saving model to ./trained_models/unet_div8_495K_40_DiceNet.hdf5\n",
      "Epoch 24/60\n",
      " - 2s - loss: 0.0364 - val_loss: 0.0416\n",
      "\n",
      "Epoch 00024: val_loss improved from 0.04166 to 0.04158, saving model to ./trained_models/unet_div8_495K_40_DiceNet.hdf5\n",
      "Epoch 25/60\n",
      " - 2s - loss: 0.0364 - val_loss: 0.0415\n",
      "\n",
      "Epoch 00025: val_loss improved from 0.04158 to 0.04151, saving model to ./trained_models/unet_div8_495K_40_DiceNet.hdf5\n",
      "Epoch 26/60\n",
      " - 2s - loss: 0.0363 - val_loss: 0.0414\n",
      "\n",
      "Epoch 00026: val_loss improved from 0.04151 to 0.04144, saving model to ./trained_models/unet_div8_495K_40_DiceNet.hdf5\n",
      "Epoch 27/60\n",
      " - 2s - loss: 0.0363 - val_loss: 0.0414\n",
      "\n",
      "Epoch 00027: val_loss improved from 0.04144 to 0.04136, saving model to ./trained_models/unet_div8_495K_40_DiceNet.hdf5\n",
      "Epoch 28/60\n",
      " - 2s - loss: 0.0362 - val_loss: 0.0413\n",
      "\n",
      "Epoch 00028: val_loss improved from 0.04136 to 0.04129, saving model to ./trained_models/unet_div8_495K_40_DiceNet.hdf5\n",
      "Epoch 29/60\n",
      " - 2s - loss: 0.0362 - val_loss: 0.0412\n",
      "\n",
      "Epoch 00029: val_loss improved from 0.04129 to 0.04122, saving model to ./trained_models/unet_div8_495K_40_DiceNet.hdf5\n",
      "Epoch 30/60\n",
      " - 2s - loss: 0.0361 - val_loss: 0.0411\n",
      "\n",
      "Epoch 00030: val_loss improved from 0.04122 to 0.04114, saving model to ./trained_models/unet_div8_495K_40_DiceNet.hdf5\n",
      "Epoch 31/60\n",
      " - 2s - loss: 0.0361 - val_loss: 0.0411\n",
      "\n",
      "Epoch 00031: val_loss improved from 0.04114 to 0.04106, saving model to ./trained_models/unet_div8_495K_40_DiceNet.hdf5\n",
      "Epoch 32/60\n",
      " - 2s - loss: 0.0360 - val_loss: 0.0410\n",
      "\n",
      "Epoch 00032: val_loss improved from 0.04106 to 0.04098, saving model to ./trained_models/unet_div8_495K_40_DiceNet.hdf5\n",
      "Epoch 33/60\n",
      " - 2s - loss: 0.0360 - val_loss: 0.0409\n",
      "\n",
      "Epoch 00033: val_loss improved from 0.04098 to 0.04091, saving model to ./trained_models/unet_div8_495K_40_DiceNet.hdf5\n",
      "Epoch 34/60\n",
      " - 2s - loss: 0.0359 - val_loss: 0.0408\n",
      "\n",
      "Epoch 00034: val_loss improved from 0.04091 to 0.04083, saving model to ./trained_models/unet_div8_495K_40_DiceNet.hdf5\n",
      "Epoch 35/60\n",
      " - 2s - loss: 0.0359 - val_loss: 0.0408\n",
      "\n",
      "Epoch 00035: val_loss improved from 0.04083 to 0.04075, saving model to ./trained_models/unet_div8_495K_40_DiceNet.hdf5\n",
      "Epoch 36/60\n",
      " - 2s - loss: 0.0358 - val_loss: 0.0407\n",
      "\n",
      "Epoch 00036: val_loss improved from 0.04075 to 0.04068, saving model to ./trained_models/unet_div8_495K_40_DiceNet.hdf5\n",
      "Epoch 37/60\n",
      " - 2s - loss: 0.0358 - val_loss: 0.0406\n",
      "\n",
      "Epoch 00037: val_loss improved from 0.04068 to 0.04061, saving model to ./trained_models/unet_div8_495K_40_DiceNet.hdf5\n",
      "Epoch 38/60\n",
      " - 2s - loss: 0.0357 - val_loss: 0.0406\n",
      "\n",
      "Epoch 00038: val_loss improved from 0.04061 to 0.04055, saving model to ./trained_models/unet_div8_495K_40_DiceNet.hdf5\n",
      "Epoch 39/60\n",
      " - 2s - loss: 0.0357 - val_loss: 0.0405\n",
      "\n",
      "Epoch 00039: val_loss improved from 0.04055 to 0.04049, saving model to ./trained_models/unet_div8_495K_40_DiceNet.hdf5\n",
      "Epoch 40/60\n",
      " - 2s - loss: 0.0356 - val_loss: 0.0404\n",
      "\n",
      "Epoch 00040: val_loss improved from 0.04049 to 0.04043, saving model to ./trained_models/unet_div8_495K_40_DiceNet.hdf5\n",
      "Epoch 41/60\n",
      " - 2s - loss: 0.0356 - val_loss: 0.0404\n",
      "\n",
      "Epoch 00041: val_loss improved from 0.04043 to 0.04036, saving model to ./trained_models/unet_div8_495K_40_DiceNet.hdf5\n",
      "Epoch 42/60\n",
      " - 2s - loss: 0.0356 - val_loss: 0.0403\n",
      "\n",
      "Epoch 00042: val_loss improved from 0.04036 to 0.04029, saving model to ./trained_models/unet_div8_495K_40_DiceNet.hdf5\n",
      "Epoch 43/60\n",
      " - 2s - loss: 0.0355 - val_loss: 0.0402\n",
      "\n",
      "Epoch 00043: val_loss improved from 0.04029 to 0.04022, saving model to ./trained_models/unet_div8_495K_40_DiceNet.hdf5\n",
      "Epoch 44/60\n",
      " - 2s - loss: 0.0355 - val_loss: 0.0401\n",
      "\n",
      "Epoch 00044: val_loss improved from 0.04022 to 0.04015, saving model to ./trained_models/unet_div8_495K_40_DiceNet.hdf5\n",
      "Epoch 45/60\n",
      " - 2s - loss: 0.0354 - val_loss: 0.0401\n",
      "\n",
      "Epoch 00045: val_loss improved from 0.04015 to 0.04008, saving model to ./trained_models/unet_div8_495K_40_DiceNet.hdf5\n",
      "Epoch 46/60\n",
      " - 2s - loss: 0.0354 - val_loss: 0.0400\n",
      "\n",
      "Epoch 00046: val_loss improved from 0.04008 to 0.04000, saving model to ./trained_models/unet_div8_495K_40_DiceNet.hdf5\n",
      "Epoch 47/60\n",
      " - 2s - loss: 0.0353 - val_loss: 0.0399\n",
      "\n",
      "Epoch 00047: val_loss improved from 0.04000 to 0.03993, saving model to ./trained_models/unet_div8_495K_40_DiceNet.hdf5\n",
      "Epoch 48/60\n",
      " - 2s - loss: 0.0353 - val_loss: 0.0399\n",
      "\n",
      "Epoch 00048: val_loss improved from 0.03993 to 0.03986, saving model to ./trained_models/unet_div8_495K_40_DiceNet.hdf5\n",
      "Epoch 49/60\n",
      " - 2s - loss: 0.0352 - val_loss: 0.0398\n",
      "\n",
      "Epoch 00049: val_loss improved from 0.03986 to 0.03979, saving model to ./trained_models/unet_div8_495K_40_DiceNet.hdf5\n",
      "Epoch 50/60\n",
      " - 2s - loss: 0.0352 - val_loss: 0.0397\n",
      "\n",
      "Epoch 00050: val_loss improved from 0.03979 to 0.03972, saving model to ./trained_models/unet_div8_495K_40_DiceNet.hdf5\n",
      "Epoch 51/60\n",
      " - 2s - loss: 0.0351 - val_loss: 0.0397\n",
      "\n",
      "Epoch 00051: val_loss improved from 0.03972 to 0.03965, saving model to ./trained_models/unet_div8_495K_40_DiceNet.hdf5\n",
      "Epoch 52/60\n",
      " - 2s - loss: 0.0351 - val_loss: 0.0396\n",
      "\n",
      "Epoch 00052: val_loss improved from 0.03965 to 0.03959, saving model to ./trained_models/unet_div8_495K_40_DiceNet.hdf5\n",
      "Epoch 53/60\n",
      " - 2s - loss: 0.0351 - val_loss: 0.0395\n",
      "\n",
      "Epoch 00053: val_loss improved from 0.03959 to 0.03952, saving model to ./trained_models/unet_div8_495K_40_DiceNet.hdf5\n",
      "Epoch 54/60\n",
      " - 2s - loss: 0.0350 - val_loss: 0.0395\n",
      "\n",
      "Epoch 00054: val_loss improved from 0.03952 to 0.03946, saving model to ./trained_models/unet_div8_495K_40_DiceNet.hdf5\n",
      "Epoch 55/60\n",
      " - 2s - loss: 0.0350 - val_loss: 0.0394\n",
      "\n",
      "Epoch 00055: val_loss improved from 0.03946 to 0.03940, saving model to ./trained_models/unet_div8_495K_40_DiceNet.hdf5\n",
      "Epoch 56/60\n",
      " - 2s - loss: 0.0349 - val_loss: 0.0393\n",
      "\n",
      "Epoch 00056: val_loss improved from 0.03940 to 0.03933, saving model to ./trained_models/unet_div8_495K_40_DiceNet.hdf5\n",
      "Epoch 57/60\n",
      " - 2s - loss: 0.0349 - val_loss: 0.0393\n",
      "\n",
      "Epoch 00057: val_loss improved from 0.03933 to 0.03927, saving model to ./trained_models/unet_div8_495K_40_DiceNet.hdf5\n",
      "Epoch 58/60\n",
      " - 2s - loss: 0.0349 - val_loss: 0.0392\n",
      "\n",
      "Epoch 00058: val_loss improved from 0.03927 to 0.03920, saving model to ./trained_models/unet_div8_495K_40_DiceNet.hdf5\n",
      "Epoch 59/60\n",
      " - 2s - loss: 0.0348 - val_loss: 0.0391\n",
      "\n",
      "Epoch 00059: val_loss improved from 0.03920 to 0.03914, saving model to ./trained_models/unet_div8_495K_40_DiceNet.hdf5\n",
      "Epoch 60/60\n",
      " - 2s - loss: 0.0348 - val_loss: 0.0391\n",
      "\n",
      "Epoch 00060: val_loss improved from 0.03914 to 0.03907, saving model to ./trained_models/unet_div8_495K_40_DiceNet.hdf5\n",
      "False\n",
      "False\n",
      "START EVALUATION......:\n",
      "(10, 400, 400, 28)\n",
      "Loading model: ./trained_models/unet_div8_495K_40.hdf5\n"
     ]
    },
    {
     "name": "stderr",
     "output_type": "stream",
     "text": [
      "\n",
      "  0%|          | 0/10 [00:00<?, ?it/s]\u001b[A\n",
      " 10%|█         | 1/10 [00:02<00:21,  2.42s/it]\u001b[A"
     ]
    },
    {
     "name": "stdout",
     "output_type": "stream",
     "text": [
      "\n",
      " Time needed for MC Dropout-based Uncertainty Estimation   2.412212610244751\n"
     ]
    },
    {
     "name": "stderr",
     "output_type": "stream",
     "text": [
      "\n",
      " 20%|██        | 2/10 [00:03<00:16,  2.12s/it]\u001b[A"
     ]
    },
    {
     "name": "stdout",
     "output_type": "stream",
     "text": [
      "\n",
      " Time needed for MC Dropout-based Uncertainty Estimation   1.414588212966919\n"
     ]
    },
    {
     "name": "stderr",
     "output_type": "stream",
     "text": [
      "\n",
      " 30%|███       | 3/10 [00:05<00:13,  1.88s/it]\u001b[A"
     ]
    },
    {
     "name": "stdout",
     "output_type": "stream",
     "text": [
      "\n",
      " Time needed for MC Dropout-based Uncertainty Estimation   1.3107905387878418\n"
     ]
    },
    {
     "name": "stderr",
     "output_type": "stream",
     "text": [
      "\n",
      " 40%|████      | 4/10 [00:06<00:10,  1.74s/it]\u001b[A"
     ]
    },
    {
     "name": "stdout",
     "output_type": "stream",
     "text": [
      "\n",
      " Time needed for MC Dropout-based Uncertainty Estimation   1.4048433303833008\n"
     ]
    },
    {
     "name": "stderr",
     "output_type": "stream",
     "text": [
      "\n",
      " 50%|█████     | 5/10 [00:08<00:08,  1.65s/it]\u001b[A"
     ]
    },
    {
     "name": "stdout",
     "output_type": "stream",
     "text": [
      "\n",
      " Time needed for MC Dropout-based Uncertainty Estimation   1.4138710498809814\n"
     ]
    },
    {
     "name": "stderr",
     "output_type": "stream",
     "text": [
      "\n",
      " 60%|██████    | 6/10 [00:09<00:06,  1.58s/it]\u001b[A"
     ]
    },
    {
     "name": "stdout",
     "output_type": "stream",
     "text": [
      "\n",
      " Time needed for MC Dropout-based Uncertainty Estimation   1.4212837219238281\n"
     ]
    },
    {
     "name": "stderr",
     "output_type": "stream",
     "text": [
      "\n",
      " 70%|███████   | 7/10 [00:10<00:04,  1.50s/it]\u001b[A"
     ]
    },
    {
     "name": "stdout",
     "output_type": "stream",
     "text": [
      "\n",
      " Time needed for MC Dropout-based Uncertainty Estimation   1.3077316284179688\n"
     ]
    },
    {
     "name": "stderr",
     "output_type": "stream",
     "text": [
      "\n",
      " 80%|████████  | 8/10 [00:12<00:02,  1.44s/it]\u001b[A"
     ]
    },
    {
     "name": "stdout",
     "output_type": "stream",
     "text": [
      "\n",
      " Time needed for MC Dropout-based Uncertainty Estimation   1.2906486988067627\n"
     ]
    },
    {
     "name": "stderr",
     "output_type": "stream",
     "text": [
      "\n",
      " 90%|█████████ | 9/10 [00:13<00:01,  1.44s/it]\u001b[A"
     ]
    },
    {
     "name": "stdout",
     "output_type": "stream",
     "text": [
      "\n",
      " Time needed for MC Dropout-based Uncertainty Estimation   1.4119384288787842\n"
     ]
    },
    {
     "name": "stderr",
     "output_type": "stream",
     "text": [
      "\n",
      "100%|██████████| 10/10 [00:14<00:00,  1.43s/it]\u001b[A"
     ]
    },
    {
     "name": "stdout",
     "output_type": "stream",
     "text": [
      "\n",
      " Time needed for MC Dropout-based Uncertainty Estimation   1.4204370975494385\n",
      "Loading model: ./trained_models/unet_div8_495K_40_DiceNet.hdf5\n",
      "START EVALUATION......:\n",
      "(40, 400, 400, 28)\n",
      "Loading model: ./trained_models/unet_div8_495K_40.hdf5\n"
     ]
    },
    {
     "name": "stderr",
     "output_type": "stream",
     "text": [
      "\n",
      "  0%|          | 0/40 [00:00<?, ?it/s]\u001b[A\n",
      "  2%|▎         | 1/40 [00:07<04:57,  7.64s/it]\u001b[A"
     ]
    },
    {
     "name": "stdout",
     "output_type": "stream",
     "text": [
      "\n",
      " Time needed for MC Dropout-based Uncertainty Estimation   7.6176581382751465\n"
     ]
    },
    {
     "name": "stderr",
     "output_type": "stream",
     "text": [
      "\n",
      "  5%|▌         | 2/40 [00:13<04:30,  7.12s/it]\u001b[A"
     ]
    },
    {
     "name": "stdout",
     "output_type": "stream",
     "text": [
      "\n",
      " Time needed for MC Dropout-based Uncertainty Estimation   5.878225803375244\n"
     ]
    },
    {
     "name": "stderr",
     "output_type": "stream",
     "text": [
      "\n",
      "  8%|▊         | 3/40 [00:18<04:03,  6.59s/it]\u001b[A"
     ]
    },
    {
     "name": "stdout",
     "output_type": "stream",
     "text": [
      "\n",
      " Time needed for MC Dropout-based Uncertainty Estimation   5.353398561477661\n"
     ]
    },
    {
     "name": "stderr",
     "output_type": "stream",
     "text": [
      "\n",
      " 10%|█         | 4/40 [00:24<03:48,  6.35s/it]\u001b[A"
     ]
    },
    {
     "name": "stdout",
     "output_type": "stream",
     "text": [
      "\n",
      " Time needed for MC Dropout-based Uncertainty Estimation   5.747862815856934\n"
     ]
    },
    {
     "name": "stderr",
     "output_type": "stream",
     "text": [
      "\n",
      " 12%|█▎        | 5/40 [00:30<03:37,  6.21s/it]\u001b[A"
     ]
    },
    {
     "name": "stdout",
     "output_type": "stream",
     "text": [
      "\n",
      " Time needed for MC Dropout-based Uncertainty Estimation   5.879975080490112\n"
     ]
    },
    {
     "name": "stderr",
     "output_type": "stream",
     "text": [
      "\n",
      " 15%|█▌        | 6/40 [00:36<03:23,  5.97s/it]\u001b[A"
     ]
    },
    {
     "name": "stdout",
     "output_type": "stream",
     "text": [
      "\n",
      " Time needed for MC Dropout-based Uncertainty Estimation   5.388011693954468\n"
     ]
    },
    {
     "name": "stderr",
     "output_type": "stream",
     "text": [
      "\n",
      " 18%|█▊        | 7/40 [00:41<03:15,  5.91s/it]\u001b[A"
     ]
    },
    {
     "name": "stdout",
     "output_type": "stream",
     "text": [
      "\n",
      " Time needed for MC Dropout-based Uncertainty Estimation   5.737016439437866\n"
     ]
    },
    {
     "name": "stderr",
     "output_type": "stream",
     "text": [
      "\n",
      " 20%|██        | 8/40 [00:47<03:08,  5.90s/it]\u001b[A"
     ]
    },
    {
     "name": "stdout",
     "output_type": "stream",
     "text": [
      "\n",
      " Time needed for MC Dropout-based Uncertainty Estimation   5.849213600158691\n"
     ]
    },
    {
     "name": "stderr",
     "output_type": "stream",
     "text": [
      "\n",
      " 22%|██▎       | 9/40 [00:53<02:58,  5.76s/it]\u001b[A"
     ]
    },
    {
     "name": "stdout",
     "output_type": "stream",
     "text": [
      "\n",
      " Time needed for MC Dropout-based Uncertainty Estimation   5.406095027923584\n"
     ]
    },
    {
     "name": "stderr",
     "output_type": "stream",
     "text": [
      "\n",
      " 25%|██▌       | 10/40 [00:58<02:52,  5.75s/it]\u001b[A"
     ]
    },
    {
     "name": "stdout",
     "output_type": "stream",
     "text": [
      "\n",
      " Time needed for MC Dropout-based Uncertainty Estimation   5.715351819992065\n"
     ]
    },
    {
     "name": "stderr",
     "output_type": "stream",
     "text": [
      "\n",
      " 28%|██▊       | 11/40 [01:04<02:47,  5.78s/it]\u001b[A"
     ]
    },
    {
     "name": "stdout",
     "output_type": "stream",
     "text": [
      "\n",
      " Time needed for MC Dropout-based Uncertainty Estimation   5.831458330154419\n"
     ]
    },
    {
     "name": "stderr",
     "output_type": "stream",
     "text": [
      "\n",
      " 30%|███       | 12/40 [01:10<02:38,  5.66s/it]\u001b[A"
     ]
    },
    {
     "name": "stdout",
     "output_type": "stream",
     "text": [
      "\n",
      " Time needed for MC Dropout-based Uncertainty Estimation   5.364812612533569\n"
     ]
    },
    {
     "name": "stderr",
     "output_type": "stream",
     "text": [
      "\n",
      " 32%|███▎      | 13/40 [01:15<02:33,  5.68s/it]\u001b[A"
     ]
    },
    {
     "name": "stdout",
     "output_type": "stream",
     "text": [
      "\n",
      " Time needed for MC Dropout-based Uncertainty Estimation   5.697652339935303\n"
     ]
    },
    {
     "name": "stderr",
     "output_type": "stream",
     "text": [
      "\n",
      " 35%|███▌      | 14/40 [01:21<02:29,  5.75s/it]\u001b[A"
     ]
    },
    {
     "name": "stdout",
     "output_type": "stream",
     "text": [
      "\n",
      " Time needed for MC Dropout-based Uncertainty Estimation   5.883132696151733\n"
     ]
    },
    {
     "name": "stderr",
     "output_type": "stream",
     "text": [
      "\n",
      " 38%|███▊      | 15/40 [01:27<02:20,  5.63s/it]\u001b[A"
     ]
    },
    {
     "name": "stdout",
     "output_type": "stream",
     "text": [
      "\n",
      " Time needed for MC Dropout-based Uncertainty Estimation   5.33990478515625\n"
     ]
    },
    {
     "name": "stderr",
     "output_type": "stream",
     "text": [
      "\n",
      " 40%|████      | 16/40 [01:32<02:15,  5.66s/it]\u001b[A"
     ]
    },
    {
     "name": "stdout",
     "output_type": "stream",
     "text": [
      "\n",
      " Time needed for MC Dropout-based Uncertainty Estimation   5.706984519958496\n"
     ]
    },
    {
     "name": "stderr",
     "output_type": "stream",
     "text": [
      "\n",
      " 42%|████▎     | 17/40 [01:38<02:11,  5.74s/it]\u001b[A"
     ]
    },
    {
     "name": "stdout",
     "output_type": "stream",
     "text": [
      "\n",
      " Time needed for MC Dropout-based Uncertainty Estimation   5.8852317333221436\n"
     ]
    },
    {
     "name": "stderr",
     "output_type": "stream",
     "text": [
      "\n",
      " 45%|████▌     | 18/40 [01:43<02:03,  5.61s/it]\u001b[A"
     ]
    },
    {
     "name": "stdout",
     "output_type": "stream",
     "text": [
      "\n",
      " Time needed for MC Dropout-based Uncertainty Estimation   5.300607204437256\n"
     ]
    },
    {
     "name": "stderr",
     "output_type": "stream",
     "text": [
      "\n",
      " 48%|████▊     | 19/40 [01:49<01:58,  5.63s/it]\u001b[A"
     ]
    },
    {
     "name": "stdout",
     "output_type": "stream",
     "text": [
      "\n",
      " Time needed for MC Dropout-based Uncertainty Estimation   5.653301000595093\n"
     ]
    },
    {
     "name": "stderr",
     "output_type": "stream",
     "text": [
      "\n",
      " 50%|█████     | 20/40 [01:55<01:54,  5.70s/it]\u001b[A"
     ]
    },
    {
     "name": "stdout",
     "output_type": "stream",
     "text": [
      "\n",
      " Time needed for MC Dropout-based Uncertainty Estimation   5.850817680358887\n"
     ]
    },
    {
     "name": "stderr",
     "output_type": "stream",
     "text": [
      "\n",
      " 52%|█████▎    | 21/40 [02:00<01:46,  5.59s/it]\u001b[A"
     ]
    },
    {
     "name": "stdout",
     "output_type": "stream",
     "text": [
      "\n",
      " Time needed for MC Dropout-based Uncertainty Estimation   5.285790205001831\n"
     ]
    },
    {
     "name": "stderr",
     "output_type": "stream",
     "text": [
      "\n",
      " 55%|█████▌    | 22/40 [02:06<01:41,  5.64s/it]\u001b[A"
     ]
    },
    {
     "name": "stdout",
     "output_type": "stream",
     "text": [
      "\n",
      " Time needed for MC Dropout-based Uncertainty Estimation   5.750898838043213\n"
     ]
    },
    {
     "name": "stderr",
     "output_type": "stream",
     "text": [
      "\n",
      " 57%|█████▊    | 23/40 [02:12<01:37,  5.72s/it]\u001b[A"
     ]
    },
    {
     "name": "stdout",
     "output_type": "stream",
     "text": [
      "\n",
      " Time needed for MC Dropout-based Uncertainty Estimation   5.868433713912964\n"
     ]
    },
    {
     "name": "stderr",
     "output_type": "stream",
     "text": [
      "\n",
      " 60%|██████    | 24/40 [02:17<01:29,  5.62s/it]\u001b[A"
     ]
    },
    {
     "name": "stdout",
     "output_type": "stream",
     "text": [
      "\n",
      " Time needed for MC Dropout-based Uncertainty Estimation   5.353210687637329\n"
     ]
    },
    {
     "name": "stderr",
     "output_type": "stream",
     "text": [
      "\n",
      " 62%|██████▎   | 25/40 [02:23<01:24,  5.66s/it]\u001b[A"
     ]
    },
    {
     "name": "stdout",
     "output_type": "stream",
     "text": [
      "\n",
      " Time needed for MC Dropout-based Uncertainty Estimation   5.739742279052734\n"
     ]
    },
    {
     "name": "stderr",
     "output_type": "stream",
     "text": [
      "\n",
      " 65%|██████▌   | 26/40 [02:29<01:20,  5.73s/it]\u001b[A"
     ]
    },
    {
     "name": "stdout",
     "output_type": "stream",
     "text": [
      "\n",
      " Time needed for MC Dropout-based Uncertainty Estimation   5.854868650436401\n"
     ]
    },
    {
     "name": "stderr",
     "output_type": "stream",
     "text": [
      "\n",
      " 68%|██████▊   | 27/40 [02:34<01:12,  5.60s/it]\u001b[A"
     ]
    },
    {
     "name": "stdout",
     "output_type": "stream",
     "text": [
      "\n",
      " Time needed for MC Dropout-based Uncertainty Estimation   5.292351245880127\n"
     ]
    },
    {
     "name": "stderr",
     "output_type": "stream",
     "text": [
      "\n",
      " 70%|███████   | 28/40 [02:40<01:07,  5.66s/it]\u001b[A"
     ]
    },
    {
     "name": "stdout",
     "output_type": "stream",
     "text": [
      "\n",
      " Time needed for MC Dropout-based Uncertainty Estimation   5.7718963623046875\n"
     ]
    },
    {
     "name": "stderr",
     "output_type": "stream",
     "text": [
      "\n",
      " 72%|███████▎  | 29/40 [02:46<01:03,  5.74s/it]\u001b[A"
     ]
    },
    {
     "name": "stdout",
     "output_type": "stream",
     "text": [
      "\n",
      " Time needed for MC Dropout-based Uncertainty Estimation   5.89310622215271\n"
     ]
    },
    {
     "name": "stderr",
     "output_type": "stream",
     "text": [
      "\n",
      " 75%|███████▌  | 30/40 [02:51<00:56,  5.64s/it]\u001b[A"
     ]
    },
    {
     "name": "stdout",
     "output_type": "stream",
     "text": [
      "\n",
      " Time needed for MC Dropout-based Uncertainty Estimation   5.395863056182861\n"
     ]
    },
    {
     "name": "stderr",
     "output_type": "stream",
     "text": [
      "\n",
      " 78%|███████▊  | 31/40 [02:57<00:51,  5.69s/it]\u001b[A"
     ]
    },
    {
     "name": "stdout",
     "output_type": "stream",
     "text": [
      "\n",
      " Time needed for MC Dropout-based Uncertainty Estimation   5.767843723297119\n"
     ]
    },
    {
     "name": "stderr",
     "output_type": "stream",
     "text": [
      "\n",
      " 80%|████████  | 32/40 [03:03<00:45,  5.75s/it]\u001b[A"
     ]
    },
    {
     "name": "stdout",
     "output_type": "stream",
     "text": [
      "\n",
      " Time needed for MC Dropout-based Uncertainty Estimation   5.8570380210876465\n"
     ]
    },
    {
     "name": "stderr",
     "output_type": "stream",
     "text": [
      "\n",
      " 82%|████████▎ | 33/40 [03:09<00:39,  5.65s/it]\u001b[A"
     ]
    },
    {
     "name": "stdout",
     "output_type": "stream",
     "text": [
      "\n",
      " Time needed for MC Dropout-based Uncertainty Estimation   5.3946967124938965\n"
     ]
    },
    {
     "name": "stderr",
     "output_type": "stream",
     "text": [
      "\n",
      " 85%|████████▌ | 34/40 [03:14<00:34,  5.69s/it]\u001b[A"
     ]
    },
    {
     "name": "stdout",
     "output_type": "stream",
     "text": [
      "\n",
      " Time needed for MC Dropout-based Uncertainty Estimation   5.750054121017456\n"
     ]
    },
    {
     "name": "stderr",
     "output_type": "stream",
     "text": [
      "\n",
      " 88%|████████▊ | 35/40 [03:20<00:28,  5.75s/it]\u001b[A"
     ]
    },
    {
     "name": "stdout",
     "output_type": "stream",
     "text": [
      "\n",
      " Time needed for MC Dropout-based Uncertainty Estimation   5.888563871383667\n"
     ]
    },
    {
     "name": "stderr",
     "output_type": "stream",
     "text": [
      "\n",
      " 90%|█████████ | 36/40 [03:26<00:22,  5.65s/it]\u001b[A"
     ]
    },
    {
     "name": "stdout",
     "output_type": "stream",
     "text": [
      "\n",
      " Time needed for MC Dropout-based Uncertainty Estimation   5.393172025680542\n"
     ]
    },
    {
     "name": "stderr",
     "output_type": "stream",
     "text": [
      "\n",
      " 92%|█████████▎| 37/40 [03:31<00:17,  5.68s/it]\u001b[A"
     ]
    },
    {
     "name": "stdout",
     "output_type": "stream",
     "text": [
      "\n",
      " Time needed for MC Dropout-based Uncertainty Estimation   5.725699186325073\n"
     ]
    },
    {
     "name": "stderr",
     "output_type": "stream",
     "text": [
      "\n",
      " 95%|█████████▌| 38/40 [03:37<00:11,  5.75s/it]\u001b[A"
     ]
    },
    {
     "name": "stdout",
     "output_type": "stream",
     "text": [
      "\n",
      " Time needed for MC Dropout-based Uncertainty Estimation   5.899275302886963\n"
     ]
    },
    {
     "name": "stderr",
     "output_type": "stream",
     "text": [
      "\n",
      " 98%|█████████▊| 39/40 [03:43<00:05,  5.64s/it]\u001b[A"
     ]
    },
    {
     "name": "stdout",
     "output_type": "stream",
     "text": [
      "\n",
      " Time needed for MC Dropout-based Uncertainty Estimation   5.3626110553741455\n"
     ]
    },
    {
     "name": "stderr",
     "output_type": "stream",
     "text": [
      "\n",
      "100%|██████████| 40/40 [03:49<00:00,  5.69s/it]\u001b[A"
     ]
    },
    {
     "name": "stdout",
     "output_type": "stream",
     "text": [
      "\n",
      " Time needed for MC Dropout-based Uncertainty Estimation   5.756413459777832\n",
      "START TRAINING......:\n",
      "Training with 40 images\n",
      "Validating with 10 images\n",
      "Training Unet-mcdropout\n",
      "(40, 400, 400, 28)\n",
      "Epoch 1/80\n",
      " - 6s - loss: 0.5956 - accuracy: 0.7282 - val_loss: 0.6649 - val_accuracy: 0.8844\n",
      "\n",
      "Epoch 00001: val_loss improved from inf to 0.66488, saving model to ./trained_models/unet_div8_495K_40.hdf5\n",
      "Epoch 2/80\n",
      " - 2s - loss: 0.4776 - accuracy: 0.8861 - val_loss: 0.6259 - val_accuracy: 0.8848\n",
      "\n",
      "Epoch 00002: val_loss improved from 0.66488 to 0.62585, saving model to ./trained_models/unet_div8_495K_40.hdf5\n",
      "Epoch 3/80\n",
      " - 5s - loss: 0.4295 - accuracy: 0.8933 - val_loss: 0.5892 - val_accuracy: 0.8848\n",
      "\n",
      "Epoch 00003: val_loss improved from 0.62585 to 0.58921, saving model to ./trained_models/unet_div8_495K_40.hdf5\n",
      "Epoch 4/80\n",
      " - 4s - loss: 0.4090 - accuracy: 0.8916 - val_loss: 0.5429 - val_accuracy: 0.8848\n",
      "\n",
      "Epoch 00004: val_loss improved from 0.58921 to 0.54293, saving model to ./trained_models/unet_div8_495K_40.hdf5\n",
      "Epoch 5/80\n",
      " - 6s - loss: 0.3847 - accuracy: 0.8873 - val_loss: 0.5144 - val_accuracy: 0.8845\n",
      "\n",
      "Epoch 00005: val_loss improved from 0.54293 to 0.51437, saving model to ./trained_models/unet_div8_495K_40.hdf5\n",
      "Epoch 6/80\n",
      " - 6s - loss: 0.3714 - accuracy: 0.8884 - val_loss: 0.4904 - val_accuracy: 0.8848\n",
      "\n",
      "Epoch 00006: val_loss improved from 0.51437 to 0.49044, saving model to ./trained_models/unet_div8_495K_40.hdf5\n",
      "Epoch 7/80\n",
      " - 5s - loss: 0.3567 - accuracy: 0.8784 - val_loss: 0.4984 - val_accuracy: 0.8568\n",
      "\n",
      "Epoch 00007: val_loss did not improve from 0.49044\n",
      "Epoch 8/80\n",
      " - 5s - loss: 0.3432 - accuracy: 0.8878 - val_loss: 0.4494 - val_accuracy: 0.8813\n",
      "\n",
      "Epoch 00008: val_loss improved from 0.49044 to 0.44943, saving model to ./trained_models/unet_div8_495K_40.hdf5\n",
      "Epoch 9/80\n",
      " - 5s - loss: 0.3354 - accuracy: 0.8844 - val_loss: 0.5303 - val_accuracy: 0.8841\n",
      "\n",
      "Epoch 00009: val_loss did not improve from 0.44943\n",
      "Epoch 10/80\n",
      " - 6s - loss: 0.3246 - accuracy: 0.8948 - val_loss: 0.5637 - val_accuracy: 0.8848\n",
      "\n",
      "Epoch 00010: val_loss did not improve from 0.44943\n",
      "Epoch 11/80\n",
      " - 5s - loss: 0.3110 - accuracy: 0.8968 - val_loss: 0.5942 - val_accuracy: 0.8848\n",
      "\n",
      "Epoch 00011: val_loss did not improve from 0.44943\n",
      "Epoch 12/80\n",
      " - 6s - loss: 0.3023 - accuracy: 0.8985 - val_loss: 0.5532 - val_accuracy: 0.8848\n",
      "\n",
      "Epoch 00012: val_loss did not improve from 0.44943\n",
      "Epoch 13/80\n",
      " - 5s - loss: 0.2968 - accuracy: 0.8979 - val_loss: 0.3581 - val_accuracy: 0.8848\n",
      "\n",
      "Epoch 00013: val_loss improved from 0.44943 to 0.35809, saving model to ./trained_models/unet_div8_495K_40.hdf5\n",
      "Epoch 14/80\n",
      " - 6s - loss: 0.2883 - accuracy: 0.8977 - val_loss: 0.4403 - val_accuracy: 0.8848\n",
      "\n",
      "Epoch 00014: val_loss did not improve from 0.35809\n",
      "Epoch 15/80\n",
      " - 7s - loss: 0.2822 - accuracy: 0.8975 - val_loss: 0.4808 - val_accuracy: 0.8848\n",
      "\n",
      "Epoch 00015: val_loss did not improve from 0.35809\n",
      "Epoch 16/80\n",
      " - 5s - loss: 0.2730 - accuracy: 0.8979 - val_loss: 0.3498 - val_accuracy: 0.8848\n",
      "\n",
      "Epoch 00016: val_loss improved from 0.35809 to 0.34979, saving model to ./trained_models/unet_div8_495K_40.hdf5\n",
      "Epoch 17/80\n",
      " - 5s - loss: 0.2670 - accuracy: 0.8979 - val_loss: 0.3849 - val_accuracy: 0.8848\n",
      "\n",
      "Epoch 00017: val_loss did not improve from 0.34979\n",
      "Epoch 18/80\n",
      " - 6s - loss: 0.2601 - accuracy: 0.8978 - val_loss: 0.4282 - val_accuracy: 0.8848\n",
      "\n",
      "Epoch 00018: val_loss did not improve from 0.34979\n",
      "Epoch 19/80\n",
      " - 6s - loss: 0.2495 - accuracy: 0.8977 - val_loss: 0.2993 - val_accuracy: 0.8848\n",
      "\n",
      "Epoch 00019: val_loss improved from 0.34979 to 0.29927, saving model to ./trained_models/unet_div8_495K_40.hdf5\n",
      "Epoch 20/80\n",
      " - 6s - loss: 0.2509 - accuracy: 0.8976 - val_loss: 0.4214 - val_accuracy: 0.8848\n",
      "\n",
      "Epoch 00020: val_loss did not improve from 0.29927\n",
      "Epoch 21/80\n",
      " - 6s - loss: 0.2451 - accuracy: 0.8978 - val_loss: 0.2880 - val_accuracy: 0.8848\n",
      "\n",
      "Epoch 00021: val_loss improved from 0.29927 to 0.28802, saving model to ./trained_models/unet_div8_495K_40.hdf5\n",
      "Epoch 22/80\n",
      " - 6s - loss: 0.2494 - accuracy: 0.8981 - val_loss: 0.4571 - val_accuracy: 0.8848\n",
      "\n",
      "Epoch 00022: val_loss did not improve from 0.28802\n",
      "Epoch 23/80\n",
      " - 5s - loss: 0.2400 - accuracy: 0.8993 - val_loss: 0.3122 - val_accuracy: 0.8851\n",
      "\n",
      "Epoch 00023: val_loss did not improve from 0.28802\n",
      "Epoch 24/80\n",
      " - 5s - loss: 0.2353 - accuracy: 0.8991 - val_loss: 0.4331 - val_accuracy: 0.8851\n",
      "\n",
      "Epoch 00024: val_loss did not improve from 0.28802\n",
      "Epoch 25/80\n",
      " - 6s - loss: 0.2337 - accuracy: 0.8981 - val_loss: 0.3506 - val_accuracy: 0.8899\n",
      "\n",
      "Epoch 00025: val_loss did not improve from 0.28802\n",
      "Epoch 26/80\n",
      " - 6s - loss: 0.2274 - accuracy: 0.8984 - val_loss: 0.3679 - val_accuracy: 0.8817\n",
      "\n",
      "Epoch 00026: val_loss did not improve from 0.28802\n",
      "Epoch 27/80\n",
      " - 5s - loss: 0.2253 - accuracy: 0.9010 - val_loss: 0.3531 - val_accuracy: 0.8768\n",
      "\n",
      "Epoch 00027: val_loss did not improve from 0.28802\n",
      "Epoch 28/80\n",
      " - 4s - loss: 0.2237 - accuracy: 0.9008 - val_loss: 0.2883 - val_accuracy: 0.9037\n",
      "\n",
      "Epoch 00028: val_loss did not improve from 0.28802\n",
      "Epoch 29/80\n",
      " - 5s - loss: 0.2182 - accuracy: 0.9023 - val_loss: 0.4720 - val_accuracy: 0.6794\n",
      "\n",
      "Epoch 00029: val_loss did not improve from 0.28802\n",
      "Epoch 30/80\n",
      " - 5s - loss: 0.2135 - accuracy: 0.9049 - val_loss: 0.2870 - val_accuracy: 0.8680\n",
      "\n",
      "Epoch 00030: val_loss improved from 0.28802 to 0.28702, saving model to ./trained_models/unet_div8_495K_40.hdf5\n",
      "Epoch 31/80\n",
      " - 5s - loss: 0.2140 - accuracy: 0.9027 - val_loss: 0.2962 - val_accuracy: 0.8800\n",
      "\n",
      "Epoch 00031: val_loss did not improve from 0.28702\n",
      "Epoch 32/80\n",
      " - 5s - loss: 0.2118 - accuracy: 0.9035 - val_loss: 0.4343 - val_accuracy: 0.6905\n",
      "\n",
      "Epoch 00032: val_loss did not improve from 0.28702\n",
      "Epoch 33/80\n",
      " - 6s - loss: 0.2066 - accuracy: 0.9072 - val_loss: 0.3253 - val_accuracy: 0.8228\n",
      "\n",
      "Epoch 00033: val_loss did not improve from 0.28702\n",
      "Epoch 34/80\n",
      " - 5s - loss: 0.2037 - accuracy: 0.9074 - val_loss: 0.2524 - val_accuracy: 0.8884\n",
      "\n",
      "Epoch 00034: val_loss improved from 0.28702 to 0.25240, saving model to ./trained_models/unet_div8_495K_40.hdf5\n",
      "Epoch 35/80\n",
      " - 6s - loss: 0.2045 - accuracy: 0.9075 - val_loss: 0.2912 - val_accuracy: 0.8633\n",
      "\n",
      "Epoch 00035: val_loss did not improve from 0.25240\n",
      "Epoch 36/80\n",
      " - 5s - loss: 0.1975 - accuracy: 0.9101 - val_loss: 0.3874 - val_accuracy: 0.8502\n",
      "\n",
      "Epoch 00036: val_loss did not improve from 0.25240\n",
      "Epoch 37/80\n",
      " - 5s - loss: 0.2002 - accuracy: 0.9112 - val_loss: 0.3908 - val_accuracy: 0.7514\n",
      "\n",
      "Epoch 00037: val_loss did not improve from 0.25240\n",
      "Epoch 38/80\n",
      " - 5s - loss: 0.1951 - accuracy: 0.9102 - val_loss: 0.2812 - val_accuracy: 0.8445\n",
      "\n",
      "Epoch 00038: val_loss did not improve from 0.25240\n",
      "Epoch 39/80\n",
      " - 5s - loss: 0.1921 - accuracy: 0.9117 - val_loss: 0.2446 - val_accuracy: 0.8771\n",
      "\n",
      "Epoch 00039: val_loss improved from 0.25240 to 0.24462, saving model to ./trained_models/unet_div8_495K_40.hdf5\n",
      "Epoch 40/80\n",
      " - 6s - loss: 0.1950 - accuracy: 0.9097 - val_loss: 0.2402 - val_accuracy: 0.8891\n",
      "\n",
      "Epoch 00040: val_loss improved from 0.24462 to 0.24021, saving model to ./trained_models/unet_div8_495K_40.hdf5\n",
      "Epoch 41/80\n",
      " - 6s - loss: 0.1884 - accuracy: 0.9172 - val_loss: 0.2401 - val_accuracy: 0.8906\n",
      "\n",
      "Epoch 00041: val_loss improved from 0.24021 to 0.24009, saving model to ./trained_models/unet_div8_495K_40.hdf5\n",
      "Epoch 42/80\n",
      " - 4s - loss: 0.1985 - accuracy: 0.9085 - val_loss: 0.2502 - val_accuracy: 0.8613\n",
      "\n",
      "Epoch 00042: val_loss did not improve from 0.24009\n",
      "Epoch 43/80\n",
      " - 5s - loss: 0.2039 - accuracy: 0.9049 - val_loss: 0.3175 - val_accuracy: 0.8315\n",
      "\n",
      "Epoch 00043: val_loss did not improve from 0.24009\n",
      "Epoch 44/80\n",
      " - 5s - loss: 0.1875 - accuracy: 0.9126 - val_loss: 0.2631 - val_accuracy: 0.8643\n",
      "\n",
      "Epoch 00044: val_loss did not improve from 0.24009\n",
      "Epoch 45/80\n",
      " - 5s - loss: 0.1896 - accuracy: 0.9103 - val_loss: 0.2406 - val_accuracy: 0.8844\n",
      "\n",
      "Epoch 00045: val_loss did not improve from 0.24009\n",
      "Epoch 46/80\n",
      " - 5s - loss: 0.1873 - accuracy: 0.9106 - val_loss: 0.2071 - val_accuracy: 0.9144\n",
      "\n",
      "Epoch 00046: val_loss improved from 0.24009 to 0.20707, saving model to ./trained_models/unet_div8_495K_40.hdf5\n",
      "Epoch 47/80\n",
      " - 5s - loss: 0.1911 - accuracy: 0.9099 - val_loss: 0.2593 - val_accuracy: 0.8738\n",
      "\n",
      "Epoch 00047: val_loss did not improve from 0.20707\n",
      "Epoch 48/80\n",
      " - 6s - loss: 0.1835 - accuracy: 0.9131 - val_loss: 0.2206 - val_accuracy: 0.9062\n",
      "\n",
      "Epoch 00048: val_loss did not improve from 0.20707\n",
      "Epoch 49/80\n"
     ]
    },
    {
     "name": "stdout",
     "output_type": "stream",
     "text": [
      " - 5s - loss: 0.1772 - accuracy: 0.9177 - val_loss: 0.2507 - val_accuracy: 0.8899\n",
      "\n",
      "Epoch 00049: val_loss did not improve from 0.20707\n",
      "Epoch 50/80\n",
      " - 6s - loss: 0.1739 - accuracy: 0.9187 - val_loss: 0.2147 - val_accuracy: 0.9018\n",
      "\n",
      "Epoch 00050: val_loss did not improve from 0.20707\n",
      "Epoch 51/80\n",
      " - 6s - loss: 0.1781 - accuracy: 0.9164 - val_loss: 0.2324 - val_accuracy: 0.8988\n",
      "\n",
      "Epoch 00051: val_loss did not improve from 0.20707\n",
      "Epoch 52/80\n",
      " - 5s - loss: 0.1780 - accuracy: 0.9160 - val_loss: 0.2344 - val_accuracy: 0.8970\n",
      "\n",
      "Epoch 00052: val_loss did not improve from 0.20707\n",
      "Epoch 53/80\n",
      " - 5s - loss: 0.1766 - accuracy: 0.9175 - val_loss: 0.2350 - val_accuracy: 0.9007\n",
      "\n",
      "Epoch 00053: val_loss did not improve from 0.20707\n",
      "Epoch 54/80\n",
      " - 5s - loss: 0.1802 - accuracy: 0.9181 - val_loss: 0.2317 - val_accuracy: 0.8862\n",
      "\n",
      "Epoch 00054: val_loss did not improve from 0.20707\n",
      "Epoch 55/80\n",
      " - 5s - loss: 0.1770 - accuracy: 0.9193 - val_loss: 0.3112 - val_accuracy: 0.8247\n",
      "\n",
      "Epoch 00055: val_loss did not improve from 0.20707\n",
      "Epoch 56/80\n",
      " - 4s - loss: 0.1793 - accuracy: 0.9117 - val_loss: 0.2468 - val_accuracy: 0.8849\n",
      "\n",
      "Epoch 00056: val_loss did not improve from 0.20707\n",
      "Epoch 57/80\n",
      " - 5s - loss: 0.1691 - accuracy: 0.9201 - val_loss: 0.2691 - val_accuracy: 0.8503\n",
      "\n",
      "Epoch 00057: val_loss did not improve from 0.20707\n",
      "Epoch 58/80\n",
      " - 6s - loss: 0.1763 - accuracy: 0.9164 - val_loss: 0.2283 - val_accuracy: 0.8862\n"
     ]
    },
    {
     "name": "stderr",
     "output_type": "stream",
     "text": [
      "\n",
      "  0%|          | 0/40 [00:00<?, ?it/s]\u001b[A"
     ]
    },
    {
     "name": "stdout",
     "output_type": "stream",
     "text": [
      "\n",
      "Epoch 00058: val_loss did not improve from 0.20707\n"
     ]
    },
    {
     "name": "stderr",
     "output_type": "stream",
     "text": [
      "\n",
      "  2%|▎         | 1/40 [00:20<13:34, 20.88s/it]\u001b[A"
     ]
    },
    {
     "name": "stdout",
     "output_type": "stream",
     "text": [
      "\n",
      " Time needed for MC Dropout-based Uncertainty Estimation   20.862257719039917\n"
     ]
    },
    {
     "name": "stderr",
     "output_type": "stream",
     "text": [
      "\n",
      "  5%|▌         | 2/40 [00:41<13:11, 20.83s/it]\u001b[A"
     ]
    },
    {
     "name": "stdout",
     "output_type": "stream",
     "text": [
      "\n",
      " Time needed for MC Dropout-based Uncertainty Estimation   20.6845760345459\n"
     ]
    },
    {
     "name": "stderr",
     "output_type": "stream",
     "text": [
      "\n",
      "  8%|▊         | 3/40 [01:03<13:00, 21.09s/it]\u001b[A"
     ]
    },
    {
     "name": "stdout",
     "output_type": "stream",
     "text": [
      "\n",
      " Time needed for MC Dropout-based Uncertainty Estimation   21.66174292564392\n"
     ]
    },
    {
     "name": "stderr",
     "output_type": "stream",
     "text": [
      "\n",
      " 10%|█         | 4/40 [01:24<12:45, 21.27s/it]\u001b[A"
     ]
    },
    {
     "name": "stdout",
     "output_type": "stream",
     "text": [
      "\n",
      " Time needed for MC Dropout-based Uncertainty Estimation   21.634263277053833\n"
     ]
    },
    {
     "name": "stderr",
     "output_type": "stream",
     "text": [
      "\n",
      " 12%|█▎        | 5/40 [01:45<12:19, 21.14s/it]\u001b[A"
     ]
    },
    {
     "name": "stdout",
     "output_type": "stream",
     "text": [
      "\n",
      " Time needed for MC Dropout-based Uncertainty Estimation   20.80577778816223\n"
     ]
    },
    {
     "name": "stderr",
     "output_type": "stream",
     "text": [
      "\n",
      " 15%|█▌        | 6/40 [02:07<12:06, 21.38s/it]\u001b[A"
     ]
    },
    {
     "name": "stdout",
     "output_type": "stream",
     "text": [
      "\n",
      " Time needed for MC Dropout-based Uncertainty Estimation   21.89994502067566\n"
     ]
    },
    {
     "name": "stderr",
     "output_type": "stream",
     "text": [
      "\n",
      " 18%|█▊        | 7/40 [02:29<11:48, 21.46s/it]\u001b[A"
     ]
    },
    {
     "name": "stdout",
     "output_type": "stream",
     "text": [
      "\n",
      " Time needed for MC Dropout-based Uncertainty Estimation   21.6020929813385\n"
     ]
    },
    {
     "name": "stderr",
     "output_type": "stream",
     "text": [
      "\n",
      " 20%|██        | 8/40 [02:49<11:18, 21.20s/it]\u001b[A"
     ]
    },
    {
     "name": "stdout",
     "output_type": "stream",
     "text": [
      "\n",
      " Time needed for MC Dropout-based Uncertainty Estimation   20.57991909980774\n"
     ]
    },
    {
     "name": "stderr",
     "output_type": "stream",
     "text": [
      "\n",
      " 22%|██▎       | 9/40 [03:11<11:01, 21.33s/it]\u001b[A"
     ]
    },
    {
     "name": "stdout",
     "output_type": "stream",
     "text": [
      "\n",
      " Time needed for MC Dropout-based Uncertainty Estimation   21.580060243606567\n"
     ]
    },
    {
     "name": "stderr",
     "output_type": "stream",
     "text": [
      "\n",
      " 25%|██▌       | 10/40 [03:33<10:41, 21.38s/it]\u001b[A"
     ]
    },
    {
     "name": "stdout",
     "output_type": "stream",
     "text": [
      "\n",
      " Time needed for MC Dropout-based Uncertainty Estimation   21.458098888397217\n"
     ]
    },
    {
     "name": "stderr",
     "output_type": "stream",
     "text": [
      "\n",
      " 28%|██▊       | 11/40 [03:53<10:13, 21.14s/it]\u001b[A"
     ]
    },
    {
     "name": "stdout",
     "output_type": "stream",
     "text": [
      "\n",
      " Time needed for MC Dropout-based Uncertainty Estimation   20.546191215515137\n"
     ]
    },
    {
     "name": "stderr",
     "output_type": "stream",
     "text": [
      "\n",
      " 30%|███       | 12/40 [04:15<09:56, 21.30s/it]\u001b[A"
     ]
    },
    {
     "name": "stdout",
     "output_type": "stream",
     "text": [
      "\n",
      " Time needed for MC Dropout-based Uncertainty Estimation   21.63756561279297\n"
     ]
    },
    {
     "name": "stderr",
     "output_type": "stream",
     "text": [
      "\n",
      " 32%|███▎      | 13/40 [04:36<09:37, 21.39s/it]\u001b[A"
     ]
    },
    {
     "name": "stdout",
     "output_type": "stream",
     "text": [
      "\n",
      " Time needed for MC Dropout-based Uncertainty Estimation   21.577009201049805\n"
     ]
    },
    {
     "name": "stderr",
     "output_type": "stream",
     "text": [
      "\n",
      " 35%|███▌      | 14/40 [04:57<09:09, 21.14s/it]\u001b[A"
     ]
    },
    {
     "name": "stdout",
     "output_type": "stream",
     "text": [
      "\n",
      " Time needed for MC Dropout-based Uncertainty Estimation   20.51317524909973\n"
     ]
    },
    {
     "name": "stderr",
     "output_type": "stream",
     "text": [
      "\n",
      " 38%|███▊      | 15/40 [05:19<08:53, 21.32s/it]\u001b[A"
     ]
    },
    {
     "name": "stdout",
     "output_type": "stream",
     "text": [
      "\n",
      " Time needed for MC Dropout-based Uncertainty Estimation   21.716881275177002\n"
     ]
    },
    {
     "name": "stderr",
     "output_type": "stream",
     "text": [
      "\n",
      " 40%|████      | 16/40 [05:40<08:31, 21.30s/it]\u001b[A"
     ]
    },
    {
     "name": "stdout",
     "output_type": "stream",
     "text": [
      "\n",
      " Time needed for MC Dropout-based Uncertainty Estimation   21.20874285697937\n"
     ]
    },
    {
     "name": "stderr",
     "output_type": "stream",
     "text": [
      "\n",
      " 42%|████▎     | 17/40 [06:00<08:03, 21.03s/it]\u001b[A"
     ]
    },
    {
     "name": "stdout",
     "output_type": "stream",
     "text": [
      "\n",
      " Time needed for MC Dropout-based Uncertainty Estimation   20.369081020355225\n"
     ]
    },
    {
     "name": "stderr",
     "output_type": "stream",
     "text": [
      "\n",
      " 45%|████▌     | 18/40 [06:22<07:45, 21.17s/it]\u001b[A"
     ]
    },
    {
     "name": "stdout",
     "output_type": "stream",
     "text": [
      "\n",
      " Time needed for MC Dropout-based Uncertainty Estimation   21.475223302841187\n"
     ]
    },
    {
     "name": "stderr",
     "output_type": "stream",
     "text": [
      "\n",
      " 48%|████▊     | 19/40 [06:43<07:26, 21.26s/it]\u001b[A"
     ]
    },
    {
     "name": "stdout",
     "output_type": "stream",
     "text": [
      "\n",
      " Time needed for MC Dropout-based Uncertainty Estimation   21.436199188232422\n"
     ]
    },
    {
     "name": "stderr",
     "output_type": "stream",
     "text": [
      "\n",
      " 50%|█████     | 20/40 [07:04<07:00, 21.04s/it]\u001b[A"
     ]
    },
    {
     "name": "stdout",
     "output_type": "stream",
     "text": [
      "\n",
      " Time needed for MC Dropout-based Uncertainty Estimation   20.48339033126831\n"
     ]
    },
    {
     "name": "stderr",
     "output_type": "stream",
     "text": [
      "\n",
      " 52%|█████▎    | 21/40 [07:26<06:43, 21.24s/it]\u001b[A"
     ]
    },
    {
     "name": "stdout",
     "output_type": "stream",
     "text": [
      "\n",
      " Time needed for MC Dropout-based Uncertainty Estimation   21.661348342895508\n"
     ]
    },
    {
     "name": "stderr",
     "output_type": "stream",
     "text": [
      "\n",
      " 55%|█████▌    | 22/40 [07:47<06:23, 21.31s/it]\u001b[A"
     ]
    },
    {
     "name": "stdout",
     "output_type": "stream",
     "text": [
      "\n",
      " Time needed for MC Dropout-based Uncertainty Estimation   21.430450201034546\n"
     ]
    },
    {
     "name": "stderr",
     "output_type": "stream",
     "text": [
      "\n",
      " 57%|█████▊    | 23/40 [08:08<05:57, 21.05s/it]\u001b[A"
     ]
    },
    {
     "name": "stdout",
     "output_type": "stream",
     "text": [
      "\n",
      " Time needed for MC Dropout-based Uncertainty Estimation   20.40539264678955\n"
     ]
    },
    {
     "name": "stderr",
     "output_type": "stream",
     "text": [
      "\n",
      " 60%|██████    | 24/40 [08:29<05:39, 21.21s/it]\u001b[A"
     ]
    },
    {
     "name": "stdout",
     "output_type": "stream",
     "text": [
      "\n",
      " Time needed for MC Dropout-based Uncertainty Estimation   21.558857202529907\n"
     ]
    },
    {
     "name": "stderr",
     "output_type": "stream",
     "text": [
      "\n",
      " 62%|██████▎   | 25/40 [08:51<05:19, 21.27s/it]\u001b[A"
     ]
    },
    {
     "name": "stdout",
     "output_type": "stream",
     "text": [
      "\n",
      " Time needed for MC Dropout-based Uncertainty Estimation   21.364153146743774\n"
     ]
    },
    {
     "name": "stderr",
     "output_type": "stream",
     "text": [
      "\n",
      " 65%|██████▌   | 26/40 [09:11<04:54, 21.04s/it]\u001b[A"
     ]
    },
    {
     "name": "stdout",
     "output_type": "stream",
     "text": [
      "\n",
      " Time needed for MC Dropout-based Uncertainty Estimation   20.482199668884277\n"
     ]
    },
    {
     "name": "stderr",
     "output_type": "stream",
     "text": [
      "\n",
      " 68%|██████▊   | 27/40 [09:33<04:36, 21.24s/it]\u001b[A"
     ]
    },
    {
     "name": "stdout",
     "output_type": "stream",
     "text": [
      "\n",
      " Time needed for MC Dropout-based Uncertainty Estimation   21.67039656639099\n"
     ]
    },
    {
     "name": "stderr",
     "output_type": "stream",
     "text": [
      "\n",
      " 70%|███████   | 28/40 [09:54<04:15, 21.31s/it]\u001b[A"
     ]
    },
    {
     "name": "stdout",
     "output_type": "stream",
     "text": [
      "\n",
      " Time needed for MC Dropout-based Uncertainty Estimation   21.429373502731323\n"
     ]
    },
    {
     "name": "stderr",
     "output_type": "stream",
     "text": [
      "\n",
      " 72%|███████▎  | 29/40 [10:15<03:52, 21.10s/it]\u001b[A"
     ]
    },
    {
     "name": "stdout",
     "output_type": "stream",
     "text": [
      "\n",
      " Time needed for MC Dropout-based Uncertainty Estimation   20.5796000957489\n"
     ]
    },
    {
     "name": "stderr",
     "output_type": "stream",
     "text": [
      "\n",
      " 75%|███████▌  | 30/40 [10:37<03:33, 21.31s/it]\u001b[A"
     ]
    },
    {
     "name": "stdout",
     "output_type": "stream",
     "text": [
      "\n",
      " Time needed for MC Dropout-based Uncertainty Estimation   21.748305797576904\n"
     ]
    },
    {
     "name": "stderr",
     "output_type": "stream",
     "text": [
      "\n",
      " 78%|███████▊  | 31/40 [10:58<03:12, 21.43s/it]\u001b[A"
     ]
    },
    {
     "name": "stdout",
     "output_type": "stream",
     "text": [
      "\n",
      " Time needed for MC Dropout-based Uncertainty Estimation   21.683574438095093\n"
     ]
    },
    {
     "name": "stderr",
     "output_type": "stream",
     "text": [
      "\n",
      " 80%|████████  | 32/40 [11:19<02:49, 21.15s/it]\u001b[A"
     ]
    },
    {
     "name": "stdout",
     "output_type": "stream",
     "text": [
      "\n",
      " Time needed for MC Dropout-based Uncertainty Estimation   20.453622579574585\n"
     ]
    },
    {
     "name": "stderr",
     "output_type": "stream",
     "text": [
      "\n",
      " 82%|████████▎ | 33/40 [11:40<02:28, 21.27s/it]\u001b[A"
     ]
    },
    {
     "name": "stdout",
     "output_type": "stream",
     "text": [
      "\n",
      " Time needed for MC Dropout-based Uncertainty Estimation   21.519367456436157\n"
     ]
    },
    {
     "name": "stderr",
     "output_type": "stream",
     "text": [
      "\n",
      " 85%|████████▌ | 34/40 [12:02<02:07, 21.33s/it]\u001b[A"
     ]
    },
    {
     "name": "stdout",
     "output_type": "stream",
     "text": [
      "\n",
      " Time needed for MC Dropout-based Uncertainty Estimation   21.434765577316284\n"
     ]
    },
    {
     "name": "stderr",
     "output_type": "stream",
     "text": [
      "\n",
      " 88%|████████▊ | 35/40 [12:22<01:45, 21.10s/it]\u001b[A"
     ]
    },
    {
     "name": "stdout",
     "output_type": "stream",
     "text": [
      "\n",
      " Time needed for MC Dropout-based Uncertainty Estimation   20.526273488998413\n"
     ]
    },
    {
     "name": "stderr",
     "output_type": "stream",
     "text": [
      "\n",
      " 90%|█████████ | 36/40 [12:44<01:25, 21.27s/it]\u001b[A"
     ]
    },
    {
     "name": "stdout",
     "output_type": "stream",
     "text": [
      "\n",
      " Time needed for MC Dropout-based Uncertainty Estimation   21.623481512069702\n"
     ]
    },
    {
     "name": "stderr",
     "output_type": "stream",
     "text": [
      "\n",
      " 92%|█████████▎| 37/40 [13:06<01:04, 21.35s/it]\u001b[A"
     ]
    },
    {
     "name": "stdout",
     "output_type": "stream",
     "text": [
      "\n",
      " Time needed for MC Dropout-based Uncertainty Estimation   21.507487535476685\n"
     ]
    },
    {
     "name": "stderr",
     "output_type": "stream",
     "text": [
      "\n",
      " 95%|█████████▌| 38/40 [13:26<00:42, 21.11s/it]\u001b[A"
     ]
    },
    {
     "name": "stdout",
     "output_type": "stream",
     "text": [
      "\n",
      " Time needed for MC Dropout-based Uncertainty Estimation   20.515997409820557\n"
     ]
    },
    {
     "name": "stderr",
     "output_type": "stream",
     "text": [
      "\n",
      " 98%|█████████▊| 39/40 [13:48<00:21, 21.28s/it]\u001b[A"
     ]
    },
    {
     "name": "stdout",
     "output_type": "stream",
     "text": [
      "\n",
      " Time needed for MC Dropout-based Uncertainty Estimation   21.639610290527344\n"
     ]
    },
    {
     "name": "stderr",
     "output_type": "stream",
     "text": [
      "\n",
      "100%|██████████| 40/40 [14:09<00:00, 21.36s/it]\u001b[A\n",
      "  0%|          | 0/10 [00:00<?, ?it/s]\u001b[A"
     ]
    },
    {
     "name": "stdout",
     "output_type": "stream",
     "text": [
      "\n",
      " Time needed for MC Dropout-based Uncertainty Estimation   21.51934003829956\n"
     ]
    },
    {
     "name": "stderr",
     "output_type": "stream",
     "text": [
      "\n",
      " 10%|█         | 1/10 [00:05<00:45,  5.03s/it]\u001b[A"
     ]
    },
    {
     "name": "stdout",
     "output_type": "stream",
     "text": [
      "\n",
      " Time needed for MC Dropout-based Uncertainty Estimation   5.0307581424713135\n"
     ]
    },
    {
     "name": "stderr",
     "output_type": "stream",
     "text": [
      "\n",
      " 20%|██        | 2/10 [00:10<00:40,  5.03s/it]\u001b[A"
     ]
    },
    {
     "name": "stdout",
     "output_type": "stream",
     "text": [
      "\n",
      " Time needed for MC Dropout-based Uncertainty Estimation   5.011455059051514\n"
     ]
    },
    {
     "name": "stderr",
     "output_type": "stream",
     "text": [
      "\n",
      " 30%|███       | 3/10 [00:15<00:35,  5.03s/it]\u001b[A"
     ]
    },
    {
     "name": "stdout",
     "output_type": "stream",
     "text": [
      "\n",
      " Time needed for MC Dropout-based Uncertainty Estimation   5.027689456939697\n"
     ]
    },
    {
     "name": "stderr",
     "output_type": "stream",
     "text": [
      "\n",
      " 40%|████      | 4/10 [00:20<00:30,  5.03s/it]\u001b[A"
     ]
    },
    {
     "name": "stdout",
     "output_type": "stream",
     "text": [
      "\n",
      " Time needed for MC Dropout-based Uncertainty Estimation   5.003707408905029\n"
     ]
    },
    {
     "name": "stderr",
     "output_type": "stream",
     "text": [
      "\n",
      " 50%|█████     | 5/10 [00:25<00:25,  5.03s/it]\u001b[A"
     ]
    },
    {
     "name": "stdout",
     "output_type": "stream",
     "text": [
      "\n",
      " Time needed for MC Dropout-based Uncertainty Estimation   5.018563747406006\n"
     ]
    },
    {
     "name": "stderr",
     "output_type": "stream",
     "text": [
      "\n",
      " 60%|██████    | 6/10 [00:30<00:20,  5.02s/it]\u001b[A"
     ]
    },
    {
     "name": "stdout",
     "output_type": "stream",
     "text": [
      "\n",
      " Time needed for MC Dropout-based Uncertainty Estimation   4.989213466644287\n"
     ]
    },
    {
     "name": "stderr",
     "output_type": "stream",
     "text": [
      "\n",
      " 70%|███████   | 7/10 [00:35<00:15,  5.02s/it]\u001b[A"
     ]
    },
    {
     "name": "stdout",
     "output_type": "stream",
     "text": [
      "\n",
      " Time needed for MC Dropout-based Uncertainty Estimation   5.024601459503174\n"
     ]
    },
    {
     "name": "stderr",
     "output_type": "stream",
     "text": [
      "\n",
      " 80%|████████  | 8/10 [00:40<00:10,  5.01s/it]\u001b[A"
     ]
    },
    {
     "name": "stdout",
     "output_type": "stream",
     "text": [
      "\n",
      " Time needed for MC Dropout-based Uncertainty Estimation   4.95561957359314\n"
     ]
    },
    {
     "name": "stderr",
     "output_type": "stream",
     "text": [
      "\n",
      " 90%|█████████ | 9/10 [00:45<00:04,  5.00s/it]\u001b[A"
     ]
    },
    {
     "name": "stdout",
     "output_type": "stream",
     "text": [
      "\n",
      " Time needed for MC Dropout-based Uncertainty Estimation   4.95686936378479\n"
     ]
    },
    {
     "name": "stderr",
     "output_type": "stream",
     "text": [
      "\n",
      "100%|██████████| 10/10 [00:50<00:00,  4.99s/it]\u001b[A"
     ]
    },
    {
     "name": "stdout",
     "output_type": "stream",
     "text": [
      "\n",
      " Time needed for MC Dropout-based Uncertainty Estimation   4.982657432556152\n",
      "Model: \"model_2\"\n",
      "_________________________________________________________________\n",
      "Layer (type)                 Output Shape              Param #   \n",
      "=================================================================\n",
      "input (InputLayer)           (None, 400, 400, 30)      0         \n",
      "_________________________________________________________________\n",
      "conv2d_11 (Conv2D)           (None, 400, 400, 32)      8672      \n",
      "_________________________________________________________________\n",
      "batch_normalization_19 (Batc (None, 400, 400, 32)      128       \n",
      "_________________________________________________________________\n",
      "activation_19 (Activation)   (None, 400, 400, 32)      0         \n",
      "_________________________________________________________________\n",
      "conv2d_12 (Conv2D)           (None, 400, 400, 32)      9248      \n",
      "_________________________________________________________________\n",
      "batch_normalization_20 (Batc (None, 400, 400, 32)      128       \n",
      "_________________________________________________________________\n",
      "activation_20 (Activation)   (None, 400, 400, 32)      0         \n",
      "_________________________________________________________________\n",
      "max_pooling2d_5 (MaxPooling2 (None, 200, 200, 32)      0         \n",
      "_________________________________________________________________\n",
      "conv2d_13 (Conv2D)           (None, 200, 200, 64)      18496     \n",
      "_________________________________________________________________\n",
      "batch_normalization_21 (Batc (None, 200, 200, 64)      256       \n",
      "_________________________________________________________________\n",
      "activation_21 (Activation)   (None, 200, 200, 64)      0         \n",
      "_________________________________________________________________\n",
      "conv2d_14 (Conv2D)           (None, 200, 200, 64)      36928     \n",
      "_________________________________________________________________\n",
      "batch_normalization_22 (Batc (None, 200, 200, 64)      256       \n",
      "_________________________________________________________________\n",
      "activation_22 (Activation)   (None, 200, 200, 64)      0         \n",
      "_________________________________________________________________\n",
      "max_pooling2d_6 (MaxPooling2 (None, 100, 100, 64)      0         \n",
      "_________________________________________________________________\n",
      "conv2d_15 (Conv2D)           (None, 100, 100, 128)     73856     \n",
      "_________________________________________________________________\n",
      "batch_normalization_23 (Batc (None, 100, 100, 128)     512       \n",
      "_________________________________________________________________\n",
      "activation_23 (Activation)   (None, 100, 100, 128)     0         \n",
      "_________________________________________________________________\n",
      "conv2d_16 (Conv2D)           (None, 100, 100, 128)     147584    \n",
      "_________________________________________________________________\n",
      "batch_normalization_24 (Batc (None, 100, 100, 128)     512       \n",
      "_________________________________________________________________\n",
      "activation_24 (Activation)   (None, 100, 100, 128)     0         \n",
      "_________________________________________________________________\n",
      "max_pooling2d_7 (MaxPooling2 (None, 50, 50, 128)       0         \n",
      "_________________________________________________________________\n",
      "conv2d_17 (Conv2D)           (None, 50, 50, 256)       295168    \n",
      "_________________________________________________________________\n",
      "batch_normalization_25 (Batc (None, 50, 50, 256)       1024      \n",
      "_________________________________________________________________\n",
      "activation_25 (Activation)   (None, 50, 50, 256)       0         \n",
      "_________________________________________________________________\n",
      "conv2d_18 (Conv2D)           (None, 50, 50, 256)       590080    \n",
      "_________________________________________________________________\n",
      "batch_normalization_26 (Batc (None, 50, 50, 256)       1024      \n",
      "_________________________________________________________________\n",
      "activation_26 (Activation)   (None, 50, 50, 256)       0         \n",
      "_________________________________________________________________\n",
      "global_average_pooling2d_1 ( (None, 256)               0         \n",
      "_________________________________________________________________\n",
      "dense_2 (Dense)              (None, 1)                 257       \n",
      "_________________________________________________________________\n",
      "output (Activation)          (None, 1)                 0         \n",
      "=================================================================\n",
      "Total params: 1,184,129\n",
      "Trainable params: 1,182,209\n",
      "Non-trainable params: 1,920\n",
      "_________________________________________________________________\n",
      "(40, 1)\n",
      "Train on 40 samples, validate on 10 samples\n",
      "Epoch 1/60\n",
      " - 3s - loss: 0.0568 - val_loss: 0.0360\n",
      "\n",
      "Epoch 00001: val_loss improved from inf to 0.03596, saving model to ./trained_models/unet_div8_495K_40_DiceNet.hdf5\n",
      "Epoch 2/60\n",
      " - 2s - loss: 0.0378 - val_loss: 0.0354\n",
      "\n",
      "Epoch 00002: val_loss improved from 0.03596 to 0.03541, saving model to ./trained_models/unet_div8_495K_40_DiceNet.hdf5\n",
      "Epoch 3/60\n",
      " - 2s - loss: 0.0475 - val_loss: 0.0357\n",
      "\n",
      "Epoch 00003: val_loss did not improve from 0.03541\n",
      "Epoch 4/60\n",
      " - 2s - loss: 0.0148 - val_loss: 0.0356\n",
      "\n",
      "Epoch 00004: val_loss did not improve from 0.03541\n",
      "Epoch 5/60\n",
      " - 2s - loss: 0.0155 - val_loss: 0.0328\n",
      "\n",
      "Epoch 00005: val_loss improved from 0.03541 to 0.03284, saving model to ./trained_models/unet_div8_495K_40_DiceNet.hdf5\n",
      "Epoch 6/60\n",
      " - 2s - loss: 0.0149 - val_loss: 0.0318\n",
      "\n",
      "Epoch 00006: val_loss improved from 0.03284 to 0.03184, saving model to ./trained_models/unet_div8_495K_40_DiceNet.hdf5\n",
      "Epoch 7/60\n",
      " - 2s - loss: 0.0158 - val_loss: 0.0318\n",
      "\n",
      "Epoch 00007: val_loss improved from 0.03184 to 0.03183, saving model to ./trained_models/unet_div8_495K_40_DiceNet.hdf5\n",
      "Epoch 8/60\n",
      " - 2s - loss: 0.0143 - val_loss: 0.0334\n",
      "\n",
      "Epoch 00008: val_loss did not improve from 0.03183\n",
      "Epoch 9/60\n",
      " - 2s - loss: 0.0132 - val_loss: 0.0363\n",
      "\n",
      "Epoch 00009: val_loss did not improve from 0.03183\n",
      "Epoch 10/60\n",
      " - 2s - loss: 0.0136 - val_loss: 0.0383\n",
      "\n",
      "Epoch 00010: val_loss did not improve from 0.03183\n",
      "Epoch 11/60\n",
      " - 2s - loss: 0.0127 - val_loss: 0.0378\n",
      "\n",
      "Epoch 00011: val_loss did not improve from 0.03183\n",
      "Epoch 12/60\n",
      " - 2s - loss: 0.0127 - val_loss: 0.0321\n",
      "\n",
      "Epoch 00012: val_loss did not improve from 0.03183\n",
      "Epoch 13/60\n",
      " - 2s - loss: 0.0124 - val_loss: 0.0321\n",
      "\n",
      "Epoch 00013: val_loss did not improve from 0.03183\n",
      "Epoch 14/60\n",
      " - 2s - loss: 0.0138 - val_loss: 0.0331\n",
      "\n",
      "Epoch 00014: val_loss did not improve from 0.03183\n",
      "Epoch 15/60\n",
      " - 2s - loss: 0.0132 - val_loss: 0.0324\n",
      "\n",
      "Epoch 00015: val_loss did not improve from 0.03183\n",
      "Epoch 16/60\n",
      " - 2s - loss: 0.0116 - val_loss: 0.0323\n",
      "\n",
      "Epoch 00016: val_loss did not improve from 0.03183\n",
      "Epoch 17/60\n",
      " - 2s - loss: 0.0125 - val_loss: 0.0320\n",
      "\n",
      "Epoch 00017: val_loss did not improve from 0.03183\n",
      "Epoch 18/60\n",
      " - 2s - loss: 0.0106 - val_loss: 0.0328\n",
      "\n",
      "Epoch 00018: val_loss did not improve from 0.03183\n",
      "Epoch 19/60\n",
      " - 2s - loss: 0.0096 - val_loss: 0.0343\n",
      "\n",
      "Epoch 00019: val_loss did not improve from 0.03183\n",
      "False\n",
      "False\n",
      "START EVALUATION......:\n",
      "(10, 400, 400, 28)\n",
      "Loading model: ./trained_models/unet_div8_495K_40.hdf5\n"
     ]
    },
    {
     "name": "stderr",
     "output_type": "stream",
     "text": [
      "\n",
      "  0%|          | 0/10 [00:00<?, ?it/s]\u001b[A\n",
      " 10%|█         | 1/10 [00:02<00:21,  2.41s/it]\u001b[A"
     ]
    },
    {
     "name": "stdout",
     "output_type": "stream",
     "text": [
      "\n",
      " Time needed for MC Dropout-based Uncertainty Estimation   2.407426357269287\n"
     ]
    },
    {
     "name": "stderr",
     "output_type": "stream",
     "text": [
      "\n",
      " 20%|██        | 2/10 [00:03<00:17,  2.13s/it]\u001b[A"
     ]
    },
    {
     "name": "stdout",
     "output_type": "stream",
     "text": [
      "\n",
      " Time needed for MC Dropout-based Uncertainty Estimation   1.4485697746276855\n"
     ]
    },
    {
     "name": "stderr",
     "output_type": "stream",
     "text": [
      "\n",
      " 30%|███       | 3/10 [00:05<00:13,  1.89s/it]\u001b[A"
     ]
    },
    {
     "name": "stdout",
     "output_type": "stream",
     "text": [
      "\n",
      " Time needed for MC Dropout-based Uncertainty Estimation   1.3242783546447754\n"
     ]
    },
    {
     "name": "stderr",
     "output_type": "stream",
     "text": [
      "\n",
      " 40%|████      | 4/10 [00:06<00:10,  1.75s/it]\u001b[A"
     ]
    },
    {
     "name": "stdout",
     "output_type": "stream",
     "text": [
      "\n",
      " Time needed for MC Dropout-based Uncertainty Estimation   1.413360595703125\n"
     ]
    },
    {
     "name": "stderr",
     "output_type": "stream",
     "text": [
      "\n",
      " 50%|█████     | 5/10 [00:08<00:08,  1.64s/it]\u001b[A"
     ]
    },
    {
     "name": "stdout",
     "output_type": "stream",
     "text": [
      "\n",
      " Time needed for MC Dropout-based Uncertainty Estimation   1.3882277011871338\n"
     ]
    },
    {
     "name": "stderr",
     "output_type": "stream",
     "text": [
      "\n",
      " 60%|██████    | 6/10 [00:09<00:06,  1.58s/it]\u001b[A"
     ]
    },
    {
     "name": "stdout",
     "output_type": "stream",
     "text": [
      "\n",
      " Time needed for MC Dropout-based Uncertainty Estimation   1.4051494598388672\n"
     ]
    },
    {
     "name": "stderr",
     "output_type": "stream",
     "text": [
      "\n",
      " 70%|███████   | 7/10 [00:10<00:04,  1.53s/it]\u001b[A"
     ]
    },
    {
     "name": "stdout",
     "output_type": "stream",
     "text": [
      "\n",
      " Time needed for MC Dropout-based Uncertainty Estimation   1.420375108718872\n"
     ]
    },
    {
     "name": "stderr",
     "output_type": "stream",
     "text": [
      "\n",
      " 80%|████████  | 8/10 [00:12<00:02,  1.47s/it]\u001b[A"
     ]
    },
    {
     "name": "stdout",
     "output_type": "stream",
     "text": [
      "\n",
      " Time needed for MC Dropout-based Uncertainty Estimation   1.3098547458648682\n"
     ]
    },
    {
     "name": "stderr",
     "output_type": "stream",
     "text": [
      "\n",
      " 90%|█████████ | 9/10 [00:13<00:01,  1.42s/it]\u001b[A"
     ]
    },
    {
     "name": "stdout",
     "output_type": "stream",
     "text": [
      "\n",
      " Time needed for MC Dropout-based Uncertainty Estimation   1.3120648860931396\n"
     ]
    },
    {
     "name": "stderr",
     "output_type": "stream",
     "text": [
      "\n",
      "100%|██████████| 10/10 [00:14<00:00,  1.42s/it]\u001b[A"
     ]
    },
    {
     "name": "stdout",
     "output_type": "stream",
     "text": [
      "\n",
      " Time needed for MC Dropout-based Uncertainty Estimation   1.4129223823547363\n",
      "Loading model: ./trained_models/unet_div8_495K_40_DiceNet.hdf5\n",
      "START EVALUATION......:\n",
      "(40, 400, 400, 28)\n",
      "Loading model: ./trained_models/unet_div8_495K_40.hdf5\n"
     ]
    },
    {
     "name": "stderr",
     "output_type": "stream",
     "text": [
      "\n",
      "  0%|          | 0/40 [00:00<?, ?it/s]\u001b[A\n",
      "  2%|▎         | 1/40 [00:07<04:39,  7.18s/it]\u001b[A"
     ]
    },
    {
     "name": "stdout",
     "output_type": "stream",
     "text": [
      "\n",
      " Time needed for MC Dropout-based Uncertainty Estimation   7.158782482147217\n"
     ]
    },
    {
     "name": "stderr",
     "output_type": "stream",
     "text": [
      "\n",
      "  5%|▌         | 2/40 [00:12<04:12,  6.66s/it]\u001b[A"
     ]
    },
    {
     "name": "stdout",
     "output_type": "stream",
     "text": [
      "\n",
      " Time needed for MC Dropout-based Uncertainty Estimation   5.417298316955566\n"
     ]
    },
    {
     "name": "stderr",
     "output_type": "stream",
     "text": [
      "\n",
      "  8%|▊         | 3/40 [00:18<03:52,  6.28s/it]\u001b[A"
     ]
    },
    {
     "name": "stdout",
     "output_type": "stream",
     "text": [
      "\n",
      " Time needed for MC Dropout-based Uncertainty Estimation   5.394684076309204\n"
     ]
    },
    {
     "name": "stderr",
     "output_type": "stream",
     "text": [
      "\n",
      " 10%|█         | 4/40 [00:23<03:32,  5.89s/it]\u001b[A"
     ]
    },
    {
     "name": "stdout",
     "output_type": "stream",
     "text": [
      "\n",
      " Time needed for MC Dropout-based Uncertainty Estimation   4.9434494972229\n"
     ]
    },
    {
     "name": "stderr",
     "output_type": "stream",
     "text": [
      "\n",
      " 12%|█▎        | 5/40 [00:28<03:21,  5.75s/it]\u001b[A"
     ]
    },
    {
     "name": "stdout",
     "output_type": "stream",
     "text": [
      "\n",
      " Time needed for MC Dropout-based Uncertainty Estimation   5.3901801109313965\n"
     ]
    },
    {
     "name": "stderr",
     "output_type": "stream",
     "text": [
      "\n",
      " 15%|█▌        | 6/40 [00:33<03:12,  5.65s/it]\u001b[A"
     ]
    },
    {
     "name": "stdout",
     "output_type": "stream",
     "text": [
      "\n",
      " Time needed for MC Dropout-based Uncertainty Estimation   5.394157886505127\n"
     ]
    },
    {
     "name": "stderr",
     "output_type": "stream",
     "text": [
      "\n",
      " 18%|█▊        | 7/40 [00:38<02:59,  5.44s/it]\u001b[A"
     ]
    },
    {
     "name": "stdout",
     "output_type": "stream",
     "text": [
      "\n",
      " Time needed for MC Dropout-based Uncertainty Estimation   4.928948163986206\n"
     ]
    },
    {
     "name": "stderr",
     "output_type": "stream",
     "text": [
      "\n",
      " 20%|██        | 8/40 [00:44<02:52,  5.40s/it]\u001b[A"
     ]
    },
    {
     "name": "stdout",
     "output_type": "stream",
     "text": [
      "\n",
      " Time needed for MC Dropout-based Uncertainty Estimation   5.279240131378174\n"
     ]
    },
    {
     "name": "stderr",
     "output_type": "stream",
     "text": [
      "\n",
      " 22%|██▎       | 9/40 [00:49<02:47,  5.39s/it]\u001b[A"
     ]
    },
    {
     "name": "stdout",
     "output_type": "stream",
     "text": [
      "\n",
      " Time needed for MC Dropout-based Uncertainty Estimation   5.348253965377808\n"
     ]
    },
    {
     "name": "stderr",
     "output_type": "stream",
     "text": [
      "\n",
      " 25%|██▌       | 10/40 [00:54<02:37,  5.25s/it]\u001b[A"
     ]
    },
    {
     "name": "stdout",
     "output_type": "stream",
     "text": [
      "\n",
      " Time needed for MC Dropout-based Uncertainty Estimation   4.905943393707275\n"
     ]
    },
    {
     "name": "stderr",
     "output_type": "stream",
     "text": [
      "\n",
      " 28%|██▊       | 11/40 [00:59<02:33,  5.28s/it]\u001b[A"
     ]
    },
    {
     "name": "stdout",
     "output_type": "stream",
     "text": [
      "\n",
      " Time needed for MC Dropout-based Uncertainty Estimation   5.3107380867004395\n"
     ]
    },
    {
     "name": "stderr",
     "output_type": "stream",
     "text": [
      "\n",
      " 30%|███       | 12/40 [01:05<02:28,  5.31s/it]\u001b[A"
     ]
    },
    {
     "name": "stdout",
     "output_type": "stream",
     "text": [
      "\n",
      " Time needed for MC Dropout-based Uncertainty Estimation   5.35576868057251\n"
     ]
    },
    {
     "name": "stderr",
     "output_type": "stream",
     "text": [
      "\n",
      " 32%|███▎      | 13/40 [01:10<02:20,  5.20s/it]\u001b[A"
     ]
    },
    {
     "name": "stdout",
     "output_type": "stream",
     "text": [
      "\n",
      " Time needed for MC Dropout-based Uncertainty Estimation   4.922895431518555\n"
     ]
    },
    {
     "name": "stderr",
     "output_type": "stream",
     "text": [
      "\n",
      " 35%|███▌      | 14/40 [01:15<02:16,  5.25s/it]\u001b[A"
     ]
    },
    {
     "name": "stdout",
     "output_type": "stream",
     "text": [
      "\n",
      " Time needed for MC Dropout-based Uncertainty Estimation   5.3352251052856445\n"
     ]
    },
    {
     "name": "stderr",
     "output_type": "stream",
     "text": [
      "\n",
      " 38%|███▊      | 15/40 [01:20<02:12,  5.29s/it]\u001b[A"
     ]
    },
    {
     "name": "stdout",
     "output_type": "stream",
     "text": [
      "\n",
      " Time needed for MC Dropout-based Uncertainty Estimation   5.368556022644043\n"
     ]
    },
    {
     "name": "stderr",
     "output_type": "stream",
     "text": [
      "\n",
      " 40%|████      | 16/40 [01:25<02:04,  5.20s/it]\u001b[A"
     ]
    },
    {
     "name": "stdout",
     "output_type": "stream",
     "text": [
      "\n",
      " Time needed for MC Dropout-based Uncertainty Estimation   4.959494352340698\n"
     ]
    },
    {
     "name": "stderr",
     "output_type": "stream",
     "text": [
      "\n",
      " 42%|████▎     | 17/40 [01:31<02:00,  5.23s/it]\u001b[A"
     ]
    },
    {
     "name": "stdout",
     "output_type": "stream",
     "text": [
      "\n",
      " Time needed for MC Dropout-based Uncertainty Estimation   5.273932695388794\n"
     ]
    },
    {
     "name": "stderr",
     "output_type": "stream",
     "text": [
      "\n",
      " 45%|████▌     | 18/40 [01:36<01:55,  5.26s/it]\u001b[A"
     ]
    },
    {
     "name": "stdout",
     "output_type": "stream",
     "text": [
      "\n",
      " Time needed for MC Dropout-based Uncertainty Estimation   5.307674884796143\n"
     ]
    },
    {
     "name": "stderr",
     "output_type": "stream",
     "text": [
      "\n",
      " 48%|████▊     | 19/40 [01:41<01:47,  5.14s/it]\u001b[A"
     ]
    },
    {
     "name": "stdout",
     "output_type": "stream",
     "text": [
      "\n",
      " Time needed for MC Dropout-based Uncertainty Estimation   4.8461785316467285\n"
     ]
    },
    {
     "name": "stderr",
     "output_type": "stream",
     "text": [
      "\n",
      " 50%|█████     | 20/40 [01:46<01:44,  5.20s/it]\u001b[A"
     ]
    },
    {
     "name": "stdout",
     "output_type": "stream",
     "text": [
      "\n",
      " Time needed for MC Dropout-based Uncertainty Estimation   5.319656848907471\n"
     ]
    },
    {
     "name": "stderr",
     "output_type": "stream",
     "text": [
      "\n",
      " 52%|█████▎    | 21/40 [01:51<01:39,  5.25s/it]\u001b[A"
     ]
    },
    {
     "name": "stdout",
     "output_type": "stream",
     "text": [
      "\n",
      " Time needed for MC Dropout-based Uncertainty Estimation   5.341176509857178\n"
     ]
    },
    {
     "name": "stderr",
     "output_type": "stream",
     "text": [
      "\n",
      " 55%|█████▌    | 22/40 [01:56<01:33,  5.18s/it]\u001b[A"
     ]
    },
    {
     "name": "stdout",
     "output_type": "stream",
     "text": [
      "\n",
      " Time needed for MC Dropout-based Uncertainty Estimation   4.982900381088257\n"
     ]
    },
    {
     "name": "stderr",
     "output_type": "stream",
     "text": [
      "\n",
      " 57%|█████▊    | 23/40 [02:02<01:28,  5.23s/it]\u001b[A"
     ]
    },
    {
     "name": "stdout",
     "output_type": "stream",
     "text": [
      "\n",
      " Time needed for MC Dropout-based Uncertainty Estimation   5.341447591781616\n"
     ]
    },
    {
     "name": "stderr",
     "output_type": "stream",
     "text": [
      "\n",
      " 60%|██████    | 24/40 [02:07<01:24,  5.26s/it]\u001b[A"
     ]
    },
    {
     "name": "stdout",
     "output_type": "stream",
     "text": [
      "\n",
      " Time needed for MC Dropout-based Uncertainty Estimation   5.3097779750823975\n"
     ]
    },
    {
     "name": "stderr",
     "output_type": "stream",
     "text": [
      "\n",
      " 62%|██████▎   | 25/40 [02:12<01:17,  5.16s/it]\u001b[A"
     ]
    },
    {
     "name": "stdout",
     "output_type": "stream",
     "text": [
      "\n",
      " Time needed for MC Dropout-based Uncertainty Estimation   4.905266284942627\n"
     ]
    },
    {
     "name": "stderr",
     "output_type": "stream",
     "text": [
      "\n",
      " 65%|██████▌   | 26/40 [02:17<01:13,  5.23s/it]\u001b[A"
     ]
    },
    {
     "name": "stdout",
     "output_type": "stream",
     "text": [
      "\n",
      " Time needed for MC Dropout-based Uncertainty Estimation   5.362730264663696\n"
     ]
    },
    {
     "name": "stderr",
     "output_type": "stream",
     "text": [
      "\n",
      " 68%|██████▊   | 27/40 [02:23<01:08,  5.29s/it]\u001b[A"
     ]
    },
    {
     "name": "stdout",
     "output_type": "stream",
     "text": [
      "\n",
      " Time needed for MC Dropout-based Uncertainty Estimation   5.403080940246582\n"
     ]
    },
    {
     "name": "stderr",
     "output_type": "stream",
     "text": [
      "\n",
      " 70%|███████   | 28/40 [02:28<01:02,  5.20s/it]\u001b[A"
     ]
    },
    {
     "name": "stdout",
     "output_type": "stream",
     "text": [
      "\n",
      " Time needed for MC Dropout-based Uncertainty Estimation   4.9738829135894775\n"
     ]
    },
    {
     "name": "stderr",
     "output_type": "stream",
     "text": [
      "\n",
      " 72%|███████▎  | 29/40 [02:33<00:57,  5.25s/it]\u001b[A"
     ]
    },
    {
     "name": "stdout",
     "output_type": "stream",
     "text": [
      "\n",
      " Time needed for MC Dropout-based Uncertainty Estimation   5.345647811889648\n"
     ]
    },
    {
     "name": "stderr",
     "output_type": "stream",
     "text": [
      "\n",
      " 75%|███████▌  | 30/40 [02:39<00:52,  5.29s/it]\u001b[A"
     ]
    },
    {
     "name": "stdout",
     "output_type": "stream",
     "text": [
      "\n",
      " Time needed for MC Dropout-based Uncertainty Estimation   5.360165596008301\n"
     ]
    },
    {
     "name": "stderr",
     "output_type": "stream",
     "text": [
      "\n",
      " 78%|███████▊  | 31/40 [02:44<00:46,  5.21s/it]\u001b[A"
     ]
    },
    {
     "name": "stdout",
     "output_type": "stream",
     "text": [
      "\n",
      " Time needed for MC Dropout-based Uncertainty Estimation   4.984220504760742\n"
     ]
    },
    {
     "name": "stderr",
     "output_type": "stream",
     "text": [
      "\n",
      " 80%|████████  | 32/40 [02:49<00:42,  5.27s/it]\u001b[A"
     ]
    },
    {
     "name": "stdout",
     "output_type": "stream",
     "text": [
      "\n",
      " Time needed for MC Dropout-based Uncertainty Estimation   5.39693284034729\n"
     ]
    },
    {
     "name": "stderr",
     "output_type": "stream",
     "text": [
      "\n",
      " 82%|████████▎ | 33/40 [02:55<00:37,  5.32s/it]\u001b[A"
     ]
    },
    {
     "name": "stdout",
     "output_type": "stream",
     "text": [
      "\n",
      " Time needed for MC Dropout-based Uncertainty Estimation   5.402503728866577\n"
     ]
    },
    {
     "name": "stderr",
     "output_type": "stream",
     "text": [
      "\n",
      " 85%|████████▌ | 34/40 [03:00<00:31,  5.21s/it]\u001b[A"
     ]
    },
    {
     "name": "stdout",
     "output_type": "stream",
     "text": [
      "\n",
      " Time needed for MC Dropout-based Uncertainty Estimation   4.950128078460693\n"
     ]
    },
    {
     "name": "stderr",
     "output_type": "stream",
     "text": [
      "\n",
      " 88%|████████▊ | 35/40 [03:05<00:26,  5.27s/it]\u001b[A"
     ]
    },
    {
     "name": "stdout",
     "output_type": "stream",
     "text": [
      "\n",
      " Time needed for MC Dropout-based Uncertainty Estimation   5.377971172332764\n"
     ]
    },
    {
     "name": "stderr",
     "output_type": "stream",
     "text": [
      "\n",
      " 90%|█████████ | 36/40 [03:10<00:21,  5.33s/it]\u001b[A"
     ]
    },
    {
     "name": "stdout",
     "output_type": "stream",
     "text": [
      "\n",
      " Time needed for MC Dropout-based Uncertainty Estimation   5.43538236618042\n"
     ]
    },
    {
     "name": "stderr",
     "output_type": "stream",
     "text": [
      "\n",
      " 92%|█████████▎| 37/40 [03:15<00:15,  5.24s/it]\u001b[A"
     ]
    },
    {
     "name": "stdout",
     "output_type": "stream",
     "text": [
      "\n",
      " Time needed for MC Dropout-based Uncertainty Estimation   4.99810791015625\n"
     ]
    },
    {
     "name": "stderr",
     "output_type": "stream",
     "text": [
      "\n",
      " 95%|█████████▌| 38/40 [03:21<00:10,  5.28s/it]\u001b[A"
     ]
    },
    {
     "name": "stdout",
     "output_type": "stream",
     "text": [
      "\n",
      " Time needed for MC Dropout-based Uncertainty Estimation   5.362589359283447\n"
     ]
    },
    {
     "name": "stderr",
     "output_type": "stream",
     "text": [
      "\n",
      " 98%|█████████▊| 39/40 [03:26<00:05,  5.32s/it]\u001b[A"
     ]
    },
    {
     "name": "stdout",
     "output_type": "stream",
     "text": [
      "\n",
      " Time needed for MC Dropout-based Uncertainty Estimation   5.398139238357544\n"
     ]
    },
    {
     "name": "stderr",
     "output_type": "stream",
     "text": [
      "\n",
      "100%|██████████| 40/40 [03:31<00:00,  5.23s/it]\u001b[A"
     ]
    },
    {
     "name": "stdout",
     "output_type": "stream",
     "text": [
      "\n",
      " Time needed for MC Dropout-based Uncertainty Estimation   4.991855621337891\n",
      "START TRAINING......:\n",
      "Training with 40 images\n",
      "Validating with 10 images\n",
      "Training Unet-mcdropout\n",
      "(40, 400, 400, 28)\n",
      "Epoch 1/80\n",
      " - 6s - loss: 0.5384 - accuracy: 0.7476 - val_loss: 0.6620 - val_accuracy: 0.8665\n",
      "\n",
      "Epoch 00001: val_loss improved from inf to 0.66205, saving model to ./trained_models/unet_div8_495K_40.hdf5\n",
      "Epoch 2/80\n",
      " - 2s - loss: 0.4417 - accuracy: 0.8696 - val_loss: 0.6068 - val_accuracy: 0.8846\n",
      "\n",
      "Epoch 00002: val_loss improved from 0.66205 to 0.60684, saving model to ./trained_models/unet_div8_495K_40.hdf5\n",
      "Epoch 3/80\n",
      " - 6s - loss: 0.3855 - accuracy: 0.8897 - val_loss: 0.5938 - val_accuracy: 0.8608\n",
      "\n",
      "Epoch 00003: val_loss improved from 0.60684 to 0.59379, saving model to ./trained_models/unet_div8_495K_40.hdf5\n",
      "Epoch 4/80\n",
      " - 5s - loss: 0.3545 - accuracy: 0.8921 - val_loss: 0.6028 - val_accuracy: 0.8598\n",
      "\n",
      "Epoch 00004: val_loss did not improve from 0.59379\n",
      "Epoch 5/80\n",
      " - 6s - loss: 0.3312 - accuracy: 0.8912 - val_loss: 0.5839 - val_accuracy: 0.8504\n",
      "\n",
      "Epoch 00005: val_loss improved from 0.59379 to 0.58394, saving model to ./trained_models/unet_div8_495K_40.hdf5\n",
      "Epoch 6/80\n",
      " - 5s - loss: 0.3143 - accuracy: 0.8924 - val_loss: 0.5714 - val_accuracy: 0.8031\n",
      "\n",
      "Epoch 00006: val_loss improved from 0.58394 to 0.57137, saving model to ./trained_models/unet_div8_495K_40.hdf5\n",
      "Epoch 7/80\n",
      " - 4s - loss: 0.3015 - accuracy: 0.8940 - val_loss: 0.5882 - val_accuracy: 0.7848\n",
      "\n",
      "Epoch 00007: val_loss did not improve from 0.57137\n",
      "Epoch 8/80\n",
      " - 5s - loss: 0.2894 - accuracy: 0.8970 - val_loss: 0.5642 - val_accuracy: 0.7570\n",
      "\n",
      "Epoch 00008: val_loss improved from 0.57137 to 0.56420, saving model to ./trained_models/unet_div8_495K_40.hdf5\n",
      "Epoch 9/80\n",
      " - 5s - loss: 0.2776 - accuracy: 0.8969 - val_loss: 0.6123 - val_accuracy: 0.6361\n",
      "\n",
      "Epoch 00009: val_loss did not improve from 0.56420\n",
      "Epoch 10/80\n",
      " - 5s - loss: 0.2645 - accuracy: 0.8965 - val_loss: 0.7326 - val_accuracy: 0.4632\n",
      "\n",
      "Epoch 00010: val_loss did not improve from 0.56420\n",
      "Epoch 11/80\n",
      " - 5s - loss: 0.2605 - accuracy: 0.8998 - val_loss: 0.7900 - val_accuracy: 0.3533\n",
      "\n",
      "Epoch 00011: val_loss did not improve from 0.56420\n",
      "Epoch 12/80\n",
      " - 6s - loss: 0.2545 - accuracy: 0.8991 - val_loss: 1.2159 - val_accuracy: 0.2451\n",
      "\n",
      "Epoch 00012: val_loss did not improve from 0.56420\n",
      "Epoch 13/80\n",
      " - 5s - loss: 0.2532 - accuracy: 0.9021 - val_loss: 1.2694 - val_accuracy: 0.2319\n",
      "\n",
      "Epoch 00013: val_loss did not improve from 0.56420\n",
      "Epoch 14/80\n",
      " - 5s - loss: 0.2501 - accuracy: 0.8996 - val_loss: 1.3837 - val_accuracy: 0.2482\n",
      "\n",
      "Epoch 00014: val_loss did not improve from 0.56420\n",
      "Epoch 15/80\n",
      " - 5s - loss: 0.2441 - accuracy: 0.8977 - val_loss: 0.4736 - val_accuracy: 0.6799\n",
      "\n",
      "Epoch 00015: val_loss improved from 0.56420 to 0.47355, saving model to ./trained_models/unet_div8_495K_40.hdf5\n",
      "Epoch 16/80\n",
      " - 5s - loss: 0.2372 - accuracy: 0.9016 - val_loss: 0.8615 - val_accuracy: 0.4040\n",
      "\n",
      "Epoch 00016: val_loss did not improve from 0.47355\n",
      "Epoch 17/80\n",
      " - 5s - loss: 0.2286 - accuracy: 0.9036 - val_loss: 0.7141 - val_accuracy: 0.4797\n",
      "\n",
      "Epoch 00017: val_loss did not improve from 0.47355\n",
      "Epoch 18/80\n",
      " - 5s - loss: 0.2229 - accuracy: 0.9015 - val_loss: 0.4482 - val_accuracy: 0.6910\n",
      "\n",
      "Epoch 00018: val_loss improved from 0.47355 to 0.44823, saving model to ./trained_models/unet_div8_495K_40.hdf5\n",
      "Epoch 19/80\n",
      " - 5s - loss: 0.2158 - accuracy: 0.9048 - val_loss: 0.8348 - val_accuracy: 0.4392\n",
      "\n",
      "Epoch 00019: val_loss did not improve from 0.44823\n",
      "Epoch 20/80\n",
      " - 5s - loss: 0.2131 - accuracy: 0.9069 - val_loss: 1.2659 - val_accuracy: 0.3335\n",
      "\n",
      "Epoch 00020: val_loss did not improve from 0.44823\n",
      "Epoch 21/80\n",
      " - 5s - loss: 0.2155 - accuracy: 0.9044 - val_loss: 0.7753 - val_accuracy: 0.4510\n",
      "\n",
      "Epoch 00021: val_loss did not improve from 0.44823\n",
      "Epoch 22/80\n",
      " - 5s - loss: 0.2112 - accuracy: 0.9054 - val_loss: 0.3070 - val_accuracy: 0.8195\n",
      "\n",
      "Epoch 00022: val_loss improved from 0.44823 to 0.30704, saving model to ./trained_models/unet_div8_495K_40.hdf5\n",
      "Epoch 23/80\n",
      " - 6s - loss: 0.2013 - accuracy: 0.9077 - val_loss: 0.4163 - val_accuracy: 0.7156\n",
      "\n",
      "Epoch 00023: val_loss did not improve from 0.30704\n",
      "Epoch 24/80\n",
      " - 6s - loss: 0.2095 - accuracy: 0.9103 - val_loss: 0.3764 - val_accuracy: 0.7562\n",
      "\n",
      "Epoch 00024: val_loss did not improve from 0.30704\n",
      "Epoch 25/80\n",
      " - 6s - loss: 0.2020 - accuracy: 0.9092 - val_loss: 0.4224 - val_accuracy: 0.7311\n",
      "\n",
      "Epoch 00025: val_loss did not improve from 0.30704\n",
      "Epoch 26/80\n",
      " - 5s - loss: 0.2038 - accuracy: 0.9086 - val_loss: 0.3016 - val_accuracy: 0.8375\n",
      "\n",
      "Epoch 00026: val_loss improved from 0.30704 to 0.30161, saving model to ./trained_models/unet_div8_495K_40.hdf5\n",
      "Epoch 27/80\n",
      " - 7s - loss: 0.1990 - accuracy: 0.9088 - val_loss: 1.2077 - val_accuracy: 0.2700\n",
      "\n",
      "Epoch 00027: val_loss did not improve from 0.30161\n",
      "Epoch 28/80\n",
      " - 5s - loss: 0.1991 - accuracy: 0.9102 - val_loss: 0.5169 - val_accuracy: 0.6537\n",
      "\n",
      "Epoch 00028: val_loss did not improve from 0.30161\n",
      "Epoch 29/80\n",
      " - 6s - loss: 0.1953 - accuracy: 0.9112 - val_loss: 0.2539 - val_accuracy: 0.8775\n",
      "\n",
      "Epoch 00029: val_loss improved from 0.30161 to 0.25389, saving model to ./trained_models/unet_div8_495K_40.hdf5\n",
      "Epoch 30/80\n",
      " - 5s - loss: 0.1900 - accuracy: 0.9127 - val_loss: 0.4453 - val_accuracy: 0.7229\n",
      "\n",
      "Epoch 00030: val_loss did not improve from 0.25389\n",
      "Epoch 31/80\n",
      " - 5s - loss: 0.1866 - accuracy: 0.9164 - val_loss: 0.3211 - val_accuracy: 0.8163\n",
      "\n",
      "Epoch 00031: val_loss did not improve from 0.25389\n",
      "Epoch 32/80\n",
      " - 6s - loss: 0.1849 - accuracy: 0.9186 - val_loss: 0.3510 - val_accuracy: 0.8017\n",
      "\n",
      "Epoch 00032: val_loss did not improve from 0.25389\n",
      "Epoch 33/80\n",
      " - 6s - loss: 0.1877 - accuracy: 0.9135 - val_loss: 0.2521 - val_accuracy: 0.8712\n",
      "\n",
      "Epoch 00033: val_loss improved from 0.25389 to 0.25214, saving model to ./trained_models/unet_div8_495K_40.hdf5\n",
      "Epoch 34/80\n",
      " - 6s - loss: 0.1824 - accuracy: 0.9137 - val_loss: 0.5174 - val_accuracy: 0.7096\n",
      "\n",
      "Epoch 00034: val_loss did not improve from 0.25214\n",
      "Epoch 35/80\n",
      " - 6s - loss: 0.1904 - accuracy: 0.9113 - val_loss: 0.6065 - val_accuracy: 0.6592\n",
      "\n",
      "Epoch 00035: val_loss did not improve from 0.25214\n",
      "Epoch 36/80\n",
      " - 5s - loss: 0.1881 - accuracy: 0.9119 - val_loss: 0.2831 - val_accuracy: 0.8817\n",
      "\n",
      "Epoch 00036: val_loss did not improve from 0.25214\n",
      "Epoch 37/80\n",
      " - 6s - loss: 0.1815 - accuracy: 0.9147 - val_loss: 0.2680 - val_accuracy: 0.8713\n",
      "\n",
      "Epoch 00037: val_loss did not improve from 0.25214\n",
      "Epoch 38/80\n",
      " - 6s - loss: 0.1728 - accuracy: 0.9189 - val_loss: 0.2278 - val_accuracy: 0.8968\n",
      "\n",
      "Epoch 00038: val_loss improved from 0.25214 to 0.22782, saving model to ./trained_models/unet_div8_495K_40.hdf5\n",
      "Epoch 39/80\n",
      " - 6s - loss: 0.1764 - accuracy: 0.9171 - val_loss: 0.3588 - val_accuracy: 0.8047\n",
      "\n",
      "Epoch 00039: val_loss did not improve from 0.22782\n",
      "Epoch 40/80\n",
      " - 6s - loss: 0.1746 - accuracy: 0.9177 - val_loss: 0.2417 - val_accuracy: 0.8850\n",
      "\n",
      "Epoch 00040: val_loss did not improve from 0.22782\n",
      "Epoch 41/80\n",
      " - 7s - loss: 0.1775 - accuracy: 0.9184 - val_loss: 0.3733 - val_accuracy: 0.8135\n",
      "\n",
      "Epoch 00041: val_loss did not improve from 0.22782\n",
      "Epoch 42/80\n",
      " - 6s - loss: 0.1732 - accuracy: 0.9194 - val_loss: 0.2314 - val_accuracy: 0.8964\n",
      "\n",
      "Epoch 00042: val_loss did not improve from 0.22782\n",
      "Epoch 43/80\n",
      " - 8s - loss: 0.1705 - accuracy: 0.9225 - val_loss: 0.2954 - val_accuracy: 0.8586\n",
      "\n",
      "Epoch 00043: val_loss did not improve from 0.22782\n",
      "Epoch 44/80\n",
      " - 6s - loss: 0.1692 - accuracy: 0.9181 - val_loss: 0.2634 - val_accuracy: 0.8753\n",
      "\n",
      "Epoch 00044: val_loss did not improve from 0.22782\n",
      "Epoch 45/80\n",
      " - 5s - loss: 0.1722 - accuracy: 0.9169 - val_loss: 0.2906 - val_accuracy: 0.8539\n",
      "\n",
      "Epoch 00045: val_loss did not improve from 0.22782\n",
      "Epoch 46/80\n",
      " - 5s - loss: 0.1645 - accuracy: 0.9219 - val_loss: 0.3118 - val_accuracy: 0.8294\n",
      "\n",
      "Epoch 00046: val_loss did not improve from 0.22782\n",
      "Epoch 47/80\n",
      " - 6s - loss: 0.1647 - accuracy: 0.9219 - val_loss: 0.2232 - val_accuracy: 0.8917\n",
      "\n",
      "Epoch 00047: val_loss improved from 0.22782 to 0.22315, saving model to ./trained_models/unet_div8_495K_40.hdf5\n",
      "Epoch 48/80\n",
      " - 6s - loss: 0.1710 - accuracy: 0.9175 - val_loss: 0.2117 - val_accuracy: 0.8950\n",
      "\n",
      "Epoch 00048: val_loss improved from 0.22315 to 0.21167, saving model to ./trained_models/unet_div8_495K_40.hdf5\n",
      "Epoch 49/80\n",
      " - 4s - loss: 0.1687 - accuracy: 0.9195 - val_loss: 0.3964 - val_accuracy: 0.8882\n"
     ]
    },
    {
     "name": "stdout",
     "output_type": "stream",
     "text": [
      "\n",
      "Epoch 00049: val_loss did not improve from 0.21167\n",
      "Epoch 50/80\n",
      " - 7s - loss: 0.1693 - accuracy: 0.9171 - val_loss: 0.2327 - val_accuracy: 0.8888\n",
      "\n",
      "Epoch 00050: val_loss did not improve from 0.21167\n",
      "Epoch 51/80\n",
      " - 6s - loss: 0.1651 - accuracy: 0.9214 - val_loss: 0.2681 - val_accuracy: 0.8700\n",
      "\n",
      "Epoch 00051: val_loss did not improve from 0.21167\n",
      "Epoch 52/80\n",
      " - 7s - loss: 0.1652 - accuracy: 0.9241 - val_loss: 0.2854 - val_accuracy: 0.8586\n",
      "\n",
      "Epoch 00052: val_loss did not improve from 0.21167\n",
      "Epoch 53/80\n",
      " - 5s - loss: 0.1671 - accuracy: 0.9176 - val_loss: 0.3168 - val_accuracy: 0.8307\n",
      "\n",
      "Epoch 00053: val_loss did not improve from 0.21167\n",
      "Epoch 54/80\n",
      " - 6s - loss: 0.1597 - accuracy: 0.9269 - val_loss: 0.2115 - val_accuracy: 0.8913\n",
      "\n",
      "Epoch 00054: val_loss improved from 0.21167 to 0.21152, saving model to ./trained_models/unet_div8_495K_40.hdf5\n",
      "Epoch 55/80\n",
      " - 5s - loss: 0.1637 - accuracy: 0.9235 - val_loss: 0.1979 - val_accuracy: 0.9032\n",
      "\n",
      "Epoch 00055: val_loss improved from 0.21152 to 0.19789, saving model to ./trained_models/unet_div8_495K_40.hdf5\n",
      "Epoch 56/80\n",
      " - 6s - loss: 0.1579 - accuracy: 0.9247 - val_loss: 0.2384 - val_accuracy: 0.8824\n",
      "\n",
      "Epoch 00056: val_loss did not improve from 0.19789\n",
      "Epoch 57/80\n",
      " - 6s - loss: 0.1653 - accuracy: 0.9207 - val_loss: 0.2525 - val_accuracy: 0.8762\n",
      "\n",
      "Epoch 00057: val_loss did not improve from 0.19789\n",
      "Epoch 58/80\n",
      " - 6s - loss: 0.1638 - accuracy: 0.9245 - val_loss: 0.4814 - val_accuracy: 0.7321\n",
      "\n",
      "Epoch 00058: val_loss did not improve from 0.19789\n",
      "Epoch 59/80\n",
      " - 6s - loss: 0.1625 - accuracy: 0.9239 - val_loss: 0.2481 - val_accuracy: 0.8939\n",
      "\n",
      "Epoch 00059: val_loss did not improve from 0.19789\n",
      "Epoch 60/80\n",
      " - 5s - loss: 0.1574 - accuracy: 0.9253 - val_loss: 0.2199 - val_accuracy: 0.8950\n",
      "\n",
      "Epoch 00060: val_loss did not improve from 0.19789\n",
      "Epoch 61/80\n",
      " - 6s - loss: 0.1595 - accuracy: 0.9264 - val_loss: 0.2495 - val_accuracy: 0.8873\n",
      "\n",
      "Epoch 00061: val_loss did not improve from 0.19789\n",
      "Epoch 62/80\n",
      " - 6s - loss: 0.1538 - accuracy: 0.9283 - val_loss: 0.3389 - val_accuracy: 0.8709\n",
      "\n",
      "Epoch 00062: val_loss did not improve from 0.19789\n",
      "Epoch 63/80\n",
      " - 6s - loss: 0.1615 - accuracy: 0.9222 - val_loss: 0.3511 - val_accuracy: 0.8080\n",
      "\n",
      "Epoch 00063: val_loss did not improve from 0.19789\n",
      "Epoch 64/80\n",
      " - 6s - loss: 0.1509 - accuracy: 0.9274 - val_loss: 0.2456 - val_accuracy: 0.8845\n",
      "\n",
      "Epoch 00064: val_loss did not improve from 0.19789\n",
      "Epoch 65/80\n",
      " - 5s - loss: 0.1481 - accuracy: 0.9310 - val_loss: 0.2599 - val_accuracy: 0.8941\n",
      "\n",
      "Epoch 00065: val_loss did not improve from 0.19789\n",
      "Epoch 66/80\n",
      " - 6s - loss: 0.1557 - accuracy: 0.9268 - val_loss: 0.2341 - val_accuracy: 0.8963\n",
      "\n",
      "Epoch 00066: val_loss did not improve from 0.19789\n",
      "Epoch 67/80\n",
      " - 5s - loss: 0.1493 - accuracy: 0.9304 - val_loss: 0.2338 - val_accuracy: 0.8990\n"
     ]
    },
    {
     "name": "stderr",
     "output_type": "stream",
     "text": [
      "\n",
      "  0%|          | 0/40 [00:00<?, ?it/s]\u001b[A"
     ]
    },
    {
     "name": "stdout",
     "output_type": "stream",
     "text": [
      "\n",
      "Epoch 00067: val_loss did not improve from 0.19789\n"
     ]
    },
    {
     "name": "stderr",
     "output_type": "stream",
     "text": [
      "\n",
      "  2%|▎         | 1/40 [00:21<13:42, 21.09s/it]\u001b[A"
     ]
    },
    {
     "name": "stdout",
     "output_type": "stream",
     "text": [
      "\n",
      " Time needed for MC Dropout-based Uncertainty Estimation   21.073525428771973\n"
     ]
    },
    {
     "name": "stderr",
     "output_type": "stream",
     "text": [
      "\n",
      "  5%|▌         | 2/40 [00:41<13:08, 20.74s/it]\u001b[A"
     ]
    },
    {
     "name": "stdout",
     "output_type": "stream",
     "text": [
      "\n",
      " Time needed for MC Dropout-based Uncertainty Estimation   19.897963523864746\n"
     ]
    },
    {
     "name": "stderr",
     "output_type": "stream",
     "text": [
      "\n",
      "  8%|▊         | 3/40 [01:01<12:40, 20.55s/it]\u001b[A"
     ]
    },
    {
     "name": "stdout",
     "output_type": "stream",
     "text": [
      "\n",
      " Time needed for MC Dropout-based Uncertainty Estimation   20.04804754257202\n"
     ]
    },
    {
     "name": "stderr",
     "output_type": "stream",
     "text": [
      "\n",
      " 10%|█         | 4/40 [01:19<11:56, 19.90s/it]\u001b[A"
     ]
    },
    {
     "name": "stdout",
     "output_type": "stream",
     "text": [
      "\n",
      " Time needed for MC Dropout-based Uncertainty Estimation   18.362648725509644\n"
     ]
    },
    {
     "name": "stderr",
     "output_type": "stream",
     "text": [
      "\n",
      " 12%|█▎        | 5/40 [01:39<11:36, 19.90s/it]\u001b[A"
     ]
    },
    {
     "name": "stdout",
     "output_type": "stream",
     "text": [
      "\n",
      " Time needed for MC Dropout-based Uncertainty Estimation   19.85580325126648\n"
     ]
    },
    {
     "name": "stderr",
     "output_type": "stream",
     "text": [
      "\n",
      " 15%|█▌        | 6/40 [01:59<11:16, 19.90s/it]\u001b[A"
     ]
    },
    {
     "name": "stdout",
     "output_type": "stream",
     "text": [
      "\n",
      " Time needed for MC Dropout-based Uncertainty Estimation   19.88366389274597\n"
     ]
    },
    {
     "name": "stderr",
     "output_type": "stream",
     "text": [
      "\n",
      " 18%|█▊        | 7/40 [02:17<10:43, 19.49s/it]\u001b[A"
     ]
    },
    {
     "name": "stdout",
     "output_type": "stream",
     "text": [
      "\n",
      " Time needed for MC Dropout-based Uncertainty Estimation   18.47486662864685\n"
     ]
    },
    {
     "name": "stderr",
     "output_type": "stream",
     "text": [
      "\n",
      " 20%|██        | 8/40 [02:37<10:28, 19.63s/it]\u001b[A"
     ]
    },
    {
     "name": "stdout",
     "output_type": "stream",
     "text": [
      "\n",
      " Time needed for MC Dropout-based Uncertainty Estimation   19.940640926361084\n"
     ]
    },
    {
     "name": "stderr",
     "output_type": "stream",
     "text": [
      "\n",
      " 22%|██▎       | 9/40 [02:57<10:13, 19.79s/it]\u001b[A"
     ]
    },
    {
     "name": "stdout",
     "output_type": "stream",
     "text": [
      "\n",
      " Time needed for MC Dropout-based Uncertainty Estimation   20.132906913757324\n"
     ]
    },
    {
     "name": "stderr",
     "output_type": "stream",
     "text": [
      "\n",
      " 25%|██▌       | 10/40 [03:16<09:43, 19.44s/it]\u001b[A"
     ]
    },
    {
     "name": "stdout",
     "output_type": "stream",
     "text": [
      "\n",
      " Time needed for MC Dropout-based Uncertainty Estimation   18.561439990997314\n"
     ]
    },
    {
     "name": "stderr",
     "output_type": "stream",
     "text": [
      "\n",
      " 28%|██▊       | 11/40 [03:36<09:28, 19.60s/it]\u001b[A"
     ]
    },
    {
     "name": "stdout",
     "output_type": "stream",
     "text": [
      "\n",
      " Time needed for MC Dropout-based Uncertainty Estimation   19.94610333442688\n"
     ]
    },
    {
     "name": "stderr",
     "output_type": "stream",
     "text": [
      "\n",
      " 30%|███       | 12/40 [03:56<09:12, 19.75s/it]\u001b[A"
     ]
    },
    {
     "name": "stdout",
     "output_type": "stream",
     "text": [
      "\n",
      " Time needed for MC Dropout-based Uncertainty Estimation   20.050073385238647\n"
     ]
    },
    {
     "name": "stderr",
     "output_type": "stream",
     "text": [
      "\n",
      " 32%|███▎      | 13/40 [04:15<08:43, 19.38s/it]\u001b[A"
     ]
    },
    {
     "name": "stdout",
     "output_type": "stream",
     "text": [
      "\n",
      " Time needed for MC Dropout-based Uncertainty Estimation   18.47708797454834\n"
     ]
    },
    {
     "name": "stderr",
     "output_type": "stream",
     "text": [
      "\n",
      " 35%|███▌      | 14/40 [04:35<08:29, 19.59s/it]\u001b[A"
     ]
    },
    {
     "name": "stdout",
     "output_type": "stream",
     "text": [
      "\n",
      " Time needed for MC Dropout-based Uncertainty Estimation   20.038020372390747\n"
     ]
    },
    {
     "name": "stderr",
     "output_type": "stream",
     "text": [
      "\n",
      " 38%|███▊      | 15/40 [04:55<08:13, 19.75s/it]\u001b[A"
     ]
    },
    {
     "name": "stdout",
     "output_type": "stream",
     "text": [
      "\n",
      " Time needed for MC Dropout-based Uncertainty Estimation   20.09052014350891\n"
     ]
    },
    {
     "name": "stderr",
     "output_type": "stream",
     "text": [
      "\n",
      " 40%|████      | 16/40 [05:13<07:45, 19.39s/it]\u001b[A"
     ]
    },
    {
     "name": "stdout",
     "output_type": "stream",
     "text": [
      "\n",
      " Time needed for MC Dropout-based Uncertainty Estimation   18.530096769332886\n"
     ]
    },
    {
     "name": "stderr",
     "output_type": "stream",
     "text": [
      "\n",
      " 42%|████▎     | 17/40 [05:33<07:29, 19.54s/it]\u001b[A"
     ]
    },
    {
     "name": "stdout",
     "output_type": "stream",
     "text": [
      "\n",
      " Time needed for MC Dropout-based Uncertainty Estimation   19.83799386024475\n"
     ]
    },
    {
     "name": "stderr",
     "output_type": "stream",
     "text": [
      "\n",
      " 45%|████▌     | 18/40 [05:53<07:12, 19.64s/it]\u001b[A"
     ]
    },
    {
     "name": "stdout",
     "output_type": "stream",
     "text": [
      "\n",
      " Time needed for MC Dropout-based Uncertainty Estimation   19.848262786865234\n"
     ]
    },
    {
     "name": "stderr",
     "output_type": "stream",
     "text": [
      "\n",
      " 48%|████▊     | 19/40 [06:12<06:45, 19.31s/it]\u001b[A"
     ]
    },
    {
     "name": "stdout",
     "output_type": "stream",
     "text": [
      "\n",
      " Time needed for MC Dropout-based Uncertainty Estimation   18.48526883125305\n"
     ]
    },
    {
     "name": "stderr",
     "output_type": "stream",
     "text": [
      "\n",
      " 50%|█████     | 20/40 [06:32<06:29, 19.49s/it]\u001b[A"
     ]
    },
    {
     "name": "stdout",
     "output_type": "stream",
     "text": [
      "\n",
      " Time needed for MC Dropout-based Uncertainty Estimation   19.894840240478516\n"
     ]
    },
    {
     "name": "stderr",
     "output_type": "stream",
     "text": [
      "\n",
      " 52%|█████▎    | 21/40 [06:52<06:13, 19.65s/it]\u001b[A"
     ]
    },
    {
     "name": "stdout",
     "output_type": "stream",
     "text": [
      "\n",
      " Time needed for MC Dropout-based Uncertainty Estimation   19.98487162590027\n"
     ]
    },
    {
     "name": "stderr",
     "output_type": "stream",
     "text": [
      "\n",
      " 55%|█████▌    | 22/40 [07:10<05:46, 19.26s/it]\u001b[A"
     ]
    },
    {
     "name": "stdout",
     "output_type": "stream",
     "text": [
      "\n",
      " Time needed for MC Dropout-based Uncertainty Estimation   18.32706093788147\n"
     ]
    },
    {
     "name": "stderr",
     "output_type": "stream",
     "text": [
      "\n",
      " 57%|█████▊    | 23/40 [07:30<05:29, 19.39s/it]\u001b[A"
     ]
    },
    {
     "name": "stdout",
     "output_type": "stream",
     "text": [
      "\n",
      " Time needed for MC Dropout-based Uncertainty Estimation   19.66253161430359\n"
     ]
    },
    {
     "name": "stderr",
     "output_type": "stream",
     "text": [
      "\n",
      " 60%|██████    | 24/40 [07:50<05:12, 19.54s/it]\u001b[A"
     ]
    },
    {
     "name": "stdout",
     "output_type": "stream",
     "text": [
      "\n",
      " Time needed for MC Dropout-based Uncertainty Estimation   19.83185887336731\n"
     ]
    },
    {
     "name": "stderr",
     "output_type": "stream",
     "text": [
      "\n",
      " 62%|██████▎   | 25/40 [08:08<04:47, 19.19s/it]\u001b[A"
     ]
    },
    {
     "name": "stdout",
     "output_type": "stream",
     "text": [
      "\n",
      " Time needed for MC Dropout-based Uncertainty Estimation   18.334253549575806\n"
     ]
    },
    {
     "name": "stderr",
     "output_type": "stream",
     "text": [
      "\n",
      " 65%|██████▌   | 26/40 [08:28<04:31, 19.40s/it]\u001b[A"
     ]
    },
    {
     "name": "stdout",
     "output_type": "stream",
     "text": [
      "\n",
      " Time needed for MC Dropout-based Uncertainty Estimation   19.85887861251831\n"
     ]
    },
    {
     "name": "stderr",
     "output_type": "stream",
     "text": [
      "\n",
      " 68%|██████▊   | 27/40 [08:48<04:14, 19.55s/it]\u001b[A"
     ]
    },
    {
     "name": "stdout",
     "output_type": "stream",
     "text": [
      "\n",
      " Time needed for MC Dropout-based Uncertainty Estimation   19.880204916000366\n"
     ]
    },
    {
     "name": "stderr",
     "output_type": "stream",
     "text": [
      "\n",
      " 70%|███████   | 28/40 [09:06<03:50, 19.25s/it]\u001b[A"
     ]
    },
    {
     "name": "stdout",
     "output_type": "stream",
     "text": [
      "\n",
      " Time needed for MC Dropout-based Uncertainty Estimation   18.489251613616943\n"
     ]
    },
    {
     "name": "stderr",
     "output_type": "stream",
     "text": [
      "\n",
      " 72%|███████▎  | 29/40 [09:26<03:34, 19.51s/it]\u001b[A"
     ]
    },
    {
     "name": "stdout",
     "output_type": "stream",
     "text": [
      "\n",
      " Time needed for MC Dropout-based Uncertainty Estimation   20.087653398513794\n"
     ]
    },
    {
     "name": "stderr",
     "output_type": "stream",
     "text": [
      "\n",
      " 75%|███████▌  | 30/40 [09:47<03:17, 19.71s/it]\u001b[A"
     ]
    },
    {
     "name": "stdout",
     "output_type": "stream",
     "text": [
      "\n",
      " Time needed for MC Dropout-based Uncertainty Estimation   20.140721559524536\n"
     ]
    },
    {
     "name": "stderr",
     "output_type": "stream",
     "text": [
      "\n",
      " 78%|███████▊  | 31/40 [10:05<02:53, 19.33s/it]\u001b[A"
     ]
    },
    {
     "name": "stdout",
     "output_type": "stream",
     "text": [
      "\n",
      " Time needed for MC Dropout-based Uncertainty Estimation   18.419797658920288\n"
     ]
    },
    {
     "name": "stderr",
     "output_type": "stream",
     "text": [
      "\n",
      " 80%|████████  | 32/40 [10:25<02:35, 19.49s/it]\u001b[A"
     ]
    },
    {
     "name": "stdout",
     "output_type": "stream",
     "text": [
      "\n",
      " Time needed for MC Dropout-based Uncertainty Estimation   19.82380700111389\n"
     ]
    },
    {
     "name": "stderr",
     "output_type": "stream",
     "text": [
      "\n",
      " 82%|████████▎ | 33/40 [10:45<02:17, 19.64s/it]\u001b[A"
     ]
    },
    {
     "name": "stdout",
     "output_type": "stream",
     "text": [
      "\n",
      " Time needed for MC Dropout-based Uncertainty Estimation   19.945178985595703\n"
     ]
    },
    {
     "name": "stderr",
     "output_type": "stream",
     "text": [
      "\n",
      " 85%|████████▌ | 34/40 [11:03<01:55, 19.29s/it]\u001b[A"
     ]
    },
    {
     "name": "stdout",
     "output_type": "stream",
     "text": [
      "\n",
      " Time needed for MC Dropout-based Uncertainty Estimation   18.437182664871216\n"
     ]
    },
    {
     "name": "stderr",
     "output_type": "stream",
     "text": [
      "\n",
      " 88%|████████▊ | 35/40 [11:23<01:37, 19.47s/it]\u001b[A"
     ]
    },
    {
     "name": "stdout",
     "output_type": "stream",
     "text": [
      "\n",
      " Time needed for MC Dropout-based Uncertainty Estimation   19.871189832687378\n"
     ]
    },
    {
     "name": "stderr",
     "output_type": "stream",
     "text": [
      "\n",
      " 90%|█████████ | 36/40 [11:43<01:18, 19.66s/it]\u001b[A"
     ]
    },
    {
     "name": "stdout",
     "output_type": "stream",
     "text": [
      "\n",
      " Time needed for MC Dropout-based Uncertainty Estimation   20.071735858917236\n"
     ]
    },
    {
     "name": "stderr",
     "output_type": "stream",
     "text": [
      "\n",
      " 92%|█████████▎| 37/40 [12:02<00:57, 19.30s/it]\u001b[A"
     ]
    },
    {
     "name": "stdout",
     "output_type": "stream",
     "text": [
      "\n",
      " Time needed for MC Dropout-based Uncertainty Estimation   18.415964603424072\n"
     ]
    },
    {
     "name": "stderr",
     "output_type": "stream",
     "text": [
      "\n",
      " 95%|█████████▌| 38/40 [12:22<00:38, 19.47s/it]\u001b[A"
     ]
    },
    {
     "name": "stdout",
     "output_type": "stream",
     "text": [
      "\n",
      " Time needed for MC Dropout-based Uncertainty Estimation   19.83767008781433\n"
     ]
    },
    {
     "name": "stderr",
     "output_type": "stream",
     "text": [
      "\n",
      " 98%|█████████▊| 39/40 [12:41<00:19, 19.57s/it]\u001b[A"
     ]
    },
    {
     "name": "stdout",
     "output_type": "stream",
     "text": [
      "\n",
      " Time needed for MC Dropout-based Uncertainty Estimation   19.763012886047363\n"
     ]
    },
    {
     "name": "stderr",
     "output_type": "stream",
     "text": [
      "\n",
      "100%|██████████| 40/40 [13:00<00:00, 19.23s/it]\u001b[A\n",
      "  0%|          | 0/10 [00:00<?, ?it/s]\u001b[A"
     ]
    },
    {
     "name": "stdout",
     "output_type": "stream",
     "text": [
      "\n",
      " Time needed for MC Dropout-based Uncertainty Estimation   18.394813776016235\n"
     ]
    },
    {
     "name": "stderr",
     "output_type": "stream",
     "text": [
      "\n",
      " 10%|█         | 1/10 [00:05<00:48,  5.40s/it]\u001b[A"
     ]
    },
    {
     "name": "stdout",
     "output_type": "stream",
     "text": [
      "\n",
      " Time needed for MC Dropout-based Uncertainty Estimation   5.399619817733765\n"
     ]
    },
    {
     "name": "stderr",
     "output_type": "stream",
     "text": [
      "\n",
      " 20%|██        | 2/10 [00:10<00:43,  5.38s/it]\u001b[A"
     ]
    },
    {
     "name": "stdout",
     "output_type": "stream",
     "text": [
      "\n",
      " Time needed for MC Dropout-based Uncertainty Estimation   5.309778928756714\n"
     ]
    },
    {
     "name": "stderr",
     "output_type": "stream",
     "text": [
      "\n",
      " 30%|███       | 3/10 [00:16<00:37,  5.36s/it]\u001b[A"
     ]
    },
    {
     "name": "stdout",
     "output_type": "stream",
     "text": [
      "\n",
      " Time needed for MC Dropout-based Uncertainty Estimation   5.32114052772522\n"
     ]
    },
    {
     "name": "stderr",
     "output_type": "stream",
     "text": [
      "\n",
      " 40%|████      | 4/10 [00:21<00:32,  5.36s/it]\u001b[A"
     ]
    },
    {
     "name": "stdout",
     "output_type": "stream",
     "text": [
      "\n",
      " Time needed for MC Dropout-based Uncertainty Estimation   5.327467441558838\n"
     ]
    },
    {
     "name": "stderr",
     "output_type": "stream",
     "text": [
      "\n",
      " 50%|█████     | 5/10 [00:26<00:26,  5.37s/it]\u001b[A"
     ]
    },
    {
     "name": "stdout",
     "output_type": "stream",
     "text": [
      "\n",
      " Time needed for MC Dropout-based Uncertainty Estimation   5.394153356552124\n"
     ]
    },
    {
     "name": "stderr",
     "output_type": "stream",
     "text": [
      "\n",
      " 60%|██████    | 6/10 [00:32<00:21,  5.38s/it]\u001b[A"
     ]
    },
    {
     "name": "stdout",
     "output_type": "stream",
     "text": [
      "\n",
      " Time needed for MC Dropout-based Uncertainty Estimation   5.397158622741699\n"
     ]
    },
    {
     "name": "stderr",
     "output_type": "stream",
     "text": [
      "\n",
      " 70%|███████   | 7/10 [00:37<00:16,  5.38s/it]\u001b[A"
     ]
    },
    {
     "name": "stdout",
     "output_type": "stream",
     "text": [
      "\n",
      " Time needed for MC Dropout-based Uncertainty Estimation   5.36931300163269\n"
     ]
    },
    {
     "name": "stderr",
     "output_type": "stream",
     "text": [
      "\n",
      " 80%|████████  | 8/10 [00:42<00:10,  5.39s/it]\u001b[A"
     ]
    },
    {
     "name": "stdout",
     "output_type": "stream",
     "text": [
      "\n",
      " Time needed for MC Dropout-based Uncertainty Estimation   5.3842082023620605\n"
     ]
    },
    {
     "name": "stderr",
     "output_type": "stream",
     "text": [
      "\n",
      " 90%|█████████ | 9/10 [00:48<00:05,  5.38s/it]\u001b[A"
     ]
    },
    {
     "name": "stdout",
     "output_type": "stream",
     "text": [
      "\n",
      " Time needed for MC Dropout-based Uncertainty Estimation   5.351744890213013\n"
     ]
    },
    {
     "name": "stderr",
     "output_type": "stream",
     "text": [
      "\n",
      "100%|██████████| 10/10 [00:53<00:00,  5.38s/it]\u001b[A"
     ]
    },
    {
     "name": "stdout",
     "output_type": "stream",
     "text": [
      "\n",
      " Time needed for MC Dropout-based Uncertainty Estimation   5.370445728302002\n",
      "Model: \"model_2\"\n",
      "_________________________________________________________________\n",
      "Layer (type)                 Output Shape              Param #   \n",
      "=================================================================\n",
      "input (InputLayer)           (None, 400, 400, 30)      0         \n",
      "_________________________________________________________________\n",
      "conv2d_11 (Conv2D)           (None, 400, 400, 32)      8672      \n",
      "_________________________________________________________________\n",
      "batch_normalization_19 (Batc (None, 400, 400, 32)      128       \n",
      "_________________________________________________________________\n",
      "activation_19 (Activation)   (None, 400, 400, 32)      0         \n",
      "_________________________________________________________________\n",
      "conv2d_12 (Conv2D)           (None, 400, 400, 32)      9248      \n",
      "_________________________________________________________________\n",
      "batch_normalization_20 (Batc (None, 400, 400, 32)      128       \n",
      "_________________________________________________________________\n",
      "activation_20 (Activation)   (None, 400, 400, 32)      0         \n",
      "_________________________________________________________________\n",
      "max_pooling2d_5 (MaxPooling2 (None, 200, 200, 32)      0         \n",
      "_________________________________________________________________\n",
      "conv2d_13 (Conv2D)           (None, 200, 200, 64)      18496     \n",
      "_________________________________________________________________\n",
      "batch_normalization_21 (Batc (None, 200, 200, 64)      256       \n",
      "_________________________________________________________________\n",
      "activation_21 (Activation)   (None, 200, 200, 64)      0         \n",
      "_________________________________________________________________\n",
      "conv2d_14 (Conv2D)           (None, 200, 200, 64)      36928     \n",
      "_________________________________________________________________\n",
      "batch_normalization_22 (Batc (None, 200, 200, 64)      256       \n",
      "_________________________________________________________________\n",
      "activation_22 (Activation)   (None, 200, 200, 64)      0         \n",
      "_________________________________________________________________\n",
      "max_pooling2d_6 (MaxPooling2 (None, 100, 100, 64)      0         \n",
      "_________________________________________________________________\n",
      "conv2d_15 (Conv2D)           (None, 100, 100, 128)     73856     \n",
      "_________________________________________________________________\n",
      "batch_normalization_23 (Batc (None, 100, 100, 128)     512       \n",
      "_________________________________________________________________\n",
      "activation_23 (Activation)   (None, 100, 100, 128)     0         \n",
      "_________________________________________________________________\n",
      "conv2d_16 (Conv2D)           (None, 100, 100, 128)     147584    \n",
      "_________________________________________________________________\n",
      "batch_normalization_24 (Batc (None, 100, 100, 128)     512       \n",
      "_________________________________________________________________\n",
      "activation_24 (Activation)   (None, 100, 100, 128)     0         \n",
      "_________________________________________________________________\n",
      "max_pooling2d_7 (MaxPooling2 (None, 50, 50, 128)       0         \n",
      "_________________________________________________________________\n",
      "conv2d_17 (Conv2D)           (None, 50, 50, 256)       295168    \n",
      "_________________________________________________________________\n",
      "batch_normalization_25 (Batc (None, 50, 50, 256)       1024      \n",
      "_________________________________________________________________\n",
      "activation_25 (Activation)   (None, 50, 50, 256)       0         \n",
      "_________________________________________________________________\n",
      "conv2d_18 (Conv2D)           (None, 50, 50, 256)       590080    \n",
      "_________________________________________________________________\n",
      "batch_normalization_26 (Batc (None, 50, 50, 256)       1024      \n",
      "_________________________________________________________________\n",
      "activation_26 (Activation)   (None, 50, 50, 256)       0         \n",
      "_________________________________________________________________\n",
      "global_average_pooling2d_1 ( (None, 256)               0         \n",
      "_________________________________________________________________\n",
      "dense_2 (Dense)              (None, 1)                 257       \n",
      "_________________________________________________________________\n",
      "output (Activation)          (None, 1)                 0         \n",
      "=================================================================\n",
      "Total params: 1,184,129\n",
      "Trainable params: 1,182,209\n",
      "Non-trainable params: 1,920\n",
      "_________________________________________________________________\n",
      "(40, 1)\n",
      "Train on 40 samples, validate on 10 samples\n",
      "Epoch 1/60\n",
      " - 3s - loss: 0.0541 - val_loss: 0.0401\n",
      "\n",
      "Epoch 00001: val_loss improved from inf to 0.04008, saving model to ./trained_models/unet_div8_495K_40_DiceNet.hdf5\n",
      "Epoch 2/60\n",
      " - 2s - loss: 0.0646 - val_loss: 0.0401\n",
      "\n",
      "Epoch 00002: val_loss improved from 0.04008 to 0.04006, saving model to ./trained_models/unet_div8_495K_40_DiceNet.hdf5\n",
      "Epoch 3/60\n",
      " - 2s - loss: 0.0437 - val_loss: 0.0406\n",
      "\n",
      "Epoch 00003: val_loss did not improve from 0.04006\n",
      "Epoch 4/60\n",
      " - 2s - loss: 0.0361 - val_loss: 0.0427\n",
      "\n",
      "Epoch 00004: val_loss did not improve from 0.04006\n",
      "Epoch 5/60\n",
      " - 2s - loss: 0.0360 - val_loss: 0.0467\n",
      "\n",
      "Epoch 00005: val_loss did not improve from 0.04006\n",
      "Epoch 6/60\n",
      " - 2s - loss: 0.0423 - val_loss: 0.0548\n",
      "\n",
      "Epoch 00006: val_loss did not improve from 0.04006\n",
      "Epoch 7/60\n",
      " - 2s - loss: 0.0324 - val_loss: 0.0667\n",
      "\n",
      "Epoch 00007: val_loss did not improve from 0.04006\n",
      "Epoch 8/60\n",
      " - 2s - loss: 0.0304 - val_loss: 0.0829\n",
      "\n",
      "Epoch 00008: val_loss did not improve from 0.04006\n",
      "Epoch 9/60\n",
      " - 2s - loss: 0.0373 - val_loss: 0.0974\n",
      "\n",
      "Epoch 00009: val_loss did not improve from 0.04006\n",
      "Epoch 10/60\n",
      " - 2s - loss: 0.0298 - val_loss: 0.0998\n",
      "\n",
      "Epoch 00010: val_loss did not improve from 0.04006\n",
      "Epoch 11/60\n",
      " - 2s - loss: 0.0248 - val_loss: 0.0980\n",
      "\n",
      "Epoch 00011: val_loss did not improve from 0.04006\n",
      "Epoch 12/60\n",
      " - 2s - loss: 0.0276 - val_loss: 0.0995\n",
      "\n",
      "Epoch 00012: val_loss did not improve from 0.04006\n",
      "Epoch 13/60\n",
      " - 2s - loss: 0.0277 - val_loss: 0.1177\n",
      "\n",
      "Epoch 00013: val_loss did not improve from 0.04006\n",
      "Epoch 14/60\n",
      " - 2s - loss: 0.0244 - val_loss: 0.1250\n",
      "\n",
      "Epoch 00014: val_loss did not improve from 0.04006\n",
      "False\n",
      "False\n",
      "START EVALUATION......:\n",
      "(10, 400, 400, 28)\n",
      "Loading model: ./trained_models/unet_div8_495K_40.hdf5\n"
     ]
    },
    {
     "name": "stderr",
     "output_type": "stream",
     "text": [
      "\n",
      "  0%|          | 0/10 [00:00<?, ?it/s]\u001b[A\n",
      " 10%|█         | 1/10 [00:02<00:22,  2.51s/it]\u001b[A"
     ]
    },
    {
     "name": "stdout",
     "output_type": "stream",
     "text": [
      "\n",
      " Time needed for MC Dropout-based Uncertainty Estimation   2.5084388256073\n"
     ]
    },
    {
     "name": "stderr",
     "output_type": "stream",
     "text": [
      "\n",
      " 20%|██        | 2/10 [00:03<00:17,  2.15s/it]\u001b[A"
     ]
    },
    {
     "name": "stdout",
     "output_type": "stream",
     "text": [
      "\n",
      " Time needed for MC Dropout-based Uncertainty Estimation   1.298093557357788\n"
     ]
    },
    {
     "name": "stderr",
     "output_type": "stream",
     "text": [
      "\n",
      " 30%|███       | 3/10 [00:05<00:13,  1.93s/it]\u001b[A"
     ]
    },
    {
     "name": "stdout",
     "output_type": "stream",
     "text": [
      "\n",
      " Time needed for MC Dropout-based Uncertainty Estimation   1.3976852893829346\n"
     ]
    },
    {
     "name": "stderr",
     "output_type": "stream",
     "text": [
      "\n",
      " 40%|████      | 4/10 [00:06<00:10,  1.75s/it]\u001b[A"
     ]
    },
    {
     "name": "stdout",
     "output_type": "stream",
     "text": [
      "\n",
      " Time needed for MC Dropout-based Uncertainty Estimation   1.3239171504974365\n"
     ]
    },
    {
     "name": "stderr",
     "output_type": "stream",
     "text": [
      "\n",
      " 50%|█████     | 5/10 [00:07<00:08,  1.65s/it]\u001b[A"
     ]
    },
    {
     "name": "stdout",
     "output_type": "stream",
     "text": [
      "\n",
      " Time needed for MC Dropout-based Uncertainty Estimation   1.4129798412322998\n"
     ]
    },
    {
     "name": "stderr",
     "output_type": "stream",
     "text": [
      "\n",
      " 60%|██████    | 6/10 [00:09<00:06,  1.55s/it]\u001b[A"
     ]
    },
    {
     "name": "stdout",
     "output_type": "stream",
     "text": [
      "\n",
      " Time needed for MC Dropout-based Uncertainty Estimation   1.3132665157318115\n"
     ]
    },
    {
     "name": "stderr",
     "output_type": "stream",
     "text": [
      "\n",
      " 70%|███████   | 7/10 [00:10<00:04,  1.51s/it]\u001b[A"
     ]
    },
    {
     "name": "stdout",
     "output_type": "stream",
     "text": [
      "\n",
      " Time needed for MC Dropout-based Uncertainty Estimation   1.4138383865356445\n"
     ]
    },
    {
     "name": "stderr",
     "output_type": "stream",
     "text": [
      "\n",
      " 80%|████████  | 8/10 [00:12<00:02,  1.46s/it]\u001b[A"
     ]
    },
    {
     "name": "stdout",
     "output_type": "stream",
     "text": [
      "\n",
      " Time needed for MC Dropout-based Uncertainty Estimation   1.3138301372528076\n"
     ]
    },
    {
     "name": "stderr",
     "output_type": "stream",
     "text": [
      "\n",
      " 90%|█████████ | 9/10 [00:13<00:01,  1.45s/it]\u001b[A"
     ]
    },
    {
     "name": "stdout",
     "output_type": "stream",
     "text": [
      "\n",
      " Time needed for MC Dropout-based Uncertainty Estimation   1.4212489128112793\n"
     ]
    },
    {
     "name": "stderr",
     "output_type": "stream",
     "text": [
      "\n",
      "100%|██████████| 10/10 [00:14<00:00,  1.41s/it]\u001b[A"
     ]
    },
    {
     "name": "stdout",
     "output_type": "stream",
     "text": [
      "\n",
      " Time needed for MC Dropout-based Uncertainty Estimation   1.3125364780426025\n",
      "Loading model: ./trained_models/unet_div8_495K_40_DiceNet.hdf5\n",
      "START EVALUATION......:\n",
      "(40, 400, 400, 28)\n",
      "Loading model: ./trained_models/unet_div8_495K_40.hdf5\n"
     ]
    },
    {
     "name": "stderr",
     "output_type": "stream",
     "text": [
      "\n",
      "  0%|          | 0/40 [00:00<?, ?it/s]\u001b[A\n",
      "  2%|▎         | 1/40 [00:07<04:54,  7.54s/it]\u001b[A"
     ]
    },
    {
     "name": "stdout",
     "output_type": "stream",
     "text": [
      "\n",
      " Time needed for MC Dropout-based Uncertainty Estimation   7.522383213043213\n"
     ]
    },
    {
     "name": "stderr",
     "output_type": "stream",
     "text": [
      "\n",
      "  5%|▌         | 2/40 [00:13<04:27,  7.03s/it]\u001b[A"
     ]
    },
    {
     "name": "stdout",
     "output_type": "stream",
     "text": [
      "\n",
      " Time needed for MC Dropout-based Uncertainty Estimation   5.835301160812378\n"
     ]
    },
    {
     "name": "stderr",
     "output_type": "stream",
     "text": [
      "\n",
      "  8%|▊         | 3/40 [00:18<04:01,  6.53s/it]\u001b[A"
     ]
    },
    {
     "name": "stdout",
     "output_type": "stream",
     "text": [
      "\n",
      " Time needed for MC Dropout-based Uncertainty Estimation   5.3458051681518555\n"
     ]
    },
    {
     "name": "stderr",
     "output_type": "stream",
     "text": [
      "\n",
      " 10%|█         | 4/40 [00:24<03:46,  6.30s/it]\u001b[A"
     ]
    },
    {
     "name": "stdout",
     "output_type": "stream",
     "text": [
      "\n",
      " Time needed for MC Dropout-based Uncertainty Estimation   5.717336654663086\n"
     ]
    },
    {
     "name": "stderr",
     "output_type": "stream",
     "text": [
      "\n",
      " 12%|█▎        | 5/40 [00:30<03:35,  6.16s/it]\u001b[A"
     ]
    },
    {
     "name": "stdout",
     "output_type": "stream",
     "text": [
      "\n",
      " Time needed for MC Dropout-based Uncertainty Estimation   5.823721885681152\n"
     ]
    },
    {
     "name": "stderr",
     "output_type": "stream",
     "text": [
      "\n",
      " 15%|█▌        | 6/40 [00:35<03:21,  5.93s/it]\u001b[A"
     ]
    },
    {
     "name": "stdout",
     "output_type": "stream",
     "text": [
      "\n",
      " Time needed for MC Dropout-based Uncertainty Estimation   5.354518890380859\n"
     ]
    },
    {
     "name": "stderr",
     "output_type": "stream",
     "text": [
      "\n",
      " 18%|█▊        | 7/40 [00:41<03:13,  5.87s/it]\u001b[A"
     ]
    },
    {
     "name": "stdout",
     "output_type": "stream",
     "text": [
      "\n",
      " Time needed for MC Dropout-based Uncertainty Estimation   5.720823764801025\n"
     ]
    },
    {
     "name": "stderr",
     "output_type": "stream",
     "text": [
      "\n",
      " 20%|██        | 8/40 [00:47<03:07,  5.87s/it]\u001b[A"
     ]
    },
    {
     "name": "stdout",
     "output_type": "stream",
     "text": [
      "\n",
      " Time needed for MC Dropout-based Uncertainty Estimation   5.836719036102295\n"
     ]
    },
    {
     "name": "stderr",
     "output_type": "stream",
     "text": [
      "\n",
      " 22%|██▎       | 9/40 [00:52<02:56,  5.70s/it]\u001b[A"
     ]
    },
    {
     "name": "stdout",
     "output_type": "stream",
     "text": [
      "\n",
      " Time needed for MC Dropout-based Uncertainty Estimation   5.302502393722534\n"
     ]
    },
    {
     "name": "stderr",
     "output_type": "stream",
     "text": [
      "\n",
      " 25%|██▌       | 10/40 [00:58<02:51,  5.71s/it]\u001b[A"
     ]
    },
    {
     "name": "stdout",
     "output_type": "stream",
     "text": [
      "\n",
      " Time needed for MC Dropout-based Uncertainty Estimation   5.714816570281982\n"
     ]
    },
    {
     "name": "stderr",
     "output_type": "stream",
     "text": [
      "\n",
      " 28%|██▊       | 11/40 [01:04<02:46,  5.75s/it]\u001b[A"
     ]
    },
    {
     "name": "stdout",
     "output_type": "stream",
     "text": [
      "\n",
      " Time needed for MC Dropout-based Uncertainty Estimation   5.821684122085571\n"
     ]
    },
    {
     "name": "stderr",
     "output_type": "stream",
     "text": [
      "\n",
      " 30%|███       | 12/40 [01:09<02:37,  5.63s/it]\u001b[A"
     ]
    },
    {
     "name": "stdout",
     "output_type": "stream",
     "text": [
      "\n",
      " Time needed for MC Dropout-based Uncertainty Estimation   5.304646730422974\n"
     ]
    },
    {
     "name": "stderr",
     "output_type": "stream",
     "text": [
      "\n",
      " 32%|███▎      | 13/40 [01:15<02:32,  5.65s/it]\u001b[A"
     ]
    },
    {
     "name": "stdout",
     "output_type": "stream",
     "text": [
      "\n",
      " Time needed for MC Dropout-based Uncertainty Estimation   5.697748422622681\n"
     ]
    },
    {
     "name": "stderr",
     "output_type": "stream",
     "text": [
      "\n",
      " 35%|███▌      | 14/40 [01:21<02:28,  5.71s/it]\u001b[A"
     ]
    },
    {
     "name": "stdout",
     "output_type": "stream",
     "text": [
      "\n",
      " Time needed for MC Dropout-based Uncertainty Estimation   5.830268144607544\n"
     ]
    },
    {
     "name": "stderr",
     "output_type": "stream",
     "text": [
      "\n",
      " 38%|███▊      | 15/40 [01:26<02:19,  5.59s/it]\u001b[A"
     ]
    },
    {
     "name": "stdout",
     "output_type": "stream",
     "text": [
      "\n",
      " Time needed for MC Dropout-based Uncertainty Estimation   5.280260324478149\n"
     ]
    },
    {
     "name": "stderr",
     "output_type": "stream",
     "text": [
      "\n",
      " 40%|████      | 16/40 [01:32<02:14,  5.62s/it]\u001b[A"
     ]
    },
    {
     "name": "stdout",
     "output_type": "stream",
     "text": [
      "\n",
      " Time needed for MC Dropout-based Uncertainty Estimation   5.654604911804199\n"
     ]
    },
    {
     "name": "stderr",
     "output_type": "stream",
     "text": [
      "\n",
      " 42%|████▎     | 17/40 [01:37<02:10,  5.68s/it]\u001b[A"
     ]
    },
    {
     "name": "stdout",
     "output_type": "stream",
     "text": [
      "\n",
      " Time needed for MC Dropout-based Uncertainty Estimation   5.793230772018433\n"
     ]
    },
    {
     "name": "stderr",
     "output_type": "stream",
     "text": [
      "\n",
      " 45%|████▌     | 18/40 [01:43<02:02,  5.59s/it]\u001b[A"
     ]
    },
    {
     "name": "stdout",
     "output_type": "stream",
     "text": [
      "\n",
      " Time needed for MC Dropout-based Uncertainty Estimation   5.361228704452515\n"
     ]
    },
    {
     "name": "stderr",
     "output_type": "stream",
     "text": [
      "\n",
      " 48%|████▊     | 19/40 [01:48<01:57,  5.60s/it]\u001b[A"
     ]
    },
    {
     "name": "stdout",
     "output_type": "stream",
     "text": [
      "\n",
      " Time needed for MC Dropout-based Uncertainty Estimation   5.616628408432007\n"
     ]
    },
    {
     "name": "stderr",
     "output_type": "stream",
     "text": [
      "\n",
      " 50%|█████     | 20/40 [01:54<01:53,  5.68s/it]\u001b[A"
     ]
    },
    {
     "name": "stdout",
     "output_type": "stream",
     "text": [
      "\n",
      " Time needed for MC Dropout-based Uncertainty Estimation   5.820329666137695\n"
     ]
    },
    {
     "name": "stderr",
     "output_type": "stream",
     "text": [
      "\n",
      " 52%|█████▎    | 21/40 [02:00<01:45,  5.57s/it]\u001b[A"
     ]
    },
    {
     "name": "stdout",
     "output_type": "stream",
     "text": [
      "\n",
      " Time needed for MC Dropout-based Uncertainty Estimation   5.310645818710327\n"
     ]
    },
    {
     "name": "stderr",
     "output_type": "stream",
     "text": [
      "\n",
      " 55%|█████▌    | 22/40 [02:05<01:40,  5.61s/it]\u001b[A"
     ]
    },
    {
     "name": "stdout",
     "output_type": "stream",
     "text": [
      "\n",
      " Time needed for MC Dropout-based Uncertainty Estimation   5.675673961639404\n"
     ]
    },
    {
     "name": "stderr",
     "output_type": "stream",
     "text": [
      "\n",
      " 57%|█████▊    | 23/40 [02:11<01:36,  5.65s/it]\u001b[A"
     ]
    },
    {
     "name": "stdout",
     "output_type": "stream",
     "text": [
      "\n",
      " Time needed for MC Dropout-based Uncertainty Estimation   5.723559856414795\n"
     ]
    },
    {
     "name": "stderr",
     "output_type": "stream",
     "text": [
      "\n",
      " 60%|██████    | 24/40 [02:16<01:28,  5.54s/it]\u001b[A"
     ]
    },
    {
     "name": "stdout",
     "output_type": "stream",
     "text": [
      "\n",
      " Time needed for MC Dropout-based Uncertainty Estimation   5.248785734176636\n"
     ]
    },
    {
     "name": "stderr",
     "output_type": "stream",
     "text": [
      "\n",
      " 62%|██████▎   | 25/40 [02:22<01:23,  5.55s/it]\u001b[A"
     ]
    },
    {
     "name": "stdout",
     "output_type": "stream",
     "text": [
      "\n",
      " Time needed for MC Dropout-based Uncertainty Estimation   5.556551933288574\n"
     ]
    },
    {
     "name": "stderr",
     "output_type": "stream",
     "text": [
      "\n",
      " 65%|██████▌   | 26/40 [02:28<01:18,  5.62s/it]\u001b[A"
     ]
    },
    {
     "name": "stdout",
     "output_type": "stream",
     "text": [
      "\n",
      " Time needed for MC Dropout-based Uncertainty Estimation   5.748797178268433\n"
     ]
    },
    {
     "name": "stderr",
     "output_type": "stream",
     "text": [
      "\n",
      " 68%|██████▊   | 27/40 [02:33<01:11,  5.52s/it]\u001b[A"
     ]
    },
    {
     "name": "stdout",
     "output_type": "stream",
     "text": [
      "\n",
      " Time needed for MC Dropout-based Uncertainty Estimation   5.259553909301758\n"
     ]
    },
    {
     "name": "stderr",
     "output_type": "stream",
     "text": [
      "\n",
      " 70%|███████   | 28/40 [02:39<01:06,  5.55s/it]\u001b[A"
     ]
    },
    {
     "name": "stdout",
     "output_type": "stream",
     "text": [
      "\n",
      " Time needed for MC Dropout-based Uncertainty Estimation   5.6149702072143555\n"
     ]
    },
    {
     "name": "stderr",
     "output_type": "stream",
     "text": [
      "\n",
      " 72%|███████▎  | 29/40 [02:44<01:01,  5.62s/it]\u001b[A"
     ]
    },
    {
     "name": "stdout",
     "output_type": "stream",
     "text": [
      "\n",
      " Time needed for MC Dropout-based Uncertainty Estimation   5.766114234924316\n"
     ]
    },
    {
     "name": "stderr",
     "output_type": "stream",
     "text": [
      "\n",
      " 75%|███████▌  | 30/40 [02:50<00:55,  5.53s/it]\u001b[A"
     ]
    },
    {
     "name": "stdout",
     "output_type": "stream",
     "text": [
      "\n",
      " Time needed for MC Dropout-based Uncertainty Estimation   5.2946248054504395\n"
     ]
    },
    {
     "name": "stderr",
     "output_type": "stream",
     "text": [
      "\n",
      " 78%|███████▊  | 31/40 [02:55<00:50,  5.57s/it]\u001b[A"
     ]
    },
    {
     "name": "stdout",
     "output_type": "stream",
     "text": [
      "\n",
      " Time needed for MC Dropout-based Uncertainty Estimation   5.645266532897949\n"
     ]
    },
    {
     "name": "stderr",
     "output_type": "stream",
     "text": [
      "\n",
      " 80%|████████  | 32/40 [03:01<00:45,  5.63s/it]\u001b[A"
     ]
    },
    {
     "name": "stdout",
     "output_type": "stream",
     "text": [
      "\n",
      " Time needed for MC Dropout-based Uncertainty Estimation   5.747479200363159\n"
     ]
    },
    {
     "name": "stderr",
     "output_type": "stream",
     "text": [
      "\n",
      " 82%|████████▎ | 33/40 [03:07<00:38,  5.54s/it]\u001b[A"
     ]
    },
    {
     "name": "stdout",
     "output_type": "stream",
     "text": [
      "\n",
      " Time needed for MC Dropout-based Uncertainty Estimation   5.317136526107788\n"
     ]
    },
    {
     "name": "stderr",
     "output_type": "stream",
     "text": [
      "\n",
      " 85%|████████▌ | 34/40 [03:12<00:33,  5.57s/it]\u001b[A"
     ]
    },
    {
     "name": "stdout",
     "output_type": "stream",
     "text": [
      "\n",
      " Time needed for MC Dropout-based Uncertainty Estimation   5.623970031738281\n"
     ]
    },
    {
     "name": "stderr",
     "output_type": "stream",
     "text": [
      "\n",
      " 88%|████████▊ | 35/40 [03:18<00:28,  5.63s/it]\u001b[A"
     ]
    },
    {
     "name": "stdout",
     "output_type": "stream",
     "text": [
      "\n",
      " Time needed for MC Dropout-based Uncertainty Estimation   5.7204835414886475\n"
     ]
    },
    {
     "name": "stderr",
     "output_type": "stream",
     "text": [
      "\n",
      " 90%|█████████ | 36/40 [03:23<00:22,  5.54s/it]\u001b[A"
     ]
    },
    {
     "name": "stdout",
     "output_type": "stream",
     "text": [
      "\n",
      " Time needed for MC Dropout-based Uncertainty Estimation   5.303570985794067\n"
     ]
    },
    {
     "name": "stderr",
     "output_type": "stream",
     "text": [
      "\n",
      " 92%|█████████▎| 37/40 [03:29<00:16,  5.59s/it]\u001b[A"
     ]
    },
    {
     "name": "stdout",
     "output_type": "stream",
     "text": [
      "\n",
      " Time needed for MC Dropout-based Uncertainty Estimation   5.681845188140869\n"
     ]
    },
    {
     "name": "stderr",
     "output_type": "stream",
     "text": [
      "\n",
      " 95%|█████████▌| 38/40 [03:35<00:11,  5.66s/it]\u001b[A"
     ]
    },
    {
     "name": "stdout",
     "output_type": "stream",
     "text": [
      "\n",
      " Time needed for MC Dropout-based Uncertainty Estimation   5.815128326416016\n"
     ]
    },
    {
     "name": "stderr",
     "output_type": "stream",
     "text": [
      "\n",
      " 98%|█████████▊| 39/40 [03:40<00:05,  5.54s/it]\u001b[A"
     ]
    },
    {
     "name": "stdout",
     "output_type": "stream",
     "text": [
      "\n",
      " Time needed for MC Dropout-based Uncertainty Estimation   5.2391369342803955\n"
     ]
    },
    {
     "name": "stderr",
     "output_type": "stream",
     "text": [
      "\n",
      "100%|██████████| 40/40 [03:46<00:00,  5.58s/it]\u001b[A"
     ]
    },
    {
     "name": "stdout",
     "output_type": "stream",
     "text": [
      "\n",
      " Time needed for MC Dropout-based Uncertainty Estimation   5.637443780899048\n",
      "Running mode 3\n",
      "loading image  0\n",
      "loading image  1\n",
      "loading image  2\n",
      "loading image  3\n",
      "loading image  4\n",
      "loading image  5\n",
      "loading image  6\n",
      "loading image  7\n",
      "loading image  8\n",
      "loading image  9\n",
      "loading image  10\n",
      "loading image  11\n",
      "loading image  12\n",
      "loading image  13\n",
      "loading image  14\n",
      "loading image  15\n",
      "loading image  16\n",
      "loading image  17\n",
      "loading image  18\n",
      "loading image  19\n",
      "loading image  20\n",
      "loading image  21\n",
      "loading image  22\n",
      "loading image  23\n",
      "loading image  24\n",
      "loading image  25\n",
      "loading image  26\n",
      "loading image  27\n",
      "loading image  28\n",
      "loading image  29\n",
      "loading image  30\n",
      "loading image  31\n",
      "loading image  32\n",
      "loading image  33\n",
      "loading image  34\n",
      "loading image  35\n",
      "loading image  36\n",
      "loading image  37\n",
      "loading image  38\n",
      "loading image  39\n",
      "loading image  40\n",
      "loading image  41\n",
      "loading image  42\n",
      "loading image  43\n",
      "loading image  44\n",
      "loading image  45\n",
      "loading image  46\n",
      "loading image  47\n",
      "loading image  48\n",
      "loading image  49\n",
      "loading image  50\n",
      "loading image  51\n",
      "loading image  52\n",
      "loading image  53\n",
      "loading image  54\n",
      "loading image  55\n",
      "loading image  56\n",
      "loading image  57\n",
      "loading image  58\n",
      "loading image  59\n",
      "loading image  60\n",
      "loading image  61\n",
      "loading image  62\n",
      "loading image  63\n",
      "loading image  64\n",
      "loading image  65\n",
      "loading image  66\n",
      "loading image  67\n",
      "loading image  68\n",
      "loading image  69\n",
      "loading image  70\n",
      "loading image  71\n",
      "loading image  72\n",
      "loading image  73\n",
      "loading image  74\n",
      "loading image  75\n",
      "loading image  76\n",
      "loading image  77\n",
      "loading image  78\n",
      "loading image  79\n",
      "loading image  80\n",
      "loading image  81\n",
      "loading image  82\n",
      "loading image  83\n",
      "loading image  84\n",
      "loading image  85\n",
      "loading image  86\n",
      "loading image  87\n",
      "loading image  88\n",
      "loading image  89\n",
      "loading image  90\n",
      "loading image  91\n",
      "loading image  92\n",
      "loading image  93\n",
      "loading image  94\n",
      "loading image  95\n",
      "loading image  96\n",
      "loading image  97\n",
      "loading image  98\n",
      "loading image  99\n",
      "(80,) (10,) (10,)\n",
      "60\n",
      "20\n",
      "START TRAINING......:\n",
      "Training with 60 images\n",
      "Validating with 10 images\n",
      "Training Unet-mcdropout\n",
      "(60, 400, 400, 28)\n",
      "Epoch 1/80\n",
      " - 10s - loss: 0.4059 - accuracy: 0.8958 - val_loss: 0.6028 - val_accuracy: 0.8848\n",
      "\n",
      "Epoch 00001: val_loss improved from inf to 0.60278, saving model to ./trained_models/unet_div8_495K_60.hdf5\n",
      "Epoch 2/80\n",
      " - 5s - loss: 0.3315 - accuracy: 0.8983 - val_loss: 0.4659 - val_accuracy: 0.8848\n",
      "\n",
      "Epoch 00002: val_loss improved from 0.60278 to 0.46592, saving model to ./trained_models/unet_div8_495K_60.hdf5\n",
      "Epoch 3/80\n",
      " - 10s - loss: 0.2973 - accuracy: 0.8984 - val_loss: 0.3899 - val_accuracy: 0.8848\n",
      "\n",
      "Epoch 00003: val_loss improved from 0.46592 to 0.38995, saving model to ./trained_models/unet_div8_495K_60.hdf5\n",
      "Epoch 4/80\n",
      " - 9s - loss: 0.2745 - accuracy: 0.8983 - val_loss: 0.3610 - val_accuracy: 0.8848\n",
      "\n",
      "Epoch 00004: val_loss improved from 0.38995 to 0.36097, saving model to ./trained_models/unet_div8_495K_60.hdf5\n",
      "Epoch 5/80\n",
      " - 8s - loss: 0.2540 - accuracy: 0.8999 - val_loss: 0.3643 - val_accuracy: 0.8848\n",
      "\n",
      "Epoch 00005: val_loss did not improve from 0.36097\n",
      "Epoch 6/80\n",
      " - 10s - loss: 0.2466 - accuracy: 0.9010 - val_loss: 0.3573 - val_accuracy: 0.8848\n",
      "\n",
      "Epoch 00006: val_loss improved from 0.36097 to 0.35732, saving model to ./trained_models/unet_div8_495K_60.hdf5\n",
      "Epoch 7/80\n",
      " - 7s - loss: 0.2400 - accuracy: 0.9002 - val_loss: 0.3525 - val_accuracy: 0.8848\n",
      "\n",
      "Epoch 00007: val_loss improved from 0.35732 to 0.35248, saving model to ./trained_models/unet_div8_495K_60.hdf5\n",
      "Epoch 8/80\n",
      " - 8s - loss: 0.2317 - accuracy: 0.9000 - val_loss: 0.3572 - val_accuracy: 0.8848\n",
      "\n",
      "Epoch 00008: val_loss did not improve from 0.35248\n",
      "Epoch 9/80\n",
      " - 9s - loss: 0.2264 - accuracy: 0.8994 - val_loss: 0.3678 - val_accuracy: 0.8848\n",
      "\n",
      "Epoch 00009: val_loss did not improve from 0.35248\n",
      "Epoch 10/80\n",
      " - 8s - loss: 0.2181 - accuracy: 0.8994 - val_loss: 0.3359 - val_accuracy: 0.8874\n",
      "\n",
      "Epoch 00010: val_loss improved from 0.35248 to 0.33593, saving model to ./trained_models/unet_div8_495K_60.hdf5\n",
      "Epoch 11/80\n",
      " - 9s - loss: 0.2161 - accuracy: 0.8994 - val_loss: 0.3934 - val_accuracy: 0.8849\n",
      "\n",
      "Epoch 00011: val_loss did not improve from 0.33593\n",
      "Epoch 12/80\n",
      " - 9s - loss: 0.2124 - accuracy: 0.8992 - val_loss: 0.2669 - val_accuracy: 0.8862\n",
      "\n",
      "Epoch 00012: val_loss improved from 0.33593 to 0.26692, saving model to ./trained_models/unet_div8_495K_60.hdf5\n",
      "Epoch 13/80\n",
      " - 9s - loss: 0.2132 - accuracy: 0.8999 - val_loss: 0.3149 - val_accuracy: 0.8877\n",
      "\n",
      "Epoch 00013: val_loss did not improve from 0.26692\n",
      "Epoch 14/80\n",
      " - 9s - loss: 0.2093 - accuracy: 0.9000 - val_loss: 0.2846 - val_accuracy: 0.8880\n",
      "\n",
      "Epoch 00014: val_loss did not improve from 0.26692\n",
      "Epoch 15/80\n",
      " - 9s - loss: 0.2038 - accuracy: 0.9000 - val_loss: 0.2802 - val_accuracy: 0.8948\n",
      "\n",
      "Epoch 00015: val_loss did not improve from 0.26692\n",
      "Epoch 16/80\n",
      " - 8s - loss: 0.2048 - accuracy: 0.9014 - val_loss: 0.2655 - val_accuracy: 0.8923\n",
      "\n",
      "Epoch 00016: val_loss improved from 0.26692 to 0.26545, saving model to ./trained_models/unet_div8_495K_60.hdf5\n",
      "Epoch 17/80\n",
      " - 7s - loss: 0.2104 - accuracy: 0.9033 - val_loss: 0.2423 - val_accuracy: 0.9044\n",
      "\n",
      "Epoch 00017: val_loss improved from 0.26545 to 0.24229, saving model to ./trained_models/unet_div8_495K_60.hdf5\n",
      "Epoch 18/80\n",
      " - 7s - loss: 0.2047 - accuracy: 0.9023 - val_loss: 0.2608 - val_accuracy: 0.8841\n",
      "\n",
      "Epoch 00018: val_loss did not improve from 0.24229\n",
      "Epoch 19/80\n",
      " - 9s - loss: 0.1989 - accuracy: 0.9049 - val_loss: 0.2594 - val_accuracy: 0.8864\n",
      "\n",
      "Epoch 00019: val_loss did not improve from 0.24229\n",
      "Epoch 20/80\n",
      " - 8s - loss: 0.1987 - accuracy: 0.9030 - val_loss: 0.2643 - val_accuracy: 0.8818\n",
      "\n",
      "Epoch 00020: val_loss did not improve from 0.24229\n",
      "Epoch 21/80\n",
      " - 9s - loss: 0.1957 - accuracy: 0.9058 - val_loss: 0.2534 - val_accuracy: 0.8831\n",
      "\n",
      "Epoch 00021: val_loss did not improve from 0.24229\n",
      "Epoch 22/80\n",
      " - 10s - loss: 0.2074 - accuracy: 0.9036 - val_loss: 0.2981 - val_accuracy: 0.8860\n",
      "\n",
      "Epoch 00022: val_loss did not improve from 0.24229\n",
      "Epoch 23/80\n",
      " - 9s - loss: 0.1989 - accuracy: 0.9055 - val_loss: 0.2356 - val_accuracy: 0.8928\n",
      "\n",
      "Epoch 00023: val_loss improved from 0.24229 to 0.23560, saving model to ./trained_models/unet_div8_495K_60.hdf5\n",
      "Epoch 24/80\n",
      " - 8s - loss: 0.1957 - accuracy: 0.9057 - val_loss: 0.2239 - val_accuracy: 0.9088\n",
      "\n",
      "Epoch 00024: val_loss improved from 0.23560 to 0.22387, saving model to ./trained_models/unet_div8_495K_60.hdf5\n",
      "Epoch 25/80\n",
      " - 8s - loss: 0.1954 - accuracy: 0.9063 - val_loss: 0.2312 - val_accuracy: 0.8919\n",
      "\n",
      "Epoch 00025: val_loss did not improve from 0.22387\n",
      "Epoch 26/80\n",
      " - 8s - loss: 0.1879 - accuracy: 0.9077 - val_loss: 0.2135 - val_accuracy: 0.9057\n",
      "\n",
      "Epoch 00026: val_loss improved from 0.22387 to 0.21350, saving model to ./trained_models/unet_div8_495K_60.hdf5\n",
      "Epoch 27/80\n",
      " - 8s - loss: 0.1924 - accuracy: 0.9085 - val_loss: 0.2193 - val_accuracy: 0.8905\n",
      "\n",
      "Epoch 00027: val_loss did not improve from 0.21350\n",
      "Epoch 28/80\n",
      " - 9s - loss: 0.1909 - accuracy: 0.9054 - val_loss: 0.2426 - val_accuracy: 0.8733\n",
      "\n",
      "Epoch 00028: val_loss did not improve from 0.21350\n",
      "Epoch 29/80\n",
      " - 8s - loss: 0.1845 - accuracy: 0.9093 - val_loss: 0.2150 - val_accuracy: 0.8935\n",
      "\n",
      "Epoch 00029: val_loss did not improve from 0.21350\n",
      "Epoch 30/80\n",
      " - 9s - loss: 0.1855 - accuracy: 0.9076 - val_loss: 0.2430 - val_accuracy: 0.8495\n",
      "\n",
      "Epoch 00030: val_loss did not improve from 0.21350\n",
      "Epoch 31/80\n",
      " - 9s - loss: 0.1875 - accuracy: 0.9089 - val_loss: 0.2064 - val_accuracy: 0.9072\n",
      "\n",
      "Epoch 00031: val_loss improved from 0.21350 to 0.20642, saving model to ./trained_models/unet_div8_495K_60.hdf5\n",
      "Epoch 32/80\n",
      " - 11s - loss: 0.1853 - accuracy: 0.9099 - val_loss: 0.2052 - val_accuracy: 0.9124\n",
      "\n",
      "Epoch 00032: val_loss improved from 0.20642 to 0.20522, saving model to ./trained_models/unet_div8_495K_60.hdf5\n",
      "Epoch 33/80\n",
      " - 8s - loss: 0.1836 - accuracy: 0.9098 - val_loss: 0.2153 - val_accuracy: 0.8877\n",
      "\n",
      "Epoch 00033: val_loss did not improve from 0.20522\n",
      "Epoch 34/80\n",
      " - 8s - loss: 0.1807 - accuracy: 0.9105 - val_loss: 0.2317 - val_accuracy: 0.8766\n",
      "\n",
      "Epoch 00034: val_loss did not improve from 0.20522\n",
      "Epoch 35/80\n",
      " - 9s - loss: 0.1825 - accuracy: 0.9106 - val_loss: 0.2026 - val_accuracy: 0.8995\n",
      "\n",
      "Epoch 00035: val_loss improved from 0.20522 to 0.20258, saving model to ./trained_models/unet_div8_495K_60.hdf5\n",
      "Epoch 36/80\n",
      " - 9s - loss: 0.1800 - accuracy: 0.9107 - val_loss: 0.2060 - val_accuracy: 0.9038\n"
     ]
    },
    {
     "name": "stdout",
     "output_type": "stream",
     "text": [
      "\n",
      "Epoch 00036: val_loss did not improve from 0.20258\n",
      "Epoch 37/80\n",
      " - 8s - loss: 0.1741 - accuracy: 0.9154 - val_loss: 0.2080 - val_accuracy: 0.9046\n",
      "\n",
      "Epoch 00037: val_loss did not improve from 0.20258\n",
      "Epoch 38/80\n",
      " - 9s - loss: 0.1807 - accuracy: 0.9085 - val_loss: 0.3116 - val_accuracy: 0.8864\n",
      "\n",
      "Epoch 00038: val_loss did not improve from 0.20258\n",
      "Epoch 39/80\n",
      " - 8s - loss: 0.1851 - accuracy: 0.9094 - val_loss: 0.2267 - val_accuracy: 0.8917\n",
      "\n",
      "Epoch 00039: val_loss did not improve from 0.20258\n",
      "Epoch 40/80\n",
      " - 8s - loss: 0.1786 - accuracy: 0.9139 - val_loss: 0.2089 - val_accuracy: 0.8911\n",
      "\n",
      "Epoch 00040: val_loss did not improve from 0.20258\n",
      "Epoch 41/80\n",
      " - 8s - loss: 0.1728 - accuracy: 0.9135 - val_loss: 0.2118 - val_accuracy: 0.8936\n",
      "\n",
      "Epoch 00041: val_loss did not improve from 0.20258\n",
      "Epoch 42/80\n",
      " - 8s - loss: 0.1726 - accuracy: 0.9152 - val_loss: 0.2246 - val_accuracy: 0.8918\n",
      "\n",
      "Epoch 00042: val_loss did not improve from 0.20258\n",
      "Epoch 43/80\n",
      " - 9s - loss: 0.1757 - accuracy: 0.9148 - val_loss: 0.1911 - val_accuracy: 0.9173\n",
      "\n",
      "Epoch 00043: val_loss improved from 0.20258 to 0.19113, saving model to ./trained_models/unet_div8_495K_60.hdf5\n",
      "Epoch 44/80\n",
      " - 8s - loss: 0.1738 - accuracy: 0.9122 - val_loss: 0.1905 - val_accuracy: 0.9048\n",
      "\n",
      "Epoch 00044: val_loss improved from 0.19113 to 0.19046, saving model to ./trained_models/unet_div8_495K_60.hdf5\n",
      "Epoch 45/80\n",
      " - 8s - loss: 0.1744 - accuracy: 0.9163 - val_loss: 0.2165 - val_accuracy: 0.8839\n",
      "\n",
      "Epoch 00045: val_loss did not improve from 0.19046\n",
      "Epoch 46/80\n",
      " - 8s - loss: 0.1805 - accuracy: 0.9106 - val_loss: 0.2467 - val_accuracy: 0.8672\n",
      "\n",
      "Epoch 00046: val_loss did not improve from 0.19046\n",
      "Epoch 47/80\n",
      " - 8s - loss: 0.1703 - accuracy: 0.9163 - val_loss: 0.2277 - val_accuracy: 0.9037\n",
      "\n",
      "Epoch 00047: val_loss did not improve from 0.19046\n",
      "Epoch 48/80\n",
      " - 8s - loss: 0.1717 - accuracy: 0.9161 - val_loss: 0.1901 - val_accuracy: 0.9168\n",
      "\n",
      "Epoch 00048: val_loss improved from 0.19046 to 0.19008, saving model to ./trained_models/unet_div8_495K_60.hdf5\n",
      "Epoch 49/80\n",
      " - 8s - loss: 0.1696 - accuracy: 0.9123 - val_loss: 0.2040 - val_accuracy: 0.8993\n",
      "\n",
      "Epoch 00049: val_loss did not improve from 0.19008\n",
      "Epoch 50/80\n",
      " - 8s - loss: 0.1700 - accuracy: 0.9154 - val_loss: 0.2758 - val_accuracy: 0.8889\n",
      "\n",
      "Epoch 00050: val_loss did not improve from 0.19008\n",
      "Epoch 51/80\n",
      " - 9s - loss: 0.1722 - accuracy: 0.9145 - val_loss: 0.1990 - val_accuracy: 0.9005\n",
      "\n",
      "Epoch 00051: val_loss did not improve from 0.19008\n",
      "Epoch 52/80\n",
      " - 8s - loss: 0.1698 - accuracy: 0.9160 - val_loss: 0.2001 - val_accuracy: 0.9058\n",
      "\n",
      "Epoch 00052: val_loss did not improve from 0.19008\n",
      "Epoch 53/80\n",
      " - 8s - loss: 0.1709 - accuracy: 0.9162 - val_loss: 0.2417 - val_accuracy: 0.8899\n",
      "\n",
      "Epoch 00053: val_loss did not improve from 0.19008\n",
      "Epoch 54/80\n",
      " - 10s - loss: 0.1810 - accuracy: 0.9147 - val_loss: 0.2827 - val_accuracy: 0.8824\n",
      "\n",
      "Epoch 00054: val_loss did not improve from 0.19008\n",
      "Epoch 55/80\n",
      " - 9s - loss: 0.1743 - accuracy: 0.9150 - val_loss: 0.2601 - val_accuracy: 0.8390\n",
      "\n",
      "Epoch 00055: val_loss did not improve from 0.19008\n",
      "Epoch 56/80\n",
      " - 10s - loss: 0.1702 - accuracy: 0.9154 - val_loss: 0.2028 - val_accuracy: 0.8953\n",
      "\n",
      "Epoch 00056: val_loss did not improve from 0.19008\n",
      "Epoch 57/80\n",
      " - 8s - loss: 0.1703 - accuracy: 0.9178 - val_loss: 0.2187 - val_accuracy: 0.9037\n",
      "\n",
      "Epoch 00057: val_loss did not improve from 0.19008\n",
      "Epoch 58/80\n",
      " - 9s - loss: 0.1665 - accuracy: 0.9148 - val_loss: 0.2157 - val_accuracy: 0.9015\n",
      "\n",
      "Epoch 00058: val_loss did not improve from 0.19008\n",
      "Epoch 59/80\n",
      " - 8s - loss: 0.1654 - accuracy: 0.9182 - val_loss: 0.1992 - val_accuracy: 0.8988\n",
      "\n",
      "Epoch 00059: val_loss did not improve from 0.19008\n",
      "Epoch 60/80\n",
      " - 8s - loss: 0.1682 - accuracy: 0.9164 - val_loss: 0.4147 - val_accuracy: 0.8845\n"
     ]
    },
    {
     "name": "stderr",
     "output_type": "stream",
     "text": [
      "\n",
      "  0%|          | 0/60 [00:00<?, ?it/s]\u001b[A"
     ]
    },
    {
     "name": "stdout",
     "output_type": "stream",
     "text": [
      "\n",
      "Epoch 00060: val_loss did not improve from 0.19008\n"
     ]
    },
    {
     "name": "stderr",
     "output_type": "stream",
     "text": [
      "\n",
      "  2%|▏         | 1/60 [00:30<30:22, 30.88s/it]\u001b[A"
     ]
    },
    {
     "name": "stdout",
     "output_type": "stream",
     "text": [
      "\n",
      " Time needed for MC Dropout-based Uncertainty Estimation   30.858782529830933\n"
     ]
    },
    {
     "name": "stderr",
     "output_type": "stream",
     "text": [
      "\n",
      "  3%|▎         | 2/60 [01:01<29:42, 30.73s/it]\u001b[A"
     ]
    },
    {
     "name": "stdout",
     "output_type": "stream",
     "text": [
      "\n",
      " Time needed for MC Dropout-based Uncertainty Estimation   30.306516885757446\n"
     ]
    },
    {
     "name": "stderr",
     "output_type": "stream",
     "text": [
      "\n",
      "  5%|▌         | 3/60 [01:31<29:03, 30.59s/it]\u001b[A"
     ]
    },
    {
     "name": "stdout",
     "output_type": "stream",
     "text": [
      "\n",
      " Time needed for MC Dropout-based Uncertainty Estimation   30.23576021194458\n"
     ]
    },
    {
     "name": "stderr",
     "output_type": "stream",
     "text": [
      "\n",
      "  7%|▋         | 4/60 [02:01<28:25, 30.46s/it]\u001b[A"
     ]
    },
    {
     "name": "stdout",
     "output_type": "stream",
     "text": [
      "\n",
      " Time needed for MC Dropout-based Uncertainty Estimation   30.090151071548462\n"
     ]
    },
    {
     "name": "stderr",
     "output_type": "stream",
     "text": [
      "\n",
      "  8%|▊         | 5/60 [02:32<27:53, 30.43s/it]\u001b[A"
     ]
    },
    {
     "name": "stdout",
     "output_type": "stream",
     "text": [
      "\n",
      " Time needed for MC Dropout-based Uncertainty Estimation   30.33002209663391\n"
     ]
    },
    {
     "name": "stderr",
     "output_type": "stream",
     "text": [
      "\n",
      " 10%|█         | 6/60 [03:02<27:24, 30.46s/it]\u001b[A"
     ]
    },
    {
     "name": "stdout",
     "output_type": "stream",
     "text": [
      "\n",
      " Time needed for MC Dropout-based Uncertainty Estimation   30.45666790008545\n"
     ]
    },
    {
     "name": "stderr",
     "output_type": "stream",
     "text": [
      "\n",
      " 12%|█▏        | 7/60 [03:33<26:56, 30.50s/it]\u001b[A"
     ]
    },
    {
     "name": "stdout",
     "output_type": "stream",
     "text": [
      "\n",
      " Time needed for MC Dropout-based Uncertainty Estimation   30.5368390083313\n"
     ]
    },
    {
     "name": "stderr",
     "output_type": "stream",
     "text": [
      "\n",
      " 13%|█▎        | 8/60 [04:03<26:26, 30.51s/it]\u001b[A"
     ]
    },
    {
     "name": "stdout",
     "output_type": "stream",
     "text": [
      "\n",
      " Time needed for MC Dropout-based Uncertainty Estimation   30.48068642616272\n"
     ]
    },
    {
     "name": "stderr",
     "output_type": "stream",
     "text": [
      "\n",
      " 15%|█▌        | 9/60 [04:34<25:54, 30.49s/it]\u001b[A"
     ]
    },
    {
     "name": "stdout",
     "output_type": "stream",
     "text": [
      "\n",
      " Time needed for MC Dropout-based Uncertainty Estimation   30.393670320510864\n"
     ]
    },
    {
     "name": "stderr",
     "output_type": "stream",
     "text": [
      "\n",
      " 17%|█▋        | 10/60 [05:04<25:22, 30.44s/it]\u001b[A"
     ]
    },
    {
     "name": "stdout",
     "output_type": "stream",
     "text": [
      "\n",
      " Time needed for MC Dropout-based Uncertainty Estimation   30.285314321517944\n"
     ]
    },
    {
     "name": "stderr",
     "output_type": "stream",
     "text": [
      "\n",
      " 18%|█▊        | 11/60 [05:34<24:50, 30.41s/it]\u001b[A"
     ]
    },
    {
     "name": "stdout",
     "output_type": "stream",
     "text": [
      "\n",
      " Time needed for MC Dropout-based Uncertainty Estimation   30.28175163269043\n"
     ]
    },
    {
     "name": "stderr",
     "output_type": "stream",
     "text": [
      "\n",
      " 20%|██        | 12/60 [06:05<24:19, 30.41s/it]\u001b[A"
     ]
    },
    {
     "name": "stdout",
     "output_type": "stream",
     "text": [
      "\n",
      " Time needed for MC Dropout-based Uncertainty Estimation   30.351972818374634\n"
     ]
    },
    {
     "name": "stderr",
     "output_type": "stream",
     "text": [
      "\n",
      " 22%|██▏       | 13/60 [06:35<23:47, 30.38s/it]\u001b[A"
     ]
    },
    {
     "name": "stdout",
     "output_type": "stream",
     "text": [
      "\n",
      " Time needed for MC Dropout-based Uncertainty Estimation   30.251039505004883\n"
     ]
    },
    {
     "name": "stderr",
     "output_type": "stream",
     "text": [
      "\n",
      " 23%|██▎       | 14/60 [07:05<23:15, 30.34s/it]\u001b[A"
     ]
    },
    {
     "name": "stdout",
     "output_type": "stream",
     "text": [
      "\n",
      " Time needed for MC Dropout-based Uncertainty Estimation   30.204673290252686\n"
     ]
    },
    {
     "name": "stderr",
     "output_type": "stream",
     "text": [
      "\n",
      " 25%|██▌       | 15/60 [07:35<22:43, 30.30s/it]\u001b[A"
     ]
    },
    {
     "name": "stdout",
     "output_type": "stream",
     "text": [
      "\n",
      " Time needed for MC Dropout-based Uncertainty Estimation   30.165809392929077\n"
     ]
    },
    {
     "name": "stderr",
     "output_type": "stream",
     "text": [
      "\n",
      " 27%|██▋       | 16/60 [08:06<22:13, 30.32s/it]\u001b[A"
     ]
    },
    {
     "name": "stdout",
     "output_type": "stream",
     "text": [
      "\n",
      " Time needed for MC Dropout-based Uncertainty Estimation   30.301284551620483\n"
     ]
    },
    {
     "name": "stderr",
     "output_type": "stream",
     "text": [
      "\n",
      " 28%|██▊       | 17/60 [08:36<21:43, 30.30s/it]\u001b[A"
     ]
    },
    {
     "name": "stdout",
     "output_type": "stream",
     "text": [
      "\n",
      " Time needed for MC Dropout-based Uncertainty Estimation   30.218891620635986\n"
     ]
    },
    {
     "name": "stderr",
     "output_type": "stream",
     "text": [
      "\n",
      " 30%|███       | 18/60 [09:06<21:12, 30.30s/it]\u001b[A"
     ]
    },
    {
     "name": "stdout",
     "output_type": "stream",
     "text": [
      "\n",
      " Time needed for MC Dropout-based Uncertainty Estimation   30.251920461654663\n"
     ]
    },
    {
     "name": "stderr",
     "output_type": "stream",
     "text": [
      "\n",
      " 32%|███▏      | 19/60 [09:36<20:39, 30.24s/it]\u001b[A"
     ]
    },
    {
     "name": "stdout",
     "output_type": "stream",
     "text": [
      "\n",
      " Time needed for MC Dropout-based Uncertainty Estimation   30.0351459980011\n"
     ]
    },
    {
     "name": "stderr",
     "output_type": "stream",
     "text": [
      "\n",
      " 33%|███▎      | 20/60 [10:07<20:09, 30.23s/it]\u001b[A"
     ]
    },
    {
     "name": "stdout",
     "output_type": "stream",
     "text": [
      "\n",
      " Time needed for MC Dropout-based Uncertainty Estimation   30.146454572677612\n"
     ]
    },
    {
     "name": "stderr",
     "output_type": "stream",
     "text": [
      "\n",
      " 35%|███▌      | 21/60 [10:37<19:39, 30.25s/it]\u001b[A"
     ]
    },
    {
     "name": "stdout",
     "output_type": "stream",
     "text": [
      "\n",
      " Time needed for MC Dropout-based Uncertainty Estimation   30.24632954597473\n"
     ]
    },
    {
     "name": "stderr",
     "output_type": "stream",
     "text": [
      "\n",
      " 37%|███▋      | 22/60 [11:07<19:09, 30.25s/it]\u001b[A"
     ]
    },
    {
     "name": "stdout",
     "output_type": "stream",
     "text": [
      "\n",
      " Time needed for MC Dropout-based Uncertainty Estimation   30.20579242706299\n"
     ]
    },
    {
     "name": "stderr",
     "output_type": "stream",
     "text": [
      "\n",
      " 38%|███▊      | 23/60 [11:37<18:39, 30.26s/it]\u001b[A"
     ]
    },
    {
     "name": "stdout",
     "output_type": "stream",
     "text": [
      "\n",
      " Time needed for MC Dropout-based Uncertainty Estimation   30.217294931411743\n"
     ]
    },
    {
     "name": "stderr",
     "output_type": "stream",
     "text": [
      "\n",
      " 40%|████      | 24/60 [12:07<18:06, 30.17s/it]\u001b[A"
     ]
    },
    {
     "name": "stdout",
     "output_type": "stream",
     "text": [
      "\n",
      " Time needed for MC Dropout-based Uncertainty Estimation   29.918394565582275\n"
     ]
    },
    {
     "name": "stderr",
     "output_type": "stream",
     "text": [
      "\n",
      " 42%|████▏     | 25/60 [12:37<17:31, 30.03s/it]\u001b[A"
     ]
    },
    {
     "name": "stdout",
     "output_type": "stream",
     "text": [
      "\n",
      " Time needed for MC Dropout-based Uncertainty Estimation   29.65144181251526\n"
     ]
    },
    {
     "name": "stderr",
     "output_type": "stream",
     "text": [
      "\n",
      " 43%|████▎     | 26/60 [13:07<17:01, 30.06s/it]\u001b[A"
     ]
    },
    {
     "name": "stdout",
     "output_type": "stream",
     "text": [
      "\n",
      " Time needed for MC Dropout-based Uncertainty Estimation   30.075670957565308\n"
     ]
    },
    {
     "name": "stderr",
     "output_type": "stream",
     "text": [
      "\n",
      " 45%|████▌     | 27/60 [13:37<16:33, 30.09s/it]\u001b[A"
     ]
    },
    {
     "name": "stdout",
     "output_type": "stream",
     "text": [
      "\n",
      " Time needed for MC Dropout-based Uncertainty Estimation   30.120622158050537\n"
     ]
    },
    {
     "name": "stderr",
     "output_type": "stream",
     "text": [
      "\n",
      " 47%|████▋     | 28/60 [14:08<16:05, 30.17s/it]\u001b[A"
     ]
    },
    {
     "name": "stdout",
     "output_type": "stream",
     "text": [
      "\n",
      " Time needed for MC Dropout-based Uncertainty Estimation   30.303077936172485\n"
     ]
    },
    {
     "name": "stderr",
     "output_type": "stream",
     "text": [
      "\n",
      " 48%|████▊     | 29/60 [14:38<15:36, 30.20s/it]\u001b[A"
     ]
    },
    {
     "name": "stdout",
     "output_type": "stream",
     "text": [
      "\n",
      " Time needed for MC Dropout-based Uncertainty Estimation   30.208659172058105\n"
     ]
    },
    {
     "name": "stderr",
     "output_type": "stream",
     "text": [
      "\n",
      " 50%|█████     | 30/60 [15:08<15:06, 30.23s/it]\u001b[A"
     ]
    },
    {
     "name": "stdout",
     "output_type": "stream",
     "text": [
      "\n",
      " Time needed for MC Dropout-based Uncertainty Estimation   30.24470806121826\n"
     ]
    },
    {
     "name": "stderr",
     "output_type": "stream",
     "text": [
      "\n",
      " 52%|█████▏    | 31/60 [15:39<14:35, 30.20s/it]\u001b[A"
     ]
    },
    {
     "name": "stdout",
     "output_type": "stream",
     "text": [
      "\n",
      " Time needed for MC Dropout-based Uncertainty Estimation   30.104695796966553\n"
     ]
    },
    {
     "name": "stderr",
     "output_type": "stream",
     "text": [
      "\n",
      " 53%|█████▎    | 32/60 [16:09<14:05, 30.21s/it]\u001b[A"
     ]
    },
    {
     "name": "stdout",
     "output_type": "stream",
     "text": [
      "\n",
      " Time needed for MC Dropout-based Uncertainty Estimation   30.15747880935669\n"
     ]
    },
    {
     "name": "stderr",
     "output_type": "stream",
     "text": [
      "\n",
      " 55%|█████▌    | 33/60 [16:39<13:33, 30.14s/it]\u001b[A"
     ]
    },
    {
     "name": "stdout",
     "output_type": "stream",
     "text": [
      "\n",
      " Time needed for MC Dropout-based Uncertainty Estimation   29.945005893707275\n"
     ]
    },
    {
     "name": "stderr",
     "output_type": "stream",
     "text": [
      "\n",
      " 57%|█████▋    | 34/60 [17:09<13:01, 30.06s/it]\u001b[A"
     ]
    },
    {
     "name": "stdout",
     "output_type": "stream",
     "text": [
      "\n",
      " Time needed for MC Dropout-based Uncertainty Estimation   29.82747197151184\n"
     ]
    },
    {
     "name": "stderr",
     "output_type": "stream",
     "text": [
      "\n",
      " 58%|█████▊    | 35/60 [17:39<12:30, 30.03s/it]\u001b[A"
     ]
    },
    {
     "name": "stdout",
     "output_type": "stream",
     "text": [
      "\n",
      " Time needed for MC Dropout-based Uncertainty Estimation   29.88789963722229\n"
     ]
    },
    {
     "name": "stderr",
     "output_type": "stream",
     "text": [
      "\n",
      " 60%|██████    | 36/60 [18:09<12:01, 30.04s/it]\u001b[A"
     ]
    },
    {
     "name": "stdout",
     "output_type": "stream",
     "text": [
      "\n",
      " Time needed for MC Dropout-based Uncertainty Estimation   30.037381410598755\n"
     ]
    },
    {
     "name": "stderr",
     "output_type": "stream",
     "text": [
      "\n",
      " 62%|██████▏   | 37/60 [18:39<11:30, 30.00s/it]\u001b[A"
     ]
    },
    {
     "name": "stdout",
     "output_type": "stream",
     "text": [
      "\n",
      " Time needed for MC Dropout-based Uncertainty Estimation   29.849756240844727\n"
     ]
    },
    {
     "name": "stderr",
     "output_type": "stream",
     "text": [
      "\n",
      " 63%|██████▎   | 38/60 [19:08<10:59, 29.97s/it]\u001b[A"
     ]
    },
    {
     "name": "stdout",
     "output_type": "stream",
     "text": [
      "\n",
      " Time needed for MC Dropout-based Uncertainty Estimation   29.833415985107422\n"
     ]
    },
    {
     "name": "stderr",
     "output_type": "stream",
     "text": [
      "\n",
      " 65%|██████▌   | 39/60 [19:39<10:30, 30.01s/it]\u001b[A"
     ]
    },
    {
     "name": "stdout",
     "output_type": "stream",
     "text": [
      "\n",
      " Time needed for MC Dropout-based Uncertainty Estimation   30.081113815307617\n"
     ]
    },
    {
     "name": "stderr",
     "output_type": "stream",
     "text": [
      "\n",
      " 67%|██████▋   | 40/60 [20:09<10:01, 30.08s/it]\u001b[A"
     ]
    },
    {
     "name": "stdout",
     "output_type": "stream",
     "text": [
      "\n",
      " Time needed for MC Dropout-based Uncertainty Estimation   30.18443512916565\n"
     ]
    },
    {
     "name": "stderr",
     "output_type": "stream",
     "text": [
      "\n",
      " 68%|██████▊   | 41/60 [20:39<09:31, 30.10s/it]\u001b[A"
     ]
    },
    {
     "name": "stdout",
     "output_type": "stream",
     "text": [
      "\n",
      " Time needed for MC Dropout-based Uncertainty Estimation   30.080652236938477\n"
     ]
    },
    {
     "name": "stderr",
     "output_type": "stream",
     "text": [
      "\n",
      " 70%|███████   | 42/60 [21:09<09:03, 30.19s/it]\u001b[A"
     ]
    },
    {
     "name": "stdout",
     "output_type": "stream",
     "text": [
      "\n",
      " Time needed for MC Dropout-based Uncertainty Estimation   30.364686965942383\n"
     ]
    },
    {
     "name": "stderr",
     "output_type": "stream",
     "text": [
      "\n",
      " 72%|███████▏  | 43/60 [21:40<08:34, 30.25s/it]\u001b[A"
     ]
    },
    {
     "name": "stdout",
     "output_type": "stream",
     "text": [
      "\n",
      " Time needed for MC Dropout-based Uncertainty Estimation   30.337742567062378\n"
     ]
    },
    {
     "name": "stderr",
     "output_type": "stream",
     "text": [
      "\n",
      " 73%|███████▎  | 44/60 [22:10<08:04, 30.28s/it]\u001b[A"
     ]
    },
    {
     "name": "stdout",
     "output_type": "stream",
     "text": [
      "\n",
      " Time needed for MC Dropout-based Uncertainty Estimation   30.296063661575317\n"
     ]
    },
    {
     "name": "stderr",
     "output_type": "stream",
     "text": [
      "\n",
      " 75%|███████▌  | 45/60 [22:40<07:34, 30.30s/it]\u001b[A"
     ]
    },
    {
     "name": "stdout",
     "output_type": "stream",
     "text": [
      "\n",
      " Time needed for MC Dropout-based Uncertainty Estimation   30.280868768692017\n"
     ]
    },
    {
     "name": "stderr",
     "output_type": "stream",
     "text": [
      "\n",
      " 77%|███████▋  | 46/60 [23:11<07:03, 30.27s/it]\u001b[A"
     ]
    },
    {
     "name": "stdout",
     "output_type": "stream",
     "text": [
      "\n",
      " Time needed for MC Dropout-based Uncertainty Estimation   30.162081003189087\n"
     ]
    },
    {
     "name": "stderr",
     "output_type": "stream",
     "text": [
      "\n",
      " 78%|███████▊  | 47/60 [23:41<06:33, 30.27s/it]\u001b[A"
     ]
    },
    {
     "name": "stdout",
     "output_type": "stream",
     "text": [
      "\n",
      " Time needed for MC Dropout-based Uncertainty Estimation   30.23180603981018\n"
     ]
    },
    {
     "name": "stderr",
     "output_type": "stream",
     "text": [
      "\n",
      " 80%|████████  | 48/60 [24:11<06:03, 30.26s/it]\u001b[A"
     ]
    },
    {
     "name": "stdout",
     "output_type": "stream",
     "text": [
      "\n",
      " Time needed for MC Dropout-based Uncertainty Estimation   30.18615174293518\n"
     ]
    },
    {
     "name": "stderr",
     "output_type": "stream",
     "text": [
      "\n",
      " 82%|████████▏ | 49/60 [24:41<05:32, 30.27s/it]\u001b[A"
     ]
    },
    {
     "name": "stdout",
     "output_type": "stream",
     "text": [
      "\n",
      " Time needed for MC Dropout-based Uncertainty Estimation   30.2291738986969\n"
     ]
    },
    {
     "name": "stderr",
     "output_type": "stream",
     "text": [
      "\n",
      " 83%|████████▎ | 50/60 [25:12<05:02, 30.27s/it]\u001b[A"
     ]
    },
    {
     "name": "stdout",
     "output_type": "stream",
     "text": [
      "\n",
      " Time needed for MC Dropout-based Uncertainty Estimation   30.207205772399902\n"
     ]
    },
    {
     "name": "stderr",
     "output_type": "stream",
     "text": [
      "\n",
      " 85%|████████▌ | 51/60 [25:42<04:31, 30.14s/it]\u001b[A"
     ]
    },
    {
     "name": "stdout",
     "output_type": "stream",
     "text": [
      "\n",
      " Time needed for MC Dropout-based Uncertainty Estimation   29.809023141860962\n"
     ]
    },
    {
     "name": "stderr",
     "output_type": "stream",
     "text": [
      "\n",
      " 87%|████████▋ | 52/60 [26:12<04:01, 30.17s/it]\u001b[A"
     ]
    },
    {
     "name": "stdout",
     "output_type": "stream",
     "text": [
      "\n",
      " Time needed for MC Dropout-based Uncertainty Estimation   30.169325590133667\n"
     ]
    },
    {
     "name": "stderr",
     "output_type": "stream",
     "text": [
      "\n",
      " 88%|████████▊ | 53/60 [26:42<03:31, 30.23s/it]\u001b[A"
     ]
    },
    {
     "name": "stdout",
     "output_type": "stream",
     "text": [
      "\n",
      " Time needed for MC Dropout-based Uncertainty Estimation   30.33901572227478\n"
     ]
    },
    {
     "name": "stderr",
     "output_type": "stream",
     "text": [
      "\n",
      " 90%|█████████ | 54/60 [27:12<03:01, 30.27s/it]\u001b[A"
     ]
    },
    {
     "name": "stdout",
     "output_type": "stream",
     "text": [
      "\n",
      " Time needed for MC Dropout-based Uncertainty Estimation   30.29862904548645\n"
     ]
    },
    {
     "name": "stderr",
     "output_type": "stream",
     "text": [
      "\n",
      " 92%|█████████▏| 55/60 [27:43<02:31, 30.30s/it]\u001b[A"
     ]
    },
    {
     "name": "stdout",
     "output_type": "stream",
     "text": [
      "\n",
      " Time needed for MC Dropout-based Uncertainty Estimation   30.32832670211792\n"
     ]
    },
    {
     "name": "stderr",
     "output_type": "stream",
     "text": [
      "\n",
      " 93%|█████████▎| 56/60 [28:13<02:01, 30.29s/it]\u001b[A"
     ]
    },
    {
     "name": "stdout",
     "output_type": "stream",
     "text": [
      "\n",
      " Time needed for MC Dropout-based Uncertainty Estimation   30.2192964553833\n"
     ]
    },
    {
     "name": "stderr",
     "output_type": "stream",
     "text": [
      "\n",
      " 95%|█████████▌| 57/60 [28:43<01:30, 30.28s/it]\u001b[A"
     ]
    },
    {
     "name": "stdout",
     "output_type": "stream",
     "text": [
      "\n",
      " Time needed for MC Dropout-based Uncertainty Estimation   30.186319828033447\n"
     ]
    },
    {
     "name": "stderr",
     "output_type": "stream",
     "text": [
      "\n",
      " 97%|█████████▋| 58/60 [29:14<01:00, 30.32s/it]\u001b[A"
     ]
    },
    {
     "name": "stdout",
     "output_type": "stream",
     "text": [
      "\n",
      " Time needed for MC Dropout-based Uncertainty Estimation   30.359053373336792\n"
     ]
    },
    {
     "name": "stderr",
     "output_type": "stream",
     "text": [
      "\n",
      " 98%|█████████▊| 59/60 [29:44<00:30, 30.31s/it]\u001b[A"
     ]
    },
    {
     "name": "stdout",
     "output_type": "stream",
     "text": [
      "\n",
      " Time needed for MC Dropout-based Uncertainty Estimation   30.26200222969055\n"
     ]
    },
    {
     "name": "stderr",
     "output_type": "stream",
     "text": [
      "\n",
      "100%|██████████| 60/60 [30:14<00:00, 30.31s/it]\u001b[A\n",
      "  0%|          | 0/10 [00:00<?, ?it/s]\u001b[A"
     ]
    },
    {
     "name": "stdout",
     "output_type": "stream",
     "text": [
      "\n",
      " Time needed for MC Dropout-based Uncertainty Estimation   30.237395763397217\n"
     ]
    },
    {
     "name": "stderr",
     "output_type": "stream",
     "text": [
      "\n",
      " 10%|█         | 1/10 [00:05<00:45,  5.01s/it]\u001b[A"
     ]
    },
    {
     "name": "stdout",
     "output_type": "stream",
     "text": [
      "\n",
      " Time needed for MC Dropout-based Uncertainty Estimation   5.009996175765991\n"
     ]
    },
    {
     "name": "stderr",
     "output_type": "stream",
     "text": [
      "\n",
      " 20%|██        | 2/10 [00:10<00:41,  5.13s/it]\u001b[A"
     ]
    },
    {
     "name": "stdout",
     "output_type": "stream",
     "text": [
      "\n",
      " Time needed for MC Dropout-based Uncertainty Estimation   5.402083396911621\n"
     ]
    },
    {
     "name": "stderr",
     "output_type": "stream",
     "text": [
      "\n",
      " 30%|███       | 3/10 [00:15<00:35,  5.09s/it]\u001b[A"
     ]
    },
    {
     "name": "stdout",
     "output_type": "stream",
     "text": [
      "\n",
      " Time needed for MC Dropout-based Uncertainty Estimation   4.991892337799072\n"
     ]
    },
    {
     "name": "stderr",
     "output_type": "stream",
     "text": [
      "\n",
      " 40%|████      | 4/10 [00:20<00:30,  5.08s/it]\u001b[A"
     ]
    },
    {
     "name": "stdout",
     "output_type": "stream",
     "text": [
      "\n",
      " Time needed for MC Dropout-based Uncertainty Estimation   5.042291164398193\n"
     ]
    },
    {
     "name": "stderr",
     "output_type": "stream",
     "text": [
      "\n",
      " 50%|█████     | 5/10 [00:25<00:25,  5.16s/it]\u001b[A"
     ]
    },
    {
     "name": "stdout",
     "output_type": "stream",
     "text": [
      "\n",
      " Time needed for MC Dropout-based Uncertainty Estimation   5.32410740852356\n"
     ]
    },
    {
     "name": "stderr",
     "output_type": "stream",
     "text": [
      "\n",
      " 60%|██████    | 6/10 [00:30<00:20,  5.13s/it]\u001b[A"
     ]
    },
    {
     "name": "stdout",
     "output_type": "stream",
     "text": [
      "\n",
      " Time needed for MC Dropout-based Uncertainty Estimation   5.0561363697052\n"
     ]
    },
    {
     "name": "stderr",
     "output_type": "stream",
     "text": [
      "\n",
      " 70%|███████   | 7/10 [00:35<00:15,  5.10s/it]\u001b[A"
     ]
    },
    {
     "name": "stdout",
     "output_type": "stream",
     "text": [
      "\n",
      " Time needed for MC Dropout-based Uncertainty Estimation   5.008554220199585\n"
     ]
    },
    {
     "name": "stderr",
     "output_type": "stream",
     "text": [
      "\n",
      " 80%|████████  | 8/10 [00:41<00:10,  5.18s/it]\u001b[A"
     ]
    },
    {
     "name": "stdout",
     "output_type": "stream",
     "text": [
      "\n",
      " Time needed for MC Dropout-based Uncertainty Estimation   5.37932562828064\n"
     ]
    },
    {
     "name": "stderr",
     "output_type": "stream",
     "text": [
      "\n",
      " 90%|█████████ | 9/10 [00:46<00:05,  5.14s/it]\u001b[A"
     ]
    },
    {
     "name": "stdout",
     "output_type": "stream",
     "text": [
      "\n",
      " Time needed for MC Dropout-based Uncertainty Estimation   5.038039684295654\n"
     ]
    },
    {
     "name": "stderr",
     "output_type": "stream",
     "text": [
      "\n",
      "100%|██████████| 10/10 [00:51<00:00,  5.09s/it]\u001b[A"
     ]
    },
    {
     "name": "stdout",
     "output_type": "stream",
     "text": [
      "\n",
      " Time needed for MC Dropout-based Uncertainty Estimation   4.962908029556274\n",
      "Model: \"model_2\"\n",
      "_________________________________________________________________\n",
      "Layer (type)                 Output Shape              Param #   \n",
      "=================================================================\n",
      "input (InputLayer)           (None, 400, 400, 30)      0         \n",
      "_________________________________________________________________\n",
      "conv2d_11 (Conv2D)           (None, 400, 400, 32)      8672      \n",
      "_________________________________________________________________\n",
      "batch_normalization_19 (Batc (None, 400, 400, 32)      128       \n",
      "_________________________________________________________________\n",
      "activation_19 (Activation)   (None, 400, 400, 32)      0         \n",
      "_________________________________________________________________\n",
      "conv2d_12 (Conv2D)           (None, 400, 400, 32)      9248      \n",
      "_________________________________________________________________\n",
      "batch_normalization_20 (Batc (None, 400, 400, 32)      128       \n",
      "_________________________________________________________________\n",
      "activation_20 (Activation)   (None, 400, 400, 32)      0         \n",
      "_________________________________________________________________\n",
      "max_pooling2d_5 (MaxPooling2 (None, 200, 200, 32)      0         \n",
      "_________________________________________________________________\n",
      "conv2d_13 (Conv2D)           (None, 200, 200, 64)      18496     \n",
      "_________________________________________________________________\n",
      "batch_normalization_21 (Batc (None, 200, 200, 64)      256       \n",
      "_________________________________________________________________\n",
      "activation_21 (Activation)   (None, 200, 200, 64)      0         \n",
      "_________________________________________________________________\n",
      "conv2d_14 (Conv2D)           (None, 200, 200, 64)      36928     \n",
      "_________________________________________________________________\n",
      "batch_normalization_22 (Batc (None, 200, 200, 64)      256       \n",
      "_________________________________________________________________\n",
      "activation_22 (Activation)   (None, 200, 200, 64)      0         \n",
      "_________________________________________________________________\n",
      "max_pooling2d_6 (MaxPooling2 (None, 100, 100, 64)      0         \n",
      "_________________________________________________________________\n",
      "conv2d_15 (Conv2D)           (None, 100, 100, 128)     73856     \n",
      "_________________________________________________________________\n",
      "batch_normalization_23 (Batc (None, 100, 100, 128)     512       \n",
      "_________________________________________________________________\n",
      "activation_23 (Activation)   (None, 100, 100, 128)     0         \n",
      "_________________________________________________________________\n",
      "conv2d_16 (Conv2D)           (None, 100, 100, 128)     147584    \n",
      "_________________________________________________________________\n",
      "batch_normalization_24 (Batc (None, 100, 100, 128)     512       \n",
      "_________________________________________________________________\n",
      "activation_24 (Activation)   (None, 100, 100, 128)     0         \n",
      "_________________________________________________________________\n",
      "max_pooling2d_7 (MaxPooling2 (None, 50, 50, 128)       0         \n",
      "_________________________________________________________________\n",
      "conv2d_17 (Conv2D)           (None, 50, 50, 256)       295168    \n",
      "_________________________________________________________________\n",
      "batch_normalization_25 (Batc (None, 50, 50, 256)       1024      \n",
      "_________________________________________________________________\n",
      "activation_25 (Activation)   (None, 50, 50, 256)       0         \n",
      "_________________________________________________________________\n",
      "conv2d_18 (Conv2D)           (None, 50, 50, 256)       590080    \n",
      "_________________________________________________________________\n",
      "batch_normalization_26 (Batc (None, 50, 50, 256)       1024      \n",
      "_________________________________________________________________\n",
      "activation_26 (Activation)   (None, 50, 50, 256)       0         \n",
      "_________________________________________________________________\n",
      "global_average_pooling2d_1 ( (None, 256)               0         \n",
      "_________________________________________________________________\n",
      "dense_2 (Dense)              (None, 1)                 257       \n",
      "_________________________________________________________________\n",
      "output (Activation)          (None, 1)                 0         \n",
      "=================================================================\n",
      "Total params: 1,184,129\n",
      "Trainable params: 1,182,209\n",
      "Non-trainable params: 1,920\n",
      "_________________________________________________________________\n",
      "(60, 1)\n",
      "Train on 60 samples, validate on 10 samples\n",
      "Epoch 1/60\n",
      " - 5s - loss: 0.2345 - val_loss: 0.2446\n",
      "\n",
      "Epoch 00001: val_loss improved from inf to 0.24464, saving model to ./trained_models/unet_div8_495K_60_DiceNet.hdf5\n",
      "Epoch 2/60\n",
      " - 2s - loss: 0.0486 - val_loss: 0.2374\n",
      "\n",
      "Epoch 00002: val_loss improved from 0.24464 to 0.23739, saving model to ./trained_models/unet_div8_495K_60_DiceNet.hdf5\n",
      "Epoch 3/60\n",
      " - 2s - loss: 0.0153 - val_loss: 0.2262\n",
      "\n",
      "Epoch 00003: val_loss improved from 0.23739 to 0.22616, saving model to ./trained_models/unet_div8_495K_60_DiceNet.hdf5\n",
      "Epoch 4/60\n",
      " - 2s - loss: 0.0081 - val_loss: 0.2148\n",
      "\n",
      "Epoch 00004: val_loss improved from 0.22616 to 0.21483, saving model to ./trained_models/unet_div8_495K_60_DiceNet.hdf5\n",
      "Epoch 5/60\n",
      " - 2s - loss: 0.0058 - val_loss: 0.2053\n",
      "\n",
      "Epoch 00005: val_loss improved from 0.21483 to 0.20530, saving model to ./trained_models/unet_div8_495K_60_DiceNet.hdf5\n",
      "Epoch 6/60\n",
      " - 2s - loss: 0.0045 - val_loss: 0.1967\n",
      "\n",
      "Epoch 00006: val_loss improved from 0.20530 to 0.19666, saving model to ./trained_models/unet_div8_495K_60_DiceNet.hdf5\n",
      "Epoch 7/60\n",
      " - 2s - loss: 0.0038 - val_loss: 0.1868\n",
      "\n",
      "Epoch 00007: val_loss improved from 0.19666 to 0.18677, saving model to ./trained_models/unet_div8_495K_60_DiceNet.hdf5\n",
      "Epoch 8/60\n",
      " - 2s - loss: 0.0032 - val_loss: 0.1730\n",
      "\n",
      "Epoch 00008: val_loss improved from 0.18677 to 0.17297, saving model to ./trained_models/unet_div8_495K_60_DiceNet.hdf5\n",
      "Epoch 9/60\n",
      " - 2s - loss: 0.0029 - val_loss: 0.1557\n",
      "\n",
      "Epoch 00009: val_loss improved from 0.17297 to 0.15572, saving model to ./trained_models/unet_div8_495K_60_DiceNet.hdf5\n",
      "Epoch 10/60\n",
      " - 2s - loss: 0.0023 - val_loss: 0.1343\n",
      "\n",
      "Epoch 00010: val_loss improved from 0.15572 to 0.13428, saving model to ./trained_models/unet_div8_495K_60_DiceNet.hdf5\n",
      "Epoch 11/60\n",
      " - 2s - loss: 0.0019 - val_loss: 0.1101\n",
      "\n",
      "Epoch 00011: val_loss improved from 0.13428 to 0.11009, saving model to ./trained_models/unet_div8_495K_60_DiceNet.hdf5\n",
      "Epoch 12/60\n",
      " - 2s - loss: 0.0016 - val_loss: 0.0867\n",
      "\n",
      "Epoch 00012: val_loss improved from 0.11009 to 0.08667, saving model to ./trained_models/unet_div8_495K_60_DiceNet.hdf5\n",
      "Epoch 13/60\n",
      " - 2s - loss: 0.0017 - val_loss: 0.0677\n",
      "\n",
      "Epoch 00013: val_loss improved from 0.08667 to 0.06772, saving model to ./trained_models/unet_div8_495K_60_DiceNet.hdf5\n",
      "Epoch 14/60\n",
      " - 2s - loss: 0.0012 - val_loss: 0.0541\n",
      "\n",
      "Epoch 00014: val_loss improved from 0.06772 to 0.05408, saving model to ./trained_models/unet_div8_495K_60_DiceNet.hdf5\n",
      "Epoch 15/60\n",
      " - 2s - loss: 0.0011 - val_loss: 0.0438\n",
      "\n",
      "Epoch 00015: val_loss improved from 0.05408 to 0.04380, saving model to ./trained_models/unet_div8_495K_60_DiceNet.hdf5\n",
      "Epoch 16/60\n",
      " - 2s - loss: 0.0011 - val_loss: 0.0354\n",
      "\n",
      "Epoch 00016: val_loss improved from 0.04380 to 0.03544, saving model to ./trained_models/unet_div8_495K_60_DiceNet.hdf5\n",
      "Epoch 17/60\n",
      " - 2s - loss: 0.0010 - val_loss: 0.0284\n",
      "\n",
      "Epoch 00017: val_loss improved from 0.03544 to 0.02838, saving model to ./trained_models/unet_div8_495K_60_DiceNet.hdf5\n",
      "Epoch 18/60\n",
      " - 2s - loss: 9.0727e-04 - val_loss: 0.0229\n",
      "\n",
      "Epoch 00018: val_loss improved from 0.02838 to 0.02287, saving model to ./trained_models/unet_div8_495K_60_DiceNet.hdf5\n",
      "Epoch 19/60\n",
      " - 2s - loss: 9.1996e-04 - val_loss: 0.0186\n",
      "\n",
      "Epoch 00019: val_loss improved from 0.02287 to 0.01855, saving model to ./trained_models/unet_div8_495K_60_DiceNet.hdf5\n",
      "Epoch 20/60\n",
      " - 2s - loss: 0.0014 - val_loss: 0.0150\n",
      "\n",
      "Epoch 00020: val_loss improved from 0.01855 to 0.01505, saving model to ./trained_models/unet_div8_495K_60_DiceNet.hdf5\n",
      "Epoch 21/60\n",
      " - 2s - loss: 0.0012 - val_loss: 0.0124\n",
      "\n",
      "Epoch 00021: val_loss improved from 0.01505 to 0.01245, saving model to ./trained_models/unet_div8_495K_60_DiceNet.hdf5\n",
      "Epoch 22/60\n"
     ]
    },
    {
     "name": "stdout",
     "output_type": "stream",
     "text": [
      " - 2s - loss: 0.0014 - val_loss: 0.0109\n",
      "\n",
      "Epoch 00022: val_loss improved from 0.01245 to 0.01087, saving model to ./trained_models/unet_div8_495K_60_DiceNet.hdf5\n",
      "Epoch 23/60\n",
      " - 2s - loss: 0.0016 - val_loss: 0.0093\n",
      "\n",
      "Epoch 00023: val_loss improved from 0.01087 to 0.00933, saving model to ./trained_models/unet_div8_495K_60_DiceNet.hdf5\n",
      "Epoch 24/60\n",
      " - 2s - loss: 0.0016 - val_loss: 0.0085\n",
      "\n",
      "Epoch 00024: val_loss improved from 0.00933 to 0.00847, saving model to ./trained_models/unet_div8_495K_60_DiceNet.hdf5\n",
      "Epoch 25/60\n",
      " - 2s - loss: 8.5514e-04 - val_loss: 0.0077\n",
      "\n",
      "Epoch 00025: val_loss improved from 0.00847 to 0.00767, saving model to ./trained_models/unet_div8_495K_60_DiceNet.hdf5\n",
      "Epoch 26/60\n",
      " - 2s - loss: 8.7425e-04 - val_loss: 0.0069\n",
      "\n",
      "Epoch 00026: val_loss improved from 0.00767 to 0.00692, saving model to ./trained_models/unet_div8_495K_60_DiceNet.hdf5\n",
      "Epoch 27/60\n",
      " - 2s - loss: 9.5066e-04 - val_loss: 0.0063\n",
      "\n",
      "Epoch 00027: val_loss improved from 0.00692 to 0.00625, saving model to ./trained_models/unet_div8_495K_60_DiceNet.hdf5\n",
      "Epoch 28/60\n",
      " - 2s - loss: 0.0011 - val_loss: 0.0056\n",
      "\n",
      "Epoch 00028: val_loss improved from 0.00625 to 0.00558, saving model to ./trained_models/unet_div8_495K_60_DiceNet.hdf5\n",
      "Epoch 29/60\n",
      " - 2s - loss: 9.6131e-04 - val_loss: 0.0050\n",
      "\n",
      "Epoch 00029: val_loss improved from 0.00558 to 0.00503, saving model to ./trained_models/unet_div8_495K_60_DiceNet.hdf5\n",
      "Epoch 30/60\n",
      " - 2s - loss: 8.3128e-04 - val_loss: 0.0046\n",
      "\n",
      "Epoch 00030: val_loss improved from 0.00503 to 0.00456, saving model to ./trained_models/unet_div8_495K_60_DiceNet.hdf5\n",
      "Epoch 31/60\n",
      " - 2s - loss: 0.0010 - val_loss: 0.0042\n",
      "\n",
      "Epoch 00031: val_loss improved from 0.00456 to 0.00420, saving model to ./trained_models/unet_div8_495K_60_DiceNet.hdf5\n",
      "Epoch 32/60\n",
      " - 2s - loss: 9.1081e-04 - val_loss: 0.0039\n",
      "\n",
      "Epoch 00032: val_loss improved from 0.00420 to 0.00386, saving model to ./trained_models/unet_div8_495K_60_DiceNet.hdf5\n",
      "Epoch 33/60\n",
      " - 2s - loss: 6.7867e-04 - val_loss: 0.0036\n",
      "\n",
      "Epoch 00033: val_loss improved from 0.00386 to 0.00356, saving model to ./trained_models/unet_div8_495K_60_DiceNet.hdf5\n",
      "Epoch 34/60\n",
      " - 2s - loss: 9.8460e-04 - val_loss: 0.0034\n",
      "\n",
      "Epoch 00034: val_loss improved from 0.00356 to 0.00340, saving model to ./trained_models/unet_div8_495K_60_DiceNet.hdf5\n",
      "Epoch 35/60\n",
      " - 2s - loss: 7.4409e-04 - val_loss: 0.0033\n",
      "\n",
      "Epoch 00035: val_loss improved from 0.00340 to 0.00330, saving model to ./trained_models/unet_div8_495K_60_DiceNet.hdf5\n",
      "Epoch 36/60\n",
      " - 2s - loss: 6.9247e-04 - val_loss: 0.0031\n",
      "\n",
      "Epoch 00036: val_loss improved from 0.00330 to 0.00310, saving model to ./trained_models/unet_div8_495K_60_DiceNet.hdf5\n",
      "Epoch 37/60\n",
      " - 2s - loss: 7.7366e-04 - val_loss: 0.0029\n",
      "\n",
      "Epoch 00037: val_loss improved from 0.00310 to 0.00286, saving model to ./trained_models/unet_div8_495K_60_DiceNet.hdf5\n",
      "Epoch 38/60\n",
      " - 2s - loss: 0.0012 - val_loss: 0.0025\n",
      "\n",
      "Epoch 00038: val_loss improved from 0.00286 to 0.00250, saving model to ./trained_models/unet_div8_495K_60_DiceNet.hdf5\n",
      "Epoch 39/60\n",
      " - 2s - loss: 6.0480e-04 - val_loss: 0.0022\n",
      "\n",
      "Epoch 00039: val_loss improved from 0.00250 to 0.00219, saving model to ./trained_models/unet_div8_495K_60_DiceNet.hdf5\n",
      "Epoch 40/60\n",
      " - 2s - loss: 8.4454e-04 - val_loss: 0.0020\n",
      "\n",
      "Epoch 00040: val_loss improved from 0.00219 to 0.00202, saving model to ./trained_models/unet_div8_495K_60_DiceNet.hdf5\n",
      "Epoch 41/60\n",
      " - 2s - loss: 0.0013 - val_loss: 0.0020\n",
      "\n",
      "Epoch 00041: val_loss improved from 0.00202 to 0.00201, saving model to ./trained_models/unet_div8_495K_60_DiceNet.hdf5\n",
      "Epoch 42/60\n",
      " - 2s - loss: 7.2819e-04 - val_loss: 0.0020\n",
      "\n",
      "Epoch 00042: val_loss did not improve from 0.00201\n",
      "Epoch 43/60\n",
      " - 2s - loss: 8.9163e-04 - val_loss: 0.0020\n",
      "\n",
      "Epoch 00043: val_loss did not improve from 0.00201\n",
      "Epoch 44/60\n",
      " - 2s - loss: 8.5664e-04 - val_loss: 0.0019\n",
      "\n",
      "Epoch 00044: val_loss improved from 0.00201 to 0.00193, saving model to ./trained_models/unet_div8_495K_60_DiceNet.hdf5\n",
      "Epoch 45/60\n",
      " - 2s - loss: 0.0010 - val_loss: 0.0017\n",
      "\n",
      "Epoch 00045: val_loss improved from 0.00193 to 0.00174, saving model to ./trained_models/unet_div8_495K_60_DiceNet.hdf5\n",
      "Epoch 46/60\n",
      " - 2s - loss: 6.3163e-04 - val_loss: 0.0016\n",
      "\n",
      "Epoch 00046: val_loss improved from 0.00174 to 0.00157, saving model to ./trained_models/unet_div8_495K_60_DiceNet.hdf5\n",
      "Epoch 47/60\n",
      " - 2s - loss: 6.6939e-04 - val_loss: 0.0015\n",
      "\n",
      "Epoch 00047: val_loss improved from 0.00157 to 0.00150, saving model to ./trained_models/unet_div8_495K_60_DiceNet.hdf5\n",
      "Epoch 48/60\n",
      " - 2s - loss: 0.0010 - val_loss: 0.0015\n",
      "\n",
      "Epoch 00048: val_loss improved from 0.00150 to 0.00145, saving model to ./trained_models/unet_div8_495K_60_DiceNet.hdf5\n",
      "Epoch 49/60\n",
      " - 2s - loss: 7.9306e-04 - val_loss: 0.0015\n",
      "\n",
      "Epoch 00049: val_loss did not improve from 0.00145\n",
      "Epoch 50/60\n",
      " - 2s - loss: 7.2945e-04 - val_loss: 0.0016\n",
      "\n",
      "Epoch 00050: val_loss did not improve from 0.00145\n",
      "Epoch 51/60\n",
      " - 2s - loss: 9.5413e-04 - val_loss: 0.0017\n",
      "\n",
      "Epoch 00051: val_loss did not improve from 0.00145\n",
      "Epoch 52/60\n",
      " - 2s - loss: 7.8547e-04 - val_loss: 0.0017\n",
      "\n",
      "Epoch 00052: val_loss did not improve from 0.00145\n",
      "Epoch 53/60\n",
      " - 2s - loss: 9.7176e-04 - val_loss: 0.0016\n",
      "\n",
      "Epoch 00053: val_loss did not improve from 0.00145\n",
      "Epoch 54/60\n",
      " - 2s - loss: 7.4229e-04 - val_loss: 0.0015\n",
      "\n",
      "Epoch 00054: val_loss did not improve from 0.00145\n",
      "Epoch 55/60\n",
      " - 2s - loss: 5.6877e-04 - val_loss: 0.0015\n",
      "\n",
      "Epoch 00055: val_loss did not improve from 0.00145\n",
      "Epoch 56/60\n",
      " - 2s - loss: 7.5229e-04 - val_loss: 0.0016\n",
      "\n",
      "Epoch 00056: val_loss did not improve from 0.00145\n",
      "Epoch 57/60\n",
      " - 2s - loss: 5.7950e-04 - val_loss: 0.0016\n",
      "\n",
      "Epoch 00057: val_loss did not improve from 0.00145\n",
      "Epoch 58/60\n",
      " - 2s - loss: 6.7873e-04 - val_loss: 0.0016\n",
      "\n",
      "Epoch 00058: val_loss did not improve from 0.00145\n",
      "Epoch 59/60\n",
      " - 2s - loss: 6.1600e-04 - val_loss: 0.0015\n",
      "\n",
      "Epoch 00059: val_loss did not improve from 0.00145\n",
      "Epoch 60/60\n",
      " - 2s - loss: 8.2250e-04 - val_loss: 0.0014\n",
      "\n",
      "Epoch 00060: val_loss improved from 0.00145 to 0.00136, saving model to ./trained_models/unet_div8_495K_60_DiceNet.hdf5\n",
      "False\n",
      "False\n",
      "START EVALUATION......:\n",
      "(10, 400, 400, 28)\n",
      "Loading model: ./trained_models/unet_div8_495K_60.hdf5\n"
     ]
    },
    {
     "name": "stderr",
     "output_type": "stream",
     "text": [
      "\n",
      "  0%|          | 0/10 [00:00<?, ?it/s]\u001b[A\n",
      " 10%|█         | 1/10 [00:02<00:22,  2.47s/it]\u001b[A"
     ]
    },
    {
     "name": "stdout",
     "output_type": "stream",
     "text": [
      "\n",
      " Time needed for MC Dropout-based Uncertainty Estimation   2.46104097366333\n"
     ]
    },
    {
     "name": "stderr",
     "output_type": "stream",
     "text": [
      "\n",
      " 20%|██        | 2/10 [00:03<00:17,  2.15s/it]\u001b[A"
     ]
    },
    {
     "name": "stdout",
     "output_type": "stream",
     "text": [
      "\n",
      " Time needed for MC Dropout-based Uncertainty Estimation   1.3926935195922852\n"
     ]
    },
    {
     "name": "stderr",
     "output_type": "stream",
     "text": [
      "\n",
      " 30%|███       | 3/10 [00:05<00:13,  1.93s/it]\u001b[A"
     ]
    },
    {
     "name": "stdout",
     "output_type": "stream",
     "text": [
      "\n",
      " Time needed for MC Dropout-based Uncertainty Estimation   1.403982400894165\n"
     ]
    },
    {
     "name": "stderr",
     "output_type": "stream",
     "text": [
      "\n",
      " 40%|████      | 4/10 [00:06<00:10,  1.77s/it]\u001b[A"
     ]
    },
    {
     "name": "stdout",
     "output_type": "stream",
     "text": [
      "\n",
      " Time needed for MC Dropout-based Uncertainty Estimation   1.3896024227142334\n"
     ]
    },
    {
     "name": "stderr",
     "output_type": "stream",
     "text": [
      "\n",
      " 50%|█████     | 5/10 [00:08<00:08,  1.66s/it]\u001b[A"
     ]
    },
    {
     "name": "stdout",
     "output_type": "stream",
     "text": [
      "\n",
      " Time needed for MC Dropout-based Uncertainty Estimation   1.4090237617492676\n"
     ]
    },
    {
     "name": "stderr",
     "output_type": "stream",
     "text": [
      "\n",
      " 60%|██████    | 6/10 [00:09<00:06,  1.58s/it]\u001b[A"
     ]
    },
    {
     "name": "stdout",
     "output_type": "stream",
     "text": [
      "\n",
      " Time needed for MC Dropout-based Uncertainty Estimation   1.386650800704956\n"
     ]
    },
    {
     "name": "stderr",
     "output_type": "stream",
     "text": [
      "\n",
      " 70%|███████   | 7/10 [00:10<00:04,  1.53s/it]\u001b[A"
     ]
    },
    {
     "name": "stdout",
     "output_type": "stream",
     "text": [
      "\n",
      " Time needed for MC Dropout-based Uncertainty Estimation   1.3958103656768799\n"
     ]
    },
    {
     "name": "stderr",
     "output_type": "stream",
     "text": [
      "\n",
      " 80%|████████  | 8/10 [00:12<00:02,  1.49s/it]\u001b[A"
     ]
    },
    {
     "name": "stdout",
     "output_type": "stream",
     "text": [
      "\n",
      " Time needed for MC Dropout-based Uncertainty Estimation   1.3826289176940918\n"
     ]
    },
    {
     "name": "stderr",
     "output_type": "stream",
     "text": [
      "\n",
      " 90%|█████████ | 9/10 [00:13<00:01,  1.47s/it]\u001b[A"
     ]
    },
    {
     "name": "stdout",
     "output_type": "stream",
     "text": [
      "\n",
      " Time needed for MC Dropout-based Uncertainty Estimation   1.404982089996338\n"
     ]
    },
    {
     "name": "stderr",
     "output_type": "stream",
     "text": [
      "\n",
      "100%|██████████| 10/10 [00:15<00:00,  1.45s/it]\u001b[A"
     ]
    },
    {
     "name": "stdout",
     "output_type": "stream",
     "text": [
      "\n",
      " Time needed for MC Dropout-based Uncertainty Estimation   1.39058518409729\n",
      "Loading model: ./trained_models/unet_div8_495K_60_DiceNet.hdf5\n",
      "START EVALUATION......:\n",
      "(20, 400, 400, 28)\n",
      "Loading model: ./trained_models/unet_div8_495K_60.hdf5\n"
     ]
    },
    {
     "name": "stderr",
     "output_type": "stream",
     "text": [
      "\n",
      "  0%|          | 0/20 [00:00<?, ?it/s]\u001b[A\n",
      "  5%|▌         | 1/20 [00:04<01:24,  4.47s/it]\u001b[A"
     ]
    },
    {
     "name": "stdout",
     "output_type": "stream",
     "text": [
      "\n",
      " Time needed for MC Dropout-based Uncertainty Estimation   4.464380979537964\n"
     ]
    },
    {
     "name": "stderr",
     "output_type": "stream",
     "text": [
      "\n",
      " 10%|█         | 2/20 [00:07<01:10,  3.93s/it]\u001b[A"
     ]
    },
    {
     "name": "stdout",
     "output_type": "stream",
     "text": [
      "\n",
      " Time needed for MC Dropout-based Uncertainty Estimation   2.6556389331817627\n"
     ]
    },
    {
     "name": "stderr",
     "output_type": "stream",
     "text": [
      "\n",
      " 15%|█▌        | 3/20 [00:09<01:00,  3.55s/it]\u001b[A"
     ]
    },
    {
     "name": "stdout",
     "output_type": "stream",
     "text": [
      "\n",
      " Time needed for MC Dropout-based Uncertainty Estimation   2.63090443611145\n"
     ]
    },
    {
     "name": "stderr",
     "output_type": "stream",
     "text": [
      "\n",
      " 20%|██        | 4/20 [00:12<00:52,  3.28s/it]\u001b[A"
     ]
    },
    {
     "name": "stdout",
     "output_type": "stream",
     "text": [
      "\n",
      " Time needed for MC Dropout-based Uncertainty Estimation   2.6450345516204834\n"
     ]
    },
    {
     "name": "stderr",
     "output_type": "stream",
     "text": [
      "\n",
      " 25%|██▌       | 5/20 [00:15<00:46,  3.10s/it]\u001b[A"
     ]
    },
    {
     "name": "stdout",
     "output_type": "stream",
     "text": [
      "\n",
      " Time needed for MC Dropout-based Uncertainty Estimation   2.678344488143921\n"
     ]
    },
    {
     "name": "stderr",
     "output_type": "stream",
     "text": [
      "\n",
      " 30%|███       | 6/20 [00:17<00:41,  2.97s/it]\u001b[A"
     ]
    },
    {
     "name": "stdout",
     "output_type": "stream",
     "text": [
      "\n",
      " Time needed for MC Dropout-based Uncertainty Estimation   2.6428139209747314\n"
     ]
    },
    {
     "name": "stderr",
     "output_type": "stream",
     "text": [
      "\n",
      " 35%|███▌      | 7/20 [00:20<00:37,  2.88s/it]\u001b[A"
     ]
    },
    {
     "name": "stdout",
     "output_type": "stream",
     "text": [
      "\n",
      " Time needed for MC Dropout-based Uncertainty Estimation   2.6629438400268555\n"
     ]
    },
    {
     "name": "stderr",
     "output_type": "stream",
     "text": [
      "\n",
      " 40%|████      | 8/20 [00:23<00:33,  2.82s/it]\u001b[A"
     ]
    },
    {
     "name": "stdout",
     "output_type": "stream",
     "text": [
      "\n",
      " Time needed for MC Dropout-based Uncertainty Estimation   2.661036729812622\n"
     ]
    },
    {
     "name": "stderr",
     "output_type": "stream",
     "text": [
      "\n",
      " 45%|████▌     | 9/20 [00:25<00:30,  2.77s/it]\u001b[A"
     ]
    },
    {
     "name": "stdout",
     "output_type": "stream",
     "text": [
      "\n",
      " Time needed for MC Dropout-based Uncertainty Estimation   2.6532509326934814\n"
     ]
    },
    {
     "name": "stderr",
     "output_type": "stream",
     "text": [
      "\n",
      " 50%|█████     | 10/20 [00:28<00:27,  2.75s/it]\u001b[A"
     ]
    },
    {
     "name": "stdout",
     "output_type": "stream",
     "text": [
      "\n",
      " Time needed for MC Dropout-based Uncertainty Estimation   2.6692214012145996\n"
     ]
    },
    {
     "name": "stderr",
     "output_type": "stream",
     "text": [
      "\n",
      " 55%|█████▌    | 11/20 [00:31<00:24,  2.72s/it]\u001b[A"
     ]
    },
    {
     "name": "stdout",
     "output_type": "stream",
     "text": [
      "\n",
      " Time needed for MC Dropout-based Uncertainty Estimation   2.6465325355529785\n"
     ]
    },
    {
     "name": "stderr",
     "output_type": "stream",
     "text": [
      "\n",
      " 60%|██████    | 12/20 [00:33<00:21,  2.71s/it]\u001b[A"
     ]
    },
    {
     "name": "stdout",
     "output_type": "stream",
     "text": [
      "\n",
      " Time needed for MC Dropout-based Uncertainty Estimation   2.6822941303253174\n"
     ]
    },
    {
     "name": "stderr",
     "output_type": "stream",
     "text": [
      "\n",
      " 65%|██████▌   | 13/20 [00:36<00:18,  2.70s/it]\u001b[A"
     ]
    },
    {
     "name": "stdout",
     "output_type": "stream",
     "text": [
      "\n",
      " Time needed for MC Dropout-based Uncertainty Estimation   2.6555891036987305\n"
     ]
    },
    {
     "name": "stderr",
     "output_type": "stream",
     "text": [
      "\n",
      " 70%|███████   | 14/20 [00:39<00:16,  2.69s/it]\u001b[A"
     ]
    },
    {
     "name": "stdout",
     "output_type": "stream",
     "text": [
      "\n",
      " Time needed for MC Dropout-based Uncertainty Estimation   2.648466110229492\n"
     ]
    },
    {
     "name": "stderr",
     "output_type": "stream",
     "text": [
      "\n",
      " 75%|███████▌  | 15/20 [00:41<00:13,  2.69s/it]\u001b[A"
     ]
    },
    {
     "name": "stdout",
     "output_type": "stream",
     "text": [
      "\n",
      " Time needed for MC Dropout-based Uncertainty Estimation   2.6691668033599854\n"
     ]
    },
    {
     "name": "stderr",
     "output_type": "stream",
     "text": [
      "\n",
      " 80%|████████  | 16/20 [00:44<00:10,  2.68s/it]\u001b[A"
     ]
    },
    {
     "name": "stdout",
     "output_type": "stream",
     "text": [
      "\n",
      " Time needed for MC Dropout-based Uncertainty Estimation   2.659249782562256\n"
     ]
    },
    {
     "name": "stderr",
     "output_type": "stream",
     "text": [
      "\n",
      " 85%|████████▌ | 17/20 [00:47<00:07,  2.66s/it]\u001b[A"
     ]
    },
    {
     "name": "stdout",
     "output_type": "stream",
     "text": [
      "\n",
      " Time needed for MC Dropout-based Uncertainty Estimation   2.599663496017456\n"
     ]
    },
    {
     "name": "stderr",
     "output_type": "stream",
     "text": [
      "\n",
      " 90%|█████████ | 18/20 [00:49<00:05,  2.65s/it]\u001b[A"
     ]
    },
    {
     "name": "stdout",
     "output_type": "stream",
     "text": [
      "\n",
      " Time needed for MC Dropout-based Uncertainty Estimation   2.6042556762695312\n"
     ]
    },
    {
     "name": "stderr",
     "output_type": "stream",
     "text": [
      "\n",
      " 95%|█████████▌| 19/20 [00:52<00:02,  2.64s/it]\u001b[A"
     ]
    },
    {
     "name": "stdout",
     "output_type": "stream",
     "text": [
      "\n",
      " Time needed for MC Dropout-based Uncertainty Estimation   2.625149965286255\n"
     ]
    },
    {
     "name": "stderr",
     "output_type": "stream",
     "text": [
      "\n",
      "100%|██████████| 20/20 [00:55<00:00,  2.65s/it]\u001b[A"
     ]
    },
    {
     "name": "stdout",
     "output_type": "stream",
     "text": [
      "\n",
      " Time needed for MC Dropout-based Uncertainty Estimation   2.6473782062530518\n",
      "START TRAINING......:\n",
      "Training with 60 images\n",
      "Validating with 10 images\n",
      "Training Unet-mcdropout\n",
      "(60, 400, 400, 28)\n",
      "Epoch 1/80\n",
      " - 7s - loss: 0.8913 - accuracy: 0.1662 - val_loss: 0.6506 - val_accuracy: 0.7753\n",
      "\n",
      "Epoch 00001: val_loss improved from inf to 0.65064, saving model to ./trained_models/unet_div8_495K_60.hdf5\n",
      "Epoch 2/80\n",
      " - 4s - loss: 0.6763 - accuracy: 0.7707 - val_loss: 0.6119 - val_accuracy: 0.8468\n",
      "\n",
      "Epoch 00002: val_loss improved from 0.65064 to 0.61186, saving model to ./trained_models/unet_div8_495K_60.hdf5\n",
      "Epoch 3/80\n",
      " - 9s - loss: 0.6026 - accuracy: 0.8800 - val_loss: 0.6070 - val_accuracy: 0.8741\n",
      "\n",
      "Epoch 00003: val_loss improved from 0.61186 to 0.60705, saving model to ./trained_models/unet_div8_495K_60.hdf5\n",
      "Epoch 4/80\n",
      " - 9s - loss: 0.5705 - accuracy: 0.8969 - val_loss: 0.6051 - val_accuracy: 0.8835\n",
      "\n",
      "Epoch 00004: val_loss improved from 0.60705 to 0.60505, saving model to ./trained_models/unet_div8_495K_60.hdf5\n",
      "Epoch 5/80\n",
      " - 8s - loss: 0.5306 - accuracy: 0.8983 - val_loss: 0.5607 - val_accuracy: 0.8847\n",
      "\n",
      "Epoch 00005: val_loss improved from 0.60505 to 0.56072, saving model to ./trained_models/unet_div8_495K_60.hdf5\n",
      "Epoch 6/80\n",
      " - 9s - loss: 0.4960 - accuracy: 0.8988 - val_loss: 0.5834 - val_accuracy: 0.8843\n",
      "\n",
      "Epoch 00006: val_loss did not improve from 0.56072\n",
      "Epoch 7/80\n",
      " - 7s - loss: 0.4726 - accuracy: 0.8994 - val_loss: 0.5478 - val_accuracy: 0.8847\n",
      "\n",
      "Epoch 00007: val_loss improved from 0.56072 to 0.54780, saving model to ./trained_models/unet_div8_495K_60.hdf5\n",
      "Epoch 8/80\n",
      " - 9s - loss: 0.4532 - accuracy: 0.8991 - val_loss: 0.5180 - val_accuracy: 0.8848\n",
      "\n",
      "Epoch 00008: val_loss improved from 0.54780 to 0.51797, saving model to ./trained_models/unet_div8_495K_60.hdf5\n",
      "Epoch 9/80\n",
      " - 9s - loss: 0.4369 - accuracy: 0.8991 - val_loss: 0.5013 - val_accuracy: 0.8848\n",
      "\n",
      "Epoch 00009: val_loss improved from 0.51797 to 0.50130, saving model to ./trained_models/unet_div8_495K_60.hdf5\n",
      "Epoch 10/80\n",
      " - 7s - loss: 0.4225 - accuracy: 0.8995 - val_loss: 0.4787 - val_accuracy: 0.8848\n",
      "\n",
      "Epoch 00010: val_loss improved from 0.50130 to 0.47872, saving model to ./trained_models/unet_div8_495K_60.hdf5\n",
      "Epoch 11/80\n",
      " - 7s - loss: 0.4075 - accuracy: 0.8993 - val_loss: 0.4595 - val_accuracy: 0.8848\n",
      "\n",
      "Epoch 00011: val_loss improved from 0.47872 to 0.45951, saving model to ./trained_models/unet_div8_495K_60.hdf5\n",
      "Epoch 12/80\n",
      " - 9s - loss: 0.3968 - accuracy: 0.8991 - val_loss: 0.4468 - val_accuracy: 0.8848\n",
      "\n",
      "Epoch 00012: val_loss improved from 0.45951 to 0.44675, saving model to ./trained_models/unet_div8_495K_60.hdf5\n",
      "Epoch 13/80\n",
      " - 8s - loss: 0.3828 - accuracy: 0.8993 - val_loss: 0.4196 - val_accuracy: 0.8848\n",
      "\n",
      "Epoch 00013: val_loss improved from 0.44675 to 0.41956, saving model to ./trained_models/unet_div8_495K_60.hdf5\n",
      "Epoch 14/80\n",
      " - 8s - loss: 0.3685 - accuracy: 0.8993 - val_loss: 0.4399 - val_accuracy: 0.8848\n",
      "\n",
      "Epoch 00014: val_loss did not improve from 0.41956\n",
      "Epoch 15/80\n",
      " - 9s - loss: 0.3494 - accuracy: 0.8992 - val_loss: 0.5336 - val_accuracy: 0.8848\n",
      "\n",
      "Epoch 00015: val_loss did not improve from 0.41956\n",
      "Epoch 16/80\n",
      " - 10s - loss: 0.3386 - accuracy: 0.8990 - val_loss: 0.5464 - val_accuracy: 0.8848\n",
      "\n",
      "Epoch 00016: val_loss did not improve from 0.41956\n",
      "Epoch 17/80\n",
      " - 8s - loss: 0.3262 - accuracy: 0.8993 - val_loss: 0.5298 - val_accuracy: 0.8848\n",
      "\n",
      "Epoch 00017: val_loss did not improve from 0.41956\n",
      "Epoch 18/80\n",
      " - 8s - loss: 0.3140 - accuracy: 0.8993 - val_loss: 0.4930 - val_accuracy: 0.8848\n",
      "\n",
      "Epoch 00018: val_loss did not improve from 0.41956\n",
      "Epoch 19/80\n",
      " - 8s - loss: 0.3056 - accuracy: 0.8992 - val_loss: 0.4178 - val_accuracy: 0.8849\n",
      "\n",
      "Epoch 00019: val_loss improved from 0.41956 to 0.41780, saving model to ./trained_models/unet_div8_495K_60.hdf5\n",
      "Epoch 20/80\n",
      " - 9s - loss: 0.2955 - accuracy: 0.8991 - val_loss: 0.4277 - val_accuracy: 0.8848\n",
      "\n",
      "Epoch 00020: val_loss did not improve from 0.41780\n",
      "Epoch 21/80\n",
      " - 8s - loss: 0.2877 - accuracy: 0.8992 - val_loss: 0.3977 - val_accuracy: 0.8859\n",
      "\n",
      "Epoch 00021: val_loss improved from 0.41780 to 0.39771, saving model to ./trained_models/unet_div8_495K_60.hdf5\n",
      "Epoch 22/80\n",
      " - 8s - loss: 0.2819 - accuracy: 0.8994 - val_loss: 0.3438 - val_accuracy: 0.8862\n",
      "\n",
      "Epoch 00022: val_loss improved from 0.39771 to 0.34380, saving model to ./trained_models/unet_div8_495K_60.hdf5\n",
      "Epoch 23/80\n",
      " - 7s - loss: 0.2720 - accuracy: 0.8994 - val_loss: 0.3498 - val_accuracy: 0.8886\n",
      "\n",
      "Epoch 00023: val_loss did not improve from 0.34380\n",
      "Epoch 24/80\n",
      " - 9s - loss: 0.2640 - accuracy: 0.9010 - val_loss: 0.3450 - val_accuracy: 0.8862\n",
      "\n",
      "Epoch 00024: val_loss did not improve from 0.34380\n",
      "Epoch 25/80\n",
      " - 9s - loss: 0.2632 - accuracy: 0.8994 - val_loss: 0.3001 - val_accuracy: 0.8896\n",
      "\n",
      "Epoch 00025: val_loss improved from 0.34380 to 0.30013, saving model to ./trained_models/unet_div8_495K_60.hdf5\n",
      "Epoch 26/80\n",
      " - 7s - loss: 0.2598 - accuracy: 0.8988 - val_loss: 0.2853 - val_accuracy: 0.8922\n",
      "\n",
      "Epoch 00026: val_loss improved from 0.30013 to 0.28528, saving model to ./trained_models/unet_div8_495K_60.hdf5\n",
      "Epoch 27/80\n",
      " - 8s - loss: 0.2518 - accuracy: 0.9001 - val_loss: 0.2843 - val_accuracy: 0.9054\n",
      "\n",
      "Epoch 00027: val_loss improved from 0.28528 to 0.28431, saving model to ./trained_models/unet_div8_495K_60.hdf5\n",
      "Epoch 28/80\n",
      " - 8s - loss: 0.2523 - accuracy: 0.8997 - val_loss: 0.2754 - val_accuracy: 0.8919\n",
      "\n",
      "Epoch 00028: val_loss improved from 0.28431 to 0.27538, saving model to ./trained_models/unet_div8_495K_60.hdf5\n",
      "Epoch 29/80\n",
      " - 8s - loss: 0.2428 - accuracy: 0.9026 - val_loss: 0.2762 - val_accuracy: 0.9175\n",
      "\n",
      "Epoch 00029: val_loss did not improve from 0.27538\n",
      "Epoch 30/80\n",
      " - 8s - loss: 0.2363 - accuracy: 0.9035 - val_loss: 0.2494 - val_accuracy: 0.9069\n",
      "\n",
      "Epoch 00030: val_loss improved from 0.27538 to 0.24936, saving model to ./trained_models/unet_div8_495K_60.hdf5\n",
      "Epoch 31/80\n",
      " - 9s - loss: 0.2338 - accuracy: 0.9048 - val_loss: 0.2671 - val_accuracy: 0.9028\n",
      "\n",
      "Epoch 00031: val_loss did not improve from 0.24936\n",
      "Epoch 32/80\n",
      " - 8s - loss: 0.2363 - accuracy: 0.9002 - val_loss: 0.2391 - val_accuracy: 0.9033\n",
      "\n",
      "Epoch 00032: val_loss improved from 0.24936 to 0.23914, saving model to ./trained_models/unet_div8_495K_60.hdf5\n",
      "Epoch 33/80\n",
      " - 9s - loss: 0.2290 - accuracy: 0.9030 - val_loss: 0.2627 - val_accuracy: 0.8973\n",
      "\n",
      "Epoch 00033: val_loss did not improve from 0.23914\n",
      "Epoch 34/80\n",
      " - 8s - loss: 0.2257 - accuracy: 0.9034 - val_loss: 0.2513 - val_accuracy: 0.9084\n",
      "\n",
      "Epoch 00034: val_loss did not improve from 0.23914\n",
      "Epoch 35/80\n",
      " - 8s - loss: 0.2245 - accuracy: 0.9034 - val_loss: 0.2449 - val_accuracy: 0.9080\n",
      "\n",
      "Epoch 00035: val_loss did not improve from 0.23914\n",
      "Epoch 36/80\n",
      " - 9s - loss: 0.2235 - accuracy: 0.9054 - val_loss: 0.2393 - val_accuracy: 0.9179\n",
      "\n",
      "Epoch 00036: val_loss did not improve from 0.23914\n",
      "Epoch 37/80\n",
      " - 8s - loss: 0.2194 - accuracy: 0.9038 - val_loss: 0.2179 - val_accuracy: 0.9230\n",
      "\n",
      "Epoch 00037: val_loss improved from 0.23914 to 0.21792, saving model to ./trained_models/unet_div8_495K_60.hdf5\n",
      "Epoch 38/80\n",
      " - 8s - loss: 0.2195 - accuracy: 0.9020 - val_loss: 0.2220 - val_accuracy: 0.9151\n",
      "\n",
      "Epoch 00038: val_loss did not improve from 0.21792\n",
      "Epoch 39/80\n",
      " - 8s - loss: 0.2173 - accuracy: 0.9039 - val_loss: 0.2772 - val_accuracy: 0.8934\n",
      "\n",
      "Epoch 00039: val_loss did not improve from 0.21792\n",
      "Epoch 40/80\n",
      " - 9s - loss: 0.2136 - accuracy: 0.9030 - val_loss: 0.2341 - val_accuracy: 0.9129\n",
      "\n",
      "Epoch 00040: val_loss did not improve from 0.21792\n",
      "Epoch 41/80\n",
      " - 7s - loss: 0.2090 - accuracy: 0.9056 - val_loss: 0.2252 - val_accuracy: 0.9164\n",
      "\n",
      "Epoch 00041: val_loss did not improve from 0.21792\n",
      "Epoch 42/80\n",
      " - 10s - loss: 0.2071 - accuracy: 0.9044 - val_loss: 0.2401 - val_accuracy: 0.9027\n",
      "\n",
      "Epoch 00042: val_loss did not improve from 0.21792\n",
      "Epoch 43/80\n",
      " - 8s - loss: 0.2068 - accuracy: 0.9073 - val_loss: 0.2359 - val_accuracy: 0.8985\n",
      "\n",
      "Epoch 00043: val_loss did not improve from 0.21792\n",
      "Epoch 44/80\n",
      " - 8s - loss: 0.2042 - accuracy: 0.9056 - val_loss: 0.2146 - val_accuracy: 0.9178\n",
      "\n",
      "Epoch 00044: val_loss improved from 0.21792 to 0.21460, saving model to ./trained_models/unet_div8_495K_60.hdf5\n",
      "Epoch 45/80\n",
      " - 7s - loss: 0.1995 - accuracy: 0.9102 - val_loss: 0.2309 - val_accuracy: 0.9048\n",
      "\n",
      "Epoch 00045: val_loss did not improve from 0.21460\n",
      "Epoch 46/80\n",
      " - 7s - loss: 0.2005 - accuracy: 0.9091 - val_loss: 0.2268 - val_accuracy: 0.9041\n"
     ]
    },
    {
     "name": "stdout",
     "output_type": "stream",
     "text": [
      "\n",
      "Epoch 00046: val_loss did not improve from 0.21460\n",
      "Epoch 47/80\n",
      " - 9s - loss: 0.2027 - accuracy: 0.9073 - val_loss: 0.2196 - val_accuracy: 0.9116\n",
      "\n",
      "Epoch 00047: val_loss did not improve from 0.21460\n",
      "Epoch 48/80\n",
      " - 7s - loss: 0.1959 - accuracy: 0.9090 - val_loss: 0.2217 - val_accuracy: 0.9139\n",
      "\n",
      "Epoch 00048: val_loss did not improve from 0.21460\n",
      "Epoch 49/80\n",
      " - 7s - loss: 0.1959 - accuracy: 0.9108 - val_loss: 0.2168 - val_accuracy: 0.9128\n",
      "\n",
      "Epoch 00049: val_loss did not improve from 0.21460\n",
      "Epoch 50/80\n",
      " - 9s - loss: 0.1928 - accuracy: 0.9090 - val_loss: 0.2336 - val_accuracy: 0.9080\n",
      "\n",
      "Epoch 00050: val_loss did not improve from 0.21460\n",
      "Epoch 51/80\n",
      " - 9s - loss: 0.1926 - accuracy: 0.9102 - val_loss: 0.2528 - val_accuracy: 0.8987\n",
      "\n",
      "Epoch 00051: val_loss did not improve from 0.21460\n",
      "Epoch 52/80\n",
      " - 8s - loss: 0.1882 - accuracy: 0.9106 - val_loss: 0.2348 - val_accuracy: 0.8930\n",
      "\n",
      "Epoch 00052: val_loss did not improve from 0.21460\n",
      "Epoch 53/80\n",
      " - 8s - loss: 0.1995 - accuracy: 0.9086 - val_loss: 0.2381 - val_accuracy: 0.8887\n",
      "\n",
      "Epoch 00053: val_loss did not improve from 0.21460\n",
      "Epoch 54/80\n",
      " - 9s - loss: 0.1953 - accuracy: 0.9093 - val_loss: 0.2401 - val_accuracy: 0.9111\n",
      "\n",
      "Epoch 00054: val_loss did not improve from 0.21460\n",
      "Epoch 55/80\n",
      " - 9s - loss: 0.1909 - accuracy: 0.9096 - val_loss: 0.2161 - val_accuracy: 0.8995\n",
      "\n",
      "Epoch 00055: val_loss did not improve from 0.21460\n",
      "Epoch 56/80\n",
      " - 9s - loss: 0.1906 - accuracy: 0.9082 - val_loss: 0.2040 - val_accuracy: 0.9117\n",
      "\n",
      "Epoch 00056: val_loss improved from 0.21460 to 0.20400, saving model to ./trained_models/unet_div8_495K_60.hdf5\n",
      "Epoch 57/80\n",
      " - 9s - loss: 0.1888 - accuracy: 0.9101 - val_loss: 0.2180 - val_accuracy: 0.9067\n",
      "\n",
      "Epoch 00057: val_loss did not improve from 0.20400\n",
      "Epoch 58/80\n",
      " - 9s - loss: 0.1913 - accuracy: 0.9098 - val_loss: 0.1976 - val_accuracy: 0.9205\n",
      "\n",
      "Epoch 00058: val_loss improved from 0.20400 to 0.19760, saving model to ./trained_models/unet_div8_495K_60.hdf5\n",
      "Epoch 59/80\n",
      " - 7s - loss: 0.1930 - accuracy: 0.9078 - val_loss: 0.2253 - val_accuracy: 0.9073\n",
      "\n",
      "Epoch 00059: val_loss did not improve from 0.19760\n",
      "Epoch 60/80\n",
      " - 7s - loss: 0.1878 - accuracy: 0.9115 - val_loss: 0.2116 - val_accuracy: 0.9092\n",
      "\n",
      "Epoch 00060: val_loss did not improve from 0.19760\n",
      "Epoch 61/80\n",
      " - 8s - loss: 0.1849 - accuracy: 0.9096 - val_loss: 0.2418 - val_accuracy: 0.8941\n",
      "\n",
      "Epoch 00061: val_loss did not improve from 0.19760\n",
      "Epoch 62/80\n",
      " - 7s - loss: 0.1827 - accuracy: 0.9132 - val_loss: 0.2044 - val_accuracy: 0.9057\n",
      "\n",
      "Epoch 00062: val_loss did not improve from 0.19760\n",
      "Epoch 63/80\n",
      " - 8s - loss: 0.1806 - accuracy: 0.9121 - val_loss: 0.2296 - val_accuracy: 0.9100\n",
      "\n",
      "Epoch 00063: val_loss did not improve from 0.19760\n",
      "Epoch 64/80\n",
      " - 9s - loss: 0.1831 - accuracy: 0.9093 - val_loss: 0.2096 - val_accuracy: 0.9132\n",
      "\n",
      "Epoch 00064: val_loss did not improve from 0.19760\n",
      "Epoch 65/80\n",
      " - 8s - loss: 0.1769 - accuracy: 0.9152 - val_loss: 0.2383 - val_accuracy: 0.9047\n",
      "\n",
      "Epoch 00065: val_loss did not improve from 0.19760\n",
      "Epoch 66/80\n",
      " - 9s - loss: 0.1747 - accuracy: 0.9171 - val_loss: 0.1947 - val_accuracy: 0.9178\n",
      "\n",
      "Epoch 00066: val_loss improved from 0.19760 to 0.19469, saving model to ./trained_models/unet_div8_495K_60.hdf5\n",
      "Epoch 67/80\n",
      " - 8s - loss: 0.1761 - accuracy: 0.9148 - val_loss: 0.2273 - val_accuracy: 0.8979\n",
      "\n",
      "Epoch 00067: val_loss did not improve from 0.19469\n",
      "Epoch 68/80\n",
      " - 9s - loss: 0.1740 - accuracy: 0.9168 - val_loss: 0.2035 - val_accuracy: 0.9052\n",
      "\n",
      "Epoch 00068: val_loss did not improve from 0.19469\n",
      "Epoch 69/80\n",
      " - 9s - loss: 0.1823 - accuracy: 0.9108 - val_loss: 0.3332 - val_accuracy: 0.8974\n",
      "\n",
      "Epoch 00069: val_loss did not improve from 0.19469\n",
      "Epoch 70/80\n",
      " - 8s - loss: 0.1778 - accuracy: 0.9154 - val_loss: 0.2031 - val_accuracy: 0.9244\n",
      "\n",
      "Epoch 00070: val_loss did not improve from 0.19469\n",
      "Epoch 71/80\n",
      " - 9s - loss: 0.1757 - accuracy: 0.9183 - val_loss: 0.5124 - val_accuracy: 0.8848\n",
      "\n",
      "Epoch 00071: val_loss did not improve from 0.19469\n",
      "Epoch 72/80\n",
      " - 7s - loss: 0.1841 - accuracy: 0.9114 - val_loss: 0.2186 - val_accuracy: 0.9053\n",
      "\n",
      "Epoch 00072: val_loss did not improve from 0.19469\n",
      "Epoch 73/80\n",
      " - 7s - loss: 0.1792 - accuracy: 0.9115 - val_loss: 0.1886 - val_accuracy: 0.9090\n",
      "\n",
      "Epoch 00073: val_loss improved from 0.19469 to 0.18861, saving model to ./trained_models/unet_div8_495K_60.hdf5\n",
      "Epoch 74/80\n",
      " - 8s - loss: 0.1785 - accuracy: 0.9132 - val_loss: 0.2312 - val_accuracy: 0.9007\n",
      "\n",
      "Epoch 00074: val_loss did not improve from 0.18861\n",
      "Epoch 75/80\n",
      " - 9s - loss: 0.1719 - accuracy: 0.9164 - val_loss: 0.1902 - val_accuracy: 0.9144\n",
      "\n",
      "Epoch 00075: val_loss did not improve from 0.18861\n",
      "Epoch 76/80\n",
      " - 9s - loss: 0.1769 - accuracy: 0.9127 - val_loss: 0.2037 - val_accuracy: 0.9091\n",
      "\n",
      "Epoch 00076: val_loss did not improve from 0.18861\n",
      "Epoch 77/80\n",
      " - 9s - loss: 0.1739 - accuracy: 0.9129 - val_loss: 0.1979 - val_accuracy: 0.9111\n",
      "\n",
      "Epoch 00077: val_loss did not improve from 0.18861\n",
      "Epoch 78/80\n",
      " - 6s - loss: 0.1669 - accuracy: 0.9195 - val_loss: 0.2423 - val_accuracy: 0.9035\n",
      "\n",
      "Epoch 00078: val_loss did not improve from 0.18861\n",
      "Epoch 79/80\n",
      " - 8s - loss: 0.1666 - accuracy: 0.9204 - val_loss: 0.1909 - val_accuracy: 0.9137\n",
      "\n",
      "Epoch 00079: val_loss did not improve from 0.18861\n",
      "Epoch 80/80\n",
      " - 10s - loss: 0.1669 - accuracy: 0.9169 - val_loss: 0.2198 - val_accuracy: 0.9024\n"
     ]
    },
    {
     "name": "stderr",
     "output_type": "stream",
     "text": [
      "\n",
      "  0%|          | 0/60 [00:00<?, ?it/s]\u001b[A"
     ]
    },
    {
     "name": "stdout",
     "output_type": "stream",
     "text": [
      "\n",
      "Epoch 00080: val_loss did not improve from 0.18861\n"
     ]
    },
    {
     "name": "stderr",
     "output_type": "stream",
     "text": [
      "\n",
      "  2%|▏         | 1/60 [00:30<30:24, 30.92s/it]\u001b[A"
     ]
    },
    {
     "name": "stdout",
     "output_type": "stream",
     "text": [
      "\n",
      " Time needed for MC Dropout-based Uncertainty Estimation   30.890959978103638\n"
     ]
    },
    {
     "name": "stderr",
     "output_type": "stream",
     "text": [
      "\n",
      "  3%|▎         | 2/60 [01:03<30:26, 31.50s/it]\u001b[A"
     ]
    },
    {
     "name": "stdout",
     "output_type": "stream",
     "text": [
      "\n",
      " Time needed for MC Dropout-based Uncertainty Estimation   32.79899001121521\n"
     ]
    },
    {
     "name": "stderr",
     "output_type": "stream",
     "text": [
      "\n",
      "  5%|▌         | 3/60 [01:36<30:18, 31.91s/it]\u001b[A"
     ]
    },
    {
     "name": "stdout",
     "output_type": "stream",
     "text": [
      "\n",
      " Time needed for MC Dropout-based Uncertainty Estimation   32.82179307937622\n"
     ]
    },
    {
     "name": "stderr",
     "output_type": "stream",
     "text": [
      "\n",
      "  7%|▋         | 4/60 [02:06<29:17, 31.39s/it]\u001b[A"
     ]
    },
    {
     "name": "stdout",
     "output_type": "stream",
     "text": [
      "\n",
      " Time needed for MC Dropout-based Uncertainty Estimation   30.129340410232544\n"
     ]
    },
    {
     "name": "stderr",
     "output_type": "stream",
     "text": [
      "\n",
      "  8%|▊         | 5/60 [02:39<29:13, 31.88s/it]\u001b[A"
     ]
    },
    {
     "name": "stdout",
     "output_type": "stream",
     "text": [
      "\n",
      " Time needed for MC Dropout-based Uncertainty Estimation   32.97124171257019\n"
     ]
    },
    {
     "name": "stderr",
     "output_type": "stream",
     "text": [
      "\n",
      " 10%|█         | 6/60 [03:12<28:50, 32.04s/it]\u001b[A"
     ]
    },
    {
     "name": "stdout",
     "output_type": "stream",
     "text": [
      "\n",
      " Time needed for MC Dropout-based Uncertainty Estimation   32.373244285583496\n"
     ]
    },
    {
     "name": "stderr",
     "output_type": "stream",
     "text": [
      "\n",
      " 12%|█▏        | 7/60 [03:42<27:51, 31.53s/it]\u001b[A"
     ]
    },
    {
     "name": "stdout",
     "output_type": "stream",
     "text": [
      "\n",
      " Time needed for MC Dropout-based Uncertainty Estimation   30.28083825111389\n"
     ]
    },
    {
     "name": "stderr",
     "output_type": "stream",
     "text": [
      "\n",
      " 13%|█▎        | 8/60 [04:15<27:39, 31.92s/it]\u001b[A"
     ]
    },
    {
     "name": "stdout",
     "output_type": "stream",
     "text": [
      "\n",
      " Time needed for MC Dropout-based Uncertainty Estimation   32.784894704818726\n"
     ]
    },
    {
     "name": "stderr",
     "output_type": "stream",
     "text": [
      "\n",
      " 15%|█▌        | 9/60 [04:48<27:18, 32.12s/it]\u001b[A"
     ]
    },
    {
     "name": "stdout",
     "output_type": "stream",
     "text": [
      "\n",
      " Time needed for MC Dropout-based Uncertainty Estimation   32.534621238708496\n"
     ]
    },
    {
     "name": "stderr",
     "output_type": "stream",
     "text": [
      "\n",
      " 17%|█▋        | 10/60 [05:18<26:23, 31.67s/it]\u001b[A"
     ]
    },
    {
     "name": "stdout",
     "output_type": "stream",
     "text": [
      "\n",
      " Time needed for MC Dropout-based Uncertainty Estimation   30.581074476242065\n"
     ]
    },
    {
     "name": "stderr",
     "output_type": "stream",
     "text": [
      "\n",
      " 18%|█▊        | 11/60 [05:51<26:08, 32.02s/it]\u001b[A"
     ]
    },
    {
     "name": "stdout",
     "output_type": "stream",
     "text": [
      "\n",
      " Time needed for MC Dropout-based Uncertainty Estimation   32.76461625099182\n"
     ]
    },
    {
     "name": "stderr",
     "output_type": "stream",
     "text": [
      "\n",
      " 20%|██        | 12/60 [06:23<25:43, 32.15s/it]\u001b[A"
     ]
    },
    {
     "name": "stdout",
     "output_type": "stream",
     "text": [
      "\n",
      " Time needed for MC Dropout-based Uncertainty Estimation   32.41154742240906\n"
     ]
    },
    {
     "name": "stderr",
     "output_type": "stream",
     "text": [
      "\n",
      " 22%|██▏       | 13/60 [06:54<24:45, 31.60s/it]\u001b[A"
     ]
    },
    {
     "name": "stdout",
     "output_type": "stream",
     "text": [
      "\n",
      " Time needed for MC Dropout-based Uncertainty Estimation   30.258575201034546\n"
     ]
    },
    {
     "name": "stderr",
     "output_type": "stream",
     "text": [
      "\n",
      " 23%|██▎       | 14/60 [07:26<24:26, 31.89s/it]\u001b[A"
     ]
    },
    {
     "name": "stdout",
     "output_type": "stream",
     "text": [
      "\n",
      " Time needed for MC Dropout-based Uncertainty Estimation   32.50539255142212\n"
     ]
    },
    {
     "name": "stderr",
     "output_type": "stream",
     "text": [
      "\n",
      " 25%|██▌       | 15/60 [07:59<24:02, 32.06s/it]\u001b[A"
     ]
    },
    {
     "name": "stdout",
     "output_type": "stream",
     "text": [
      "\n",
      " Time needed for MC Dropout-based Uncertainty Estimation   32.403116941452026\n"
     ]
    },
    {
     "name": "stderr",
     "output_type": "stream",
     "text": [
      "\n",
      " 27%|██▋       | 16/60 [08:29<23:07, 31.52s/it]\u001b[A"
     ]
    },
    {
     "name": "stdout",
     "output_type": "stream",
     "text": [
      "\n",
      " Time needed for MC Dropout-based Uncertainty Estimation   30.231682300567627\n"
     ]
    },
    {
     "name": "stderr",
     "output_type": "stream",
     "text": [
      "\n",
      " 28%|██▊       | 17/60 [09:02<22:48, 31.83s/it]\u001b[A"
     ]
    },
    {
     "name": "stdout",
     "output_type": "stream",
     "text": [
      "\n",
      " Time needed for MC Dropout-based Uncertainty Estimation   32.48797631263733\n"
     ]
    },
    {
     "name": "stderr",
     "output_type": "stream",
     "text": [
      "\n",
      " 30%|███       | 18/60 [09:34<22:27, 32.08s/it]\u001b[A"
     ]
    },
    {
     "name": "stdout",
     "output_type": "stream",
     "text": [
      "\n",
      " Time needed for MC Dropout-based Uncertainty Estimation   32.629745960235596\n"
     ]
    },
    {
     "name": "stderr",
     "output_type": "stream",
     "text": [
      "\n",
      " 32%|███▏      | 19/60 [10:05<21:37, 31.64s/it]\u001b[A"
     ]
    },
    {
     "name": "stdout",
     "output_type": "stream",
     "text": [
      "\n",
      " Time needed for MC Dropout-based Uncertainty Estimation   30.543092012405396\n"
     ]
    },
    {
     "name": "stderr",
     "output_type": "stream",
     "text": [
      "\n",
      " 33%|███▎      | 20/60 [10:38<21:22, 32.05s/it]\u001b[A"
     ]
    },
    {
     "name": "stdout",
     "output_type": "stream",
     "text": [
      "\n",
      " Time needed for MC Dropout-based Uncertainty Estimation   32.963191509246826\n"
     ]
    },
    {
     "name": "stderr",
     "output_type": "stream",
     "text": [
      "\n",
      " 35%|███▌      | 21/60 [11:10<20:56, 32.22s/it]\u001b[A"
     ]
    },
    {
     "name": "stdout",
     "output_type": "stream",
     "text": [
      "\n",
      " Time needed for MC Dropout-based Uncertainty Estimation   32.57717204093933\n"
     ]
    },
    {
     "name": "stderr",
     "output_type": "stream",
     "text": [
      "\n",
      " 37%|███▋      | 22/60 [11:41<20:03, 31.68s/it]\u001b[A"
     ]
    },
    {
     "name": "stdout",
     "output_type": "stream",
     "text": [
      "\n",
      " Time needed for MC Dropout-based Uncertainty Estimation   30.36229419708252\n"
     ]
    },
    {
     "name": "stderr",
     "output_type": "stream",
     "text": [
      "\n",
      " 38%|███▊      | 23/60 [12:14<19:44, 32.01s/it]\u001b[A"
     ]
    },
    {
     "name": "stdout",
     "output_type": "stream",
     "text": [
      "\n",
      " Time needed for MC Dropout-based Uncertainty Estimation   32.712352991104126\n"
     ]
    },
    {
     "name": "stderr",
     "output_type": "stream",
     "text": [
      "\n",
      " 40%|████      | 24/60 [12:46<19:18, 32.18s/it]\u001b[A"
     ]
    },
    {
     "name": "stdout",
     "output_type": "stream",
     "text": [
      "\n",
      " Time needed for MC Dropout-based Uncertainty Estimation   32.53816246986389\n"
     ]
    },
    {
     "name": "stderr",
     "output_type": "stream",
     "text": [
      "\n",
      " 42%|████▏     | 25/60 [13:16<18:24, 31.54s/it]\u001b[A"
     ]
    },
    {
     "name": "stdout",
     "output_type": "stream",
     "text": [
      "\n",
      " Time needed for MC Dropout-based Uncertainty Estimation   30.007073402404785\n"
     ]
    },
    {
     "name": "stderr",
     "output_type": "stream",
     "text": [
      "\n",
      " 43%|████▎     | 26/60 [13:49<18:04, 31.89s/it]\u001b[A"
     ]
    },
    {
     "name": "stdout",
     "output_type": "stream",
     "text": [
      "\n",
      " Time needed for MC Dropout-based Uncertainty Estimation   32.65771126747131\n"
     ]
    },
    {
     "name": "stderr",
     "output_type": "stream",
     "text": [
      "\n",
      " 45%|████▌     | 27/60 [14:22<17:40, 32.14s/it]\u001b[A"
     ]
    },
    {
     "name": "stdout",
     "output_type": "stream",
     "text": [
      "\n",
      " Time needed for MC Dropout-based Uncertainty Estimation   32.67336297035217\n"
     ]
    },
    {
     "name": "stderr",
     "output_type": "stream",
     "text": [
      "\n",
      " 47%|████▋     | 28/60 [14:52<16:52, 31.65s/it]\u001b[A"
     ]
    },
    {
     "name": "stdout",
     "output_type": "stream",
     "text": [
      "\n",
      " Time needed for MC Dropout-based Uncertainty Estimation   30.454526901245117\n"
     ]
    },
    {
     "name": "stderr",
     "output_type": "stream",
     "text": [
      "\n",
      " 48%|████▊     | 29/60 [15:25<16:30, 31.95s/it]\u001b[A"
     ]
    },
    {
     "name": "stdout",
     "output_type": "stream",
     "text": [
      "\n",
      " Time needed for MC Dropout-based Uncertainty Estimation   32.59045767784119\n"
     ]
    },
    {
     "name": "stderr",
     "output_type": "stream",
     "text": [
      "\n",
      " 50%|█████     | 30/60 [15:58<16:07, 32.25s/it]\u001b[A"
     ]
    },
    {
     "name": "stdout",
     "output_type": "stream",
     "text": [
      "\n",
      " Time needed for MC Dropout-based Uncertainty Estimation   32.91268038749695\n"
     ]
    },
    {
     "name": "stderr",
     "output_type": "stream",
     "text": [
      "\n",
      " 52%|█████▏    | 31/60 [16:28<15:18, 31.67s/it]\u001b[A"
     ]
    },
    {
     "name": "stdout",
     "output_type": "stream",
     "text": [
      "\n",
      " Time needed for MC Dropout-based Uncertainty Estimation   30.245972871780396\n"
     ]
    },
    {
     "name": "stderr",
     "output_type": "stream",
     "text": [
      "\n",
      " 53%|█████▎    | 32/60 [17:01<14:53, 31.90s/it]\u001b[A"
     ]
    },
    {
     "name": "stdout",
     "output_type": "stream",
     "text": [
      "\n",
      " Time needed for MC Dropout-based Uncertainty Estimation   32.38033580780029\n"
     ]
    },
    {
     "name": "stderr",
     "output_type": "stream",
     "text": [
      "\n",
      " 55%|█████▌    | 33/60 [17:33<14:26, 32.09s/it]\u001b[A"
     ]
    },
    {
     "name": "stdout",
     "output_type": "stream",
     "text": [
      "\n",
      " Time needed for MC Dropout-based Uncertainty Estimation   32.495558977127075\n"
     ]
    },
    {
     "name": "stderr",
     "output_type": "stream",
     "text": [
      "\n",
      " 57%|█████▋    | 34/60 [18:03<13:38, 31.49s/it]\u001b[A"
     ]
    },
    {
     "name": "stdout",
     "output_type": "stream",
     "text": [
      "\n",
      " Time needed for MC Dropout-based Uncertainty Estimation   30.021861791610718\n"
     ]
    },
    {
     "name": "stderr",
     "output_type": "stream",
     "text": [
      "\n",
      " 58%|█████▊    | 35/60 [18:36<13:14, 31.78s/it]\u001b[A"
     ]
    },
    {
     "name": "stdout",
     "output_type": "stream",
     "text": [
      "\n",
      " Time needed for MC Dropout-based Uncertainty Estimation   32.41152763366699\n"
     ]
    },
    {
     "name": "stderr",
     "output_type": "stream",
     "text": [
      "\n",
      " 60%|██████    | 36/60 [19:08<12:49, 32.05s/it]\u001b[A"
     ]
    },
    {
     "name": "stdout",
     "output_type": "stream",
     "text": [
      "\n",
      " Time needed for MC Dropout-based Uncertainty Estimation   32.64851784706116\n"
     ]
    },
    {
     "name": "stderr",
     "output_type": "stream",
     "text": [
      "\n",
      " 62%|██████▏   | 37/60 [19:39<12:05, 31.55s/it]\u001b[A"
     ]
    },
    {
     "name": "stdout",
     "output_type": "stream",
     "text": [
      "\n",
      " Time needed for MC Dropout-based Uncertainty Estimation   30.304442405700684\n"
     ]
    },
    {
     "name": "stderr",
     "output_type": "stream",
     "text": [
      "\n",
      " 63%|██████▎   | 38/60 [20:11<11:40, 31.85s/it]\u001b[A"
     ]
    },
    {
     "name": "stdout",
     "output_type": "stream",
     "text": [
      "\n",
      " Time needed for MC Dropout-based Uncertainty Estimation   32.49824404716492\n"
     ]
    },
    {
     "name": "stderr",
     "output_type": "stream",
     "text": [
      "\n",
      " 65%|██████▌   | 39/60 [20:44<11:14, 32.11s/it]\u001b[A"
     ]
    },
    {
     "name": "stdout",
     "output_type": "stream",
     "text": [
      "\n",
      " Time needed for MC Dropout-based Uncertainty Estimation   32.669607639312744\n"
     ]
    },
    {
     "name": "stderr",
     "output_type": "stream",
     "text": [
      "\n",
      " 67%|██████▋   | 40/60 [21:15<10:32, 31.64s/it]\u001b[A"
     ]
    },
    {
     "name": "stdout",
     "output_type": "stream",
     "text": [
      "\n",
      " Time needed for MC Dropout-based Uncertainty Estimation   30.489769458770752\n"
     ]
    },
    {
     "name": "stderr",
     "output_type": "stream",
     "text": [
      "\n",
      " 68%|██████▊   | 41/60 [21:47<10:06, 31.93s/it]\u001b[A"
     ]
    },
    {
     "name": "stdout",
     "output_type": "stream",
     "text": [
      "\n",
      " Time needed for MC Dropout-based Uncertainty Estimation   32.565736055374146\n"
     ]
    },
    {
     "name": "stderr",
     "output_type": "stream",
     "text": [
      "\n",
      " 70%|███████   | 42/60 [22:20<09:39, 32.17s/it]\u001b[A"
     ]
    },
    {
     "name": "stdout",
     "output_type": "stream",
     "text": [
      "\n",
      " Time needed for MC Dropout-based Uncertainty Estimation   32.68415594100952\n"
     ]
    },
    {
     "name": "stderr",
     "output_type": "stream",
     "text": [
      "\n",
      " 72%|███████▏  | 43/60 [22:50<08:58, 31.67s/it]\u001b[A"
     ]
    },
    {
     "name": "stdout",
     "output_type": "stream",
     "text": [
      "\n",
      " Time needed for MC Dropout-based Uncertainty Estimation   30.452425241470337\n"
     ]
    },
    {
     "name": "stderr",
     "output_type": "stream",
     "text": [
      "\n",
      " 73%|███████▎  | 44/60 [23:23<08:31, 31.94s/it]\u001b[A"
     ]
    },
    {
     "name": "stdout",
     "output_type": "stream",
     "text": [
      "\n",
      " Time needed for MC Dropout-based Uncertainty Estimation   32.514787912368774\n"
     ]
    },
    {
     "name": "stderr",
     "output_type": "stream",
     "text": [
      "\n",
      " 75%|███████▌  | 45/60 [23:56<08:03, 32.25s/it]\u001b[A"
     ]
    },
    {
     "name": "stdout",
     "output_type": "stream",
     "text": [
      "\n",
      " Time needed for MC Dropout-based Uncertainty Estimation   32.9169282913208\n"
     ]
    },
    {
     "name": "stderr",
     "output_type": "stream",
     "text": [
      "\n",
      " 77%|███████▋  | 46/60 [24:27<07:24, 31.77s/it]\u001b[A"
     ]
    },
    {
     "name": "stdout",
     "output_type": "stream",
     "text": [
      "\n",
      " Time needed for MC Dropout-based Uncertainty Estimation   30.597973585128784\n"
     ]
    },
    {
     "name": "stderr",
     "output_type": "stream",
     "text": [
      "\n",
      " 78%|███████▊  | 47/60 [24:59<06:56, 32.06s/it]\u001b[A"
     ]
    },
    {
     "name": "stdout",
     "output_type": "stream",
     "text": [
      "\n",
      " Time needed for MC Dropout-based Uncertainty Estimation   32.68325448036194\n"
     ]
    },
    {
     "name": "stderr",
     "output_type": "stream",
     "text": [
      "\n",
      " 80%|████████  | 48/60 [25:32<06:27, 32.26s/it]\u001b[A"
     ]
    },
    {
     "name": "stdout",
     "output_type": "stream",
     "text": [
      "\n",
      " Time needed for MC Dropout-based Uncertainty Estimation   32.66712045669556\n"
     ]
    },
    {
     "name": "stderr",
     "output_type": "stream",
     "text": [
      "\n",
      " 82%|████████▏ | 49/60 [26:03<05:49, 31.82s/it]\u001b[A"
     ]
    },
    {
     "name": "stdout",
     "output_type": "stream",
     "text": [
      "\n",
      " Time needed for MC Dropout-based Uncertainty Estimation   30.742686986923218\n"
     ]
    },
    {
     "name": "stderr",
     "output_type": "stream",
     "text": [
      "\n",
      " 83%|████████▎ | 50/60 [26:36<05:21, 32.11s/it]\u001b[A"
     ]
    },
    {
     "name": "stdout",
     "output_type": "stream",
     "text": [
      "\n",
      " Time needed for MC Dropout-based Uncertainty Estimation   32.73371648788452\n"
     ]
    },
    {
     "name": "stderr",
     "output_type": "stream",
     "text": [
      "\n",
      " 85%|████████▌ | 51/60 [27:08<04:50, 32.32s/it]\u001b[A"
     ]
    },
    {
     "name": "stdout",
     "output_type": "stream",
     "text": [
      "\n",
      " Time needed for MC Dropout-based Uncertainty Estimation   32.773059368133545\n"
     ]
    },
    {
     "name": "stderr",
     "output_type": "stream",
     "text": [
      "\n",
      " 87%|████████▋ | 52/60 [27:39<04:14, 31.76s/it]\u001b[A"
     ]
    },
    {
     "name": "stdout",
     "output_type": "stream",
     "text": [
      "\n",
      " Time needed for MC Dropout-based Uncertainty Estimation   30.383108615875244\n"
     ]
    },
    {
     "name": "stderr",
     "output_type": "stream",
     "text": [
      "\n",
      " 88%|████████▊ | 53/60 [28:11<03:44, 32.01s/it]\u001b[A"
     ]
    },
    {
     "name": "stdout",
     "output_type": "stream",
     "text": [
      "\n",
      " Time needed for MC Dropout-based Uncertainty Estimation   32.5584352016449\n"
     ]
    },
    {
     "name": "stderr",
     "output_type": "stream",
     "text": [
      "\n",
      " 90%|█████████ | 54/60 [28:44<03:13, 32.19s/it]\u001b[A"
     ]
    },
    {
     "name": "stdout",
     "output_type": "stream",
     "text": [
      "\n",
      " Time needed for MC Dropout-based Uncertainty Estimation   32.55198073387146\n"
     ]
    },
    {
     "name": "stderr",
     "output_type": "stream",
     "text": [
      "\n",
      " 92%|█████████▏| 55/60 [29:15<02:38, 31.72s/it]\u001b[A"
     ]
    },
    {
     "name": "stdout",
     "output_type": "stream",
     "text": [
      "\n",
      " Time needed for MC Dropout-based Uncertainty Estimation   30.592127323150635\n"
     ]
    },
    {
     "name": "stderr",
     "output_type": "stream",
     "text": [
      "\n",
      " 93%|█████████▎| 56/60 [29:47<02:07, 31.97s/it]\u001b[A"
     ]
    },
    {
     "name": "stdout",
     "output_type": "stream",
     "text": [
      "\n",
      " Time needed for MC Dropout-based Uncertainty Estimation   32.499743700027466\n"
     ]
    },
    {
     "name": "stderr",
     "output_type": "stream",
     "text": [
      "\n",
      " 95%|█████████▌| 57/60 [30:20<01:36, 32.16s/it]\u001b[A"
     ]
    },
    {
     "name": "stdout",
     "output_type": "stream",
     "text": [
      "\n",
      " Time needed for MC Dropout-based Uncertainty Estimation   32.548603773117065\n"
     ]
    },
    {
     "name": "stderr",
     "output_type": "stream",
     "text": [
      "\n",
      " 97%|█████████▋| 58/60 [30:50<01:03, 31.60s/it]\u001b[A"
     ]
    },
    {
     "name": "stdout",
     "output_type": "stream",
     "text": [
      "\n",
      " Time needed for MC Dropout-based Uncertainty Estimation   30.23858618736267\n"
     ]
    },
    {
     "name": "stderr",
     "output_type": "stream",
     "text": [
      "\n",
      " 98%|█████████▊| 59/60 [31:23<00:31, 31.88s/it]\u001b[A"
     ]
    },
    {
     "name": "stdout",
     "output_type": "stream",
     "text": [
      "\n",
      " Time needed for MC Dropout-based Uncertainty Estimation   32.49566340446472\n"
     ]
    },
    {
     "name": "stderr",
     "output_type": "stream",
     "text": [
      "\n",
      "100%|██████████| 60/60 [31:55<00:00, 32.11s/it]\u001b[A\n",
      "  0%|          | 0/10 [00:00<?, ?it/s]\u001b[A"
     ]
    },
    {
     "name": "stdout",
     "output_type": "stream",
     "text": [
      "\n",
      " Time needed for MC Dropout-based Uncertainty Estimation   32.59203290939331\n"
     ]
    },
    {
     "name": "stderr",
     "output_type": "stream",
     "text": [
      "\n",
      " 10%|█         | 1/10 [00:04<00:44,  5.00s/it]\u001b[A"
     ]
    },
    {
     "name": "stdout",
     "output_type": "stream",
     "text": [
      "\n",
      " Time needed for MC Dropout-based Uncertainty Estimation   4.9951090812683105\n"
     ]
    },
    {
     "name": "stderr",
     "output_type": "stream",
     "text": [
      "\n",
      " 20%|██        | 2/10 [00:10<00:40,  5.11s/it]\u001b[A"
     ]
    },
    {
     "name": "stdout",
     "output_type": "stream",
     "text": [
      "\n",
      " Time needed for MC Dropout-based Uncertainty Estimation   5.347068786621094\n"
     ]
    },
    {
     "name": "stderr",
     "output_type": "stream",
     "text": [
      "\n",
      " 30%|███       | 3/10 [00:15<00:36,  5.18s/it]\u001b[A"
     ]
    },
    {
     "name": "stdout",
     "output_type": "stream",
     "text": [
      "\n",
      " Time needed for MC Dropout-based Uncertainty Estimation   5.328259229660034\n"
     ]
    },
    {
     "name": "stderr",
     "output_type": "stream",
     "text": [
      "\n",
      " 40%|████      | 4/10 [00:21<00:31,  5.24s/it]\u001b[A"
     ]
    },
    {
     "name": "stdout",
     "output_type": "stream",
     "text": [
      "\n",
      " Time needed for MC Dropout-based Uncertainty Estimation   5.3797454833984375\n"
     ]
    },
    {
     "name": "stderr",
     "output_type": "stream",
     "text": [
      "\n",
      " 50%|█████     | 5/10 [00:26<00:26,  5.30s/it]\u001b[A"
     ]
    },
    {
     "name": "stdout",
     "output_type": "stream",
     "text": [
      "\n",
      " Time needed for MC Dropout-based Uncertainty Estimation   5.415385961532593\n"
     ]
    },
    {
     "name": "stderr",
     "output_type": "stream",
     "text": [
      "\n",
      " 60%|██████    | 6/10 [00:31<00:21,  5.31s/it]\u001b[A"
     ]
    },
    {
     "name": "stdout",
     "output_type": "stream",
     "text": [
      "\n",
      " Time needed for MC Dropout-based Uncertainty Estimation   5.342188596725464\n"
     ]
    },
    {
     "name": "stderr",
     "output_type": "stream",
     "text": [
      "\n",
      " 70%|███████   | 7/10 [00:37<00:15,  5.32s/it]\u001b[A"
     ]
    },
    {
     "name": "stdout",
     "output_type": "stream",
     "text": [
      "\n",
      " Time needed for MC Dropout-based Uncertainty Estimation   5.3381359577178955\n"
     ]
    },
    {
     "name": "stderr",
     "output_type": "stream",
     "text": [
      "\n",
      " 80%|████████  | 8/10 [00:42<00:10,  5.35s/it]\u001b[A"
     ]
    },
    {
     "name": "stdout",
     "output_type": "stream",
     "text": [
      "\n",
      " Time needed for MC Dropout-based Uncertainty Estimation   5.408265113830566\n"
     ]
    },
    {
     "name": "stderr",
     "output_type": "stream",
     "text": [
      "\n",
      " 90%|█████████ | 9/10 [00:47<00:05,  5.34s/it]\u001b[A"
     ]
    },
    {
     "name": "stdout",
     "output_type": "stream",
     "text": [
      "\n",
      " Time needed for MC Dropout-based Uncertainty Estimation   5.309396982192993\n"
     ]
    },
    {
     "name": "stderr",
     "output_type": "stream",
     "text": [
      "\n",
      "100%|██████████| 10/10 [00:53<00:00,  5.35s/it]\u001b[A"
     ]
    },
    {
     "name": "stdout",
     "output_type": "stream",
     "text": [
      "\n",
      " Time needed for MC Dropout-based Uncertainty Estimation   5.3582212924957275\n",
      "Model: \"model_2\"\n",
      "_________________________________________________________________\n",
      "Layer (type)                 Output Shape              Param #   \n",
      "=================================================================\n",
      "input (InputLayer)           (None, 400, 400, 30)      0         \n",
      "_________________________________________________________________\n",
      "conv2d_11 (Conv2D)           (None, 400, 400, 32)      8672      \n",
      "_________________________________________________________________\n",
      "batch_normalization_19 (Batc (None, 400, 400, 32)      128       \n",
      "_________________________________________________________________\n",
      "activation_19 (Activation)   (None, 400, 400, 32)      0         \n",
      "_________________________________________________________________\n",
      "conv2d_12 (Conv2D)           (None, 400, 400, 32)      9248      \n",
      "_________________________________________________________________\n",
      "batch_normalization_20 (Batc (None, 400, 400, 32)      128       \n",
      "_________________________________________________________________\n",
      "activation_20 (Activation)   (None, 400, 400, 32)      0         \n",
      "_________________________________________________________________\n",
      "max_pooling2d_5 (MaxPooling2 (None, 200, 200, 32)      0         \n",
      "_________________________________________________________________\n",
      "conv2d_13 (Conv2D)           (None, 200, 200, 64)      18496     \n",
      "_________________________________________________________________\n",
      "batch_normalization_21 (Batc (None, 200, 200, 64)      256       \n",
      "_________________________________________________________________\n",
      "activation_21 (Activation)   (None, 200, 200, 64)      0         \n",
      "_________________________________________________________________\n",
      "conv2d_14 (Conv2D)           (None, 200, 200, 64)      36928     \n",
      "_________________________________________________________________\n",
      "batch_normalization_22 (Batc (None, 200, 200, 64)      256       \n",
      "_________________________________________________________________\n",
      "activation_22 (Activation)   (None, 200, 200, 64)      0         \n",
      "_________________________________________________________________\n",
      "max_pooling2d_6 (MaxPooling2 (None, 100, 100, 64)      0         \n",
      "_________________________________________________________________\n",
      "conv2d_15 (Conv2D)           (None, 100, 100, 128)     73856     \n",
      "_________________________________________________________________\n",
      "batch_normalization_23 (Batc (None, 100, 100, 128)     512       \n",
      "_________________________________________________________________\n",
      "activation_23 (Activation)   (None, 100, 100, 128)     0         \n",
      "_________________________________________________________________\n",
      "conv2d_16 (Conv2D)           (None, 100, 100, 128)     147584    \n",
      "_________________________________________________________________\n",
      "batch_normalization_24 (Batc (None, 100, 100, 128)     512       \n",
      "_________________________________________________________________\n",
      "activation_24 (Activation)   (None, 100, 100, 128)     0         \n",
      "_________________________________________________________________\n",
      "max_pooling2d_7 (MaxPooling2 (None, 50, 50, 128)       0         \n",
      "_________________________________________________________________\n",
      "conv2d_17 (Conv2D)           (None, 50, 50, 256)       295168    \n",
      "_________________________________________________________________\n",
      "batch_normalization_25 (Batc (None, 50, 50, 256)       1024      \n",
      "_________________________________________________________________\n",
      "activation_25 (Activation)   (None, 50, 50, 256)       0         \n",
      "_________________________________________________________________\n",
      "conv2d_18 (Conv2D)           (None, 50, 50, 256)       590080    \n",
      "_________________________________________________________________\n",
      "batch_normalization_26 (Batc (None, 50, 50, 256)       1024      \n",
      "_________________________________________________________________\n",
      "activation_26 (Activation)   (None, 50, 50, 256)       0         \n",
      "_________________________________________________________________\n",
      "global_average_pooling2d_1 ( (None, 256)               0         \n",
      "_________________________________________________________________\n",
      "dense_2 (Dense)              (None, 1)                 257       \n",
      "_________________________________________________________________\n",
      "output (Activation)          (None, 1)                 0         \n",
      "=================================================================\n",
      "Total params: 1,184,129\n",
      "Trainable params: 1,182,209\n",
      "Non-trainable params: 1,920\n",
      "_________________________________________________________________\n",
      "(60, 1)\n",
      "Train on 60 samples, validate on 10 samples\n",
      "Epoch 1/60\n",
      " - 4s - loss: 0.0700 - val_loss: 0.0608\n",
      "\n",
      "Epoch 00001: val_loss improved from inf to 0.06079, saving model to ./trained_models/unet_div8_495K_60_DiceNet.hdf5\n",
      "Epoch 2/60\n",
      " - 2s - loss: 0.0301 - val_loss: 0.0616\n",
      "\n",
      "Epoch 00002: val_loss did not improve from 0.06079\n",
      "Epoch 3/60\n",
      " - 2s - loss: 0.0273 - val_loss: 0.0625\n",
      "\n",
      "Epoch 00003: val_loss did not improve from 0.06079\n",
      "Epoch 4/60\n",
      " - 2s - loss: 0.0205 - val_loss: 0.0639\n",
      "\n",
      "Epoch 00004: val_loss did not improve from 0.06079\n",
      "Epoch 5/60\n",
      " - 2s - loss: 0.0229 - val_loss: 0.0637\n",
      "\n",
      "Epoch 00005: val_loss did not improve from 0.06079\n",
      "Epoch 6/60\n",
      " - 2s - loss: 0.0184 - val_loss: 0.0626\n",
      "\n",
      "Epoch 00006: val_loss did not improve from 0.06079\n",
      "Epoch 7/60\n",
      " - 2s - loss: 0.0192 - val_loss: 0.0628\n",
      "\n",
      "Epoch 00007: val_loss did not improve from 0.06079\n",
      "Epoch 8/60\n",
      " - 2s - loss: 0.0172 - val_loss: 0.0627\n",
      "\n",
      "Epoch 00008: val_loss did not improve from 0.06079\n",
      "Epoch 9/60\n",
      " - 2s - loss: 0.0146 - val_loss: 0.0620\n",
      "\n",
      "Epoch 00009: val_loss did not improve from 0.06079\n",
      "Epoch 10/60\n",
      " - 2s - loss: 0.0167 - val_loss: 0.0617\n",
      "\n",
      "Epoch 00010: val_loss did not improve from 0.06079\n",
      "Epoch 11/60\n",
      " - 2s - loss: 0.0143 - val_loss: 0.0655\n",
      "\n",
      "Epoch 00011: val_loss did not improve from 0.06079\n",
      "Epoch 12/60\n",
      " - 2s - loss: 0.0144 - val_loss: 0.0673\n",
      "\n",
      "Epoch 00012: val_loss did not improve from 0.06079\n",
      "Epoch 13/60\n",
      " - 2s - loss: 0.0153 - val_loss: 0.0656\n",
      "\n",
      "Epoch 00013: val_loss did not improve from 0.06079\n",
      "False\n",
      "False\n",
      "START EVALUATION......:\n",
      "(10, 400, 400, 28)\n",
      "Loading model: ./trained_models/unet_div8_495K_60.hdf5\n"
     ]
    },
    {
     "name": "stderr",
     "output_type": "stream",
     "text": [
      "\n",
      "  0%|          | 0/10 [00:00<?, ?it/s]\u001b[A\n",
      " 10%|█         | 1/10 [00:02<00:23,  2.57s/it]\u001b[A"
     ]
    },
    {
     "name": "stdout",
     "output_type": "stream",
     "text": [
      "\n",
      " Time needed for MC Dropout-based Uncertainty Estimation   2.5643110275268555\n"
     ]
    },
    {
     "name": "stderr",
     "output_type": "stream",
     "text": [
      "\n",
      " 20%|██        | 2/10 [00:03<00:17,  2.20s/it]\u001b[A"
     ]
    },
    {
     "name": "stdout",
     "output_type": "stream",
     "text": [
      "\n",
      " Time needed for MC Dropout-based Uncertainty Estimation   1.319244623184204\n"
     ]
    },
    {
     "name": "stderr",
     "output_type": "stream",
     "text": [
      "\n",
      " 30%|███       | 3/10 [00:05<00:13,  1.97s/it]\u001b[A"
     ]
    },
    {
     "name": "stdout",
     "output_type": "stream",
     "text": [
      "\n",
      " Time needed for MC Dropout-based Uncertainty Estimation   1.4153985977172852\n"
     ]
    },
    {
     "name": "stderr",
     "output_type": "stream",
     "text": [
      "\n",
      " 40%|████      | 4/10 [00:06<00:10,  1.80s/it]\u001b[A"
     ]
    },
    {
     "name": "stdout",
     "output_type": "stream",
     "text": [
      "\n",
      " Time needed for MC Dropout-based Uncertainty Estimation   1.395794153213501\n"
     ]
    },
    {
     "name": "stderr",
     "output_type": "stream",
     "text": [
      "\n",
      " 50%|█████     | 5/10 [00:08<00:08,  1.65s/it]\u001b[A"
     ]
    },
    {
     "name": "stdout",
     "output_type": "stream",
     "text": [
      "\n",
      " Time needed for MC Dropout-based Uncertainty Estimation   1.3002305030822754\n"
     ]
    },
    {
     "name": "stderr",
     "output_type": "stream",
     "text": [
      "\n",
      " 60%|██████    | 6/10 [00:09<00:06,  1.59s/it]\u001b[A"
     ]
    },
    {
     "name": "stdout",
     "output_type": "stream",
     "text": [
      "\n",
      " Time needed for MC Dropout-based Uncertainty Estimation   1.4206326007843018\n"
     ]
    },
    {
     "name": "stderr",
     "output_type": "stream",
     "text": [
      "\n",
      " 70%|███████   | 7/10 [00:10<00:04,  1.53s/it]\u001b[A"
     ]
    },
    {
     "name": "stdout",
     "output_type": "stream",
     "text": [
      "\n",
      " Time needed for MC Dropout-based Uncertainty Estimation   1.4079713821411133\n"
     ]
    },
    {
     "name": "stderr",
     "output_type": "stream",
     "text": [
      "\n",
      " 80%|████████  | 8/10 [00:12<00:02,  1.49s/it]\u001b[A"
     ]
    },
    {
     "name": "stdout",
     "output_type": "stream",
     "text": [
      "\n",
      " Time needed for MC Dropout-based Uncertainty Estimation   1.3672564029693604\n"
     ]
    },
    {
     "name": "stderr",
     "output_type": "stream",
     "text": [
      "\n",
      " 90%|█████████ | 9/10 [00:13<00:01,  1.43s/it]\u001b[A"
     ]
    },
    {
     "name": "stdout",
     "output_type": "stream",
     "text": [
      "\n",
      " Time needed for MC Dropout-based Uncertainty Estimation   1.2937791347503662\n"
     ]
    },
    {
     "name": "stderr",
     "output_type": "stream",
     "text": [
      "\n",
      "100%|██████████| 10/10 [00:14<00:00,  1.43s/it]\u001b[A"
     ]
    },
    {
     "name": "stdout",
     "output_type": "stream",
     "text": [
      "\n",
      " Time needed for MC Dropout-based Uncertainty Estimation   1.4054720401763916\n",
      "Loading model: ./trained_models/unet_div8_495K_60_DiceNet.hdf5\n",
      "START EVALUATION......:\n",
      "(20, 400, 400, 28)\n",
      "Loading model: ./trained_models/unet_div8_495K_60.hdf5\n"
     ]
    },
    {
     "name": "stderr",
     "output_type": "stream",
     "text": [
      "\n",
      "  0%|          | 0/20 [00:00<?, ?it/s]\u001b[A\n",
      "  5%|▌         | 1/20 [00:04<01:24,  4.44s/it]\u001b[A"
     ]
    },
    {
     "name": "stdout",
     "output_type": "stream",
     "text": [
      "\n",
      " Time needed for MC Dropout-based Uncertainty Estimation   4.432669401168823\n"
     ]
    },
    {
     "name": "stderr",
     "output_type": "stream",
     "text": [
      "\n",
      " 10%|█         | 2/20 [00:07<01:10,  3.90s/it]\u001b[A"
     ]
    },
    {
     "name": "stdout",
     "output_type": "stream",
     "text": [
      "\n",
      " Time needed for MC Dropout-based Uncertainty Estimation   2.6238181591033936\n"
     ]
    },
    {
     "name": "stderr",
     "output_type": "stream",
     "text": [
      "\n",
      " 15%|█▌        | 3/20 [00:09<00:59,  3.53s/it]\u001b[A"
     ]
    },
    {
     "name": "stdout",
     "output_type": "stream",
     "text": [
      "\n",
      " Time needed for MC Dropout-based Uncertainty Estimation   2.640972375869751\n"
     ]
    },
    {
     "name": "stderr",
     "output_type": "stream",
     "text": [
      "\n",
      " 20%|██        | 4/20 [00:12<00:52,  3.26s/it]\u001b[A"
     ]
    },
    {
     "name": "stdout",
     "output_type": "stream",
     "text": [
      "\n",
      " Time needed for MC Dropout-based Uncertainty Estimation   2.634028196334839\n"
     ]
    },
    {
     "name": "stderr",
     "output_type": "stream",
     "text": [
      "\n",
      " 25%|██▌       | 5/20 [00:15<00:46,  3.09s/it]\u001b[A"
     ]
    },
    {
     "name": "stdout",
     "output_type": "stream",
     "text": [
      "\n",
      " Time needed for MC Dropout-based Uncertainty Estimation   2.670758008956909\n"
     ]
    },
    {
     "name": "stderr",
     "output_type": "stream",
     "text": [
      "\n",
      " 30%|███       | 6/20 [00:17<00:41,  2.96s/it]\u001b[A"
     ]
    },
    {
     "name": "stdout",
     "output_type": "stream",
     "text": [
      "\n",
      " Time needed for MC Dropout-based Uncertainty Estimation   2.6506149768829346\n"
     ]
    },
    {
     "name": "stderr",
     "output_type": "stream",
     "text": [
      "\n",
      " 35%|███▌      | 7/20 [00:20<00:37,  2.87s/it]\u001b[A"
     ]
    },
    {
     "name": "stdout",
     "output_type": "stream",
     "text": [
      "\n",
      " Time needed for MC Dropout-based Uncertainty Estimation   2.6332039833068848\n"
     ]
    },
    {
     "name": "stderr",
     "output_type": "stream",
     "text": [
      "\n",
      " 40%|████      | 8/20 [00:23<00:33,  2.80s/it]\u001b[A"
     ]
    },
    {
     "name": "stdout",
     "output_type": "stream",
     "text": [
      "\n",
      " Time needed for MC Dropout-based Uncertainty Estimation   2.636542320251465\n"
     ]
    },
    {
     "name": "stderr",
     "output_type": "stream",
     "text": [
      "\n",
      " 45%|████▌     | 9/20 [00:25<00:30,  2.76s/it]\u001b[A"
     ]
    },
    {
     "name": "stdout",
     "output_type": "stream",
     "text": [
      "\n",
      " Time needed for MC Dropout-based Uncertainty Estimation   2.6412057876586914\n"
     ]
    },
    {
     "name": "stderr",
     "output_type": "stream",
     "text": [
      "\n",
      " 50%|█████     | 10/20 [00:28<00:27,  2.73s/it]\u001b[A"
     ]
    },
    {
     "name": "stdout",
     "output_type": "stream",
     "text": [
      "\n",
      " Time needed for MC Dropout-based Uncertainty Estimation   2.6584537029266357\n"
     ]
    },
    {
     "name": "stderr",
     "output_type": "stream",
     "text": [
      "\n",
      " 55%|█████▌    | 11/20 [00:31<00:24,  2.72s/it]\u001b[A"
     ]
    },
    {
     "name": "stdout",
     "output_type": "stream",
     "text": [
      "\n",
      " Time needed for MC Dropout-based Uncertainty Estimation   2.667677640914917\n"
     ]
    },
    {
     "name": "stderr",
     "output_type": "stream",
     "text": [
      "\n",
      " 60%|██████    | 12/20 [00:33<00:21,  2.70s/it]\u001b[A"
     ]
    },
    {
     "name": "stdout",
     "output_type": "stream",
     "text": [
      "\n",
      " Time needed for MC Dropout-based Uncertainty Estimation   2.6452529430389404\n"
     ]
    },
    {
     "name": "stderr",
     "output_type": "stream",
     "text": [
      "\n",
      " 65%|██████▌   | 13/20 [00:36<00:18,  2.69s/it]\u001b[A"
     ]
    },
    {
     "name": "stdout",
     "output_type": "stream",
     "text": [
      "\n",
      " Time needed for MC Dropout-based Uncertainty Estimation   2.6579678058624268\n"
     ]
    },
    {
     "name": "stderr",
     "output_type": "stream",
     "text": [
      "\n",
      " 70%|███████   | 14/20 [00:39<00:16,  2.69s/it]\u001b[A"
     ]
    },
    {
     "name": "stdout",
     "output_type": "stream",
     "text": [
      "\n",
      " Time needed for MC Dropout-based Uncertainty Estimation   2.666131019592285\n"
     ]
    },
    {
     "name": "stderr",
     "output_type": "stream",
     "text": [
      "\n",
      " 75%|███████▌  | 15/20 [00:41<00:13,  2.68s/it]\u001b[A"
     ]
    },
    {
     "name": "stdout",
     "output_type": "stream",
     "text": [
      "\n",
      " Time needed for MC Dropout-based Uncertainty Estimation   2.636775016784668\n"
     ]
    },
    {
     "name": "stderr",
     "output_type": "stream",
     "text": [
      "\n",
      " 80%|████████  | 16/20 [00:44<00:10,  2.67s/it]\u001b[A"
     ]
    },
    {
     "name": "stdout",
     "output_type": "stream",
     "text": [
      "\n",
      " Time needed for MC Dropout-based Uncertainty Estimation   2.639610767364502\n"
     ]
    },
    {
     "name": "stderr",
     "output_type": "stream",
     "text": [
      "\n",
      " 85%|████████▌ | 17/20 [00:46<00:07,  2.66s/it]\u001b[A"
     ]
    },
    {
     "name": "stdout",
     "output_type": "stream",
     "text": [
      "\n",
      " Time needed for MC Dropout-based Uncertainty Estimation   2.6128885746002197\n"
     ]
    },
    {
     "name": "stderr",
     "output_type": "stream",
     "text": [
      "\n",
      " 90%|█████████ | 18/20 [00:49<00:05,  2.65s/it]\u001b[A"
     ]
    },
    {
     "name": "stdout",
     "output_type": "stream",
     "text": [
      "\n",
      " Time needed for MC Dropout-based Uncertainty Estimation   2.615725517272949\n"
     ]
    },
    {
     "name": "stderr",
     "output_type": "stream",
     "text": [
      "\n",
      " 95%|█████████▌| 19/20 [00:52<00:02,  2.66s/it]\u001b[A"
     ]
    },
    {
     "name": "stdout",
     "output_type": "stream",
     "text": [
      "\n",
      " Time needed for MC Dropout-based Uncertainty Estimation   2.6823678016662598\n"
     ]
    },
    {
     "name": "stderr",
     "output_type": "stream",
     "text": [
      "\n",
      "100%|██████████| 20/20 [00:54<00:00,  2.66s/it]\u001b[A"
     ]
    },
    {
     "name": "stdout",
     "output_type": "stream",
     "text": [
      "\n",
      " Time needed for MC Dropout-based Uncertainty Estimation   2.6348650455474854\n",
      "START TRAINING......:\n",
      "Training with 60 images\n",
      "Validating with 10 images\n",
      "Training Unet-mcdropout\n",
      "(60, 400, 400, 28)\n",
      "Epoch 1/80\n",
      " - 9s - loss: 0.8144 - accuracy: 0.3612 - val_loss: 0.5025 - val_accuracy: 0.8275\n",
      "\n",
      "Epoch 00001: val_loss improved from inf to 0.50255, saving model to ./trained_models/unet_div8_495K_60.hdf5\n",
      "Epoch 2/80\n",
      " - 4s - loss: 0.6043 - accuracy: 0.6267 - val_loss: 0.6306 - val_accuracy: 0.8823\n",
      "\n",
      "Epoch 00002: val_loss did not improve from 0.50255\n",
      "Epoch 3/80\n",
      " - 8s - loss: 0.5046 - accuracy: 0.7702 - val_loss: 0.6198 - val_accuracy: 0.8848\n",
      "\n",
      "Epoch 00003: val_loss did not improve from 0.50255\n",
      "Epoch 4/80\n",
      " - 7s - loss: 0.4629 - accuracy: 0.8868 - val_loss: 0.5640 - val_accuracy: 0.8848\n",
      "\n",
      "Epoch 00004: val_loss did not improve from 0.50255\n",
      "Epoch 5/80\n",
      " - 8s - loss: 0.4388 - accuracy: 0.8954 - val_loss: 0.4995 - val_accuracy: 0.8848\n",
      "\n",
      "Epoch 00005: val_loss improved from 0.50255 to 0.49952, saving model to ./trained_models/unet_div8_495K_60.hdf5\n",
      "Epoch 6/80\n",
      " - 7s - loss: 0.4326 - accuracy: 0.8836 - val_loss: 0.4650 - val_accuracy: 0.8848\n",
      "\n",
      "Epoch 00006: val_loss improved from 0.49952 to 0.46502, saving model to ./trained_models/unet_div8_495K_60.hdf5\n",
      "Epoch 7/80\n",
      " - 7s - loss: 0.4111 - accuracy: 0.8988 - val_loss: 0.4063 - val_accuracy: 0.8848\n",
      "\n",
      "Epoch 00007: val_loss improved from 0.46502 to 0.40627, saving model to ./trained_models/unet_div8_495K_60.hdf5\n",
      "Epoch 8/80\n",
      " - 8s - loss: 0.3882 - accuracy: 0.8989 - val_loss: 0.3916 - val_accuracy: 0.8848\n",
      "\n",
      "Epoch 00008: val_loss improved from 0.40627 to 0.39162, saving model to ./trained_models/unet_div8_495K_60.hdf5\n",
      "Epoch 9/80\n",
      " - 8s - loss: 0.3664 - accuracy: 0.8992 - val_loss: 0.4244 - val_accuracy: 0.8848\n",
      "\n",
      "Epoch 00009: val_loss did not improve from 0.39162\n",
      "Epoch 10/80\n",
      " - 8s - loss: 0.3441 - accuracy: 0.8991 - val_loss: 0.4280 - val_accuracy: 0.8847\n",
      "\n",
      "Epoch 00010: val_loss did not improve from 0.39162\n",
      "Epoch 11/80\n",
      " - 7s - loss: 0.3233 - accuracy: 0.8994 - val_loss: 0.3860 - val_accuracy: 0.8848\n",
      "\n",
      "Epoch 00011: val_loss improved from 0.39162 to 0.38602, saving model to ./trained_models/unet_div8_495K_60.hdf5\n",
      "Epoch 12/80\n",
      " - 7s - loss: 0.3051 - accuracy: 0.8994 - val_loss: 0.4707 - val_accuracy: 0.8848\n",
      "\n",
      "Epoch 00012: val_loss did not improve from 0.38602\n",
      "Epoch 13/80\n",
      " - 8s - loss: 0.2963 - accuracy: 0.8992 - val_loss: 0.3556 - val_accuracy: 0.8848\n",
      "\n",
      "Epoch 00013: val_loss improved from 0.38602 to 0.35558, saving model to ./trained_models/unet_div8_495K_60.hdf5\n",
      "Epoch 14/80\n",
      " - 7s - loss: 0.2821 - accuracy: 0.8995 - val_loss: 0.4004 - val_accuracy: 0.8848\n",
      "\n",
      "Epoch 00014: val_loss did not improve from 0.35558\n",
      "Epoch 15/80\n",
      " - 9s - loss: 0.2730 - accuracy: 0.8992 - val_loss: 0.4533 - val_accuracy: 0.8848\n",
      "\n",
      "Epoch 00015: val_loss did not improve from 0.35558\n",
      "Epoch 16/80\n",
      " - 8s - loss: 0.2694 - accuracy: 0.8992 - val_loss: 0.3933 - val_accuracy: 0.8848\n",
      "\n",
      "Epoch 00016: val_loss did not improve from 0.35558\n",
      "Epoch 17/80\n",
      " - 8s - loss: 0.2661 - accuracy: 0.8993 - val_loss: 0.3082 - val_accuracy: 0.8848\n",
      "\n",
      "Epoch 00017: val_loss improved from 0.35558 to 0.30823, saving model to ./trained_models/unet_div8_495K_60.hdf5\n",
      "Epoch 18/80\n",
      " - 8s - loss: 0.2575 - accuracy: 0.8993 - val_loss: 0.2575 - val_accuracy: 0.8849\n",
      "\n",
      "Epoch 00018: val_loss improved from 0.30823 to 0.25746, saving model to ./trained_models/unet_div8_495K_60.hdf5\n",
      "Epoch 19/80\n",
      " - 8s - loss: 0.2499 - accuracy: 0.8992 - val_loss: 0.2584 - val_accuracy: 0.8848\n",
      "\n",
      "Epoch 00019: val_loss did not improve from 0.25746\n",
      "Epoch 20/80\n",
      " - 7s - loss: 0.2462 - accuracy: 0.8994 - val_loss: 0.2497 - val_accuracy: 0.8848\n",
      "\n",
      "Epoch 00020: val_loss improved from 0.25746 to 0.24968, saving model to ./trained_models/unet_div8_495K_60.hdf5\n",
      "Epoch 21/80\n",
      " - 8s - loss: 0.2377 - accuracy: 0.8993 - val_loss: 0.2933 - val_accuracy: 0.8849\n",
      "\n",
      "Epoch 00021: val_loss did not improve from 0.24968\n",
      "Epoch 22/80\n",
      " - 9s - loss: 0.2366 - accuracy: 0.8991 - val_loss: 0.2555 - val_accuracy: 0.8849\n",
      "\n",
      "Epoch 00022: val_loss did not improve from 0.24968\n",
      "Epoch 23/80\n",
      " - 9s - loss: 0.2282 - accuracy: 0.8991 - val_loss: 0.2579 - val_accuracy: 0.8849\n",
      "\n",
      "Epoch 00023: val_loss did not improve from 0.24968\n",
      "Epoch 24/80\n",
      " - 8s - loss: 0.2262 - accuracy: 0.8992 - val_loss: 0.3185 - val_accuracy: 0.8849\n",
      "\n",
      "Epoch 00024: val_loss did not improve from 0.24968\n",
      "Epoch 25/80\n",
      " - 8s - loss: 0.2232 - accuracy: 0.8993 - val_loss: 0.3101 - val_accuracy: 0.8849\n",
      "\n",
      "Epoch 00025: val_loss did not improve from 0.24968\n",
      "Epoch 26/80\n",
      " - 9s - loss: 0.2230 - accuracy: 0.8991 - val_loss: 0.2546 - val_accuracy: 0.8852\n",
      "\n",
      "Epoch 00026: val_loss did not improve from 0.24968\n",
      "Epoch 27/80\n",
      " - 9s - loss: 0.2216 - accuracy: 0.8991 - val_loss: 0.2446 - val_accuracy: 0.8852\n",
      "\n",
      "Epoch 00027: val_loss improved from 0.24968 to 0.24458, saving model to ./trained_models/unet_div8_495K_60.hdf5\n",
      "Epoch 28/80\n",
      " - 8s - loss: 0.2186 - accuracy: 0.8992 - val_loss: 0.2696 - val_accuracy: 0.8851\n",
      "\n",
      "Epoch 00028: val_loss did not improve from 0.24458\n",
      "Epoch 29/80\n",
      " - 8s - loss: 0.2137 - accuracy: 0.9009 - val_loss: 0.2233 - val_accuracy: 0.8947\n",
      "\n",
      "Epoch 00029: val_loss improved from 0.24458 to 0.22332, saving model to ./trained_models/unet_div8_495K_60.hdf5\n",
      "Epoch 30/80\n",
      " - 7s - loss: 0.2112 - accuracy: 0.9000 - val_loss: 0.2192 - val_accuracy: 0.9003\n",
      "\n",
      "Epoch 00030: val_loss improved from 0.22332 to 0.21922, saving model to ./trained_models/unet_div8_495K_60.hdf5\n",
      "Epoch 31/80\n",
      " - 8s - loss: 0.2056 - accuracy: 0.9002 - val_loss: 0.2239 - val_accuracy: 0.9011\n",
      "\n",
      "Epoch 00031: val_loss did not improve from 0.21922\n",
      "Epoch 32/80\n",
      " - 8s - loss: 0.2082 - accuracy: 0.9009 - val_loss: 0.2201 - val_accuracy: 0.8997\n",
      "\n",
      "Epoch 00032: val_loss did not improve from 0.21922\n",
      "Epoch 33/80\n",
      " - 9s - loss: 0.2046 - accuracy: 0.9002 - val_loss: 0.2415 - val_accuracy: 0.9058\n",
      "\n",
      "Epoch 00033: val_loss did not improve from 0.21922\n",
      "Epoch 34/80\n",
      " - 9s - loss: 0.2032 - accuracy: 0.9004 - val_loss: 0.2570 - val_accuracy: 0.8981\n",
      "\n",
      "Epoch 00034: val_loss did not improve from 0.21922\n",
      "Epoch 35/80\n",
      " - 9s - loss: 0.2055 - accuracy: 0.8998 - val_loss: 0.2446 - val_accuracy: 0.8964\n",
      "\n",
      "Epoch 00035: val_loss did not improve from 0.21922\n",
      "Epoch 36/80\n",
      " - 7s - loss: 0.2012 - accuracy: 0.9030 - val_loss: 0.2122 - val_accuracy: 0.9121\n",
      "\n",
      "Epoch 00036: val_loss improved from 0.21922 to 0.21218, saving model to ./trained_models/unet_div8_495K_60.hdf5\n",
      "Epoch 37/80\n",
      " - 9s - loss: 0.1959 - accuracy: 0.9028 - val_loss: 0.2466 - val_accuracy: 0.9055\n",
      "\n",
      "Epoch 00037: val_loss did not improve from 0.21218\n",
      "Epoch 38/80\n",
      " - 8s - loss: 0.2033 - accuracy: 0.8997 - val_loss: 0.2102 - val_accuracy: 0.9045\n",
      "\n",
      "Epoch 00038: val_loss improved from 0.21218 to 0.21020, saving model to ./trained_models/unet_div8_495K_60.hdf5\n",
      "Epoch 39/80\n",
      " - 7s - loss: 0.1956 - accuracy: 0.9012 - val_loss: 0.2247 - val_accuracy: 0.9070\n",
      "\n",
      "Epoch 00039: val_loss did not improve from 0.21020\n",
      "Epoch 40/80\n",
      " - 7s - loss: 0.2014 - accuracy: 0.9007 - val_loss: 0.2066 - val_accuracy: 0.9123\n",
      "\n",
      "Epoch 00040: val_loss improved from 0.21020 to 0.20663, saving model to ./trained_models/unet_div8_495K_60.hdf5\n",
      "Epoch 41/80\n",
      " - 8s - loss: 0.1984 - accuracy: 0.9013 - val_loss: 0.2136 - val_accuracy: 0.9201\n",
      "\n",
      "Epoch 00041: val_loss did not improve from 0.20663\n",
      "Epoch 42/80\n",
      " - 9s - loss: 0.1926 - accuracy: 0.9068 - val_loss: 0.2327 - val_accuracy: 0.9025\n",
      "\n",
      "Epoch 00042: val_loss did not improve from 0.20663\n",
      "Epoch 43/80\n",
      " - 7s - loss: 0.1966 - accuracy: 0.9015 - val_loss: 0.2118 - val_accuracy: 0.9071\n",
      "\n",
      "Epoch 00043: val_loss did not improve from 0.20663\n",
      "Epoch 44/80\n",
      " - 7s - loss: 0.1939 - accuracy: 0.9048 - val_loss: 0.2042 - val_accuracy: 0.9147\n",
      "\n",
      "Epoch 00044: val_loss improved from 0.20663 to 0.20420, saving model to ./trained_models/unet_div8_495K_60.hdf5\n",
      "Epoch 45/80\n",
      " - 8s - loss: 0.1865 - accuracy: 0.9058 - val_loss: 0.2097 - val_accuracy: 0.9135\n",
      "\n",
      "Epoch 00045: val_loss did not improve from 0.20420\n",
      "Epoch 46/80\n",
      " - 8s - loss: 0.1873 - accuracy: 0.9049 - val_loss: 0.2086 - val_accuracy: 0.9078\n",
      "\n",
      "Epoch 00046: val_loss did not improve from 0.20420\n",
      "Epoch 47/80\n",
      " - 7s - loss: 0.1886 - accuracy: 0.9077 - val_loss: 0.2106 - val_accuracy: 0.9089\n",
      "\n",
      "Epoch 00047: val_loss did not improve from 0.20420\n",
      "Epoch 48/80\n",
      " - 10s - loss: 0.1837 - accuracy: 0.9073 - val_loss: 0.2313 - val_accuracy: 0.9047\n",
      "\n",
      "Epoch 00048: val_loss did not improve from 0.20420\n",
      "Epoch 49/80\n"
     ]
    },
    {
     "name": "stdout",
     "output_type": "stream",
     "text": [
      " - 9s - loss: 0.1869 - accuracy: 0.9089 - val_loss: 0.2052 - val_accuracy: 0.9028\n",
      "\n",
      "Epoch 00049: val_loss did not improve from 0.20420\n",
      "Epoch 50/80\n",
      " - 8s - loss: 0.1887 - accuracy: 0.9018 - val_loss: 0.2047 - val_accuracy: 0.9076\n",
      "\n",
      "Epoch 00050: val_loss did not improve from 0.20420\n",
      "Epoch 51/80\n",
      " - 8s - loss: 0.1894 - accuracy: 0.9066 - val_loss: 0.2141 - val_accuracy: 0.9084\n",
      "\n",
      "Epoch 00051: val_loss did not improve from 0.20420\n",
      "Epoch 52/80\n",
      " - 8s - loss: 0.1815 - accuracy: 0.9103 - val_loss: 0.2491 - val_accuracy: 0.9010\n",
      "\n",
      "Epoch 00052: val_loss did not improve from 0.20420\n",
      "Epoch 53/80\n",
      " - 8s - loss: 0.1841 - accuracy: 0.9078 - val_loss: 0.2084 - val_accuracy: 0.9085\n",
      "\n",
      "Epoch 00053: val_loss did not improve from 0.20420\n",
      "Epoch 54/80\n",
      " - 8s - loss: 0.1889 - accuracy: 0.9087 - val_loss: 0.2364 - val_accuracy: 0.8893\n",
      "\n",
      "Epoch 00054: val_loss did not improve from 0.20420\n",
      "Epoch 55/80\n",
      " - 9s - loss: 0.1880 - accuracy: 0.9060 - val_loss: 0.2134 - val_accuracy: 0.8950\n",
      "\n",
      "Epoch 00055: val_loss did not improve from 0.20420\n",
      "Epoch 56/80\n",
      " - 7s - loss: 0.1835 - accuracy: 0.9078 - val_loss: 0.2050 - val_accuracy: 0.9070\n"
     ]
    },
    {
     "name": "stderr",
     "output_type": "stream",
     "text": [
      "\n",
      "  0%|          | 0/60 [00:00<?, ?it/s]\u001b[A"
     ]
    },
    {
     "name": "stdout",
     "output_type": "stream",
     "text": [
      "\n",
      "Epoch 00056: val_loss did not improve from 0.20420\n"
     ]
    },
    {
     "name": "stderr",
     "output_type": "stream",
     "text": [
      "\n",
      "  2%|▏         | 1/60 [00:30<30:17, 30.80s/it]\u001b[A"
     ]
    },
    {
     "name": "stdout",
     "output_type": "stream",
     "text": [
      "\n",
      " Time needed for MC Dropout-based Uncertainty Estimation   30.776472568511963\n"
     ]
    },
    {
     "name": "stderr",
     "output_type": "stream",
     "text": [
      "\n",
      "  3%|▎         | 2/60 [01:01<29:37, 30.65s/it]\u001b[A"
     ]
    },
    {
     "name": "stdout",
     "output_type": "stream",
     "text": [
      "\n",
      " Time needed for MC Dropout-based Uncertainty Estimation   30.23588490486145\n"
     ]
    },
    {
     "name": "stderr",
     "output_type": "stream",
     "text": [
      "\n",
      "  5%|▌         | 3/60 [01:31<29:02, 30.58s/it]\u001b[A"
     ]
    },
    {
     "name": "stdout",
     "output_type": "stream",
     "text": [
      "\n",
      " Time needed for MC Dropout-based Uncertainty Estimation   30.367910146713257\n"
     ]
    },
    {
     "name": "stderr",
     "output_type": "stream",
     "text": [
      "\n",
      "  7%|▋         | 4/60 [02:01<28:30, 30.54s/it]\u001b[A"
     ]
    },
    {
     "name": "stdout",
     "output_type": "stream",
     "text": [
      "\n",
      " Time needed for MC Dropout-based Uncertainty Estimation   30.396812438964844\n"
     ]
    },
    {
     "name": "stderr",
     "output_type": "stream",
     "text": [
      "\n",
      "  8%|▊         | 5/60 [02:32<27:59, 30.54s/it]\u001b[A"
     ]
    },
    {
     "name": "stdout",
     "output_type": "stream",
     "text": [
      "\n",
      " Time needed for MC Dropout-based Uncertainty Estimation   30.489870309829712\n"
     ]
    },
    {
     "name": "stderr",
     "output_type": "stream",
     "text": [
      "\n",
      " 10%|█         | 6/60 [03:03<27:29, 30.55s/it]\u001b[A"
     ]
    },
    {
     "name": "stdout",
     "output_type": "stream",
     "text": [
      "\n",
      " Time needed for MC Dropout-based Uncertainty Estimation   30.526361227035522\n"
     ]
    },
    {
     "name": "stderr",
     "output_type": "stream",
     "text": [
      "\n",
      " 12%|█▏        | 7/60 [03:33<27:03, 30.63s/it]\u001b[A"
     ]
    },
    {
     "name": "stdout",
     "output_type": "stream",
     "text": [
      "\n",
      " Time needed for MC Dropout-based Uncertainty Estimation   30.77018928527832\n"
     ]
    },
    {
     "name": "stderr",
     "output_type": "stream",
     "text": [
      "\n",
      " 13%|█▎        | 8/60 [04:04<26:30, 30.58s/it]\u001b[A"
     ]
    },
    {
     "name": "stdout",
     "output_type": "stream",
     "text": [
      "\n",
      " Time needed for MC Dropout-based Uncertainty Estimation   30.40501642227173\n"
     ]
    },
    {
     "name": "stderr",
     "output_type": "stream",
     "text": [
      "\n",
      " 15%|█▌        | 9/60 [04:34<25:54, 30.49s/it]\u001b[A"
     ]
    },
    {
     "name": "stdout",
     "output_type": "stream",
     "text": [
      "\n",
      " Time needed for MC Dropout-based Uncertainty Estimation   30.21785616874695\n"
     ]
    },
    {
     "name": "stderr",
     "output_type": "stream",
     "text": [
      "\n",
      " 17%|█▋        | 10/60 [05:04<25:21, 30.43s/it]\u001b[A"
     ]
    },
    {
     "name": "stdout",
     "output_type": "stream",
     "text": [
      "\n",
      " Time needed for MC Dropout-based Uncertainty Estimation   30.258342266082764\n"
     ]
    },
    {
     "name": "stderr",
     "output_type": "stream",
     "text": [
      "\n",
      " 18%|█▊        | 11/60 [05:35<24:49, 30.40s/it]\u001b[A"
     ]
    },
    {
     "name": "stdout",
     "output_type": "stream",
     "text": [
      "\n",
      " Time needed for MC Dropout-based Uncertainty Estimation   30.28069305419922\n"
     ]
    },
    {
     "name": "stderr",
     "output_type": "stream",
     "text": [
      "\n",
      " 20%|██        | 12/60 [06:05<24:18, 30.38s/it]\u001b[A"
     ]
    },
    {
     "name": "stdout",
     "output_type": "stream",
     "text": [
      "\n",
      " Time needed for MC Dropout-based Uncertainty Estimation   30.270265102386475\n"
     ]
    },
    {
     "name": "stderr",
     "output_type": "stream",
     "text": [
      "\n",
      " 22%|██▏       | 13/60 [06:35<23:46, 30.35s/it]\u001b[A"
     ]
    },
    {
     "name": "stdout",
     "output_type": "stream",
     "text": [
      "\n",
      " Time needed for MC Dropout-based Uncertainty Estimation   30.23556637763977\n"
     ]
    },
    {
     "name": "stderr",
     "output_type": "stream",
     "text": [
      "\n",
      " 23%|██▎       | 14/60 [07:06<23:16, 30.35s/it]\u001b[A"
     ]
    },
    {
     "name": "stdout",
     "output_type": "stream",
     "text": [
      "\n",
      " Time needed for MC Dropout-based Uncertainty Estimation   30.297715663909912\n"
     ]
    },
    {
     "name": "stderr",
     "output_type": "stream",
     "text": [
      "\n",
      " 25%|██▌       | 15/60 [07:36<22:46, 30.38s/it]\u001b[A"
     ]
    },
    {
     "name": "stdout",
     "output_type": "stream",
     "text": [
      "\n",
      " Time needed for MC Dropout-based Uncertainty Estimation   30.38020157814026\n"
     ]
    },
    {
     "name": "stderr",
     "output_type": "stream",
     "text": [
      "\n",
      " 27%|██▋       | 16/60 [08:07<22:17, 30.40s/it]\u001b[A"
     ]
    },
    {
     "name": "stdout",
     "output_type": "stream",
     "text": [
      "\n",
      " Time needed for MC Dropout-based Uncertainty Estimation   30.408066749572754\n"
     ]
    },
    {
     "name": "stderr",
     "output_type": "stream",
     "text": [
      "\n",
      " 28%|██▊       | 17/60 [08:37<21:49, 30.46s/it]\u001b[A"
     ]
    },
    {
     "name": "stdout",
     "output_type": "stream",
     "text": [
      "\n",
      " Time needed for MC Dropout-based Uncertainty Estimation   30.55471110343933\n"
     ]
    },
    {
     "name": "stderr",
     "output_type": "stream",
     "text": [
      "\n",
      " 30%|███       | 18/60 [09:08<21:20, 30.50s/it]\u001b[A"
     ]
    },
    {
     "name": "stdout",
     "output_type": "stream",
     "text": [
      "\n",
      " Time needed for MC Dropout-based Uncertainty Estimation   30.531022787094116\n"
     ]
    },
    {
     "name": "stderr",
     "output_type": "stream",
     "text": [
      "\n",
      " 32%|███▏      | 19/60 [09:38<20:51, 30.52s/it]\u001b[A"
     ]
    },
    {
     "name": "stdout",
     "output_type": "stream",
     "text": [
      "\n",
      " Time needed for MC Dropout-based Uncertainty Estimation   30.50411081314087\n"
     ]
    },
    {
     "name": "stderr",
     "output_type": "stream",
     "text": [
      "\n",
      " 33%|███▎      | 20/60 [10:09<20:21, 30.53s/it]\u001b[A"
     ]
    },
    {
     "name": "stdout",
     "output_type": "stream",
     "text": [
      "\n",
      " Time needed for MC Dropout-based Uncertainty Estimation   30.495864868164062\n"
     ]
    },
    {
     "name": "stderr",
     "output_type": "stream",
     "text": [
      "\n",
      " 35%|███▌      | 21/60 [10:39<19:47, 30.45s/it]\u001b[A"
     ]
    },
    {
     "name": "stdout",
     "output_type": "stream",
     "text": [
      "\n",
      " Time needed for MC Dropout-based Uncertainty Estimation   30.22438931465149\n"
     ]
    },
    {
     "name": "stderr",
     "output_type": "stream",
     "text": [
      "\n",
      " 37%|███▋      | 22/60 [11:09<19:14, 30.39s/it]\u001b[A"
     ]
    },
    {
     "name": "stdout",
     "output_type": "stream",
     "text": [
      "\n",
      " Time needed for MC Dropout-based Uncertainty Estimation   30.20145034790039\n"
     ]
    },
    {
     "name": "stderr",
     "output_type": "stream",
     "text": [
      "\n",
      " 38%|███▊      | 23/60 [11:40<18:43, 30.37s/it]\u001b[A"
     ]
    },
    {
     "name": "stdout",
     "output_type": "stream",
     "text": [
      "\n",
      " Time needed for MC Dropout-based Uncertainty Estimation   30.271734714508057\n"
     ]
    },
    {
     "name": "stderr",
     "output_type": "stream",
     "text": [
      "\n",
      " 40%|████      | 24/60 [12:10<18:11, 30.33s/it]\u001b[A"
     ]
    },
    {
     "name": "stdout",
     "output_type": "stream",
     "text": [
      "\n",
      " Time needed for MC Dropout-based Uncertainty Estimation   30.18119978904724\n"
     ]
    },
    {
     "name": "stderr",
     "output_type": "stream",
     "text": [
      "\n",
      " 42%|████▏     | 25/60 [12:40<17:40, 30.29s/it]\u001b[A"
     ]
    },
    {
     "name": "stdout",
     "output_type": "stream",
     "text": [
      "\n",
      " Time needed for MC Dropout-based Uncertainty Estimation   30.138530015945435\n"
     ]
    },
    {
     "name": "stderr",
     "output_type": "stream",
     "text": [
      "\n",
      " 43%|████▎     | 26/60 [13:11<17:11, 30.34s/it]\u001b[A"
     ]
    },
    {
     "name": "stdout",
     "output_type": "stream",
     "text": [
      "\n",
      " Time needed for MC Dropout-based Uncertainty Estimation   30.41198968887329\n"
     ]
    },
    {
     "name": "stderr",
     "output_type": "stream",
     "text": [
      "\n",
      " 45%|████▌     | 27/60 [13:41<16:40, 30.32s/it]\u001b[A"
     ]
    },
    {
     "name": "stdout",
     "output_type": "stream",
     "text": [
      "\n",
      " Time needed for MC Dropout-based Uncertainty Estimation   30.218836307525635\n"
     ]
    },
    {
     "name": "stderr",
     "output_type": "stream",
     "text": [
      "\n",
      " 47%|████▋     | 28/60 [14:11<16:10, 30.32s/it]\u001b[A"
     ]
    },
    {
     "name": "stdout",
     "output_type": "stream",
     "text": [
      "\n",
      " Time needed for MC Dropout-based Uncertainty Estimation   30.259870290756226\n"
     ]
    },
    {
     "name": "stderr",
     "output_type": "stream",
     "text": [
      "\n",
      " 48%|████▊     | 29/60 [14:41<15:38, 30.29s/it]\u001b[A"
     ]
    },
    {
     "name": "stdout",
     "output_type": "stream",
     "text": [
      "\n",
      " Time needed for MC Dropout-based Uncertainty Estimation   30.161511182785034\n"
     ]
    },
    {
     "name": "stderr",
     "output_type": "stream",
     "text": [
      "\n",
      " 50%|█████     | 30/60 [15:12<15:09, 30.30s/it]\u001b[A"
     ]
    },
    {
     "name": "stdout",
     "output_type": "stream",
     "text": [
      "\n",
      " Time needed for MC Dropout-based Uncertainty Estimation   30.28785729408264\n"
     ]
    },
    {
     "name": "stderr",
     "output_type": "stream",
     "text": [
      "\n",
      " 52%|█████▏    | 31/60 [15:42<14:39, 30.31s/it]\u001b[A"
     ]
    },
    {
     "name": "stdout",
     "output_type": "stream",
     "text": [
      "\n",
      " Time needed for MC Dropout-based Uncertainty Estimation   30.284428358078003\n"
     ]
    },
    {
     "name": "stderr",
     "output_type": "stream",
     "text": [
      "\n",
      " 53%|█████▎    | 32/60 [16:13<14:11, 30.40s/it]\u001b[A"
     ]
    },
    {
     "name": "stdout",
     "output_type": "stream",
     "text": [
      "\n",
      " Time needed for MC Dropout-based Uncertainty Estimation   30.545159339904785\n"
     ]
    },
    {
     "name": "stderr",
     "output_type": "stream",
     "text": [
      "\n",
      " 55%|█████▌    | 33/60 [16:43<13:41, 30.42s/it]\u001b[A"
     ]
    },
    {
     "name": "stdout",
     "output_type": "stream",
     "text": [
      "\n",
      " Time needed for MC Dropout-based Uncertainty Estimation   30.431204557418823\n"
     ]
    },
    {
     "name": "stderr",
     "output_type": "stream",
     "text": [
      "\n",
      " 57%|█████▋    | 34/60 [17:14<13:11, 30.43s/it]\u001b[A"
     ]
    },
    {
     "name": "stdout",
     "output_type": "stream",
     "text": [
      "\n",
      " Time needed for MC Dropout-based Uncertainty Estimation   30.377449989318848\n"
     ]
    },
    {
     "name": "stderr",
     "output_type": "stream",
     "text": [
      "\n",
      " 58%|█████▊    | 35/60 [17:44<12:40, 30.40s/it]\u001b[A"
     ]
    },
    {
     "name": "stdout",
     "output_type": "stream",
     "text": [
      "\n",
      " Time needed for MC Dropout-based Uncertainty Estimation   30.294455766677856\n"
     ]
    },
    {
     "name": "stderr",
     "output_type": "stream",
     "text": [
      "\n",
      " 60%|██████    | 36/60 [18:15<12:10, 30.44s/it]\u001b[A"
     ]
    },
    {
     "name": "stdout",
     "output_type": "stream",
     "text": [
      "\n",
      " Time needed for MC Dropout-based Uncertainty Estimation   30.480117321014404\n"
     ]
    },
    {
     "name": "stderr",
     "output_type": "stream",
     "text": [
      "\n",
      " 62%|██████▏   | 37/60 [18:45<11:41, 30.48s/it]\u001b[A"
     ]
    },
    {
     "name": "stdout",
     "output_type": "stream",
     "text": [
      "\n",
      " Time needed for MC Dropout-based Uncertainty Estimation   30.52877116203308\n"
     ]
    },
    {
     "name": "stderr",
     "output_type": "stream",
     "text": [
      "\n",
      " 63%|██████▎   | 38/60 [19:16<11:11, 30.53s/it]\u001b[A"
     ]
    },
    {
     "name": "stdout",
     "output_type": "stream",
     "text": [
      "\n",
      " Time needed for MC Dropout-based Uncertainty Estimation   30.581908464431763\n"
     ]
    },
    {
     "name": "stderr",
     "output_type": "stream",
     "text": [
      "\n",
      " 65%|██████▌   | 39/60 [19:46<10:40, 30.52s/it]\u001b[A"
     ]
    },
    {
     "name": "stdout",
     "output_type": "stream",
     "text": [
      "\n",
      " Time needed for MC Dropout-based Uncertainty Estimation   30.43430233001709\n"
     ]
    },
    {
     "name": "stderr",
     "output_type": "stream",
     "text": [
      "\n",
      " 67%|██████▋   | 40/60 [20:17<10:10, 30.51s/it]\u001b[A"
     ]
    },
    {
     "name": "stdout",
     "output_type": "stream",
     "text": [
      "\n",
      " Time needed for MC Dropout-based Uncertainty Estimation   30.459920167922974\n"
     ]
    },
    {
     "name": "stderr",
     "output_type": "stream",
     "text": [
      "\n",
      " 68%|██████▊   | 41/60 [20:47<09:40, 30.54s/it]\u001b[A"
     ]
    },
    {
     "name": "stdout",
     "output_type": "stream",
     "text": [
      "\n",
      " Time needed for MC Dropout-based Uncertainty Estimation   30.532676935195923\n"
     ]
    },
    {
     "name": "stderr",
     "output_type": "stream",
     "text": [
      "\n",
      " 70%|███████   | 42/60 [21:18<09:09, 30.52s/it]\u001b[A"
     ]
    },
    {
     "name": "stdout",
     "output_type": "stream",
     "text": [
      "\n",
      " Time needed for MC Dropout-based Uncertainty Estimation   30.43741464614868\n"
     ]
    },
    {
     "name": "stderr",
     "output_type": "stream",
     "text": [
      "\n",
      " 72%|███████▏  | 43/60 [21:48<08:39, 30.55s/it]\u001b[A"
     ]
    },
    {
     "name": "stdout",
     "output_type": "stream",
     "text": [
      "\n",
      " Time needed for MC Dropout-based Uncertainty Estimation   30.55468225479126\n"
     ]
    },
    {
     "name": "stderr",
     "output_type": "stream",
     "text": [
      "\n",
      " 73%|███████▎  | 44/60 [22:19<08:08, 30.51s/it]\u001b[A"
     ]
    },
    {
     "name": "stdout",
     "output_type": "stream",
     "text": [
      "\n",
      " Time needed for MC Dropout-based Uncertainty Estimation   30.374509572982788\n"
     ]
    },
    {
     "name": "stderr",
     "output_type": "stream",
     "text": [
      "\n",
      " 75%|███████▌  | 45/60 [22:49<07:36, 30.42s/it]\u001b[A"
     ]
    },
    {
     "name": "stdout",
     "output_type": "stream",
     "text": [
      "\n",
      " Time needed for MC Dropout-based Uncertainty Estimation   30.161336660385132\n"
     ]
    },
    {
     "name": "stderr",
     "output_type": "stream",
     "text": [
      "\n",
      " 77%|███████▋  | 46/60 [23:19<07:05, 30.40s/it]\u001b[A"
     ]
    },
    {
     "name": "stdout",
     "output_type": "stream",
     "text": [
      "\n",
      " Time needed for MC Dropout-based Uncertainty Estimation   30.28717541694641\n"
     ]
    },
    {
     "name": "stderr",
     "output_type": "stream",
     "text": [
      "\n",
      " 78%|███████▊  | 47/60 [23:50<06:35, 30.38s/it]\u001b[A"
     ]
    },
    {
     "name": "stdout",
     "output_type": "stream",
     "text": [
      "\n",
      " Time needed for MC Dropout-based Uncertainty Estimation   30.305532932281494\n"
     ]
    },
    {
     "name": "stderr",
     "output_type": "stream",
     "text": [
      "\n",
      " 80%|████████  | 48/60 [24:20<06:04, 30.39s/it]\u001b[A"
     ]
    },
    {
     "name": "stdout",
     "output_type": "stream",
     "text": [
      "\n",
      " Time needed for MC Dropout-based Uncertainty Estimation   30.355226039886475\n"
     ]
    },
    {
     "name": "stderr",
     "output_type": "stream",
     "text": [
      "\n",
      " 82%|████████▏ | 49/60 [24:50<05:33, 30.34s/it]\u001b[A"
     ]
    },
    {
     "name": "stdout",
     "output_type": "stream",
     "text": [
      "\n",
      " Time needed for MC Dropout-based Uncertainty Estimation   30.15591263771057\n"
     ]
    },
    {
     "name": "stderr",
     "output_type": "stream",
     "text": [
      "\n",
      " 83%|████████▎ | 50/60 [25:21<05:03, 30.33s/it]\u001b[A"
     ]
    },
    {
     "name": "stdout",
     "output_type": "stream",
     "text": [
      "\n",
      " Time needed for MC Dropout-based Uncertainty Estimation   30.265649795532227\n"
     ]
    },
    {
     "name": "stderr",
     "output_type": "stream",
     "text": [
      "\n",
      " 85%|████████▌ | 51/60 [25:51<04:32, 30.27s/it]\u001b[A"
     ]
    },
    {
     "name": "stdout",
     "output_type": "stream",
     "text": [
      "\n",
      " Time needed for MC Dropout-based Uncertainty Estimation   30.090713262557983\n"
     ]
    },
    {
     "name": "stderr",
     "output_type": "stream",
     "text": [
      "\n",
      " 87%|████████▋ | 52/60 [26:21<04:01, 30.22s/it]\u001b[A"
     ]
    },
    {
     "name": "stdout",
     "output_type": "stream",
     "text": [
      "\n",
      " Time needed for MC Dropout-based Uncertainty Estimation   30.03766965866089\n"
     ]
    },
    {
     "name": "stderr",
     "output_type": "stream",
     "text": [
      "\n",
      " 88%|████████▊ | 53/60 [26:51<03:31, 30.22s/it]\u001b[A"
     ]
    },
    {
     "name": "stdout",
     "output_type": "stream",
     "text": [
      "\n",
      " Time needed for MC Dropout-based Uncertainty Estimation   30.171940326690674\n"
     ]
    },
    {
     "name": "stderr",
     "output_type": "stream",
     "text": [
      "\n",
      " 90%|█████████ | 54/60 [27:21<03:01, 30.21s/it]\u001b[A"
     ]
    },
    {
     "name": "stdout",
     "output_type": "stream",
     "text": [
      "\n",
      " Time needed for MC Dropout-based Uncertainty Estimation   30.14272665977478\n"
     ]
    },
    {
     "name": "stderr",
     "output_type": "stream",
     "text": [
      "\n",
      " 92%|█████████▏| 55/60 [27:52<02:31, 30.24s/it]\u001b[A"
     ]
    },
    {
     "name": "stdout",
     "output_type": "stream",
     "text": [
      "\n",
      " Time needed for MC Dropout-based Uncertainty Estimation   30.24891448020935\n"
     ]
    },
    {
     "name": "stderr",
     "output_type": "stream",
     "text": [
      "\n",
      " 93%|█████████▎| 56/60 [28:22<02:01, 30.26s/it]\u001b[A"
     ]
    },
    {
     "name": "stdout",
     "output_type": "stream",
     "text": [
      "\n",
      " Time needed for MC Dropout-based Uncertainty Estimation   30.2631516456604\n"
     ]
    },
    {
     "name": "stderr",
     "output_type": "stream",
     "text": [
      "\n",
      " 95%|█████████▌| 57/60 [28:52<01:30, 30.18s/it]\u001b[A"
     ]
    },
    {
     "name": "stdout",
     "output_type": "stream",
     "text": [
      "\n",
      " Time needed for MC Dropout-based Uncertainty Estimation   29.92628812789917\n"
     ]
    },
    {
     "name": "stderr",
     "output_type": "stream",
     "text": [
      "\n",
      " 97%|█████████▋| 58/60 [29:22<01:00, 30.18s/it]\u001b[A"
     ]
    },
    {
     "name": "stdout",
     "output_type": "stream",
     "text": [
      "\n",
      " Time needed for MC Dropout-based Uncertainty Estimation   30.148099899291992\n"
     ]
    },
    {
     "name": "stderr",
     "output_type": "stream",
     "text": [
      "\n",
      " 98%|█████████▊| 59/60 [29:52<00:30, 30.19s/it]\u001b[A"
     ]
    },
    {
     "name": "stdout",
     "output_type": "stream",
     "text": [
      "\n",
      " Time needed for MC Dropout-based Uncertainty Estimation   30.160166263580322\n"
     ]
    },
    {
     "name": "stderr",
     "output_type": "stream",
     "text": [
      "\n",
      "100%|██████████| 60/60 [30:23<00:00, 30.22s/it]\u001b[A\n",
      "  0%|          | 0/10 [00:00<?, ?it/s]\u001b[A"
     ]
    },
    {
     "name": "stdout",
     "output_type": "stream",
     "text": [
      "\n",
      " Time needed for MC Dropout-based Uncertainty Estimation   30.23024320602417\n"
     ]
    },
    {
     "name": "stderr",
     "output_type": "stream",
     "text": [
      "\n",
      " 10%|█         | 1/10 [00:04<00:44,  4.96s/it]\u001b[A"
     ]
    },
    {
     "name": "stdout",
     "output_type": "stream",
     "text": [
      "\n",
      " Time needed for MC Dropout-based Uncertainty Estimation   4.958715915679932\n"
     ]
    },
    {
     "name": "stderr",
     "output_type": "stream",
     "text": [
      "\n",
      " 20%|██        | 2/10 [00:10<00:40,  5.09s/it]\u001b[A"
     ]
    },
    {
     "name": "stdout",
     "output_type": "stream",
     "text": [
      "\n",
      " Time needed for MC Dropout-based Uncertainty Estimation   5.377865314483643\n"
     ]
    },
    {
     "name": "stderr",
     "output_type": "stream",
     "text": [
      "\n",
      " 30%|███       | 3/10 [00:15<00:35,  5.07s/it]\u001b[A"
     ]
    },
    {
     "name": "stdout",
     "output_type": "stream",
     "text": [
      "\n",
      " Time needed for MC Dropout-based Uncertainty Estimation   5.003731966018677\n"
     ]
    },
    {
     "name": "stderr",
     "output_type": "stream",
     "text": [
      "\n",
      " 40%|████      | 4/10 [00:20<00:30,  5.05s/it]\u001b[A"
     ]
    },
    {
     "name": "stdout",
     "output_type": "stream",
     "text": [
      "\n",
      " Time needed for MC Dropout-based Uncertainty Estimation   4.987542152404785\n"
     ]
    },
    {
     "name": "stderr",
     "output_type": "stream",
     "text": [
      "\n",
      " 50%|█████     | 5/10 [00:25<00:25,  5.14s/it]\u001b[A"
     ]
    },
    {
     "name": "stdout",
     "output_type": "stream",
     "text": [
      "\n",
      " Time needed for MC Dropout-based Uncertainty Estimation   5.3497843742370605\n"
     ]
    },
    {
     "name": "stderr",
     "output_type": "stream",
     "text": [
      "\n",
      " 60%|██████    | 6/10 [00:30<00:20,  5.11s/it]\u001b[A"
     ]
    },
    {
     "name": "stdout",
     "output_type": "stream",
     "text": [
      "\n",
      " Time needed for MC Dropout-based Uncertainty Estimation   5.037306070327759\n"
     ]
    },
    {
     "name": "stderr",
     "output_type": "stream",
     "text": [
      "\n",
      " 70%|███████   | 7/10 [00:35<00:15,  5.07s/it]\u001b[A"
     ]
    },
    {
     "name": "stdout",
     "output_type": "stream",
     "text": [
      "\n",
      " Time needed for MC Dropout-based Uncertainty Estimation   4.9550111293792725\n"
     ]
    },
    {
     "name": "stderr",
     "output_type": "stream",
     "text": [
      "\n",
      " 80%|████████  | 8/10 [00:41<00:10,  5.17s/it]\u001b[A"
     ]
    },
    {
     "name": "stdout",
     "output_type": "stream",
     "text": [
      "\n",
      " Time needed for MC Dropout-based Uncertainty Estimation   5.397963523864746\n"
     ]
    },
    {
     "name": "stderr",
     "output_type": "stream",
     "text": [
      "\n",
      " 90%|█████████ | 9/10 [00:46<00:05,  5.11s/it]\u001b[A"
     ]
    },
    {
     "name": "stdout",
     "output_type": "stream",
     "text": [
      "\n",
      " Time needed for MC Dropout-based Uncertainty Estimation   4.963802814483643\n"
     ]
    },
    {
     "name": "stderr",
     "output_type": "stream",
     "text": [
      "\n",
      "100%|██████████| 10/10 [00:51<00:00,  5.06s/it]\u001b[A"
     ]
    },
    {
     "name": "stdout",
     "output_type": "stream",
     "text": [
      "\n",
      " Time needed for MC Dropout-based Uncertainty Estimation   4.940890073776245\n",
      "Model: \"model_2\"\n",
      "_________________________________________________________________\n",
      "Layer (type)                 Output Shape              Param #   \n",
      "=================================================================\n",
      "input (InputLayer)           (None, 400, 400, 30)      0         \n",
      "_________________________________________________________________\n",
      "conv2d_11 (Conv2D)           (None, 400, 400, 32)      8672      \n",
      "_________________________________________________________________\n",
      "batch_normalization_19 (Batc (None, 400, 400, 32)      128       \n",
      "_________________________________________________________________\n",
      "activation_19 (Activation)   (None, 400, 400, 32)      0         \n",
      "_________________________________________________________________\n",
      "conv2d_12 (Conv2D)           (None, 400, 400, 32)      9248      \n",
      "_________________________________________________________________\n",
      "batch_normalization_20 (Batc (None, 400, 400, 32)      128       \n",
      "_________________________________________________________________\n",
      "activation_20 (Activation)   (None, 400, 400, 32)      0         \n",
      "_________________________________________________________________\n",
      "max_pooling2d_5 (MaxPooling2 (None, 200, 200, 32)      0         \n",
      "_________________________________________________________________\n",
      "conv2d_13 (Conv2D)           (None, 200, 200, 64)      18496     \n",
      "_________________________________________________________________\n",
      "batch_normalization_21 (Batc (None, 200, 200, 64)      256       \n",
      "_________________________________________________________________\n",
      "activation_21 (Activation)   (None, 200, 200, 64)      0         \n",
      "_________________________________________________________________\n",
      "conv2d_14 (Conv2D)           (None, 200, 200, 64)      36928     \n",
      "_________________________________________________________________\n",
      "batch_normalization_22 (Batc (None, 200, 200, 64)      256       \n",
      "_________________________________________________________________\n",
      "activation_22 (Activation)   (None, 200, 200, 64)      0         \n",
      "_________________________________________________________________\n",
      "max_pooling2d_6 (MaxPooling2 (None, 100, 100, 64)      0         \n",
      "_________________________________________________________________\n",
      "conv2d_15 (Conv2D)           (None, 100, 100, 128)     73856     \n",
      "_________________________________________________________________\n",
      "batch_normalization_23 (Batc (None, 100, 100, 128)     512       \n",
      "_________________________________________________________________\n",
      "activation_23 (Activation)   (None, 100, 100, 128)     0         \n",
      "_________________________________________________________________\n",
      "conv2d_16 (Conv2D)           (None, 100, 100, 128)     147584    \n",
      "_________________________________________________________________\n",
      "batch_normalization_24 (Batc (None, 100, 100, 128)     512       \n",
      "_________________________________________________________________\n",
      "activation_24 (Activation)   (None, 100, 100, 128)     0         \n",
      "_________________________________________________________________\n",
      "max_pooling2d_7 (MaxPooling2 (None, 50, 50, 128)       0         \n",
      "_________________________________________________________________\n",
      "conv2d_17 (Conv2D)           (None, 50, 50, 256)       295168    \n",
      "_________________________________________________________________\n",
      "batch_normalization_25 (Batc (None, 50, 50, 256)       1024      \n",
      "_________________________________________________________________\n",
      "activation_25 (Activation)   (None, 50, 50, 256)       0         \n",
      "_________________________________________________________________\n",
      "conv2d_18 (Conv2D)           (None, 50, 50, 256)       590080    \n",
      "_________________________________________________________________\n",
      "batch_normalization_26 (Batc (None, 50, 50, 256)       1024      \n",
      "_________________________________________________________________\n",
      "activation_26 (Activation)   (None, 50, 50, 256)       0         \n",
      "_________________________________________________________________\n",
      "global_average_pooling2d_1 ( (None, 256)               0         \n",
      "_________________________________________________________________\n",
      "dense_2 (Dense)              (None, 1)                 257       \n",
      "_________________________________________________________________\n",
      "output (Activation)          (None, 1)                 0         \n",
      "=================================================================\n",
      "Total params: 1,184,129\n",
      "Trainable params: 1,182,209\n",
      "Non-trainable params: 1,920\n",
      "_________________________________________________________________\n",
      "(60, 1)\n",
      "Train on 60 samples, validate on 10 samples\n",
      "Epoch 1/60\n",
      " - 4s - loss: 0.0496 - val_loss: 0.0765\n",
      "\n",
      "Epoch 00001: val_loss improved from inf to 0.07654, saving model to ./trained_models/unet_div8_495K_60_DiceNet.hdf5\n",
      "Epoch 2/60\n",
      " - 2s - loss: 0.0618 - val_loss: 0.0785\n",
      "\n",
      "Epoch 00002: val_loss did not improve from 0.07654\n",
      "Epoch 3/60\n",
      " - 2s - loss: 0.0352 - val_loss: 0.0822\n",
      "\n",
      "Epoch 00003: val_loss did not improve from 0.07654\n",
      "Epoch 4/60\n",
      " - 2s - loss: 0.0331 - val_loss: 0.0885\n",
      "\n",
      "Epoch 00004: val_loss did not improve from 0.07654\n",
      "Epoch 5/60\n",
      " - 2s - loss: 0.0303 - val_loss: 0.1045\n",
      "\n",
      "Epoch 00005: val_loss did not improve from 0.07654\n",
      "Epoch 6/60\n",
      " - 2s - loss: 0.0276 - val_loss: 0.1220\n",
      "\n",
      "Epoch 00006: val_loss did not improve from 0.07654\n",
      "Epoch 7/60\n",
      " - 2s - loss: 0.0294 - val_loss: 0.1473\n",
      "\n",
      "Epoch 00007: val_loss did not improve from 0.07654\n",
      "Epoch 8/60\n",
      " - 2s - loss: 0.0250 - val_loss: 0.1782\n",
      "\n",
      "Epoch 00008: val_loss did not improve from 0.07654\n",
      "Epoch 9/60\n",
      " - 2s - loss: 0.0240 - val_loss: 0.2149\n",
      "\n",
      "Epoch 00009: val_loss did not improve from 0.07654\n",
      "Epoch 10/60\n",
      " - 2s - loss: 0.0211 - val_loss: 0.2483\n",
      "\n",
      "Epoch 00010: val_loss did not improve from 0.07654\n",
      "Epoch 11/60\n",
      " - 2s - loss: 0.0199 - val_loss: 0.2742\n",
      "\n",
      "Epoch 00011: val_loss did not improve from 0.07654\n",
      "Epoch 12/60\n",
      " - 2s - loss: 0.0178 - val_loss: 0.3263\n",
      "\n",
      "Epoch 00012: val_loss did not improve from 0.07654\n",
      "Epoch 13/60\n",
      " - 2s - loss: 0.0170 - val_loss: 0.3689\n",
      "\n",
      "Epoch 00013: val_loss did not improve from 0.07654\n",
      "False\n",
      "False\n",
      "START EVALUATION......:\n",
      "(10, 400, 400, 28)\n",
      "Loading model: ./trained_models/unet_div8_495K_60.hdf5\n"
     ]
    },
    {
     "name": "stderr",
     "output_type": "stream",
     "text": [
      "\n",
      "  0%|          | 0/10 [00:00<?, ?it/s]\u001b[A\n",
      " 10%|█         | 1/10 [00:02<00:21,  2.41s/it]\u001b[A"
     ]
    },
    {
     "name": "stdout",
     "output_type": "stream",
     "text": [
      "\n",
      " Time needed for MC Dropout-based Uncertainty Estimation   2.401470422744751\n"
     ]
    },
    {
     "name": "stderr",
     "output_type": "stream",
     "text": [
      "\n",
      " 20%|██        | 2/10 [00:03<00:16,  2.11s/it]\u001b[A"
     ]
    },
    {
     "name": "stdout",
     "output_type": "stream",
     "text": [
      "\n",
      " Time needed for MC Dropout-based Uncertainty Estimation   1.403346300125122\n"
     ]
    },
    {
     "name": "stderr",
     "output_type": "stream",
     "text": [
      "\n",
      " 30%|███       | 3/10 [00:05<00:13,  1.87s/it]\u001b[A"
     ]
    },
    {
     "name": "stdout",
     "output_type": "stream",
     "text": [
      "\n",
      " Time needed for MC Dropout-based Uncertainty Estimation   1.314305067062378\n"
     ]
    },
    {
     "name": "stderr",
     "output_type": "stream",
     "text": [
      "\n",
      " 40%|████      | 4/10 [00:06<00:10,  1.74s/it]\u001b[A"
     ]
    },
    {
     "name": "stdout",
     "output_type": "stream",
     "text": [
      "\n",
      " Time needed for MC Dropout-based Uncertainty Estimation   1.4045231342315674\n"
     ]
    },
    {
     "name": "stderr",
     "output_type": "stream",
     "text": [
      "\n",
      " 50%|█████     | 5/10 [00:07<00:08,  1.61s/it]\u001b[A"
     ]
    },
    {
     "name": "stdout",
     "output_type": "stream",
     "text": [
      "\n",
      " Time needed for MC Dropout-based Uncertainty Estimation   1.2987229824066162\n"
     ]
    },
    {
     "name": "stderr",
     "output_type": "stream",
     "text": [
      "\n",
      " 60%|██████    | 6/10 [00:09<00:06,  1.55s/it]\u001b[A"
     ]
    },
    {
     "name": "stdout",
     "output_type": "stream",
     "text": [
      "\n",
      " Time needed for MC Dropout-based Uncertainty Estimation   1.3967511653900146\n"
     ]
    },
    {
     "name": "stderr",
     "output_type": "stream",
     "text": [
      "\n",
      " 70%|███████   | 7/10 [00:10<00:04,  1.48s/it]\u001b[A"
     ]
    },
    {
     "name": "stdout",
     "output_type": "stream",
     "text": [
      "\n",
      " Time needed for MC Dropout-based Uncertainty Estimation   1.3012440204620361\n"
     ]
    },
    {
     "name": "stderr",
     "output_type": "stream",
     "text": [
      "\n",
      " 80%|████████  | 8/10 [00:11<00:02,  1.45s/it]\u001b[A"
     ]
    },
    {
     "name": "stdout",
     "output_type": "stream",
     "text": [
      "\n",
      " Time needed for MC Dropout-based Uncertainty Estimation   1.389012098312378\n"
     ]
    },
    {
     "name": "stderr",
     "output_type": "stream",
     "text": [
      "\n",
      " 90%|█████████ | 9/10 [00:13<00:01,  1.41s/it]\u001b[A"
     ]
    },
    {
     "name": "stdout",
     "output_type": "stream",
     "text": [
      "\n",
      " Time needed for MC Dropout-based Uncertainty Estimation   1.3012778759002686\n"
     ]
    },
    {
     "name": "stderr",
     "output_type": "stream",
     "text": [
      "\n",
      "100%|██████████| 10/10 [00:14<00:00,  1.41s/it]\u001b[A"
     ]
    },
    {
     "name": "stdout",
     "output_type": "stream",
     "text": [
      "\n",
      " Time needed for MC Dropout-based Uncertainty Estimation   1.3906526565551758\n",
      "Loading model: ./trained_models/unet_div8_495K_60_DiceNet.hdf5\n",
      "START EVALUATION......:\n",
      "(20, 400, 400, 28)\n",
      "Loading model: ./trained_models/unet_div8_495K_60.hdf5\n"
     ]
    },
    {
     "name": "stderr",
     "output_type": "stream",
     "text": [
      "\n",
      "  0%|          | 0/20 [00:00<?, ?it/s]\u001b[A\n",
      "  5%|▌         | 1/20 [00:04<01:23,  4.42s/it]\u001b[A"
     ]
    },
    {
     "name": "stdout",
     "output_type": "stream",
     "text": [
      "\n",
      " Time needed for MC Dropout-based Uncertainty Estimation   4.4102184772491455\n"
     ]
    },
    {
     "name": "stderr",
     "output_type": "stream",
     "text": [
      "\n",
      " 10%|█         | 2/20 [00:07<01:10,  3.93s/it]\u001b[A"
     ]
    },
    {
     "name": "stdout",
     "output_type": "stream",
     "text": [
      "\n",
      " Time needed for MC Dropout-based Uncertainty Estimation   2.7925567626953125\n"
     ]
    },
    {
     "name": "stderr",
     "output_type": "stream",
     "text": [
      "\n",
      " 15%|█▌        | 3/20 [00:10<01:01,  3.61s/it]\u001b[A"
     ]
    },
    {
     "name": "stdout",
     "output_type": "stream",
     "text": [
      "\n",
      " Time needed for MC Dropout-based Uncertainty Estimation   2.8380329608917236\n"
     ]
    },
    {
     "name": "stderr",
     "output_type": "stream",
     "text": [
      "\n",
      " 20%|██        | 4/20 [00:12<00:54,  3.38s/it]\u001b[A"
     ]
    },
    {
     "name": "stdout",
     "output_type": "stream",
     "text": [
      "\n",
      " Time needed for MC Dropout-based Uncertainty Estimation   2.840973138809204\n"
     ]
    },
    {
     "name": "stderr",
     "output_type": "stream",
     "text": [
      "\n",
      " 25%|██▌       | 5/20 [00:15<00:48,  3.21s/it]\u001b[A"
     ]
    },
    {
     "name": "stdout",
     "output_type": "stream",
     "text": [
      "\n",
      " Time needed for MC Dropout-based Uncertainty Estimation   2.783956527709961\n"
     ]
    },
    {
     "name": "stderr",
     "output_type": "stream",
     "text": [
      "\n",
      " 30%|███       | 6/20 [00:18<00:43,  3.11s/it]\u001b[A"
     ]
    },
    {
     "name": "stdout",
     "output_type": "stream",
     "text": [
      "\n",
      " Time needed for MC Dropout-based Uncertainty Estimation   2.8799800872802734\n"
     ]
    },
    {
     "name": "stderr",
     "output_type": "stream",
     "text": [
      "\n",
      " 35%|███▌      | 7/20 [00:21<00:39,  3.04s/it]\u001b[A"
     ]
    },
    {
     "name": "stdout",
     "output_type": "stream",
     "text": [
      "\n",
      " Time needed for MC Dropout-based Uncertainty Estimation   2.848552703857422\n"
     ]
    },
    {
     "name": "stderr",
     "output_type": "stream",
     "text": [
      "\n",
      " 40%|████      | 8/20 [00:24<00:35,  2.97s/it]\u001b[A"
     ]
    },
    {
     "name": "stdout",
     "output_type": "stream",
     "text": [
      "\n",
      " Time needed for MC Dropout-based Uncertainty Estimation   2.7901298999786377\n"
     ]
    },
    {
     "name": "stderr",
     "output_type": "stream",
     "text": [
      "\n",
      " 45%|████▌     | 9/20 [00:27<00:32,  2.95s/it]\u001b[A"
     ]
    },
    {
     "name": "stdout",
     "output_type": "stream",
     "text": [
      "\n",
      " Time needed for MC Dropout-based Uncertainty Estimation   2.8922388553619385\n"
     ]
    },
    {
     "name": "stderr",
     "output_type": "stream",
     "text": [
      "\n",
      " 50%|█████     | 10/20 [00:30<00:29,  2.93s/it]\u001b[A"
     ]
    },
    {
     "name": "stdout",
     "output_type": "stream",
     "text": [
      "\n",
      " Time needed for MC Dropout-based Uncertainty Estimation   2.8663854598999023\n"
     ]
    },
    {
     "name": "stderr",
     "output_type": "stream",
     "text": [
      "\n",
      " 55%|█████▌    | 11/20 [00:32<00:25,  2.88s/it]\u001b[A"
     ]
    },
    {
     "name": "stdout",
     "output_type": "stream",
     "text": [
      "\n",
      " Time needed for MC Dropout-based Uncertainty Estimation   2.7473058700561523\n"
     ]
    },
    {
     "name": "stderr",
     "output_type": "stream",
     "text": [
      "\n",
      " 60%|██████    | 12/20 [00:35<00:23,  2.88s/it]\u001b[A"
     ]
    },
    {
     "name": "stdout",
     "output_type": "stream",
     "text": [
      "\n",
      " Time needed for MC Dropout-based Uncertainty Estimation   2.858680248260498\n"
     ]
    },
    {
     "name": "stderr",
     "output_type": "stream",
     "text": [
      "\n",
      " 65%|██████▌   | 13/20 [00:38<00:20,  2.88s/it]\u001b[A"
     ]
    },
    {
     "name": "stdout",
     "output_type": "stream",
     "text": [
      "\n",
      " Time needed for MC Dropout-based Uncertainty Estimation   2.8763504028320312\n"
     ]
    },
    {
     "name": "stderr",
     "output_type": "stream",
     "text": [
      "\n",
      " 70%|███████   | 14/20 [00:41<00:16,  2.83s/it]\u001b[A"
     ]
    },
    {
     "name": "stdout",
     "output_type": "stream",
     "text": [
      "\n",
      " Time needed for MC Dropout-based Uncertainty Estimation   2.7117342948913574\n"
     ]
    },
    {
     "name": "stderr",
     "output_type": "stream",
     "text": [
      "\n",
      " 75%|███████▌  | 15/20 [00:44<00:14,  2.86s/it]\u001b[A"
     ]
    },
    {
     "name": "stdout",
     "output_type": "stream",
     "text": [
      "\n",
      " Time needed for MC Dropout-based Uncertainty Estimation   2.900524616241455\n"
     ]
    },
    {
     "name": "stderr",
     "output_type": "stream",
     "text": [
      "\n",
      " 80%|████████  | 16/20 [00:47<00:11,  2.87s/it]\u001b[A"
     ]
    },
    {
     "name": "stdout",
     "output_type": "stream",
     "text": [
      "\n",
      " Time needed for MC Dropout-based Uncertainty Estimation   2.8834478855133057\n"
     ]
    },
    {
     "name": "stderr",
     "output_type": "stream",
     "text": [
      "\n",
      " 85%|████████▌ | 17/20 [00:49<00:08,  2.84s/it]\u001b[A"
     ]
    },
    {
     "name": "stdout",
     "output_type": "stream",
     "text": [
      "\n",
      " Time needed for MC Dropout-based Uncertainty Estimation   2.7692062854766846\n"
     ]
    },
    {
     "name": "stderr",
     "output_type": "stream",
     "text": [
      "\n",
      " 90%|█████████ | 18/20 [00:52<00:05,  2.85s/it]\u001b[A"
     ]
    },
    {
     "name": "stdout",
     "output_type": "stream",
     "text": [
      "\n",
      " Time needed for MC Dropout-based Uncertainty Estimation   2.8536131381988525\n"
     ]
    },
    {
     "name": "stderr",
     "output_type": "stream",
     "text": [
      "\n",
      " 95%|█████████▌| 19/20 [00:55<00:02,  2.86s/it]\u001b[A"
     ]
    },
    {
     "name": "stdout",
     "output_type": "stream",
     "text": [
      "\n",
      " Time needed for MC Dropout-based Uncertainty Estimation   2.863406181335449\n"
     ]
    },
    {
     "name": "stderr",
     "output_type": "stream",
     "text": [
      "\n",
      "100%|██████████| 20/20 [00:58<00:00,  2.83s/it]\u001b[A"
     ]
    },
    {
     "name": "stdout",
     "output_type": "stream",
     "text": [
      "\n",
      " Time needed for MC Dropout-based Uncertainty Estimation   2.7671046257019043\n",
      "START TRAINING......:\n",
      "Training with 60 images\n",
      "Validating with 10 images\n",
      "Training Unet-mcdropout\n",
      "(60, 400, 400, 28)\n",
      "Epoch 1/80\n",
      " - 8s - loss: 0.7040 - accuracy: 0.6330 - val_loss: 0.5758 - val_accuracy: 0.8437\n",
      "\n",
      "Epoch 00001: val_loss improved from inf to 0.57582, saving model to ./trained_models/unet_div8_495K_60.hdf5\n",
      "Epoch 2/80\n",
      " - 6s - loss: 0.5432 - accuracy: 0.8844 - val_loss: 0.5408 - val_accuracy: 0.8784\n",
      "\n",
      "Epoch 00002: val_loss improved from 0.57582 to 0.54075, saving model to ./trained_models/unet_div8_495K_60.hdf5\n",
      "Epoch 3/80\n",
      " - 7s - loss: 0.4655 - accuracy: 0.8953 - val_loss: 0.5605 - val_accuracy: 0.8833\n",
      "\n",
      "Epoch 00003: val_loss did not improve from 0.54075\n",
      "Epoch 4/80\n",
      " - 7s - loss: 0.4185 - accuracy: 0.8992 - val_loss: 0.5582 - val_accuracy: 0.8848\n",
      "\n",
      "Epoch 00004: val_loss did not improve from 0.54075\n",
      "Epoch 5/80\n",
      " - 10s - loss: 0.3930 - accuracy: 0.8990 - val_loss: 0.5276 - val_accuracy: 0.8848\n",
      "\n",
      "Epoch 00005: val_loss improved from 0.54075 to 0.52763, saving model to ./trained_models/unet_div8_495K_60.hdf5\n",
      "Epoch 6/80\n",
      " - 10s - loss: 0.3773 - accuracy: 0.8990 - val_loss: 0.4988 - val_accuracy: 0.8848\n",
      "\n",
      "Epoch 00006: val_loss improved from 0.52763 to 0.49878, saving model to ./trained_models/unet_div8_495K_60.hdf5\n",
      "Epoch 7/80\n",
      " - 10s - loss: 0.3646 - accuracy: 0.8990 - val_loss: 0.4688 - val_accuracy: 0.8848\n",
      "\n",
      "Epoch 00007: val_loss improved from 0.49878 to 0.46878, saving model to ./trained_models/unet_div8_495K_60.hdf5\n",
      "Epoch 8/80\n",
      " - 9s - loss: 0.3543 - accuracy: 0.8992 - val_loss: 0.4511 - val_accuracy: 0.8848\n",
      "\n",
      "Epoch 00008: val_loss improved from 0.46878 to 0.45107, saving model to ./trained_models/unet_div8_495K_60.hdf5\n",
      "Epoch 9/80\n",
      " - 9s - loss: 0.3369 - accuracy: 0.8990 - val_loss: 0.4933 - val_accuracy: 0.8775\n",
      "\n",
      "Epoch 00009: val_loss did not improve from 0.45107\n",
      "Epoch 10/80\n",
      " - 7s - loss: 0.3209 - accuracy: 0.8984 - val_loss: 0.4256 - val_accuracy: 0.8848\n",
      "\n",
      "Epoch 00010: val_loss improved from 0.45107 to 0.42562, saving model to ./trained_models/unet_div8_495K_60.hdf5\n",
      "Epoch 11/80\n",
      " - 8s - loss: 0.3017 - accuracy: 0.8997 - val_loss: 0.5045 - val_accuracy: 0.8429\n",
      "\n",
      "Epoch 00011: val_loss did not improve from 0.42562\n",
      "Epoch 12/80\n",
      " - 7s - loss: 0.2903 - accuracy: 0.8984 - val_loss: 0.6182 - val_accuracy: 0.7750\n",
      "\n",
      "Epoch 00012: val_loss did not improve from 0.42562\n",
      "Epoch 13/80\n",
      " - 8s - loss: 0.2756 - accuracy: 0.8994 - val_loss: 0.5470 - val_accuracy: 0.8216\n",
      "\n",
      "Epoch 00013: val_loss did not improve from 0.42562\n",
      "Epoch 14/80\n",
      " - 9s - loss: 0.2678 - accuracy: 0.8990 - val_loss: 0.3986 - val_accuracy: 0.8690\n",
      "\n",
      "Epoch 00014: val_loss improved from 0.42562 to 0.39855, saving model to ./trained_models/unet_div8_495K_60.hdf5\n",
      "Epoch 15/80\n",
      " - 9s - loss: 0.2659 - accuracy: 0.8998 - val_loss: 0.2731 - val_accuracy: 0.8948\n",
      "\n",
      "Epoch 00015: val_loss improved from 0.39855 to 0.27314, saving model to ./trained_models/unet_div8_495K_60.hdf5\n",
      "Epoch 16/80\n",
      " - 7s - loss: 0.2569 - accuracy: 0.8993 - val_loss: 0.3878 - val_accuracy: 0.8791\n",
      "\n",
      "Epoch 00016: val_loss did not improve from 0.27314\n",
      "Epoch 17/80\n",
      " - 7s - loss: 0.2479 - accuracy: 0.8993 - val_loss: 0.3982 - val_accuracy: 0.8521\n",
      "\n",
      "Epoch 00017: val_loss did not improve from 0.27314\n",
      "Epoch 18/80\n",
      " - 8s - loss: 0.2441 - accuracy: 0.8995 - val_loss: 0.3468 - val_accuracy: 0.8807\n",
      "\n",
      "Epoch 00018: val_loss did not improve from 0.27314\n",
      "Epoch 19/80\n",
      " - 8s - loss: 0.2384 - accuracy: 0.8987 - val_loss: 0.2689 - val_accuracy: 0.8898\n",
      "\n",
      "Epoch 00019: val_loss improved from 0.27314 to 0.26887, saving model to ./trained_models/unet_div8_495K_60.hdf5\n",
      "Epoch 20/80\n",
      " - 9s - loss: 0.2349 - accuracy: 0.8992 - val_loss: 0.2973 - val_accuracy: 0.8860\n",
      "\n",
      "Epoch 00020: val_loss did not improve from 0.26887\n",
      "Epoch 21/80\n",
      " - 8s - loss: 0.2275 - accuracy: 0.8990 - val_loss: 0.3336 - val_accuracy: 0.8819\n",
      "\n",
      "Epoch 00021: val_loss did not improve from 0.26887\n",
      "Epoch 22/80\n",
      " - 9s - loss: 0.2283 - accuracy: 0.9004 - val_loss: 0.3061 - val_accuracy: 0.8961\n",
      "\n",
      "Epoch 00022: val_loss did not improve from 0.26887\n",
      "Epoch 23/80\n",
      " - 9s - loss: 0.2228 - accuracy: 0.8993 - val_loss: 0.2684 - val_accuracy: 0.8946\n",
      "\n",
      "Epoch 00023: val_loss improved from 0.26887 to 0.26843, saving model to ./trained_models/unet_div8_495K_60.hdf5\n",
      "Epoch 24/80\n",
      " - 8s - loss: 0.2176 - accuracy: 0.8989 - val_loss: 0.3441 - val_accuracy: 0.8696\n",
      "\n",
      "Epoch 00024: val_loss did not improve from 0.26843\n",
      "Epoch 25/80\n",
      " - 8s - loss: 0.2184 - accuracy: 0.9005 - val_loss: 0.2244 - val_accuracy: 0.9143\n",
      "\n",
      "Epoch 00025: val_loss improved from 0.26843 to 0.22437, saving model to ./trained_models/unet_div8_495K_60.hdf5\n",
      "Epoch 26/80\n",
      " - 9s - loss: 0.2178 - accuracy: 0.9003 - val_loss: 0.2365 - val_accuracy: 0.9079\n",
      "\n",
      "Epoch 00026: val_loss did not improve from 0.22437\n",
      "Epoch 27/80\n",
      " - 8s - loss: 0.2092 - accuracy: 0.9016 - val_loss: 0.2657 - val_accuracy: 0.8987\n",
      "\n",
      "Epoch 00027: val_loss did not improve from 0.22437\n",
      "Epoch 28/80\n"
     ]
    }
   ],
   "source": [
    "run_random(5,5,Ndatapoints = 10) # run_random(Nmodels,Ndata,Ndatapoints)"
   ]
  },
  {
   "cell_type": "code",
   "execution_count": null,
   "metadata": {},
   "outputs": [],
   "source": [
    "run_sug(5,5,X_ts.shape[0]) # run_sg(Nmodels,Ndata,Ndatapoints)"
   ]
  },
  {
   "cell_type": "code",
   "execution_count": 20,
   "metadata": {},
   "outputs": [],
   "source": [
    "Nmodels = 5 #number of models trained\n",
    "Ndata= 5 #number of modes(percentages%)\n",
    "Ndatapoints = 10 #number of datapoints in the test set\n",
    "dice={}\n",
    "import json\n",
    "with open('dice_msot_rand.json') as json_file:\n",
    "    dice_rand = json.load(json_file)\n",
    "with open('dice_msot_sg.json') as json_file:\n",
    "    dice_sg = json.load(json_file)"
   ]
  },
  {
   "cell_type": "code",
   "execution_count": 21,
   "metadata": {},
   "outputs": [],
   "source": [
    "X_rand = np.zeros((Ndatapoints*Nmodels,Ndata),dtype='float') #initialize to zeros\n",
    "X_sg = np.zeros((Ndatapoints*Nmodels,Ndata),dtype='float') #initialize to zeros\n",
    "\n",
    "for d in range(1,Ndata+1):\n",
    "    for m in range(Ndatapoints*Nmodels):\n",
    "        X_rand[m,d-1] = dice_rand['%s'%d][m]\n",
    "for d in range(1,Ndata+1):\n",
    "    for m in range(Ndatapoints*Nmodels):\n",
    "        X_sg[m,d-1] = dice_sg['%s'%d][m]      "
   ]
  },
  {
   "cell_type": "code",
   "execution_count": 22,
   "metadata": {
    "collapsed": true
   },
   "outputs": [
    {
     "data": {
      "image/png": "[encoded data removed]",
      "text/plain": [
       "<Figure size 1440x288 with 1 Axes>"
      ]
     },
     "metadata": {
      "needs_background": "light"
     },
     "output_type": "display_data"
    },
    {
     "data": {
      "image/png": "[encoded data removed]",
      "text/plain": [
       "<Figure size 1440x288 with 1 Axes>"
      ]
     },
     "metadata": {
      "needs_background": "light"
     },
     "output_type": "display_data"
    }
   ],
   "source": [
    "generate_plot(X_rand,X_sg,Ndata)"
   ]
  },
  {
   "cell_type": "code",
   "execution_count": null,
   "metadata": {},
   "outputs": [],
   "source": []
  }
 ],
 "metadata": {
  "accelerator": "GPU",
  "colab": {
   "collapsed_sections": [],
   "name": "MSOT.ipynb",
   "provenance": []
  },
  "kernelspec": {
   "display_name": "Python 3",
   "language": "python",
   "name": "python3"
  },
  "language_info": {
   "codemirror_mode": {
    "name": "ipython",
    "version": 3
   },
   "file_extension": ".py",
   "mimetype": "text/x-python",
   "name": "python",
   "nbconvert_exporter": "python",
   "pygments_lexer": "ipython3",
   "version": "3.7.3"
  }
 },
 "nbformat": 4,
 "nbformat_minor": 1
}
